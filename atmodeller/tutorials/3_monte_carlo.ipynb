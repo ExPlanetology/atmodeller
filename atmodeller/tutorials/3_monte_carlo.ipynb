{
 "cells": [
  {
   "attachments": {},
   "cell_type": "markdown",
   "metadata": {},
   "source": [
    "# atmodeller\n",
    "\n",
    "## Tutorial 3: Monte Carlo experiment\n",
    "\n",
    "We can devise a simple Monte Carlo approach to sample the probable atmospheres that can arise for different planetary conditions."
   ]
  },
  {
   "cell_type": "code",
   "execution_count": 20,
   "metadata": {},
   "outputs": [],
   "source": [
    "from atmodeller import InteriorAtmosphereSystem, Molecule, Planet, OCEAN_MOLES, SystemConstraint\n",
    "from atmodeller.thermodynamics import PeridotiteH2O, NoSolubility, BasaltDixonCO2, MolarMasses\n",
    "import numpy as np"
   ]
  },
  {
   "cell_type": "code",
   "execution_count": 21,
   "metadata": {},
   "outputs": [
    {
     "name": "stderr",
     "output_type": "stream",
     "text": [
      "16:29:59 - atmodeller.core      - INFO      - Creating a new molecule: H2O\n",
      "16:29:59 - atmodeller.core      - INFO      - Creating a new molecule: H2\n",
      "16:29:59 - atmodeller.core      - INFO      - Creating a new molecule: O2\n",
      "16:29:59 - atmodeller.core      - INFO      - Creating a new molecule: CO\n",
      "16:29:59 - atmodeller.core      - INFO      - Creating a new molecule: CO2\n"
     ]
    },
    {
     "data": {
      "text/plain": [
       "[Molecule(name='H2O', solubility=<atmodeller.thermodynamics.PeridotiteH2O object at 0x11c783f10>, solid_melt_distribution_coefficient=0, elements={'H': 2, 'O': 1}, element_masses={'H': 0.0020158, 'O': 0.0159994}, formation_constants=(-3.0385132352941198, 13152.698529411768), molar_mass=0.018015200000000002),\n",
       " Molecule(name='H2', solubility=<atmodeller.thermodynamics.NoSolubility object at 0x11c7365d0>, solid_melt_distribution_coefficient=0, elements={'H': 2}, element_masses={'H': 0.0020158}, formation_constants=(0, 0), molar_mass=0.0020158),\n",
       " Molecule(name='O2', solubility=<atmodeller.thermodynamics.NoSolubility object at 0x11c312d10>, solid_melt_distribution_coefficient=0, elements={'O': 2}, element_masses={'O': 0.0319988}, formation_constants=(0, 0), molar_mass=0.0319988),\n",
       " Molecule(name='CO', solubility=<atmodeller.thermodynamics.NoSolubility object at 0x11c73ac50>, solid_melt_distribution_coefficient=0, elements={'C': 1, 'O': 1}, element_masses={'C': 0.0120107, 'O': 0.0159994}, formation_constants=(4.319860294117643, 6286.120588235306), molar_mass=0.0280101),\n",
       " Molecule(name='CO2', solubility=<atmodeller.thermodynamics.BasaltDixonCO2 object at 0x11c713110>, solid_melt_distribution_coefficient=0, elements={'C': 1, 'O': 2}, element_masses={'C': 0.0120107, 'O': 0.0319988}, formation_constants=(-0.028289705882357442, 20753.870588235302), molar_mass=0.0440095)]"
      ]
     },
     "execution_count": 21,
     "metadata": {},
     "output_type": "execute_result"
    }
   ],
   "source": [
    "molecules: list[Molecule] = []\n",
    "molecules.append(Molecule(name='H2O', solubility=PeridotiteH2O(), solid_melt_distribution_coefficient=0))\n",
    "molecules.append(Molecule(name='H2', solubility=NoSolubility(), solid_melt_distribution_coefficient=0))\n",
    "molecules.append(Molecule(name='O2', solubility=NoSolubility(), solid_melt_distribution_coefficient=0))\n",
    "molecules.append(Molecule(name='CO', solubility=NoSolubility(), solid_melt_distribution_coefficient=0))\n",
    "molecules.append(Molecule(name='CO2', solubility=BasaltDixonCO2(), solid_melt_distribution_coefficient=0))\n",
    "molecules"
   ]
  },
  {
   "cell_type": "code",
   "execution_count": 22,
   "metadata": {},
   "outputs": [
    {
     "name": "stderr",
     "output_type": "stream",
     "text": [
      "16:29:59 - atmodeller.core      - INFO      - Creating a new planet\n",
      "16:29:59 - atmodeller.core      - INFO      - Mantle mass (kg) = 4.208261222595111e+24\n",
      "16:29:59 - atmodeller.core      - INFO      - Mantle melt fraction = 1.0\n",
      "16:29:59 - atmodeller.core      - INFO      - Core mass fraction = 0.295334691460966\n",
      "16:29:59 - atmodeller.core      - INFO      - Planetary radius (m) = 6371000.0\n",
      "16:29:59 - atmodeller.core      - INFO      - Planetary mass (kg) = 5.972e+24\n",
      "16:29:59 - atmodeller.core      - INFO      - Surface temperature (K) = 2000.000000\n",
      "16:29:59 - atmodeller.core      - INFO      - Surface gravity (m/s^2) = 9.819973426224687\n",
      "16:29:59 - atmodeller.core      - INFO      - Oxygen fugacity model (mantle) = IronWustiteBufferOneill\n",
      "16:29:59 - atmodeller.core      - INFO      - Oxygen fugacity log10 shift = 0.000000\n",
      "16:29:59 - atmodeller.core      - INFO      - Creating a new interior-atmosphere system\n",
      "16:29:59 - atmodeller.core      - INFO      - Molecules = ['CO', 'H2', 'O2', 'CO2', 'H2O']\n",
      "16:29:59 - atmodeller.core      - INFO      - Molecules = ['CO', 'H2', 'O2', 'CO2', 'H2O']\n",
      "16:29:59 - atmodeller.core      - INFO      - Reactions = \n",
      "{0: '1.0 CO + 0.5 O2 = 1.0 CO2', 1: '1.0 H2 + 0.5 O2 = 1.0 H2O'}\n"
     ]
    }
   ],
   "source": [
    "planet: Planet = Planet()\n",
    "interior_atmosphere: InteriorAtmosphereSystem = InteriorAtmosphereSystem(molecules=molecules, planet=planet)"
   ]
  },
  {
   "cell_type": "code",
   "execution_count": 23,
   "metadata": {},
   "outputs": [
    {
     "name": "stderr",
     "output_type": "stream",
     "text": [
      "16:29:59 - atmodeller.core      - INFO      - Constraints: [SystemConstraint(species='H', value=3.723432469375954e+20, field='mass'),\n",
      " SystemConstraint(species='C', value=2.6092299668020645e+20, field='mass')]\n",
      "16:29:59 - atmodeller.core      - INFO      - Mixed pressure and mass constraints so attempting to solve a non-linear system of equations\n",
      "16:29:59 - atmodeller.core      - INFO      - Adding fO2 as an additional constraint using IronWustiteBufferOneill with fO2_shift = 1.99\n",
      "16:29:59 - atmodeller.core      - INFO      - 2 additional (not pressure) constraint(s) are necessary to solve the system\n",
      "16:29:59 - atmodeller.core      - INFO      - Row 00: Reaction 0: 1.0 CO + 0.5 O2 = 1.0 CO2\n",
      "16:29:59 - atmodeller.core      - INFO      - Row 01: Reaction 1: 1.0 H2 + 0.5 O2 = 1.0 H2O\n",
      "16:29:59 - atmodeller.core      - INFO      - Row 02: Setting O2 partial pressure\n",
      "16:29:59 - atmodeller.core      - INFO      - Adding constraint from mass balance: H\n",
      "16:29:59 - atmodeller.core      - INFO      - Adding constraint from mass balance: C\n",
      "16:29:59 - atmodeller.core      - INFO      - The solution converged.\n",
      "16:29:59 - atmodeller.core      - INFO      - Number of function calls = 32\n",
      "16:29:59 - atmodeller.core      - INFO      - Final objective function evaluation = [ 0.00000000e+00  0.00000000e+00  0.00000000e+00 -2.64014457e-15\n",
      "  1.85614548e-13]\n",
      "16:29:59 - atmodeller.core      - INFO      - {'CO': 52.44161304176824,\n",
      " 'CO2': 78.79186625815697,\n",
      " 'H2': 0.3239052107650134,\n",
      " 'H2O': 2.184410773322142,\n",
      " 'O2': 3.820856184470401e-06}\n",
      "16:29:59 - atmodeller.core      - INFO      - Constraints: [SystemConstraint(species='H', value=1.485900081141922e+21, field='mass'),\n",
      " SystemConstraint(species='C', value=9.82338502234134e+20, field='mass')]\n",
      "16:29:59 - atmodeller.core      - INFO      - Mixed pressure and mass constraints so attempting to solve a non-linear system of equations\n",
      "16:29:59 - atmodeller.core      - INFO      - Adding fO2 as an additional constraint using IronWustiteBufferOneill with fO2_shift = -0.58\n",
      "16:29:59 - atmodeller.core      - INFO      - 2 additional (not pressure) constraint(s) are necessary to solve the system\n",
      "16:29:59 - atmodeller.core      - INFO      - Row 00: Reaction 0: 1.0 CO + 0.5 O2 = 1.0 CO2\n",
      "16:29:59 - atmodeller.core      - INFO      - Row 01: Reaction 1: 1.0 H2 + 0.5 O2 = 1.0 H2O\n",
      "16:29:59 - atmodeller.core      - INFO      - Row 02: Setting O2 partial pressure\n",
      "16:29:59 - atmodeller.core      - INFO      - Adding constraint from mass balance: H\n",
      "16:29:59 - atmodeller.core      - INFO      - Adding constraint from mass balance: C\n",
      "16:29:59 - atmodeller.core      - INFO      - The solution converged.\n",
      "16:29:59 - atmodeller.core      - INFO      - Number of function calls = 34\n",
      "16:29:59 - atmodeller.core      - INFO      - Final objective function evaluation = [ 0.00000000e+00  4.44089210e-16  0.00000000e+00  9.83600083e-12\n",
      " -1.74423135e-11]\n",
      "16:29:59 - atmodeller.core      - INFO      - {'CO': 335.1656506083731,\n",
      " 'CO2': 26.17183678884906,\n",
      " 'H2': 92.25448099074877,\n",
      " 'H2O': 32.33502484687907,\n",
      " 'O2': 1.0320468183986398e-08}\n"
     ]
    }
   ],
   "source": [
    "number_of_realisations: int = 2\n",
    "\n",
    "# Parameters are normally distributed between bounds.\n",
    "number_ocean_moles: np.ndarray = np.random.uniform(1, 10, number_of_realisations)\n",
    "ch_ratios: np.ndarray = np.random.uniform(0.1, 1, number_of_realisations)\n",
    "fo2_shifts: np.ndarray = np.random.uniform(-4, 4, number_of_realisations)\n",
    "\n",
    "# Store the output in a list.\n",
    "out: list[dict[str, float]] = []\n",
    "\n",
    "for realisation in range(number_of_realisations):\n",
    "\n",
    "    mass_H: float = number_ocean_moles[realisation] * OCEAN_MOLES * MolarMasses().H2\n",
    "    mass_C: float = ch_ratios[realisation] * mass_H\n",
    "    constraints: list[SystemConstraint] = [\n",
    "        SystemConstraint(species=\"H\", value=mass_H, field=\"mass\"),\n",
    "        SystemConstraint(species=\"C\", value=mass_C, field=\"mass\"),\n",
    "    ]\n",
    "    # Recall that changing attributes on the planet 'object' will be 'seen' by interior_atmosphere.\n",
    "    planet.fo2_shift = fo2_shifts[realisation]\n",
    "    interior_atmosphere.solve(constraints, fo2_constraint=True)\n",
    "    out_realisation = interior_atmosphere.pressures_dict.copy()\n",
    "\n",
    "    # Include the parameters in the output.\n",
    "    out_realisation['number_ocean_moles'] = number_ocean_moles[realisation]\n",
    "    out_realisation['ch_ratio'] = ch_ratios[realisation]\n",
    "    out_realisation['fo2_shift'] = planet.fo2_shift\n",
    "\n",
    "    out.append(out_realisation)"
   ]
  },
  {
   "attachments": {},
   "cell_type": "markdown",
   "metadata": {},
   "source": [
    "The simulation data is output as:"
   ]
  },
  {
   "cell_type": "code",
   "execution_count": 24,
   "metadata": {},
   "outputs": [
    {
     "data": {
      "text/plain": [
       "[{'CO': 52.44161304176824,\n",
       "  'H2': 0.3239052107650134,\n",
       "  'O2': 3.820856184470401e-06,\n",
       "  'CO2': 78.79186625815697,\n",
       "  'H2O': 2.184410773322142,\n",
       "  'number_ocean_moles': 2.4023098318015412,\n",
       "  'ch_ratio': 0.7007593096590713,\n",
       "  'fo2_shift': 1.989984533453283},\n",
       " {'CO': 335.1656506083731,\n",
       "  'H2': 92.25448099074877,\n",
       "  'O2': 1.0320468183986398e-08,\n",
       "  'CO2': 26.17183678884906,\n",
       "  'H2O': 32.33502484687907,\n",
       "  'number_ocean_moles': 9.586832588910118,\n",
       "  'ch_ratio': 0.6611067020598059,\n",
       "  'fo2_shift': -0.5784767585319255}]"
      ]
     },
     "execution_count": 24,
     "metadata": {},
     "output_type": "execute_result"
    }
   ],
   "source": [
    "out"
   ]
  }
 ],
 "metadata": {
  "kernelspec": {
   "display_name": ".venv",
   "language": "python",
   "name": "python3"
  },
  "language_info": {
   "codemirror_mode": {
    "name": "ipython",
    "version": 3
   },
   "file_extension": ".py",
   "mimetype": "text/x-python",
   "name": "python",
   "nbconvert_exporter": "python",
   "pygments_lexer": "ipython3",
   "version": "3.11.3"
  },
  "orig_nbformat": 4
 },
 "nbformat": 4,
 "nbformat_minor": 2
}
