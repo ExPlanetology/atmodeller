{
 "cells": [
  {
   "attachments": {},
   "cell_type": "markdown",
   "metadata": {},
   "source": [
    "# atmodeller\n",
    "\n",
    "## Tutorial 3: Monte Carlo experiment\n",
    "\n",
    "We can devise a simple Monte Carlo approach to sample the probable atmospheres that can arise for different planetary conditions."
   ]
  },
  {
   "cell_type": "code",
   "execution_count": 1,
   "metadata": {},
   "outputs": [
    {
     "name": "stderr",
     "output_type": "stream",
     "text": [
      "12:03:23 - atmodeller           - INFO      - atmodeller version 0.1.0\n"
     ]
    }
   ],
   "source": [
    "from atmodeller import InteriorAtmosphereSystem, Molecule, Planet, OCEAN_MOLES, SystemConstraint\n",
    "from atmodeller.thermodynamics import PeridotiteH2O, NoSolubility, BasaltDixonCO2, LibourelN2, MolarMasses\n",
    "import numpy as np\n",
    "import csv"
   ]
  },
  {
   "cell_type": "code",
   "execution_count": 2,
   "metadata": {},
   "outputs": [
    {
     "name": "stderr",
     "output_type": "stream",
     "text": [
      "12:03:23 - atmodeller.core      - INFO      - Creating a molecule: H2O\n",
      "12:03:23 - atmodeller.core      - INFO      - Creating a molecule: H2\n",
      "12:03:23 - atmodeller.core      - INFO      - Creating a molecule: O2\n",
      "12:03:23 - atmodeller.core      - INFO      - Creating a molecule: CO\n",
      "12:03:23 - atmodeller.core      - INFO      - Creating a molecule: CO2\n",
      "12:03:23 - atmodeller.core      - INFO      - Creating a molecule: N2\n"
     ]
    },
    {
     "data": {
      "text/plain": [
       "[Molecule(name='H2O', solubility=<atmodeller.thermodynamics.PeridotiteH2O object at 0x1265635d0>, solid_melt_distribution_coefficient=0, elements={'H': 2, 'O': 1}, element_masses={'H': 0.0020158, 'O': 0.0159994}, formation_constants=(-3.0385132352941198, 13152.698529411768), molar_mass=0.018015200000000002),\n",
       " Molecule(name='H2', solubility=<atmodeller.thermodynamics.NoSolubility object at 0x115308ad0>, solid_melt_distribution_coefficient=0, elements={'H': 2}, element_masses={'H': 0.0020158}, formation_constants=(0, 0), molar_mass=0.0020158),\n",
       " Molecule(name='O2', solubility=<atmodeller.thermodynamics.NoSolubility object at 0x1152fa190>, solid_melt_distribution_coefficient=0, elements={'O': 2}, element_masses={'O': 0.0319988}, formation_constants=(0, 0), molar_mass=0.0319988),\n",
       " Molecule(name='CO', solubility=<atmodeller.thermodynamics.NoSolubility object at 0x125d55690>, solid_melt_distribution_coefficient=0, elements={'C': 1, 'O': 1}, element_masses={'C': 0.0120107, 'O': 0.0159994}, formation_constants=(4.319860294117643, 6286.120588235306), molar_mass=0.0280101),\n",
       " Molecule(name='CO2', solubility=<atmodeller.thermodynamics.BasaltDixonCO2 object at 0x125d3d2d0>, solid_melt_distribution_coefficient=0, elements={'C': 1, 'O': 2}, element_masses={'C': 0.0120107, 'O': 0.0319988}, formation_constants=(-0.028289705882357442, 20753.870588235302), molar_mass=0.0440095),\n",
       " Molecule(name='N2', solubility=<atmodeller.thermodynamics.LibourelN2 object at 0x125d3c050>, solid_melt_distribution_coefficient=0, elements={'N': 2}, element_masses={'N': 0.0280134}, formation_constants=(0, 0), molar_mass=0.0280134)]"
      ]
     },
     "execution_count": 2,
     "metadata": {},
     "output_type": "execute_result"
    }
   ],
   "source": [
    "molecules: list[Molecule] = []\n",
    "molecules.append(Molecule(name='H2O', solubility=PeridotiteH2O(), solid_melt_distribution_coefficient=0))\n",
    "molecules.append(Molecule(name='H2', solubility=NoSolubility(), solid_melt_distribution_coefficient=0))\n",
    "molecules.append(Molecule(name='O2', solubility=NoSolubility(), solid_melt_distribution_coefficient=0))\n",
    "molecules.append(Molecule(name='CO', solubility=NoSolubility(), solid_melt_distribution_coefficient=0))\n",
    "molecules.append(Molecule(name='CO2', solubility=BasaltDixonCO2(), solid_melt_distribution_coefficient=0))\n",
    "molecules.append(Molecule(name='N2', solubility=LibourelN2(), solid_melt_distribution_coefficient=0))\n",
    "molecules"
   ]
  },
  {
   "cell_type": "code",
   "execution_count": 3,
   "metadata": {},
   "outputs": [
    {
     "name": "stderr",
     "output_type": "stream",
     "text": [
      "12:03:23 - atmodeller.core      - INFO      - Creating a new planet\n",
      "12:03:23 - atmodeller.core      - INFO      - Mantle mass (kg) = 4.208261222595111e+24\n",
      "12:03:23 - atmodeller.core      - INFO      - Mantle melt fraction = 1.0\n",
      "12:03:23 - atmodeller.core      - INFO      - Core mass fraction = 0.295334691460966\n",
      "12:03:23 - atmodeller.core      - INFO      - Planetary radius (m) = 6371000.0\n",
      "12:03:23 - atmodeller.core      - INFO      - Planetary mass (kg) = 5.972e+24\n",
      "12:03:23 - atmodeller.core      - INFO      - Surface temperature (K) = 2000.000000\n",
      "12:03:23 - atmodeller.core      - INFO      - Surface gravity (m/s^2) = 9.819973426224687\n",
      "12:03:23 - atmodeller.core      - INFO      - Oxygen fugacity model (mantle) = IronWustiteBufferOneill\n",
      "12:03:23 - atmodeller.core      - INFO      - Oxygen fugacity log10 shift = 0.000000\n",
      "12:03:23 - atmodeller.core      - INFO      - Creating a new interior-atmosphere system\n",
      "12:03:23 - atmodeller.core      - INFO      - Molecules = ['CO', 'H2', 'N2', 'O2', 'CO2', 'H2O']\n",
      "12:03:23 - atmodeller.core      - INFO      - Molecules = ['CO', 'H2', 'N2', 'O2', 'CO2', 'H2O']\n",
      "12:03:23 - atmodeller.core      - INFO      - Reactions = \n",
      "{0: '1.0 CO + 0.5 O2 = 1.0 CO2', 1: '1.0 H2 + 0.5 O2 = 1.0 H2O'}\n"
     ]
    }
   ],
   "source": [
    "planet: Planet = Planet()\n",
    "interior_atmosphere: InteriorAtmosphereSystem = InteriorAtmosphereSystem(molecules=molecules, planet=planet)"
   ]
  },
  {
   "cell_type": "code",
   "execution_count": 4,
   "metadata": {},
   "outputs": [
    {
     "name": "stderr",
     "output_type": "stream",
     "text": [
      "12:03:23 - atmodeller.core      - INFO      - Constraints: [SystemConstraint(species='H', value=6.312373681146521e+20, field='mass'),\n",
      " SystemConstraint(species='C', value=4.2263427944109664e+20, field='mass'),\n",
      " SystemConstraint(species='N', value=1.178313142326631e+19, field='mass')]\n",
      "12:03:23 - atmodeller.core      - INFO      - Mixed pressure and mass constraints so attempting to solve a non-linear system of equations\n",
      "12:03:23 - atmodeller.core      - INFO      - Adding fO2 as an additional constraint using IronWustiteBufferOneill with fO2_shift = 3.91\n",
      "12:03:23 - atmodeller.core      - INFO      - 3 additional (not pressure) constraint(s) are necessary to solve the system\n",
      "12:03:23 - atmodeller.core      - INFO      - Row 00: Reaction 0: 1.0 CO + 0.5 O2 = 1.0 CO2\n",
      "12:03:23 - atmodeller.core      - INFO      - Row 01: Reaction 1: 1.0 H2 + 0.5 O2 = 1.0 H2O\n",
      "12:03:23 - atmodeller.core      - INFO      - Row 02: Setting O2 partial pressure\n",
      "12:03:23 - atmodeller.core      - INFO      - Adding constraint from mass balance: H\n",
      "12:03:23 - atmodeller.core      - INFO      - Adding constraint from mass balance: C\n",
      "12:03:23 - atmodeller.core      - INFO      - Adding constraint from mass balance: N\n",
      "12:03:23 - atmodeller.core      - INFO      - The solution converged.\n",
      "12:03:23 - atmodeller.core      - INFO      - Number of function calls = 34\n",
      "12:03:23 - atmodeller.core      - INFO      - Final objective function evaluation = [ 0.00000000e+00  4.44089210e-16  0.00000000e+00 -5.35718855e-13\n",
      " -1.26636885e-10 -7.90356151e-12]\n",
      "12:03:23 - atmodeller.core      - INFO      - {'CO': 14.643843749066628,\n",
      " 'CO2': 200.86656379467922,\n",
      " 'H2': 0.1018423916951978,\n",
      " 'H2O': 6.2703557769594696,\n",
      " 'N2': 3.1661955828993826,\n",
      " 'O2': 0.0003184601738388703}\n",
      "12:03:23 - atmodeller.core      - INFO      - Constraints: [SystemConstraint(species='H', value=6.29438399423076e+20, field='mass'),\n",
      " SystemConstraint(species='C', value=3.315803955505119e+20, field='mass'),\n",
      " SystemConstraint(species='N', value=1.178313142326631e+19, field='mass')]\n",
      "12:03:23 - atmodeller.core      - INFO      - Mixed pressure and mass constraints so attempting to solve a non-linear system of equations\n",
      "12:03:23 - atmodeller.core      - INFO      - Adding fO2 as an additional constraint using IronWustiteBufferOneill with fO2_shift = 1.74\n",
      "12:03:23 - atmodeller.core      - INFO      - 3 additional (not pressure) constraint(s) are necessary to solve the system\n",
      "12:03:23 - atmodeller.core      - INFO      - Row 00: Reaction 0: 1.0 CO + 0.5 O2 = 1.0 CO2\n",
      "12:03:23 - atmodeller.core      - INFO      - Row 01: Reaction 1: 1.0 H2 + 0.5 O2 = 1.0 H2O\n",
      "12:03:23 - atmodeller.core      - INFO      - Row 02: Setting O2 partial pressure\n",
      "12:03:23 - atmodeller.core      - INFO      - Adding constraint from mass balance: H\n",
      "12:03:23 - atmodeller.core      - INFO      - Adding constraint from mass balance: C\n",
      "12:03:23 - atmodeller.core      - INFO      - Adding constraint from mass balance: N\n",
      "12:03:24 - atmodeller.core      - INFO      - The solution converged.\n",
      "12:03:24 - atmodeller.core      - INFO      - Number of function calls = 46\n",
      "12:03:24 - atmodeller.core      - INFO      - Final objective function evaluation = [ 0.00000000e+00  4.44089210e-16  0.00000000e+00  7.86715119e-11\n",
      "  8.37254112e-12 -2.78848524e-11]\n",
      "12:03:24 - atmodeller.core      - INFO      - {'CO': 76.66647842308372,\n",
      " 'CO2': 86.28524297743147,\n",
      " 'H2': 1.2317302311693519,\n",
      " 'H2O': 6.222395928002399,\n",
      " 'N2': 2.7008654611786764,\n",
      " 'O2': 2.1439370174052424e-06}\n"
     ]
    },
    {
     "name": "stdout",
     "output_type": "stream",
     "text": [
      "Writing output to: %s equilibrium_atmosphere_monte_carlo.csv\n",
      "Writing output to: %s equilibrium_atmosphere_monte_carlo.csv\n"
     ]
    }
   ],
   "source": [
    "number_of_realisations: int = 2\n",
    "\n",
    "# Parameters are normally distributed between bounds.\n",
    "number_ocean_moles: np.ndarray = np.random.uniform(1, 10, number_of_realisations)\n",
    "ch_ratios: np.ndarray = np.random.uniform(0.1, 1, number_of_realisations)\n",
    "fo2_shifts: np.ndarray = np.random.uniform(-4, 4, number_of_realisations)\n",
    "\n",
    "# Store the output in a list.\n",
    "out: list[dict[str, float]] = []\n",
    "\n",
    "# ppmw of Nitrogen in the mantle. 2.8 is the mantle value of N.\n",
    "N_ppmw: float = 2.8\n",
    "\n",
    "# The nitrogen mass is constant.\n",
    "mass_N: float = N_ppmw * 1.0e-6 * planet.mantle_mass\n",
    "\n",
    "for realisation in range(number_of_realisations):\n",
    "\n",
    "    mass_H: float = number_ocean_moles[realisation] * OCEAN_MOLES * MolarMasses().H2\n",
    "    mass_C: float = ch_ratios[realisation] * mass_H\n",
    "    constraints: list[SystemConstraint] = [\n",
    "        SystemConstraint(species=\"H\", value=mass_H, field=\"mass\"),\n",
    "        SystemConstraint(species=\"C\", value=mass_C, field=\"mass\"),\n",
    "        SystemConstraint(species=\"N\", value=mass_N, field=\"mass\")\n",
    "    ]\n",
    "    # Recall that changing attributes on the planet 'object' will be 'seen' by interior_atmosphere.\n",
    "    planet.fo2_shift = fo2_shifts[realisation]\n",
    "    out_realisation = interior_atmosphere.solve(constraints, fo2_constraint=True)\n",
    "\n",
    "    # Include the parameters in the output.\n",
    "    out_realisation['number_ocean_moles'] = number_ocean_moles[realisation]\n",
    "    out_realisation['ch_ratio'] = ch_ratios[realisation]\n",
    "    out_realisation['fo2_shift'] = planet.fo2_shift\n",
    "\n",
    "    out.append(out_realisation)\n",
    "\n",
    "    filename: str = \"equilibrium_atmosphere_monte_carlo.csv\"\n",
    "    print(\"Writing output to: %s\", filename)\n",
    "    fieldnames: list[str] = list(out[0].keys())\n",
    "    with open(filename, \"w\", newline=\"\", encoding=\"utf-8\") as csvfile:\n",
    "        writer: csv.DictWriter = csv.DictWriter(csvfile, fieldnames=fieldnames)\n",
    "        writer.writeheader()\n",
    "        writer.writerows(out)"
   ]
  },
  {
   "attachments": {},
   "cell_type": "markdown",
   "metadata": {},
   "source": [
    "The simulation data is output as:"
   ]
  },
  {
   "cell_type": "code",
   "execution_count": 5,
   "metadata": {},
   "outputs": [
    {
     "data": {
      "text/plain": [
       "[{'CO': 14.643843749066628,\n",
       "  'H2': 0.1018423916951978,\n",
       "  'N2': 3.1661955828993826,\n",
       "  'O2': 0.0003184601738388703,\n",
       "  'CO2': 200.86656379467922,\n",
       "  'H2O': 6.2703557769594696,\n",
       "  'number_ocean_moles': 4.072660772269923,\n",
       "  'ch_ratio': 0.6695330485636478,\n",
       "  'fo2_shift': 3.9108789699691604},\n",
       " {'CO': 76.66647842308372,\n",
       "  'H2': 1.2317302311693519,\n",
       "  'N2': 2.7008654611786764,\n",
       "  'O2': 2.1439370174052424e-06,\n",
       "  'CO2': 86.28524297743147,\n",
       "  'H2O': 6.222395928002399,\n",
       "  'number_ocean_moles': 4.061054062035693,\n",
       "  'ch_ratio': 0.5267876822488561,\n",
       "  'fo2_shift': 1.7390358650386952}]"
      ]
     },
     "execution_count": 5,
     "metadata": {},
     "output_type": "execute_result"
    }
   ],
   "source": [
    "out"
   ]
  }
 ],
 "metadata": {
  "kernelspec": {
   "display_name": ".venv",
   "language": "python",
   "name": "python3"
  },
  "language_info": {
   "codemirror_mode": {
    "name": "ipython",
    "version": 3
   },
   "file_extension": ".py",
   "mimetype": "text/x-python",
   "name": "python",
   "nbconvert_exporter": "python",
   "pygments_lexer": "ipython3",
   "version": "3.11.3"
  },
  "orig_nbformat": 4
 },
 "nbformat": 4,
 "nbformat_minor": 2
}
