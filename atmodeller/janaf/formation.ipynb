{
 "cells": [
  {
   "attachments": {},
   "cell_type": "markdown",
   "metadata": {},
   "source": [
    "# Computing the formation energy using data from the JANAF tables"
   ]
  },
  {
   "attachments": {},
   "cell_type": "markdown",
   "metadata": {},
   "source": [
    "The Gibb's free energy is:\n",
    "\n",
    "$$G = H-TS$$"
   ]
  },
  {
   "attachments": {},
   "cell_type": "markdown",
   "metadata": {},
   "source": [
    "The equilibrium constant is:\n",
    "$$\\ln{K_{eq}} = -\\frac{G}{RT}$$"
   ]
  },
  {
   "attachments": {},
   "cell_type": "markdown",
   "metadata": {},
   "source": [
    "Logarithm base change:\n",
    "$$\\log_{10}{K_{eq}} = \\ln{K_{eq}} / \\ln{10}$$"
   ]
  },
  {
   "attachments": {},
   "cell_type": "markdown",
   "metadata": {},
   "source": [
    "By substitution:\n",
    "$$\\log_{10}{K_{eq}} =  -\\frac{G}{RT\\ln{10}}  = -\\frac{H}{RT\\ln{10}} + \\frac{S}{R\\ln{10}}$$"
   ]
  },
  {
   "attachments": {},
   "cell_type": "markdown",
   "metadata": {},
   "source": [
    "Hence we have a form of:\n",
    "$$\\log_{10}{K_{eq}} =  a + b/T$$\n",
    "where:\n",
    "$$ a = \\frac{S}{R\\ln{10}},\\quad b =  -\\frac{H}{R\\ln{10}} $$"
   ]
  },
  {
   "attachments": {},
   "cell_type": "markdown",
   "metadata": {},
   "source": [
    "To compute a least-squares fit to the data we can multiply by $T$ so the gradient is equal to $a$ and the intercept is equal to $b$:\n",
    "$$T \\log_{10}{K_{eq}} =  aT + b$$"
   ]
  },
  {
   "cell_type": "code",
   "execution_count": 48,
   "metadata": {},
   "outputs": [],
   "source": [
    "import pandas as pd\n",
    "import numpy as np"
   ]
  },
  {
   "attachments": {},
   "cell_type": "markdown",
   "metadata": {},
   "source": [
    "Define the data range to use:"
   ]
  },
  {
   "cell_type": "code",
   "execution_count": 49,
   "metadata": {},
   "outputs": [],
   "source": [
    "TEMPERATURE_HIGH = 3000 # K\n",
    "TEMPERATURE_LOW = 1500 # K"
   ]
  },
  {
   "cell_type": "code",
   "execution_count": 55,
   "metadata": {},
   "outputs": [],
   "source": [
    "def least_squares_fit_to_janaf_data(molecule:str):\n",
    "    \"\"\"Fit the JANAF Gibb's free energy data.\n",
    "    \n",
    "    Args:\n",
    "        molecule: The molecule.\n",
    "\n",
    "    Returns:\n",
    "        The least-squares fit coefficients.\n",
    "    \"\"\"\n",
    "    datafile: str = f\"tables/{molecule}.dat\"\n",
    "    df:pd.DataFrame = pd.read_csv(datafile, sep='\\t')\n",
    "\n",
    "    # Filter the data between the relevant temperature range.\n",
    "    df = df.loc[(df['T(K)'] <= TEMPERATURE_HIGH) & (df['T(K)'] >= TEMPERATURE_LOW)]\n",
    "\n",
    "    # Least squares fitting.\n",
    "    temperature: np.ndarray = df['T(K)'].to_numpy()\n",
    "    log_Kf: np.ndarray = df['log Kf'].to_numpy()\n",
    "    design_matrix: np.ndarray = temperature[:, np.newaxis]**[1, 0]\n",
    "    solution, _, _, _ = np.linalg.lstsq(design_matrix, log_Kf*temperature, rcond=None)\n",
    "\n",
    "    return solution"
   ]
  },
  {
   "cell_type": "code",
   "execution_count": 61,
   "metadata": {},
   "outputs": [
    {
     "name": "stdout",
     "output_type": "stream",
     "text": [
      "CO : a =  4.319860294117643 , b =  6286.120588235306\n",
      "CO2 : a =  -0.028289705882357442 , b =  20753.870588235302\n",
      "CH4 : a =  -5.830066176470588 , b =  4829.067647058815\n",
      "H2O : a =  -3.0385132352941198 , b =  13152.698529411768\n"
     ]
    }
   ],
   "source": [
    "for molecule in (\"CO\", \"CO2\", \"CH4\", \"H2O\"):\n",
    "    a, b = least_squares_fit_to_janaf_data(molecule)\n",
    "    print(molecule, ': a = ', a, ', b = ', b)"
   ]
  }
 ],
 "metadata": {
  "kernelspec": {
   "display_name": ".venv",
   "language": "python",
   "name": "python3"
  },
  "language_info": {
   "codemirror_mode": {
    "name": "ipython",
    "version": 3
   },
   "file_extension": ".py",
   "mimetype": "text/x-python",
   "name": "python",
   "nbconvert_exporter": "python",
   "pygments_lexer": "ipython3",
   "version": "3.11.3"
  },
  "orig_nbformat": 4
 },
 "nbformat": 4,
 "nbformat_minor": 2
}
