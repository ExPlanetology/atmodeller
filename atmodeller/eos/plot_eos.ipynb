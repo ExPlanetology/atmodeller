{
 "cells": [
  {
   "cell_type": "markdown",
   "metadata": {},
   "source": [
    "# Plot EOS models"
   ]
  },
  {
   "cell_type": "code",
   "execution_count": null,
   "metadata": {},
   "outputs": [],
   "source": [
    "import matplotlib.pyplot as plt\n",
    "from matplotlib.axes import Axes\n",
    "from matplotlib.figure import Figure\n",
    "import numpy as np\n",
    "import numpy.typing as npt\n",
    "\n",
    "from atmodeller.eos.interfaces import RealGas, RealGasProtocol\n",
    "from atmodeller.eos.holland import get_holland_eos_models\n",
    "from atmodeller.eos.holley import get_holley_eos_models\n",
    "from atmodeller.eos.saxena import get_saxena_eos_models"
   ]
  },
  {
   "cell_type": "code",
   "execution_count": null,
   "metadata": {},
   "outputs": [],
   "source": [
    "def plot_fugacity_coefficient(eos_model: RealGasProtocol, label:str, ax:Axes, \n",
    "    temperature: npt.NDArray, pressure: npt.NDArray) -> None:\n",
    "    \"\"\"Plots the fugacity coefficient of an EOS model\n",
    "    \n",
    "    Args:\n",
    "        eos_model: An EOS model\n",
    "        label: Label for the model\n",
    "        ax: Axes for plotting\n",
    "        temperature: Temperature to evaluate the fugacity coefficient in K\n",
    "        pressure: Pressure to evaluate the fugacity coefficient in bar\n",
    "    \"\"\"\n",
    "    fugacity_coefficient = np.vectorize(eos_model.fugacity_coefficient)\n",
    "    coefficient = fugacity_coefficient(temperature, pressure)\n",
    "    ax.plot(pressure, coefficient, label=label)"
   ]
  },
  {
   "cell_type": "code",
   "execution_count": null,
   "metadata": {},
   "outputs": [],
   "source": [
    "def plot_eos_collection(eos_collection: dict[str, RealGas], temperature: float) -> Figure:\n",
    "    \"\"\"Plots a collection of fugacity coefficients\n",
    "    \n",
    "    Args:\n",
    "        eos_collection: A collection of EOS models\n",
    "        temperature: Temperature to plot the fugacity coefficient\n",
    "\n",
    "    Returns:\n",
    "        Figure handle\n",
    "    \"\"\"\n",
    "    pressure: npt.NDArray = np.linspace(1, 5E4, 100)\n",
    "    temperature_array: npt.NDArray = temperature * np.ones_like(pressure)\n",
    "\n",
    "    fig, ax = plt.subplots()\n",
    "\n",
    "    for species in eos_collection:\n",
    "        plot_fugacity_coefficient(eos_collection[species], species, ax, temperature_array,\n",
    "            pressure)\n",
    "\n",
    "    ax.set_yscale('log')\n",
    "    ax.set_ylabel(r'Fugacity Coefficient ($\\phi = f/P$)')\n",
    "    ax.set_ylim(1e-2, 1e3)\n",
    "    ax.set_xlabel('Pressure (bar)')\n",
    "    ax.set_title(f\"Fugacity coefficients at {temperature:.0f} K\")\n",
    "    ax.legend()\n",
    "\n",
    "    return fig"
   ]
  },
  {
   "cell_type": "markdown",
   "metadata": {},
   "source": [
    "## Holland models"
   ]
  },
  {
   "cell_type": "code",
   "execution_count": null,
   "metadata": {},
   "outputs": [],
   "source": [
    "eos_models = get_holland_eos_models()\n",
    "\n",
    "plot_eos_collection(eos_models, temperature=3000)\n",
    "plot_eos_collection(eos_models, temperature=2000)\n",
    "plot_eos_collection(eos_models, temperature=1000);"
   ]
  },
  {
   "cell_type": "markdown",
   "metadata": {},
   "source": [
    "# Holley models"
   ]
  },
  {
   "cell_type": "code",
   "execution_count": null,
   "metadata": {},
   "outputs": [],
   "source": [
    "eos_models = get_holley_eos_models()\n",
    "\n",
    "plot_eos_collection(eos_models, temperature=3000)\n",
    "plot_eos_collection(eos_models, temperature=2000)\n",
    "plot_eos_collection(eos_models, temperature=1000);"
   ]
  },
  {
   "cell_type": "markdown",
   "metadata": {},
   "source": [
    "# Saxena models"
   ]
  },
  {
   "cell_type": "code",
   "execution_count": null,
   "metadata": {},
   "outputs": [],
   "source": [
    "eos_models = get_saxena_eos_models()\n",
    "\n",
    "plot_eos_collection(eos_models, temperature=3000)\n",
    "plot_eos_collection(eos_models, temperature=2000)\n",
    "plot_eos_collection(eos_models, temperature=1000);"
   ]
  }
 ],
 "metadata": {
  "kernelspec": {
   "display_name": ".venv",
   "language": "python",
   "name": "python3"
  },
  "language_info": {
   "codemirror_mode": {
    "name": "ipython",
    "version": 3
   },
   "file_extension": ".py",
   "mimetype": "text/x-python",
   "name": "python",
   "nbconvert_exporter": "python",
   "pygments_lexer": "ipython3",
   "version": "3.10.13"
  }
 },
 "nbformat": 4,
 "nbformat_minor": 2
}
