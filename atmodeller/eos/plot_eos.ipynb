{
 "cells": [
  {
   "cell_type": "markdown",
   "metadata": {},
   "source": [
    "# Plot EOS models"
   ]
  },
  {
   "cell_type": "code",
   "execution_count": null,
   "metadata": {},
   "outputs": [],
   "source": [
    "from cmcrameri import cm\n",
    "import logging\n",
    "import matplotlib\n",
    "import matplotlib.pyplot as plt\n",
    "from matplotlib.figure import Figure\n",
    "import numpy as np\n",
    "\n",
    "from atmodeller import debug_logger\n",
    "from atmodeller.eos.interfaces import RealGas\n",
    "from atmodeller.eos.holland import get_holland_eos_models\n",
    "from atmodeller.eos.holley import get_holley_eos_models\n",
    "from atmodeller.eos.saxena import get_saxena_eos_models"
   ]
  },
  {
   "cell_type": "code",
   "execution_count": null,
   "metadata": {},
   "outputs": [],
   "source": [
    "logger = debug_logger()\n",
    "logger.setLevel(logging.INFO)"
   ]
  },
  {
   "cell_type": "code",
   "execution_count": null,
   "metadata": {},
   "outputs": [],
   "source": [
    "matplotlib.rcParams.update({'font.size': 20})"
   ]
  },
  {
   "cell_type": "code",
   "execution_count": null,
   "metadata": {},
   "outputs": [],
   "source": [
    "def plot_eos_collection(eos_models: dict[str, RealGas], pressure_min: float=0.1, \n",
    "        pressure_max: float=950, temperature_min: float=300, temperature_max: float=1000, \n",
    "        delta_temperature: float=100, xmin: float=0, xmax: float=1000, xscale:str='linear', \n",
    "        ymin: float=0, ymax: float=2, yscale: str='linear', \n",
    "        suptitle: str=\"Fugacity coefficients\") -> Figure:\n",
    "    \"\"\"Plots the fugacity coefficients from a collection of EOS\n",
    "    \n",
    "    Args:\n",
    "        eos_collection: A collection of EOS\n",
    "        pressure_min: Minimum pressure in bar. Defaults to 0.1 bar.\n",
    "        pressure_max: Maximum pressure in bar. Defaults to 950 bar.\n",
    "        temperature_min: Minimum temperature in K. Defaults to 300 K.\n",
    "        temperature_max: Maximum temperature in K. Defaults to 1000 K.\n",
    "        delta_temperature: Temperature difference in K. Defaults to 100 K.\n",
    "        xmin: Minimum pressure for x-axis. Defaults to 0 bar.\n",
    "        xmax: Maximum pressure for x-axis. Defaults to 1000 bar.\n",
    "        xscale: Scale for the x-axis. Defaults to linear.\n",
    "        ymin: Minimum fugacity coefficient for y-axis. Defaults to 0.\n",
    "        ymax: Maximium fugacity coefficient for y-axis. Defaults to 2.\n",
    "        yscale: Scale for the y-axis. Defaults to linear.\n",
    "        suptitle: Super title. Defaults to Fugacity coefficients.\n",
    "\n",
    "    Returns:\n",
    "        Figure handle\n",
    "    \"\"\"\n",
    "    # Species in alphabetical order\n",
    "    eos_species = sorted(list(eos_models.keys()))\n",
    "\n",
    "    # These bounds are to ensure the EOS is plotted within its roughly calibrated region.\n",
    "    pressure = np.linspace(pressure_min, pressure_max, 100)\n",
    "    temperatures = np.arange(temperature_min, temperature_max+1, delta_temperature)\n",
    "\n",
    "    colormap = cm.lajolla # type: ignore\n",
    "    colors = colormap((temperatures-temperatures[0])/(temperatures[-1]-temperatures[0]))\n",
    "    colormap_dict = {temperature: color for temperature, color in zip(temperatures, colors)}\n",
    "\n",
    "    # 2 cms less in each dimension compared to A4 portrait\n",
    "    fig, axs = plt.subplots(nrows=6, ncols=2, figsize=(19, 27.7))\n",
    "\n",
    "    for nn, ax in enumerate(axs.reshape(-1)):\n",
    "        try:\n",
    "            species_name = eos_species[nn]\n",
    "        except IndexError:\n",
    "            ax.set_axis_off()\n",
    "            continue\n",
    "        eos = eos_models[species_name]\n",
    "        logger.info(\"Plotting %s\", species_name)\n",
    "        for temperature in temperatures:\n",
    "            temperature_array = temperature * np.ones_like(pressure)\n",
    "            eos.calibration.check(temperature, pressure.min(), species_name)\n",
    "            eos.calibration.check(temperature, pressure.max(), species_name)\n",
    "            fugacity_coefficient = np.vectorize(eos.fugacity_coefficient)\n",
    "            coefficient = fugacity_coefficient(temperature_array, pressure)\n",
    "            ax.plot(pressure, coefficient, label=f\"{temperature} K\", \n",
    "                    color=colormap_dict[temperature])\n",
    "            ax.set_title(species_name)\n",
    "            ax.set_xlim((xmin, xmax))\n",
    "            ax.set_ylim((ymin, ymax))\n",
    "\n",
    "        ax.set_xlabel(r\"Pressure (bar)\")\n",
    "        ax.set_ylabel(r'Fugacity Coefficient ($\\phi = f/P$)')\n",
    "        ax.set_xscale(xscale)\n",
    "        ax.set_yscale(yscale)\n",
    "        ax.legend(ncols=2)\n",
    "\n",
    "    fig.suptitle(suptitle)\n",
    "    fig.tight_layout()\n",
    "    fig.subplots_adjust(top=0.95)\n",
    "\n",
    "    return fig"
   ]
  },
  {
   "cell_type": "code",
   "execution_count": null,
   "metadata": {},
   "outputs": [],
   "source": [
    "holley_eos = get_holley_eos_models()\n",
    "holland_eos = get_holland_eos_models()\n",
    "saxena_eos = get_saxena_eos_models()"
   ]
  },
  {
   "cell_type": "markdown",
   "metadata": {},
   "source": [
    "## Holley models"
   ]
  },
  {
   "cell_type": "code",
   "execution_count": null,
   "metadata": {},
   "outputs": [],
   "source": [
    "plot_eos_collection(holley_eos, suptitle=\"Beattie-Bridgeman EOS (Holley et al., 1958)\");"
   ]
  },
  {
   "cell_type": "markdown",
   "metadata": {},
   "source": [
    "## Holland models"
   ]
  },
  {
   "cell_type": "code",
   "execution_count": null,
   "metadata": {},
   "outputs": [],
   "source": [
    "plot_eos_collection(holland_eos, suptitle=\"CORK EOS (Holland and Powell) low P-T\");"
   ]
  },
  {
   "cell_type": "code",
   "execution_count": null,
   "metadata": {},
   "outputs": [],
   "source": [
    "plot_eos_collection(holland_eos, pressure_max=5E4, temperature_min=1000, temperature_max=3000, delta_temperature=500,\n",
    "    xmax=5E4, ymin=0.1, ymax=1E4, yscale='log', suptitle=\"CORK EOS (Holland and Powell) high P-T\");"
   ]
  },
  {
   "cell_type": "markdown",
   "metadata": {},
   "source": [
    "## Saxena models"
   ]
  },
  {
   "cell_type": "code",
   "execution_count": null,
   "metadata": {},
   "outputs": [],
   "source": [
    "plot_eos_collection(saxena_eos, suptitle=\"Corresponding states (Saxena et al.) low P-T\");"
   ]
  },
  {
   "cell_type": "code",
   "execution_count": null,
   "metadata": {},
   "outputs": [],
   "source": [
    "plot_eos_collection(saxena_eos, pressure_min=100, pressure_max=5E4, temperature_min=1000, temperature_max=3000, delta_temperature=500,\n",
    "    xmax=5E4, ymin=0.1, ymax=1E4, yscale='log', suptitle=\"Corresponding states (Saxena et al.) high P-T\");"
   ]
  }
 ],
 "metadata": {
  "kernelspec": {
   "display_name": ".venv",
   "language": "python",
   "name": "python3"
  },
  "language_info": {
   "codemirror_mode": {
    "name": "ipython",
    "version": 3
   },
   "file_extension": ".py",
   "mimetype": "text/x-python",
   "name": "python",
   "nbconvert_exporter": "python",
   "pygments_lexer": "ipython3",
   "version": "3.10.13"
  }
 },
 "nbformat": 4,
 "nbformat_minor": 2
}
