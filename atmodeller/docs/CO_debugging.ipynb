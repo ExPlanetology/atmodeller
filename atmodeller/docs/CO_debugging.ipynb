{
 "cells": [
  {
   "cell_type": "code",
   "execution_count": 53,
   "metadata": {},
   "outputs": [],
   "source": [
    "from atmodeller import debug_logger\n",
    "from atmodeller.interfaces import GasSpecies\n",
    "from atmodeller.interior_atmosphere import Species, Planet, InteriorAtmosphereSystem\n",
    "from atmodeller.constraints import MassConstraint, IronWustiteBufferConstraintHirschmann, SystemConstraints\n",
    "from atmodeller.solubilities import BasaltDixonH2O\n",
    "from atmodeller.utilities import earth_oceans_to_kg"
   ]
  },
  {
   "cell_type": "code",
   "execution_count": 54,
   "metadata": {},
   "outputs": [],
   "source": [
    "logger = debug_logger()"
   ]
  },
  {
   "cell_type": "markdown",
   "metadata": {},
   "source": [
    "# No Solubilities\n",
    "\n",
    "Set up a case where only H2O and H2 are coupled, so CO can only respond by mass balance."
   ]
  },
  {
   "cell_type": "code",
   "execution_count": 55,
   "metadata": {},
   "outputs": [
    {
     "name": "stderr",
     "output_type": "stream",
     "text": [
      "[10:37:01 - atmodeller.interfaces          - DEBUG    ] - Modified Hill formula = H2O\n",
      "[10:37:01 - atmodeller.interfaces          - DEBUG    ] - Thermodynamic data for H2O found in JANAF (JANAF name = H2O)\n",
      "[10:37:01 - atmodeller.interfaces          - INFO     ] - Creating GasSpecies H2O using thermodynamic data in JANAF (JANAF name = H2O)\n",
      "[10:37:01 - atmodeller.interfaces          - DEBUG    ] - Modified Hill formula = H2\n",
      "[10:37:01 - atmodeller.interfaces          - DEBUG    ] - Thermodynamic data for H2 found in JANAF (JANAF name = H2)\n",
      "[10:37:01 - atmodeller.interfaces          - INFO     ] - Creating GasSpecies H2 using thermodynamic data in JANAF (JANAF name = H2)\n",
      "[10:37:01 - atmodeller.interfaces          - DEBUG    ] - Modified Hill formula = O2\n",
      "[10:37:01 - atmodeller.interfaces          - DEBUG    ] - Thermodynamic data for O2 found in JANAF (JANAF name = O2)\n",
      "[10:37:01 - atmodeller.interfaces          - INFO     ] - Creating GasSpecies O2 using thermodynamic data in JANAF (JANAF name = O2)\n",
      "[10:37:01 - atmodeller.interfaces          - DEBUG    ] - Modified Hill formula = CO\n",
      "[10:37:01 - atmodeller.interfaces          - DEBUG    ] - Thermodynamic data for CO found in JANAF (JANAF name = CO)\n",
      "[10:37:01 - atmodeller.interfaces          - INFO     ] - Creating GasSpecies CO using thermodynamic data in JANAF (JANAF name = CO)\n"
     ]
    },
    {
     "data": {
      "text/plain": [
       "Species([GasSpecies(formula='H2O', thermodynamic_dataset=<atmodeller.interfaces.ThermodynamicDatasetJANAF object at 0x12767f050>, name_in_dataset='H2O', _formula=Formula('H2O'), _thermodynamic_data=ThermodynamicDatasetJANAF.ThermodynamicDataForSpecies(species=..., data_source='JANAF', data=<thermochem.janaf.JanafPhase object at 0x1054add90>), _output=None, solubility=<atmodeller.interfaces.NoSolubility object at 0x12767c210>, solid_melt_distribution_coefficient=0, eos=IdealGas(critical_temperature=1, critical_pressure=1, standard_state_pressure=1)),\n",
       "         GasSpecies(formula='H2', thermodynamic_dataset=<atmodeller.interfaces.ThermodynamicDatasetJANAF object at 0x1276f5910>, name_in_dataset='H2', _formula=Formula('H2'), _thermodynamic_data=ThermodynamicDatasetJANAF.ThermodynamicDataForSpecies(species=..., data_source='JANAF', data=<thermochem.janaf.JanafPhase object at 0x127713610>), _output=None, solubility=<atmodeller.interfaces.NoSolubility object at 0x127035b10>, solid_melt_distribution_coefficient=0, eos=IdealGas(critical_temperature=1, critical_pressure=1, standard_state_pressure=1)),\n",
       "         GasSpecies(formula='O2', thermodynamic_dataset=<atmodeller.interfaces.ThermodynamicDatasetJANAF object at 0x1054ebc50>, name_in_dataset='O2', _formula=Formula('O2'), _thermodynamic_data=ThermodynamicDatasetJANAF.ThermodynamicDataForSpecies(species=..., data_source='JANAF', data=<thermochem.janaf.JanafPhase object at 0x1275a4e90>), _output=None, solubility=<atmodeller.interfaces.NoSolubility object at 0x1054eba10>, solid_melt_distribution_coefficient=0, eos=IdealGas(critical_temperature=1, critical_pressure=1, standard_state_pressure=1)),\n",
       "         GasSpecies(formula='CO', thermodynamic_dataset=<atmodeller.interfaces.ThermodynamicDatasetJANAF object at 0x1275f7f90>, name_in_dataset='CO', _formula=Formula('CO'), _thermodynamic_data=ThermodynamicDatasetJANAF.ThermodynamicDataForSpecies(species=..., data_source='JANAF', data=<thermochem.janaf.JanafPhase object at 0x1275ef7d0>), _output=None, solubility=<atmodeller.interfaces.NoSolubility object at 0x127713890>, solid_melt_distribution_coefficient=0, eos=IdealGas(critical_temperature=1, critical_pressure=1, standard_state_pressure=1))])"
      ]
     },
     "execution_count": 55,
     "metadata": {},
     "output_type": "execute_result"
    }
   ],
   "source": [
    "species: Species = Species()\n",
    "species.append(GasSpecies(formula=\"H2O\"))\n",
    "species.append(GasSpecies(formula='H2'))\n",
    "species.append(GasSpecies(formula='O2'))\n",
    "species.append(GasSpecies(formula='CO'))\n",
    "# Don't need to include CO2 to show the effect\n",
    "#species.append(GasSpecies(formula='CO2'))\n",
    "species"
   ]
  },
  {
   "cell_type": "code",
   "execution_count": 56,
   "metadata": {},
   "outputs": [
    {
     "name": "stderr",
     "output_type": "stream",
     "text": [
      "[10:37:01 - atmodeller.interior_atmosphere - INFO     ] - Creating a new planet\n",
      "[10:37:01 - atmodeller.interior_atmosphere - INFO     ] - Mantle mass (kg) = 3248999999999999788187648.000000\n",
      "[10:37:01 - atmodeller.interior_atmosphere - INFO     ] - Mantle melt fraction = 1.000000\n",
      "[10:37:01 - atmodeller.interior_atmosphere - INFO     ] - Core mass fraction = 0.295335\n",
      "[10:37:01 - atmodeller.interior_atmosphere - INFO     ] - Planetary radius (m) = 5804000.000000\n",
      "[10:37:01 - atmodeller.interior_atmosphere - INFO     ] - Planetary mass (kg) = 4610699520224821698887680.000000\n",
      "[10:37:01 - atmodeller.interior_atmosphere - INFO     ] - Surface temperature (K) = 1500.000000\n",
      "[10:37:01 - atmodeller.interior_atmosphere - INFO     ] - Surface gravity (m/s^2) = 9.135193\n",
      "[10:37:01 - atmodeller.interior_atmosphere - INFO     ] - Melt Composition = None\n"
     ]
    }
   ],
   "source": [
    "planet: Planet = Planet(surface_temperature=1500, mantle_mass = 3.249E24, surface_radius = 5.804E6, mantle_melt_fraction=1)"
   ]
  },
  {
   "cell_type": "code",
   "execution_count": 57,
   "metadata": {},
   "outputs": [
    {
     "name": "stderr",
     "output_type": "stream",
     "text": [
      "[10:37:01 - atmodeller.initial_condition   - INFO     ] - Creating InitialConditionConstant\n",
      "[10:37:01 - atmodeller.interior_atmosphere - INFO     ] - Creating an interior-atmosphere system\n",
      "[10:37:01 - atmodeller.interior_atmosphere - INFO     ] - Creating a reaction network\n",
      "[10:37:01 - atmodeller.interior_atmosphere - INFO     ] - Species = ['H2O', 'H2', 'O2', 'CO']\n",
      "[10:37:01 - atmodeller.interior_atmosphere - DEBUG    ] - augmented_matrix = \n",
      "[[1. 0. 2. 1. 0. 0. 0.]\n",
      " [0. 0. 2. 0. 1. 0. 0.]\n",
      " [2. 0. 0. 0. 0. 1. 0.]\n",
      " [1. 1. 0. 0. 0. 0. 1.]]\n",
      "[10:37:01 - atmodeller.interior_atmosphere - DEBUG    ] - Augmented_matrix after forward elimination = \n",
      "[[ 1.   0.   2.   1.   0.   0.   0. ]\n",
      " [ 0.   1.  -2.  -1.   0.   0.   1. ]\n",
      " [ 0.   0.  -4.  -2.   0.   1.   0. ]\n",
      " [ 0.   0.   0.  -1.   1.   0.5  0. ]]\n",
      "[10:37:01 - atmodeller.interior_atmosphere - DEBUG    ] - Augmented_matrix after backward substitution = \n",
      "[[ 1.    0.    0.    0.    0.    0.5   0.  ]\n",
      " [ 0.    1.    0.    0.    0.   -0.5   1.  ]\n",
      " [-0.   -0.    1.    0.5  -0.   -0.25 -0.  ]\n",
      " [ 0.    0.    0.   -1.    1.    0.5   0.  ]]\n",
      "[10:37:01 - atmodeller.interior_atmosphere - DEBUG    ] - Reduced_matrix1 = \n",
      "[[ 1.  0.  0.]\n",
      " [ 0.  1.  0.]\n",
      " [-0. -0.  1.]\n",
      " [ 0.  0.  0.]]\n",
      "[10:37:01 - atmodeller.interior_atmosphere - DEBUG    ] - Reaction_matrix = \n",
      "[[-1.   1.   0.5  0. ]]\n",
      "[10:37:01 - atmodeller.interior_atmosphere - INFO     ] - Reactions = \n",
      "{0: '1.0 H2O = 1.0 H2 + 0.5 O2'}\n"
     ]
    }
   ],
   "source": [
    "interior_atmosphere: InteriorAtmosphereSystem = InteriorAtmosphereSystem(species=species, planet=planet)"
   ]
  },
  {
   "cell_type": "markdown",
   "metadata": {},
   "source": [
    "Set your parameters below"
   ]
  },
  {
   "cell_type": "code",
   "execution_count": 58,
   "metadata": {},
   "outputs": [],
   "source": [
    "# Manually tweaked the parameters to find an example case that demonstrates how the CO pressure can\n",
    "# increase above 5 orders magnitude\n",
    "# Dan played around a bit with these parameters, and there doesn't seem to be a simple linear\n",
    "# relatioship. For example, decreasing the log10_shift to -3 from -2 reduces the CO ratio, and\n",
    "# increasing the log10_shift to -1 also reduces the CO ratio.\n",
    "# Would be good to set up an MC with these parameters, and then plot corner plots with\n",
    "# the ratio = CO(with solubility)/CO(no solubility) to see where the ridge of maximum CO ratio\n",
    "# is.\n",
    "H_oceans = 1\n",
    "CH_ratio = 0.1\n",
    "log10_shift = -2"
   ]
  },
  {
   "cell_type": "code",
   "execution_count": 59,
   "metadata": {},
   "outputs": [],
   "source": [
    "mass_H = earth_oceans_to_kg(H_oceans)\n",
    "mass_C = CH_ratio*mass_H\n",
    "constraints = SystemConstraints()\n",
    "constraints.append(MassConstraint(species=\"H\", value=mass_H))\n",
    "constraints.append(MassConstraint(species='C', value=mass_C))\n",
    "constraints.append(IronWustiteBufferConstraintHirschmann(log10_shift=log10_shift))"
   ]
  },
  {
   "cell_type": "code",
   "execution_count": 60,
   "metadata": {},
   "outputs": [
    {
     "name": "stderr",
     "output_type": "stream",
     "text": [
      "[10:37:01 - atmodeller.interior_atmosphere - INFO     ] - Solving system number 0\n",
      "[10:37:01 - atmodeller.interior_atmosphere - DEBUG    ] - Set constraints\n",
      "[10:37:01 - atmodeller.interior_atmosphere - DEBUG    ] - Constraints: [MassConstraint(name='mass', species='H', value=1.5500015377899477e+20),\n",
      " MassConstraint(name='mass', species='C', value=1.550001537789948e+19),\n",
      " IronWustiteBufferConstraintHirschmann(name='fugacity',\n",
      "                                       species='O2',\n",
      "                                       log10_shift=-2,\n",
      "                                       pressure=None)]\n",
      "[10:37:01 - atmodeller.initial_condition   - DEBUG    ] - InitialConditionConstant: value = 10\n",
      "[10:37:01 - atmodeller.interior_atmosphere - DEBUG    ] - Setting O2 2\n",
      "[10:37:01 - atmodeller.interior_atmosphere - DEBUG    ] - total_pressure = 30.000000000000025\n",
      "[10:37:01 - atmodeller.interior_atmosphere - DEBUG    ] - Conforming initial solution to constraints = [  1.           1.         -13.60049734   1.        ]\n",
      "[10:37:01 - atmodeller.interior_atmosphere - DEBUG    ] - 2 additional (mass) constraint(s) are necessary to solve the system\n",
      "[10:37:01 - atmodeller.interior_atmosphere - DEBUG    ] - Apply fugacity constraint for O2\n",
      "[10:37:01 - atmodeller.interior_atmosphere - DEBUG    ] - Row 01: Setting O2 coefficient\n",
      "[10:37:01 - atmodeller.interior_atmosphere - DEBUG    ] - Species = ['H2O', 'H2', 'O2', 'CO']\n",
      "[10:37:01 - atmodeller.interior_atmosphere - DEBUG    ] - Coefficient matrix = \n",
      "[[-1.   1.   0.5  0. ]\n",
      " [ 0.   0.   1.   0. ]]\n",
      "[10:37:01 - atmodeller.interior_atmosphere - DEBUG    ] - log_solution = [  1.           1.         -13.60049734   1.        ]\n",
      "[10:37:01 - atmodeller.interior_atmosphere - DEBUG    ] - Row 00: Reaction 0: 1.0 H2O = 1.0 H2 + 0.5 O2\n",
      "[10:37:01 - atmodeller.interior_atmosphere - DEBUG    ] - Row 01: Setting O2 fugacity\n",
      "[10:37:01 - atmodeller.interior_atmosphere - DEBUG    ] - RHS vector = [ -5.72396903 -13.60086401]\n",
      "[10:37:01 - atmodeller.interior_atmosphere - DEBUG    ] - Fugacity coefficient vector = [2.8929824e-16 2.8929824e-16 2.8929824e-16 2.8929824e-16]\n",
      "[10:37:01 - atmodeller.interior_atmosphere - DEBUG    ] - Residual_reaction = [-1.07627964e+00  3.66666667e-04]\n",
      "[10:37:01 - atmodeller.interfaces          - DEBUG    ] - NoSolubility, f = 10.000000, T = 1500.000000, ppmw = 0.000000\n",
      "[10:37:01 - atmodeller.interfaces          - DEBUG    ] - NoSolubility, f = 10.000000, T = 1500.000000, ppmw = 0.000000\n",
      "[10:37:01 - atmodeller.interfaces          - DEBUG    ] - NoSolubility, f = 0.000000, T = 1500.000000, ppmw = 0.000000\n",
      "[10:37:01 - atmodeller.interfaces          - DEBUG    ] - NoSolubility, f = 10.000000, T = 1500.000000, ppmw = 0.000000\n",
      "[10:37:01 - atmodeller.interfaces          - DEBUG    ] - NoSolubility, f = 10.000000, T = 1500.000000, ppmw = 0.000000\n",
      "[10:37:01 - atmodeller.interfaces          - DEBUG    ] - NoSolubility, f = 10.000000, T = 1500.000000, ppmw = 0.000000\n",
      "[10:37:01 - atmodeller.interfaces          - DEBUG    ] - NoSolubility, f = 0.000000, T = 1500.000000, ppmw = 0.000000\n",
      "[10:37:01 - atmodeller.interfaces          - DEBUG    ] - NoSolubility, f = 10.000000, T = 1500.000000, ppmw = 0.000000\n",
      "[10:37:01 - atmodeller.interior_atmosphere - DEBUG    ] - Residual_mass = [-1.12338371  0.35069095]\n",
      "[10:37:01 - atmodeller.interior_atmosphere - DEBUG    ] - Residual = [-1.07627964e+00  3.66666667e-04 -1.12338371e+00  3.50690949e-01]\n",
      "[10:37:01 - atmodeller.interior_atmosphere - DEBUG    ] - log_solution = [  1.           1.         -13.60049734   1.        ]\n",
      "[10:37:01 - atmodeller.interior_atmosphere - DEBUG    ] - Row 00: Reaction 0: 1.0 H2O = 1.0 H2 + 0.5 O2\n",
      "[10:37:01 - atmodeller.interior_atmosphere - DEBUG    ] - Row 01: Setting O2 fugacity\n",
      "[10:37:01 - atmodeller.interior_atmosphere - DEBUG    ] - RHS vector = [ -5.72396903 -13.60086401]\n",
      "[10:37:01 - atmodeller.interior_atmosphere - DEBUG    ] - Fugacity coefficient vector = [2.8929824e-16 2.8929824e-16 2.8929824e-16 2.8929824e-16]\n",
      "[10:37:01 - atmodeller.interior_atmosphere - DEBUG    ] - Residual_reaction = [-1.07627964e+00  3.66666667e-04]\n",
      "[10:37:01 - atmodeller.interfaces          - DEBUG    ] - NoSolubility, f = 10.000000, T = 1500.000000, ppmw = 0.000000\n",
      "[10:37:01 - atmodeller.interfaces          - DEBUG    ] - NoSolubility, f = 10.000000, T = 1500.000000, ppmw = 0.000000\n",
      "[10:37:01 - atmodeller.interfaces          - DEBUG    ] - NoSolubility, f = 0.000000, T = 1500.000000, ppmw = 0.000000\n",
      "[10:37:01 - atmodeller.interfaces          - DEBUG    ] - NoSolubility, f = 10.000000, T = 1500.000000, ppmw = 0.000000\n",
      "[10:37:01 - atmodeller.interfaces          - DEBUG    ] - NoSolubility, f = 10.000000, T = 1500.000000, ppmw = 0.000000\n",
      "[10:37:01 - atmodeller.interfaces          - DEBUG    ] - NoSolubility, f = 10.000000, T = 1500.000000, ppmw = 0.000000\n",
      "[10:37:01 - atmodeller.interfaces          - DEBUG    ] - NoSolubility, f = 0.000000, T = 1500.000000, ppmw = 0.000000\n",
      "[10:37:01 - atmodeller.interfaces          - DEBUG    ] - NoSolubility, f = 10.000000, T = 1500.000000, ppmw = 0.000000\n",
      "[10:37:01 - atmodeller.interior_atmosphere - DEBUG    ] - Residual_mass = [-1.12338371  0.35069095]\n",
      "[10:37:01 - atmodeller.interior_atmosphere - DEBUG    ] - Residual = [-1.07627964e+00  3.66666667e-04 -1.12338371e+00  3.50690949e-01]\n",
      "[10:37:01 - atmodeller.interior_atmosphere - DEBUG    ] - log_solution = [  1.           1.         -13.60049734   1.        ]\n",
      "[10:37:01 - atmodeller.interior_atmosphere - DEBUG    ] - Row 00: Reaction 0: 1.0 H2O = 1.0 H2 + 0.5 O2\n",
      "[10:37:01 - atmodeller.interior_atmosphere - DEBUG    ] - Row 01: Setting O2 fugacity\n",
      "[10:37:01 - atmodeller.interior_atmosphere - DEBUG    ] - RHS vector = [ -5.72396903 -13.60086401]\n",
      "[10:37:01 - atmodeller.interior_atmosphere - DEBUG    ] - Fugacity coefficient vector = [2.8929824e-16 2.8929824e-16 2.8929824e-16 2.8929824e-16]\n",
      "[10:37:01 - atmodeller.interior_atmosphere - DEBUG    ] - Residual_reaction = [-1.07627964e+00  3.66666667e-04]\n",
      "[10:37:01 - atmodeller.interfaces          - DEBUG    ] - NoSolubility, f = 10.000000, T = 1500.000000, ppmw = 0.000000\n",
      "[10:37:01 - atmodeller.interfaces          - DEBUG    ] - NoSolubility, f = 10.000000, T = 1500.000000, ppmw = 0.000000\n",
      "[10:37:01 - atmodeller.interfaces          - DEBUG    ] - NoSolubility, f = 0.000000, T = 1500.000000, ppmw = 0.000000\n",
      "[10:37:01 - atmodeller.interfaces          - DEBUG    ] - NoSolubility, f = 10.000000, T = 1500.000000, ppmw = 0.000000\n",
      "[10:37:01 - atmodeller.interfaces          - DEBUG    ] - NoSolubility, f = 10.000000, T = 1500.000000, ppmw = 0.000000\n",
      "[10:37:01 - atmodeller.interfaces          - DEBUG    ] - NoSolubility, f = 10.000000, T = 1500.000000, ppmw = 0.000000\n",
      "[10:37:01 - atmodeller.interfaces          - DEBUG    ] - NoSolubility, f = 0.000000, T = 1500.000000, ppmw = 0.000000\n",
      "[10:37:01 - atmodeller.interfaces          - DEBUG    ] - NoSolubility, f = 10.000000, T = 1500.000000, ppmw = 0.000000\n",
      "[10:37:01 - atmodeller.interior_atmosphere - DEBUG    ] - Residual_mass = [-1.12338371  0.35069095]\n",
      "[10:37:01 - atmodeller.interior_atmosphere - DEBUG    ] - Residual = [-1.07627964e+00  3.66666667e-04 -1.12338371e+00  3.50690949e-01]\n",
      "[10:37:01 - atmodeller.interior_atmosphere - DEBUG    ] - log_solution = [  1.00000001   1.         -13.60049734   1.        ]\n",
      "[10:37:01 - atmodeller.interior_atmosphere - DEBUG    ] - Row 00: Reaction 0: 1.0 H2O = 1.0 H2 + 0.5 O2\n",
      "[10:37:01 - atmodeller.interior_atmosphere - DEBUG    ] - Row 01: Setting O2 fugacity\n",
      "[10:37:01 - atmodeller.interior_atmosphere - DEBUG    ] - RHS vector = [ -5.72396903 -13.60086401]\n",
      "[10:37:01 - atmodeller.interior_atmosphere - DEBUG    ] - Fugacity coefficient vector = [3.85730987e-16 3.85730987e-16 3.85730987e-16 3.85730987e-16]\n",
      "[10:37:01 - atmodeller.interior_atmosphere - DEBUG    ] - Residual_reaction = [-1.07627966e+00  3.66666654e-04]\n",
      "[10:37:01 - atmodeller.interfaces          - DEBUG    ] - NoSolubility, f = 10.000000, T = 1500.000000, ppmw = 0.000000\n",
      "[10:37:01 - atmodeller.interfaces          - DEBUG    ] - NoSolubility, f = 10.000000, T = 1500.000000, ppmw = 0.000000\n",
      "[10:37:01 - atmodeller.interfaces          - DEBUG    ] - NoSolubility, f = 0.000000, T = 1500.000000, ppmw = 0.000000\n",
      "[10:37:01 - atmodeller.interfaces          - DEBUG    ] - NoSolubility, f = 10.000000, T = 1500.000000, ppmw = 0.000000\n",
      "[10:37:01 - atmodeller.interfaces          - DEBUG    ] - NoSolubility, f = 10.000000, T = 1500.000000, ppmw = 0.000000\n",
      "[10:37:01 - atmodeller.interfaces          - DEBUG    ] - NoSolubility, f = 10.000000, T = 1500.000000, ppmw = 0.000000\n",
      "[10:37:01 - atmodeller.interfaces          - DEBUG    ] - NoSolubility, f = 0.000000, T = 1500.000000, ppmw = 0.000000\n",
      "[10:37:01 - atmodeller.interfaces          - DEBUG    ] - NoSolubility, f = 10.000000, T = 1500.000000, ppmw = 0.000000\n",
      "[10:37:01 - atmodeller.interior_atmosphere - DEBUG    ] - Residual_mass = [-1.12338371  0.35069095]\n",
      "[10:37:01 - atmodeller.interior_atmosphere - DEBUG    ] - Residual = [-1.07627966e+00  3.66666654e-04 -1.12338371e+00  3.50690949e-01]\n",
      "[10:37:01 - atmodeller.interior_atmosphere - DEBUG    ] - log_solution = [  1.           1.00000001 -13.60049734   1.        ]\n",
      "[10:37:01 - atmodeller.interior_atmosphere - DEBUG    ] - Row 00: Reaction 0: 1.0 H2O = 1.0 H2 + 0.5 O2\n",
      "[10:37:01 - atmodeller.interior_atmosphere - DEBUG    ] - Row 01: Setting O2 fugacity\n",
      "[10:37:01 - atmodeller.interior_atmosphere - DEBUG    ] - RHS vector = [ -5.72396903 -13.60086401]\n",
      "[10:37:01 - atmodeller.interior_atmosphere - DEBUG    ] - Fugacity coefficient vector = [3.85730987e-16 3.85730987e-16 3.85730987e-16 3.85730987e-16]\n",
      "[10:37:01 - atmodeller.interior_atmosphere - DEBUG    ] - Residual_reaction = [-1.07627963e+00  3.66666654e-04]\n",
      "[10:37:01 - atmodeller.interfaces          - DEBUG    ] - NoSolubility, f = 10.000000, T = 1500.000000, ppmw = 0.000000\n",
      "[10:37:01 - atmodeller.interfaces          - DEBUG    ] - NoSolubility, f = 10.000000, T = 1500.000000, ppmw = 0.000000\n",
      "[10:37:01 - atmodeller.interfaces          - DEBUG    ] - NoSolubility, f = 0.000000, T = 1500.000000, ppmw = 0.000000\n",
      "[10:37:01 - atmodeller.interfaces          - DEBUG    ] - NoSolubility, f = 10.000000, T = 1500.000000, ppmw = 0.000000\n",
      "[10:37:01 - atmodeller.interfaces          - DEBUG    ] - NoSolubility, f = 10.000000, T = 1500.000000, ppmw = 0.000000\n",
      "[10:37:01 - atmodeller.interfaces          - DEBUG    ] - NoSolubility, f = 10.000000, T = 1500.000000, ppmw = 0.000000\n",
      "[10:37:01 - atmodeller.interfaces          - DEBUG    ] - NoSolubility, f = 0.000000, T = 1500.000000, ppmw = 0.000000\n",
      "[10:37:01 - atmodeller.interfaces          - DEBUG    ] - NoSolubility, f = 10.000000, T = 1500.000000, ppmw = 0.000000\n",
      "[10:37:01 - atmodeller.interior_atmosphere - DEBUG    ] - Residual_mass = [-1.1233837   0.35069095]\n",
      "[10:37:01 - atmodeller.interior_atmosphere - DEBUG    ] - Residual = [-1.07627963e+00  3.66666654e-04 -1.12338370e+00  3.50690954e-01]\n",
      "[10:37:01 - atmodeller.interior_atmosphere - DEBUG    ] - log_solution = [  1.           1.         -13.60049714   1.        ]\n",
      "[10:37:01 - atmodeller.interior_atmosphere - DEBUG    ] - Row 00: Reaction 0: 1.0 H2O = 1.0 H2 + 0.5 O2\n",
      "[10:37:01 - atmodeller.interior_atmosphere - DEBUG    ] - Row 01: Setting O2 fugacity\n",
      "[10:37:01 - atmodeller.interior_atmosphere - DEBUG    ] - RHS vector = [ -5.72396903 -13.60086401]\n",
      "[10:37:01 - atmodeller.interior_atmosphere - DEBUG    ] - Fugacity coefficient vector = [2.8929824e-16 2.8929824e-16 2.8929824e-16 2.8929824e-16]\n",
      "[10:37:01 - atmodeller.interior_atmosphere - DEBUG    ] - Residual_reaction = [-1.07627954e+00  3.66869330e-04]\n",
      "[10:37:01 - atmodeller.interfaces          - DEBUG    ] - NoSolubility, f = 10.000000, T = 1500.000000, ppmw = 0.000000\n",
      "[10:37:01 - atmodeller.interfaces          - DEBUG    ] - NoSolubility, f = 10.000000, T = 1500.000000, ppmw = 0.000000\n",
      "[10:37:01 - atmodeller.interfaces          - DEBUG    ] - NoSolubility, f = 0.000000, T = 1500.000000, ppmw = 0.000000\n",
      "[10:37:01 - atmodeller.interfaces          - DEBUG    ] - NoSolubility, f = 10.000000, T = 1500.000000, ppmw = 0.000000\n",
      "[10:37:01 - atmodeller.interfaces          - DEBUG    ] - NoSolubility, f = 10.000000, T = 1500.000000, ppmw = 0.000000\n",
      "[10:37:01 - atmodeller.interfaces          - DEBUG    ] - NoSolubility, f = 10.000000, T = 1500.000000, ppmw = 0.000000\n",
      "[10:37:01 - atmodeller.interfaces          - DEBUG    ] - NoSolubility, f = 0.000000, T = 1500.000000, ppmw = 0.000000\n",
      "[10:37:01 - atmodeller.interfaces          - DEBUG    ] - NoSolubility, f = 10.000000, T = 1500.000000, ppmw = 0.000000\n",
      "[10:37:01 - atmodeller.interior_atmosphere - DEBUG    ] - Residual_mass = [-1.12338371  0.35069095]\n",
      "[10:37:01 - atmodeller.interior_atmosphere - DEBUG    ] - Residual = [-1.07627954e+00  3.66869330e-04 -1.12338371e+00  3.50690949e-01]\n",
      "[10:37:01 - atmodeller.interior_atmosphere - DEBUG    ] - log_solution = [  1.           1.         -13.60049734   1.00000001]\n",
      "[10:37:01 - atmodeller.interior_atmosphere - DEBUG    ] - Row 00: Reaction 0: 1.0 H2O = 1.0 H2 + 0.5 O2\n",
      "[10:37:01 - atmodeller.interior_atmosphere - DEBUG    ] - Row 01: Setting O2 fugacity\n",
      "[10:37:01 - atmodeller.interior_atmosphere - DEBUG    ] - RHS vector = [ -5.72396903 -13.60086401]\n",
      "[10:37:01 - atmodeller.interior_atmosphere - DEBUG    ] - Fugacity coefficient vector = [2.8929824e-16 2.8929824e-16 2.8929824e-16 2.8929824e-16]\n",
      "[10:37:01 - atmodeller.interior_atmosphere - DEBUG    ] - Residual_reaction = [-1.07627964e+00  3.66666654e-04]\n",
      "[10:37:01 - atmodeller.interfaces          - DEBUG    ] - NoSolubility, f = 10.000000, T = 1500.000000, ppmw = 0.000000\n",
      "[10:37:01 - atmodeller.interfaces          - DEBUG    ] - NoSolubility, f = 10.000000, T = 1500.000000, ppmw = 0.000000\n",
      "[10:37:01 - atmodeller.interfaces          - DEBUG    ] - NoSolubility, f = 0.000000, T = 1500.000000, ppmw = 0.000000\n",
      "[10:37:01 - atmodeller.interfaces          - DEBUG    ] - NoSolubility, f = 10.000000, T = 1500.000000, ppmw = 0.000000\n",
      "[10:37:01 - atmodeller.interfaces          - DEBUG    ] - NoSolubility, f = 10.000000, T = 1500.000000, ppmw = 0.000000\n",
      "[10:37:01 - atmodeller.interfaces          - DEBUG    ] - NoSolubility, f = 10.000000, T = 1500.000000, ppmw = 0.000000\n",
      "[10:37:01 - atmodeller.interfaces          - DEBUG    ] - NoSolubility, f = 0.000000, T = 1500.000000, ppmw = 0.000000\n",
      "[10:37:01 - atmodeller.interfaces          - DEBUG    ] - NoSolubility, f = 10.000000, T = 1500.000000, ppmw = 0.000000\n",
      "[10:37:01 - atmodeller.interior_atmosphere - DEBUG    ] - Residual_mass = [-1.12338372  0.35069096]\n",
      "[10:37:01 - atmodeller.interior_atmosphere - DEBUG    ] - Residual = [-1.07627964e+00  3.66666654e-04 -1.12338372e+00  3.50690960e-01]\n",
      "[10:37:01 - atmodeller.interior_atmosphere - DEBUG    ] - log_solution = [  1.03788372   2.11423943 -13.60064948   0.10198691]\n",
      "[10:37:01 - atmodeller.interior_atmosphere - DEBUG    ] - Row 00: Reaction 0: 1.0 H2O = 1.0 H2 + 0.5 O2\n",
      "[10:37:01 - atmodeller.interior_atmosphere - DEBUG    ] - Row 01: Setting O2 fugacity\n",
      "[10:37:01 - atmodeller.interior_atmosphere - DEBUG    ] - RHS vector = [ -5.72396903 -13.59674763]\n",
      "[10:37:01 - atmodeller.interior_atmosphere - DEBUG    ] - Fugacity coefficient vector = [9.64327467e-17 9.64327467e-17 9.64327467e-17 9.64327467e-17]\n",
      "[10:37:01 - atmodeller.interior_atmosphere - DEBUG    ] - Residual_reaction = [ 2.47535326e-12 -3.90184742e-03]\n",
      "[10:37:01 - atmodeller.interfaces          - DEBUG    ] - NoSolubility, f = 10.911481, T = 1500.000000, ppmw = 0.000000\n",
      "[10:37:01 - atmodeller.interfaces          - DEBUG    ] - NoSolubility, f = 130.088657, T = 1500.000000, ppmw = 0.000000\n",
      "[10:37:01 - atmodeller.interfaces          - DEBUG    ] - NoSolubility, f = 0.000000, T = 1500.000000, ppmw = 0.000000\n",
      "[10:37:01 - atmodeller.interfaces          - DEBUG    ] - NoSolubility, f = 1.264698, T = 1500.000000, ppmw = 0.000000\n",
      "[10:37:01 - atmodeller.interfaces          - DEBUG    ] - NoSolubility, f = 10.911481, T = 1500.000000, ppmw = 0.000000\n",
      "[10:37:01 - atmodeller.interfaces          - DEBUG    ] - NoSolubility, f = 130.088657, T = 1500.000000, ppmw = 0.000000\n",
      "[10:37:01 - atmodeller.interfaces          - DEBUG    ] - NoSolubility, f = 0.000000, T = 1500.000000, ppmw = 0.000000\n",
      "[10:37:01 - atmodeller.interfaces          - DEBUG    ] - NoSolubility, f = 1.264698, T = 1500.000000, ppmw = 0.000000\n",
      "[10:37:01 - atmodeller.interior_atmosphere - DEBUG    ] - Residual_mass = [0.38845805 0.11633008]\n",
      "[10:37:01 - atmodeller.interior_atmosphere - DEBUG    ] - Residual = [ 2.47535326e-12 -3.90184742e-03  3.88458048e-01  1.16330079e-01]\n",
      "[10:37:01 - atmodeller.interior_atmosphere - DEBUG    ] - log_solution = [  0.77779176   1.85279548 -13.5979455    0.06281763]\n",
      "[10:37:01 - atmodeller.interior_atmosphere - DEBUG    ] - Row 00: Reaction 0: 1.0 H2O = 1.0 H2 + 0.5 O2\n",
      "[10:37:01 - atmodeller.interior_atmosphere - DEBUG    ] - Row 01: Setting O2 fugacity\n",
      "[10:37:01 - atmodeller.interior_atmosphere - DEBUG    ] - RHS vector = [ -5.72396903 -13.59908925]\n",
      "[10:37:01 - atmodeller.interior_atmosphere - DEBUG    ] - Fugacity coefficient vector = [3.85730987e-16 3.85730987e-16 3.85730987e-16 3.85730987e-16]\n",
      "[10:37:01 - atmodeller.interior_atmosphere - DEBUG    ] - Residual_reaction = [-1.82343030e-12  1.14374945e-03]\n",
      "[10:37:01 - atmodeller.interfaces          - DEBUG    ] - NoSolubility, f = 5.995035, T = 1500.000000, ppmw = 0.000000\n",
      "[10:37:01 - atmodeller.interfaces          - DEBUG    ] - NoSolubility, f = 71.251741, T = 1500.000000, ppmw = 0.000000\n",
      "[10:37:01 - atmodeller.interfaces          - DEBUG    ] - NoSolubility, f = 0.000000, T = 1500.000000, ppmw = 0.000000\n",
      "[10:37:01 - atmodeller.interfaces          - DEBUG    ] - NoSolubility, f = 1.155627, T = 1500.000000, ppmw = 0.000000\n",
      "[10:37:01 - atmodeller.interfaces          - DEBUG    ] - NoSolubility, f = 5.995035, T = 1500.000000, ppmw = 0.000000\n",
      "[10:37:01 - atmodeller.interfaces          - DEBUG    ] - NoSolubility, f = 71.251741, T = 1500.000000, ppmw = 0.000000\n",
      "[10:37:01 - atmodeller.interfaces          - DEBUG    ] - NoSolubility, f = 0.000000, T = 1500.000000, ppmw = 0.000000\n",
      "[10:37:01 - atmodeller.interfaces          - DEBUG    ] - NoSolubility, f = 1.155627, T = 1500.000000, ppmw = 0.000000\n",
      "[10:37:01 - atmodeller.interior_atmosphere - DEBUG    ] - Residual_mass = [0.10896113 0.05900305]\n",
      "[10:37:01 - atmodeller.interior_atmosphere - DEBUG    ] - Residual = [-1.82343030e-12  1.14374945e-03  1.08961126e-01  5.90030504e-02]\n",
      "[10:37:01 - atmodeller.interior_atmosphere - DEBUG    ] - log_solution = [ 6.60076505e-01  1.73618016e+00 -1.36001454e+01 -1.51225976e-03]\n",
      "[10:37:01 - atmodeller.interior_atmosphere - DEBUG    ] - Row 00: Reaction 0: 1.0 H2O = 1.0 H2 + 0.5 O2\n",
      "[10:37:01 - atmodeller.interior_atmosphere - DEBUG    ] - Row 01: Setting O2 fugacity\n",
      "[10:37:01 - atmodeller.interior_atmosphere - DEBUG    ] - RHS vector = [ -5.72396903 -13.5997625 ]\n",
      "[10:37:01 - atmodeller.interior_atmosphere - DEBUG    ] - Fugacity coefficient vector = [-4.82163733e-17 -4.82163733e-17 -4.82163733e-17 -4.82163733e-17]\n",
      "[10:37:01 - atmodeller.interior_atmosphere - DEBUG    ] - Residual_reaction = [ 2.86615176e-12 -3.82870528e-04]\n",
      "[10:37:01 - atmodeller.interfaces          - DEBUG    ] - NoSolubility, f = 4.571687, T = 1500.000000, ppmw = 0.000000\n",
      "[10:37:01 - atmodeller.interfaces          - DEBUG    ] - NoSolubility, f = 54.472858, T = 1500.000000, ppmw = 0.000000\n",
      "[10:37:01 - atmodeller.interfaces          - DEBUG    ] - NoSolubility, f = 0.000000, T = 1500.000000, ppmw = 0.000000\n",
      "[10:37:01 - atmodeller.interfaces          - DEBUG    ] - NoSolubility, f = 0.996524, T = 1500.000000, ppmw = 0.000000\n",
      "[10:37:01 - atmodeller.interfaces          - DEBUG    ] - NoSolubility, f = 4.571687, T = 1500.000000, ppmw = 0.000000\n",
      "[10:37:01 - atmodeller.interfaces          - DEBUG    ] - NoSolubility, f = 54.472858, T = 1500.000000, ppmw = 0.000000\n",
      "[10:37:01 - atmodeller.interfaces          - DEBUG    ] - NoSolubility, f = 0.000000, T = 1500.000000, ppmw = 0.000000\n",
      "[10:37:01 - atmodeller.interfaces          - DEBUG    ] - NoSolubility, f = 0.996524, T = 1500.000000, ppmw = 0.000000\n",
      "[10:37:01 - atmodeller.interior_atmosphere - DEBUG    ] - Residual_mass = [-0.01288014 -0.01046752]\n",
      "[10:37:01 - atmodeller.interior_atmosphere - DEBUG    ] - Residual = [ 2.86615176e-12 -3.82870528e-04 -1.28801401e-02 -1.04675248e-02]\n",
      "[10:37:01 - atmodeller.interior_atmosphere - DEBUG    ] - log_solution = [ 6.73697239e-01  1.74957110e+00 -1.35996858e+01  9.30831195e-03]\n",
      "[10:37:01 - atmodeller.interior_atmosphere - DEBUG    ] - Row 00: Reaction 0: 1.0 H2O = 1.0 H2 + 0.5 O2\n",
      "[10:37:01 - atmodeller.interior_atmosphere - DEBUG    ] - Row 01: Setting O2 fugacity\n",
      "[10:37:01 - atmodeller.interior_atmosphere - DEBUG    ] - RHS vector = [ -5.72396903 -13.5996937 ]\n",
      "[10:37:01 - atmodeller.interior_atmosphere - DEBUG    ] - Fugacity coefficient vector = [0. 0. 0. 0.]\n",
      "[10:37:01 - atmodeller.interior_atmosphere - DEBUG    ] - Residual_reaction = [-1.63424829e-13  7.92164744e-06]\n",
      "[10:37:01 - atmodeller.interfaces          - DEBUG    ] - NoSolubility, f = 4.717341, T = 1500.000000, ppmw = 0.000000\n",
      "[10:37:01 - atmodeller.interfaces          - DEBUG    ] - NoSolubility, f = 56.178624, T = 1500.000000, ppmw = 0.000000\n",
      "[10:37:01 - atmodeller.interfaces          - DEBUG    ] - NoSolubility, f = 0.000000, T = 1500.000000, ppmw = 0.000000\n",
      "[10:37:01 - atmodeller.interfaces          - DEBUG    ] - NoSolubility, f = 1.021665, T = 1500.000000, ppmw = 0.000000\n",
      "[10:37:01 - atmodeller.interfaces          - DEBUG    ] - NoSolubility, f = 4.717341, T = 1500.000000, ppmw = 0.000000\n",
      "[10:37:01 - atmodeller.interfaces          - DEBUG    ] - NoSolubility, f = 56.178624, T = 1500.000000, ppmw = 0.000000\n",
      "[10:37:01 - atmodeller.interfaces          - DEBUG    ] - NoSolubility, f = 0.000000, T = 1500.000000, ppmw = 0.000000\n",
      "[10:37:01 - atmodeller.interfaces          - DEBUG    ] - NoSolubility, f = 1.021665, T = 1500.000000, ppmw = 0.000000\n",
      "[10:37:01 - atmodeller.interior_atmosphere - DEBUG    ] - Residual_mass = [0.00074264 0.00056709]\n",
      "[10:37:01 - atmodeller.interior_atmosphere - DEBUG    ] - Residual = [-1.63424829e-13  7.92164744e-06  7.42635375e-04  5.67090939e-04]\n",
      "[10:37:01 - atmodeller.interior_atmosphere - DEBUG    ] - log_solution = [ 6.72970915e-01  1.74885059e+00 -1.35996974e+01  8.76306234e-03]\n",
      "[10:37:01 - atmodeller.interior_atmosphere - DEBUG    ] - Row 00: Reaction 0: 1.0 H2O = 1.0 H2 + 0.5 O2\n",
      "[10:37:01 - atmodeller.interior_atmosphere - DEBUG    ] - Row 01: Setting O2 fugacity\n",
      "[10:37:01 - atmodeller.interior_atmosphere - DEBUG    ] - RHS vector = [ -5.72396903 -13.59969745]\n",
      "[10:37:01 - atmodeller.interior_atmosphere - DEBUG    ] - Fugacity coefficient vector = [-9.64327467e-17 -9.64327467e-17 -9.64327467e-17 -9.64327467e-17]\n",
      "[10:37:01 - atmodeller.interior_atmosphere - DEBUG    ] - Residual_reaction = [-1.06581410e-14  4.46842474e-08]\n",
      "[10:37:01 - atmodeller.interfaces          - DEBUG    ] - NoSolubility, f = 4.709458, T = 1500.000000, ppmw = 0.000000\n",
      "[10:37:01 - atmodeller.interfaces          - DEBUG    ] - NoSolubility, f = 56.085499, T = 1500.000000, ppmw = 0.000000\n",
      "[10:37:01 - atmodeller.interfaces          - DEBUG    ] - NoSolubility, f = 0.000000, T = 1500.000000, ppmw = 0.000000\n",
      "[10:37:01 - atmodeller.interfaces          - DEBUG    ] - NoSolubility, f = 1.020383, T = 1500.000000, ppmw = 0.000000\n",
      "[10:37:01 - atmodeller.interfaces          - DEBUG    ] - NoSolubility, f = 4.709458, T = 1500.000000, ppmw = 0.000000\n",
      "[10:37:01 - atmodeller.interfaces          - DEBUG    ] - NoSolubility, f = 56.085499, T = 1500.000000, ppmw = 0.000000\n",
      "[10:37:01 - atmodeller.interfaces          - DEBUG    ] - NoSolubility, f = 0.000000, T = 1500.000000, ppmw = 0.000000\n",
      "[10:37:01 - atmodeller.interfaces          - DEBUG    ] - NoSolubility, f = 1.020383, T = 1500.000000, ppmw = 0.000000\n",
      "[10:37:01 - atmodeller.interior_atmosphere - DEBUG    ] - Residual_mass = [4.19001037e-06 4.35594316e-06]\n",
      "[10:37:01 - atmodeller.interior_atmosphere - DEBUG    ] - Residual = [-1.06581410e-14  4.46842474e-08  4.19001037e-06  4.35594316e-06]\n",
      "[10:37:01 - atmodeller.interior_atmosphere - DEBUG    ] - log_solution = [ 6.72966416e-01  1.74884612e+00 -1.35996975e+01  8.75849974e-03]\n",
      "[10:37:01 - atmodeller.interior_atmosphere - DEBUG    ] - Row 00: Reaction 0: 1.0 H2O = 1.0 H2 + 0.5 O2\n",
      "[10:37:01 - atmodeller.interior_atmosphere - DEBUG    ] - Row 01: Setting O2 fugacity\n",
      "[10:37:01 - atmodeller.interior_atmosphere - DEBUG    ] - RHS vector = [ -5.72396903 -13.59969747]\n",
      "[10:37:01 - atmodeller.interior_atmosphere - DEBUG    ] - Fugacity coefficient vector = [4.82163733e-16 4.82163733e-16 4.82163733e-16 4.82163733e-16]\n",
      "[10:37:01 - atmodeller.interior_atmosphere - DEBUG    ] - Residual_reaction = [0.00000000e+00 4.26483737e-10]\n",
      "[10:37:01 - atmodeller.interfaces          - DEBUG    ] - NoSolubility, f = 4.709409, T = 1500.000000, ppmw = 0.000000\n",
      "[10:37:01 - atmodeller.interfaces          - DEBUG    ] - NoSolubility, f = 56.084922, T = 1500.000000, ppmw = 0.000000\n",
      "[10:37:01 - atmodeller.interfaces          - DEBUG    ] - NoSolubility, f = 0.000000, T = 1500.000000, ppmw = 0.000000\n",
      "[10:37:01 - atmodeller.interfaces          - DEBUG    ] - NoSolubility, f = 1.020372, T = 1500.000000, ppmw = 0.000000\n",
      "[10:37:01 - atmodeller.interfaces          - DEBUG    ] - NoSolubility, f = 4.709409, T = 1500.000000, ppmw = 0.000000\n",
      "[10:37:01 - atmodeller.interfaces          - DEBUG    ] - NoSolubility, f = 56.084922, T = 1500.000000, ppmw = 0.000000\n",
      "[10:37:01 - atmodeller.interfaces          - DEBUG    ] - NoSolubility, f = 0.000000, T = 1500.000000, ppmw = 0.000000\n",
      "[10:37:01 - atmodeller.interfaces          - DEBUG    ] - NoSolubility, f = 1.020372, T = 1500.000000, ppmw = 0.000000\n",
      "[10:37:01 - atmodeller.interior_atmosphere - DEBUG    ] - Residual_mass = [-2.57678884e-07 -1.85948153e-07]\n",
      "[10:37:01 - atmodeller.interior_atmosphere - DEBUG    ] - Residual = [ 0.00000000e+00  4.26483737e-10 -2.57678884e-07 -1.85948153e-07]\n",
      "[10:37:01 - atmodeller.interior_atmosphere - DEBUG    ] - log_solution = [ 6.72966652e-01  1.74884636e+00 -1.35996975e+01  8.75866775e-03]\n",
      "[10:37:01 - atmodeller.interior_atmosphere - DEBUG    ] - Row 00: Reaction 0: 1.0 H2O = 1.0 H2 + 0.5 O2\n",
      "[10:37:01 - atmodeller.interior_atmosphere - DEBUG    ] - Row 01: Setting O2 fugacity\n",
      "[10:37:01 - atmodeller.interior_atmosphere - DEBUG    ] - RHS vector = [ -5.72396903 -13.59969747]\n",
      "[10:37:01 - atmodeller.interior_atmosphere - DEBUG    ] - Fugacity coefficient vector = [5.7859648e-16 5.7859648e-16 5.7859648e-16 5.7859648e-16]\n",
      "[10:37:01 - atmodeller.interior_atmosphere - DEBUG    ] - Residual_reaction = [-8.88178420e-16  2.51620946e-11]\n",
      "[10:37:01 - atmodeller.interfaces          - DEBUG    ] - NoSolubility, f = 4.709412, T = 1500.000000, ppmw = 0.000000\n",
      "[10:37:01 - atmodeller.interfaces          - DEBUG    ] - NoSolubility, f = 56.084953, T = 1500.000000, ppmw = 0.000000\n",
      "[10:37:01 - atmodeller.interfaces          - DEBUG    ] - NoSolubility, f = 0.000000, T = 1500.000000, ppmw = 0.000000\n",
      "[10:37:01 - atmodeller.interfaces          - DEBUG    ] - NoSolubility, f = 1.020372, T = 1500.000000, ppmw = 0.000000\n",
      "[10:37:01 - atmodeller.interfaces          - DEBUG    ] - NoSolubility, f = 4.709412, T = 1500.000000, ppmw = 0.000000\n",
      "[10:37:01 - atmodeller.interfaces          - DEBUG    ] - NoSolubility, f = 56.084953, T = 1500.000000, ppmw = 0.000000\n",
      "[10:37:01 - atmodeller.interfaces          - DEBUG    ] - NoSolubility, f = 0.000000, T = 1500.000000, ppmw = 0.000000\n",
      "[10:37:01 - atmodeller.interfaces          - DEBUG    ] - NoSolubility, f = 1.020372, T = 1500.000000, ppmw = 0.000000\n",
      "[10:37:01 - atmodeller.interior_atmosphere - DEBUG    ] - Residual_mass = [-1.42721390e-08 -1.06038591e-08]\n",
      "[10:37:01 - atmodeller.interior_atmosphere - DEBUG    ] - Residual = [-8.88178420e-16  2.51620946e-11 -1.42721390e-08 -1.06038591e-08]\n",
      "[10:37:01 - atmodeller.interior_atmosphere - DEBUG    ] - log_solution = [ 6.72966666e-01  1.74884637e+00 -1.35996975e+01  8.75867801e-03]\n",
      "[10:37:01 - atmodeller.interior_atmosphere - DEBUG    ] - Row 00: Reaction 0: 1.0 H2O = 1.0 H2 + 0.5 O2\n",
      "[10:37:01 - atmodeller.interior_atmosphere - DEBUG    ] - Row 01: Setting O2 fugacity\n",
      "[10:37:01 - atmodeller.interior_atmosphere - DEBUG    ] - RHS vector = [ -5.72396903 -13.59969747]\n",
      "[10:37:01 - atmodeller.interior_atmosphere - DEBUG    ] - Fugacity coefficient vector = [-9.64327467e-17 -9.64327467e-17 -9.64327467e-17 -9.64327467e-17]\n",
      "[10:37:01 - atmodeller.interior_atmosphere - DEBUG    ] - Residual_reaction = [ 8.88178420e-16 -1.24344979e-13]\n",
      "[10:37:01 - atmodeller.interfaces          - DEBUG    ] - NoSolubility, f = 4.709412, T = 1500.000000, ppmw = 0.000000\n",
      "[10:37:01 - atmodeller.interfaces          - DEBUG    ] - NoSolubility, f = 56.084955, T = 1500.000000, ppmw = 0.000000\n",
      "[10:37:01 - atmodeller.interfaces          - DEBUG    ] - NoSolubility, f = 0.000000, T = 1500.000000, ppmw = 0.000000\n",
      "[10:37:01 - atmodeller.interfaces          - DEBUG    ] - NoSolubility, f = 1.020372, T = 1500.000000, ppmw = 0.000000\n",
      "[10:37:01 - atmodeller.interfaces          - DEBUG    ] - NoSolubility, f = 4.709412, T = 1500.000000, ppmw = 0.000000\n",
      "[10:37:01 - atmodeller.interfaces          - DEBUG    ] - NoSolubility, f = 56.084955, T = 1500.000000, ppmw = 0.000000\n",
      "[10:37:01 - atmodeller.interfaces          - DEBUG    ] - NoSolubility, f = 0.000000, T = 1500.000000, ppmw = 0.000000\n",
      "[10:37:01 - atmodeller.interfaces          - DEBUG    ] - NoSolubility, f = 1.020372, T = 1500.000000, ppmw = 0.000000\n",
      "[10:37:01 - atmodeller.interior_atmosphere - DEBUG    ] - Residual_mass = [7.19033721e-11 5.19158050e-11]\n",
      "[10:37:01 - atmodeller.interior_atmosphere - DEBUG    ] - Residual = [ 8.88178420e-16 -1.24344979e-13  7.19033721e-11  5.19158050e-11]\n",
      "[10:37:01 - atmodeller.interior_atmosphere - INFO     ] - The solution converged.\n",
      "[10:37:01 - atmodeller.interior_atmosphere - DEBUG    ] - sol =  message: The solution converged.\n",
      " success: True\n",
      "  status: 1\n",
      "     fun: [ 8.882e-16 -1.243e-13  7.190e-11  5.192e-11]\n",
      "       x: [ 6.730e-01  1.749e+00 -1.360e+01  8.759e-03]\n",
      "    nfev: 13\n",
      "    fjac: [[-9.403e-01 -1.161e-03  3.305e-01 -8.189e-02]\n",
      "           [ 3.082e-01 -4.055e-03  9.284e-01  2.076e-01]\n",
      "           [-1.035e-02 -9.975e-01 -1.612e-02  6.795e-02]\n",
      "           [ 1.443e-01 -7.047e-02  1.693e-01 -9.724e-01]]\n",
      "       r: [ 1.064e+00 -6.647e-01 -4.703e-01 -1.674e-01  1.217e+00\n",
      "            1.538e-01 -1.486e-01 -1.003e+00  5.487e-02 -7.695e-01]\n",
      "     qtf: [-3.848e-09 -1.545e-08 -5.156e-10  7.894e-09]\n",
      "[10:37:01 - atmodeller.interior_atmosphere - DEBUG    ] - Initial guess solution = [  1.           1.         -13.60049734   1.        ]\n",
      "[10:37:01 - atmodeller.interior_atmosphere - DEBUG    ] - Actual solution = [ 6.72966666e-01  1.74884637e+00 -1.35996975e+01  8.75867801e-03]\n",
      "[10:37:01 - atmodeller.interior_atmosphere - INFO     ] - InitialConditionConstant: RMSE (actual vs initial) = 0.6423164504232113\n",
      "[10:37:01 - atmodeller.interfaces          - DEBUG    ] - NoSolubility, f = 4.709412, T = 1500.000000, ppmw = 0.000000\n",
      "[10:37:01 - atmodeller.interfaces          - DEBUG    ] - NoSolubility, f = 56.084955, T = 1500.000000, ppmw = 0.000000\n",
      "[10:37:01 - atmodeller.interfaces          - DEBUG    ] - NoSolubility, f = 0.000000, T = 1500.000000, ppmw = 0.000000\n",
      "[10:37:01 - atmodeller.interfaces          - DEBUG    ] - NoSolubility, f = 1.020372, T = 1500.000000, ppmw = 0.000000\n",
      "[10:37:01 - atmodeller.interior_atmosphere - INFO     ] - {'CO': 1.0203723415393124,\n",
      " 'H2': 56.08495464139533,\n",
      " 'H2O': 4.709411784734093,\n",
      " 'O2': 2.5136368338875423e-14}\n"
     ]
    }
   ],
   "source": [
    "interior_atmosphere.solve(constraints)"
   ]
  },
  {
   "cell_type": "markdown",
   "metadata": {},
   "source": [
    "# With H2O solubility"
   ]
  },
  {
   "cell_type": "code",
   "execution_count": 61,
   "metadata": {},
   "outputs": [
    {
     "name": "stderr",
     "output_type": "stream",
     "text": [
      "[10:37:02 - atmodeller.interfaces          - DEBUG    ] - Modified Hill formula = H2O\n",
      "[10:37:02 - atmodeller.interfaces          - DEBUG    ] - Thermodynamic data for H2O found in JANAF (JANAF name = H2O)\n",
      "[10:37:02 - atmodeller.interfaces          - INFO     ] - Creating GasSpecies H2O using thermodynamic data in JANAF (JANAF name = H2O)\n",
      "[10:37:02 - atmodeller.interfaces          - DEBUG    ] - Modified Hill formula = H2\n",
      "[10:37:02 - atmodeller.interfaces          - DEBUG    ] - Thermodynamic data for H2 found in JANAF (JANAF name = H2)\n",
      "[10:37:02 - atmodeller.interfaces          - INFO     ] - Creating GasSpecies H2 using thermodynamic data in JANAF (JANAF name = H2)\n",
      "[10:37:02 - atmodeller.interfaces          - DEBUG    ] - Modified Hill formula = O2\n",
      "[10:37:02 - atmodeller.interfaces          - DEBUG    ] - Thermodynamic data for O2 found in JANAF (JANAF name = O2)\n",
      "[10:37:02 - atmodeller.interfaces          - INFO     ] - Creating GasSpecies O2 using thermodynamic data in JANAF (JANAF name = O2)\n",
      "[10:37:02 - atmodeller.interfaces          - DEBUG    ] - Modified Hill formula = CO\n",
      "[10:37:02 - atmodeller.interfaces          - DEBUG    ] - Thermodynamic data for CO found in JANAF (JANAF name = CO)\n",
      "[10:37:02 - atmodeller.interfaces          - INFO     ] - Creating GasSpecies CO using thermodynamic data in JANAF (JANAF name = CO)\n"
     ]
    },
    {
     "data": {
      "text/plain": [
       "Species([GasSpecies(formula='H2O', thermodynamic_dataset=<atmodeller.interfaces.ThermodynamicDatasetJANAF object at 0x127608750>, name_in_dataset='H2O', _formula=Formula('H2O'), _thermodynamic_data=ThermodynamicDatasetJANAF.ThermodynamicDataForSpecies(species=..., data_source='JANAF', data=<thermochem.janaf.JanafPhase object at 0x127646dd0>), _output=None, solubility=<atmodeller.solubilities.BasaltDixonH2O object at 0x127644910>, solid_melt_distribution_coefficient=0, eos=IdealGas(critical_temperature=1, critical_pressure=1, standard_state_pressure=1)),\n",
       "         GasSpecies(formula='H2', thermodynamic_dataset=<atmodeller.interfaces.ThermodynamicDatasetJANAF object at 0x126e19010>, name_in_dataset='H2', _formula=Formula('H2'), _thermodynamic_data=ThermodynamicDatasetJANAF.ThermodynamicDataForSpecies(species=..., data_source='JANAF', data=<thermochem.janaf.JanafPhase object at 0x1277b3dd0>), _output=None, solubility=<atmodeller.interfaces.NoSolubility object at 0x1276eafd0>, solid_melt_distribution_coefficient=0, eos=IdealGas(critical_temperature=1, critical_pressure=1, standard_state_pressure=1)),\n",
       "         GasSpecies(formula='O2', thermodynamic_dataset=<atmodeller.interfaces.ThermodynamicDatasetJANAF object at 0x126f12750>, name_in_dataset='O2', _formula=Formula('O2'), _thermodynamic_data=ThermodynamicDatasetJANAF.ThermodynamicDataForSpecies(species=..., data_source='JANAF', data=<thermochem.janaf.JanafPhase object at 0x127802090>), _output=None, solubility=<atmodeller.interfaces.NoSolubility object at 0x1277b3fd0>, solid_melt_distribution_coefficient=0, eos=IdealGas(critical_temperature=1, critical_pressure=1, standard_state_pressure=1)),\n",
       "         GasSpecies(formula='CO', thermodynamic_dataset=<atmodeller.interfaces.ThermodynamicDatasetJANAF object at 0x126e823d0>, name_in_dataset='CO', _formula=Formula('CO'), _thermodynamic_data=ThermodynamicDatasetJANAF.ThermodynamicDataForSpecies(species=..., data_source='JANAF', data=<thermochem.janaf.JanafPhase object at 0x1275f9350>), _output=None, solubility=<atmodeller.interfaces.NoSolubility object at 0x127824550>, solid_melt_distribution_coefficient=0, eos=IdealGas(critical_temperature=1, critical_pressure=1, standard_state_pressure=1))])"
      ]
     },
     "execution_count": 61,
     "metadata": {},
     "output_type": "execute_result"
    }
   ],
   "source": [
    "species: Species = Species()\n",
    "species.append(GasSpecies(formula=\"H2O\", solubility=BasaltDixonH2O()))\n",
    "species.append(GasSpecies(formula='H2'))\n",
    "species.append(GasSpecies(formula='O2'))\n",
    "species.append(GasSpecies(formula='CO'))\n",
    "#species.append(GasSpecies(formula='CO2'))\n",
    "species"
   ]
  },
  {
   "cell_type": "code",
   "execution_count": 62,
   "metadata": {},
   "outputs": [
    {
     "name": "stderr",
     "output_type": "stream",
     "text": [
      "[10:37:02 - atmodeller.initial_condition   - INFO     ] - Creating InitialConditionConstant\n",
      "[10:37:02 - atmodeller.interior_atmosphere - INFO     ] - Creating an interior-atmosphere system\n",
      "[10:37:02 - atmodeller.interior_atmosphere - INFO     ] - Creating a reaction network\n",
      "[10:37:02 - atmodeller.interior_atmosphere - INFO     ] - Species = ['H2O', 'H2', 'O2', 'CO']\n",
      "[10:37:02 - atmodeller.interior_atmosphere - DEBUG    ] - augmented_matrix = \n",
      "[[1. 0. 2. 1. 0. 0. 0.]\n",
      " [0. 0. 2. 0. 1. 0. 0.]\n",
      " [2. 0. 0. 0. 0. 1. 0.]\n",
      " [1. 1. 0. 0. 0. 0. 1.]]\n",
      "[10:37:02 - atmodeller.interior_atmosphere - DEBUG    ] - Augmented_matrix after forward elimination = \n",
      "[[ 1.   0.   2.   1.   0.   0.   0. ]\n",
      " [ 0.   1.  -2.  -1.   0.   0.   1. ]\n",
      " [ 0.   0.  -4.  -2.   0.   1.   0. ]\n",
      " [ 0.   0.   0.  -1.   1.   0.5  0. ]]\n",
      "[10:37:02 - atmodeller.interior_atmosphere - DEBUG    ] - Augmented_matrix after backward substitution = \n",
      "[[ 1.    0.    0.    0.    0.    0.5   0.  ]\n",
      " [ 0.    1.    0.    0.    0.   -0.5   1.  ]\n",
      " [-0.   -0.    1.    0.5  -0.   -0.25 -0.  ]\n",
      " [ 0.    0.    0.   -1.    1.    0.5   0.  ]]\n",
      "[10:37:02 - atmodeller.interior_atmosphere - DEBUG    ] - Reduced_matrix1 = \n",
      "[[ 1.  0.  0.]\n",
      " [ 0.  1.  0.]\n",
      " [-0. -0.  1.]\n",
      " [ 0.  0.  0.]]\n",
      "[10:37:02 - atmodeller.interior_atmosphere - DEBUG    ] - Reaction_matrix = \n",
      "[[-1.   1.   0.5  0. ]]\n",
      "[10:37:02 - atmodeller.interior_atmosphere - INFO     ] - Reactions = \n",
      "{0: '1.0 H2O = 1.0 H2 + 0.5 O2'}\n"
     ]
    }
   ],
   "source": [
    "interior_atmosphere_sol: InteriorAtmosphereSystem = InteriorAtmosphereSystem(species=species, planet=planet)"
   ]
  },
  {
   "cell_type": "code",
   "execution_count": 63,
   "metadata": {},
   "outputs": [
    {
     "name": "stderr",
     "output_type": "stream",
     "text": [
      "[10:37:02 - atmodeller.interior_atmosphere - INFO     ] - Solving system number 0\n",
      "[10:37:02 - atmodeller.interior_atmosphere - DEBUG    ] - Set constraints\n",
      "[10:37:02 - atmodeller.interior_atmosphere - DEBUG    ] - Constraints: [MassConstraint(name='mass', species='H', value=1.5500015377899477e+20),\n",
      " MassConstraint(name='mass', species='C', value=1.550001537789948e+19),\n",
      " IronWustiteBufferConstraintHirschmann(name='fugacity',\n",
      "                                       species='O2',\n",
      "                                       log10_shift=-2,\n",
      "                                       pressure=None)]\n",
      "[10:37:02 - atmodeller.initial_condition   - DEBUG    ] - InitialConditionConstant: value = 10\n",
      "[10:37:02 - atmodeller.interior_atmosphere - DEBUG    ] - Setting O2 2\n",
      "[10:37:02 - atmodeller.interior_atmosphere - DEBUG    ] - total_pressure = 30.000000000000025\n",
      "[10:37:02 - atmodeller.interior_atmosphere - DEBUG    ] - Conforming initial solution to constraints = [  1.           1.         -13.60049734   1.        ]\n",
      "[10:37:02 - atmodeller.interior_atmosphere - DEBUG    ] - 2 additional (mass) constraint(s) are necessary to solve the system\n",
      "[10:37:02 - atmodeller.interior_atmosphere - DEBUG    ] - Apply fugacity constraint for O2\n",
      "[10:37:02 - atmodeller.interior_atmosphere - DEBUG    ] - Row 01: Setting O2 coefficient\n",
      "[10:37:02 - atmodeller.interior_atmosphere - DEBUG    ] - Species = ['H2O', 'H2', 'O2', 'CO']\n",
      "[10:37:02 - atmodeller.interior_atmosphere - DEBUG    ] - Coefficient matrix = \n",
      "[[-1.   1.   0.5  0. ]\n",
      " [ 0.   0.   1.   0. ]]\n",
      "[10:37:02 - atmodeller.interior_atmosphere - DEBUG    ] - log_solution = [  1.           1.         -13.60049734   1.        ]\n",
      "[10:37:02 - atmodeller.interior_atmosphere - DEBUG    ] - Row 00: Reaction 0: 1.0 H2O = 1.0 H2 + 0.5 O2\n",
      "[10:37:02 - atmodeller.interior_atmosphere - DEBUG    ] - Row 01: Setting O2 fugacity\n",
      "[10:37:02 - atmodeller.interior_atmosphere - DEBUG    ] - RHS vector = [ -5.72396903 -13.60086401]\n",
      "[10:37:02 - atmodeller.interior_atmosphere - DEBUG    ] - Fugacity coefficient vector = [2.8929824e-16 2.8929824e-16 2.8929824e-16 2.8929824e-16]\n",
      "[10:37:02 - atmodeller.interior_atmosphere - DEBUG    ] - Residual_reaction = [-1.07627964e+00  3.66666667e-04]\n",
      "[10:37:02 - atmodeller.interfaces          - DEBUG    ] - BasaltDixonH2O, f = 10.000000, T = 1500.000000, ppmw = 3051.597942\n",
      "[10:37:02 - atmodeller.interfaces          - DEBUG    ] - NoSolubility, f = 10.000000, T = 1500.000000, ppmw = 0.000000\n",
      "[10:37:02 - atmodeller.interfaces          - DEBUG    ] - NoSolubility, f = 0.000000, T = 1500.000000, ppmw = 0.000000\n",
      "[10:37:02 - atmodeller.interfaces          - DEBUG    ] - NoSolubility, f = 10.000000, T = 1500.000000, ppmw = 0.000000\n",
      "[10:37:02 - atmodeller.interfaces          - DEBUG    ] - BasaltDixonH2O, f = 10.000000, T = 1500.000000, ppmw = 3051.597942\n",
      "[10:37:02 - atmodeller.interfaces          - DEBUG    ] - NoSolubility, f = 10.000000, T = 1500.000000, ppmw = 0.000000\n",
      "[10:37:02 - atmodeller.interfaces          - DEBUG    ] - NoSolubility, f = 0.000000, T = 1500.000000, ppmw = 0.000000\n",
      "[10:37:02 - atmodeller.interfaces          - DEBUG    ] - NoSolubility, f = 10.000000, T = 1500.000000, ppmw = 0.000000\n",
      "[10:37:02 - atmodeller.interior_atmosphere - DEBUG    ] - Residual_mass = [0.85931198 0.35069095]\n",
      "[10:37:02 - atmodeller.interior_atmosphere - DEBUG    ] - Residual = [-1.07627964e+00  3.66666667e-04  8.59311979e-01  3.50690949e-01]\n",
      "[10:37:02 - atmodeller.interior_atmosphere - DEBUG    ] - log_solution = [  1.           1.         -13.60049734   1.        ]\n",
      "[10:37:02 - atmodeller.interior_atmosphere - DEBUG    ] - Row 00: Reaction 0: 1.0 H2O = 1.0 H2 + 0.5 O2\n",
      "[10:37:02 - atmodeller.interior_atmosphere - DEBUG    ] - Row 01: Setting O2 fugacity\n",
      "[10:37:02 - atmodeller.interior_atmosphere - DEBUG    ] - RHS vector = [ -5.72396903 -13.60086401]\n",
      "[10:37:02 - atmodeller.interior_atmosphere - DEBUG    ] - Fugacity coefficient vector = [2.8929824e-16 2.8929824e-16 2.8929824e-16 2.8929824e-16]\n",
      "[10:37:02 - atmodeller.interior_atmosphere - DEBUG    ] - Residual_reaction = [-1.07627964e+00  3.66666667e-04]\n",
      "[10:37:02 - atmodeller.interfaces          - DEBUG    ] - BasaltDixonH2O, f = 10.000000, T = 1500.000000, ppmw = 3051.597942\n",
      "[10:37:02 - atmodeller.interfaces          - DEBUG    ] - NoSolubility, f = 10.000000, T = 1500.000000, ppmw = 0.000000\n",
      "[10:37:02 - atmodeller.interfaces          - DEBUG    ] - NoSolubility, f = 0.000000, T = 1500.000000, ppmw = 0.000000\n",
      "[10:37:02 - atmodeller.interfaces          - DEBUG    ] - NoSolubility, f = 10.000000, T = 1500.000000, ppmw = 0.000000\n",
      "[10:37:02 - atmodeller.interfaces          - DEBUG    ] - BasaltDixonH2O, f = 10.000000, T = 1500.000000, ppmw = 3051.597942\n",
      "[10:37:02 - atmodeller.interfaces          - DEBUG    ] - NoSolubility, f = 10.000000, T = 1500.000000, ppmw = 0.000000\n",
      "[10:37:02 - atmodeller.interfaces          - DEBUG    ] - NoSolubility, f = 0.000000, T = 1500.000000, ppmw = 0.000000\n",
      "[10:37:02 - atmodeller.interfaces          - DEBUG    ] - NoSolubility, f = 10.000000, T = 1500.000000, ppmw = 0.000000\n",
      "[10:37:02 - atmodeller.interior_atmosphere - DEBUG    ] - Residual_mass = [0.85931198 0.35069095]\n",
      "[10:37:02 - atmodeller.interior_atmosphere - DEBUG    ] - Residual = [-1.07627964e+00  3.66666667e-04  8.59311979e-01  3.50690949e-01]\n",
      "[10:37:02 - atmodeller.interior_atmosphere - DEBUG    ] - log_solution = [  1.           1.         -13.60049734   1.        ]\n",
      "[10:37:02 - atmodeller.interior_atmosphere - DEBUG    ] - Row 00: Reaction 0: 1.0 H2O = 1.0 H2 + 0.5 O2\n",
      "[10:37:02 - atmodeller.interior_atmosphere - DEBUG    ] - Row 01: Setting O2 fugacity\n",
      "[10:37:02 - atmodeller.interior_atmosphere - DEBUG    ] - RHS vector = [ -5.72396903 -13.60086401]\n",
      "[10:37:02 - atmodeller.interior_atmosphere - DEBUG    ] - Fugacity coefficient vector = [2.8929824e-16 2.8929824e-16 2.8929824e-16 2.8929824e-16]\n",
      "[10:37:02 - atmodeller.interior_atmosphere - DEBUG    ] - Residual_reaction = [-1.07627964e+00  3.66666667e-04]\n",
      "[10:37:02 - atmodeller.interfaces          - DEBUG    ] - BasaltDixonH2O, f = 10.000000, T = 1500.000000, ppmw = 3051.597942\n",
      "[10:37:02 - atmodeller.interfaces          - DEBUG    ] - NoSolubility, f = 10.000000, T = 1500.000000, ppmw = 0.000000\n",
      "[10:37:02 - atmodeller.interfaces          - DEBUG    ] - NoSolubility, f = 0.000000, T = 1500.000000, ppmw = 0.000000\n",
      "[10:37:02 - atmodeller.interfaces          - DEBUG    ] - NoSolubility, f = 10.000000, T = 1500.000000, ppmw = 0.000000\n",
      "[10:37:02 - atmodeller.interfaces          - DEBUG    ] - BasaltDixonH2O, f = 10.000000, T = 1500.000000, ppmw = 3051.597942\n",
      "[10:37:02 - atmodeller.interfaces          - DEBUG    ] - NoSolubility, f = 10.000000, T = 1500.000000, ppmw = 0.000000\n",
      "[10:37:02 - atmodeller.interfaces          - DEBUG    ] - NoSolubility, f = 0.000000, T = 1500.000000, ppmw = 0.000000\n",
      "[10:37:02 - atmodeller.interfaces          - DEBUG    ] - NoSolubility, f = 10.000000, T = 1500.000000, ppmw = 0.000000\n",
      "[10:37:02 - atmodeller.interior_atmosphere - DEBUG    ] - Residual_mass = [0.85931198 0.35069095]\n",
      "[10:37:02 - atmodeller.interior_atmosphere - DEBUG    ] - Residual = [-1.07627964e+00  3.66666667e-04  8.59311979e-01  3.50690949e-01]\n",
      "[10:37:02 - atmodeller.interior_atmosphere - DEBUG    ] - log_solution = [  1.00000001   1.         -13.60049734   1.        ]\n",
      "[10:37:02 - atmodeller.interior_atmosphere - DEBUG    ] - Row 00: Reaction 0: 1.0 H2O = 1.0 H2 + 0.5 O2\n",
      "[10:37:02 - atmodeller.interior_atmosphere - DEBUG    ] - Row 01: Setting O2 fugacity\n",
      "[10:37:02 - atmodeller.interior_atmosphere - DEBUG    ] - RHS vector = [ -5.72396903 -13.60086401]\n",
      "[10:37:02 - atmodeller.interior_atmosphere - DEBUG    ] - Fugacity coefficient vector = [3.85730987e-16 3.85730987e-16 3.85730987e-16 3.85730987e-16]\n",
      "[10:37:02 - atmodeller.interior_atmosphere - DEBUG    ] - Residual_reaction = [-1.07627966e+00  3.66666654e-04]\n",
      "[10:37:02 - atmodeller.interfaces          - DEBUG    ] - BasaltDixonH2O, f = 10.000000, T = 1500.000000, ppmw = 3051.597994\n",
      "[10:37:02 - atmodeller.interfaces          - DEBUG    ] - NoSolubility, f = 10.000000, T = 1500.000000, ppmw = 0.000000\n",
      "[10:37:02 - atmodeller.interfaces          - DEBUG    ] - NoSolubility, f = 0.000000, T = 1500.000000, ppmw = 0.000000\n",
      "[10:37:02 - atmodeller.interfaces          - DEBUG    ] - NoSolubility, f = 10.000000, T = 1500.000000, ppmw = 0.000000\n",
      "[10:37:02 - atmodeller.interfaces          - DEBUG    ] - BasaltDixonH2O, f = 10.000000, T = 1500.000000, ppmw = 3051.597994\n",
      "[10:37:02 - atmodeller.interfaces          - DEBUG    ] - NoSolubility, f = 10.000000, T = 1500.000000, ppmw = 0.000000\n",
      "[10:37:02 - atmodeller.interfaces          - DEBUG    ] - NoSolubility, f = 0.000000, T = 1500.000000, ppmw = 0.000000\n",
      "[10:37:02 - atmodeller.interfaces          - DEBUG    ] - NoSolubility, f = 10.000000, T = 1500.000000, ppmw = 0.000000\n",
      "[10:37:02 - atmodeller.interior_atmosphere - DEBUG    ] - Residual_mass = [0.85931199 0.35069095]\n",
      "[10:37:02 - atmodeller.interior_atmosphere - DEBUG    ] - Residual = [-1.07627966e+00  3.66666654e-04  8.59311987e-01  3.50690949e-01]\n",
      "[10:37:02 - atmodeller.interior_atmosphere - DEBUG    ] - log_solution = [  1.           1.00000001 -13.60049734   1.        ]\n",
      "[10:37:02 - atmodeller.interior_atmosphere - DEBUG    ] - Row 00: Reaction 0: 1.0 H2O = 1.0 H2 + 0.5 O2\n",
      "[10:37:02 - atmodeller.interior_atmosphere - DEBUG    ] - Row 01: Setting O2 fugacity\n",
      "[10:37:02 - atmodeller.interior_atmosphere - DEBUG    ] - RHS vector = [ -5.72396903 -13.60086401]\n",
      "[10:37:02 - atmodeller.interior_atmosphere - DEBUG    ] - Fugacity coefficient vector = [3.85730987e-16 3.85730987e-16 3.85730987e-16 3.85730987e-16]\n",
      "[10:37:02 - atmodeller.interior_atmosphere - DEBUG    ] - Residual_reaction = [-1.07627963e+00  3.66666654e-04]\n",
      "[10:37:02 - atmodeller.interfaces          - DEBUG    ] - BasaltDixonH2O, f = 10.000000, T = 1500.000000, ppmw = 3051.597942\n",
      "[10:37:02 - atmodeller.interfaces          - DEBUG    ] - NoSolubility, f = 10.000000, T = 1500.000000, ppmw = 0.000000\n",
      "[10:37:02 - atmodeller.interfaces          - DEBUG    ] - NoSolubility, f = 0.000000, T = 1500.000000, ppmw = 0.000000\n",
      "[10:37:02 - atmodeller.interfaces          - DEBUG    ] - NoSolubility, f = 10.000000, T = 1500.000000, ppmw = 0.000000\n",
      "[10:37:02 - atmodeller.interfaces          - DEBUG    ] - BasaltDixonH2O, f = 10.000000, T = 1500.000000, ppmw = 3051.597942\n",
      "[10:37:02 - atmodeller.interfaces          - DEBUG    ] - NoSolubility, f = 10.000000, T = 1500.000000, ppmw = 0.000000\n",
      "[10:37:02 - atmodeller.interfaces          - DEBUG    ] - NoSolubility, f = 0.000000, T = 1500.000000, ppmw = 0.000000\n",
      "[10:37:02 - atmodeller.interfaces          - DEBUG    ] - NoSolubility, f = 10.000000, T = 1500.000000, ppmw = 0.000000\n",
      "[10:37:02 - atmodeller.interior_atmosphere - DEBUG    ] - Residual_mass = [0.85931198 0.35069095]\n",
      "[10:37:02 - atmodeller.interior_atmosphere - DEBUG    ] - Residual = [-1.07627963e+00  3.66666654e-04  8.59311980e-01  3.50690954e-01]\n",
      "[10:37:02 - atmodeller.interior_atmosphere - DEBUG    ] - log_solution = [  1.           1.         -13.60049714   1.        ]\n",
      "[10:37:02 - atmodeller.interior_atmosphere - DEBUG    ] - Row 00: Reaction 0: 1.0 H2O = 1.0 H2 + 0.5 O2\n",
      "[10:37:02 - atmodeller.interior_atmosphere - DEBUG    ] - Row 01: Setting O2 fugacity\n",
      "[10:37:02 - atmodeller.interior_atmosphere - DEBUG    ] - RHS vector = [ -5.72396903 -13.60086401]\n",
      "[10:37:02 - atmodeller.interior_atmosphere - DEBUG    ] - Fugacity coefficient vector = [2.8929824e-16 2.8929824e-16 2.8929824e-16 2.8929824e-16]\n",
      "[10:37:02 - atmodeller.interior_atmosphere - DEBUG    ] - Residual_reaction = [-1.07627954e+00  3.66869330e-04]\n",
      "[10:37:02 - atmodeller.interfaces          - DEBUG    ] - BasaltDixonH2O, f = 10.000000, T = 1500.000000, ppmw = 3051.597942\n",
      "[10:37:02 - atmodeller.interfaces          - DEBUG    ] - NoSolubility, f = 10.000000, T = 1500.000000, ppmw = 0.000000\n",
      "[10:37:02 - atmodeller.interfaces          - DEBUG    ] - NoSolubility, f = 0.000000, T = 1500.000000, ppmw = 0.000000\n",
      "[10:37:02 - atmodeller.interfaces          - DEBUG    ] - NoSolubility, f = 10.000000, T = 1500.000000, ppmw = 0.000000\n",
      "[10:37:02 - atmodeller.interfaces          - DEBUG    ] - BasaltDixonH2O, f = 10.000000, T = 1500.000000, ppmw = 3051.597942\n",
      "[10:37:02 - atmodeller.interfaces          - DEBUG    ] - NoSolubility, f = 10.000000, T = 1500.000000, ppmw = 0.000000\n",
      "[10:37:02 - atmodeller.interfaces          - DEBUG    ] - NoSolubility, f = 0.000000, T = 1500.000000, ppmw = 0.000000\n",
      "[10:37:02 - atmodeller.interfaces          - DEBUG    ] - NoSolubility, f = 10.000000, T = 1500.000000, ppmw = 0.000000\n",
      "[10:37:02 - atmodeller.interior_atmosphere - DEBUG    ] - Residual_mass = [0.85931198 0.35069095]\n",
      "[10:37:02 - atmodeller.interior_atmosphere - DEBUG    ] - Residual = [-1.07627954e+00  3.66869330e-04  8.59311979e-01  3.50690949e-01]\n",
      "[10:37:02 - atmodeller.interior_atmosphere - DEBUG    ] - log_solution = [  1.           1.         -13.60049734   1.00000001]\n",
      "[10:37:02 - atmodeller.interior_atmosphere - DEBUG    ] - Row 00: Reaction 0: 1.0 H2O = 1.0 H2 + 0.5 O2\n",
      "[10:37:02 - atmodeller.interior_atmosphere - DEBUG    ] - Row 01: Setting O2 fugacity\n",
      "[10:37:02 - atmodeller.interior_atmosphere - DEBUG    ] - RHS vector = [ -5.72396903 -13.60086401]\n",
      "[10:37:02 - atmodeller.interior_atmosphere - DEBUG    ] - Fugacity coefficient vector = [2.8929824e-16 2.8929824e-16 2.8929824e-16 2.8929824e-16]\n",
      "[10:37:02 - atmodeller.interior_atmosphere - DEBUG    ] - Residual_reaction = [-1.07627964e+00  3.66666654e-04]\n",
      "[10:37:02 - atmodeller.interfaces          - DEBUG    ] - BasaltDixonH2O, f = 10.000000, T = 1500.000000, ppmw = 3051.597942\n",
      "[10:37:02 - atmodeller.interfaces          - DEBUG    ] - NoSolubility, f = 10.000000, T = 1500.000000, ppmw = 0.000000\n",
      "[10:37:02 - atmodeller.interfaces          - DEBUG    ] - NoSolubility, f = 0.000000, T = 1500.000000, ppmw = 0.000000\n",
      "[10:37:02 - atmodeller.interfaces          - DEBUG    ] - NoSolubility, f = 10.000000, T = 1500.000000, ppmw = 0.000000\n",
      "[10:37:02 - atmodeller.interfaces          - DEBUG    ] - BasaltDixonH2O, f = 10.000000, T = 1500.000000, ppmw = 3051.597942\n",
      "[10:37:02 - atmodeller.interfaces          - DEBUG    ] - NoSolubility, f = 10.000000, T = 1500.000000, ppmw = 0.000000\n",
      "[10:37:02 - atmodeller.interfaces          - DEBUG    ] - NoSolubility, f = 0.000000, T = 1500.000000, ppmw = 0.000000\n",
      "[10:37:02 - atmodeller.interfaces          - DEBUG    ] - NoSolubility, f = 10.000000, T = 1500.000000, ppmw = 0.000000\n",
      "[10:37:02 - atmodeller.interior_atmosphere - DEBUG    ] - Residual_mass = [0.85931198 0.35069096]\n",
      "[10:37:02 - atmodeller.interior_atmosphere - DEBUG    ] - Residual = [-1.07627964e+00  3.66666654e-04  8.59311979e-01  3.50690960e-01]\n",
      "[10:37:02 - atmodeller.interior_atmosphere - DEBUG    ] - log_solution = [ -0.71131339   0.366273   -13.60311084   0.68367145]\n",
      "[10:37:02 - atmodeller.interior_atmosphere - DEBUG    ] - Row 00: Reaction 0: 1.0 H2O = 1.0 H2 + 0.5 O2\n",
      "[10:37:02 - atmodeller.interior_atmosphere - DEBUG    ] - Row 01: Setting O2 fugacity\n",
      "[10:37:02 - atmodeller.interior_atmosphere - DEBUG    ] - RHS vector = [ -5.72396903 -13.60169467]\n",
      "[10:37:02 - atmodeller.interior_atmosphere - DEBUG    ] - Fugacity coefficient vector = [9.64327467e-17 9.64327467e-17 9.64327467e-17 9.64327467e-17]\n",
      "[10:37:02 - atmodeller.interior_atmosphere - DEBUG    ] - Residual_reaction = [ 4.55457894e-12 -1.41617064e-03]\n",
      "[10:37:02 - atmodeller.interfaces          - DEBUG    ] - BasaltDixonH2O, f = 0.194396, T = 1500.000000, ppmw = 425.471639\n",
      "[10:37:02 - atmodeller.interfaces          - DEBUG    ] - NoSolubility, f = 2.324197, T = 1500.000000, ppmw = 0.000000\n",
      "[10:37:02 - atmodeller.interfaces          - DEBUG    ] - NoSolubility, f = 0.000000, T = 1500.000000, ppmw = 0.000000\n",
      "[10:37:02 - atmodeller.interfaces          - DEBUG    ] - NoSolubility, f = 4.826935, T = 1500.000000, ppmw = 0.000000\n",
      "[10:37:02 - atmodeller.interfaces          - DEBUG    ] - BasaltDixonH2O, f = 0.194396, T = 1500.000000, ppmw = 425.471639\n",
      "[10:37:02 - atmodeller.interfaces          - DEBUG    ] - NoSolubility, f = 2.324197, T = 1500.000000, ppmw = 0.000000\n",
      "[10:37:02 - atmodeller.interfaces          - DEBUG    ] - NoSolubility, f = 0.000000, T = 1500.000000, ppmw = 0.000000\n",
      "[10:37:02 - atmodeller.interfaces          - DEBUG    ] - NoSolubility, f = 4.826935, T = 1500.000000, ppmw = 0.000000\n",
      "[10:37:02 - atmodeller.interior_atmosphere - DEBUG    ] - Residual_mass = [ 0.00248287 -0.05164149]\n",
      "[10:37:02 - atmodeller.interior_atmosphere - DEBUG    ] - Residual = [ 4.55457894e-12 -1.41617064e-03  2.48286714e-03 -5.16414935e-02]\n",
      "[10:37:02 - atmodeller.interior_atmosphere - DEBUG    ] - log_solution = [ -0.71583033   0.36102216 -13.60164305   0.75430004]\n",
      "[10:37:02 - atmodeller.interior_atmosphere - DEBUG    ] - Row 00: Reaction 0: 1.0 H2O = 1.0 H2 + 0.5 O2\n",
      "[10:37:02 - atmodeller.interior_atmosphere - DEBUG    ] - Row 01: Setting O2 fugacity\n",
      "[10:37:02 - atmodeller.interior_atmosphere - DEBUG    ] - RHS vector = [ -5.72396903 -13.60166451]\n",
      "[10:37:02 - atmodeller.interior_atmosphere - DEBUG    ] - Fugacity coefficient vector = [1.92865493e-16 1.92865493e-16 1.92865493e-16 1.92865493e-16]\n",
      "[10:37:02 - atmodeller.interior_atmosphere - DEBUG    ] - Residual_reaction = [-1.23989707e-12  2.14619221e-05]\n",
      "[10:37:02 - atmodeller.interfaces          - DEBUG    ] - BasaltDixonH2O, f = 0.192384, T = 1500.000000, ppmw = 423.264793\n",
      "[10:37:02 - atmodeller.interfaces          - DEBUG    ] - NoSolubility, f = 2.296266, T = 1500.000000, ppmw = 0.000000\n",
      "[10:37:02 - atmodeller.interfaces          - DEBUG    ] - NoSolubility, f = 0.000000, T = 1500.000000, ppmw = 0.000000\n",
      "[10:37:02 - atmodeller.interfaces          - DEBUG    ] - NoSolubility, f = 5.679368, T = 1500.000000, ppmw = 0.000000\n",
      "[10:37:02 - atmodeller.interfaces          - DEBUG    ] - BasaltDixonH2O, f = 0.192384, T = 1500.000000, ppmw = 423.264793\n",
      "[10:37:02 - atmodeller.interfaces          - DEBUG    ] - NoSolubility, f = 2.296266, T = 1500.000000, ppmw = 0.000000\n",
      "[10:37:02 - atmodeller.interfaces          - DEBUG    ] - NoSolubility, f = 0.000000, T = 1500.000000, ppmw = 0.000000\n",
      "[10:37:02 - atmodeller.interfaces          - DEBUG    ] - NoSolubility, f = 5.679368, T = 1500.000000, ppmw = 0.000000\n",
      "[10:37:02 - atmodeller.interior_atmosphere - DEBUG    ] - Residual_mass = [ 4.75580199e-05 -1.56946028e-03]\n",
      "[10:37:02 - atmodeller.interior_atmosphere - DEBUG    ] - Residual = [-1.23989707e-12  2.14619221e-05  4.75580199e-05 -1.56946028e-03]\n",
      "[10:37:02 - atmodeller.interior_atmosphere - DEBUG    ] - log_solution = [ -0.71591569   0.36094704 -13.60166352   0.75647756]\n",
      "[10:37:02 - atmodeller.interior_atmosphere - DEBUG    ] - Row 00: Reaction 0: 1.0 H2O = 1.0 H2 + 0.5 O2\n",
      "[10:37:02 - atmodeller.interior_atmosphere - DEBUG    ] - Row 01: Setting O2 fugacity\n",
      "[10:37:02 - atmodeller.interior_atmosphere - DEBUG    ] - RHS vector = [ -5.72396903 -13.60166348]\n",
      "[10:37:02 - atmodeller.interior_atmosphere - DEBUG    ] - Fugacity coefficient vector = [1.92865493e-16 1.92865493e-16 1.92865493e-16 1.92865493e-16]\n",
      "[10:37:02 - atmodeller.interior_atmosphere - DEBUG    ] - Residual_reaction = [ 5.50670620e-14 -3.49377842e-08]\n",
      "[10:37:02 - atmodeller.interfaces          - DEBUG    ] - BasaltDixonH2O, f = 0.192347, T = 1500.000000, ppmw = 423.223202\n",
      "[10:37:02 - atmodeller.interfaces          - DEBUG    ] - NoSolubility, f = 2.295869, T = 1500.000000, ppmw = 0.000000\n",
      "[10:37:02 - atmodeller.interfaces          - DEBUG    ] - NoSolubility, f = 0.000000, T = 1500.000000, ppmw = 0.000000\n",
      "[10:37:02 - atmodeller.interfaces          - DEBUG    ] - NoSolubility, f = 5.707916, T = 1500.000000, ppmw = 0.000000\n",
      "[10:37:02 - atmodeller.interfaces          - DEBUG    ] - BasaltDixonH2O, f = 0.192347, T = 1500.000000, ppmw = 423.223202\n",
      "[10:37:02 - atmodeller.interfaces          - DEBUG    ] - NoSolubility, f = 2.295869, T = 1500.000000, ppmw = 0.000000\n",
      "[10:37:02 - atmodeller.interfaces          - DEBUG    ] - NoSolubility, f = 0.000000, T = 1500.000000, ppmw = 0.000000\n",
      "[10:37:02 - atmodeller.interfaces          - DEBUG    ] - NoSolubility, f = 5.707916, T = 1500.000000, ppmw = 0.000000\n",
      "[10:37:02 - atmodeller.interior_atmosphere - DEBUG    ] - Residual_mass = [4.17270471e-07 3.17350721e-05]\n",
      "[10:37:02 - atmodeller.interior_atmosphere - DEBUG    ] - Residual = [ 5.50670620e-14 -3.49377842e-08  4.17270471e-07  3.17350721e-05]\n",
      "[10:37:02 - atmodeller.interior_atmosphere - DEBUG    ] - log_solution = [ -0.71591667   0.36094606 -13.60166351   0.75643536]\n",
      "[10:37:02 - atmodeller.interior_atmosphere - DEBUG    ] - Row 00: Reaction 0: 1.0 H2O = 1.0 H2 + 0.5 O2\n",
      "[10:37:02 - atmodeller.interior_atmosphere - DEBUG    ] - Row 01: Setting O2 fugacity\n",
      "[10:37:02 - atmodeller.interior_atmosphere - DEBUG    ] - RHS vector = [ -5.72396903 -13.6016635 ]\n",
      "[10:37:02 - atmodeller.interior_atmosphere - DEBUG    ] - Fugacity coefficient vector = [0. 0. 0. 0.]\n",
      "[10:37:02 - atmodeller.interior_atmosphere - DEBUG    ] - Residual_reaction = [ 8.88178420e-16 -1.42901868e-09]\n",
      "[10:37:02 - atmodeller.interfaces          - DEBUG    ] - BasaltDixonH2O, f = 0.192346, T = 1500.000000, ppmw = 423.222725\n",
      "[10:37:02 - atmodeller.interfaces          - DEBUG    ] - NoSolubility, f = 2.295863, T = 1500.000000, ppmw = 0.000000\n",
      "[10:37:02 - atmodeller.interfaces          - DEBUG    ] - NoSolubility, f = 0.000000, T = 1500.000000, ppmw = 0.000000\n",
      "[10:37:02 - atmodeller.interfaces          - DEBUG    ] - NoSolubility, f = 5.707361, T = 1500.000000, ppmw = 0.000000\n",
      "[10:37:02 - atmodeller.interfaces          - DEBUG    ] - BasaltDixonH2O, f = 0.192346, T = 1500.000000, ppmw = 423.222725\n",
      "[10:37:02 - atmodeller.interfaces          - DEBUG    ] - NoSolubility, f = 2.295863, T = 1500.000000, ppmw = 0.000000\n",
      "[10:37:02 - atmodeller.interfaces          - DEBUG    ] - NoSolubility, f = 0.000000, T = 1500.000000, ppmw = 0.000000\n",
      "[10:37:02 - atmodeller.interfaces          - DEBUG    ] - NoSolubility, f = 5.707361, T = 1500.000000, ppmw = 0.000000\n",
      "[10:37:02 - atmodeller.interior_atmosphere - DEBUG    ] - Residual_mass = [9.51750678e-10 5.96684337e-08]\n",
      "[10:37:02 - atmodeller.interior_atmosphere - DEBUG    ] - Residual = [ 8.88178420e-16 -1.42901868e-09  9.51750678e-10  5.96684337e-08]\n",
      "[10:37:02 - atmodeller.interior_atmosphere - DEBUG    ] - log_solution = [ -0.71591667   0.36094605 -13.6016635    0.75643528]\n",
      "[10:37:02 - atmodeller.interior_atmosphere - DEBUG    ] - Row 00: Reaction 0: 1.0 H2O = 1.0 H2 + 0.5 O2\n",
      "[10:37:02 - atmodeller.interior_atmosphere - DEBUG    ] - Row 01: Setting O2 fugacity\n",
      "[10:37:02 - atmodeller.interior_atmosphere - DEBUG    ] - RHS vector = [ -5.72396903 -13.6016635 ]\n",
      "[10:37:02 - atmodeller.interior_atmosphere - DEBUG    ] - Fugacity coefficient vector = [0. 0. 0. 0.]\n",
      "[10:37:02 - atmodeller.interior_atmosphere - DEBUG    ] - Residual_reaction = [ 0.00000000e+00 -5.29354338e-13]\n",
      "[10:37:02 - atmodeller.interfaces          - DEBUG    ] - BasaltDixonH2O, f = 0.192346, T = 1500.000000, ppmw = 423.222723\n",
      "[10:37:02 - atmodeller.interfaces          - DEBUG    ] - NoSolubility, f = 2.295863, T = 1500.000000, ppmw = 0.000000\n",
      "[10:37:02 - atmodeller.interfaces          - DEBUG    ] - NoSolubility, f = 0.000000, T = 1500.000000, ppmw = 0.000000\n",
      "[10:37:02 - atmodeller.interfaces          - DEBUG    ] - NoSolubility, f = 5.707360, T = 1500.000000, ppmw = 0.000000\n",
      "[10:37:02 - atmodeller.interfaces          - DEBUG    ] - BasaltDixonH2O, f = 0.192346, T = 1500.000000, ppmw = 423.222723\n",
      "[10:37:02 - atmodeller.interfaces          - DEBUG    ] - NoSolubility, f = 2.295863, T = 1500.000000, ppmw = 0.000000\n",
      "[10:37:02 - atmodeller.interfaces          - DEBUG    ] - NoSolubility, f = 0.000000, T = 1500.000000, ppmw = 0.000000\n",
      "[10:37:02 - atmodeller.interfaces          - DEBUG    ] - NoSolubility, f = 5.707360, T = 1500.000000, ppmw = 0.000000\n",
      "[10:37:02 - atmodeller.interior_atmosphere - DEBUG    ] - Residual_mass = [-5.08038056e-13  4.70237183e-11]\n",
      "[10:37:02 - atmodeller.interior_atmosphere - DEBUG    ] - Residual = [ 0.00000000e+00 -5.29354338e-13 -5.08038056e-13  4.70237183e-11]\n",
      "[10:37:02 - atmodeller.interior_atmosphere - INFO     ] - The solution converged.\n",
      "[10:37:02 - atmodeller.interior_atmosphere - DEBUG    ] - sol =  message: The solution converged.\n",
      " success: True\n",
      "  status: 1\n",
      "     fun: [ 0.000e+00 -5.294e-13 -5.080e-13  4.702e-11]\n",
      "       x: [-7.159e-01  3.609e-01 -1.360e+01  7.564e-01]\n",
      "    nfev: 10\n",
      "    fjac: [[-8.950e-01 -1.377e-04  4.459e-01 -1.190e-02]\n",
      "           [ 3.692e-01 -1.436e-03  7.556e-01  5.411e-01]\n",
      "           [-3.173e-02 -9.921e-01 -6.121e-02  1.045e-01]\n",
      "           [ 2.482e-01 -1.252e-01  4.760e-01 -8.344e-01]]\n",
      "       r: [ 1.117e+00 -8.952e-01 -4.476e-01 -9.690e-03  5.385e-01\n",
      "            1.825e-01  4.010e-01 -1.008e+00  7.830e-02 -6.214e-01]\n",
      "     qtf: [-2.856e-10  3.301e-08  7.594e-09 -4.915e-08]\n",
      "[10:37:02 - atmodeller.interior_atmosphere - DEBUG    ] - Initial guess solution = [  1.           1.         -13.60049734   1.        ]\n",
      "[10:37:02 - atmodeller.interior_atmosphere - DEBUG    ] - Actual solution = [ -0.71591667   0.36094605 -13.6016635    0.75643528]\n",
      "[10:37:02 - atmodeller.interior_atmosphere - INFO     ] - InitialConditionConstant: RMSE (actual vs initial) = 0.9235915089292491\n",
      "[10:37:02 - atmodeller.interfaces          - DEBUG    ] - BasaltDixonH2O, f = 0.192346, T = 1500.000000, ppmw = 423.222723\n",
      "[10:37:02 - atmodeller.interfaces          - DEBUG    ] - NoSolubility, f = 2.295863, T = 1500.000000, ppmw = 0.000000\n",
      "[10:37:02 - atmodeller.interfaces          - DEBUG    ] - NoSolubility, f = 0.000000, T = 1500.000000, ppmw = 0.000000\n",
      "[10:37:02 - atmodeller.interfaces          - DEBUG    ] - NoSolubility, f = 5.707360, T = 1500.000000, ppmw = 0.000000\n",
      "[10:37:02 - atmodeller.interior_atmosphere - INFO     ] - {'CO': 5.7073602115301405,\n",
      " 'H2': 2.2958634456133202,\n",
      " 'H2O': 0.19234607497589729,\n",
      " 'O2': 2.5022834039851607e-14}\n"
     ]
    }
   ],
   "source": [
    "interior_atmosphere_sol.solve(constraints)"
   ]
  },
  {
   "cell_type": "markdown",
   "metadata": {},
   "source": [
    "# Comparison of results"
   ]
  },
  {
   "cell_type": "code",
   "execution_count": 64,
   "metadata": {},
   "outputs": [
    {
     "data": {
      "text/plain": [
       "{'H2O': 4.709411784734093,\n",
       " 'H2': 56.08495464139533,\n",
       " 'O2': 2.5136368338875423e-14,\n",
       " 'CO': 1.0203723415393124}"
      ]
     },
     "execution_count": 64,
     "metadata": {},
     "output_type": "execute_result"
    }
   ],
   "source": [
    "interior_atmosphere.solution_dict # No solubility"
   ]
  },
  {
   "cell_type": "code",
   "execution_count": 65,
   "metadata": {},
   "outputs": [
    {
     "data": {
      "text/plain": [
       "61.814738767668764"
      ]
     },
     "execution_count": 65,
     "metadata": {},
     "output_type": "execute_result"
    }
   ],
   "source": [
    "interior_atmosphere.total_pressure # bar"
   ]
  },
  {
   "cell_type": "code",
   "execution_count": 66,
   "metadata": {},
   "outputs": [
    {
     "data": {
      "text/plain": [
       "3.6638969474143765"
      ]
     },
     "execution_count": 66,
     "metadata": {},
     "output_type": "execute_result"
    }
   ],
   "source": [
    "interior_atmosphere.atmospheric_mean_molar_mass*1000 # g/mol"
   ]
  },
  {
   "cell_type": "code",
   "execution_count": 67,
   "metadata": {},
   "outputs": [
    {
     "data": {
      "text/plain": [
       "{'H2O': 0.19234607497589729,\n",
       " 'H2': 2.2958634456133202,\n",
       " 'O2': 2.5022834039851607e-14,\n",
       " 'CO': 5.7073602115301405}"
      ]
     },
     "execution_count": 67,
     "metadata": {},
     "output_type": "execute_result"
    }
   ],
   "source": [
    "interior_atmosphere_sol.solution_dict # With solubility"
   ]
  },
  {
   "cell_type": "code",
   "execution_count": 68,
   "metadata": {},
   "outputs": [
    {
     "data": {
      "text/plain": [
       "8.195569732119383"
      ]
     },
     "execution_count": 68,
     "metadata": {},
     "output_type": "execute_result"
    }
   ],
   "source": [
    "interior_atmosphere_sol.total_pressure # bar"
   ]
  },
  {
   "cell_type": "code",
   "execution_count": 69,
   "metadata": {},
   "outputs": [
    {
     "data": {
      "text/plain": [
       "20.493675500365846"
      ]
     },
     "execution_count": 69,
     "metadata": {},
     "output_type": "execute_result"
    }
   ],
   "source": [
    "interior_atmosphere_sol.atmospheric_mean_molar_mass*1000 # g/mol"
   ]
  },
  {
   "cell_type": "markdown",
   "metadata": {},
   "source": [
    "Compute the increase in the CO pressure with H2O solubility versus no solubility."
   ]
  },
  {
   "cell_type": "code",
   "execution_count": 70,
   "metadata": {},
   "outputs": [
    {
     "data": {
      "text/plain": [
       "5.593409365565648"
      ]
     },
     "execution_count": 70,
     "metadata": {},
     "output_type": "execute_result"
    }
   ],
   "source": [
    "ratio = interior_atmosphere_sol.solution_dict['CO'] / interior_atmosphere.solution_dict['CO']\n",
    "ratio"
   ]
  }
 ],
 "metadata": {
  "kernelspec": {
   "display_name": ".venv",
   "language": "python",
   "name": "python3"
  },
  "language_info": {
   "codemirror_mode": {
    "name": "ipython",
    "version": 3
   },
   "file_extension": ".py",
   "mimetype": "text/x-python",
   "name": "python",
   "nbconvert_exporter": "python",
   "pygments_lexer": "ipython3",
   "version": "3.11.3"
  }
 },
 "nbformat": 4,
 "nbformat_minor": 2
}
