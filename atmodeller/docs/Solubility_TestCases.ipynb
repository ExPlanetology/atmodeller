{
 "cells": [
  {
   "attachments": {},
   "cell_type": "markdown",
   "metadata": {},
   "source": [
    "# atmodeller\n",
    "\n",
    "## Running Tests for test_sulfur.py\n",
    "\n"
   ]
  },
  {
   "cell_type": "code",
   "execution_count": 2,
   "metadata": {},
   "outputs": [],
   "source": [
    "from typing import Type\n",
    "\n",
    "from atmodeller import __version__, debug_logger, debug_file_logger\n",
    "from atmodeller.interfaces import ConstantConstraint, ConstraintABC\n",
    "from atmodeller.constraints import (\n",
    "    FugacityConstraint,\n",
    "    IronWustiteBufferConstraintHirschmann,\n",
    "    MassConstraint,\n",
    "    SystemConstraints,\n",
    ")\n",
    "from atmodeller.interior_atmosphere import Species\n",
    "from atmodeller.interfaces import (\n",
    "    GasSpecies,\n",
    "    NoSolubility,\n",
    "    ThermodynamicData,\n",
    "    ThermodynamicDataBase,\n",
    "    ThermodynamicDataJANAF,\n",
    ")\n",
    "from atmodeller.interior_atmosphere import InteriorAtmosphereSystem, Planet\n",
    "from atmodeller.solubilities import (\n",
    "    BasaltDixonCO2,\n",
    "    BasaltDixonH2O,\n",
    "    BasaltH2,\n",
    "    BasaltS2,\n",
    "    BasaltS2_Sulfate,\n",
    "    BasaltS2_Sulfide,\n",
    "    PeridotiteH2O,\n",
    "    BasaltLibourelN2\n",
    ")\n",
    "from atmodeller.utilities import earth_oceans_to_kg\n",
    "\n",
    "\n",
    "standard_gibbs_free_energy_of_formation: Type[ThermodynamicDataBase] = ThermodynamicData\n",
    "\n",
    "kg_to_g = 1000 #g per kg\n",
    "S_MM: float = 32.065 #g/mol\n",
    "SO_MM: float = 48.064 #g/mol\n",
    "S2_MM: float =  64.12 #g/mol\n",
    "SO2_MM: float = 64.066 #g/mol\n",
    "\n",
    "debug_file_logger()\n"
   ]
  },
  {
   "cell_type": "markdown",
   "metadata": {},
   "source": [
    "### Sulfide and Sulfate Solubility Laws"
   ]
  },
  {
   "cell_type": "code",
   "execution_count": 2,
   "metadata": {},
   "outputs": [],
   "source": [
    "import numpy as np\n",
    "def solubility_S2_Sulfide(\n",
    "       fugacity: float, temperature: float, fugacities_dict: dict[str, float]\n",
    "    ) -> np.ndarray:\n",
    "        \"\"\"Fugacity is fS2.\"\"\"\n",
    "        \n",
    "        logCs: float = 0.225 - (8045.7465 / temperature)\n",
    "        logS_wtp = logCs - (0.5 * (np.log10(fugacities_dict[\"O2\"]/fugacity)))\n",
    "        S_wtp = 10**logS_wtp\n",
    "        ppmw = S_wtp*1.0e4\n",
    "        #if ppmw >= 1000:\n",
    "            #msg = \"WARNING: SO Sulfide Solubility is getting too high: \\n%s\" % (ppmw)\n",
    "            #logger.warning(msg)\n",
    "            #ppmw = 1000.0\n",
    "            # raise KeyError(msg)\n",
    "        return np.array((ppmw, logCs))"
   ]
  },
  {
   "cell_type": "code",
   "execution_count": 3,
   "metadata": {},
   "outputs": [],
   "source": [
    "def BasaltS2_Sulfate_solubility(\n",
    "        fugacity: float, temperature: float, fugacities_dict: dict[str, float]\n",
    "    ) -> np.ndarray:\n",
    "        \"\"\"Fugacity is fS2.\"\"\"\n",
    "        \n",
    "        logCs: float = -12.948 + (32333.5635 / temperature)\n",
    "        logSO4_wtp = logCs + (0.5 * np.log10(fugacity)) + (1.5 * np.log10(fugacities_dict[\"O2\"]))\n",
    "        SO4_wtp = 10**logSO4_wtp\n",
    "        S_wtp = SO4_wtp * (32.065/96.06)\n",
    "        ppmw = (S_wtp)*1e4\n",
    "        #if ppmw >= 1000:\n",
    "        #    msg = \"WARNING: SO Sulfate Solubility is getting too high: \\n%s\" % (ppmw)\n",
    "        #    logger.warning(msg)\n",
    "        #    ppmw = 1000.0\n",
    "            # raise KeyError(msg)\n",
    "        return np.array((ppmw, logCs))"
   ]
  },
  {
   "attachments": {},
   "cell_type": "markdown",
   "metadata": {},
   "source": [
    "### 1. SO, S2, O2 System, Fugacity Constraints Only"
   ]
  },
  {
   "cell_type": "code",
   "execution_count": null,
   "metadata": {},
   "outputs": [],
   "source": [
    "species: Species = Species(\n",
    "        [\n",
    "            GasSpecies(chemical_formula=\"OS\", solubility=NoSolubility()),\n",
    "            GasSpecies(chemical_formula=\"S2\", solubility=BasaltS2_Sulfide()),\n",
    "            GasSpecies(chemical_formula=\"O2\", solubility=NoSolubility()),\n",
    "        ]\n",
    "    )"
   ]
  },
  {
   "cell_type": "code",
   "execution_count": null,
   "metadata": {},
   "outputs": [],
   "source": [
    "planet: Planet = Planet()\n",
    "S2_fugacity: float = 1e-5\n",
    "constraints: SystemConstraints = SystemConstraints([\n",
    "    FugacityConstraint(species=\"S2\", value=S2_fugacity),\n",
    "    IronWustiteBufferConstraintHirschmann(),\n",
    "    ])\n",
    "system: InteriorAtmosphereSystem = InteriorAtmosphereSystem(species=species, planet=planet)\n"
   ]
  },
  {
   "cell_type": "code",
   "execution_count": null,
   "metadata": {},
   "outputs": [],
   "source": [
    "system.solve(SystemConstraints(constraints))"
   ]
  },
  {
   "cell_type": "code",
   "execution_count": null,
   "metadata": {},
   "outputs": [],
   "source": [
    "system.fugacities_dict"
   ]
  },
  {
   "cell_type": "code",
   "execution_count": null,
   "metadata": {},
   "outputs": [],
   "source": [
    "system.output"
   ]
  },
  {
   "cell_type": "code",
   "execution_count": null,
   "metadata": {},
   "outputs": [],
   "source": [
    "\n",
    "S_Mass_Total = ((system.output['OS'].mass_in_total * kg_to_g / SO_MM) * S_MM / kg_to_g) + ((system.output['S2'].mass_in_total * kg_to_g / S2_MM) * 2 * S_MM / kg_to_g)\n",
    "print('Total S mass (atm + melt):', S_Mass_Total)\n",
    "print('SO Mass (atm + melt):', system.output['OS'].mass_in_total)\n",
    "print('S2 Mass (atm + melt):', system.output['S2'].mass_in_total)\n"
   ]
  },
  {
   "attachments": {},
   "cell_type": "markdown",
   "metadata": {},
   "source": [
    "### 2. SO, S2, SO2, O2 System, Mixed Constraints\n",
    "\n"
   ]
  },
  {
   "cell_type": "markdown",
   "metadata": {},
   "source": [
    "#### Sulfide"
   ]
  },
  {
   "cell_type": "code",
   "execution_count": null,
   "metadata": {},
   "outputs": [],
   "source": [
    "species: Species = Species(\n",
    "        [\n",
    "            GasSpecies(chemical_formula=\"SO\", solubility=NoSolubility()),\n",
    "            GasSpecies(chemical_formula=\"S2\", solubility=BasaltS2_Sulfide()),\n",
    "            GasSpecies(chemical_formula=\"O2\", solubility=NoSolubility()),\n",
    "            GasSpecies(chemical_formula=\"SO2\", solubility=NoSolubility())\n",
    "        ]\n",
    "    )"
   ]
  },
  {
   "cell_type": "code",
   "execution_count": null,
   "metadata": {},
   "outputs": [],
   "source": [
    "surface_temperature: float = 2173 # K\n",
    "\n",
    "planet: Planet = Planet(surface_temperature=surface_temperature)\n",
    "\n",
    "mass_S: float = 0.0002 * planet.mantle_mass\n",
    "print(mass_S)\n",
    "constraints: SystemConstraints = SystemConstraints([\n",
    "    MassConstraint(species=\"S\", value=mass_S),\n",
    "    IronWustiteBufferConstraintHirschmann(log10_shift = 0),\n",
    "    ])\n",
    "system: InteriorAtmosphereSystem = InteriorAtmosphereSystem(species=species, planet=planet)\n"
   ]
  },
  {
   "cell_type": "code",
   "execution_count": null,
   "metadata": {},
   "outputs": [],
   "source": [
    "\n",
    "system.solve(SystemConstraints(constraints))"
   ]
  },
  {
   "cell_type": "code",
   "execution_count": null,
   "metadata": {},
   "outputs": [],
   "source": [
    "system.output"
   ]
  },
  {
   "cell_type": "code",
   "execution_count": null,
   "metadata": {},
   "outputs": [],
   "source": [
    "system.fugacities_dict"
   ]
  },
  {
   "cell_type": "code",
   "execution_count": null,
   "metadata": {},
   "outputs": [],
   "source": [
    "print(system.output['SO'].ppmw_in_melt)\n",
    "print(system.output['S2'].ppmw_in_melt)\n",
    "print(system.output['SO2'].ppmw_in_melt)\n"
   ]
  },
  {
   "cell_type": "code",
   "execution_count": null,
   "metadata": {},
   "outputs": [],
   "source": [
    "S_Mass_Total = ((system.output['SO'].mass_in_total * kg_to_g / SO_MM) * S_MM / kg_to_g) + ((system.output['S2'].mass_in_total * kg_to_g / S2_MM) * 2 * S_MM / kg_to_g) + ((system.output['SO2'].mass_in_total * kg_to_g / SO2_MM) * S_MM / kg_to_g)\n",
    "print(S_Mass_Total)\n"
   ]
  },
  {
   "cell_type": "code",
   "execution_count": null,
   "metadata": {},
   "outputs": [],
   "source": [
    "S2_fugacities_dict = {\"O2\": 1.0269757432683765e-06, \"S2\": 0.003704873878513222}\n",
    "print(S2_fugacities_dict)\n",
    "S2_Sol_test = solubility_S2_Sulfide(0.003704873878513222, 2173, S2_fugacities_dict)\n",
    "print(S2_Sol_test)"
   ]
  },
  {
   "cell_type": "markdown",
   "metadata": {},
   "source": [
    "#### Sulfate"
   ]
  },
  {
   "cell_type": "code",
   "execution_count": null,
   "metadata": {},
   "outputs": [],
   "source": [
    "species: Species = Species(\n",
    "        [\n",
    "            GasSpecies(chemical_formula=\"SO\", solubility=NoSolubility()),\n",
    "            GasSpecies(chemical_formula=\"S2\", solubility=BasaltS2_Sulfate()),\n",
    "            GasSpecies(chemical_formula=\"O2\", solubility=NoSolubility()),\n",
    "            GasSpecies(chemical_formula=\"SO2\", solubility=NoSolubility())\n",
    "        ]\n",
    "    )"
   ]
  },
  {
   "cell_type": "code",
   "execution_count": null,
   "metadata": {},
   "outputs": [],
   "source": [
    "surface_temperature: float = 2173 # K\n",
    "\n",
    "planet: Planet = Planet(surface_temperature=surface_temperature)\n",
    "\n",
    "mass_S: float = 0.0002 * planet.mantle_mass\n",
    "print(mass_S)\n",
    "SO_fugacity: float = 1.0\n",
    "constraints: SystemConstraints = SystemConstraints([\n",
    "    MassConstraint(species=\"S\", value=mass_S),\n",
    "    #ConstantSystemConstraint(name=\"fugacity\", species=\"SO\", value=SO_fugacity),\n",
    "    IronWustiteBufferConstraintHirschmann(),\n",
    "    ])\n",
    "system: InteriorAtmosphereSystem = InteriorAtmosphereSystem(species=species, planet=planet)"
   ]
  },
  {
   "cell_type": "code",
   "execution_count": null,
   "metadata": {},
   "outputs": [],
   "source": [
    "system.solve(SystemConstraints(constraints))"
   ]
  },
  {
   "cell_type": "code",
   "execution_count": null,
   "metadata": {},
   "outputs": [],
   "source": [
    "system.output"
   ]
  },
  {
   "cell_type": "code",
   "execution_count": null,
   "metadata": {},
   "outputs": [],
   "source": [
    "system.fugacities_dict"
   ]
  },
  {
   "cell_type": "code",
   "execution_count": null,
   "metadata": {},
   "outputs": [],
   "source": [
    "print(system.output['SO'].ppmw_in_melt)\n",
    "print(system.output['S2'].ppmw_in_melt)\n",
    "print(system.output['SO2'].ppmw_in_melt)"
   ]
  },
  {
   "cell_type": "code",
   "execution_count": null,
   "metadata": {},
   "outputs": [],
   "source": [
    "S_Mass_Total = ((system.output['SO'].mass_in_total * kg_to_g / SO_MM) * S_MM / kg_to_g) + ((system.output['S2'].mass_in_total * kg_to_g / S2_MM) * 2 * S_MM / kg_to_g) + ((system.output['SO2'].mass_in_total * kg_to_g / SO2_MM) * S_MM / kg_to_g)\n",
    "print(S_Mass_Total)\n",
    "\n",
    "print((S_Mass_Total-mass_S)/mass_S)"
   ]
  },
  {
   "cell_type": "code",
   "execution_count": null,
   "metadata": {},
   "outputs": [],
   "source": [
    "S2_fugacities_dict = {\"O2\": 1.0270757989595792e-06, \"S2\": 1.525885857348744}\n",
    "print(S2_fugacities_dict)\n",
    "S2_Sol_test2 = BasaltS2_Sulfate_solubility(1.525885857348744, 2173, S2_fugacities_dict)\n",
    "print(S2_Sol_test2)"
   ]
  },
  {
   "cell_type": "markdown",
   "metadata": {},
   "source": [
    "#### Sulfate and Sulfide (Total S Solubility)"
   ]
  },
  {
   "cell_type": "code",
   "execution_count": null,
   "metadata": {},
   "outputs": [],
   "source": [
    "species: Species = Species(\n",
    "        [\n",
    "            GasSpecies(chemical_formula=\"SO\", solubility=NoSolubility()),\n",
    "            GasSpecies(chemical_formula=\"S2\", solubility=BasaltS2()),\n",
    "            GasSpecies(chemical_formula=\"O2\", solubility=NoSolubility()),\n",
    "            GasSpecies(chemical_formula=\"SO2\", solubility=NoSolubility())\n",
    "        ]\n",
    "    )"
   ]
  },
  {
   "cell_type": "code",
   "execution_count": null,
   "metadata": {},
   "outputs": [],
   "source": [
    "surface_temperature: float = 2173 # K\n",
    "\n",
    "planet: Planet = Planet(surface_temperature=surface_temperature)\n",
    "\n",
    "mass_S: float = 0.0002 * planet.mantle_mass\n",
    "SO_fugacity = 1e-5\n",
    "S2_fugacity = 3e-6\n",
    "print('Mass of Sulfur:', mass_S)\n",
    "print('Mass Percent of S:', (mass_S/planet.mantle_mass)*100, '%')\n",
    "print('ppmw of S:', (mass_S/planet.mantle_mass)*100*1E4)\n",
    "constraints: SystemConstraints = SystemConstraints([\n",
    "    #ConstantSystemConstraint(name=\"fugacity\", species=\"SO\", value=SO_fugacity),\n",
    "    #ConstantSystemConstraint(name=\"fugacity\", species=\"S2\", value=S2_fugacity),\n",
    "    MassConstraint(species=\"S\", value=mass_S),\n",
    "    IronWustiteBufferConstraintHirschmann(log10_shift=0),\n",
    "    ])\n",
    "system: InteriorAtmosphereSystem = InteriorAtmosphereSystem(species=species, planet=planet)"
   ]
  },
  {
   "cell_type": "code",
   "execution_count": null,
   "metadata": {},
   "outputs": [],
   "source": [
    "system.solve(SystemConstraints(constraints))"
   ]
  },
  {
   "cell_type": "code",
   "execution_count": null,
   "metadata": {},
   "outputs": [],
   "source": [
    "system.output"
   ]
  },
  {
   "cell_type": "code",
   "execution_count": null,
   "metadata": {},
   "outputs": [],
   "source": [
    "system.fugacities_dict"
   ]
  },
  {
   "cell_type": "code",
   "execution_count": null,
   "metadata": {},
   "outputs": [],
   "source": [
    "\n",
    "print(system.output['S2'].ppmw_in_melt)\n",
    "\n"
   ]
  },
  {
   "cell_type": "code",
   "execution_count": null,
   "metadata": {},
   "outputs": [],
   "source": [
    "S_Mass_Total = ((system.output['SO'].mass_in_total * kg_to_g / SO_MM) * S_MM / kg_to_g) + ((system.output['S2'].mass_in_total * kg_to_g / S2_MM) * 2 * S_MM / kg_to_g) + ((system.output['SO2'].mass_in_total * kg_to_g / SO2_MM) * S_MM / kg_to_g)\n",
    "print(S_Mass_Total)"
   ]
  },
  {
   "cell_type": "code",
   "execution_count": null,
   "metadata": {},
   "outputs": [],
   "source": [
    "S2_fugacities_dict = {\"O2\": 1.0269757432682946e-06, \"S2\": 0.0037048732091408743}\n",
    "TotalS_Sol_test = solubility_S2_Sulfide(0.0037048732091408743, 2173, S2_fugacities_dict)[0] + BasaltS2_Sulfate_solubility(0.0037048732091408743, 2173, S2_fugacities_dict)[0]\n",
    "print(TotalS_Sol_test)\n",
    "Sulfide_Sol, Sulfide_logCS = solubility_S2_Sulfide(0.0037048732091408743, 2173, S2_fugacities_dict)\n",
    "Sulfate_Sol, Sulfate_logCS = BasaltS2_Sulfate_solubility(0.0037048732091408743, 2173, S2_fugacities_dict)\n",
    "print('Sulfide Solubility:', Sulfide_Sol, 'logC_S2-:', Sulfide_logCS)\n",
    "print('Sulfate Solubility:', Sulfate_Sol, 'logC_S6+:', Sulfate_logCS)"
   ]
  },
  {
   "cell_type": "markdown",
   "metadata": {},
   "source": [
    "### Adding C and H species"
   ]
  },
  {
   "cell_type": "code",
   "execution_count": 11,
   "metadata": {},
   "outputs": [
    {
     "name": "stderr",
     "output_type": "stream",
     "text": [
      "[21:10:04 - atmodeller.interfaces          - INFO     ] - Creating a GasSpecies: SO (SO)\n",
      "[21:10:04 - atmodeller.interfaces          - INFO     ] - Creating a GasSpecies: S2 (S2)\n",
      "[21:10:04 - atmodeller.interfaces          - INFO     ] - Creating a GasSpecies: O2 (O2)\n",
      "[21:10:04 - atmodeller.interfaces          - INFO     ] - Creating a GasSpecies: SO2 (SO2)\n",
      "[21:10:04 - atmodeller.interfaces          - INFO     ] - Creating a GasSpecies: CO (CO)\n",
      "[21:10:04 - atmodeller.interfaces          - INFO     ] - Creating a GasSpecies: CO2 (CO2)\n"
     ]
    },
    {
     "data": {
      "text/plain": [
       "Species([GasSpecies(chemical_formula='SO', name_in_thermodynamic_data='SO', thermodynamic_class=<class 'atmodeller.interfaces.ThermodynamicDataJANAF'>, formula=Formula('SO'), thermodynamic_data=<atmodeller.interfaces.ThermodynamicDataJANAF object at 0x122aa7710>, output=None, solubility=<atmodeller.interfaces.NoSolubility object at 0x122aa4850>, solid_melt_distribution_coefficient=0, fugacity_coefficient=IdealityConstant(name='', species='', value=1.0)),\n",
       "         GasSpecies(chemical_formula='S2', name_in_thermodynamic_data='S2', thermodynamic_class=<class 'atmodeller.interfaces.ThermodynamicDataJANAF'>, formula=Formula('S2'), thermodynamic_data=<atmodeller.interfaces.ThermodynamicDataJANAF object at 0x11e7a5150>, output=None, solubility=<atmodeller.solubilities.BasaltS2 object at 0x11d5b1e50>, solid_melt_distribution_coefficient=0, fugacity_coefficient=IdealityConstant(name='', species='', value=1.0)),\n",
       "         GasSpecies(chemical_formula='O2', name_in_thermodynamic_data='O2', thermodynamic_class=<class 'atmodeller.interfaces.ThermodynamicDataJANAF'>, formula=Formula('O2'), thermodynamic_data=<atmodeller.interfaces.ThermodynamicDataJANAF object at 0x122fe1ad0>, output=None, solubility=<atmodeller.interfaces.NoSolubility object at 0x122a8fed0>, solid_melt_distribution_coefficient=0, fugacity_coefficient=IdealityConstant(name='', species='', value=1.0)),\n",
       "         GasSpecies(chemical_formula='SO2', name_in_thermodynamic_data='SO2', thermodynamic_class=<class 'atmodeller.interfaces.ThermodynamicDataJANAF'>, formula=Formula('SO2'), thermodynamic_data=<atmodeller.interfaces.ThermodynamicDataJANAF object at 0x12305bf10>, output=None, solubility=<atmodeller.interfaces.NoSolubility object at 0x12305bfd0>, solid_melt_distribution_coefficient=0, fugacity_coefficient=IdealityConstant(name='', species='', value=1.0)),\n",
       "         GasSpecies(chemical_formula='CO', name_in_thermodynamic_data='CO', thermodynamic_class=<class 'atmodeller.interfaces.ThermodynamicDataJANAF'>, formula=Formula('CO'), thermodynamic_data=<atmodeller.interfaces.ThermodynamicDataJANAF object at 0x12305ff10>, output=None, solubility=<atmodeller.interfaces.NoSolubility object at 0x12305ffd0>, solid_melt_distribution_coefficient=0, fugacity_coefficient=IdealityConstant(name='', species='', value=1.0)),\n",
       "         GasSpecies(chemical_formula='CO2', name_in_thermodynamic_data='CO2', thermodynamic_class=<class 'atmodeller.interfaces.ThermodynamicDataJANAF'>, formula=Formula('CO2'), thermodynamic_data=<atmodeller.interfaces.ThermodynamicDataJANAF object at 0x12300a0d0>, output=None, solubility=<atmodeller.solubilities.BasaltDixonCO2 object at 0x12300a1d0>, solid_melt_distribution_coefficient=0, fugacity_coefficient=IdealityConstant(name='', species='', value=1.0))])"
      ]
     },
     "execution_count": 11,
     "metadata": {},
     "output_type": "execute_result"
    }
   ],
   "source": [
    "\n",
    "species: Species = Species(\n",
    "        [\n",
    "            #GasSpecies(chemical_formula='H2O', solubility=BasaltDixonH2O()),\n",
    "            #GasSpecies(chemical_formula='H2',  solubility=BasaltH2()),\n",
    "            GasSpecies(chemical_formula=\"SO\", solubility=NoSolubility()),\n",
    "            GasSpecies(chemical_formula=\"S2\", solubility=BasaltS2()),\n",
    "            GasSpecies(chemical_formula=\"O2\", solubility=NoSolubility()),\n",
    "            GasSpecies(chemical_formula=\"SO2\", solubility=NoSolubility()),\n",
    "            GasSpecies(chemical_formula='CO', solubility=NoSolubility()),\n",
    "            GasSpecies(chemical_formula='CO2', solubility=BasaltDixonCO2())\n",
    "        ]\n",
    "    )\n",
    "\n",
    "species"
   ]
  },
  {
   "cell_type": "code",
   "execution_count": 12,
   "metadata": {},
   "outputs": [
    {
     "name": "stderr",
     "output_type": "stream",
     "text": [
      "[21:10:26 - atmodeller.interior_atmosphere - INFO     ] - Creating a new planet\n",
      "[21:10:26 - atmodeller.interior_atmosphere - INFO     ] - Mantle mass (kg) = 4208261222595110885130240.000000\n",
      "[21:10:26 - atmodeller.interior_atmosphere - INFO     ] - Mantle melt fraction = 1.000000\n",
      "[21:10:26 - atmodeller.interior_atmosphere - INFO     ] - Core mass fraction = 0.295335\n",
      "[21:10:26 - atmodeller.interior_atmosphere - INFO     ] - Planetary radius (m) = 6371000.000000\n",
      "[21:10:26 - atmodeller.interior_atmosphere - INFO     ] - Planetary mass (kg) = 5972000000000000327155712.000000\n",
      "[21:10:26 - atmodeller.interior_atmosphere - INFO     ] - Surface temperature (K) = 2173.000000\n",
      "[21:10:26 - atmodeller.interior_atmosphere - INFO     ] - Surface gravity (m/s^2) = 9.819973\n",
      "[21:10:26 - atmodeller.interior_atmosphere - INFO     ] - Melt Composition = None\n"
     ]
    },
    {
     "name": "stdout",
     "output_type": "stream",
     "text": [
      "Mass of mantle (kg): 4.208261222595111e+24\n",
      "Mass of H: 5.0499134671141326e+20\n",
      "Mass of C: 5.891565711633155e+20\n",
      "Mass of S: 8.416522445190222e+20\n"
     ]
    }
   ],
   "source": [
    "surface_temperature: float = 2173 # K\n",
    "\n",
    "planet: Planet = Planet(surface_temperature=surface_temperature)\n",
    "\n",
    "mass_H: float = 0.00108 * planet.mantle_mass * (2/18)\n",
    "mass_C: float = 0.00014 * planet.mantle_mass \n",
    "mass_S: float = 0.0002 * planet.mantle_mass\n",
    "S2_fugacity: float = 1e-5 \n",
    "print('Mass of mantle (kg):', planet.mantle_mass)\n",
    "print('Mass of H:', mass_H)\n",
    "print('Mass of C:', mass_C)\n",
    "print('Mass of S:', mass_S)"
   ]
  },
  {
   "cell_type": "code",
   "execution_count": 13,
   "metadata": {},
   "outputs": [
    {
     "name": "stderr",
     "output_type": "stream",
     "text": [
      "[21:10:39 - atmodeller.interior_atmosphere - INFO     ] - Creating an interior-atmosphere system\n",
      "[21:10:39 - atmodeller.interior_atmosphere - INFO     ] - Creating a reaction network\n",
      "[21:10:39 - atmodeller.interior_atmosphere - INFO     ] - Species = ['SO', 'S2', 'O2', 'SO2', 'CO', 'CO2']\n",
      "[21:10:39 - atmodeller.interior_atmosphere - INFO     ] - Reactions = \n",
      "{0: '0.5 S2 + 1.0 O2 = 1.0 SO2',\n",
      " 1: '0.5 S2 + 0.5 O2 = 1.0 SO',\n",
      " 2: '0.5 O2 + 1.0 CO = 1.0 CO2'}\n"
     ]
    }
   ],
   "source": [
    "\n",
    "constraints: SystemConstraints = SystemConstraints([\n",
    "    MassConstraint(species=\"S\", value=mass_S),\n",
    "    #ConstantSystemConstraint(name=\"fugacity\", species=\"S2\", value=S2_fugacity),\n",
    "    #MassConstraint(species=\"H\", value=mass_H),\n",
    "    MassConstraint(species=\"C\", value=mass_C),\n",
    "    IronWustiteBufferConstraintHirschmann(log10_shift=0)\n",
    "    ])\n",
    "system: InteriorAtmosphereSystem = InteriorAtmosphereSystem(species=species, planet=planet)"
   ]
  },
  {
   "cell_type": "code",
   "execution_count": 18,
   "metadata": {},
   "outputs": [
    {
     "name": "stderr",
     "output_type": "stream",
     "text": [
      "[21:19:02 - atmodeller.interior_atmosphere - INFO     ] - Assembling constraints\n",
      "[21:19:02 - atmodeller.interior_atmosphere - INFO     ] - Constraints: [MassConstraint(name='mass', species='S', value=8.416522445190222e+20),\n",
      " MassConstraint(name='mass', species='C', value=5.891565711633155e+20),\n",
      " IronWustiteBufferConstraintHirschmann(name='fugacity',\n",
      "                                       species='O2',\n",
      "                                       log10_shift=0)]\n",
      "[21:19:02 - atmodeller.interior_atmosphere - INFO     ] - 2 additional (mass) constraint(s) are necessary to solve the system\n",
      "[21:19:02 - atmodeller.interior_atmosphere - INFO     ] - Apply fugacity constraint for O2\n",
      "[21:19:02 - atmodeller.interior_atmosphere - INFO     ] - Row 00: Reaction 0: 0.5 S2 + 1.0 O2 = 1.0 SO2\n",
      "[21:19:02 - atmodeller.interior_atmosphere - INFO     ] - Row 01: Reaction 1: 0.5 S2 + 0.5 O2 = 1.0 SO\n",
      "[21:19:02 - atmodeller.interior_atmosphere - INFO     ] - Row 02: Reaction 2: 0.5 O2 + 1.0 CO = 1.0 CO2\n",
      "[21:19:02 - atmodeller.interior_atmosphere - INFO     ] - Row 03: Setting O2 fugacity\n",
      "[21:19:02 - atmodeller.interior_atmosphere - INFO     ] - Row 00: Reaction 0: 0.5 S2 + 1.0 O2 = 1.0 SO2\n",
      "[21:19:02 - atmodeller.interior_atmosphere - INFO     ] - Row 01: Reaction 1: 0.5 S2 + 0.5 O2 = 1.0 SO\n",
      "[21:19:02 - atmodeller.interior_atmosphere - INFO     ] - Row 02: Reaction 2: 0.5 O2 + 1.0 CO = 1.0 CO2\n",
      "[21:19:02 - atmodeller.interior_atmosphere - INFO     ] - Row 03: Setting O2 fugacity\n",
      "[21:19:02 - atmodeller.interior_atmosphere - INFO     ] - Row 00: Reaction 0: 0.5 S2 + 1.0 O2 = 1.0 SO2\n",
      "[21:19:02 - atmodeller.interior_atmosphere - INFO     ] - Row 01: Reaction 1: 0.5 S2 + 0.5 O2 = 1.0 SO\n",
      "[21:19:02 - atmodeller.interior_atmosphere - INFO     ] - Row 02: Reaction 2: 0.5 O2 + 1.0 CO = 1.0 CO2\n",
      "[21:19:02 - atmodeller.interior_atmosphere - INFO     ] - Row 03: Setting O2 fugacity\n",
      "[21:19:02 - atmodeller.interior_atmosphere - INFO     ] - Row 00: Reaction 0: 0.5 S2 + 1.0 O2 = 1.0 SO2\n",
      "[21:19:03 - atmodeller.interior_atmosphere - INFO     ] - Row 01: Reaction 1: 0.5 S2 + 0.5 O2 = 1.0 SO\n",
      "[21:19:03 - atmodeller.interior_atmosphere - INFO     ] - Row 02: Reaction 2: 0.5 O2 + 1.0 CO = 1.0 CO2\n",
      "[21:19:03 - atmodeller.interior_atmosphere - INFO     ] - Row 03: Setting O2 fugacity\n",
      "[21:19:03 - atmodeller.interior_atmosphere - INFO     ] - Row 00: Reaction 0: 0.5 S2 + 1.0 O2 = 1.0 SO2\n",
      "[21:19:03 - atmodeller.interior_atmosphere - INFO     ] - Row 01: Reaction 1: 0.5 S2 + 0.5 O2 = 1.0 SO\n",
      "[21:19:03 - atmodeller.interior_atmosphere - INFO     ] - Row 02: Reaction 2: 0.5 O2 + 1.0 CO = 1.0 CO2\n",
      "[21:19:03 - atmodeller.interior_atmosphere - INFO     ] - Row 03: Setting O2 fugacity\n",
      "[21:19:03 - atmodeller.interior_atmosphere - INFO     ] - Row 00: Reaction 0: 0.5 S2 + 1.0 O2 = 1.0 SO2\n",
      "[21:19:03 - atmodeller.interior_atmosphere - INFO     ] - Row 01: Reaction 1: 0.5 S2 + 0.5 O2 = 1.0 SO\n",
      "[21:19:03 - atmodeller.interior_atmosphere - INFO     ] - Row 02: Reaction 2: 0.5 O2 + 1.0 CO = 1.0 CO2\n",
      "[21:19:03 - atmodeller.interior_atmosphere - INFO     ] - Row 03: Setting O2 fugacity\n",
      "[21:19:03 - atmodeller.interior_atmosphere - INFO     ] - Row 00: Reaction 0: 0.5 S2 + 1.0 O2 = 1.0 SO2\n",
      "[21:19:03 - atmodeller.interior_atmosphere - INFO     ] - Row 01: Reaction 1: 0.5 S2 + 0.5 O2 = 1.0 SO\n",
      "[21:19:03 - atmodeller.interior_atmosphere - INFO     ] - Row 02: Reaction 2: 0.5 O2 + 1.0 CO = 1.0 CO2\n",
      "[21:19:03 - atmodeller.interior_atmosphere - INFO     ] - Row 03: Setting O2 fugacity\n",
      "[21:19:03 - atmodeller.interior_atmosphere - INFO     ] - Row 00: Reaction 0: 0.5 S2 + 1.0 O2 = 1.0 SO2\n",
      "[21:19:03 - atmodeller.interior_atmosphere - INFO     ] - Row 01: Reaction 1: 0.5 S2 + 0.5 O2 = 1.0 SO\n",
      "[21:19:03 - atmodeller.interior_atmosphere - INFO     ] - Row 02: Reaction 2: 0.5 O2 + 1.0 CO = 1.0 CO2\n",
      "[21:19:03 - atmodeller.interior_atmosphere - INFO     ] - Row 03: Setting O2 fugacity\n",
      "[21:19:03 - atmodeller.interior_atmosphere - INFO     ] - Row 00: Reaction 0: 0.5 S2 + 1.0 O2 = 1.0 SO2\n",
      "[21:19:03 - atmodeller.interior_atmosphere - INFO     ] - Row 01: Reaction 1: 0.5 S2 + 0.5 O2 = 1.0 SO\n",
      "[21:19:03 - atmodeller.interior_atmosphere - INFO     ] - Row 02: Reaction 2: 0.5 O2 + 1.0 CO = 1.0 CO2\n",
      "[21:19:03 - atmodeller.interior_atmosphere - INFO     ] - Row 03: Setting O2 fugacity\n",
      "[21:19:03 - atmodeller.interior_atmosphere - INFO     ] - Row 00: Reaction 0: 0.5 S2 + 1.0 O2 = 1.0 SO2\n",
      "[21:19:03 - atmodeller.interior_atmosphere - INFO     ] - Row 01: Reaction 1: 0.5 S2 + 0.5 O2 = 1.0 SO\n",
      "[21:19:03 - atmodeller.interior_atmosphere - INFO     ] - Row 02: Reaction 2: 0.5 O2 + 1.0 CO = 1.0 CO2\n",
      "[21:19:03 - atmodeller.interior_atmosphere - INFO     ] - Row 03: Setting O2 fugacity\n",
      "[21:19:03 - atmodeller.interior_atmosphere - INFO     ] - Row 00: Reaction 0: 0.5 S2 + 1.0 O2 = 1.0 SO2\n",
      "[21:19:03 - atmodeller.interior_atmosphere - INFO     ] - Row 01: Reaction 1: 0.5 S2 + 0.5 O2 = 1.0 SO\n",
      "[21:19:03 - atmodeller.interior_atmosphere - INFO     ] - Row 02: Reaction 2: 0.5 O2 + 1.0 CO = 1.0 CO2\n",
      "[21:19:03 - atmodeller.interior_atmosphere - INFO     ] - Row 03: Setting O2 fugacity\n",
      "[21:19:03 - atmodeller.interior_atmosphere - INFO     ] - Row 00: Reaction 0: 0.5 S2 + 1.0 O2 = 1.0 SO2\n",
      "[21:19:03 - atmodeller.interior_atmosphere - INFO     ] - Row 01: Reaction 1: 0.5 S2 + 0.5 O2 = 1.0 SO\n",
      "[21:19:03 - atmodeller.interior_atmosphere - INFO     ] - Row 02: Reaction 2: 0.5 O2 + 1.0 CO = 1.0 CO2\n",
      "[21:19:03 - atmodeller.interior_atmosphere - INFO     ] - Row 03: Setting O2 fugacity\n",
      "[21:19:03 - atmodeller.interior_atmosphere - INFO     ] - Row 00: Reaction 0: 0.5 S2 + 1.0 O2 = 1.0 SO2\n",
      "[21:19:03 - atmodeller.interior_atmosphere - INFO     ] - Row 01: Reaction 1: 0.5 S2 + 0.5 O2 = 1.0 SO\n",
      "[21:19:03 - atmodeller.interior_atmosphere - INFO     ] - Row 02: Reaction 2: 0.5 O2 + 1.0 CO = 1.0 CO2\n",
      "[21:19:03 - atmodeller.interior_atmosphere - INFO     ] - Row 03: Setting O2 fugacity\n",
      "[21:19:03 - atmodeller.interior_atmosphere - INFO     ] - Row 00: Reaction 0: 0.5 S2 + 1.0 O2 = 1.0 SO2\n",
      "[21:19:03 - atmodeller.interior_atmosphere - INFO     ] - Row 01: Reaction 1: 0.5 S2 + 0.5 O2 = 1.0 SO\n",
      "[21:19:03 - atmodeller.interior_atmosphere - INFO     ] - Row 02: Reaction 2: 0.5 O2 + 1.0 CO = 1.0 CO2\n",
      "[21:19:03 - atmodeller.interior_atmosphere - INFO     ] - Row 03: Setting O2 fugacity\n",
      "[21:19:03 - atmodeller.interior_atmosphere - INFO     ] - Row 00: Reaction 0: 0.5 S2 + 1.0 O2 = 1.0 SO2\n",
      "[21:19:03 - atmodeller.interior_atmosphere - INFO     ] - Row 01: Reaction 1: 0.5 S2 + 0.5 O2 = 1.0 SO\n",
      "[21:19:03 - atmodeller.interior_atmosphere - INFO     ] - Row 02: Reaction 2: 0.5 O2 + 1.0 CO = 1.0 CO2\n",
      "[21:19:03 - atmodeller.interior_atmosphere - INFO     ] - Row 03: Setting O2 fugacity\n",
      "[21:19:03 - atmodeller.interior_atmosphere - INFO     ] - Row 00: Reaction 0: 0.5 S2 + 1.0 O2 = 1.0 SO2\n",
      "[21:19:03 - atmodeller.interior_atmosphere - INFO     ] - Row 01: Reaction 1: 0.5 S2 + 0.5 O2 = 1.0 SO\n",
      "[21:19:03 - atmodeller.interior_atmosphere - INFO     ] - Row 02: Reaction 2: 0.5 O2 + 1.0 CO = 1.0 CO2\n",
      "[21:19:03 - atmodeller.interior_atmosphere - INFO     ] - Row 03: Setting O2 fugacity\n",
      "[21:19:03 - atmodeller.interior_atmosphere - INFO     ] - Row 00: Reaction 0: 0.5 S2 + 1.0 O2 = 1.0 SO2\n",
      "[21:19:03 - atmodeller.interior_atmosphere - INFO     ] - Row 01: Reaction 1: 0.5 S2 + 0.5 O2 = 1.0 SO\n",
      "[21:19:03 - atmodeller.interior_atmosphere - INFO     ] - Row 02: Reaction 2: 0.5 O2 + 1.0 CO = 1.0 CO2\n",
      "[21:19:03 - atmodeller.interior_atmosphere - INFO     ] - Row 03: Setting O2 fugacity\n",
      "[21:19:03 - atmodeller.interior_atmosphere - INFO     ] - Row 00: Reaction 0: 0.5 S2 + 1.0 O2 = 1.0 SO2\n",
      "[21:19:03 - atmodeller.interior_atmosphere - INFO     ] - Row 01: Reaction 1: 0.5 S2 + 0.5 O2 = 1.0 SO\n",
      "[21:19:03 - atmodeller.interior_atmosphere - INFO     ] - Row 02: Reaction 2: 0.5 O2 + 1.0 CO = 1.0 CO2\n",
      "[21:19:03 - atmodeller.interior_atmosphere - INFO     ] - Row 03: Setting O2 fugacity\n",
      "[21:19:03 - atmodeller.interior_atmosphere - INFO     ] - Row 00: Reaction 0: 0.5 S2 + 1.0 O2 = 1.0 SO2\n",
      "[21:19:03 - atmodeller.interior_atmosphere - INFO     ] - Row 01: Reaction 1: 0.5 S2 + 0.5 O2 = 1.0 SO\n",
      "[21:19:03 - atmodeller.interior_atmosphere - INFO     ] - Row 02: Reaction 2: 0.5 O2 + 1.0 CO = 1.0 CO2\n",
      "[21:19:03 - atmodeller.interior_atmosphere - INFO     ] - Row 03: Setting O2 fugacity\n",
      "[21:19:04 - atmodeller.interior_atmosphere - INFO     ] - Row 00: Reaction 0: 0.5 S2 + 1.0 O2 = 1.0 SO2\n",
      "[21:19:04 - atmodeller.interior_atmosphere - INFO     ] - Row 01: Reaction 1: 0.5 S2 + 0.5 O2 = 1.0 SO\n",
      "[21:19:04 - atmodeller.interior_atmosphere - INFO     ] - Row 02: Reaction 2: 0.5 O2 + 1.0 CO = 1.0 CO2\n",
      "[21:19:04 - atmodeller.interior_atmosphere - INFO     ] - Row 03: Setting O2 fugacity\n",
      "[21:19:04 - atmodeller.interior_atmosphere - INFO     ] - Row 00: Reaction 0: 0.5 S2 + 1.0 O2 = 1.0 SO2\n",
      "[21:19:04 - atmodeller.interior_atmosphere - INFO     ] - Row 01: Reaction 1: 0.5 S2 + 0.5 O2 = 1.0 SO\n",
      "[21:19:04 - atmodeller.interior_atmosphere - INFO     ] - Row 02: Reaction 2: 0.5 O2 + 1.0 CO = 1.0 CO2\n",
      "[21:19:04 - atmodeller.interior_atmosphere - INFO     ] - Row 03: Setting O2 fugacity\n",
      "[21:19:04 - atmodeller.interior_atmosphere - INFO     ] - Row 00: Reaction 0: 0.5 S2 + 1.0 O2 = 1.0 SO2\n",
      "[21:19:04 - atmodeller.interior_atmosphere - INFO     ] - Row 01: Reaction 1: 0.5 S2 + 0.5 O2 = 1.0 SO\n",
      "[21:19:04 - atmodeller.interior_atmosphere - INFO     ] - Row 02: Reaction 2: 0.5 O2 + 1.0 CO = 1.0 CO2\n",
      "[21:19:04 - atmodeller.interior_atmosphere - INFO     ] - Row 03: Setting O2 fugacity\n",
      "[21:19:04 - atmodeller.interior_atmosphere - INFO     ] - Row 00: Reaction 0: 0.5 S2 + 1.0 O2 = 1.0 SO2\n",
      "[21:19:04 - atmodeller.interior_atmosphere - INFO     ] - Row 01: Reaction 1: 0.5 S2 + 0.5 O2 = 1.0 SO\n",
      "[21:19:04 - atmodeller.interior_atmosphere - INFO     ] - Row 02: Reaction 2: 0.5 O2 + 1.0 CO = 1.0 CO2\n",
      "[21:19:04 - atmodeller.interior_atmosphere - INFO     ] - Row 03: Setting O2 fugacity\n",
      "[21:19:04 - atmodeller.interior_atmosphere - INFO     ] - Row 00: Reaction 0: 0.5 S2 + 1.0 O2 = 1.0 SO2\n",
      "[21:19:04 - atmodeller.interior_atmosphere - INFO     ] - Row 01: Reaction 1: 0.5 S2 + 0.5 O2 = 1.0 SO\n",
      "[21:19:04 - atmodeller.interior_atmosphere - INFO     ] - Row 02: Reaction 2: 0.5 O2 + 1.0 CO = 1.0 CO2\n",
      "[21:19:04 - atmodeller.interior_atmosphere - INFO     ] - Row 03: Setting O2 fugacity\n",
      "[21:19:04 - atmodeller.interior_atmosphere - INFO     ] - Row 00: Reaction 0: 0.5 S2 + 1.0 O2 = 1.0 SO2\n",
      "[21:19:04 - atmodeller.interior_atmosphere - INFO     ] - Row 01: Reaction 1: 0.5 S2 + 0.5 O2 = 1.0 SO\n",
      "[21:19:04 - atmodeller.interior_atmosphere - INFO     ] - Row 02: Reaction 2: 0.5 O2 + 1.0 CO = 1.0 CO2\n",
      "[21:19:04 - atmodeller.interior_atmosphere - INFO     ] - Row 03: Setting O2 fugacity\n",
      "[21:19:04 - atmodeller.interior_atmosphere - INFO     ] - The iteration is not making good progress, as measured by the \n",
      "  improvement from the last ten iterations.\n",
      "[21:19:04 - atmodeller.interior_atmosphere - INFO     ] - Retrying with a new randomised initial condition (attempt 1)\n",
      "[21:19:04 - atmodeller.interior_atmosphere - INFO     ] - Row 00: Reaction 0: 0.5 S2 + 1.0 O2 = 1.0 SO2\n",
      "[21:19:04 - atmodeller.interior_atmosphere - INFO     ] - Row 01: Reaction 1: 0.5 S2 + 0.5 O2 = 1.0 SO\n",
      "[21:19:04 - atmodeller.interior_atmosphere - INFO     ] - Row 02: Reaction 2: 0.5 O2 + 1.0 CO = 1.0 CO2\n",
      "[21:19:04 - atmodeller.interior_atmosphere - INFO     ] - Row 03: Setting O2 fugacity\n",
      "[21:19:04 - atmodeller.interior_atmosphere - INFO     ] - Row 00: Reaction 0: 0.5 S2 + 1.0 O2 = 1.0 SO2\n",
      "[21:19:04 - atmodeller.interior_atmosphere - INFO     ] - Row 01: Reaction 1: 0.5 S2 + 0.5 O2 = 1.0 SO\n",
      "[21:19:04 - atmodeller.interior_atmosphere - INFO     ] - Row 02: Reaction 2: 0.5 O2 + 1.0 CO = 1.0 CO2\n",
      "[21:19:04 - atmodeller.interior_atmosphere - INFO     ] - Row 03: Setting O2 fugacity\n",
      "[21:19:04 - atmodeller.interior_atmosphere - INFO     ] - Row 00: Reaction 0: 0.5 S2 + 1.0 O2 = 1.0 SO2\n",
      "[21:19:04 - atmodeller.interior_atmosphere - INFO     ] - Row 01: Reaction 1: 0.5 S2 + 0.5 O2 = 1.0 SO\n",
      "[21:19:04 - atmodeller.interior_atmosphere - INFO     ] - Row 02: Reaction 2: 0.5 O2 + 1.0 CO = 1.0 CO2\n",
      "[21:19:04 - atmodeller.interior_atmosphere - INFO     ] - Row 03: Setting O2 fugacity\n",
      "[21:19:04 - atmodeller.interior_atmosphere - INFO     ] - Row 00: Reaction 0: 0.5 S2 + 1.0 O2 = 1.0 SO2\n",
      "[21:19:04 - atmodeller.interior_atmosphere - INFO     ] - Row 01: Reaction 1: 0.5 S2 + 0.5 O2 = 1.0 SO\n",
      "[21:19:04 - atmodeller.interior_atmosphere - INFO     ] - Row 02: Reaction 2: 0.5 O2 + 1.0 CO = 1.0 CO2\n",
      "[21:19:04 - atmodeller.interior_atmosphere - INFO     ] - Row 03: Setting O2 fugacity\n",
      "[21:19:04 - atmodeller.interior_atmosphere - INFO     ] - Row 00: Reaction 0: 0.5 S2 + 1.0 O2 = 1.0 SO2\n",
      "[21:19:04 - atmodeller.interior_atmosphere - INFO     ] - Row 01: Reaction 1: 0.5 S2 + 0.5 O2 = 1.0 SO\n",
      "[21:19:04 - atmodeller.interior_atmosphere - INFO     ] - Row 02: Reaction 2: 0.5 O2 + 1.0 CO = 1.0 CO2\n",
      "[21:19:04 - atmodeller.interior_atmosphere - INFO     ] - Row 03: Setting O2 fugacity\n",
      "[21:19:04 - atmodeller.interior_atmosphere - INFO     ] - Row 00: Reaction 0: 0.5 S2 + 1.0 O2 = 1.0 SO2\n",
      "[21:19:04 - atmodeller.interior_atmosphere - INFO     ] - Row 01: Reaction 1: 0.5 S2 + 0.5 O2 = 1.0 SO\n",
      "[21:19:04 - atmodeller.interior_atmosphere - INFO     ] - Row 02: Reaction 2: 0.5 O2 + 1.0 CO = 1.0 CO2\n",
      "[21:19:04 - atmodeller.interior_atmosphere - INFO     ] - Row 03: Setting O2 fugacity\n",
      "[21:19:04 - atmodeller.interior_atmosphere - INFO     ] - Row 00: Reaction 0: 0.5 S2 + 1.0 O2 = 1.0 SO2\n",
      "[21:19:04 - atmodeller.interior_atmosphere - INFO     ] - Row 01: Reaction 1: 0.5 S2 + 0.5 O2 = 1.0 SO\n",
      "[21:19:04 - atmodeller.interior_atmosphere - INFO     ] - Row 02: Reaction 2: 0.5 O2 + 1.0 CO = 1.0 CO2\n",
      "[21:19:04 - atmodeller.interior_atmosphere - INFO     ] - Row 03: Setting O2 fugacity\n",
      "[21:19:04 - atmodeller.interior_atmosphere - INFO     ] - Row 00: Reaction 0: 0.5 S2 + 1.0 O2 = 1.0 SO2\n",
      "[21:19:04 - atmodeller.interior_atmosphere - INFO     ] - Row 01: Reaction 1: 0.5 S2 + 0.5 O2 = 1.0 SO\n",
      "[21:19:04 - atmodeller.interior_atmosphere - INFO     ] - Row 02: Reaction 2: 0.5 O2 + 1.0 CO = 1.0 CO2\n",
      "[21:19:04 - atmodeller.interior_atmosphere - INFO     ] - Row 03: Setting O2 fugacity\n",
      "[21:19:04 - atmodeller.interior_atmosphere - INFO     ] - Row 00: Reaction 0: 0.5 S2 + 1.0 O2 = 1.0 SO2\n",
      "[21:19:04 - atmodeller.interior_atmosphere - INFO     ] - Row 01: Reaction 1: 0.5 S2 + 0.5 O2 = 1.0 SO\n",
      "[21:19:04 - atmodeller.interior_atmosphere - INFO     ] - Row 02: Reaction 2: 0.5 O2 + 1.0 CO = 1.0 CO2\n",
      "[21:19:04 - atmodeller.interior_atmosphere - INFO     ] - Row 03: Setting O2 fugacity\n",
      "[21:19:04 - atmodeller.interior_atmosphere - INFO     ] - Row 00: Reaction 0: 0.5 S2 + 1.0 O2 = 1.0 SO2\n",
      "[21:19:04 - atmodeller.interior_atmosphere - INFO     ] - Row 01: Reaction 1: 0.5 S2 + 0.5 O2 = 1.0 SO\n",
      "[21:19:04 - atmodeller.interior_atmosphere - INFO     ] - Row 02: Reaction 2: 0.5 O2 + 1.0 CO = 1.0 CO2\n",
      "[21:19:04 - atmodeller.interior_atmosphere - INFO     ] - Row 03: Setting O2 fugacity\n",
      "[21:19:04 - atmodeller.interior_atmosphere - INFO     ] - Row 00: Reaction 0: 0.5 S2 + 1.0 O2 = 1.0 SO2\n",
      "[21:19:04 - atmodeller.interior_atmosphere - INFO     ] - Row 01: Reaction 1: 0.5 S2 + 0.5 O2 = 1.0 SO\n",
      "[21:19:04 - atmodeller.interior_atmosphere - INFO     ] - Row 02: Reaction 2: 0.5 O2 + 1.0 CO = 1.0 CO2\n",
      "[21:19:04 - atmodeller.interior_atmosphere - INFO     ] - Row 03: Setting O2 fugacity\n",
      "[21:19:04 - atmodeller.interior_atmosphere - INFO     ] - Row 00: Reaction 0: 0.5 S2 + 1.0 O2 = 1.0 SO2\n",
      "[21:19:04 - atmodeller.interior_atmosphere - INFO     ] - Row 01: Reaction 1: 0.5 S2 + 0.5 O2 = 1.0 SO\n",
      "[21:19:04 - atmodeller.interior_atmosphere - INFO     ] - Row 02: Reaction 2: 0.5 O2 + 1.0 CO = 1.0 CO2\n",
      "[21:19:04 - atmodeller.interior_atmosphere - INFO     ] - Row 03: Setting O2 fugacity\n",
      "[21:19:04 - atmodeller.interior_atmosphere - INFO     ] - Row 00: Reaction 0: 0.5 S2 + 1.0 O2 = 1.0 SO2\n",
      "[21:19:04 - atmodeller.interior_atmosphere - INFO     ] - Row 01: Reaction 1: 0.5 S2 + 0.5 O2 = 1.0 SO\n",
      "[21:19:04 - atmodeller.interior_atmosphere - INFO     ] - Row 02: Reaction 2: 0.5 O2 + 1.0 CO = 1.0 CO2\n",
      "[21:19:04 - atmodeller.interior_atmosphere - INFO     ] - Row 03: Setting O2 fugacity\n",
      "[21:19:04 - atmodeller.interior_atmosphere - INFO     ] - Row 00: Reaction 0: 0.5 S2 + 1.0 O2 = 1.0 SO2\n",
      "[21:19:04 - atmodeller.interior_atmosphere - INFO     ] - Row 01: Reaction 1: 0.5 S2 + 0.5 O2 = 1.0 SO\n",
      "[21:19:04 - atmodeller.interior_atmosphere - INFO     ] - Row 02: Reaction 2: 0.5 O2 + 1.0 CO = 1.0 CO2\n",
      "[21:19:04 - atmodeller.interior_atmosphere - INFO     ] - Row 03: Setting O2 fugacity\n",
      "[21:19:04 - atmodeller.interior_atmosphere - INFO     ] - Row 00: Reaction 0: 0.5 S2 + 1.0 O2 = 1.0 SO2\n",
      "[21:19:04 - atmodeller.interior_atmosphere - INFO     ] - Row 01: Reaction 1: 0.5 S2 + 0.5 O2 = 1.0 SO\n",
      "[21:19:04 - atmodeller.interior_atmosphere - INFO     ] - Row 02: Reaction 2: 0.5 O2 + 1.0 CO = 1.0 CO2\n",
      "[21:19:04 - atmodeller.interior_atmosphere - INFO     ] - Row 03: Setting O2 fugacity\n",
      "[21:19:04 - atmodeller.interior_atmosphere - INFO     ] - Row 00: Reaction 0: 0.5 S2 + 1.0 O2 = 1.0 SO2\n",
      "[21:19:04 - atmodeller.interior_atmosphere - INFO     ] - Row 01: Reaction 1: 0.5 S2 + 0.5 O2 = 1.0 SO\n",
      "[21:19:04 - atmodeller.interior_atmosphere - INFO     ] - Row 02: Reaction 2: 0.5 O2 + 1.0 CO = 1.0 CO2\n",
      "[21:19:04 - atmodeller.interior_atmosphere - INFO     ] - Row 03: Setting O2 fugacity\n",
      "[21:19:04 - atmodeller.interior_atmosphere - INFO     ] - Row 00: Reaction 0: 0.5 S2 + 1.0 O2 = 1.0 SO2\n",
      "[21:19:04 - atmodeller.interior_atmosphere - INFO     ] - Row 01: Reaction 1: 0.5 S2 + 0.5 O2 = 1.0 SO\n",
      "[21:19:04 - atmodeller.interior_atmosphere - INFO     ] - Row 02: Reaction 2: 0.5 O2 + 1.0 CO = 1.0 CO2\n",
      "[21:19:04 - atmodeller.interior_atmosphere - INFO     ] - Row 03: Setting O2 fugacity\n",
      "[21:19:04 - atmodeller.interior_atmosphere - INFO     ] - Row 00: Reaction 0: 0.5 S2 + 1.0 O2 = 1.0 SO2\n",
      "[21:19:04 - atmodeller.interior_atmosphere - INFO     ] - Row 01: Reaction 1: 0.5 S2 + 0.5 O2 = 1.0 SO\n",
      "[21:19:04 - atmodeller.interior_atmosphere - INFO     ] - Row 02: Reaction 2: 0.5 O2 + 1.0 CO = 1.0 CO2\n",
      "[21:19:04 - atmodeller.interior_atmosphere - INFO     ] - Row 03: Setting O2 fugacity\n",
      "[21:19:04 - atmodeller.interior_atmosphere - INFO     ] - Row 00: Reaction 0: 0.5 S2 + 1.0 O2 = 1.0 SO2\n",
      "[21:19:04 - atmodeller.interior_atmosphere - INFO     ] - Row 01: Reaction 1: 0.5 S2 + 0.5 O2 = 1.0 SO\n",
      "[21:19:04 - atmodeller.interior_atmosphere - INFO     ] - Row 02: Reaction 2: 0.5 O2 + 1.0 CO = 1.0 CO2\n",
      "[21:19:04 - atmodeller.interior_atmosphere - INFO     ] - Row 03: Setting O2 fugacity\n",
      "[21:19:04 - atmodeller.interior_atmosphere - INFO     ] - Row 00: Reaction 0: 0.5 S2 + 1.0 O2 = 1.0 SO2\n",
      "[21:19:04 - atmodeller.interior_atmosphere - INFO     ] - Row 01: Reaction 1: 0.5 S2 + 0.5 O2 = 1.0 SO\n",
      "[21:19:04 - atmodeller.interior_atmosphere - INFO     ] - Row 02: Reaction 2: 0.5 O2 + 1.0 CO = 1.0 CO2\n",
      "[21:19:04 - atmodeller.interior_atmosphere - INFO     ] - Row 03: Setting O2 fugacity\n",
      "[21:19:04 - atmodeller.interior_atmosphere - INFO     ] - Row 00: Reaction 0: 0.5 S2 + 1.0 O2 = 1.0 SO2\n",
      "[21:19:04 - atmodeller.interior_atmosphere - INFO     ] - Row 01: Reaction 1: 0.5 S2 + 0.5 O2 = 1.0 SO\n",
      "[21:19:04 - atmodeller.interior_atmosphere - INFO     ] - Row 02: Reaction 2: 0.5 O2 + 1.0 CO = 1.0 CO2\n",
      "[21:19:04 - atmodeller.interior_atmosphere - INFO     ] - Row 03: Setting O2 fugacity\n",
      "[21:19:04 - atmodeller.interior_atmosphere - INFO     ] - Row 00: Reaction 0: 0.5 S2 + 1.0 O2 = 1.0 SO2\n",
      "[21:19:04 - atmodeller.interior_atmosphere - INFO     ] - Row 01: Reaction 1: 0.5 S2 + 0.5 O2 = 1.0 SO\n",
      "[21:19:04 - atmodeller.interior_atmosphere - INFO     ] - Row 02: Reaction 2: 0.5 O2 + 1.0 CO = 1.0 CO2\n",
      "[21:19:04 - atmodeller.interior_atmosphere - INFO     ] - Row 03: Setting O2 fugacity\n",
      "[21:19:05 - atmodeller.interior_atmosphere - INFO     ] - Row 00: Reaction 0: 0.5 S2 + 1.0 O2 = 1.0 SO2\n",
      "[21:19:05 - atmodeller.interior_atmosphere - INFO     ] - Row 01: Reaction 1: 0.5 S2 + 0.5 O2 = 1.0 SO\n",
      "[21:19:05 - atmodeller.interior_atmosphere - INFO     ] - Row 02: Reaction 2: 0.5 O2 + 1.0 CO = 1.0 CO2\n",
      "[21:19:05 - atmodeller.interior_atmosphere - INFO     ] - Row 03: Setting O2 fugacity\n",
      "[21:19:05 - atmodeller.interior_atmosphere - INFO     ] - Row 00: Reaction 0: 0.5 S2 + 1.0 O2 = 1.0 SO2\n",
      "[21:19:05 - atmodeller.interior_atmosphere - INFO     ] - Row 01: Reaction 1: 0.5 S2 + 0.5 O2 = 1.0 SO\n",
      "[21:19:05 - atmodeller.interior_atmosphere - INFO     ] - Row 02: Reaction 2: 0.5 O2 + 1.0 CO = 1.0 CO2\n",
      "[21:19:05 - atmodeller.interior_atmosphere - INFO     ] - Row 03: Setting O2 fugacity\n",
      "[21:19:05 - atmodeller.interior_atmosphere - INFO     ] - Row 00: Reaction 0: 0.5 S2 + 1.0 O2 = 1.0 SO2\n",
      "[21:19:05 - atmodeller.interior_atmosphere - INFO     ] - Row 01: Reaction 1: 0.5 S2 + 0.5 O2 = 1.0 SO\n",
      "[21:19:05 - atmodeller.interior_atmosphere - INFO     ] - Row 02: Reaction 2: 0.5 O2 + 1.0 CO = 1.0 CO2\n",
      "[21:19:05 - atmodeller.interior_atmosphere - INFO     ] - Row 03: Setting O2 fugacity\n",
      "[21:19:05 - atmodeller.interior_atmosphere - INFO     ] - The iteration is not making good progress, as measured by the \n",
      "  improvement from the last ten iterations.\n",
      "[21:19:05 - atmodeller.interior_atmosphere - INFO     ] - Retrying with a new randomised initial condition (attempt 2)\n",
      "[21:19:05 - atmodeller.interior_atmosphere - INFO     ] - Row 00: Reaction 0: 0.5 S2 + 1.0 O2 = 1.0 SO2\n",
      "[21:19:05 - atmodeller.interior_atmosphere - INFO     ] - Row 01: Reaction 1: 0.5 S2 + 0.5 O2 = 1.0 SO\n",
      "[21:19:05 - atmodeller.interior_atmosphere - INFO     ] - Row 02: Reaction 2: 0.5 O2 + 1.0 CO = 1.0 CO2\n",
      "[21:19:05 - atmodeller.interior_atmosphere - INFO     ] - Row 03: Setting O2 fugacity\n",
      "[21:19:05 - atmodeller.solubilities        - WARNING  ] - S2 sulfide solubility is getting too high = 42014.556156 ppmw\n",
      "[21:19:05 - atmodeller.solubilities        - WARNING  ] - S2 sulfide solubility is getting too high = 42014.556156 ppmw\n",
      "[21:19:05 - atmodeller.interior_atmosphere - INFO     ] - Row 00: Reaction 0: 0.5 S2 + 1.0 O2 = 1.0 SO2\n",
      "[21:19:05 - atmodeller.interior_atmosphere - INFO     ] - Row 01: Reaction 1: 0.5 S2 + 0.5 O2 = 1.0 SO\n",
      "[21:19:05 - atmodeller.interior_atmosphere - INFO     ] - Row 02: Reaction 2: 0.5 O2 + 1.0 CO = 1.0 CO2\n",
      "[21:19:05 - atmodeller.interior_atmosphere - INFO     ] - Row 03: Setting O2 fugacity\n",
      "[21:19:05 - atmodeller.solubilities        - WARNING  ] - S2 sulfide solubility is getting too high = 42014.556156 ppmw\n",
      "[21:19:05 - atmodeller.solubilities        - WARNING  ] - S2 sulfide solubility is getting too high = 42014.556156 ppmw\n",
      "[21:19:05 - atmodeller.interior_atmosphere - INFO     ] - Row 00: Reaction 0: 0.5 S2 + 1.0 O2 = 1.0 SO2\n",
      "[21:19:05 - atmodeller.interior_atmosphere - INFO     ] - Row 01: Reaction 1: 0.5 S2 + 0.5 O2 = 1.0 SO\n",
      "[21:19:05 - atmodeller.interior_atmosphere - INFO     ] - Row 02: Reaction 2: 0.5 O2 + 1.0 CO = 1.0 CO2\n",
      "[21:19:05 - atmodeller.interior_atmosphere - INFO     ] - Row 03: Setting O2 fugacity\n",
      "[21:19:05 - atmodeller.solubilities        - WARNING  ] - S2 sulfide solubility is getting too high = 42014.556156 ppmw\n",
      "[21:19:05 - atmodeller.solubilities        - WARNING  ] - S2 sulfide solubility is getting too high = 42014.556156 ppmw\n",
      "[21:19:05 - atmodeller.interior_atmosphere - INFO     ] - Row 00: Reaction 0: 0.5 S2 + 1.0 O2 = 1.0 SO2\n",
      "[21:19:05 - atmodeller.interior_atmosphere - INFO     ] - Row 01: Reaction 1: 0.5 S2 + 0.5 O2 = 1.0 SO\n",
      "[21:19:05 - atmodeller.interior_atmosphere - INFO     ] - Row 02: Reaction 2: 0.5 O2 + 1.0 CO = 1.0 CO2\n",
      "[21:19:05 - atmodeller.interior_atmosphere - INFO     ] - Row 03: Setting O2 fugacity\n",
      "[21:19:05 - atmodeller.solubilities        - WARNING  ] - S2 sulfide solubility is getting too high = 42014.556156 ppmw\n",
      "[21:19:05 - atmodeller.solubilities        - WARNING  ] - S2 sulfide solubility is getting too high = 42014.556156 ppmw\n",
      "[21:19:05 - atmodeller.interior_atmosphere - INFO     ] - Row 00: Reaction 0: 0.5 S2 + 1.0 O2 = 1.0 SO2\n",
      "[21:19:05 - atmodeller.interior_atmosphere - INFO     ] - Row 01: Reaction 1: 0.5 S2 + 0.5 O2 = 1.0 SO\n",
      "[21:19:05 - atmodeller.interior_atmosphere - INFO     ] - Row 02: Reaction 2: 0.5 O2 + 1.0 CO = 1.0 CO2\n",
      "[21:19:05 - atmodeller.interior_atmosphere - INFO     ] - Row 03: Setting O2 fugacity\n",
      "[21:19:05 - atmodeller.solubilities        - WARNING  ] - S2 sulfide solubility is getting too high = 42014.557752 ppmw\n",
      "[21:19:05 - atmodeller.solubilities        - WARNING  ] - S2 sulfide solubility is getting too high = 42014.557752 ppmw\n",
      "[21:19:05 - atmodeller.interior_atmosphere - INFO     ] - Row 00: Reaction 0: 0.5 S2 + 1.0 O2 = 1.0 SO2\n",
      "[21:19:05 - atmodeller.interior_atmosphere - INFO     ] - Row 01: Reaction 1: 0.5 S2 + 0.5 O2 = 1.0 SO\n",
      "[21:19:05 - atmodeller.interior_atmosphere - INFO     ] - Row 02: Reaction 2: 0.5 O2 + 1.0 CO = 1.0 CO2\n",
      "[21:19:05 - atmodeller.interior_atmosphere - INFO     ] - Row 03: Setting O2 fugacity\n",
      "[21:19:05 - atmodeller.solubilities        - WARNING  ] - S2 sulfide solubility is getting too high = 42014.551840 ppmw\n",
      "[21:19:05 - atmodeller.solubilities        - WARNING  ] - S2 sulfide solubility is getting too high = 42014.551840 ppmw\n",
      "[21:19:05 - atmodeller.interior_atmosphere - INFO     ] - Row 00: Reaction 0: 0.5 S2 + 1.0 O2 = 1.0 SO2\n",
      "[21:19:05 - atmodeller.interior_atmosphere - INFO     ] - Row 01: Reaction 1: 0.5 S2 + 0.5 O2 = 1.0 SO\n",
      "[21:19:05 - atmodeller.interior_atmosphere - INFO     ] - Row 02: Reaction 2: 0.5 O2 + 1.0 CO = 1.0 CO2\n",
      "[21:19:05 - atmodeller.interior_atmosphere - INFO     ] - Row 03: Setting O2 fugacity\n",
      "[21:19:05 - atmodeller.solubilities        - WARNING  ] - S2 sulfide solubility is getting too high = 42014.556156 ppmw\n",
      "[21:19:05 - atmodeller.solubilities        - WARNING  ] - S2 sulfide solubility is getting too high = 42014.556156 ppmw\n",
      "[21:19:05 - atmodeller.interior_atmosphere - INFO     ] - Row 00: Reaction 0: 0.5 S2 + 1.0 O2 = 1.0 SO2\n",
      "[21:19:05 - atmodeller.interior_atmosphere - INFO     ] - Row 01: Reaction 1: 0.5 S2 + 0.5 O2 = 1.0 SO\n",
      "[21:19:05 - atmodeller.interior_atmosphere - INFO     ] - Row 02: Reaction 2: 0.5 O2 + 1.0 CO = 1.0 CO2\n",
      "[21:19:05 - atmodeller.interior_atmosphere - INFO     ] - Row 03: Setting O2 fugacity\n",
      "[21:19:05 - atmodeller.solubilities        - WARNING  ] - S2 sulfide solubility is getting too high = 42014.556156 ppmw\n",
      "[21:19:05 - atmodeller.solubilities        - WARNING  ] - S2 sulfide solubility is getting too high = 42014.556156 ppmw\n",
      "[21:19:05 - atmodeller.interior_atmosphere - INFO     ] - Row 00: Reaction 0: 0.5 S2 + 1.0 O2 = 1.0 SO2\n",
      "[21:19:05 - atmodeller.interior_atmosphere - INFO     ] - Row 01: Reaction 1: 0.5 S2 + 0.5 O2 = 1.0 SO\n",
      "[21:19:05 - atmodeller.interior_atmosphere - INFO     ] - Row 02: Reaction 2: 0.5 O2 + 1.0 CO = 1.0 CO2\n",
      "[21:19:05 - atmodeller.interior_atmosphere - INFO     ] - Row 03: Setting O2 fugacity\n",
      "[21:19:05 - atmodeller.solubilities        - WARNING  ] - S2 sulfide solubility is getting too high = 42014.556156 ppmw\n",
      "[21:19:05 - atmodeller.solubilities        - WARNING  ] - S2 sulfide solubility is getting too high = 42014.556156 ppmw\n",
      "[21:19:05 - atmodeller.interior_atmosphere - INFO     ] - Row 00: Reaction 0: 0.5 S2 + 1.0 O2 = 1.0 SO2\n",
      "[21:19:05 - atmodeller.interior_atmosphere - INFO     ] - Row 01: Reaction 1: 0.5 S2 + 0.5 O2 = 1.0 SO\n",
      "[21:19:05 - atmodeller.interior_atmosphere - INFO     ] - Row 02: Reaction 2: 0.5 O2 + 1.0 CO = 1.0 CO2\n",
      "[21:19:05 - atmodeller.interior_atmosphere - INFO     ] - Row 03: Setting O2 fugacity\n",
      "[21:19:05 - atmodeller.solubilities        - WARNING  ] - S2 sulfide solubility is getting too high = 16065.414969 ppmw\n",
      "[21:19:05 - atmodeller.solubilities        - WARNING  ] - S2 sulfide solubility is getting too high = 16065.414969 ppmw\n",
      "[21:19:05 - atmodeller.interior_atmosphere - INFO     ] - Row 00: Reaction 0: 0.5 S2 + 1.0 O2 = 1.0 SO2\n",
      "[21:19:05 - atmodeller.interior_atmosphere - INFO     ] - Row 01: Reaction 1: 0.5 S2 + 0.5 O2 = 1.0 SO\n",
      "[21:19:05 - atmodeller.interior_atmosphere - INFO     ] - Row 02: Reaction 2: 0.5 O2 + 1.0 CO = 1.0 CO2\n",
      "[21:19:05 - atmodeller.interior_atmosphere - INFO     ] - Row 03: Setting O2 fugacity\n",
      "[21:19:05 - atmodeller.solubilities        - WARNING  ] - S2 sulfide solubility is getting too high = 9300.810156 ppmw\n",
      "[21:19:05 - atmodeller.solubilities        - WARNING  ] - S2 sulfide solubility is getting too high = 9300.810156 ppmw\n",
      "[21:19:05 - atmodeller.interior_atmosphere - INFO     ] - Row 00: Reaction 0: 0.5 S2 + 1.0 O2 = 1.0 SO2\n",
      "[21:19:05 - atmodeller.interior_atmosphere - INFO     ] - Row 01: Reaction 1: 0.5 S2 + 0.5 O2 = 1.0 SO\n",
      "[21:19:05 - atmodeller.interior_atmosphere - INFO     ] - Row 02: Reaction 2: 0.5 O2 + 1.0 CO = 1.0 CO2\n",
      "[21:19:05 - atmodeller.interior_atmosphere - INFO     ] - Row 03: Setting O2 fugacity\n",
      "[21:19:05 - atmodeller.solubilities        - WARNING  ] - S2 sulfide solubility is getting too high = 2850.335287 ppmw\n",
      "[21:19:05 - atmodeller.solubilities        - WARNING  ] - S2 sulfide solubility is getting too high = 2850.335287 ppmw\n",
      "[21:19:05 - atmodeller.interior_atmosphere - INFO     ] - Row 00: Reaction 0: 0.5 S2 + 1.0 O2 = 1.0 SO2\n",
      "[21:19:05 - atmodeller.interior_atmosphere - INFO     ] - Row 01: Reaction 1: 0.5 S2 + 0.5 O2 = 1.0 SO\n",
      "[21:19:05 - atmodeller.interior_atmosphere - INFO     ] - Row 02: Reaction 2: 0.5 O2 + 1.0 CO = 1.0 CO2\n",
      "[21:19:05 - atmodeller.interior_atmosphere - INFO     ] - Row 03: Setting O2 fugacity\n",
      "[21:19:05 - atmodeller.solubilities        - WARNING  ] - S2 sulfide solubility is getting too high = 1792.385650 ppmw\n",
      "[21:19:05 - atmodeller.solubilities        - WARNING  ] - S2 sulfide solubility is getting too high = 1792.385650 ppmw\n",
      "[21:19:05 - atmodeller.interior_atmosphere - INFO     ] - Row 00: Reaction 0: 0.5 S2 + 1.0 O2 = 1.0 SO2\n",
      "[21:19:05 - atmodeller.interior_atmosphere - INFO     ] - Row 01: Reaction 1: 0.5 S2 + 0.5 O2 = 1.0 SO\n",
      "[21:19:05 - atmodeller.interior_atmosphere - INFO     ] - Row 02: Reaction 2: 0.5 O2 + 1.0 CO = 1.0 CO2\n",
      "[21:19:05 - atmodeller.interior_atmosphere - INFO     ] - Row 03: Setting O2 fugacity\n",
      "[21:19:05 - atmodeller.interior_atmosphere - INFO     ] - Row 00: Reaction 0: 0.5 S2 + 1.0 O2 = 1.0 SO2\n",
      "[21:19:06 - atmodeller.interior_atmosphere - INFO     ] - Row 01: Reaction 1: 0.5 S2 + 0.5 O2 = 1.0 SO\n",
      "[21:19:06 - atmodeller.interior_atmosphere - INFO     ] - Row 02: Reaction 2: 0.5 O2 + 1.0 CO = 1.0 CO2\n",
      "[21:19:06 - atmodeller.interior_atmosphere - INFO     ] - Row 03: Setting O2 fugacity\n",
      "[21:19:06 - atmodeller.interior_atmosphere - INFO     ] - Row 00: Reaction 0: 0.5 S2 + 1.0 O2 = 1.0 SO2\n",
      "[21:19:06 - atmodeller.interior_atmosphere - INFO     ] - Row 01: Reaction 1: 0.5 S2 + 0.5 O2 = 1.0 SO\n",
      "[21:19:06 - atmodeller.interior_atmosphere - INFO     ] - Row 02: Reaction 2: 0.5 O2 + 1.0 CO = 1.0 CO2\n",
      "[21:19:06 - atmodeller.interior_atmosphere - INFO     ] - Row 03: Setting O2 fugacity\n",
      "[21:19:06 - atmodeller.interior_atmosphere - INFO     ] - Row 00: Reaction 0: 0.5 S2 + 1.0 O2 = 1.0 SO2\n",
      "[21:19:06 - atmodeller.interior_atmosphere - INFO     ] - Row 01: Reaction 1: 0.5 S2 + 0.5 O2 = 1.0 SO\n",
      "[21:19:06 - atmodeller.interior_atmosphere - INFO     ] - Row 02: Reaction 2: 0.5 O2 + 1.0 CO = 1.0 CO2\n",
      "[21:19:06 - atmodeller.interior_atmosphere - INFO     ] - Row 03: Setting O2 fugacity\n",
      "[21:19:06 - atmodeller.interior_atmosphere - INFO     ] - Row 00: Reaction 0: 0.5 S2 + 1.0 O2 = 1.0 SO2\n",
      "[21:19:06 - atmodeller.interior_atmosphere - INFO     ] - Row 01: Reaction 1: 0.5 S2 + 0.5 O2 = 1.0 SO\n",
      "[21:19:06 - atmodeller.interior_atmosphere - INFO     ] - Row 02: Reaction 2: 0.5 O2 + 1.0 CO = 1.0 CO2\n",
      "[21:19:06 - atmodeller.interior_atmosphere - INFO     ] - Row 03: Setting O2 fugacity\n",
      "[21:19:06 - atmodeller.interior_atmosphere - INFO     ] - Row 00: Reaction 0: 0.5 S2 + 1.0 O2 = 1.0 SO2\n",
      "[21:19:06 - atmodeller.interior_atmosphere - INFO     ] - Row 01: Reaction 1: 0.5 S2 + 0.5 O2 = 1.0 SO\n",
      "[21:19:06 - atmodeller.interior_atmosphere - INFO     ] - Row 02: Reaction 2: 0.5 O2 + 1.0 CO = 1.0 CO2\n",
      "[21:19:06 - atmodeller.interior_atmosphere - INFO     ] - Row 03: Setting O2 fugacity\n",
      "[21:19:06 - atmodeller.interior_atmosphere - INFO     ] - Row 00: Reaction 0: 0.5 S2 + 1.0 O2 = 1.0 SO2\n",
      "[21:19:06 - atmodeller.interior_atmosphere - INFO     ] - Row 01: Reaction 1: 0.5 S2 + 0.5 O2 = 1.0 SO\n",
      "[21:19:06 - atmodeller.interior_atmosphere - INFO     ] - Row 02: Reaction 2: 0.5 O2 + 1.0 CO = 1.0 CO2\n",
      "[21:19:06 - atmodeller.interior_atmosphere - INFO     ] - Row 03: Setting O2 fugacity\n",
      "[21:19:06 - atmodeller.interior_atmosphere - INFO     ] - Row 00: Reaction 0: 0.5 S2 + 1.0 O2 = 1.0 SO2\n",
      "[21:19:06 - atmodeller.interior_atmosphere - INFO     ] - Row 01: Reaction 1: 0.5 S2 + 0.5 O2 = 1.0 SO\n",
      "[21:19:06 - atmodeller.interior_atmosphere - INFO     ] - Row 02: Reaction 2: 0.5 O2 + 1.0 CO = 1.0 CO2\n",
      "[21:19:06 - atmodeller.interior_atmosphere - INFO     ] - Row 03: Setting O2 fugacity\n",
      "[21:19:06 - atmodeller.interior_atmosphere - INFO     ] - Row 00: Reaction 0: 0.5 S2 + 1.0 O2 = 1.0 SO2\n",
      "[21:19:06 - atmodeller.interior_atmosphere - INFO     ] - Row 01: Reaction 1: 0.5 S2 + 0.5 O2 = 1.0 SO\n",
      "[21:19:06 - atmodeller.interior_atmosphere - INFO     ] - Row 02: Reaction 2: 0.5 O2 + 1.0 CO = 1.0 CO2\n",
      "[21:19:06 - atmodeller.interior_atmosphere - INFO     ] - Row 03: Setting O2 fugacity\n",
      "[21:19:06 - atmodeller.interior_atmosphere - INFO     ] - Row 00: Reaction 0: 0.5 S2 + 1.0 O2 = 1.0 SO2\n",
      "[21:19:06 - atmodeller.interior_atmosphere - INFO     ] - Row 01: Reaction 1: 0.5 S2 + 0.5 O2 = 1.0 SO\n",
      "[21:19:06 - atmodeller.interior_atmosphere - INFO     ] - Row 02: Reaction 2: 0.5 O2 + 1.0 CO = 1.0 CO2\n",
      "[21:19:06 - atmodeller.interior_atmosphere - INFO     ] - Row 03: Setting O2 fugacity\n",
      "[21:19:06 - atmodeller.interior_atmosphere - INFO     ] - Row 00: Reaction 0: 0.5 S2 + 1.0 O2 = 1.0 SO2\n",
      "[21:19:06 - atmodeller.interior_atmosphere - INFO     ] - Row 01: Reaction 1: 0.5 S2 + 0.5 O2 = 1.0 SO\n",
      "[21:19:06 - atmodeller.interior_atmosphere - INFO     ] - Row 02: Reaction 2: 0.5 O2 + 1.0 CO = 1.0 CO2\n",
      "[21:19:06 - atmodeller.interior_atmosphere - INFO     ] - Row 03: Setting O2 fugacity\n",
      "[21:19:06 - atmodeller.interior_atmosphere - INFO     ] - The solution converged.\n",
      "[21:19:06 - atmodeller.interior_atmosphere - INFO     ] - Number of function calls = 22\n",
      "[21:19:06 - atmodeller.interior_atmosphere - INFO     ] - Final objective function evaluation = [ 0.00000000e+00 -2.22044605e-16 -4.44089210e-16  3.10862447e-14\n",
      "  1.01378428e-10  1.76010280e-12]\n",
      "[21:19:06 - atmodeller.interior_atmosphere - INFO     ] - {'CO': 230.67647327936177,\n",
      " 'CO2': 47.437207165120746,\n",
      " 'O2': 1.0437570555403361e-06,\n",
      " 'S2': 0.0037650388586196962,\n",
      " 'SO': 0.003040722714933701,\n",
      " 'SO2': 0.004958587456124795}\n"
     ]
    }
   ],
   "source": [
    "import numpy as np\n",
    "initial_log10: np.ndarray = np.array([0, 0, -3, -3, -6, -3, 2, 1])\n",
    "initial_solution: np.ndarray = 10.0**initial_log10\n",
    "\n",
    "system.solve(SystemConstraints(constraints))"
   ]
  },
  {
   "cell_type": "code",
   "execution_count": 19,
   "metadata": {},
   "outputs": [
    {
     "data": {
      "text/plain": [
       "{'temperature': 2173,\n",
       " 'total_pressure_in_atmosphere': 278.12544583726924,\n",
       " 'mean_molar_mass_in_atmosphere': 0.03074036206312284,\n",
       " 'SO': GasSpeciesOutput(mass_in_atmosphere=2.469473471074587e+16, mass_in_solid=0.0, mass_in_melt=0.0, moles_in_atmosphere=5.137863969818261e+17, moles_in_melt=0.0, moles_in_solid=0.0, ppmw_in_solid=0.0, ppmw_in_melt=0.0, fugacity=0.003040722714933701, fugacity_coefficient=1.0, pressure_in_atmosphere=0.003040722714933701, volume_mixing_ratio=1.0932918078674552e-05, mass_in_total=2.469473471074587e+16),\n",
       " 'S2': GasSpeciesOutput(mass_in_atmosphere=4.079752124275351e+16, mass_in_solid=0.0, mass_in_melt=8.41568107287835e+20, moles_in_atmosphere=6.361730190544384e+17, moles_in_melt=1.3122927747683364e+22, moles_in_solid=0.0, ppmw_in_solid=0.0, ppmw_in_melt=199.9800066519789, fugacity=0.0037650388586196962, fugacity_coefficient=1.0, pressure_in_atmosphere=0.0037650388586196962, volume_mixing_ratio=1.3537196667803688e-05, mass_in_total=8.416089048090778e+20),\n",
       " 'O2': GasSpeciesOutput(mass_in_atmosphere=5643376627893.997, mass_in_solid=0.0, mass_in_melt=0.0, moles_in_atmosphere=176362078086466.28, moles_in_melt=0.0, moles_in_solid=0.0, ppmw_in_solid=0.0, ppmw_in_melt=0.0, fugacity=1.0437570555403361e-06, fugacity_coefficient=1.0, pressure_in_atmosphere=1.0437570555403361e-06, volume_mixing_ratio=3.752828341176078e-09, mass_in_total=5643376627893.997),\n",
       " 'SO2': GasSpeciesOutput(mass_in_atmosphere=5.3675385014257336e+16, mass_in_solid=0.0, mass_in_melt=0.0, moles_in_atmosphere=8.378451513153464e+17, moles_in_melt=0.0, moles_in_solid=0.0, ppmw_in_solid=0.0, ppmw_in_melt=0.0, fugacity=0.004958587456124795, fugacity_coefficient=1.0, pressure_in_atmosphere=0.004958587456124795, volume_mixing_ratio=1.7828600476297506e-05, mass_in_total=5.3675385014257336e+16),\n",
       " 'CO': GasSpeciesOutput(mass_in_atmosphere=1.0917531241177471e+21, mass_in_solid=0.0, mass_in_melt=0.0, moles_in_atmosphere=3.897706077986198e+22, moles_in_melt=0.0, moles_in_solid=0.0, ppmw_in_solid=0.0, ppmw_in_melt=0.0, fugacity=230.67647327936177, fugacity_coefficient=1.0, pressure_in_atmosphere=230.67647327936177, volume_mixing_ratio=0.8293972260788041, mass_in_total=1.0917531241177471e+21),\n",
       " 'CO2': GasSpeciesOutput(mass_in_atmosphere=3.527538996180804e+20, mass_in_solid=0.0, mass_in_melt=9.06607206260763e+19, moles_in_atmosphere=8.015394377313116e+21, moles_in_melt=2.0600238045168903e+21, moles_in_solid=0.0, ppmw_in_solid=0.0, ppmw_in_melt=21.543510687810514, fugacity=47.437207165120746, fugacity_coefficient=1.0, pressure_in_atmosphere=47.437207165120746, volume_mixing_ratio=0.17056047145314485, mass_in_total=4.434146202441567e+20)}"
      ]
     },
     "execution_count": 19,
     "metadata": {},
     "output_type": "execute_result"
    }
   ],
   "source": [
    "system.output"
   ]
  },
  {
   "cell_type": "code",
   "execution_count": 20,
   "metadata": {},
   "outputs": [
    {
     "data": {
      "text/plain": [
       "{'SO': 0.003040722714933701,\n",
       " 'S2': 0.0037650388586196962,\n",
       " 'O2': 1.0437570555403361e-06,\n",
       " 'SO2': 0.004958587456124795,\n",
       " 'CO': 230.67647327936177,\n",
       " 'CO2': 47.437207165120746}"
      ]
     },
     "execution_count": 20,
     "metadata": {},
     "output_type": "execute_result"
    }
   ],
   "source": [
    "system.fugacities_dict"
   ]
  },
  {
   "cell_type": "code",
   "execution_count": 21,
   "metadata": {},
   "outputs": [
    {
     "name": "stdout",
     "output_type": "stream",
     "text": [
      "0.0\n",
      "199.9800066519789\n",
      "0.0\n"
     ]
    }
   ],
   "source": [
    "print(system.output['SO'].ppmw_in_melt)\n",
    "print(system.output['S2'].ppmw_in_melt)\n",
    "print(system.output['SO2'].ppmw_in_melt)"
   ]
  },
  {
   "cell_type": "code",
   "execution_count": null,
   "metadata": {},
   "outputs": [],
   "source": [
    "S_Mass_Total = ((system.output['SO'].mass_in_total * kg_to_g / SO_MM) * S_MM / kg_to_g) + ((system.output['S2'].mass_in_total * kg_to_g / S2_MM) * 2 * S_MM / kg_to_g) + ((system.output['SO2'].mass_in_total * kg_to_g / SO2_MM) * S_MM / kg_to_g)\n",
    "print(S_Mass_Total)"
   ]
  },
  {
   "cell_type": "code",
   "execution_count": null,
   "metadata": {},
   "outputs": [],
   "source": [
    "SO_fugacities_dict = {\"O2\": 1.04379836369107e-06, \"S2\": 1e-05}\n",
    "TotalS_Sol_test = solubility_SO_Sulfide(0.1, 2173, SO_fugacities_dict) + BasaltSO_Sulfate_solubility(0.1, 2173, SO_fugacities_dict)\n",
    "print(TotalS_Sol_test)"
   ]
  },
  {
   "cell_type": "markdown",
   "metadata": {},
   "source": [
    "### C, H, N, O and S"
   ]
  },
  {
   "cell_type": "code",
   "execution_count": null,
   "metadata": {},
   "outputs": [],
   "source": [
    "\n",
    "species: Species = Species(\n",
    "        [\n",
    "            GasSpecies(chemical_formula='H2O', solubility=BasaltDixonH2O()),\n",
    "            GasSpecies(chemical_formula='H2',  solubility=BasaltH2()),\n",
    "            GasSpecies(chemical_formula=\"SO\", solubility=NoSolubility()),\n",
    "            GasSpecies(chemical_formula=\"S2\", solubility=BasaltS2()),\n",
    "            GasSpecies(chemical_formula=\"O2\", solubility=NoSolubility()),\n",
    "            GasSpecies(chemical_formula=\"SO2\", solubility=NoSolubility()),\n",
    "            GasSpecies(chemical_formula='CO', solubility=NoSolubility()),\n",
    "            GasSpecies(chemical_formula='CO2', solubility=BasaltDixonCO2()),\n",
    "            GasSpecies(chemical_formula='N2', solubility=BasaltLibourelN2())\n",
    "        ]\n",
    "    )\n",
    "\n",
    "\n",
    "species"
   ]
  },
  {
   "cell_type": "code",
   "execution_count": null,
   "metadata": {},
   "outputs": [],
   "source": [
    "surface_temperature: float = 2173 # K\n",
    "\n",
    "planet: Planet = Planet(surface_temperature=surface_temperature)\n",
    "S2_fugacity: float = 5e-3\n",
    "mass_H: float = 0.00108 * planet.mantle_mass * (2/18)\n",
    "mass_C: float = 0.00014 * planet.mantle_mass \n",
    "mass_S: float = 0.0002 * planet.mantle_mass\n",
    "mass_N: float = 0.0000028 * planet.mantle_mass\n",
    "\n",
    "print('Mass of mantle (kg):', planet.mantle_mass)\n",
    "print('Mass of H:', mass_H)\n",
    "print('Mass of C:', mass_C)\n",
    "print('Mass of S:', mass_S)\n",
    "print('Mass of N:', mass_N)\n"
   ]
  },
  {
   "cell_type": "code",
   "execution_count": null,
   "metadata": {},
   "outputs": [],
   "source": [
    "\n",
    "constraints: SystemConstraints = SystemConstraints([\n",
    "    #MassConstraint(species=\"S\", value=mass_S),\n",
    "    FugacityConstraint(species=\"S2\", value=S2_fugacity),\n",
    "    MassConstraint(species=\"H\", value=mass_H),\n",
    "    MassConstraint(species=\"C\", value=mass_C),\n",
    "    MassConstraint(species=\"N\", value=mass_N),\n",
    "    IronWustiteBufferConstraintHirschmann(log10_shift=0)\n",
    "    ])\n",
    "system: InteriorAtmosphereSystem = InteriorAtmosphereSystem(species=species, planet=planet)"
   ]
  },
  {
   "cell_type": "code",
   "execution_count": null,
   "metadata": {},
   "outputs": [],
   "source": [
    "system.solve(SystemConstraints(constraints))"
   ]
  },
  {
   "cell_type": "code",
   "execution_count": null,
   "metadata": {},
   "outputs": [],
   "source": [
    "system.output"
   ]
  },
  {
   "cell_type": "code",
   "execution_count": null,
   "metadata": {},
   "outputs": [],
   "source": [
    "system.fugacities_dict"
   ]
  },
  {
   "cell_type": "code",
   "execution_count": null,
   "metadata": {
    "vscode": {
     "languageId": "javascript"
    }
   },
   "outputs": [],
   "source": [
    "print(system.output['SO'].ppmw_in_melt)\n",
    "print(system.output['S2'].ppmw_in_melt)\n",
    "print(system.output['SO2'].ppmw_in_melt)"
   ]
  },
  {
   "cell_type": "code",
   "execution_count": null,
   "metadata": {},
   "outputs": [],
   "source": [
    "S_Mass_Total = ((system.output['SO'].mass_in_total * kg_to_g / SO_MM) * S_MM / kg_to_g) + ((system.output['S2'].mass_in_total * kg_to_g / S2_MM) * 2 * S_MM / kg_to_g) + ((system.output['SO2'].mass_in_total * kg_to_g / SO2_MM) * S_MM / kg_to_g)\n",
    "print(S_Mass_Total)"
   ]
  },
  {
   "cell_type": "markdown",
   "metadata": {},
   "source": [
    "### C, H, N, O, S, Vary Temperature Conditions"
   ]
  },
  {
   "cell_type": "code",
   "execution_count": null,
   "metadata": {},
   "outputs": [],
   "source": [
    "species: Species = Species(\n",
    "        [\n",
    "            GasSpecies(chemical_formula='H2O', solubility=BasaltDixonH2O()),\n",
    "            GasSpecies(chemical_formula='H2',  solubility=BasaltH2()),\n",
    "            GasSpecies(chemical_formula=\"SO\", solubility=BasaltSO()),\n",
    "            GasSpecies(chemical_formula=\"S2\", solubility=BasaltS2()),\n",
    "            GasSpecies(chemical_formula=\"O2\", solubility=NoSolubility()),\n",
    "            GasSpecies(chemical_formula=\"SO2\", solubility=BasaltSO2()),\n",
    "            GasSpecies(chemical_formula='CO', solubility=NoSolubility()),\n",
    "            GasSpecies(chemical_formula='CO2', solubility=BasaltDixonCO2()),\n",
    "            GasSpecies(chemical_formula='N2', solubility=BasaltLibourelN2())\n",
    "        ]\n",
    "    )\n",
    "\n",
    "\n",
    "species"
   ]
  },
  {
   "cell_type": "code",
   "execution_count": null,
   "metadata": {},
   "outputs": [],
   "source": [
    "surface_temperature: float = 1800 # K\n",
    "\n",
    "planet: Planet = Planet(surface_temperature=surface_temperature)\n",
    "\n",
    "mass_H: float = 0.00108 * planet.mantle_mass * (2/18)\n",
    "mass_C: float = 0.00014 * planet.mantle_mass \n",
    "mass_S: float = 0.0002 * planet.mantle_mass\n",
    "mass_N: float = 0.0000028 * planet.mantle_mass\n",
    "\n",
    "print('Mass of mantle (kg):', planet.mantle_mass)\n",
    "print('Mass of H:', mass_H)\n",
    "print('Mass of C:', mass_C)\n",
    "print('Mass of S:', mass_S)\n",
    "print('Mass of N:', mass_N)"
   ]
  },
  {
   "cell_type": "code",
   "execution_count": null,
   "metadata": {},
   "outputs": [],
   "source": [
    "\n",
    "constraints: list[SystemConstraint] = [\n",
    "    MassConstraint(species=\"S\", value=mass_S),\n",
    "    MassConstraint(species=\"H\", value=mass_H),\n",
    "    MassConstraint(species=\"C\", value=mass_C),\n",
    "    MassConstraint(species=\"N\", value=mass_N),\n",
    "    IronWustiteBufferConstraintHirschmann(log10_shift=0)\n",
    "    ]\n",
    "system: InteriorAtmosphereSystem = InteriorAtmosphereSystem(species=species, planet=planet)"
   ]
  },
  {
   "cell_type": "code",
   "execution_count": null,
   "metadata": {},
   "outputs": [],
   "source": [
    "system.solve(SystemConstraints(constraints))"
   ]
  },
  {
   "cell_type": "code",
   "execution_count": null,
   "metadata": {},
   "outputs": [],
   "source": [
    "system.output"
   ]
  },
  {
   "cell_type": "code",
   "execution_count": null,
   "metadata": {},
   "outputs": [],
   "source": [
    "system.fugacities_dict"
   ]
  },
  {
   "cell_type": "code",
   "execution_count": null,
   "metadata": {},
   "outputs": [],
   "source": [
    "print(system.output['SO'].ppmw_in_melt)\n",
    "print(system.output['S2'].ppmw_in_melt)\n",
    "print(system.output['SO2'].ppmw_in_melt)"
   ]
  },
  {
   "cell_type": "code",
   "execution_count": null,
   "metadata": {},
   "outputs": [],
   "source": [
    "SO_fugacities_dict = {\"O2\": 2.7714826681743157e-09, \"S2\": 7.286429137857455e-05}\n",
    "TotalS_Sol_test = solubility_SO_Sulfide(0.1, 1800, SO_fugacities_dict) + BasaltSO_Sulfate_solubility(0.1, 1800, SO_fugacities_dict)\n",
    "print(TotalS_Sol_test)"
   ]
  },
  {
   "cell_type": "markdown",
   "metadata": {},
   "source": [
    "### C, H, N, O, S, Vary Constraints"
   ]
  },
  {
   "cell_type": "code",
   "execution_count": null,
   "metadata": {},
   "outputs": [],
   "source": [
    "species: Species = Species(\n",
    "        [\n",
    "            GasSpecies(chemical_formula='H2O', solubility=BasaltDixonH2O()),\n",
    "            GasSpecies(chemical_formula='H2',  solubility=BasaltH2()),\n",
    "            GasSpecies(chemical_formula=\"SO\", solubility=BasaltSO()),\n",
    "            GasSpecies(chemical_formula=\"S2\", solubility=BasaltS2()),\n",
    "            GasSpecies(chemical_formula=\"O2\", solubility=NoSolubility()),\n",
    "            GasSpecies(chemical_formula=\"SO2\", solubility=BasaltSO2()),\n",
    "            GasSpecies(chemical_formula='CO', solubility=NoSolubility()),\n",
    "            GasSpecies(chemical_formula='CO2', solubility=BasaltDixonCO2()),\n",
    "            GasSpecies(chemical_formula='N2', solubility=BasaltLibourelN2())\n",
    "        ]\n",
    "    )\n",
    "\n",
    "\n",
    "species"
   ]
  },
  {
   "cell_type": "code",
   "execution_count": null,
   "metadata": {},
   "outputs": [],
   "source": [
    "surface_temperature: float = 2173 # K\n",
    "\n",
    "planet: Planet = Planet(surface_temperature=surface_temperature)\n",
    "\n",
    "mass_H: float = 0.00108 * planet.mantle_mass * (2/18)\n",
    "mass_C: float = 0.00014 * planet.mantle_mass \n",
    "mass_S: float = 0.0002 * planet.mantle_mass\n",
    "mass_N: float = 0.0000028 * planet.mantle_mass\n",
    "\n",
    "print('Mass of mantle (kg):', planet.mantle_mass)\n",
    "print('Mass of H:', mass_H)\n",
    "print('Mass of C:', mass_C)\n",
    "print('Mass of S:', mass_S)\n",
    "print('Mass of N:', mass_N)"
   ]
  },
  {
   "cell_type": "code",
   "execution_count": null,
   "metadata": {},
   "outputs": [],
   "source": [
    "\n",
    "constraints: list[SystemConstraint] = [\n",
    "    ConstantSystemConstraint(name=\"fugacity\", species=\"S2\", value=5e-3),\n",
    "    MassConstraint(species=\"H\", value=mass_H),\n",
    "    MassConstraint(species=\"C\", value=mass_C),\n",
    "    MassConstraint(species=\"N\", value=mass_N),\n",
    "    IronWustiteBufferConstraintHirschmann(log10_shift=0)\n",
    "    ]\n",
    "system: InteriorAtmosphereSystem = InteriorAtmosphereSystem(species=species, planet=planet)"
   ]
  },
  {
   "cell_type": "code",
   "execution_count": null,
   "metadata": {},
   "outputs": [],
   "source": [
    "system.solve(SystemConstraints(constraints))"
   ]
  },
  {
   "cell_type": "code",
   "execution_count": null,
   "metadata": {},
   "outputs": [],
   "source": [
    "system.output"
   ]
  },
  {
   "cell_type": "code",
   "execution_count": null,
   "metadata": {},
   "outputs": [],
   "source": [
    "system.fugacities_dict"
   ]
  },
  {
   "cell_type": "code",
   "execution_count": null,
   "metadata": {},
   "outputs": [],
   "source": [
    "print(system.output['SO'].ppmw_in_melt)\n",
    "print(system.output['S2'].ppmw_in_melt)\n",
    "print(system.output['SO2'].ppmw_in_melt)"
   ]
  },
  {
   "cell_type": "code",
   "execution_count": null,
   "metadata": {},
   "outputs": [],
   "source": [
    "SO_fugacities_dict = {\"O2\": 1.0439298480079078e-06, \"S2\": 5e-3}\n",
    "TotalS_Sol_test = solubility_SO_Sulfide(0.1, 2173, SO_fugacities_dict) + BasaltSO_Sulfate_solubility(0.1, 2173, SO_fugacities_dict)\n",
    "print(TotalS_Sol_test)"
   ]
  }
 ],
 "metadata": {
  "kernelspec": {
   "display_name": ".venv",
   "language": "python",
   "name": "python3"
  },
  "language_info": {
   "codemirror_mode": {
    "name": "ipython",
    "version": 3
   },
   "file_extension": ".py",
   "mimetype": "text/x-python",
   "name": "python",
   "nbconvert_exporter": "python",
   "pygments_lexer": "ipython3",
   "version": "3.11.3"
  },
  "orig_nbformat": 4
 },
 "nbformat": 4,
 "nbformat_minor": 2
}
