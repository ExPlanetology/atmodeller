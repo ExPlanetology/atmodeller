{
 "cells": [
  {
   "attachments": {},
   "cell_type": "markdown",
   "metadata": {},
   "source": [
    "# Computing the formation energy using data from the JANAF tables"
   ]
  },
  {
   "attachments": {},
   "cell_type": "markdown",
   "metadata": {},
   "source": [
    "The Gibb's free energy is:\n",
    "\n",
    "$$G = H-TS$$"
   ]
  },
  {
   "attachments": {},
   "cell_type": "markdown",
   "metadata": {},
   "source": [
    "This gives us the form:\n",
    "$$ G = aT + b$$ \n",
    "where \n",
    "$$ a = -S, \\quad b = H $$\n",
    "\n",
    "Now we can compute a least-squares fit to the standard Gibbs free energy of formation ($\\Delta _f G^o$) data in the NIST JANAF tables (units kJ/mol), where the physical meaning of the fit parameters will be as follows:"
   ]
  },
  {
   "attachments": {},
   "cell_type": "markdown",
   "metadata": {},
   "source": [
    "$$a = - \\Delta _f S^o, \\quad b = \\Delta _f H^o$$\n",
    "with units kJ/mol/K and kJ/mol, respectively"
   ]
  },
  {
   "attachments": {},
   "cell_type": "markdown",
   "metadata": {},
   "source": [
    "Using the fit parameters $a$ and $b$ we can directly compute the standard Gibbs free energy of formation at temperature $T$. We can use the computed $\\Delta _f G^o$ to calculate the equilibrium constant $K$ since they are related according to: "
   ]
  },
  {
   "attachments": {},
   "cell_type": "markdown",
   "metadata": {},
   "source": [
    "$$\\ln{K_{eq}} = -\\frac{G}{RT}$$"
   ]
  },
  {
   "attachments": {},
   "cell_type": "markdown",
   "metadata": {},
   "source": [
    "Logarithm base change:\n",
    "$$\\log_{10}{K_{eq}} = \\ln{K_{eq}} / \\ln{10}$$"
   ]
  },
  {
   "attachments": {},
   "cell_type": "markdown",
   "metadata": {},
   "source": [
    "By substitution, where $\\log_{10}{K_{eq}}$ is the same as $\\log {\\rm K_f}$ in the JANAF tables. To test that our fitting returns results that match the JANAF Tables within fitting precision, we can compute the equilibrium constant as follows using our linear fit for $G$ above:\n",
    "\n",
    "$$\\log K_f = - \\frac{\\Delta _f G^o}{\\ln(10)RT}$$\n",
    "\n",
    "The equilibrium constant is used in the Law of Mass Action"
   ]
  },
  {
   "cell_type": "code",
   "execution_count": 66,
   "metadata": {},
   "outputs": [],
   "source": [
    "import pandas as pd\n",
    "import numpy as np\n",
    "\n",
    "from atmodeller import TEMPERATURE_JANAF_HIGH, TEMPERATURE_JANAF_LOW, GAS_CONSTANT, logger"
   ]
  },
  {
   "attachments": {},
   "cell_type": "markdown",
   "metadata": {},
   "source": [
    "### Function that performs a linear fit to the Gibbs free energy data over a particular temperature range:"
   ]
  },
  {
   "cell_type": "code",
   "execution_count": 52,
   "metadata": {},
   "outputs": [],
   "source": [
    "def least_squares_fit_to_janaf_G(molecule:str):\n",
    "    \"\"\"Fit the JANAF Gibbs free energy (G).\n",
    "    \n",
    "    Args:\n",
    "        molecule: The molecule.\n",
    "\n",
    "    Returns:\n",
    "        The least-squares fit coefficients.\n",
    "    \"\"\"\n",
    "    datafile: str = f\"data/tables/{molecule}.dat\"\n",
    "    df:pd.DataFrame = pd.read_csv(datafile, sep='\\t')\n",
    "    # Filter the data between the relevant temperature range.\n",
    "    df = df.loc[(df['T(K)'] <= TEMPERATURE_JANAF_HIGH) & (df['T(K)'] >= TEMPERATURE_JANAF_LOW)]\n",
    "    # Least squares fitting.\n",
    "    temperature: np.ndarray = df['T(K)'].to_numpy()\n",
    "    Gf: np.ndarray = df['delta-f G'].to_numpy()\n",
    "    design_matrix: np.ndarray = temperature[:, np.newaxis]**[1, 0]\n",
    "    #print(design_matrix)\n",
    "    solution, _, _, _ = np.linalg.lstsq(design_matrix, Gf, rcond=None)\n",
    "\n",
    "    return solution"
   ]
  },
  {
   "attachments": {},
   "cell_type": "markdown",
   "metadata": {},
   "source": [
    "### Compute linear fit parameters to G for a set of molecular species "
   ]
  },
  {
   "cell_type": "code",
   "execution_count": 67,
   "metadata": {},
   "outputs": [
    {
     "name": "stderr",
     "output_type": "stream",
     "text": [
      "11:47:01 - atmodeller           - INFO      - CO: a = -0.08269582352941174, b = -120.3571470588237\n",
      "11:47:01 - atmodeller           - INFO      - CO2: a = 0.0005482647058825124, b = -397.33434558823564\n",
      "11:47:01 - atmodeller           - INFO      - CH4: a = 0.11162272058823527, b = -92.46793382352928\n",
      "11:47:01 - atmodeller           - INFO      - H2O: a = 0.05817258823529415, b = -251.80119852941178\n",
      "11:47:01 - atmodeller           - INFO      - SO: a = -0.004834249999999983, b = -59.61862500000004\n",
      "11:47:01 - atmodeller           - INFO      - SO2: a = 0.0725481764705883, b = -361.0377720588236\n",
      "11:47:01 - atmodeller           - INFO      - H2S: a = 0.04955845588235296, b = -90.57971323529412\n",
      "11:47:01 - atmodeller           - INFO      - S: a = -0.06120597058823535, b = 217.87218382352947\n",
      "11:47:01 - atmodeller           - INFO      - Cl: a = -0.06116926470588236, b = 127.34372058823527\n",
      "11:47:01 - atmodeller           - INFO      - F: a = -0.06466483823529413, b = 84.63857352941173\n",
      "11:47:01 - atmodeller           - INFO      - NH3: a = 0.11667370588235293, b = -54.026338235293984\n"
     ]
    }
   ],
   "source": [
    "for molecule in (\"CO\", \"CO2\", \"CH4\", \"H2O\", \"SO\", \"SO2\", \"H2S\", \"S\", \"Cl\", \"F\", \"NH3\"):\n",
    "    a, b = least_squares_fit_to_janaf_G(molecule)\n",
    "    out: str = f\"{molecule}: a = {a}, b = {b}\"\n",
    "    logger.info(out)"
   ]
  },
  {
   "attachments": {},
   "cell_type": "markdown",
   "metadata": {},
   "source": [
    "### Testing the fit:"
   ]
  },
  {
   "cell_type": "code",
   "execution_count": 74,
   "metadata": {},
   "outputs": [
    {
     "name": "stdout",
     "output_type": "stream",
     "text": [
      "0.11667370588235293 -54.026338235293984\n"
     ]
    }
   ],
   "source": [
    "#First, pick a species you'd like to test and run the least-squares fit:\n",
    "species_test = \"NH3\"\n",
    "a_test, b_test = least_squares_fit_to_janaf_G(species_test)\n",
    "print(a_test, b_test)"
   ]
  },
  {
   "cell_type": "code",
   "execution_count": 75,
   "metadata": {},
   "outputs": [
    {
     "name": "stdout",
     "output_type": "stream",
     "text": [
      "Species is: NH3\n",
      "Fitted Gf:\n",
      "15    120.984221\n",
      "16    132.651591\n",
      "17    144.318962\n",
      "18    155.986332\n",
      "19    167.653703\n",
      "20    179.321074\n",
      "21    190.988444\n",
      "22    202.655815\n",
      "23    214.323185\n",
      "24    225.990556\n",
      "25    237.657926\n",
      "26    249.325297\n",
      "27    260.992668\n",
      "28    272.660038\n",
      "29    284.327409\n",
      "30    295.994779\n",
      "Name: T(K), dtype: float64\n",
      "\n",
      "Difference between fitted G and JANAF values:\n",
      "15    0.288221\n",
      "16    0.182591\n",
      "17    0.084962\n",
      "18    0.000332\n",
      "19   -0.071297\n",
      "20   -0.125926\n",
      "21   -0.163556\n",
      "22   -0.184185\n",
      "23   -0.185815\n",
      "24   -0.169444\n",
      "25   -0.134074\n",
      "26   -0.080703\n",
      "27   -0.010332\n",
      "28    0.079038\n",
      "29    0.184409\n",
      "30    0.305779\n",
      "dtype: float64\n",
      "\n",
      "Calculated logKf from Gf:\n",
      "15   -4.212963\n",
      "16   -4.330546\n",
      "17   -4.434295\n",
      "18   -4.526517\n",
      "19   -4.609031\n",
      "20   -4.683294\n",
      "21   -4.750485\n",
      "22   -4.811567\n",
      "23   -4.867337\n",
      "24   -4.918460\n",
      "25   -4.965494\n",
      "26   -5.008909\n",
      "27   -5.049108\n",
      "28   -5.086436\n",
      "29   -5.121190\n",
      "30   -5.153626\n",
      "Name: T(K), dtype: float64\n"
     ]
    }
   ],
   "source": [
    "#Now let's see how close the fitted G values are to the JANAF values:\n",
    "\n",
    "test_datafile: str = f\"data/tables/{species_test}.dat\"\n",
    "df_test:pd.DataFrame = pd.read_csv(test_datafile, sep='\\t')\n",
    "df_test = df_test.loc[(df_test['T(K)'] <= TEMPERATURE_JANAF_HIGH) & (df_test['T(K)'] >= TEMPERATURE_JANAF_LOW)]\n",
    "\n",
    "print('Species is:', species_test)\n",
    "Gf_calc_test = ((a_test*df_test['T(K)']) + b_test)\n",
    "print('Fitted Gf:')\n",
    "print(Gf_calc_test)\n",
    "print('')\n",
    "print('Difference between fitted G and JANAF values:')\n",
    "print(Gf_calc_test - df_test['delta-f G'])\n"
   ]
  },
  {
   "cell_type": "code",
   "execution_count": 77,
   "metadata": {},
   "outputs": [
    {
     "name": "stdout",
     "output_type": "stream",
     "text": [
      "\n",
      "Calculated logKf from Gf:\n",
      "15   -4.212963\n",
      "16   -4.330546\n",
      "17   -4.434295\n",
      "18   -4.526517\n",
      "19   -4.609031\n",
      "20   -4.683294\n",
      "21   -4.750485\n",
      "22   -4.811567\n",
      "23   -4.867337\n",
      "24   -4.918460\n",
      "25   -4.965494\n",
      "26   -5.008909\n",
      "27   -5.049108\n",
      "28   -5.086436\n",
      "29   -5.121190\n",
      "30   -5.153626\n",
      "Name: T(K), dtype: float64\n",
      "\n",
      "Difference between calculate logKf and JANAF logKf:\n",
      "15   -0.009963\n",
      "16   -0.005546\n",
      "17   -0.002295\n",
      "18    0.000483\n",
      "19    0.001969\n",
      "20    0.003706\n",
      "21    0.004515\n",
      "22    0.004433\n",
      "23    0.004663\n",
      "24    0.003540\n",
      "25    0.002506\n",
      "26    0.002091\n",
      "27   -0.000108\n",
      "28   -0.001436\n",
      "29   -0.003190\n",
      "30   -0.005626\n",
      "dtype: float64\n"
     ]
    }
   ],
   "source": [
    "#Finally, let's see how well our fitted Gf values reproduce logKf:\n",
    "\n",
    "logKf_calc_test = -Gf_calc_test/(np.log(10)*(GAS_CONSTANT/1000.0)*df_test['T(K)'])\n",
    "print('')\n",
    "print('Calculated logKf from Gf:')\n",
    "print(logKf_calc_test)\n",
    "print('')\n",
    "print('Difference between calculate logKf and JANAF logKf:')\n",
    "print(logKf_calc_test - df_test['log Kf'])"
   ]
  }
 ],
 "metadata": {
  "kernelspec": {
   "display_name": ".venv",
   "language": "python",
   "name": "python3"
  },
  "language_info": {
   "codemirror_mode": {
    "name": "ipython",
    "version": 3
   },
   "file_extension": ".py",
   "mimetype": "text/x-python",
   "name": "python",
   "nbconvert_exporter": "python",
   "pygments_lexer": "ipython3",
   "version": "3.11.3"
  },
  "orig_nbformat": 4
 },
 "nbformat": 4,
 "nbformat_minor": 2
}
