{
 "cells": [
  {
   "attachments": {},
   "cell_type": "markdown",
   "metadata": {},
   "source": [
    "# Computing the formation energy using data from the JANAF tables"
   ]
  },
  {
   "attachments": {},
   "cell_type": "markdown",
   "metadata": {},
   "source": [
    "The Gibb's free energy is:\n",
    "\n",
    "$$G = H-TS$$"
   ]
  },
  {
   "attachments": {},
   "cell_type": "markdown",
   "metadata": {},
   "source": [
    "The equilibrium constant is:\n",
    "$$\\ln{K_{eq}} = -\\frac{G}{RT}$$"
   ]
  },
  {
   "attachments": {},
   "cell_type": "markdown",
   "metadata": {},
   "source": [
    "Logarithm base change:\n",
    "$$\\log_{10}{K_{eq}} = \\ln{K_{eq}} / \\ln{10}$$"
   ]
  },
  {
   "attachments": {},
   "cell_type": "markdown",
   "metadata": {},
   "source": [
    "By substitution, where $\\log_{10}{K_{eq}}$ is the same as $\\log {\\rm K_f}$ in the JANAf tables:\n",
    "$$\\log_{10}{K_{eq}} = \\log {\\rm K_f} = -\\frac{G}{RT\\ln{10}}  = -\\frac{H}{RT\\ln{10}} + \\frac{S}{R\\ln{10}}$$"
   ]
  },
  {
   "attachments": {},
   "cell_type": "markdown",
   "metadata": {},
   "source": [
    "Hence we have a form of:\n",
    "$$\\log_{10}{K_{eq}} = \\log {\\rm K_f} =  a + b/T$$\n",
    "where:\n",
    "$$ a = \\frac{S}{R\\ln{10}},\\quad b =  -\\frac{H}{R\\ln{10}} $$"
   ]
  },
  {
   "attachments": {},
   "cell_type": "markdown",
   "metadata": {},
   "source": [
    "To compute a least-squares fit to the data we can multiply by $T$ so the gradient is equal to $a$ and the intercept is equal to $b$:\n",
    "$$T \\log {\\rm K_f} =  aT + b$$"
   ]
  },
  {
   "attachments": {},
   "cell_type": "markdown",
   "metadata": {},
   "source": [
    "Then, using $a$ and $b$ we can directly compute the equilibrium constant of the formation reaction at temperature $T$. This is used in the law of mass action. If desired, the Gibb's free energy $G$ at temperature $T$ can be back-computed using:\n",
    "$$\\log {\\rm K_f} = -\\frac{G}{\\ln(10)RT}$$"
   ]
  },
  {
   "attachments": {},
   "cell_type": "markdown",
   "metadata": {},
   "source": [
    "The JANAF tables also provide the Gibb's energy of formation, which serves as an additional check to ensure that the two approaches return the same result to within fitting precision."
   ]
  },
  {
   "cell_type": "code",
   "execution_count": 5,
   "metadata": {},
   "outputs": [],
   "source": [
    "import pandas as pd\n",
    "import numpy as np\n",
    "\n",
    "from atmodeller import TEMPERATURE_JANAF_HIGH, TEMPERATURE_JANAF_LOW"
   ]
  },
  {
   "attachments": {},
   "cell_type": "markdown",
   "metadata": {},
   "source": [
    "Define the data range to use:"
   ]
  },
  {
   "cell_type": "code",
   "execution_count": 6,
   "metadata": {},
   "outputs": [],
   "source": [
    "def least_squares_fit_to_janaf_log_Kf(molecule:str):\n",
    "    \"\"\"Fit the JANAF equilibrium constant (log Kf).\n",
    "\n",
    "    Note that in the JANAF tables log is log10.\n",
    "    \n",
    "    Args:\n",
    "        molecule: The molecule.\n",
    "\n",
    "    Returns:\n",
    "        The least-squares fit coefficients.\n",
    "    \"\"\"\n",
    "    datafile: str = f\"data/tables/{molecule}.dat\"\n",
    "    df:pd.DataFrame = pd.read_csv(datafile, sep='\\t')\n",
    "\n",
    "    # Filter the data between the relevant temperature range.\n",
    "    df = df.loc[(df['T(K)'] <= TEMPERATURE_JANAF_HIGH) & (df['T(K)'] >= TEMPERATURE_JANAF_LOW)]\n",
    "\n",
    "    # Least squares fitting.\n",
    "    temperature: np.ndarray = df['T(K)'].to_numpy()\n",
    "    log_Kf: np.ndarray = df['log Kf'].to_numpy()\n",
    "    design_matrix: np.ndarray = temperature[:, np.newaxis]**[1, 0]\n",
    "    solution, _, _, _ = np.linalg.lstsq(design_matrix, log_Kf*temperature, rcond=None)\n",
    "\n",
    "    return solution"
   ]
  },
  {
   "cell_type": "code",
   "execution_count": 7,
   "metadata": {},
   "outputs": [
    {
     "name": "stdout",
     "output_type": "stream",
     "text": [
      "CO : a =  4.319860294117643 , b =  6286.120588235306\n",
      "CO2 : a =  -0.028289705882357442 , b =  20753.870588235302\n",
      "CH4 : a =  -5.830066176470588 , b =  4829.067647058815\n",
      "H2O : a =  -3.0385132352941198 , b =  13152.698529411768\n"
     ]
    }
   ],
   "source": [
    "for molecule in (\"CO\", \"CO2\", \"CH4\", \"H2O\"):\n",
    "    a, b = least_squares_fit_to_janaf_log_Kf(molecule)\n",
    "    print(molecule, ': a = ', a, ', b = ', b)"
   ]
  }
 ],
 "metadata": {
  "kernelspec": {
   "display_name": ".venv",
   "language": "python",
   "name": "python3"
  },
  "language_info": {
   "codemirror_mode": {
    "name": "ipython",
    "version": 3
   },
   "file_extension": ".py",
   "mimetype": "text/x-python",
   "name": "python",
   "nbconvert_exporter": "python",
   "pygments_lexer": "ipython3",
   "version": "3.11.3"
  },
  "orig_nbformat": 4
 },
 "nbformat": 4,
 "nbformat_minor": 2
}
