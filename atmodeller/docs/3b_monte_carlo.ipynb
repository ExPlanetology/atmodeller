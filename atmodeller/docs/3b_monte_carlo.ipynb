{
 "cells": [
  {
   "attachments": {},
   "cell_type": "markdown",
   "metadata": {},
   "source": [
    "# atmodeller\n",
    "\n",
    "## Tutorial 3b: Monte Carlo experiment\n",
    "\n",
    "We can devise a simple Monte Carlo (MC) approach to sample the probable atmospheres that can arise for different planetary conditions."
   ]
  },
  {
   "cell_type": "code",
   "execution_count": null,
   "metadata": {},
   "outputs": [],
   "source": [
    "from atmodeller import debug_logger\n",
    "from atmodeller.interior_atmosphere import InteriorAtmosphereSystem, Planet, Species\n",
    "from atmodeller.constraints import MassConstraint, IronWustiteBufferConstraintHirschmann, SystemConstraints\n",
    "from atmodeller.interfaces import GasSpecies\n",
    "from atmodeller.solubilities import PeridotiteH2O, BasaltDixonCO2, BasaltLibourelN2\n",
    "from atmodeller.utilities import earth_oceans_to_kg\n",
    "from atmodeller.initial_condition import InitialConditionRegressor\n",
    "import numpy as np\n",
    "import logging"
   ]
  },
  {
   "cell_type": "markdown",
   "metadata": {},
   "source": [
    "For production runs, make sure to set the logger to INFO or higher (i.e. WARNING, ERROR, or CRITICAL). Otherwise you will find that your MC runs slower just because of writing the output to the logger."
   ]
  },
  {
   "cell_type": "code",
   "execution_count": null,
   "metadata": {},
   "outputs": [],
   "source": [
    "logger = debug_logger()\n",
    "logger.setLevel(logging.INFO)"
   ]
  },
  {
   "cell_type": "markdown",
   "metadata": {},
   "source": [
    "We now create the species that we are interested in. Note that we comment out CO2 in this case."
   ]
  },
  {
   "cell_type": "code",
   "execution_count": null,
   "metadata": {},
   "outputs": [],
   "source": [
    "species: Species = Species()\n",
    "species.append(GasSpecies(formula='H2O', solubility=PeridotiteH2O()))\n",
    "species.append(GasSpecies(formula='H2'))\n",
    "species.append(GasSpecies(formula='O2'))\n",
    "species.append(GasSpecies(formula='CO'))\n",
    "#species.append(GasSpecies(formula='CO2', solubility=BasaltDixonCO2()))\n",
    "species.append(GasSpecies(formula='N2', solubility=BasaltLibourelN2()))\n",
    "species"
   ]
  },
  {
   "cell_type": "markdown",
   "metadata": {},
   "source": [
    "Now create a planet. We recall that we can sample different planetary properties by updating the attributes of this object, even though in this tutorial we don't do this."
   ]
  },
  {
   "cell_type": "code",
   "execution_count": null,
   "metadata": {},
   "outputs": [],
   "source": [
    "planet: Planet = Planet()"
   ]
  },
  {
   "cell_type": "markdown",
   "metadata": {},
   "source": [
    "Now set up the main driver of the Monte Carlo (MC) approach. This establishes the ranges over which we sample certain properties."
   ]
  },
  {
   "cell_type": "code",
   "execution_count": null,
   "metadata": {},
   "outputs": [],
   "source": [
    "def monte_carlo(interior_atmosphere: InteriorAtmosphereSystem, number_of_realisations:int=100):\n",
    "    \"\"\"Monte Carlo driver\n",
    "    \n",
    "    Args:\n",
    "        interior_atmosphere: An interior-atmosphere system\n",
    "        number_of_realisation: Number of simulations to perform\n",
    "    \"\"\"\n",
    "\n",
    "    # Parameters are normally distributed between bounds.\n",
    "    number_ocean_moles = np.random.uniform(1, 10, number_of_realisations)\n",
    "    ch_ratios = np.random.uniform(0.1, 1, number_of_realisations)\n",
    "    fo2_shifts = np.random.uniform(-4, 4, number_of_realisations)\n",
    "\n",
    "    # ppmw of Nitrogen in the mantle. 2.8 is the mantle value of N.\n",
    "    N_ppmw = 2.8\n",
    "\n",
    "    # The nitrogen mass is constant\n",
    "    mass_N = N_ppmw * 1.0e-6 * planet.mantle_mass\n",
    "\n",
    "    for realisation in range(number_of_realisations):\n",
    "\n",
    "        mass_H = earth_oceans_to_kg(number_ocean_moles[realisation])\n",
    "        mass_C = ch_ratios[realisation] * mass_H\n",
    "        constraints = SystemConstraints([\n",
    "            MassConstraint(species=\"H\", value=mass_H),\n",
    "            MassConstraint(species=\"C\", value=mass_C),\n",
    "            MassConstraint(species=\"N\", value=mass_N),\n",
    "            IronWustiteBufferConstraintHirschmann(log10_shift=fo2_shifts[realisation])\n",
    "        ])\n",
    "\n",
    "        # Extra quantities to write to the output\n",
    "        # For example, it's often helpful to have the constraints expressed in a more convenient\n",
    "        # form for analysis and plotting.\n",
    "        extra = {'fO2_shift': fo2_shifts[realisation], 'C/H ratio':ch_ratios[realisation],\n",
    "            'Number of ocean moles':number_ocean_moles[realisation]}\n",
    "\n",
    "        interior_atmosphere.solve(constraints, extra_output=extra, factor=0.1)\n"
   ]
  },
  {
   "cell_type": "markdown",
   "metadata": {},
   "source": [
    "We can run the MC as follows. This may take a minute or two to run."
   ]
  },
  {
   "cell_type": "code",
   "execution_count": null,
   "metadata": {},
   "outputs": [],
   "source": [
    "interior_atmosphere: InteriorAtmosphereSystem = InteriorAtmosphereSystem(species=species, planet=planet)\n",
    "monte_carlo(interior_atmosphere)"
   ]
  },
  {
   "attachments": {},
   "cell_type": "markdown",
   "metadata": {},
   "source": [
    "The simulation data can be exported to an Excel or a pickle file by setting the appropriate keyword argument in the output method:"
   ]
  },
  {
   "cell_type": "code",
   "execution_count": null,
   "metadata": {},
   "outputs": [],
   "source": [
    "interior_atmosphere.output(file_prefix='tutorial3b_monte_carlo', to_pickle=True)"
   ]
  },
  {
   "cell_type": "markdown",
   "metadata": {},
   "source": [
    "We now want to use the simpler system solved above to inform the initial condition for a more complex system. Here, we now include CO2 as a species, although in principle we could include any number of extra species or even remove species compared to the previous species list. Also, we note that the species list does not have to be in the same order as before."
   ]
  },
  {
   "cell_type": "code",
   "execution_count": null,
   "metadata": {},
   "outputs": [],
   "source": [
    "species: Species = Species()\n",
    "species.append(GasSpecies(formula='H2O', solubility=PeridotiteH2O()))\n",
    "species.append(GasSpecies(formula='H2'))\n",
    "species.append(GasSpecies(formula='O2'))\n",
    "species.append(GasSpecies(formula='CO'))\n",
    "species.append(GasSpecies(formula='CO2', solubility=BasaltDixonCO2()))\n",
    "species.append(GasSpecies(formula='N2', solubility=BasaltLibourelN2()))\n",
    "species"
   ]
  },
  {
   "cell_type": "markdown",
   "metadata": {},
   "source": [
    "In the new species list above, we also specify CO2.  Hence in the below we must provide a fill value to use for CO2 because the original data has no notion of CO2. In the below, we set the initial CO2 pressure to 1 bar."
   ]
  },
  {
   "cell_type": "code",
   "execution_count": null,
   "metadata": {},
   "outputs": [],
   "source": [
    "initial_condition = InitialConditionRegressor.from_pickle('tutorial3b_monte_carlo.pkl', species=species, species_fill={'CO2':1}, fit=True, fit_batch_size=100, partial_fit=True, partial_fit_batch_size=50)"
   ]
  },
  {
   "cell_type": "markdown",
   "metadata": {},
   "source": [
    "In the above, fit = True, which means the trained data from the previous run (as computed from the output in the pickle file) is only used for the first fit_batch_size = 100 simulations. Subsequently the regressor will re-train itself on just the (fit_batch_size = 100) samples generated from the current model, discarding knowledge of the previous data it was trained on. Then, every partial_fit_batch_size = 100 simulations, it will update its training with the last batch of newly generated samples in order to better inform the selection of subsequent initial conditions. This is known as a dynamic or online learning approach.\n",
    "\n",
    "It is necessary to pass the initial condition to the interior atmosphere system when it is created:"
   ]
  },
  {
   "cell_type": "code",
   "execution_count": null,
   "metadata": {},
   "outputs": [],
   "source": [
    "interior_atmosphere_ic: InteriorAtmosphereSystem = InteriorAtmosphereSystem(species=species, initial_condition=initial_condition, planet=planet)\n",
    "monte_carlo(interior_atmosphere_ic, number_of_realisations=200)"
   ]
  },
  {
   "cell_type": "markdown",
   "metadata": {},
   "source": [
    "If you compare the log output for the two MC runs, you will see in the second MC example that the initial condition re-trained itself after 100 samples had been generated and then partially retrained itself every 50 samples. This keeps the RMSE between the initial guess and actual solution to a smaller value than simply guessing a constant initial condition. Also, fit = True allows you to train an initial condition on a similar but not identical model (for example, different solubility laws or gas equations of states), where once enough samples have been generated you would prefer to only use the new model to generate new estimates (since the behavior of the new model and the previous similar-but-not-the-same model will diverge)."
   ]
  }
 ],
 "metadata": {
  "kernelspec": {
   "display_name": ".venv",
   "language": "python",
   "name": "python3"
  },
  "language_info": {
   "codemirror_mode": {
    "name": "ipython",
    "version": 3
   },
   "file_extension": ".py",
   "mimetype": "text/x-python",
   "name": "python",
   "nbconvert_exporter": "python",
   "pygments_lexer": "ipython3",
   "version": "3.11.3"
  },
  "orig_nbformat": 4
 },
 "nbformat": 4,
 "nbformat_minor": 2
}
