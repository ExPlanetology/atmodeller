{
 "cells": [
  {
   "attachments": {},
   "cell_type": "markdown",
   "metadata": {},
   "source": [
    "# atmodeller\n",
    "\n",
    "## Tutorial 4: Interior (include Si in the atmosphere)\n",
    "\n",
    "Import the required functionality and activate the debug logger."
   ]
  },
  {
   "cell_type": "code",
   "execution_count": null,
   "metadata": {},
   "outputs": [],
   "source": [
    "from atmodeller import debug_logger, debug_file_logger\n",
    "from atmodeller.constraints import  MassConstraint, SystemConstraints, IronWustiteBufferConstraintHirschmann, FugacityConstraint\n",
    "from atmodeller.interior_atmosphere import InteriorAtmosphereSystem, Planet, Species\n",
    "from atmodeller.interfaces import GasSpecies, LiquidSpecies\n",
    "from atmodeller.solubilities import PeridotiteH2O, BasaltDixonCO2\n",
    "from atmodeller.utilities import earth_oceans_to_kg\n",
    "\n",
    "# debug_file_logger()\n",
    "debug_logger()"
   ]
  },
  {
   "attachments": {},
   "cell_type": "markdown",
   "metadata": {},
   "source": [
    "### 1. H2O-H2-O2-SiO-SiH4-SiO2l system"
   ]
  },
  {
   "attachments": {},
   "cell_type": "markdown",
   "metadata": {},
   "source": [
    "We define a list of the species we wish to include in the interior-atmosphere system"
   ]
  },
  {
   "cell_type": "code",
   "execution_count": null,
   "metadata": {},
   "outputs": [],
   "source": [
    "species: Species = Species()\n",
    "species.append(GasSpecies(chemical_formula='H2O'))#, solubility=PeridotiteH2O()))\n",
    "species.append(GasSpecies(chemical_formula='H2'))\n",
    "species.append(GasSpecies(chemical_formula='O2'))\n",
    "species.append(GasSpecies(chemical_formula='OSi'))\n",
    "species.append(GasSpecies(chemical_formula='H4Si'))\n",
    "species.append(LiquidSpecies(chemical_formula=\"O2Si\",\n",
    "                             name_in_thermodynamic_data=\"O2Si(l)\",\n",
    "                             #thermodynamic_class=thermodynamic_data,\n",
    "                            ))\n"
   ]
  },
  {
   "attachments": {},
   "cell_type": "markdown",
   "metadata": {},
   "source": [
    "Create an interior-atmosphere system using H-O-Si for a sub-Neptune (Planet mass = 11 M_Earth, Interior radius = 1.7 R_Earth)"
   ]
  },
  {
   "cell_type": "code",
   "execution_count": null,
   "metadata": {},
   "outputs": [],
   "source": [
    "planet = Planet(surface_temperature=3000, mantle_mass=11*4.208261222595111e24, surface_radius=1.7*6371000)\n",
    "interior_atmosphere: InteriorAtmosphereSystem = InteriorAtmosphereSystem(species=species, planet=planet)"
   ]
  },
  {
   "attachments": {},
   "cell_type": "markdown",
   "metadata": {},
   "source": [
    "To solve the system, we provide a constraint of the H2O and O2 fugacity in bar and assume the actvity of SiO2(l)=1."
   ]
  },
  {
   "cell_type": "code",
   "execution_count": null,
   "metadata": {},
   "outputs": [],
   "source": [
    "constraints: SystemConstraints = SystemConstraints(\n",
    "    [\n",
    "        FugacityConstraint(species='H2', value=10000), # This constraint sets surface pressure of approx 10 kbar (1 GPa)\n",
    "        FugacityConstraint(species='O2Si', value=1),  # This constraints simulates activity of 1\n",
    "        IronWustiteBufferConstraintHirschmann(log10_shift=-4), # This constraint sets a low fO2 simulating a sub-Neptune surface\n",
    "    ])\n"
   ]
  },
  {
   "cell_type": "code",
   "execution_count": null,
   "metadata": {},
   "outputs": [],
   "source": [
    "interior_atmosphere.solve(constraints)"
   ]
  },
  {
   "attachments": {},
   "cell_type": "markdown",
   "metadata": {},
   "source": [
    "You can access the solution directly using:"
   ]
  },
  {
   "cell_type": "code",
   "execution_count": null,
   "metadata": {},
   "outputs": [],
   "source": [
    "interior_atmosphere.solution_dict"
   ]
  },
  {
   "attachments": {},
   "cell_type": "markdown",
   "metadata": {},
   "source": [
    "You can access more information about the solution using:"
   ]
  },
  {
   "cell_type": "code",
   "execution_count": null,
   "metadata": {},
   "outputs": [],
   "source": [
    "interior_atmosphere.output"
   ]
  },
  {
   "attachments": {},
   "cell_type": "markdown",
   "metadata": {},
   "source": [
    "### 2. H2O-H2-O2-SiO-SiH4-SiO2l-CH4-CO-CO2 system\n",
    "\n",
    "We now extend the species list to additionally include C-species:"
   ]
  },
  {
   "cell_type": "code",
   "execution_count": null,
   "metadata": {},
   "outputs": [],
   "source": [
    "species: Species = Species()\n",
    "species.append(GasSpecies(chemical_formula='H2O'))\n",
    "species.append(GasSpecies(chemical_formula='H2'))\n",
    "species.append(GasSpecies(chemical_formula='O2'))\n",
    "species.append(GasSpecies(chemical_formula='CH4'))\n",
    "species.append(GasSpecies(chemical_formula='CO'))\n",
    "species.append(GasSpecies(chemical_formula='CO2'))\n",
    "species.append(GasSpecies(chemical_formula='OSi'))\n",
    "species.append(GasSpecies(chemical_formula='H4Si'))\n",
    "species.append(LiquidSpecies(chemical_formula=\"O2Si\",\n",
    "                             name_in_thermodynamic_data=\"O2Si(l)\",\n",
    "                             #thermodynamic_class=thermodynamic_data,\n",
    "                            ))\n",
    "\n",
    "species"
   ]
  },
  {
   "cell_type": "code",
   "execution_count": null,
   "metadata": {},
   "outputs": [],
   "source": [
    "planet = Planet(surface_temperature=3000, mantle_mass=11*4.208261222595111e24, surface_radius=1.7*6371000)\n",
    "interior_atmosphere: InteriorAtmosphereSystem = InteriorAtmosphereSystem(species=species, planet=planet)"
   ]
  },
  {
   "attachments": {},
   "cell_type": "markdown",
   "metadata": {},
   "source": [
    "An additional constraint is required to solve the system"
   ]
  },
  {
   "cell_type": "code",
   "execution_count": null,
   "metadata": {},
   "outputs": [],
   "source": [
    "constraints: SystemConstraints = SystemConstraints(\n",
    "    [\n",
    "        FugacityConstraint(species='H2', value=10000), # This constraint sets surface pressure of 10 kbar (1 GPa)\n",
    "        FugacityConstraint(species='O2Si', value=1),  # This constraints simulates activity of 1\n",
    "        FugacityConstraint(species='CO', value=1),  # This is an arbitrary constraint\n",
    "        IronWustiteBufferConstraintHirschmann(log10_shift=-4),  # This constraint sets a low fO2 simulating a sub-Neptune surface\n",
    "    ])\n"
   ]
  },
  {
   "cell_type": "code",
   "execution_count": null,
   "metadata": {},
   "outputs": [],
   "source": [
    "interior_atmosphere.solve(constraints)\n",
    "interior_atmosphere.solution_dict"
   ]
  },
  {
   "attachments": {},
   "cell_type": "markdown",
   "metadata": {},
   "source": [
    "### 3. System with mixed constraints"
   ]
  },
  {
   "attachments": {},
   "cell_type": "markdown",
   "metadata": {},
   "source": [
    "A typical use case is to define an interior-atmosphere system with a combination of fugacity and mass constraints. We define the same species as before:"
   ]
  },
  {
   "cell_type": "code",
   "execution_count": null,
   "metadata": {},
   "outputs": [],
   "source": [
    "species: Species = Species()\n",
    "species.append(GasSpecies(chemical_formula='H2O'))\n",
    "species.append(GasSpecies(chemical_formula='H2'))\n",
    "species.append(GasSpecies(chemical_formula='O2'))\n",
    "species.append(GasSpecies(chemical_formula='CH4'))\n",
    "species.append(GasSpecies(chemical_formula='CO'))\n",
    "species.append(GasSpecies(chemical_formula='CO2'))\n",
    "species.append(GasSpecies(chemical_formula='OSi'))\n",
    "species.append(GasSpecies(chemical_formula='H4Si'))\n",
    "species.append(LiquidSpecies(chemical_formula=\"O2Si\",\n",
    "                             name_in_thermodynamic_data=\"O2Si(l)\",\n",
    "                             #thermodynamic_class=thermodynamic_data,\n",
    "                            ))\n",
    "\n",
    "species"
   ]
  },
  {
   "attachments": {},
   "cell_type": "markdown",
   "metadata": {},
   "source": [
    "Now we define the constraints, and in this case we want to constrain the total mass of C and H in the system that can partition between the various reservoirs."
   ]
  },
  {
   "cell_type": "code",
   "execution_count": null,
   "metadata": {},
   "outputs": [],
   "source": [
    "number_of_earth_oceans: float = 11 # 11x to account for mass increase by 11x\n",
    "# C/H ratio by mass.\n",
    "ch_ratio: float = 1\n",
    "\n",
    "mass_H: float = earth_oceans_to_kg(number_of_earth_oceans) # note: this constraint is not used below\n",
    "mass_C: float = ch_ratio * mass_H\n",
    "\n",
    "constraints: SystemConstraints = SystemConstraints([\n",
    "    FugacityConstraint(species='H2', value=10000), # This constraint sets surface pressure of 10 kbar (1 GPa)\n",
    "    # MassConstraint(species=\"H\", value=mass_H), # Mass constraint of H\n",
    "    MassConstraint(species=\"C\", value=mass_C), # Mass constraint of C\n",
    "    FugacityConstraint(species='O2Si', value=1), # Simulates an activity of unity\n",
    "    IronWustiteBufferConstraintHirschmann(log10_shift=-4) # Sets a low fO2 for a sub-Neptune surface\n",
    "])"
   ]
  },
  {
   "cell_type": "code",
   "execution_count": null,
   "metadata": {},
   "outputs": [],
   "source": [
    "planet = Planet(surface_temperature=3000, mantle_mass=11*4.208261222595111e24, surface_radius=1.7*6371000)\n",
    "interior_atmosphere: InteriorAtmosphereSystem = InteriorAtmosphereSystem(species=species, planet=planet)"
   ]
  },
  {
   "cell_type": "markdown",
   "metadata": {},
   "source": [
    "Solution"
   ]
  },
  {
   "cell_type": "code",
   "execution_count": null,
   "metadata": {},
   "outputs": [],
   "source": [
    "interior_atmosphere.solve(constraints)\n",
    "interior_atmosphere.solution_dict"
   ]
  },
  {
   "cell_type": "markdown",
   "metadata": {},
   "source": [
    "### 4. System with mixed constraints and H2O-CO2 solubilities"
   ]
  },
  {
   "cell_type": "markdown",
   "metadata": {},
   "source": [
    "Include H2O and CO2 solubilities"
   ]
  },
  {
   "cell_type": "code",
   "execution_count": null,
   "metadata": {},
   "outputs": [],
   "source": [
    "species: Species = Species()\n",
    "species.append(GasSpecies(chemical_formula='H2O', solubility=PeridotiteH2O()))\n",
    "species.append(GasSpecies(chemical_formula='H2'))\n",
    "species.append(GasSpecies(chemical_formula='O2'))\n",
    "species.append(GasSpecies(chemical_formula='CH4'))\n",
    "species.append(GasSpecies(chemical_formula='CO'))\n",
    "species.append(GasSpecies(chemical_formula='CO2', solubility=BasaltDixonCO2()))\n",
    "species.append(GasSpecies(chemical_formula='OSi'))\n",
    "species.append(GasSpecies(chemical_formula='H4Si'))\n",
    "species.append(LiquidSpecies(chemical_formula=\"O2Si\",\n",
    "                             name_in_thermodynamic_data=\"O2Si(l)\",\n",
    "                             #thermodynamic_class=thermodynamic_data,\n",
    "                            ))\n",
    "\n",
    "species"
   ]
  },
  {
   "cell_type": "code",
   "execution_count": null,
   "metadata": {},
   "outputs": [],
   "source": [
    "number_of_earth_oceans: float = 11 # 11x to account for mass increase by 11x\n",
    "# C/H ratio by mass.\n",
    "ch_ratio: float = 1\n",
    "\n",
    "mass_H: float = earth_oceans_to_kg(number_of_earth_oceans) # note: this constraint is not used below\n",
    "mass_C: float = ch_ratio * mass_H\n",
    "\n",
    "constraints: SystemConstraints = SystemConstraints([\n",
    "    FugacityConstraint(species='H2', value=10000), # This constraint sets surface pressure of 10 kbar (1 GPa)\n",
    "    # MassConstraint(species=\"H\", value=mass_H), # Mass constraint of H\n",
    "    MassConstraint(species=\"C\", value=mass_C), # Mass constraint of C\n",
    "    FugacityConstraint(species='O2Si', value=1), # Simulates an activity of unity\n",
    "    IronWustiteBufferConstraintHirschmann(log10_shift=-4) # Sets a low fO2 for a sub-Neptune surface\n",
    "])"
   ]
  },
  {
   "cell_type": "code",
   "execution_count": null,
   "metadata": {},
   "outputs": [],
   "source": [
    "planet = Planet(surface_temperature=3000, mantle_mass=11*4.208261222595111e24, surface_radius=1.7*6371000)\n",
    "interior_atmosphere: InteriorAtmosphereSystem = InteriorAtmosphereSystem(species=species, planet=planet)"
   ]
  },
  {
   "cell_type": "code",
   "execution_count": null,
   "metadata": {},
   "outputs": [],
   "source": [
    "interior_atmosphere.solve(constraints)\n",
    "interior_atmosphere.solution_dict"
   ]
  }
 ],
 "metadata": {
  "kernelspec": {
   "display_name": ".venv",
   "language": "python",
   "name": "python3"
  },
  "language_info": {
   "codemirror_mode": {
    "name": "ipython",
    "version": 3
   },
   "file_extension": ".py",
   "mimetype": "text/x-python",
   "name": "python",
   "nbconvert_exporter": "python",
   "pygments_lexer": "ipython3",
   "version": "3.10.9"
  },
  "orig_nbformat": 4
 },
 "nbformat": 4,
 "nbformat_minor": 2
}
