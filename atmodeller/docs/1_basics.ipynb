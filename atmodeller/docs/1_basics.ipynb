{
 "cells": [
  {
   "attachments": {},
   "cell_type": "markdown",
   "metadata": {},
   "source": [
    "# atmodeller\n",
    "\n",
    "## Tutorial 1: basic operation\n",
    "\n",
    "Import the required packages and set the package logger to the INFO level. For more output you could instead set it to DEBUG."
   ]
  },
  {
   "cell_type": "code",
   "execution_count": 1,
   "metadata": {},
   "outputs": [
    {
     "name": "stderr",
     "output_type": "stream",
     "text": [
      "[2023-06-04 14:05:57 - atmodeller           - 023 - INFO      - <module>()] atmodeller version 0.1.0\n"
     ]
    }
   ],
   "source": [
    "from atmodeller import InteriorAtmosphereSystem, Molecule, SystemConstraint, OCEAN_MOLES, MolarMasses, logger\n",
    "from atmodeller.thermodynamics import PeridotiteH2O, NoSolubility, BasaltDixonCO2\n",
    "import logging\n",
    "\n",
    "logger.setLevel(logging.INFO)"
   ]
  },
  {
   "attachments": {},
   "cell_type": "markdown",
   "metadata": {},
   "source": [
    "### 1. Simple H2O-H2 system with prescribed H2O pressure"
   ]
  },
  {
   "attachments": {},
   "cell_type": "markdown",
   "metadata": {},
   "source": [
    "We define a list of the molecules we wish to include in the interior-atmosphere system and how they partition between the melt and the atmosphere, and the solid and the melt:"
   ]
  },
  {
   "cell_type": "code",
   "execution_count": 2,
   "metadata": {},
   "outputs": [
    {
     "name": "stderr",
     "output_type": "stream",
     "text": [
      "[2023-06-04 14:05:58 - atmodeller.core      - 144 - INFO      - __post_init__()] Creating a molecule: H2O\n",
      "[2023-06-04 14:05:58 - atmodeller.core      - 144 - INFO      - __post_init__()] Creating a molecule: H2\n"
     ]
    }
   ],
   "source": [
    "molecules: list[Molecule] = []\n",
    "molecules.append(Molecule(name='H2O', solubility=PeridotiteH2O(), solid_melt_distribution_coefficient=0))\n",
    "molecules.append(Molecule(name='H2', solubility=NoSolubility(), solid_melt_distribution_coefficient=0))"
   ]
  },
  {
   "attachments": {},
   "cell_type": "markdown",
   "metadata": {},
   "source": [
    "Although a choice is often made to constrain oxygen fugacity, we nevertheless need to explicitly include O2 as a molecule in the interior-atmosphere system:"
   ]
  },
  {
   "cell_type": "code",
   "execution_count": 3,
   "metadata": {},
   "outputs": [
    {
     "name": "stderr",
     "output_type": "stream",
     "text": [
      "[2023-06-04 14:05:58 - atmodeller.core      - 144 - INFO      - __post_init__()] Creating a molecule: O2\n"
     ]
    },
    {
     "data": {
      "text/plain": [
       "[Molecule(name='H2O', solubility=<atmodeller.thermodynamics.PeridotiteH2O object at 0x11ae3cd90>, solid_melt_distribution_coefficient=0, elements={'H': 2, 'O': 1}, element_masses={'H': 0.0020158, 'O': 0.0159994}, formation_constants=(-3.0385132352941198, 13152.698529411768), molar_mass=0.018015200000000002),\n",
       " Molecule(name='H2', solubility=<atmodeller.thermodynamics.NoSolubility object at 0x116d6a690>, solid_melt_distribution_coefficient=0, elements={'H': 2}, element_masses={'H': 0.0020158}, formation_constants=(0, 0), molar_mass=0.0020158),\n",
       " Molecule(name='O2', solubility=<atmodeller.thermodynamics.NoSolubility object at 0x127828b10>, solid_melt_distribution_coefficient=0, elements={'O': 2}, element_masses={'O': 0.0319988}, formation_constants=(0, 0), molar_mass=0.0319988)]"
      ]
     },
     "execution_count": 3,
     "metadata": {},
     "output_type": "execute_result"
    }
   ],
   "source": [
    "molecules.append(Molecule(name='O2', solubility=NoSolubility(), solid_melt_distribution_coefficient=0))\n",
    "molecules"
   ]
  },
  {
   "attachments": {},
   "cell_type": "markdown",
   "metadata": {},
   "source": [
    "We can then create an interior-atmosphere system using the list of molecules. Note that this creates a planet with 'default properties' (a reduced and molten Earth). Adjusting the planet properties will be covered in a later tutorial."
   ]
  },
  {
   "cell_type": "code",
   "execution_count": 4,
   "metadata": {},
   "outputs": [
    {
     "name": "stderr",
     "output_type": "stream",
     "text": [
      "[2023-06-04 14:05:58 - atmodeller.core      - 072 - INFO      - __post_init__()] Creating a new planet\n",
      "[2023-06-04 14:05:58 - atmodeller.core      - 077 - INFO      - __post_init__()] Mantle mass (kg) = 4.208261222595111e+24\n",
      "[2023-06-04 14:05:58 - atmodeller.core      - 078 - INFO      - __post_init__()] Mantle melt fraction = 1.0\n",
      "[2023-06-04 14:05:58 - atmodeller.core      - 079 - INFO      - __post_init__()] Core mass fraction = 0.295334691460966\n",
      "[2023-06-04 14:05:58 - atmodeller.core      - 080 - INFO      - __post_init__()] Planetary radius (m) = 6371000.0\n",
      "[2023-06-04 14:05:58 - atmodeller.core      - 081 - INFO      - __post_init__()] Planetary mass (kg) = 5.972e+24\n",
      "[2023-06-04 14:05:58 - atmodeller.core      - 082 - INFO      - __post_init__()] Surface temperature (K) = 2000.000000\n",
      "[2023-06-04 14:05:58 - atmodeller.core      - 083 - INFO      - __post_init__()] Surface gravity (m/s^2) = 9.819973426224687\n",
      "[2023-06-04 14:05:58 - atmodeller.core      - 084 - INFO      - __post_init__()] Oxygen fugacity model (mantle) = IronWustiteBufferOneill\n",
      "[2023-06-04 14:05:58 - atmodeller.core      - 087 - INFO      - __post_init__()] Oxygen fugacity log10 shift = 0.000000\n",
      "[2023-06-04 14:05:58 - atmodeller.core      - 669 - INFO      - __post_init__()] Creating a new interior-atmosphere system\n",
      "[2023-06-04 14:05:58 - atmodeller.core      - 673 - INFO      - __post_init__()] Molecules = ['H2', 'O2', 'H2O']\n",
      "[2023-06-04 14:05:58 - atmodeller.core      - 360 - INFO      - __init__()] Molecules = ['H2', 'O2', 'H2O']\n",
      "[2023-06-04 14:05:58 - atmodeller.core      - 366 - INFO      - __init__()] Reactions = \n",
      "{0: '1.0 H2 + 0.5 O2 = 1.0 H2O'}\n"
     ]
    }
   ],
   "source": [
    "interior_atmosphere: InteriorAtmosphereSystem = InteriorAtmosphereSystem(molecules=molecules)"
   ]
  },
  {
   "attachments": {},
   "cell_type": "markdown",
   "metadata": {},
   "source": [
    "Notice that for this simple system it has identified the single reaction that relates the 3 chosen molecules. To solve the system, we provide a constraint of the H2O pressure in bar:"
   ]
  },
  {
   "cell_type": "code",
   "execution_count": 5,
   "metadata": {},
   "outputs": [],
   "source": [
    "H2O_pressure: SystemConstraint = SystemConstraint(species='H2O', value=1, field='pressure')\n",
    "constraints: list[SystemConstraint] = [H2O_pressure]"
   ]
  },
  {
   "attachments": {},
   "cell_type": "markdown",
   "metadata": {},
   "source": [
    "A second constraint is required to close the system of equations, and this is conveniently specified using `fo2_constraint=True`, which (without specifying additional arguments) will impose the oxygen fugacity at the Iron-Wustite buffer. Hence we can solve the interior-atmosphere system at a given temperature to determine the partial pressures of our chosen molecules:"
   ]
  },
  {
   "cell_type": "code",
   "execution_count": 6,
   "metadata": {},
   "outputs": [
    {
     "name": "stderr",
     "output_type": "stream",
     "text": [
      "[2023-06-04 14:05:58 - atmodeller.core      - 756 - INFO      - solve()] Constraints: [SystemConstraint(species='H2O', value=1, field='pressure')]\n",
      "[2023-06-04 14:05:58 - atmodeller.core      - 766 - INFO      - solve()] Pressure constraints only so attempting to solve a linear reaction network\n",
      "[2023-06-04 14:05:58 - atmodeller.core      - 637 - INFO      - solve()] Solving the reaction network\n",
      "[2023-06-04 14:05:58 - atmodeller.core      - 557 - INFO      - get_coefficient_matrix_and_rhs()] Adding fO2 as an additional constraint using IronWustiteBufferOneill with fO2_shift = 0.00\n",
      "[2023-06-04 14:05:58 - atmodeller.core      - 576 - INFO      - get_coefficient_matrix_and_rhs()] The necessary number of constraints will be applied to the reaction network to solve the system\n",
      "[2023-06-04 14:05:58 - atmodeller.core      - 591 - INFO      - get_coefficient_matrix_and_rhs()] Row 00: Reaction 0: 1.0 H2 + 0.5 O2 = 1.0 H2O\n",
      "[2023-06-04 14:05:58 - atmodeller.core      - 605 - INFO      - get_coefficient_matrix_and_rhs()] Row 01: Setting H2O partial pressure\n",
      "[2023-06-04 14:05:58 - atmodeller.core      - 605 - INFO      - get_coefficient_matrix_and_rhs()] Row 02: Setting O2 partial pressure\n",
      "[2023-06-04 14:05:58 - atmodeller.core      - 652 - INFO      - solve()] The solution converged.\n",
      "[2023-06-04 14:05:58 - atmodeller.core      - 789 - INFO      - solve()] {'H2': 1.465803963408939, 'H2O': 1.0, 'O2': 3.9099946023954954e-08}\n"
     ]
    },
    {
     "data": {
      "text/plain": [
       "{'H2': 1.465803963408939, 'O2': 3.9099946023954954e-08, 'H2O': 1.0}"
      ]
     },
     "execution_count": 6,
     "metadata": {},
     "output_type": "execute_result"
    }
   ],
   "source": [
    "interior_atmosphere.solve(constraints, fo2_constraint=True)"
   ]
  },
  {
   "attachments": {},
   "cell_type": "markdown",
   "metadata": {},
   "source": [
    "You can access the solution directly using:"
   ]
  },
  {
   "cell_type": "code",
   "execution_count": 7,
   "metadata": {},
   "outputs": [
    {
     "data": {
      "text/plain": [
       "{'H2': 1.465803963408939, 'O2': 3.9099946023954954e-08, 'H2O': 1.0}"
      ]
     },
     "execution_count": 7,
     "metadata": {},
     "output_type": "execute_result"
    }
   ],
   "source": [
    "interior_atmosphere.pressures_dict"
   ]
  },
  {
   "attachments": {},
   "cell_type": "markdown",
   "metadata": {},
   "source": [
    "### 2. System with C and H and prescribed pressures\n",
    "\n",
    "We now extend the molecule list to additionally include C-species:"
   ]
  },
  {
   "cell_type": "code",
   "execution_count": 8,
   "metadata": {},
   "outputs": [
    {
     "name": "stderr",
     "output_type": "stream",
     "text": [
      "[2023-06-04 14:05:59 - atmodeller.core      - 144 - INFO      - __post_init__()] Creating a molecule: H2O\n",
      "[2023-06-04 14:05:59 - atmodeller.core      - 144 - INFO      - __post_init__()] Creating a molecule: H2\n",
      "[2023-06-04 14:05:59 - atmodeller.core      - 144 - INFO      - __post_init__()] Creating a molecule: O2\n",
      "[2023-06-04 14:05:59 - atmodeller.core      - 144 - INFO      - __post_init__()] Creating a molecule: CO\n",
      "[2023-06-04 14:05:59 - atmodeller.core      - 144 - INFO      - __post_init__()] Creating a molecule: CO2\n"
     ]
    },
    {
     "data": {
      "text/plain": [
       "[Molecule(name='H2O', solubility=<atmodeller.thermodynamics.PeridotiteH2O object at 0x12783d0d0>, solid_melt_distribution_coefficient=0, elements={'H': 2, 'O': 1}, element_masses={'H': 0.0020158, 'O': 0.0159994}, formation_constants=(-3.0385132352941198, 13152.698529411768), molar_mass=0.018015200000000002),\n",
       " Molecule(name='H2', solubility=<atmodeller.thermodynamics.NoSolubility object at 0x11a550bd0>, solid_melt_distribution_coefficient=0, elements={'H': 2}, element_masses={'H': 0.0020158}, formation_constants=(0, 0), molar_mass=0.0020158),\n",
       " Molecule(name='O2', solubility=<atmodeller.thermodynamics.NoSolubility object at 0x11ae33050>, solid_melt_distribution_coefficient=0, elements={'O': 2}, element_masses={'O': 0.0319988}, formation_constants=(0, 0), molar_mass=0.0319988),\n",
       " Molecule(name='CO', solubility=<atmodeller.thermodynamics.NoSolubility object at 0x116ce06d0>, solid_melt_distribution_coefficient=0, elements={'C': 1, 'O': 1}, element_masses={'C': 0.0120107, 'O': 0.0159994}, formation_constants=(4.319860294117643, 6286.120588235306), molar_mass=0.0280101),\n",
       " Molecule(name='CO2', solubility=<atmodeller.thermodynamics.BasaltDixonCO2 object at 0x127835ad0>, solid_melt_distribution_coefficient=0, elements={'C': 1, 'O': 2}, element_masses={'C': 0.0120107, 'O': 0.0319988}, formation_constants=(-0.028289705882357442, 20753.870588235302), molar_mass=0.0440095)]"
      ]
     },
     "execution_count": 8,
     "metadata": {},
     "output_type": "execute_result"
    }
   ],
   "source": [
    "molecules: list[Molecule] = []\n",
    "molecules.append(Molecule(name='H2O', solubility=PeridotiteH2O(), solid_melt_distribution_coefficient=0))\n",
    "molecules.append(Molecule(name='H2', solubility=NoSolubility(), solid_melt_distribution_coefficient=0))\n",
    "molecules.append(Molecule(name='O2', solubility=NoSolubility(), solid_melt_distribution_coefficient=0))\n",
    "molecules.append(Molecule(name='CO', solubility=NoSolubility(), solid_melt_distribution_coefficient=0))\n",
    "molecules.append(Molecule(name='CO2', solubility=BasaltDixonCO2(), solid_melt_distribution_coefficient=0))\n",
    "molecules"
   ]
  },
  {
   "cell_type": "code",
   "execution_count": 9,
   "metadata": {},
   "outputs": [
    {
     "name": "stderr",
     "output_type": "stream",
     "text": [
      "[2023-06-04 14:05:59 - atmodeller.core      - 072 - INFO      - __post_init__()] Creating a new planet\n",
      "[2023-06-04 14:05:59 - atmodeller.core      - 077 - INFO      - __post_init__()] Mantle mass (kg) = 4.208261222595111e+24\n",
      "[2023-06-04 14:05:59 - atmodeller.core      - 078 - INFO      - __post_init__()] Mantle melt fraction = 1.0\n",
      "[2023-06-04 14:05:59 - atmodeller.core      - 079 - INFO      - __post_init__()] Core mass fraction = 0.295334691460966\n",
      "[2023-06-04 14:05:59 - atmodeller.core      - 080 - INFO      - __post_init__()] Planetary radius (m) = 6371000.0\n",
      "[2023-06-04 14:05:59 - atmodeller.core      - 081 - INFO      - __post_init__()] Planetary mass (kg) = 5.972e+24\n",
      "[2023-06-04 14:05:59 - atmodeller.core      - 082 - INFO      - __post_init__()] Surface temperature (K) = 2000.000000\n",
      "[2023-06-04 14:05:59 - atmodeller.core      - 083 - INFO      - __post_init__()] Surface gravity (m/s^2) = 9.819973426224687\n",
      "[2023-06-04 14:05:59 - atmodeller.core      - 084 - INFO      - __post_init__()] Oxygen fugacity model (mantle) = IronWustiteBufferOneill\n",
      "[2023-06-04 14:05:59 - atmodeller.core      - 087 - INFO      - __post_init__()] Oxygen fugacity log10 shift = 0.000000\n",
      "[2023-06-04 14:05:59 - atmodeller.core      - 669 - INFO      - __post_init__()] Creating a new interior-atmosphere system\n",
      "[2023-06-04 14:05:59 - atmodeller.core      - 673 - INFO      - __post_init__()] Molecules = ['CO', 'H2', 'O2', 'CO2', 'H2O']\n",
      "[2023-06-04 14:05:59 - atmodeller.core      - 360 - INFO      - __init__()] Molecules = ['CO', 'H2', 'O2', 'CO2', 'H2O']\n",
      "[2023-06-04 14:05:59 - atmodeller.core      - 366 - INFO      - __init__()] Reactions = \n",
      "{0: '1.0 CO + 0.5 O2 = 1.0 CO2', 1: '1.0 H2 + 0.5 O2 = 1.0 H2O'}\n"
     ]
    }
   ],
   "source": [
    "interior_atmosphere: InteriorAtmosphereSystem = InteriorAtmosphereSystem(molecules=molecules)"
   ]
  },
  {
   "attachments": {},
   "cell_type": "markdown",
   "metadata": {},
   "source": [
    "Note now the system has identified two reactions in the network. With C present in the system we must provide at least 2 constraints, in addition to the oxygen fugacity:"
   ]
  },
  {
   "cell_type": "code",
   "execution_count": 10,
   "metadata": {},
   "outputs": [],
   "source": [
    "H2O_pressure: SystemConstraint = SystemConstraint(species='H2O', value=1, field='pressure')\n",
    "CO2_pressure: SystemConstraint = SystemConstraint(species='CO2', value=1, field='pressure' )\n",
    "constraints: list[SystemConstraint] = [H2O_pressure, CO2_pressure]"
   ]
  },
  {
   "cell_type": "code",
   "execution_count": 11,
   "metadata": {},
   "outputs": [
    {
     "name": "stderr",
     "output_type": "stream",
     "text": [
      "[2023-06-04 14:05:59 - atmodeller.core      - 756 - INFO      - solve()] Constraints: [SystemConstraint(species='H2O', value=1, field='pressure'),\n",
      " SystemConstraint(species='CO2', value=1, field='pressure')]\n",
      "[2023-06-04 14:05:59 - atmodeller.core      - 766 - INFO      - solve()] Pressure constraints only so attempting to solve a linear reaction network\n",
      "[2023-06-04 14:05:59 - atmodeller.core      - 637 - INFO      - solve()] Solving the reaction network\n",
      "[2023-06-04 14:05:59 - atmodeller.core      - 557 - INFO      - get_coefficient_matrix_and_rhs()] Adding fO2 as an additional constraint using IronWustiteBufferOneill with fO2_shift = 0.00\n",
      "[2023-06-04 14:05:59 - atmodeller.core      - 576 - INFO      - get_coefficient_matrix_and_rhs()] The necessary number of constraints will be applied to the reaction network to solve the system\n",
      "[2023-06-04 14:05:59 - atmodeller.core      - 591 - INFO      - get_coefficient_matrix_and_rhs()] Row 00: Reaction 0: 1.0 CO + 0.5 O2 = 1.0 CO2\n",
      "[2023-06-04 14:05:59 - atmodeller.core      - 591 - INFO      - get_coefficient_matrix_and_rhs()] Row 01: Reaction 1: 1.0 H2 + 0.5 O2 = 1.0 H2O\n",
      "[2023-06-04 14:05:59 - atmodeller.core      - 605 - INFO      - get_coefficient_matrix_and_rhs()] Row 02: Setting H2O partial pressure\n",
      "[2023-06-04 14:05:59 - atmodeller.core      - 605 - INFO      - get_coefficient_matrix_and_rhs()] Row 03: Setting CO2 partial pressure\n",
      "[2023-06-04 14:05:59 - atmodeller.core      - 605 - INFO      - get_coefficient_matrix_and_rhs()] Row 04: Setting O2 partial pressure\n",
      "[2023-06-04 14:05:59 - atmodeller.core      - 652 - INFO      - solve()] The solution converged.\n",
      "[2023-06-04 14:05:59 - atmodeller.core      - 789 - INFO      - solve()] {'CO': 6.579409553027913,\n",
      " 'CO2': 1.0,\n",
      " 'H2': 1.465803963408939,\n",
      " 'H2O': 1.0,\n",
      " 'O2': 3.9099946023954954e-08}\n"
     ]
    },
    {
     "data": {
      "text/plain": [
       "{'CO': 6.579409553027913,\n",
       " 'H2': 1.465803963408939,\n",
       " 'O2': 3.9099946023954954e-08,\n",
       " 'CO2': 1.0,\n",
       " 'H2O': 1.0}"
      ]
     },
     "execution_count": 11,
     "metadata": {},
     "output_type": "execute_result"
    }
   ],
   "source": [
    "interior_atmosphere.solve(constraints, fo2_constraint=True)\n",
    "interior_atmosphere.pressures_dict"
   ]
  },
  {
   "attachments": {},
   "cell_type": "markdown",
   "metadata": {},
   "source": [
    "There is not a requirement to necessarily impose the oxygen fugacity as a constraint. Instead, we can simply impose three pressure constraints (that span the reaction set) and allow for the oxygen fugacity to be solved. Note that if we do not specify an appropriate range of constraints we cannot solve the system of equations to give a unique solution and hence the code will raise an exception relating to a singular matrix."
   ]
  },
  {
   "cell_type": "code",
   "execution_count": 12,
   "metadata": {},
   "outputs": [],
   "source": [
    "H2O_pressure: SystemConstraint = SystemConstraint(species='H2O', value=1, field='pressure')\n",
    "H2_pressure: SystemConstraint = SystemConstraint(species='H2', value=1, field='pressure' )\n",
    "CO_pressure: SystemConstraint = SystemConstraint(species='CO', value=1, field='pressure' )\n",
    "constraints: list[SystemConstraint] = [H2O_pressure, H2_pressure, CO_pressure]"
   ]
  },
  {
   "cell_type": "code",
   "execution_count": 13,
   "metadata": {},
   "outputs": [
    {
     "name": "stderr",
     "output_type": "stream",
     "text": [
      "[2023-06-04 14:05:59 - atmodeller.core      - 756 - INFO      - solve()] Constraints: [SystemConstraint(species='H2O', value=1, field='pressure'),\n",
      " SystemConstraint(species='H2', value=1, field='pressure'),\n",
      " SystemConstraint(species='CO', value=1, field='pressure')]\n",
      "[2023-06-04 14:05:59 - atmodeller.core      - 766 - INFO      - solve()] Pressure constraints only so attempting to solve a linear reaction network\n",
      "[2023-06-04 14:05:59 - atmodeller.core      - 637 - INFO      - solve()] Solving the reaction network\n",
      "[2023-06-04 14:05:59 - atmodeller.core      - 576 - INFO      - get_coefficient_matrix_and_rhs()] The necessary number of constraints will be applied to the reaction network to solve the system\n",
      "[2023-06-04 14:05:59 - atmodeller.core      - 591 - INFO      - get_coefficient_matrix_and_rhs()] Row 00: Reaction 0: 1.0 CO + 0.5 O2 = 1.0 CO2\n",
      "[2023-06-04 14:05:59 - atmodeller.core      - 591 - INFO      - get_coefficient_matrix_and_rhs()] Row 01: Reaction 1: 1.0 H2 + 0.5 O2 = 1.0 H2O\n",
      "[2023-06-04 14:05:59 - atmodeller.core      - 605 - INFO      - get_coefficient_matrix_and_rhs()] Row 02: Setting H2O partial pressure\n",
      "[2023-06-04 14:05:59 - atmodeller.core      - 605 - INFO      - get_coefficient_matrix_and_rhs()] Row 03: Setting H2 partial pressure\n",
      "[2023-06-04 14:05:59 - atmodeller.core      - 605 - INFO      - get_coefficient_matrix_and_rhs()] Row 04: Setting CO partial pressure\n",
      "[2023-06-04 14:05:59 - atmodeller.core      - 652 - INFO      - solve()] The solution converged.\n",
      "[2023-06-04 14:05:59 - atmodeller.core      - 789 - INFO      - solve()] {'CO': 1.0,\n",
      " 'CO2': 0.22278655122394087,\n",
      " 'H2': 1.0,\n",
      " 'H2O': 1.0,\n",
      " 'O2': 8.400941126066452e-08}\n"
     ]
    },
    {
     "data": {
      "text/plain": [
       "{'CO': 1.0,\n",
       " 'H2': 1.0,\n",
       " 'O2': 8.400941126066452e-08,\n",
       " 'CO2': 0.22278655122394087,\n",
       " 'H2O': 1.0}"
      ]
     },
     "execution_count": 13,
     "metadata": {},
     "output_type": "execute_result"
    }
   ],
   "source": [
    "interior_atmosphere.solve(constraints, fo2_constraint=False)\n",
    "interior_atmosphere.pressures_dict"
   ]
  },
  {
   "attachments": {},
   "cell_type": "markdown",
   "metadata": {},
   "source": [
    "### 3. System with C and H and mixed constraints"
   ]
  },
  {
   "attachments": {},
   "cell_type": "markdown",
   "metadata": {},
   "source": [
    "A typical use case is to define an interior-atmosphere system with a combination of pressure and mass constraints. We define the same molecule set as before:"
   ]
  },
  {
   "cell_type": "code",
   "execution_count": 14,
   "metadata": {},
   "outputs": [
    {
     "name": "stderr",
     "output_type": "stream",
     "text": [
      "[2023-06-04 14:06:00 - atmodeller.core      - 144 - INFO      - __post_init__()] Creating a molecule: H2O\n",
      "[2023-06-04 14:06:00 - atmodeller.core      - 144 - INFO      - __post_init__()] Creating a molecule: H2\n",
      "[2023-06-04 14:06:00 - atmodeller.core      - 144 - INFO      - __post_init__()] Creating a molecule: O2\n",
      "[2023-06-04 14:06:00 - atmodeller.core      - 144 - INFO      - __post_init__()] Creating a molecule: CO\n",
      "[2023-06-04 14:06:00 - atmodeller.core      - 144 - INFO      - __post_init__()] Creating a molecule: CO2\n"
     ]
    },
    {
     "data": {
      "text/plain": [
       "[Molecule(name='H2O', solubility=<atmodeller.thermodynamics.PeridotiteH2O object at 0x127841c50>, solid_melt_distribution_coefficient=0, elements={'H': 2, 'O': 1}, element_masses={'H': 0.0020158, 'O': 0.0159994}, formation_constants=(-3.0385132352941198, 13152.698529411768), molar_mass=0.018015200000000002),\n",
       " Molecule(name='H2', solubility=<atmodeller.thermodynamics.NoSolubility object at 0x12776a150>, solid_melt_distribution_coefficient=0, elements={'H': 2}, element_masses={'H': 0.0020158}, formation_constants=(0, 0), molar_mass=0.0020158),\n",
       " Molecule(name='O2', solubility=<atmodeller.thermodynamics.NoSolubility object at 0x111e4eb10>, solid_melt_distribution_coefficient=0, elements={'O': 2}, element_masses={'O': 0.0319988}, formation_constants=(0, 0), molar_mass=0.0319988),\n",
       " Molecule(name='CO', solubility=<atmodeller.thermodynamics.NoSolubility object at 0x12776a090>, solid_melt_distribution_coefficient=0, elements={'C': 1, 'O': 1}, element_masses={'C': 0.0120107, 'O': 0.0159994}, formation_constants=(4.319860294117643, 6286.120588235306), molar_mass=0.0280101),\n",
       " Molecule(name='CO2', solubility=<atmodeller.thermodynamics.BasaltDixonCO2 object at 0x12782a850>, solid_melt_distribution_coefficient=0, elements={'C': 1, 'O': 2}, element_masses={'C': 0.0120107, 'O': 0.0319988}, formation_constants=(-0.028289705882357442, 20753.870588235302), molar_mass=0.0440095)]"
      ]
     },
     "execution_count": 14,
     "metadata": {},
     "output_type": "execute_result"
    }
   ],
   "source": [
    "molecules: list[Molecule] = []\n",
    "molecules.append(Molecule(name='H2O', solubility=PeridotiteH2O(), solid_melt_distribution_coefficient=0))\n",
    "molecules.append(Molecule(name='H2', solubility=NoSolubility(), solid_melt_distribution_coefficient=0))\n",
    "molecules.append(Molecule(name='O2', solubility=NoSolubility(), solid_melt_distribution_coefficient=0))\n",
    "molecules.append(Molecule(name='CO', solubility=NoSolubility(), solid_melt_distribution_coefficient=0))\n",
    "molecules.append(Molecule(name='CO2', solubility=BasaltDixonCO2(), solid_melt_distribution_coefficient=0))\n",
    "molecules"
   ]
  },
  {
   "attachments": {},
   "cell_type": "markdown",
   "metadata": {},
   "source": [
    "Now we define the constraints, and in this case we want to constrain the total mass of C and H in the system that can partition between the various reservoirs."
   ]
  },
  {
   "cell_type": "code",
   "execution_count": 15,
   "metadata": {},
   "outputs": [],
   "source": [
    "number_of_earth_oceans: float = 1\n",
    "# C/H ratio by mass.\n",
    "ch_ratio: float = 1\n",
    "\n",
    "mass_H: float = number_of_earth_oceans * OCEAN_MOLES * MolarMasses().H2\n",
    "mass_C: float = ch_ratio * mass_H\n",
    "\n",
    "constraints: list[SystemConstraint] = [\n",
    "    SystemConstraint(species=\"H\", value=mass_H, field=\"mass\"),\n",
    "    SystemConstraint(species=\"C\", value=mass_C, field=\"mass\"),\n",
    "]"
   ]
  },
  {
   "attachments": {},
   "cell_type": "markdown",
   "metadata": {},
   "source": [
    "We need to apply one more constraint, which is usually the oxygen fugacity and this can be done directly as before by specifying `fo2_constraint=True`:"
   ]
  },
  {
   "cell_type": "code",
   "execution_count": 16,
   "metadata": {},
   "outputs": [
    {
     "name": "stderr",
     "output_type": "stream",
     "text": [
      "[2023-06-04 14:06:00 - atmodeller.core      - 072 - INFO      - __post_init__()] Creating a new planet\n",
      "[2023-06-04 14:06:00 - atmodeller.core      - 077 - INFO      - __post_init__()] Mantle mass (kg) = 4.208261222595111e+24\n",
      "[2023-06-04 14:06:00 - atmodeller.core      - 078 - INFO      - __post_init__()] Mantle melt fraction = 1.0\n",
      "[2023-06-04 14:06:00 - atmodeller.core      - 079 - INFO      - __post_init__()] Core mass fraction = 0.295334691460966\n",
      "[2023-06-04 14:06:00 - atmodeller.core      - 080 - INFO      - __post_init__()] Planetary radius (m) = 6371000.0\n",
      "[2023-06-04 14:06:00 - atmodeller.core      - 081 - INFO      - __post_init__()] Planetary mass (kg) = 5.972e+24\n",
      "[2023-06-04 14:06:00 - atmodeller.core      - 082 - INFO      - __post_init__()] Surface temperature (K) = 2000.000000\n",
      "[2023-06-04 14:06:00 - atmodeller.core      - 083 - INFO      - __post_init__()] Surface gravity (m/s^2) = 9.819973426224687\n",
      "[2023-06-04 14:06:00 - atmodeller.core      - 084 - INFO      - __post_init__()] Oxygen fugacity model (mantle) = IronWustiteBufferOneill\n",
      "[2023-06-04 14:06:00 - atmodeller.core      - 087 - INFO      - __post_init__()] Oxygen fugacity log10 shift = 0.000000\n",
      "[2023-06-04 14:06:00 - atmodeller.core      - 669 - INFO      - __post_init__()] Creating a new interior-atmosphere system\n",
      "[2023-06-04 14:06:00 - atmodeller.core      - 673 - INFO      - __post_init__()] Molecules = ['CO', 'H2', 'O2', 'CO2', 'H2O']\n",
      "[2023-06-04 14:06:00 - atmodeller.core      - 360 - INFO      - __init__()] Molecules = ['CO', 'H2', 'O2', 'CO2', 'H2O']\n",
      "[2023-06-04 14:06:00 - atmodeller.core      - 366 - INFO      - __init__()] Reactions = \n",
      "{0: '1.0 CO + 0.5 O2 = 1.0 CO2', 1: '1.0 H2 + 0.5 O2 = 1.0 H2O'}\n",
      "[2023-06-04 14:06:00 - atmodeller.core      - 756 - INFO      - solve()] Constraints: [SystemConstraint(species='H', value=1.5499384884020874e+20, field='mass'),\n",
      " SystemConstraint(species='C', value=1.5499384884020874e+20, field='mass')]\n",
      "[2023-06-04 14:06:00 - atmodeller.core      - 782 - INFO      - solve()] Mixed pressure and mass constraints so attempting to solve a non-linear system of equations\n",
      "[2023-06-04 14:06:00 - atmodeller.core      - 557 - INFO      - get_coefficient_matrix_and_rhs()] Adding fO2 as an additional constraint using IronWustiteBufferOneill with fO2_shift = 0.00\n",
      "[2023-06-04 14:06:00 - atmodeller.core      - 582 - INFO      - get_coefficient_matrix_and_rhs()] 2 additional (not pressure) constraint(s) are necessary to solve the system\n",
      "[2023-06-04 14:06:00 - atmodeller.core      - 591 - INFO      - get_coefficient_matrix_and_rhs()] Row 00: Reaction 0: 1.0 CO + 0.5 O2 = 1.0 CO2\n",
      "[2023-06-04 14:06:00 - atmodeller.core      - 591 - INFO      - get_coefficient_matrix_and_rhs()] Row 01: Reaction 1: 1.0 H2 + 0.5 O2 = 1.0 H2O\n",
      "[2023-06-04 14:06:00 - atmodeller.core      - 605 - INFO      - get_coefficient_matrix_and_rhs()] Row 02: Setting O2 partial pressure\n",
      "[2023-06-04 14:06:00 - atmodeller.core      - 814 - INFO      - _solve_fsolve()] Adding constraint from mass balance: H\n",
      "[2023-06-04 14:06:00 - atmodeller.core      - 814 - INFO      - _solve_fsolve()] Adding constraint from mass balance: C\n",
      "[2023-06-04 14:06:00 - atmodeller.core      - 835 - INFO      - _solve_fsolve()] The solution converged.\n",
      "[2023-06-04 14:06:00 - atmodeller.core      - 852 - INFO      - _solve_fsolve()] Number of function calls = 18\n",
      "[2023-06-04 14:06:00 - atmodeller.core      - 853 - INFO      - _solve_fsolve()] Final objective function evaluation = [0.00000000e+00 0.00000000e+00 0.00000000e+00 7.25152907e-14\n",
      " 3.42914873e-13]\n",
      "[2023-06-04 14:06:00 - atmodeller.core      - 789 - INFO      - solve()] {'CO': 62.30206152706083,\n",
      " 'CO2': 9.469248117924007,\n",
      " 'H2': 0.5545797824844402,\n",
      " 'H2O': 0.3783451241287987,\n",
      " 'O2': 3.9099946023954954e-08}\n"
     ]
    },
    {
     "data": {
      "text/plain": [
       "{'CO': 62.30206152706083,\n",
       " 'H2': 0.5545797824844402,\n",
       " 'O2': 3.9099946023954954e-08,\n",
       " 'CO2': 9.469248117924007,\n",
       " 'H2O': 0.3783451241287987}"
      ]
     },
     "execution_count": 16,
     "metadata": {},
     "output_type": "execute_result"
    }
   ],
   "source": [
    "interior_atmosphere: InteriorAtmosphereSystem = InteriorAtmosphereSystem(molecules=molecules)\n",
    "interior_atmosphere.solve(constraints, fo2_constraint=True)\n",
    "interior_atmosphere.pressures_dict"
   ]
  },
  {
   "attachments": {},
   "cell_type": "markdown",
   "metadata": {},
   "source": [
    "### 4. Including more species such as CH4\n",
    "\n",
    "It is straightforward to add more species to the system, although they must have their formation energies and masses already specified in the code."
   ]
  },
  {
   "cell_type": "code",
   "execution_count": 17,
   "metadata": {},
   "outputs": [
    {
     "name": "stderr",
     "output_type": "stream",
     "text": [
      "[2023-06-04 14:06:00 - atmodeller.core      - 144 - INFO      - __post_init__()] Creating a molecule: H2O\n",
      "[2023-06-04 14:06:00 - atmodeller.core      - 144 - INFO      - __post_init__()] Creating a molecule: H2\n",
      "[2023-06-04 14:06:00 - atmodeller.core      - 144 - INFO      - __post_init__()] Creating a molecule: O2\n",
      "[2023-06-04 14:06:00 - atmodeller.core      - 144 - INFO      - __post_init__()] Creating a molecule: CO\n",
      "[2023-06-04 14:06:00 - atmodeller.core      - 144 - INFO      - __post_init__()] Creating a molecule: CO2\n",
      "[2023-06-04 14:06:00 - atmodeller.core      - 144 - INFO      - __post_init__()] Creating a molecule: CH4\n"
     ]
    },
    {
     "data": {
      "text/plain": [
       "[Molecule(name='H2O', solubility=<atmodeller.thermodynamics.PeridotiteH2O object at 0x12782a110>, solid_melt_distribution_coefficient=0, elements={'H': 2, 'O': 1}, element_masses={'H': 0.0020158, 'O': 0.0159994}, formation_constants=(-3.0385132352941198, 13152.698529411768), molar_mass=0.018015200000000002),\n",
       " Molecule(name='H2', solubility=<atmodeller.thermodynamics.NoSolubility object at 0x127764590>, solid_melt_distribution_coefficient=0, elements={'H': 2}, element_masses={'H': 0.0020158}, formation_constants=(0, 0), molar_mass=0.0020158),\n",
       " Molecule(name='O2', solubility=<atmodeller.thermodynamics.NoSolubility object at 0x1278426d0>, solid_melt_distribution_coefficient=0, elements={'O': 2}, element_masses={'O': 0.0319988}, formation_constants=(0, 0), molar_mass=0.0319988),\n",
       " Molecule(name='CO', solubility=<atmodeller.thermodynamics.NoSolubility object at 0x112502b50>, solid_melt_distribution_coefficient=0, elements={'C': 1, 'O': 1}, element_masses={'C': 0.0120107, 'O': 0.0159994}, formation_constants=(4.319860294117643, 6286.120588235306), molar_mass=0.0280101),\n",
       " Molecule(name='CO2', solubility=<atmodeller.thermodynamics.BasaltDixonCO2 object at 0x127834a90>, solid_melt_distribution_coefficient=0, elements={'C': 1, 'O': 2}, element_masses={'C': 0.0120107, 'O': 0.0319988}, formation_constants=(-0.028289705882357442, 20753.870588235302), molar_mass=0.0440095),\n",
       " Molecule(name='CH4', solubility=<atmodeller.thermodynamics.NoSolubility object at 0x12783e210>, solid_melt_distribution_coefficient=0, elements={'C': 1, 'H': 4}, element_masses={'C': 0.0120107, 'H': 0.0040316}, formation_constants=(-5.830066176470588, 4829.067647058815), molar_mass=0.0160423)]"
      ]
     },
     "execution_count": 17,
     "metadata": {},
     "output_type": "execute_result"
    }
   ],
   "source": [
    "molecules: list[Molecule] = []\n",
    "molecules.append(Molecule(name='H2O', solubility=PeridotiteH2O(), solid_melt_distribution_coefficient=0))\n",
    "molecules.append(Molecule(name='H2', solubility=NoSolubility(), solid_melt_distribution_coefficient=0))\n",
    "molecules.append(Molecule(name='O2', solubility=NoSolubility(), solid_melt_distribution_coefficient=0))\n",
    "molecules.append(Molecule(name='CO', solubility=NoSolubility(), solid_melt_distribution_coefficient=0))\n",
    "molecules.append(Molecule(name='CO2', solubility=BasaltDixonCO2(), solid_melt_distribution_coefficient=0))\n",
    "molecules.append(Molecule(name='CH4', solubility=NoSolubility(), solid_melt_distribution_coefficient=0))\n",
    "molecules"
   ]
  },
  {
   "attachments": {},
   "cell_type": "markdown",
   "metadata": {},
   "source": [
    "We define a mixture of mass and oxygen fugacity constraints as before and solve the system. CH4 is not prevalent at 2000 K so the results are almost identical to those without CH4 presented above."
   ]
  },
  {
   "cell_type": "code",
   "execution_count": 18,
   "metadata": {},
   "outputs": [
    {
     "name": "stderr",
     "output_type": "stream",
     "text": [
      "[2023-06-04 14:06:00 - atmodeller.core      - 072 - INFO      - __post_init__()] Creating a new planet\n",
      "[2023-06-04 14:06:00 - atmodeller.core      - 077 - INFO      - __post_init__()] Mantle mass (kg) = 4.208261222595111e+24\n",
      "[2023-06-04 14:06:00 - atmodeller.core      - 078 - INFO      - __post_init__()] Mantle melt fraction = 1.0\n",
      "[2023-06-04 14:06:00 - atmodeller.core      - 079 - INFO      - __post_init__()] Core mass fraction = 0.295334691460966\n",
      "[2023-06-04 14:06:00 - atmodeller.core      - 080 - INFO      - __post_init__()] Planetary radius (m) = 6371000.0\n",
      "[2023-06-04 14:06:00 - atmodeller.core      - 081 - INFO      - __post_init__()] Planetary mass (kg) = 5.972e+24\n",
      "[2023-06-04 14:06:00 - atmodeller.core      - 082 - INFO      - __post_init__()] Surface temperature (K) = 2000.000000\n",
      "[2023-06-04 14:06:00 - atmodeller.core      - 083 - INFO      - __post_init__()] Surface gravity (m/s^2) = 9.819973426224687\n",
      "[2023-06-04 14:06:00 - atmodeller.core      - 084 - INFO      - __post_init__()] Oxygen fugacity model (mantle) = IronWustiteBufferOneill\n",
      "[2023-06-04 14:06:00 - atmodeller.core      - 087 - INFO      - __post_init__()] Oxygen fugacity log10 shift = 0.000000\n",
      "[2023-06-04 14:06:00 - atmodeller.core      - 669 - INFO      - __post_init__()] Creating a new interior-atmosphere system\n",
      "[2023-06-04 14:06:00 - atmodeller.core      - 673 - INFO      - __post_init__()] Molecules = ['CO', 'H2', 'O2', 'CO2', 'H2O', 'CH4']\n",
      "[2023-06-04 14:06:00 - atmodeller.core      - 360 - INFO      - __init__()] Molecules = ['CO', 'H2', 'O2', 'CO2', 'H2O', 'CH4']\n",
      "[2023-06-04 14:06:00 - atmodeller.core      - 366 - INFO      - __init__()] Reactions = \n",
      "{0: '1.0 CO + 0.5 O2 = 1.0 CO2',\n",
      " 1: '1.0 H2 + 0.5 O2 = 1.0 H2O',\n",
      " 2: '1.0 CO + 2.0 H2 = 0.5 O2 + 1.0 CH4'}\n",
      "[2023-06-04 14:06:00 - atmodeller.core      - 756 - INFO      - solve()] Constraints: [SystemConstraint(species='H', value=1.5499384884020874e+20, field='mass'),\n",
      " SystemConstraint(species='C', value=1.5499384884020874e+20, field='mass')]\n",
      "[2023-06-04 14:06:00 - atmodeller.core      - 782 - INFO      - solve()] Mixed pressure and mass constraints so attempting to solve a non-linear system of equations\n",
      "[2023-06-04 14:06:00 - atmodeller.core      - 557 - INFO      - get_coefficient_matrix_and_rhs()] Adding fO2 as an additional constraint using IronWustiteBufferOneill with fO2_shift = 0.00\n",
      "[2023-06-04 14:06:00 - atmodeller.core      - 582 - INFO      - get_coefficient_matrix_and_rhs()] 2 additional (not pressure) constraint(s) are necessary to solve the system\n",
      "[2023-06-04 14:06:00 - atmodeller.core      - 591 - INFO      - get_coefficient_matrix_and_rhs()] Row 00: Reaction 0: 1.0 CO + 0.5 O2 = 1.0 CO2\n",
      "[2023-06-04 14:06:00 - atmodeller.core      - 591 - INFO      - get_coefficient_matrix_and_rhs()] Row 01: Reaction 1: 1.0 H2 + 0.5 O2 = 1.0 H2O\n",
      "[2023-06-04 14:06:00 - atmodeller.core      - 591 - INFO      - get_coefficient_matrix_and_rhs()] Row 02: Reaction 2: 1.0 CO + 2.0 H2 = 0.5 O2 + 1.0 CH4\n",
      "[2023-06-04 14:06:00 - atmodeller.core      - 605 - INFO      - get_coefficient_matrix_and_rhs()] Row 03: Setting O2 partial pressure\n",
      "[2023-06-04 14:06:00 - atmodeller.core      - 814 - INFO      - _solve_fsolve()] Adding constraint from mass balance: H\n",
      "[2023-06-04 14:06:00 - atmodeller.core      - 814 - INFO      - _solve_fsolve()] Adding constraint from mass balance: C\n",
      "[2023-06-04 14:06:00 - atmodeller.core      - 835 - INFO      - _solve_fsolve()] The solution converged.\n",
      "[2023-06-04 14:06:00 - atmodeller.core      - 852 - INFO      - _solve_fsolve()] Number of function calls = 56\n",
      "[2023-06-04 14:06:00 - atmodeller.core      - 853 - INFO      - _solve_fsolve()] Final objective function evaluation = [ 0.00000000e+00 -4.44089210e-16  0.00000000e+00  0.00000000e+00\n",
      "  3.06657228e-12  1.75973258e-11]\n",
      "[2023-06-04 14:06:00 - atmodeller.core      - 789 - INFO      - solve()] {'CH4': 1.2820041833656648e-06,\n",
      " 'CO': 62.30205995149259,\n",
      " 'CO2': 9.469247878454462,\n",
      " 'H2': 0.5545797760445784,\n",
      " 'H2O': 0.3783451197353995,\n",
      " 'O2': 3.9099946023954954e-08}\n"
     ]
    },
    {
     "data": {
      "text/plain": [
       "{'CO': 62.30205995149259,\n",
       " 'H2': 0.5545797760445784,\n",
       " 'O2': 3.9099946023954954e-08,\n",
       " 'CO2': 9.469247878454462,\n",
       " 'H2O': 0.3783451197353995,\n",
       " 'CH4': 1.2820041833656648e-06}"
      ]
     },
     "execution_count": 18,
     "metadata": {},
     "output_type": "execute_result"
    }
   ],
   "source": [
    "number_of_earth_oceans: float = 1\n",
    "# C/H ratio by mass.\n",
    "ch_ratio: float = 1\n",
    "\n",
    "mass_H: float = number_of_earth_oceans * OCEAN_MOLES * MolarMasses().H2\n",
    "mass_C: float = ch_ratio * mass_H\n",
    "\n",
    "constraints: list[SystemConstraint] = [\n",
    "    SystemConstraint(species=\"H\", value=mass_H, field=\"mass\"),\n",
    "    SystemConstraint(species=\"C\", value=mass_C, field=\"mass\"),\n",
    "]\n",
    "\n",
    "interior_atmosphere: InteriorAtmosphereSystem = InteriorAtmosphereSystem(molecules=molecules)\n",
    "interior_atmosphere.solve(constraints, fo2_constraint=True)\n",
    "interior_atmosphere.pressures_dict"
   ]
  }
 ],
 "metadata": {
  "kernelspec": {
   "display_name": ".venv",
   "language": "python",
   "name": "python3"
  },
  "language_info": {
   "codemirror_mode": {
    "name": "ipython",
    "version": 3
   },
   "file_extension": ".py",
   "mimetype": "text/x-python",
   "name": "python",
   "nbconvert_exporter": "python",
   "pygments_lexer": "ipython3",
   "version": "3.11.3"
  },
  "orig_nbformat": 4
 },
 "nbformat": 4,
 "nbformat_minor": 2
}
