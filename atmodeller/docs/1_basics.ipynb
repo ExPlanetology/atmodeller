{
 "cells": [
  {
   "attachments": {},
   "cell_type": "markdown",
   "metadata": {},
   "source": [
    "# atmodeller\n",
    "\n",
    "## Tutorial 1: basic operation\n",
    "\n",
    "Import the required packages and set the package logger to the INFO level. For more output you could instead set it to DEBUG."
   ]
  },
  {
   "cell_type": "code",
   "execution_count": 1,
   "metadata": {},
   "outputs": [
    {
     "name": "stderr",
     "output_type": "stream",
     "text": [
      "10:34:41 - atmodeller           - INFO      - atmodeller version 0.1.0\n"
     ]
    }
   ],
   "source": [
    "from atmodeller import InteriorAtmosphereSystem, Molecule, SystemConstraint, OCEAN_MOLES, MolarMasses, logger\n",
    "from atmodeller.thermodynamics import PeridotiteH2O, NoSolubility, BasaltDixonCO2\n",
    "\n",
    "import logging\n",
    "\n",
    "logger.setLevel(logging.DEBUG)"
   ]
  },
  {
   "attachments": {},
   "cell_type": "markdown",
   "metadata": {},
   "source": [
    "### 1. Simple H2O-H2 system with prescribed H2O pressure"
   ]
  },
  {
   "attachments": {},
   "cell_type": "markdown",
   "metadata": {},
   "source": [
    "We define a list of the molecules we wish to include in the interior-atmosphere system and how they partition between the melt and the atmosphere, and the solid and the melt:"
   ]
  },
  {
   "cell_type": "code",
   "execution_count": 2,
   "metadata": {},
   "outputs": [
    {
     "name": "stderr",
     "output_type": "stream",
     "text": [
      "10:34:44 - atmodeller.core      - INFO      - Creating a molecule: H2O\n",
      "10:34:44 - atmodeller.core      - DEBUG     - element count = \n",
      "{'H': 2, 'O': 1}\n",
      "10:34:44 - atmodeller.core      - INFO      - Creating a molecule: H2\n",
      "10:34:44 - atmodeller.core      - DEBUG     - element count = \n",
      "{'H': 2}\n"
     ]
    }
   ],
   "source": [
    "molecules: list[Molecule] = []\n",
    "molecules.append(Molecule(name='H2O', solubility=PeridotiteH2O(), solid_melt_distribution_coefficient=0))\n",
    "molecules.append(Molecule(name='H2', solubility=NoSolubility(), solid_melt_distribution_coefficient=0))"
   ]
  },
  {
   "attachments": {},
   "cell_type": "markdown",
   "metadata": {},
   "source": [
    "Although a choice is often made to constrain oxygen fugacity, we nevertheless need to explicitly include O2 as a molecule in the interior-atmosphere system:"
   ]
  },
  {
   "cell_type": "code",
   "execution_count": 3,
   "metadata": {},
   "outputs": [
    {
     "name": "stderr",
     "output_type": "stream",
     "text": [
      "10:34:47 - atmodeller.core      - INFO      - Creating a molecule: O2\n",
      "10:34:47 - atmodeller.core      - DEBUG     - element count = \n",
      "{'O': 2}\n"
     ]
    },
    {
     "data": {
      "text/plain": [
       "[Molecule(name='H2O', solubility=<atmodeller.thermodynamics.PeridotiteH2O object at 0x11ea06ed0>, solid_melt_distribution_coefficient=0, elements={'H': 2, 'O': 1}, element_masses={'H': 0.0020158, 'O': 0.0159994}, formation_constants=(0.05817258823529415, -251.80119852941178), molar_mass=0.018015200000000002),\n",
       " Molecule(name='H2', solubility=<atmodeller.thermodynamics.NoSolubility object at 0x111e28750>, solid_melt_distribution_coefficient=0, elements={'H': 2}, element_masses={'H': 0.0020158}, formation_constants=(0, 0), molar_mass=0.0020158),\n",
       " Molecule(name='O2', solubility=<atmodeller.thermodynamics.NoSolubility object at 0x11f534ed0>, solid_melt_distribution_coefficient=0, elements={'O': 2}, element_masses={'O': 0.0319988}, formation_constants=(0, 0), molar_mass=0.0319988)]"
      ]
     },
     "execution_count": 3,
     "metadata": {},
     "output_type": "execute_result"
    }
   ],
   "source": [
    "molecules.append(Molecule(name='O2', solubility=NoSolubility(), solid_melt_distribution_coefficient=0))\n",
    "molecules"
   ]
  },
  {
   "attachments": {},
   "cell_type": "markdown",
   "metadata": {},
   "source": [
    "We can then create an interior-atmosphere system using the list of molecules. Note that this creates a planet with 'default properties' (a reduced and molten Earth). Adjusting the planet properties will be covered in a later tutorial."
   ]
  },
  {
   "cell_type": "code",
   "execution_count": 4,
   "metadata": {},
   "outputs": [
    {
     "name": "stderr",
     "output_type": "stream",
     "text": [
      "10:34:50 - atmodeller.core      - INFO      - Creating a new planet\n",
      "10:34:50 - atmodeller.core      - INFO      - Mantle mass (kg) = 4.208261222595111e+24\n",
      "10:34:50 - atmodeller.core      - INFO      - Mantle melt fraction = 1.0\n",
      "10:34:50 - atmodeller.core      - INFO      - Core mass fraction = 0.295334691460966\n",
      "10:34:50 - atmodeller.core      - INFO      - Planetary radius (m) = 6371000.0\n",
      "10:34:50 - atmodeller.core      - INFO      - Planetary mass (kg) = 5.972e+24\n",
      "10:34:50 - atmodeller.core      - INFO      - Surface temperature (K) = 2000.000000\n",
      "10:34:50 - atmodeller.core      - INFO      - Surface gravity (m/s^2) = 9.819973426224687\n",
      "10:34:50 - atmodeller.core      - INFO      - Oxygen fugacity model (mantle) = IronWustiteBufferOneill\n",
      "10:34:50 - atmodeller.core      - INFO      - Oxygen fugacity log10 shift = 0.000000\n",
      "10:34:50 - atmodeller.core      - INFO      - Creating a new interior-atmosphere system\n",
      "10:34:50 - atmodeller.core      - INFO      - Molecules = ['H2', 'O2', 'H2O']\n",
      "10:34:50 - atmodeller.core      - INFO      - Molecules = ['H2', 'O2', 'H2O']\n",
      "10:34:50 - atmodeller.core      - DEBUG     - number of unique elements = \n",
      "['H', 'O']\n",
      "10:34:50 - atmodeller.core      - DEBUG     - augmented_matrix = \n",
      "[[2. 0. 1. 0. 0.]\n",
      " [0. 2. 0. 1. 0.]\n",
      " [2. 1. 0. 0. 1.]]\n",
      "10:34:50 - atmodeller.core      - DEBUG     - ratio = \n",
      "0.0\n",
      "10:34:50 - atmodeller.core      - DEBUG     - ratio = \n",
      "1.0\n",
      "10:34:50 - atmodeller.core      - DEBUG     - ratio = \n",
      "0.5\n",
      "10:34:50 - atmodeller.core      - DEBUG     - augmented_matrix after forward elimination = \n",
      "[[ 2.   0.   1.   0.   0. ]\n",
      " [ 0.   2.   0.   1.   0. ]\n",
      " [ 0.   0.  -1.  -0.5  1. ]]\n",
      "10:34:50 - atmodeller.core      - DEBUG     - augmented_matrix after backward substitution = \n",
      "[[ 1.   0.   0.5  0.   0. ]\n",
      " [ 0.   1.   0.   0.5  0. ]\n",
      " [ 0.   0.  -1.  -0.5  1. ]]\n",
      "10:34:50 - atmodeller.core      - DEBUG     - reduced_matrix1 = \n",
      "[[1. 0.]\n",
      " [0. 1.]\n",
      " [0. 0.]]\n",
      "10:34:50 - atmodeller.core      - DEBUG     - reaction_matrix = \n",
      "[[-1.  -0.5  1. ]]\n",
      "10:34:50 - atmodeller.core      - INFO      - Reactions = \n",
      "{0: '1.0 H2 + 0.5 O2 = 1.0 H2O'}\n"
     ]
    }
   ],
   "source": [
    "interior_atmosphere: InteriorAtmosphereSystem = InteriorAtmosphereSystem(molecules=molecules)"
   ]
  },
  {
   "attachments": {},
   "cell_type": "markdown",
   "metadata": {},
   "source": [
    "Notice that for this simple system it has identified the single reaction that relates the 3 chosen molecules. To solve the system, we provide a constraint of the H2O pressure in bar:"
   ]
  },
  {
   "cell_type": "code",
   "execution_count": 5,
   "metadata": {},
   "outputs": [],
   "source": [
    "H2O_pressure: SystemConstraint = SystemConstraint(species='H2O', value=1, field='pressure')\n",
    "constraints: list[SystemConstraint] = [H2O_pressure]"
   ]
  },
  {
   "attachments": {},
   "cell_type": "markdown",
   "metadata": {},
   "source": [
    "A second constraint is required to close the system of equations, and this is conveniently specified using `fo2_constraint=True`, which (without specifying additional arguments) will impose the oxygen fugacity at the Iron-Wustite buffer. Hence we can solve the interior-atmosphere system at a given temperature to determine the partial pressures of our chosen molecules:"
   ]
  },
  {
   "cell_type": "code",
   "execution_count": 6,
   "metadata": {},
   "outputs": [
    {
     "name": "stderr",
     "output_type": "stream",
     "text": [
      "10:34:57 - atmodeller.core      - INFO      - Constraints: [SystemConstraint(species='H2O', value=1, field='pressure')]\n",
      "10:34:57 - atmodeller.core      - INFO      - Pressure constraints only so attempting to solve a linear reaction network\n",
      "10:34:57 - atmodeller.core      - INFO      - Solving the reaction network\n",
      "10:34:57 - atmodeller.core      - INFO      - Adding fO2 as an additional constraint using IronWustiteBufferOneill with fO2_shift = 0.00\n",
      "10:34:57 - atmodeller.core      - INFO      - The necessary number of constraints will be applied to the reaction network to solve the system\n",
      "10:34:57 - atmodeller.core      - INFO      - Row 00: Reaction 0: 1.0 H2 + 0.5 O2 = 1.0 H2O\n",
      "10:34:57 - atmodeller.core      - INFO      - Row 01: Setting H2O partial pressure\n",
      "10:34:57 - atmodeller.core      - INFO      - Row 02: Setting O2 partial pressure\n",
      "10:34:57 - atmodeller.core      - DEBUG     - Design matrix = \n",
      "[[-1.  -0.5  1. ]\n",
      " [ 0.   0.   1. ]\n",
      " [ 0.   1.   0. ]]\n",
      "10:34:57 - atmodeller.core      - DEBUG     - RHS vector = \n",
      "[ 3.5376792   0.         -7.40782384]\n",
      "10:34:57 - atmodeller.core      - INFO      - The solution converged.\n",
      "10:34:57 - atmodeller.core      - INFO      - {'H2': 1.4663333811991948, 'H2O': 1.0, 'O2': 3.9099946023954954e-08}\n"
     ]
    },
    {
     "data": {
      "text/plain": [
       "{'H2': 1.4663333811991948, 'O2': 3.9099946023954954e-08, 'H2O': 1.0}"
      ]
     },
     "execution_count": 6,
     "metadata": {},
     "output_type": "execute_result"
    }
   ],
   "source": [
    "interior_atmosphere.solve(constraints, fo2_constraint=True)"
   ]
  },
  {
   "attachments": {},
   "cell_type": "markdown",
   "metadata": {},
   "source": [
    "You can access the solution directly using:"
   ]
  },
  {
   "cell_type": "code",
   "execution_count": 7,
   "metadata": {},
   "outputs": [
    {
     "data": {
      "text/plain": [
       "{'H2': 1.4663333811991948, 'O2': 3.9099946023954954e-08, 'H2O': 1.0}"
      ]
     },
     "execution_count": 7,
     "metadata": {},
     "output_type": "execute_result"
    }
   ],
   "source": [
    "interior_atmosphere.pressures_dict"
   ]
  },
  {
   "attachments": {},
   "cell_type": "markdown",
   "metadata": {},
   "source": [
    "### 2. System with C and H and prescribed pressures\n",
    "\n",
    "We now extend the molecule list to additionally include C-species:"
   ]
  },
  {
   "cell_type": "code",
   "execution_count": 8,
   "metadata": {},
   "outputs": [
    {
     "name": "stderr",
     "output_type": "stream",
     "text": [
      "14:36:06 - atmodeller.core      - INFO      - Creating a molecule: H2O\n",
      "14:36:06 - atmodeller.core      - INFO      - Creating a molecule: H2\n",
      "14:36:06 - atmodeller.core      - INFO      - Creating a molecule: O2\n",
      "14:36:06 - atmodeller.core      - INFO      - Creating a molecule: CO\n",
      "14:36:06 - atmodeller.core      - INFO      - Creating a molecule: CO2\n"
     ]
    },
    {
     "name": "stdout",
     "output_type": "stream",
     "text": [
      "Element count: {'H': 2, 'O': 1}\n",
      "Element count: {'H': 2}\n",
      "Element count: {'O': 2}\n",
      "Element count: {'C': 1, 'O': 1}\n",
      "Element count: {'C': 1, 'O': 2}\n"
     ]
    },
    {
     "data": {
      "text/plain": [
       "[Molecule(name='H2O', solubility=<atmodeller.thermodynamics.PeridotiteH2O object at 0x120a51d50>, solid_melt_distribution_coefficient=0, elements={'H': 2, 'O': 1}, element_masses={'H': 0.0020158, 'O': 0.0159994}, formation_constants=(0.05817258823529415, -251.80119852941178), molar_mass=0.018015200000000002),\n",
       " Molecule(name='H2', solubility=<atmodeller.thermodynamics.NoSolubility object at 0x10b53ba50>, solid_melt_distribution_coefficient=0, elements={'H': 2}, element_masses={'H': 0.0020158}, formation_constants=(0, 0), molar_mass=0.0020158),\n",
       " Molecule(name='O2', solubility=<atmodeller.thermodynamics.NoSolubility object at 0x11d0fca90>, solid_melt_distribution_coefficient=0, elements={'O': 2}, element_masses={'O': 0.0319988}, formation_constants=(0, 0), molar_mass=0.0319988),\n",
       " Molecule(name='CO', solubility=<atmodeller.thermodynamics.NoSolubility object at 0x11e91b410>, solid_melt_distribution_coefficient=0, elements={'C': 1, 'O': 1}, element_masses={'C': 0.0120107, 'O': 0.0159994}, formation_constants=(-0.08269582352941174, -120.3571470588237), molar_mass=0.0280101),\n",
       " Molecule(name='CO2', solubility=<atmodeller.thermodynamics.BasaltDixonCO2 object at 0x11e2ab290>, solid_melt_distribution_coefficient=0, elements={'C': 1, 'O': 2}, element_masses={'C': 0.0120107, 'O': 0.0319988}, formation_constants=(0.0005482647058825124, -397.33434558823564), molar_mass=0.0440095)]"
      ]
     },
     "execution_count": 8,
     "metadata": {},
     "output_type": "execute_result"
    }
   ],
   "source": [
    "molecules: list[Molecule] = []\n",
    "molecules.append(Molecule(name='H2O', solubility=PeridotiteH2O(), solid_melt_distribution_coefficient=0))\n",
    "molecules.append(Molecule(name='H2', solubility=NoSolubility(), solid_melt_distribution_coefficient=0))\n",
    "molecules.append(Molecule(name='O2', solubility=NoSolubility(), solid_melt_distribution_coefficient=0))\n",
    "molecules.append(Molecule(name='CO', solubility=NoSolubility(), solid_melt_distribution_coefficient=0))\n",
    "molecules.append(Molecule(name='CO2', solubility=BasaltDixonCO2(), solid_melt_distribution_coefficient=0))\n",
    "molecules"
   ]
  },
  {
   "cell_type": "code",
   "execution_count": 9,
   "metadata": {},
   "outputs": [
    {
     "name": "stderr",
     "output_type": "stream",
     "text": [
      "14:36:11 - atmodeller.core      - INFO      - Creating a new planet\n",
      "14:36:11 - atmodeller.core      - INFO      - Mantle mass (kg) = 4.208261222595111e+24\n",
      "14:36:11 - atmodeller.core      - INFO      - Mantle melt fraction = 1.0\n",
      "14:36:11 - atmodeller.core      - INFO      - Core mass fraction = 0.295334691460966\n",
      "14:36:11 - atmodeller.core      - INFO      - Planetary radius (m) = 6371000.0\n",
      "14:36:11 - atmodeller.core      - INFO      - Planetary mass (kg) = 5.972e+24\n",
      "14:36:11 - atmodeller.core      - INFO      - Surface temperature (K) = 2000.000000\n",
      "14:36:11 - atmodeller.core      - INFO      - Surface gravity (m/s^2) = 9.819973426224687\n",
      "14:36:11 - atmodeller.core      - INFO      - Oxygen fugacity model (mantle) = IronWustiteBufferOneill\n",
      "14:36:11 - atmodeller.core      - INFO      - Oxygen fugacity log10 shift = 0.000000\n",
      "14:36:11 - atmodeller.core      - INFO      - Creating a new interior-atmosphere system\n",
      "14:36:11 - atmodeller.core      - INFO      - Molecules = ['CO', 'H2', 'O2', 'CO2', 'H2O']\n",
      "14:36:11 - atmodeller.core      - INFO      - Molecules = ['CO', 'H2', 'O2', 'CO2', 'H2O']\n",
      "14:36:11 - atmodeller.core      - DEBUG     - augmented_matrix = \n",
      "[[0. 1. 1. 1. 0. 0. 0. 0.]\n",
      " [2. 0. 0. 0. 1. 0. 0. 0.]\n",
      " [0. 0. 2. 0. 0. 1. 0. 0.]\n",
      " [0. 1. 2. 0. 0. 0. 1. 0.]\n",
      " [2. 0. 1. 0. 0. 0. 0. 1.]]\n",
      "14:36:11 - atmodeller.core      - DEBUG     - ratio = \n",
      "0.0\n",
      "14:36:11 - atmodeller.core      - DEBUG     - ratio = \n",
      "0.0\n",
      "14:36:11 - atmodeller.core      - DEBUG     - ratio = \n",
      "0.0\n",
      "14:36:11 - atmodeller.core      - DEBUG     - ratio = \n",
      "1.0\n",
      "14:36:11 - atmodeller.core      - DEBUG     - ratio = \n",
      "0.0\n",
      "14:36:11 - atmodeller.core      - DEBUG     - ratio = \n",
      "1.0\n",
      "14:36:11 - atmodeller.core      - DEBUG     - ratio = \n",
      "0.0\n",
      "14:36:11 - atmodeller.core      - DEBUG     - ratio = \n",
      "0.5\n",
      "14:36:11 - atmodeller.core      - DEBUG     - ratio = \n",
      "0.5\n",
      "14:36:11 - atmodeller.core      - DEBUG     - augmented_matrix after forward elimination = \n",
      "[[ 2.   0.   0.   0.   1.   0.   0.   0. ]\n",
      " [ 0.   1.   1.   1.   0.   0.   0.   0. ]\n",
      " [ 0.   0.   2.   0.   0.   1.   0.   0. ]\n",
      " [ 0.   0.   0.  -1.   0.  -0.5  1.   0. ]\n",
      " [ 0.   0.   0.   0.  -1.  -0.5  0.   1. ]]\n",
      "14:36:11 - atmodeller.core      - DEBUG     - augmented_matrix after backward substitution = \n",
      "[[ 1.   0.   0.   0.   0.5  0.   0.   0. ]\n",
      " [ 0.   1.   0.   1.   0.  -0.5  0.   0. ]\n",
      " [ 0.   0.   1.   0.   0.   0.5  0.   0. ]\n",
      " [ 0.   0.   0.  -1.   0.  -0.5  1.   0. ]\n",
      " [ 0.   0.   0.   0.  -1.  -0.5  0.   1. ]]\n",
      "14:36:11 - atmodeller.core      - DEBUG     - reduced_matrix1 = \n",
      "[[1. 0. 0.]\n",
      " [0. 1. 0.]\n",
      " [0. 0. 1.]\n",
      " [0. 0. 0.]\n",
      " [0. 0. 0.]]\n",
      "14:36:11 - atmodeller.core      - DEBUG     - reaction_matrix = \n",
      "[[-1.   0.  -0.5  1.   0. ]\n",
      " [ 0.  -1.  -0.5  0.   1. ]]\n",
      "14:36:11 - atmodeller.core      - INFO      - Reactions = \n",
      "{0: '1.0 CO + 0.5 O2 = 1.0 CO2', 1: '1.0 H2 + 0.5 O2 = 1.0 H2O'}\n"
     ]
    },
    {
     "name": "stdout",
     "output_type": "stream",
     "text": [
      "['H', 'C', 'O']\n"
     ]
    }
   ],
   "source": [
    "interior_atmosphere: InteriorAtmosphereSystem = InteriorAtmosphereSystem(molecules=molecules)"
   ]
  },
  {
   "attachments": {},
   "cell_type": "markdown",
   "metadata": {},
   "source": [
    "Note now the system has identified two reactions in the network. With C present in the system we must provide at least 2 constraints, in addition to the oxygen fugacity:"
   ]
  },
  {
   "cell_type": "code",
   "execution_count": 10,
   "metadata": {},
   "outputs": [],
   "source": [
    "H2O_pressure: SystemConstraint = SystemConstraint(species='H2O', value=1, field='pressure')\n",
    "CO2_pressure: SystemConstraint = SystemConstraint(species='CO2', value=1, field='pressure' )\n",
    "constraints: list[SystemConstraint] = [H2O_pressure, CO2_pressure]"
   ]
  },
  {
   "cell_type": "code",
   "execution_count": 11,
   "metadata": {},
   "outputs": [
    {
     "name": "stderr",
     "output_type": "stream",
     "text": [
      "14:36:20 - atmodeller.core      - INFO      - Constraints: [SystemConstraint(species='H2O', value=1, field='pressure'),\n",
      " SystemConstraint(species='CO2', value=1, field='pressure')]\n",
      "14:36:20 - atmodeller.core      - INFO      - Pressure constraints only so attempting to solve a linear reaction network\n",
      "14:36:20 - atmodeller.core      - INFO      - Solving the reaction network\n",
      "14:36:20 - atmodeller.core      - INFO      - Adding fO2 as an additional constraint using IronWustiteBufferOneill with fO2_shift = 0.00\n",
      "14:36:20 - atmodeller.core      - INFO      - The necessary number of constraints will be applied to the reaction network to solve the system\n",
      "14:36:20 - atmodeller.core      - INFO      - Row 00: Reaction 0: 1.0 CO + 0.5 O2 = 1.0 CO2\n",
      "14:36:20 - atmodeller.core      - INFO      - Row 01: Reaction 1: 1.0 H2 + 0.5 O2 = 1.0 H2O\n",
      "14:36:20 - atmodeller.core      - INFO      - Row 02: Setting H2O partial pressure\n",
      "14:36:20 - atmodeller.core      - INFO      - Row 03: Setting CO2 partial pressure\n",
      "14:36:20 - atmodeller.core      - INFO      - Row 04: Setting O2 partial pressure\n",
      "14:36:20 - atmodeller.core      - DEBUG     - Design matrix = \n",
      "[[-1.   0.  -0.5  1.   0. ]\n",
      " [ 0.  -1.  -0.5  0.   1. ]\n",
      " [ 0.   0.   0.   0.   1. ]\n",
      " [ 0.   0.   0.   1.   0. ]\n",
      " [ 0.   0.   1.   0.   0. ]]\n",
      "14:36:20 - atmodeller.core      - DEBUG     - RHS vector = \n",
      "[ 2.8856208   3.5376792   0.          0.         -7.40782384]\n",
      "14:36:20 - atmodeller.core      - INFO      - The solution converged.\n",
      "14:36:20 - atmodeller.core      - INFO      - {'CO': 6.580988292698317,\n",
      " 'CO2': 1.0,\n",
      " 'H2': 1.4663333811991948,\n",
      " 'H2O': 1.0,\n",
      " 'O2': 3.9099946023954954e-08}\n"
     ]
    },
    {
     "data": {
      "text/plain": [
       "{'CO': 6.580988292698317,\n",
       " 'H2': 1.4663333811991948,\n",
       " 'O2': 3.9099946023954954e-08,\n",
       " 'CO2': 1.0,\n",
       " 'H2O': 1.0}"
      ]
     },
     "execution_count": 11,
     "metadata": {},
     "output_type": "execute_result"
    }
   ],
   "source": [
    "interior_atmosphere.solve(constraints, fo2_constraint=True)\n",
    "interior_atmosphere.pressures_dict"
   ]
  },
  {
   "attachments": {},
   "cell_type": "markdown",
   "metadata": {},
   "source": [
    "There is not a requirement to necessarily impose the oxygen fugacity as a constraint. Instead, we can simply impose three pressure constraints (that span the reaction set) and allow for the oxygen fugacity to be solved. Note that if we do not specify an appropriate range of constraints we cannot solve the system of equations to give a unique solution and hence the code will raise an exception relating to a singular matrix."
   ]
  },
  {
   "cell_type": "code",
   "execution_count": 12,
   "metadata": {},
   "outputs": [],
   "source": [
    "H2O_pressure: SystemConstraint = SystemConstraint(species='H2O', value=1, field='pressure')\n",
    "H2_pressure: SystemConstraint = SystemConstraint(species='H2', value=1, field='pressure' )\n",
    "CO_pressure: SystemConstraint = SystemConstraint(species='CO', value=1, field='pressure' )\n",
    "constraints: list[SystemConstraint] = [H2O_pressure, H2_pressure, CO_pressure]"
   ]
  },
  {
   "cell_type": "code",
   "execution_count": 13,
   "metadata": {},
   "outputs": [
    {
     "name": "stderr",
     "output_type": "stream",
     "text": [
      "14:36:54 - atmodeller.core      - INFO      - Constraints: [SystemConstraint(species='H2O', value=1, field='pressure'),\n",
      " SystemConstraint(species='H2', value=1, field='pressure'),\n",
      " SystemConstraint(species='CO', value=1, field='pressure')]\n",
      "14:36:54 - atmodeller.core      - INFO      - Pressure constraints only so attempting to solve a linear reaction network\n",
      "14:36:54 - atmodeller.core      - INFO      - Solving the reaction network\n",
      "14:36:54 - atmodeller.core      - INFO      - The necessary number of constraints will be applied to the reaction network to solve the system\n",
      "14:36:54 - atmodeller.core      - INFO      - Row 00: Reaction 0: 1.0 CO + 0.5 O2 = 1.0 CO2\n",
      "14:36:54 - atmodeller.core      - INFO      - Row 01: Reaction 1: 1.0 H2 + 0.5 O2 = 1.0 H2O\n",
      "14:36:54 - atmodeller.core      - INFO      - Row 02: Setting H2O partial pressure\n",
      "14:36:54 - atmodeller.core      - INFO      - Row 03: Setting H2 partial pressure\n",
      "14:36:54 - atmodeller.core      - INFO      - Row 04: Setting CO partial pressure\n",
      "14:36:54 - atmodeller.core      - DEBUG     - Design matrix = \n",
      "[[-1.   0.  -0.5  1.   0. ]\n",
      " [ 0.  -1.  -0.5  0.   1. ]\n",
      " [ 0.   0.   0.   0.   1. ]\n",
      " [ 0.   1.   0.   0.   0. ]\n",
      " [ 1.   0.   0.   0.   0. ]]\n",
      "14:36:54 - atmodeller.core      - DEBUG     - RHS vector = \n",
      "[2.8856208 3.5376792 0.        0.        0.       ]\n",
      "14:36:54 - atmodeller.core      - INFO      - The solution converged.\n",
      "14:36:54 - atmodeller.core      - INFO      - {'CO': 1.0,\n",
      " 'CO2': 0.22281355261277533,\n",
      " 'H2': 1.0,\n",
      " 'H2O': 1.0,\n",
      " 'O2': 8.407010711071814e-08}\n"
     ]
    },
    {
     "data": {
      "text/plain": [
       "{'CO': 1.0,\n",
       " 'H2': 1.0,\n",
       " 'O2': 8.407010711071814e-08,\n",
       " 'CO2': 0.22281355261277533,\n",
       " 'H2O': 1.0}"
      ]
     },
     "execution_count": 13,
     "metadata": {},
     "output_type": "execute_result"
    }
   ],
   "source": [
    "interior_atmosphere.solve(constraints, fo2_constraint=False)\n",
    "interior_atmosphere.pressures_dict"
   ]
  },
  {
   "attachments": {},
   "cell_type": "markdown",
   "metadata": {},
   "source": [
    "### 3. System with C and H and mixed constraints"
   ]
  },
  {
   "attachments": {},
   "cell_type": "markdown",
   "metadata": {},
   "source": [
    "A typical use case is to define an interior-atmosphere system with a combination of pressure and mass constraints. We define the same molecule set as before:"
   ]
  },
  {
   "cell_type": "code",
   "execution_count": 14,
   "metadata": {},
   "outputs": [
    {
     "name": "stderr",
     "output_type": "stream",
     "text": [
      "14:37:15 - atmodeller.core      - INFO      - Creating a molecule: H2O\n",
      "14:37:15 - atmodeller.core      - INFO      - Creating a molecule: H2\n",
      "14:37:15 - atmodeller.core      - INFO      - Creating a molecule: O2\n",
      "14:37:15 - atmodeller.core      - INFO      - Creating a molecule: CO\n",
      "14:37:15 - atmodeller.core      - INFO      - Creating a molecule: CO2\n"
     ]
    },
    {
     "name": "stdout",
     "output_type": "stream",
     "text": [
      "Element count: {'H': 2, 'O': 1}\n",
      "Element count: {'H': 2}\n",
      "Element count: {'O': 2}\n",
      "Element count: {'C': 1, 'O': 1}\n",
      "Element count: {'C': 1, 'O': 2}\n"
     ]
    },
    {
     "data": {
      "text/plain": [
       "[Molecule(name='H2O', solubility=<atmodeller.thermodynamics.PeridotiteH2O object at 0x11e929090>, solid_melt_distribution_coefficient=0, elements={'H': 2, 'O': 1}, element_masses={'H': 0.0020158, 'O': 0.0159994}, formation_constants=(0.05817258823529415, -251.80119852941178), molar_mass=0.018015200000000002),\n",
       " Molecule(name='H2', solubility=<atmodeller.thermodynamics.NoSolubility object at 0x11d87d4d0>, solid_melt_distribution_coefficient=0, elements={'H': 2}, element_masses={'H': 0.0020158}, formation_constants=(0, 0), molar_mass=0.0020158),\n",
       " Molecule(name='O2', solubility=<atmodeller.thermodynamics.NoSolubility object at 0x120a52dd0>, solid_melt_distribution_coefficient=0, elements={'O': 2}, element_masses={'O': 0.0319988}, formation_constants=(0, 0), molar_mass=0.0319988),\n",
       " Molecule(name='CO', solubility=<atmodeller.thermodynamics.NoSolubility object at 0x10b3f42d0>, solid_melt_distribution_coefficient=0, elements={'C': 1, 'O': 1}, element_masses={'C': 0.0120107, 'O': 0.0159994}, formation_constants=(-0.08269582352941174, -120.3571470588237), molar_mass=0.0280101),\n",
       " Molecule(name='CO2', solubility=<atmodeller.thermodynamics.BasaltDixonCO2 object at 0x11e919b90>, solid_melt_distribution_coefficient=0, elements={'C': 1, 'O': 2}, element_masses={'C': 0.0120107, 'O': 0.0319988}, formation_constants=(0.0005482647058825124, -397.33434558823564), molar_mass=0.0440095)]"
      ]
     },
     "execution_count": 14,
     "metadata": {},
     "output_type": "execute_result"
    }
   ],
   "source": [
    "molecules: list[Molecule] = []\n",
    "molecules.append(Molecule(name='H2O', solubility=PeridotiteH2O(), solid_melt_distribution_coefficient=0))\n",
    "molecules.append(Molecule(name='H2', solubility=NoSolubility(), solid_melt_distribution_coefficient=0))\n",
    "molecules.append(Molecule(name='O2', solubility=NoSolubility(), solid_melt_distribution_coefficient=0))\n",
    "molecules.append(Molecule(name='CO', solubility=NoSolubility(), solid_melt_distribution_coefficient=0))\n",
    "molecules.append(Molecule(name='CO2', solubility=BasaltDixonCO2(), solid_melt_distribution_coefficient=0))\n",
    "molecules"
   ]
  },
  {
   "attachments": {},
   "cell_type": "markdown",
   "metadata": {},
   "source": [
    "Now we define the constraints, and in this case we want to constrain the total mass of C and H in the system that can partition between the various reservoirs."
   ]
  },
  {
   "cell_type": "code",
   "execution_count": 16,
   "metadata": {},
   "outputs": [],
   "source": [
    "number_of_earth_oceans: float = 1\n",
    "# C/H ratio by mass.\n",
    "ch_ratio: float = 1\n",
    "\n",
    "mass_H: float = number_of_earth_oceans * OCEAN_MOLES * MolarMasses().H2\n",
    "mass_C: float = ch_ratio * mass_H\n",
    "\n",
    "constraints: list[SystemConstraint] = [\n",
    "    SystemConstraint(species=\"H\", value=mass_H, field=\"mass\"),\n",
    "    SystemConstraint(species=\"C\", value=mass_C, field=\"mass\"),\n",
    "]"
   ]
  },
  {
   "attachments": {},
   "cell_type": "markdown",
   "metadata": {},
   "source": [
    "We need to apply one more constraint, which is usually the oxygen fugacity and this can be done directly as before by specifying `fo2_constraint=True`:"
   ]
  },
  {
   "cell_type": "code",
   "execution_count": 17,
   "metadata": {},
   "outputs": [
    {
     "name": "stderr",
     "output_type": "stream",
     "text": [
      "14:37:22 - atmodeller.core      - INFO      - Creating a new planet\n",
      "14:37:22 - atmodeller.core      - INFO      - Mantle mass (kg) = 4.208261222595111e+24\n",
      "14:37:22 - atmodeller.core      - INFO      - Mantle melt fraction = 1.0\n",
      "14:37:22 - atmodeller.core      - INFO      - Core mass fraction = 0.295334691460966\n",
      "14:37:22 - atmodeller.core      - INFO      - Planetary radius (m) = 6371000.0\n",
      "14:37:22 - atmodeller.core      - INFO      - Planetary mass (kg) = 5.972e+24\n",
      "14:37:22 - atmodeller.core      - INFO      - Surface temperature (K) = 2000.000000\n",
      "14:37:22 - atmodeller.core      - INFO      - Surface gravity (m/s^2) = 9.819973426224687\n",
      "14:37:22 - atmodeller.core      - INFO      - Oxygen fugacity model (mantle) = IronWustiteBufferOneill\n",
      "14:37:22 - atmodeller.core      - INFO      - Oxygen fugacity log10 shift = 0.000000\n",
      "14:37:22 - atmodeller.core      - INFO      - Creating a new interior-atmosphere system\n",
      "14:37:22 - atmodeller.core      - INFO      - Molecules = ['CO', 'H2', 'O2', 'CO2', 'H2O']\n",
      "14:37:22 - atmodeller.core      - INFO      - Molecules = ['CO', 'H2', 'O2', 'CO2', 'H2O']\n",
      "14:37:22 - atmodeller.core      - DEBUG     - augmented_matrix = \n",
      "[[0. 1. 1. 1. 0. 0. 0. 0.]\n",
      " [2. 0. 0. 0. 1. 0. 0. 0.]\n",
      " [0. 0. 2. 0. 0. 1. 0. 0.]\n",
      " [0. 1. 2. 0. 0. 0. 1. 0.]\n",
      " [2. 0. 1. 0. 0. 0. 0. 1.]]\n",
      "14:37:22 - atmodeller.core      - DEBUG     - ratio = \n",
      "0.0\n",
      "14:37:22 - atmodeller.core      - DEBUG     - ratio = \n",
      "0.0\n",
      "14:37:22 - atmodeller.core      - DEBUG     - ratio = \n",
      "0.0\n",
      "14:37:22 - atmodeller.core      - DEBUG     - ratio = \n",
      "1.0\n",
      "14:37:22 - atmodeller.core      - DEBUG     - ratio = \n",
      "0.0\n",
      "14:37:22 - atmodeller.core      - DEBUG     - ratio = \n",
      "1.0\n",
      "14:37:22 - atmodeller.core      - DEBUG     - ratio = \n",
      "0.0\n",
      "14:37:22 - atmodeller.core      - DEBUG     - ratio = \n",
      "0.5\n",
      "14:37:22 - atmodeller.core      - DEBUG     - ratio = \n",
      "0.5\n",
      "14:37:22 - atmodeller.core      - DEBUG     - augmented_matrix after forward elimination = \n",
      "[[ 2.   0.   0.   0.   1.   0.   0.   0. ]\n",
      " [ 0.   1.   1.   1.   0.   0.   0.   0. ]\n",
      " [ 0.   0.   2.   0.   0.   1.   0.   0. ]\n",
      " [ 0.   0.   0.  -1.   0.  -0.5  1.   0. ]\n",
      " [ 0.   0.   0.   0.  -1.  -0.5  0.   1. ]]\n",
      "14:37:22 - atmodeller.core      - DEBUG     - augmented_matrix after backward substitution = \n",
      "[[ 1.   0.   0.   0.   0.5  0.   0.   0. ]\n",
      " [ 0.   1.   0.   1.   0.  -0.5  0.   0. ]\n",
      " [ 0.   0.   1.   0.   0.   0.5  0.   0. ]\n",
      " [ 0.   0.   0.  -1.   0.  -0.5  1.   0. ]\n",
      " [ 0.   0.   0.   0.  -1.  -0.5  0.   1. ]]\n",
      "14:37:22 - atmodeller.core      - DEBUG     - reduced_matrix1 = \n",
      "[[1. 0. 0.]\n",
      " [0. 1. 0.]\n",
      " [0. 0. 1.]\n",
      " [0. 0. 0.]\n",
      " [0. 0. 0.]]\n",
      "14:37:22 - atmodeller.core      - DEBUG     - reaction_matrix = \n",
      "[[-1.   0.  -0.5  1.   0. ]\n",
      " [ 0.  -1.  -0.5  0.   1. ]]\n",
      "14:37:22 - atmodeller.core      - INFO      - Reactions = \n",
      "{0: '1.0 CO + 0.5 O2 = 1.0 CO2', 1: '1.0 H2 + 0.5 O2 = 1.0 H2O'}\n",
      "14:37:22 - atmodeller.core      - INFO      - Constraints: [SystemConstraint(species='H', value=1.5499384884020874e+20, field='mass'),\n",
      " SystemConstraint(species='C', value=1.5499384884020874e+20, field='mass')]\n",
      "14:37:22 - atmodeller.core      - INFO      - Mixed pressure and mass constraints so attempting to solve a non-linear system of equations\n",
      "14:37:22 - atmodeller.core      - INFO      - Adding fO2 as an additional constraint using IronWustiteBufferOneill with fO2_shift = 0.00\n",
      "14:37:22 - atmodeller.core      - INFO      - 2 additional (not pressure) constraint(s) are necessary to solve the system\n",
      "14:37:22 - atmodeller.core      - INFO      - Row 00: Reaction 0: 1.0 CO + 0.5 O2 = 1.0 CO2\n",
      "14:37:22 - atmodeller.core      - INFO      - Row 01: Reaction 1: 1.0 H2 + 0.5 O2 = 1.0 H2O\n",
      "14:37:22 - atmodeller.core      - INFO      - Row 02: Setting O2 partial pressure\n",
      "14:37:22 - atmodeller.core      - DEBUG     - Design matrix = \n",
      "[[-1.   0.  -0.5  1.   0. ]\n",
      " [ 0.  -1.  -0.5  0.   1. ]\n",
      " [ 0.   0.   1.   0.   0. ]]\n",
      "14:37:22 - atmodeller.core      - DEBUG     - RHS vector = \n",
      "[ 2.8856208   3.5376792  -7.40782384]\n",
      "14:37:22 - atmodeller.core      - INFO      - Adding constraint from mass balance: H\n",
      "14:37:22 - atmodeller.core      - INFO      - Adding constraint from mass balance: C\n",
      "14:37:22 - atmodeller.core      - DEBUG     - initial_log10_pressures = [1. 1. 1. 1. 1.]\n",
      "14:37:22 - atmodeller.core      - DEBUG     - residual_reaction = [-3.3856208  -4.0376792   8.40782384]\n",
      "14:37:22 - atmodeller.core      - DEBUG     - residual_mass = [ 4.18469875 -0.64172189]\n",
      "14:37:22 - atmodeller.core      - DEBUG     - residual = [-3.3856208  -4.0376792   8.40782384  4.18469875 -0.64172189]\n",
      "14:37:22 - atmodeller.core      - DEBUG     - residual_reaction = [-3.3856208  -4.0376792   8.40782384]\n",
      "14:37:22 - atmodeller.core      - DEBUG     - residual_mass = [ 4.18469875 -0.64172189]\n",
      "14:37:22 - atmodeller.core      - DEBUG     - residual = [-3.3856208  -4.0376792   8.40782384  4.18469875 -0.64172189]\n",
      "14:37:22 - atmodeller.core      - DEBUG     - residual_reaction = [-3.3856208  -4.0376792   8.40782384]\n",
      "14:37:22 - atmodeller.core      - DEBUG     - residual_mass = [ 4.18469875 -0.64172189]\n",
      "14:37:22 - atmodeller.core      - DEBUG     - residual = [-3.3856208  -4.0376792   8.40782384  4.18469875 -0.64172189]\n",
      "14:37:22 - atmodeller.core      - DEBUG     - residual_reaction = [-3.38562082 -4.0376792   8.40782384]\n",
      "14:37:22 - atmodeller.core      - DEBUG     - residual_mass = [ 4.18469875 -0.64172188]\n",
      "14:37:22 - atmodeller.core      - DEBUG     - residual = [-3.38562082 -4.0376792   8.40782384  4.18469875 -0.64172188]\n",
      "14:37:22 - atmodeller.core      - DEBUG     - residual_reaction = [-3.3856208  -4.03767921  8.40782384]\n",
      "14:37:22 - atmodeller.core      - DEBUG     - residual_mass = [ 4.18469875 -0.64172188]\n",
      "14:37:22 - atmodeller.core      - DEBUG     - residual = [-3.3856208  -4.03767921  8.40782384  4.18469875 -0.64172188]\n",
      "14:37:22 - atmodeller.core      - DEBUG     - residual_reaction = [-3.38562081 -4.03767921  8.40782386]\n",
      "14:37:22 - atmodeller.core      - DEBUG     - residual_mass = [ 4.18469875 -0.64172189]\n",
      "14:37:22 - atmodeller.core      - DEBUG     - residual = [-3.38562081 -4.03767921  8.40782386  4.18469875 -0.64172189]\n",
      "14:37:22 - atmodeller.core      - DEBUG     - residual_reaction = [-3.38562079 -4.0376792   8.40782384]\n",
      "14:37:22 - atmodeller.core      - DEBUG     - residual_mass = [ 4.18469875 -0.64172188]\n",
      "14:37:22 - atmodeller.core      - DEBUG     - residual = [-3.38562079 -4.0376792   8.40782384  4.18469875 -0.64172188]\n",
      "14:37:22 - atmodeller.core      - DEBUG     - residual_reaction = [-3.3856208  -4.03767918  8.40782384]\n",
      "14:37:22 - atmodeller.core      - DEBUG     - residual_mass = [ 4.18469884 -0.64172188]\n",
      "14:37:22 - atmodeller.core      - DEBUG     - residual = [-3.3856208  -4.03767918  8.40782384  4.18469884 -0.64172188]\n",
      "14:37:22 - atmodeller.core      - DEBUG     - residual_reaction = [ 7.38431538e-12  8.80540085e-12 -1.83382198e-11]\n",
      "14:37:22 - atmodeller.core      - DEBUG     - residual_mass = [1.29806606 0.46012164]\n",
      "14:37:22 - atmodeller.core      - DEBUG     - residual = [ 7.38431538e-12  8.80540085e-12 -1.83382198e-11  1.29806606e+00\n",
      "  4.60121636e-01]\n",
      "14:37:22 - atmodeller.core      - DEBUG     - residual_reaction = [-3.03312930e-13 -3.61488617e-13  7.53175300e-13]\n",
      "14:37:22 - atmodeller.core      - DEBUG     - residual_mass = [ 0.77132325 -0.64614859]\n",
      "14:37:22 - atmodeller.core      - DEBUG     - residual = [-3.03312930e-13 -3.61488617e-13  7.53175300e-13  7.71323250e-01\n",
      " -6.46148594e-01]\n",
      "14:37:22 - atmodeller.core      - DEBUG     - residual_reaction = [-2.73558953e-13 -3.26405569e-13  6.79456491e-13]\n",
      "14:37:22 - atmodeller.core      - DEBUG     - residual_mass = [0.53850963 1.47287112]\n",
      "14:37:22 - atmodeller.core      - DEBUG     - residual = [-2.73558953e-13 -3.26405569e-13  6.79456491e-13  5.38509630e-01\n",
      "  1.47287112e+00]\n",
      "14:37:22 - atmodeller.core      - DEBUG     - residual_reaction = [-2.48689958e-14 -2.97539771e-14  6.12843110e-14]\n",
      "14:37:22 - atmodeller.core      - DEBUG     - residual_mass = [ 0.21191139 -0.52914544]\n",
      "14:37:22 - atmodeller.core      - DEBUG     - residual = [-2.48689958e-14 -2.97539771e-14  6.12843110e-14  2.11911390e-01\n",
      " -5.29145445e-01]\n",
      "14:37:22 - atmodeller.core      - DEBUG     - residual_reaction = [ 3.10862447e-15  3.10862447e-15 -7.10542736e-15]\n",
      "14:37:22 - atmodeller.core      - DEBUG     - residual_mass = [ 0.03743794 -0.12964628]\n",
      "14:37:22 - atmodeller.core      - DEBUG     - residual = [ 3.10862447e-15  3.10862447e-15 -7.10542736e-15  3.74379361e-02\n",
      " -1.29646281e-01]\n",
      "14:37:22 - atmodeller.core      - DEBUG     - residual_reaction = [ 4.4408921e-16  8.8817842e-16 -8.8817842e-16]\n",
      "14:37:22 - atmodeller.core      - DEBUG     - residual_mass = [0.00164659 0.04434319]\n",
      "14:37:22 - atmodeller.core      - DEBUG     - residual = [ 4.44089210e-16  8.88178420e-16 -8.88178420e-16  1.64658794e-03\n",
      "  4.43431944e-02]\n",
      "14:37:22 - atmodeller.core      - DEBUG     - residual_reaction = [-4.4408921e-16 -4.4408921e-16  8.8817842e-16]\n",
      "14:37:22 - atmodeller.core      - DEBUG     - residual_mass = [ 0.00207924 -0.00045666]\n",
      "14:37:22 - atmodeller.core      - DEBUG     - residual = [-4.44089210e-16 -4.44089210e-16  8.88178420e-16  2.07923888e-03\n",
      " -4.56663325e-04]\n",
      "14:37:22 - atmodeller.core      - DEBUG     - residual_reaction = [0. 0. 0.]\n",
      "14:37:22 - atmodeller.core      - DEBUG     - residual_mass = [0.00048981 0.00046929]\n",
      "14:37:22 - atmodeller.core      - DEBUG     - residual = [0.         0.         0.         0.00048981 0.00046929]\n"
     ]
    },
    {
     "name": "stdout",
     "output_type": "stream",
     "text": [
      "['H', 'C', 'O']\n"
     ]
    },
    {
     "name": "stderr",
     "output_type": "stream",
     "text": [
      "14:37:22 - atmodeller.core      - DEBUG     - residual_reaction = [ 0.0000000e+00 -4.4408921e-16  0.0000000e+00]\n",
      "14:37:22 - atmodeller.core      - DEBUG     - residual_mass = [4.78044480e-06 2.01684767e-05]\n",
      "14:37:22 - atmodeller.core      - DEBUG     - residual = [ 0.00000000e+00 -4.44089210e-16  0.00000000e+00  4.78044480e-06\n",
      "  2.01684767e-05]\n",
      "14:37:22 - atmodeller.core      - DEBUG     - residual_reaction = [0.0000000e+00 4.4408921e-16 0.0000000e+00]\n",
      "14:37:22 - atmodeller.core      - DEBUG     - residual_mass = [8.90974233e-08 4.18447901e-07]\n",
      "14:37:22 - atmodeller.core      - DEBUG     - residual = [0.00000000e+00 4.44089210e-16 0.00000000e+00 8.90974233e-08\n",
      " 4.18447901e-07]\n",
      "14:37:22 - atmodeller.core      - DEBUG     - residual_reaction = [0. 0. 0.]\n",
      "14:37:22 - atmodeller.core      - DEBUG     - residual_mass = [2.05857168e-10 9.82318766e-10]\n",
      "14:37:22 - atmodeller.core      - DEBUG     - residual = [0.00000000e+00 0.00000000e+00 0.00000000e+00 2.05857168e-10\n",
      " 9.82318766e-10]\n",
      "14:37:22 - atmodeller.core      - DEBUG     - residual_reaction = [0. 0. 0.]\n",
      "14:37:22 - atmodeller.core      - DEBUG     - residual_mass = [7.20924610e-14 3.42492043e-13]\n",
      "14:37:22 - atmodeller.core      - DEBUG     - residual = [0.00000000e+00 0.00000000e+00 0.00000000e+00 7.20924610e-14\n",
      " 3.42492043e-13]\n",
      "14:37:23 - atmodeller.core      - INFO      - The solution converged.\n",
      "14:37:23 - atmodeller.core      - INFO      - Number of function calls = 18\n",
      "14:37:23 - atmodeller.core      - INFO      - Final objective function evaluation = [0.00000000e+00 0.00000000e+00 0.00000000e+00 7.20924610e-14\n",
      " 3.42492043e-13]\n",
      "14:37:23 - atmodeller.core      - INFO      - {'CO': 62.30341145750454,\n",
      " 'CO2': 9.46718162781583,\n",
      " 'H2': 0.5547795429001989,\n",
      " 'H2O': 0.378344754346716,\n",
      " 'O2': 3.9099946023954954e-08}\n"
     ]
    },
    {
     "data": {
      "text/plain": [
       "{'CO': 62.30341145750454,\n",
       " 'H2': 0.5547795429001989,\n",
       " 'O2': 3.9099946023954954e-08,\n",
       " 'CO2': 9.46718162781583,\n",
       " 'H2O': 0.378344754346716}"
      ]
     },
     "execution_count": 17,
     "metadata": {},
     "output_type": "execute_result"
    }
   ],
   "source": [
    "interior_atmosphere: InteriorAtmosphereSystem = InteriorAtmosphereSystem(molecules=molecules)\n",
    "interior_atmosphere.solve(constraints, fo2_constraint=True)\n",
    "interior_atmosphere.pressures_dict"
   ]
  },
  {
   "attachments": {},
   "cell_type": "markdown",
   "metadata": {},
   "source": [
    "### 4. Including more species such as CH4\n",
    "\n",
    "It is straightforward to add more species to the system, although they must have their formation energies and masses already specified in the code."
   ]
  },
  {
   "cell_type": "code",
   "execution_count": 18,
   "metadata": {},
   "outputs": [
    {
     "name": "stderr",
     "output_type": "stream",
     "text": [
      "14:37:49 - atmodeller.core      - INFO      - Creating a molecule: H2O\n",
      "14:37:49 - atmodeller.core      - INFO      - Creating a molecule: H2\n",
      "14:37:49 - atmodeller.core      - INFO      - Creating a molecule: O2\n",
      "14:37:49 - atmodeller.core      - INFO      - Creating a molecule: CO\n",
      "14:37:49 - atmodeller.core      - INFO      - Creating a molecule: CO2\n",
      "14:37:49 - atmodeller.core      - INFO      - Creating a molecule: CH4\n"
     ]
    },
    {
     "name": "stdout",
     "output_type": "stream",
     "text": [
      "Element count: {'H': 2, 'O': 1}\n",
      "Element count: {'H': 2}\n",
      "Element count: {'O': 2}\n",
      "Element count: {'C': 1, 'O': 1}\n",
      "Element count: {'C': 1, 'O': 2}\n",
      "Element count: {'C': 1, 'H': 4}\n"
     ]
    },
    {
     "data": {
      "text/plain": [
       "[Molecule(name='H2O', solubility=<atmodeller.thermodynamics.PeridotiteH2O object at 0x120a5ea50>, solid_melt_distribution_coefficient=0, elements={'H': 2, 'O': 1}, element_masses={'H': 0.0020158, 'O': 0.0159994}, formation_constants=(0.05817258823529415, -251.80119852941178), molar_mass=0.018015200000000002),\n",
       " Molecule(name='H2', solubility=<atmodeller.thermodynamics.NoSolubility object at 0x10b3e3590>, solid_melt_distribution_coefficient=0, elements={'H': 2}, element_masses={'H': 0.0020158}, formation_constants=(0, 0), molar_mass=0.0020158),\n",
       " Molecule(name='O2', solubility=<atmodeller.thermodynamics.NoSolubility object at 0x10b52f510>, solid_melt_distribution_coefficient=0, elements={'O': 2}, element_masses={'O': 0.0319988}, formation_constants=(0, 0), molar_mass=0.0319988),\n",
       " Molecule(name='CO', solubility=<atmodeller.thermodynamics.NoSolubility object at 0x120a52790>, solid_melt_distribution_coefficient=0, elements={'C': 1, 'O': 1}, element_masses={'C': 0.0120107, 'O': 0.0159994}, formation_constants=(-0.08269582352941174, -120.3571470588237), molar_mass=0.0280101),\n",
       " Molecule(name='CO2', solubility=<atmodeller.thermodynamics.BasaltDixonCO2 object at 0x10ae42d10>, solid_melt_distribution_coefficient=0, elements={'C': 1, 'O': 2}, element_masses={'C': 0.0120107, 'O': 0.0319988}, formation_constants=(0.0005482647058825124, -397.33434558823564), molar_mass=0.0440095),\n",
       " Molecule(name='CH4', solubility=<atmodeller.thermodynamics.NoSolubility object at 0x11e923450>, solid_melt_distribution_coefficient=0, elements={'C': 1, 'H': 4}, element_masses={'C': 0.0120107, 'H': 0.0040316}, formation_constants=(0.11162272058823527, -92.46793382352928), molar_mass=0.0160423)]"
      ]
     },
     "execution_count": 18,
     "metadata": {},
     "output_type": "execute_result"
    }
   ],
   "source": [
    "molecules: list[Molecule] = []\n",
    "molecules.append(Molecule(name='H2O', solubility=PeridotiteH2O(), solid_melt_distribution_coefficient=0))\n",
    "molecules.append(Molecule(name='H2', solubility=NoSolubility(), solid_melt_distribution_coefficient=0))\n",
    "molecules.append(Molecule(name='O2', solubility=NoSolubility(), solid_melt_distribution_coefficient=0))\n",
    "molecules.append(Molecule(name='CO', solubility=NoSolubility(), solid_melt_distribution_coefficient=0))\n",
    "molecules.append(Molecule(name='CO2', solubility=BasaltDixonCO2(), solid_melt_distribution_coefficient=0))\n",
    "molecules.append(Molecule(name='CH4', solubility=NoSolubility(), solid_melt_distribution_coefficient=0))\n",
    "molecules"
   ]
  },
  {
   "attachments": {},
   "cell_type": "markdown",
   "metadata": {},
   "source": [
    "We define a mixture of mass and oxygen fugacity constraints as before and solve the system. CH4 is not prevalent at 2000 K so the results are almost identical to those without CH4 presented above."
   ]
  },
  {
   "cell_type": "code",
   "execution_count": 20,
   "metadata": {},
   "outputs": [
    {
     "name": "stderr",
     "output_type": "stream",
     "text": [
      "14:37:57 - atmodeller.core      - INFO      - Creating a new planet\n",
      "14:37:57 - atmodeller.core      - INFO      - Mantle mass (kg) = 4.208261222595111e+24\n",
      "14:37:57 - atmodeller.core      - INFO      - Mantle melt fraction = 1.0\n",
      "14:37:57 - atmodeller.core      - INFO      - Core mass fraction = 0.295334691460966\n",
      "14:37:57 - atmodeller.core      - INFO      - Planetary radius (m) = 6371000.0\n",
      "14:37:57 - atmodeller.core      - INFO      - Planetary mass (kg) = 5.972e+24\n",
      "14:37:57 - atmodeller.core      - INFO      - Surface temperature (K) = 2000.000000\n",
      "14:37:57 - atmodeller.core      - INFO      - Surface gravity (m/s^2) = 9.819973426224687\n",
      "14:37:57 - atmodeller.core      - INFO      - Oxygen fugacity model (mantle) = IronWustiteBufferOneill\n",
      "14:37:57 - atmodeller.core      - INFO      - Oxygen fugacity log10 shift = 0.000000\n",
      "14:37:57 - atmodeller.core      - INFO      - Creating a new interior-atmosphere system\n",
      "14:37:57 - atmodeller.core      - INFO      - Molecules = ['CO', 'H2', 'O2', 'CO2', 'H2O', 'CH4']\n",
      "14:37:57 - atmodeller.core      - INFO      - Molecules = ['CO', 'H2', 'O2', 'CO2', 'H2O', 'CH4']\n",
      "14:37:57 - atmodeller.core      - DEBUG     - augmented_matrix = \n",
      "[[0. 1. 1. 1. 0. 0. 0. 0. 0.]\n",
      " [2. 0. 0. 0. 1. 0. 0. 0. 0.]\n",
      " [0. 0. 2. 0. 0. 1. 0. 0. 0.]\n",
      " [0. 1. 2. 0. 0. 0. 1. 0. 0.]\n",
      " [2. 0. 1. 0. 0. 0. 0. 1. 0.]\n",
      " [4. 1. 0. 0. 0. 0. 0. 0. 1.]]\n",
      "14:37:57 - atmodeller.core      - DEBUG     - ratio = \n",
      "0.0\n",
      "14:37:57 - atmodeller.core      - DEBUG     - ratio = \n",
      "0.0\n",
      "14:37:57 - atmodeller.core      - DEBUG     - ratio = \n",
      "0.0\n",
      "14:37:57 - atmodeller.core      - DEBUG     - ratio = \n",
      "1.0\n",
      "14:37:57 - atmodeller.core      - DEBUG     - ratio = \n",
      "2.0\n",
      "14:37:57 - atmodeller.core      - DEBUG     - ratio = \n",
      "0.0\n",
      "14:37:57 - atmodeller.core      - DEBUG     - ratio = \n",
      "1.0\n",
      "14:37:57 - atmodeller.core      - DEBUG     - ratio = \n",
      "0.0\n",
      "14:37:57 - atmodeller.core      - DEBUG     - ratio = \n",
      "1.0\n",
      "14:37:57 - atmodeller.core      - DEBUG     - ratio = \n",
      "0.5\n",
      "14:37:57 - atmodeller.core      - DEBUG     - ratio = \n",
      "0.5\n",
      "14:37:57 - atmodeller.core      - DEBUG     - ratio = \n",
      "-0.5\n",
      "14:37:57 - atmodeller.core      - DEBUG     - augmented_matrix after forward elimination = \n",
      "[[ 2.   0.   0.   0.   1.   0.   0.   0.   0. ]\n",
      " [ 0.   1.   1.   1.   0.   0.   0.   0.   0. ]\n",
      " [ 0.   0.   2.   0.   0.   1.   0.   0.   0. ]\n",
      " [ 0.   0.   0.  -1.   0.  -0.5  1.   0.   0. ]\n",
      " [ 0.   0.   0.   0.  -1.  -0.5  0.   1.   0. ]\n",
      " [ 0.   0.   0.  -1.  -2.   0.5  0.   0.   1. ]]\n",
      "14:37:57 - atmodeller.core      - DEBUG     - augmented_matrix after backward substitution = \n",
      "[[ 1.   0.   0.   0.   0.5  0.   0.   0.   0. ]\n",
      " [ 0.   1.   0.   1.   0.  -0.5  0.   0.   0. ]\n",
      " [ 0.   0.   1.   0.   0.   0.5  0.   0.   0. ]\n",
      " [ 0.   0.   0.  -1.   0.  -0.5  1.   0.   0. ]\n",
      " [ 0.   0.   0.   0.  -1.  -0.5  0.   1.   0. ]\n",
      " [ 0.   0.   0.  -1.  -2.   0.5  0.   0.   1. ]]\n",
      "14:37:57 - atmodeller.core      - DEBUG     - reduced_matrix1 = \n",
      "[[1. 0. 0.]\n",
      " [0. 1. 0.]\n",
      " [0. 0. 1.]\n",
      " [0. 0. 0.]\n",
      " [0. 0. 0.]\n",
      " [0. 0. 0.]]\n",
      "14:37:57 - atmodeller.core      - DEBUG     - reaction_matrix = \n",
      "[[-1.   0.  -0.5  1.   0.   0. ]\n",
      " [ 0.  -1.  -0.5  0.   1.   0. ]\n",
      " [-1.  -2.   0.5  0.   0.   1. ]]\n",
      "14:37:57 - atmodeller.core      - INFO      - Reactions = \n",
      "{0: '1.0 CO + 0.5 O2 = 1.0 CO2',\n",
      " 1: '1.0 H2 + 0.5 O2 = 1.0 H2O',\n",
      " 2: '1.0 CO + 2.0 H2 = 0.5 O2 + 1.0 CH4'}\n",
      "14:37:57 - atmodeller.core      - INFO      - Constraints: [SystemConstraint(species='H', value=1.5499384884020874e+20, field='mass'),\n",
      " SystemConstraint(species='C', value=1.5499384884020874e+20, field='mass')]\n",
      "14:37:57 - atmodeller.core      - INFO      - Mixed pressure and mass constraints so attempting to solve a non-linear system of equations\n",
      "14:37:57 - atmodeller.core      - INFO      - Adding fO2 as an additional constraint using IronWustiteBufferOneill with fO2_shift = 0.00\n",
      "14:37:57 - atmodeller.core      - INFO      - 2 additional (not pressure) constraint(s) are necessary to solve the system\n",
      "14:37:57 - atmodeller.core      - INFO      - Row 00: Reaction 0: 1.0 CO + 0.5 O2 = 1.0 CO2\n",
      "14:37:57 - atmodeller.core      - INFO      - Row 01: Reaction 1: 1.0 H2 + 0.5 O2 = 1.0 H2O\n",
      "14:37:57 - atmodeller.core      - INFO      - Row 02: Reaction 2: 1.0 CO + 2.0 H2 = 0.5 O2 + 1.0 CH4\n",
      "14:37:57 - atmodeller.core      - INFO      - Row 03: Setting O2 partial pressure\n",
      "14:37:57 - atmodeller.core      - DEBUG     - Design matrix = \n",
      "[[-1.   0.  -0.5  1.   0.   0. ]\n",
      " [ 0.  -1.  -0.5  0.   1.   0. ]\n",
      " [-1.  -2.   0.5  0.   0.   1. ]\n",
      " [ 0.   0.   1.   0.   0.   0. ]]\n",
      "14:37:57 - atmodeller.core      - DEBUG     - RHS vector = \n",
      "[  2.8856208    3.5376792  -10.8783383   -7.40782384]\n",
      "14:37:57 - atmodeller.core      - INFO      - Adding constraint from mass balance: H\n",
      "14:37:57 - atmodeller.core      - INFO      - Adding constraint from mass balance: C\n",
      "14:37:57 - atmodeller.core      - DEBUG     - initial_log10_pressures = [1. 1. 1. 1. 1. 1.]\n",
      "14:37:57 - atmodeller.core      - DEBUG     - residual_reaction = [-3.3856208  -4.0376792   9.3783383   8.40782384]\n",
      "14:37:57 - atmodeller.core      - DEBUG     - residual_mass = [ 4.245972   -0.44902692]\n",
      "14:37:57 - atmodeller.core      - DEBUG     - residual = [-3.3856208  -4.0376792   9.3783383   8.40782384  4.245972   -0.44902692]\n",
      "14:37:57 - atmodeller.core      - DEBUG     - residual_reaction = [-3.3856208  -4.0376792   9.3783383   8.40782384]\n",
      "14:37:57 - atmodeller.core      - DEBUG     - residual_mass = [ 4.245972   -0.44902692]\n",
      "14:37:57 - atmodeller.core      - DEBUG     - residual = [-3.3856208  -4.0376792   9.3783383   8.40782384  4.245972   -0.44902692]\n",
      "14:37:57 - atmodeller.core      - DEBUG     - residual_reaction = [-3.3856208  -4.0376792   9.3783383   8.40782384]\n",
      "14:37:57 - atmodeller.core      - DEBUG     - residual_mass = [ 4.245972   -0.44902692]\n",
      "14:37:57 - atmodeller.core      - DEBUG     - residual = [-3.3856208  -4.0376792   9.3783383   8.40782384  4.245972   -0.44902692]\n",
      "14:37:57 - atmodeller.core      - DEBUG     - residual_reaction = [-3.38562082 -4.0376792   9.37833829  8.40782384]\n",
      "14:37:57 - atmodeller.core      - DEBUG     - residual_mass = [ 4.245972   -0.44902692]\n",
      "14:37:57 - atmodeller.core      - DEBUG     - residual = [-3.38562082 -4.0376792   9.37833829  8.40782384  4.245972   -0.44902692]\n",
      "14:37:57 - atmodeller.core      - DEBUG     - residual_reaction = [-3.3856208  -4.03767921  9.37833827  8.40782384]\n",
      "14:37:57 - atmodeller.core      - DEBUG     - residual_mass = [ 4.245972   -0.44902692]\n",
      "14:37:57 - atmodeller.core      - DEBUG     - residual = [-3.3856208  -4.03767921  9.37833827  8.40782384  4.245972   -0.44902692]\n",
      "14:37:57 - atmodeller.core      - DEBUG     - residual_reaction = [-3.38562081 -4.03767921  9.37833831  8.40782386]\n",
      "14:37:57 - atmodeller.core      - DEBUG     - residual_mass = [ 4.245972   -0.44902692]\n",
      "14:37:57 - atmodeller.core      - DEBUG     - residual = [-3.38562081 -4.03767921  9.37833831  8.40782386  4.245972   -0.44902692]\n",
      "14:37:57 - atmodeller.core      - DEBUG     - residual_reaction = [-3.38562079 -4.0376792   9.3783383   8.40782384]\n",
      "14:37:57 - atmodeller.core      - DEBUG     - residual_mass = [ 4.24597199 -0.44902692]\n",
      "14:37:57 - atmodeller.core      - DEBUG     - residual = [-3.38562079 -4.0376792   9.3783383   8.40782384  4.24597199 -0.44902692]\n",
      "14:37:57 - atmodeller.core      - DEBUG     - residual_reaction = [-3.3856208  -4.03767918  9.3783383   8.40782384]\n",
      "14:37:57 - atmodeller.core      - DEBUG     - residual_mass = [ 4.24597208 -0.44902692]\n",
      "14:37:57 - atmodeller.core      - DEBUG     - residual = [-3.3856208  -4.03767918  9.3783383   8.40782384  4.24597208 -0.44902692]\n",
      "14:37:57 - atmodeller.core      - DEBUG     - residual_reaction = [-3.3856208  -4.0376792   9.37833832  8.40782384]\n",
      "14:37:57 - atmodeller.core      - DEBUG     - residual_mass = [ 4.245972   -0.44902692]\n",
      "14:37:57 - atmodeller.core      - DEBUG     - residual = [-3.3856208  -4.0376792   9.37833832  8.40782384  4.245972   -0.44902692]\n",
      "14:37:57 - atmodeller.core      - DEBUG     - residual_reaction = [ 7.38431538e-12  8.80628903e-12 -2.04547490e-11 -1.83382198e-11]\n",
      "14:37:57 - atmodeller.core      - DEBUG     - residual_mass = [ 1.51317159 73.9566177 ]\n",
      "14:37:57 - atmodeller.core      - DEBUG     - residual = [ 7.38431538e-12  8.80628903e-12 -2.04547490e-11 -1.83382198e-11\n",
      "  1.51317159e+00  7.39566177e+01]\n",
      "14:37:57 - atmodeller.core      - DEBUG     - residual_reaction = [-2.80392036 -3.50605134  7.54251812  7.07811905]\n",
      "14:37:57 - atmodeller.core      - DEBUG     - residual_mass = [ 3.95010788 -0.99813362]\n",
      "14:37:57 - atmodeller.core      - DEBUG     - residual = [-2.80392036 -3.50605134  7.54251812  7.07811905  3.95010788 -0.99813362]\n",
      "14:37:57 - atmodeller.core      - DEBUG     - residual_reaction = [-1.64145172 -2.15484167  4.30540209  4.22393363]\n",
      "14:37:57 - atmodeller.core      - DEBUG     - residual_mass = [ 2.59148465 -0.99999999]\n",
      "14:37:57 - atmodeller.core      - DEBUG     - residual = [-1.64145172 -2.15484167  4.30540209  4.22393363  2.59148465 -0.99999999]\n",
      "14:37:57 - atmodeller.core      - DEBUG     - residual_reaction = [-2.96651592e-13  1.92290628e-13  1.38200562e-12  2.95763414e-13]\n",
      "14:37:57 - atmodeller.core      - DEBUG     - residual_mass = [ 0.97527023 -1.        ]\n",
      "14:37:57 - atmodeller.core      - DEBUG     - residual = [-2.96651592e-13  1.92290628e-13  1.38200562e-12  2.95763414e-13\n",
      "  9.75270225e-01 -1.00000000e+00]\n",
      "14:37:57 - atmodeller.core      - DEBUG     - residual_reaction = [-2.39808173e-13 -3.12638804e-13  6.39488462e-13  6.18172180e-13]\n",
      "14:37:57 - atmodeller.core      - DEBUG     - residual_mass = [ 0.62091354 -1.        ]\n",
      "14:37:57 - atmodeller.core      - DEBUG     - residual = [-2.39808173e-13 -3.12638804e-13  6.39488462e-13  6.18172180e-13\n",
      "  6.20913540e-01 -1.00000000e+00]\n",
      "14:37:57 - atmodeller.core      - DEBUG     - residual_reaction = [-5.15143483e-14 -5.37347944e-14  1.36779477e-13  1.17239551e-13]\n",
      "14:37:57 - atmodeller.core      - DEBUG     - residual_mass = [ 0.22349569 -1.        ]\n",
      "14:37:57 - atmodeller.core      - DEBUG     - residual = [-5.15143483e-14 -5.37347944e-14  1.36779477e-13  1.17239551e-13\n",
      "  2.23495694e-01 -1.00000000e+00]\n",
      "14:37:57 - atmodeller.core      - DEBUG     - residual_reaction = [-4.79616347e-14 -5.37347944e-14  1.38555833e-13  1.16351373e-13]\n",
      "14:37:57 - atmodeller.core      - DEBUG     - residual_mass = [ 0.13988361 -1.        ]\n",
      "14:37:57 - atmodeller.core      - DEBUG     - residual = [-4.79616347e-14 -5.37347944e-14  1.38555833e-13  1.16351373e-13\n",
      "  1.39883612e-01 -1.00000000e+00]\n",
      "14:37:57 - atmodeller.core      - DEBUG     - residual_reaction = [-4.79616347e-14 -5.37347944e-14  1.38555833e-13  1.17239551e-13]\n",
      "14:37:57 - atmodeller.core      - DEBUG     - residual_mass = [ 0.11321409 -1.        ]\n",
      "14:37:57 - atmodeller.core      - DEBUG     - residual = [-4.79616347e-14 -5.37347944e-14  1.38555833e-13  1.17239551e-13\n",
      "  1.13214094e-01 -1.00000000e+00]\n",
      "14:37:57 - atmodeller.core      - DEBUG     - residual_reaction = [-2.13291310e-07 -5.37347944e-14 -2.13291122e-07  1.17239551e-13]\n",
      "14:37:57 - atmodeller.core      - DEBUG     - residual_mass = [ 0.11321409 -1.        ]\n",
      "14:37:57 - atmodeller.core      - DEBUG     - residual = [-2.13291310e-07 -5.37347944e-14 -2.13291122e-07  1.17239551e-13\n",
      "  1.13214094e-01 -1.00000000e+00]\n",
      "14:37:57 - atmodeller.core      - DEBUG     - residual_reaction = [-4.79616347e-14 -2.50339349e-09 -5.00654096e-09  1.17239551e-13]\n",
      "14:37:57 - atmodeller.core      - DEBUG     - residual_mass = [ 0.11321409 -1.        ]\n",
      "14:37:57 - atmodeller.core      - DEBUG     - residual = [-4.79616347e-14 -2.50339349e-09 -5.00654096e-09  1.17239551e-13\n",
      "  1.13214094e-01 -1.00000000e+00]\n",
      "14:37:57 - atmodeller.core      - DEBUG     - residual_reaction = [-5.51926380e-08 -5.51926420e-08  5.51927286e-08  1.10385295e-07]\n",
      "14:37:57 - atmodeller.core      - DEBUG     - residual_mass = [ 0.11321409 -1.        ]\n",
      "14:37:57 - atmodeller.core      - DEBUG     - residual = [-5.51926380e-08 -5.51926420e-08  5.51927286e-08  1.10385295e-07\n",
      "  1.13214094e-01 -1.00000000e+00]\n",
      "14:37:57 - atmodeller.core      - DEBUG     - residual_reaction = [ 2.25484699e-07 -5.37347944e-14  1.38555833e-13  1.17239551e-13]\n",
      "14:37:57 - atmodeller.core      - DEBUG     - residual_mass = [ 0.11321409 -1.        ]\n",
      "14:37:57 - atmodeller.core      - DEBUG     - residual = [ 2.25484699e-07 -5.37347944e-14  1.38555833e-13  1.17239551e-13\n",
      "  1.13214094e-01 -1.00000000e+00]\n",
      "14:37:57 - atmodeller.core      - DEBUG     - residual_reaction = [-4.79616347e-14  4.98034680e-09  1.38555833e-13  1.17239551e-13]\n",
      "14:37:57 - atmodeller.core      - DEBUG     - residual_mass = [ 0.1132141 -1.       ]\n",
      "14:37:57 - atmodeller.core      - DEBUG     - residual = [-4.79616347e-14  4.98034680e-09  1.38555833e-13  1.17239551e-13\n",
      "  1.13214101e-01 -1.00000000e+00]\n",
      "14:37:57 - atmodeller.core      - DEBUG     - residual_reaction = [-4.79616347e-14 -5.37347944e-14  3.25205363e-07  1.17239551e-13]\n",
      "14:37:57 - atmodeller.core      - DEBUG     - residual_mass = [ 0.11321409 -1.        ]\n",
      "14:37:57 - atmodeller.core      - DEBUG     - residual = [-4.79616347e-14 -5.37347944e-14  3.25205363e-07  1.17239551e-13\n",
      "  1.13214094e-01 -1.00000000e+00]\n",
      "14:37:57 - atmodeller.core      - DEBUG     - residual_reaction = [ 5.48558940e-08 -5.14661523e-02  1.48135670e-02 -1.92024174e-12]\n",
      "14:37:57 - atmodeller.core      - DEBUG     - residual_mass = [ 0.04077546 -1.        ]\n",
      "14:37:57 - atmodeller.core      - DEBUG     - residual = [ 5.48558940e-08 -5.14661523e-02  1.48135670e-02 -1.92024174e-12\n",
      "  4.07754579e-02 -1.00000000e+00]\n"
     ]
    },
    {
     "name": "stdout",
     "output_type": "stream",
     "text": [
      "['H', 'C', 'O']\n"
     ]
    },
    {
     "name": "stderr",
     "output_type": "stream",
     "text": [
      "14:37:57 - atmodeller.core      - DEBUG     - residual_reaction = [ 0.00267714 -0.03639737 -0.00617217 -0.02041079]\n",
      "14:37:57 - atmodeller.core      - DEBUG     - residual_mass = [ 0.03184529 -0.98628802]\n",
      "14:37:57 - atmodeller.core      - DEBUG     - residual = [ 0.00267714 -0.03639737 -0.00617217 -0.02041079  0.03184529 -0.98628802]\n",
      "14:37:57 - atmodeller.core      - DEBUG     - residual_reaction = [ 0.00093969 -0.0305826   0.01132475 -0.01751651]\n",
      "14:37:57 - atmodeller.core      - DEBUG     - residual_mass = [2.39295445e+08 2.75593864e+16]\n",
      "14:37:57 - atmodeller.core      - DEBUG     - residual = [ 9.39688414e-04 -3.05825972e-02  1.13247455e-02 -1.75165071e-02\n",
      "  2.39295445e+08  2.75593864e+16]\n",
      "14:37:57 - atmodeller.core      - DEBUG     - residual_reaction = [ 6.96790181e-10  3.63255381e-09  6.82146073e-09 -5.09690068e-11]\n",
      "14:37:57 - atmodeller.core      - DEBUG     - residual_mass = [ 0.00315842 -0.98615992]\n",
      "14:37:57 - atmodeller.core      - DEBUG     - residual = [ 6.96790181e-10  3.63255381e-09  6.82146073e-09 -5.09690068e-11\n",
      "  3.15841614e-03 -9.86159919e-01]\n",
      "14:37:57 - atmodeller.core      - DEBUG     - residual_reaction = [-3.96547684e-09  3.63255381e-09  2.15919549e-09 -5.09690068e-11]\n",
      "14:37:57 - atmodeller.core      - DEBUG     - residual_mass = [ 0.00315842 -0.98615992]\n",
      "14:37:57 - atmodeller.core      - DEBUG     - residual = [-3.96547684e-09  3.63255381e-09  2.15919549e-09 -5.09690068e-11\n",
      "  3.15841613e-03 -9.86159919e-01]\n",
      "14:37:57 - atmodeller.core      - DEBUG     - residual_reaction = [ 6.96790181e-10 -1.61397118e-10 -7.66439356e-10 -5.09690068e-11]\n",
      "14:37:57 - atmodeller.core      - DEBUG     - residual_mass = [ 0.00315842 -0.98615992]\n",
      "14:37:57 - atmodeller.core      - DEBUG     - residual = [ 6.96790181e-10 -1.61397118e-10 -7.66439356e-10 -5.09690068e-11\n",
      "  3.15841617e-03 -9.86159919e-01]\n",
      "14:37:57 - atmodeller.core      - DEBUG     - residual_reaction = [-5.44957990e-08 -5.15600349e-08  6.20140508e-08  1.10334208e-07]\n",
      "14:37:57 - atmodeller.core      - DEBUG     - residual_mass = [ 0.00315842 -0.98615992]\n",
      "14:37:57 - atmodeller.core      - DEBUG     - residual = [-5.44957990e-08 -5.15600349e-08  6.20140508e-08  1.10334208e-07\n",
      "  3.15841614e-03 -9.86159919e-01]\n",
      "14:37:57 - atmodeller.core      - DEBUG     - residual_reaction = [ 1.75525443e-08  3.63255381e-09  6.82146073e-09 -5.09690068e-11]\n",
      "14:37:57 - atmodeller.core      - DEBUG     - residual_mass = [ 0.00315842 -0.98615992]\n",
      "14:37:57 - atmodeller.core      - DEBUG     - residual = [ 1.75525443e-08  3.63255381e-09  6.82146073e-09 -5.09690068e-11\n",
      "  3.15841613e-03 -9.86159919e-01]\n",
      "14:37:57 - atmodeller.core      - DEBUG     - residual_reaction = [ 6.96790181e-10  9.90356552e-09  6.82146073e-09 -5.09690068e-11]\n",
      "14:37:57 - atmodeller.core      - DEBUG     - residual_mass = [ 0.00315842 -0.98615992]\n",
      "14:37:57 - atmodeller.core      - DEBUG     - residual = [ 6.96790181e-10  9.90356552e-09  6.82146073e-09 -5.09690068e-11\n",
      "  3.15842337e-03 -9.86159919e-01]\n",
      "14:37:57 - atmodeller.core      - DEBUG     - residual_reaction = [ 6.96790181e-10  3.63255381e-09  1.25978914e-07 -5.09690068e-11]\n",
      "14:37:57 - atmodeller.core      - DEBUG     - residual_mass = [ 0.00315842 -0.98615992]\n",
      "14:37:57 - atmodeller.core      - DEBUG     - residual = [ 6.96790181e-10  3.63255381e-09  1.25978914e-07 -5.09690068e-11\n",
      "  3.15841614e-03 -9.86159919e-01]\n",
      "14:37:57 - atmodeller.core      - DEBUG     - residual_reaction = [-5.88542920e-03 -1.67761927e-03 -1.06035892e-02 -1.48474832e-09]\n",
      "14:37:57 - atmodeller.core      - DEBUG     - residual_mass = [1.34394452e-02 3.39967812e+02]\n",
      "14:37:57 - atmodeller.core      - DEBUG     - residual = [-5.88542920e-03 -1.67761927e-03 -1.06035892e-02 -1.48474832e-09\n",
      "  1.34394452e-02  3.39967812e+02]\n",
      "14:37:57 - atmodeller.core      - DEBUG     - residual_reaction = [1.16749277e-10 1.63711711e-10 1.04330589e-09 0.00000000e+00]\n",
      "14:37:57 - atmodeller.core      - DEBUG     - residual_mass = [-2.54380849e-05 -9.85846865e-01]\n",
      "14:37:57 - atmodeller.core      - DEBUG     - residual = [ 1.16749277e-10  1.63711711e-10  1.04330589e-09  0.00000000e+00\n",
      " -2.54380849e-05 -9.85846865e-01]\n",
      "14:37:57 - atmodeller.core      - DEBUG     - residual_reaction = [-2.76296763e-10 -3.85749654e-10 -2.44300402e-09  0.00000000e+00]\n",
      "14:37:57 - atmodeller.core      - DEBUG     - residual_mass = [-3.96146406e-05 -9.84771507e-01]\n",
      "14:37:57 - atmodeller.core      - DEBUG     - residual = [-2.76296763e-10 -3.85749654e-10 -2.44300402e-09  0.00000000e+00\n",
      " -3.96146406e-05 -9.84771507e-01]\n",
      "14:37:57 - atmodeller.core      - DEBUG     - residual_reaction = [-1.07168000e-04 -3.01727402e-05 -1.93089689e-04 -1.87312388e-10]\n",
      "14:37:57 - atmodeller.core      - DEBUG     - residual_mass = [ 0.0107863  -0.95836259]\n",
      "14:37:57 - atmodeller.core      - DEBUG     - residual = [-1.07168000e-04 -3.01727402e-05 -1.93089689e-04 -1.87312388e-10\n",
      "  1.07863008e-02 -9.58362586e-01]\n",
      "14:37:57 - atmodeller.core      - DEBUG     - residual_reaction = [-1.61085829e-04 -4.62837307e-05 -2.89984430e-04  4.72315014e-08]\n",
      "14:37:57 - atmodeller.core      - DEBUG     - residual_mass = [ 0.01590309 -0.9754098 ]\n",
      "14:37:57 - atmodeller.core      - DEBUG     - residual = [-1.61085829e-04 -4.62837307e-05 -2.89984430e-04  4.72315014e-08\n",
      "  1.59030866e-02 -9.75409803e-01]\n",
      "14:37:57 - atmodeller.core      - DEBUG     - residual_reaction = [-1.88232155e-04 -5.40833504e-05 -3.38852515e-04  5.51860406e-08]\n",
      "14:37:57 - atmodeller.core      - DEBUG     - residual_mass = [ 0.01880628 -0.94530811]\n",
      "14:37:57 - atmodeller.core      - DEBUG     - residual = [-1.88232155e-04 -5.40833504e-05 -3.38852515e-04  5.51860406e-08\n",
      "  1.88062784e-02 -9.45308112e-01]\n",
      "14:37:57 - atmodeller.core      - DEBUG     - residual_reaction = [-2.58054867e-04 -7.55416077e-05 -4.64167805e-04  1.46395150e-07]\n",
      "14:37:57 - atmodeller.core      - DEBUG     - residual_mass = [ 0.02575695 -0.95249719]\n",
      "14:37:57 - atmodeller.core      - DEBUG     - residual = [-2.58054867e-04 -7.55416077e-05 -4.64167805e-04  1.46395150e-07\n",
      "  2.57569550e-02 -9.52497190e-01]\n",
      "14:37:57 - atmodeller.core      - DEBUG     - residual_reaction = [-2.83584123e-04 -8.30134394e-05 -5.10087906e-04  1.60805302e-07]\n",
      "14:37:57 - atmodeller.core      - DEBUG     - residual_mass = [ 0.02834163 -0.94282478]\n",
      "14:37:57 - atmodeller.core      - DEBUG     - residual = [-2.83584123e-04 -8.30134394e-05 -5.10087906e-04  1.60805302e-07\n",
      "  2.83416322e-02 -9.42824782e-01]\n",
      "14:37:57 - atmodeller.core      - DEBUG     - residual_reaction = [-3.30214691e-04 -9.85574130e-05 -5.93454449e-04  2.80116595e-07]\n",
      "14:37:57 - atmodeller.core      - DEBUG     - residual_mass = [ 0.03314351 -0.94442203]\n",
      "14:37:57 - atmodeller.core      - DEBUG     - residual = [-3.30214691e-04 -9.85574130e-05 -5.93454449e-04  2.80116595e-07\n",
      "  3.31435119e-02 -9.44422031e-01]\n",
      "14:37:57 - atmodeller.core      - DEBUG     - residual_reaction = [-2.60268839e-04 -7.52414526e-05 -4.68404634e-04  1.01149655e-07]\n",
      "14:37:57 - atmodeller.core      - DEBUG     - residual_mass = [ 0.02594939 -0.94200477]\n",
      "14:37:57 - atmodeller.core      - DEBUG     - residual = [-2.60268839e-04 -7.52414526e-05 -4.68404634e-04  1.01149655e-07\n",
      "  2.59493861e-02 -9.42004770e-01]\n",
      "14:37:57 - atmodeller.core      - DEBUG     - residual_reaction = [-2.56716776e-04 -1.21914177e-05 -4.78115631e-04 -2.61503890e-06]\n",
      "14:37:57 - atmodeller.core      - DEBUG     - residual_mass = [ 0.02122791 -0.94030613]\n",
      "14:37:57 - atmodeller.core      - DEBUG     - residual = [-2.56716776e-04 -1.21914177e-05 -4.78115631e-04 -2.61503890e-06\n",
      "  2.12279128e-02 -9.40306128e-01]\n",
      "14:37:57 - atmodeller.core      - DEBUG     - residual_reaction = [-2.66443255e-04  3.18849533e-04 -5.03910517e-04  3.23119534e-05]\n",
      "14:37:57 - atmodeller.core      - DEBUG     - residual_mass = [ 0.01202845 -0.93667412]\n",
      "14:37:57 - atmodeller.core      - DEBUG     - residual = [-2.66443255e-04  3.18849533e-04 -5.03910517e-04  3.23119534e-05\n",
      "  1.20284484e-02 -9.36674118e-01]\n",
      "14:37:57 - atmodeller.core      - DEBUG     - residual_reaction = [-0.00031773  0.00155885 -0.00072455  0.00036882]\n",
      "14:37:57 - atmodeller.core      - DEBUG     - residual_mass = [-0.0054635  -0.92837162]\n",
      "14:37:57 - atmodeller.core      - DEBUG     - residual = [-3.17728403e-04  1.55885484e-03 -7.24546237e-04  3.68823584e-04\n",
      " -5.46350128e-03 -9.28371624e-01]\n",
      "14:37:57 - atmodeller.core      - DEBUG     - residual_reaction = [ 6.47087432e-05  5.50071938e-03 -7.81835871e-04  2.37056803e-03]\n",
      "14:37:57 - atmodeller.core      - DEBUG     - residual_mass = [-0.03730069 -0.90676035]\n",
      "14:37:57 - atmodeller.core      - DEBUG     - residual = [ 6.47087432e-05  5.50071938e-03 -7.81835871e-04  2.37056803e-03\n",
      " -3.73006873e-02 -9.06760349e-01]\n",
      "14:37:57 - atmodeller.core      - DEBUG     - residual_reaction = [-0.00458589  0.01408467 -0.01738417  0.00777629]\n",
      "14:37:57 - atmodeller.core      - DEBUG     - residual_mass = [-0.09149783 -0.83213017]\n",
      "14:37:57 - atmodeller.core      - DEBUG     - residual = [-0.00458589  0.01408467 -0.01738417  0.00777629 -0.09149783 -0.83213017]\n",
      "14:37:57 - atmodeller.core      - DEBUG     - residual_reaction = [0.06994025 0.05116328 0.17815583 0.02961555]\n",
      "14:37:57 - atmodeller.core      - DEBUG     - residual_mass = [-0.12997186 -0.42640645]\n",
      "14:37:57 - atmodeller.core      - DEBUG     - residual = [ 0.06994025  0.05116328  0.17815583  0.02961555 -0.12997186 -0.42640645]\n",
      "14:37:57 - atmodeller.core      - DEBUG     - residual_reaction = [ 9.06355879e-10 -5.00449682e-09 -9.04905377e-08  1.27887034e-10]\n",
      "14:37:57 - atmodeller.core      - DEBUG     - residual_mass = [-0.01570838  2.32282087]\n",
      "14:37:57 - atmodeller.core      - DEBUG     - residual = [ 9.06355879e-10 -5.00449682e-09 -9.04905377e-08  1.27887034e-10\n",
      " -1.57083751e-02  2.32282087e+00]\n",
      "14:37:57 - atmodeller.core      - DEBUG     - residual_reaction = [-2.50304666e-10 -1.17849597e-09 -1.80364932e-08  3.15774074e-11]\n",
      "14:37:57 - atmodeller.core      - DEBUG     - residual_mass = [-0.00573533 -0.43975365]\n",
      "14:37:57 - atmodeller.core      - DEBUG     - residual = [-2.50304666e-10 -1.17849597e-09 -1.80364932e-08  3.15774074e-11\n",
      " -5.73533087e-03 -4.39753651e-01]\n",
      "14:37:57 - atmodeller.core      - DEBUG     - residual_reaction = [ 8.05453482e-11  4.25196323e-10  6.57978738e-09 -1.13429266e-11]\n",
      "14:37:57 - atmodeller.core      - DEBUG     - residual_mass = [ 0.00177215 -0.2163836 ]\n",
      "14:37:57 - atmodeller.core      - DEBUG     - residual = [ 8.05453482e-11  4.25196323e-10  6.57978738e-09 -1.13429266e-11\n",
      "  1.77214800e-03 -2.16383601e-01]\n",
      "14:37:57 - atmodeller.core      - DEBUG     - residual_reaction = [-2.48601140e-11 -1.60509828e-10 -2.52490118e-09  4.25348645e-12]\n",
      "14:37:57 - atmodeller.core      - DEBUG     - residual_mass = [-0.00052495  0.07763051]\n",
      "14:37:57 - atmodeller.core      - DEBUG     - residual = [-2.48601140e-11 -1.60509828e-10 -2.52490118e-09  4.25348645e-12\n",
      " -5.24950465e-04  7.76305089e-02]\n",
      "14:37:57 - atmodeller.core      - DEBUG     - residual_reaction = [-2.34923192e-13 -1.51567647e-12 -2.38475906e-11  3.99680289e-14]\n",
      "14:37:57 - atmodeller.core      - DEBUG     - residual_mass = [-5.82921568e-06 -9.44052336e-03]\n",
      "14:37:57 - atmodeller.core      - DEBUG     - residual = [-2.34923192e-13 -1.51567647e-12 -2.38475906e-11  3.99680289e-14\n",
      " -5.82921568e-06 -9.44052336e-03]\n",
      "14:37:57 - atmodeller.core      - DEBUG     - residual_reaction = [ 1.78079773e-13  1.15152332e-12  1.81206161e-11 -3.01980663e-14]\n",
      "14:37:57 - atmodeller.core      - DEBUG     - residual_mass = [ 3.85077177e-06 -3.37903593e-04]\n",
      "14:37:57 - atmodeller.core      - DEBUG     - residual = [ 1.78079773e-13  1.15152332e-12  1.81206161e-11 -3.01980663e-14\n",
      "  3.85077177e-06 -3.37903593e-04]\n",
      "14:37:57 - atmodeller.core      - DEBUG     - residual_reaction = [-1.15463195e-14 -7.68274333e-14 -1.21680443e-12  1.77635684e-15]\n",
      "14:37:57 - atmodeller.core      - DEBUG     - residual_mass = [-2.59730207e-07  3.24757410e-07]\n",
      "14:37:57 - atmodeller.core      - DEBUG     - residual = [-1.15463195e-14 -7.68274333e-14 -1.21680443e-12  1.77635684e-15\n",
      " -2.59730207e-07  3.24757410e-07]\n",
      "14:37:57 - atmodeller.core      - DEBUG     - residual_reaction = [4.44089210e-16 4.88498131e-15 7.63833441e-14 0.00000000e+00]\n",
      "14:37:57 - atmodeller.core      - DEBUG     - residual_mass = [1.59766623e-08 7.84445782e-08]\n",
      "14:37:57 - atmodeller.core      - DEBUG     - residual = [4.44089210e-16 4.88498131e-15 7.63833441e-14 0.00000000e+00\n",
      " 1.59766623e-08 7.84445782e-08]\n",
      "14:37:57 - atmodeller.core      - DEBUG     - residual_reaction = [ 0.00000000e+00 -4.44089210e-16 -1.77635684e-15  0.00000000e+00]\n",
      "14:37:57 - atmodeller.core      - DEBUG     - residual_mass = [-4.12495726e-11 -2.18530008e-10]\n",
      "14:37:57 - atmodeller.core      - DEBUG     - residual = [ 0.00000000e+00 -4.44089210e-16 -1.77635684e-15  0.00000000e+00\n",
      " -4.12495726e-11 -2.18530008e-10]\n",
      "14:37:57 - atmodeller.core      - DEBUG     - residual_reaction = [ 0.00000000e+00  0.00000000e+00 -1.77635684e-15  0.00000000e+00]\n",
      "14:37:57 - atmodeller.core      - DEBUG     - residual_mass = [3.59405231e-15 1.98729951e-14]\n",
      "14:37:57 - atmodeller.core      - DEBUG     - residual = [ 0.00000000e+00  0.00000000e+00 -1.77635684e-15  0.00000000e+00\n",
      "  3.59405231e-15  1.98729951e-14]\n",
      "14:37:57 - atmodeller.core      - INFO      - The solution converged.\n",
      "14:37:57 - atmodeller.core      - INFO      - Number of function calls = 57\n",
      "14:37:57 - atmodeller.core      - INFO      - Final objective function evaluation = [ 0.00000000e+00  0.00000000e+00 -1.77635684e-15  0.00000000e+00\n",
      "  3.59405231e-15  1.98729951e-14]\n",
      "14:37:57 - atmodeller.core      - INFO      - {'CH4': 1.283294412915622e-06,\n",
      " 'CO': 62.303409879195826,\n",
      " 'CO2': 9.467181387987301,\n",
      " 'H2': 0.5547795364480278,\n",
      " 'H2O': 0.37834474994650863,\n",
      " 'O2': 3.9099946023954954e-08}\n"
     ]
    },
    {
     "data": {
      "text/plain": [
       "{'CO': 62.303409879195826,\n",
       " 'H2': 0.5547795364480278,\n",
       " 'O2': 3.9099946023954954e-08,\n",
       " 'CO2': 9.467181387987301,\n",
       " 'H2O': 0.37834474994650863,\n",
       " 'CH4': 1.283294412915622e-06}"
      ]
     },
     "execution_count": 20,
     "metadata": {},
     "output_type": "execute_result"
    }
   ],
   "source": [
    "number_of_earth_oceans: float = 1\n",
    "# C/H ratio by mass.\n",
    "ch_ratio: float = 1\n",
    "\n",
    "mass_H: float = number_of_earth_oceans * OCEAN_MOLES * MolarMasses().H2\n",
    "mass_C: float = ch_ratio * mass_H\n",
    "\n",
    "constraints: list[SystemConstraint] = [\n",
    "    SystemConstraint(species=\"H\", value=mass_H, field=\"mass\"),\n",
    "    SystemConstraint(species=\"C\", value=mass_C, field=\"mass\"),\n",
    "]\n",
    "\n",
    "interior_atmosphere: InteriorAtmosphereSystem = InteriorAtmosphereSystem(molecules=molecules)\n",
    "interior_atmosphere.solve(constraints, fo2_constraint=True)\n",
    "interior_atmosphere.pressures_dict"
   ]
  }
 ],
 "metadata": {
  "kernelspec": {
   "display_name": ".venv",
   "language": "python",
   "name": "python3"
  },
  "language_info": {
   "codemirror_mode": {
    "name": "ipython",
    "version": 3
   },
   "file_extension": ".py",
   "mimetype": "text/x-python",
   "name": "python",
   "nbconvert_exporter": "python",
   "pygments_lexer": "ipython3",
   "version": "3.11.3"
  },
  "orig_nbformat": 4
 },
 "nbformat": 4,
 "nbformat_minor": 2
}
