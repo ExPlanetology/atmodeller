{
 "cells": [
  {
   "attachments": {},
   "cell_type": "markdown",
   "metadata": {},
   "source": [
    "# atmodeller\n",
    "\n",
    "## Tutorial 1: basic operation\n",
    "\n",
    "Import the required packages and set the package logger to the INFO level. For more output you could instead set it to DEBUG."
   ]
  },
  {
   "cell_type": "code",
   "execution_count": 1,
   "metadata": {},
   "outputs": [
    {
     "name": "stderr",
     "output_type": "stream",
     "text": [
      "22:17:35 - atmodeller                     - INFO      - atmodeller version 0.1.0\n"
     ]
    }
   ],
   "source": [
    "from atmodeller import InteriorAtmosphereSystem, Molecule, SystemConstraint, OCEAN_MOLES, MolarMasses, logger\n",
    "from atmodeller.thermodynamics import PeridotiteH2O, NoSolubility, BasaltDixonCO2, StandardGibbsFreeEnergyOfFormationHolland, StandardGibbsFreeEnergyOfFormationLinear\n",
    "\n",
    "import logging\n",
    "\n",
    "logger.setLevel(logging.DEBUG)"
   ]
  },
  {
   "attachments": {},
   "cell_type": "markdown",
   "metadata": {},
   "source": [
    "### 1. Simple H2O-H2 system with prescribed H2O pressure"
   ]
  },
  {
   "attachments": {},
   "cell_type": "markdown",
   "metadata": {},
   "source": [
    "We define a list of the molecules we wish to include in the interior-atmosphere system and how they partition between the melt and the atmosphere, and the solid and the melt:"
   ]
  },
  {
   "cell_type": "code",
   "execution_count": 2,
   "metadata": {},
   "outputs": [
    {
     "name": "stderr",
     "output_type": "stream",
     "text": [
      "22:17:36 - atmodeller.core                - INFO      - Creating a molecule: H2O\n",
      "22:17:36 - atmodeller.core                - DEBUG     - element count = \n",
      "{'H': 2, 'O': 1}\n",
      "22:17:36 - atmodeller.core                - INFO      - Creating a molecule: H2\n",
      "22:17:36 - atmodeller.core                - DEBUG     - element count = \n",
      "{'H': 2}\n"
     ]
    }
   ],
   "source": [
    "molecules: list[Molecule] = []\n",
    "molecules.append(Molecule(name='H2O', solubility=PeridotiteH2O(), solid_melt_distribution_coefficient=0))\n",
    "molecules.append(Molecule(name='H2', solubility=NoSolubility(), solid_melt_distribution_coefficient=0))"
   ]
  },
  {
   "attachments": {},
   "cell_type": "markdown",
   "metadata": {},
   "source": [
    "Although a choice is often made to constrain oxygen fugacity, we nevertheless need to explicitly include O2 as a molecule in the interior-atmosphere system:"
   ]
  },
  {
   "cell_type": "code",
   "execution_count": 3,
   "metadata": {},
   "outputs": [
    {
     "name": "stderr",
     "output_type": "stream",
     "text": [
      "22:17:36 - atmodeller.core                - INFO      - Creating a molecule: O2\n",
      "22:17:36 - atmodeller.core                - DEBUG     - element count = \n",
      "{'O': 2}\n"
     ]
    },
    {
     "data": {
      "text/plain": [
       "[Molecule(name='H2O', solubility=<atmodeller.thermodynamics.PeridotiteH2O object at 0x11d17d7d0>, solid_melt_distribution_coefficient=0, elements={'H': 2, 'O': 1}, element_masses={'H': 0.0020158, 'O': 0.0159994}, molar_mass=0.018015200000000002),\n",
       " Molecule(name='H2', solubility=<atmodeller.thermodynamics.NoSolubility object at 0x11c5c4190>, solid_melt_distribution_coefficient=0, elements={'H': 2}, element_masses={'H': 0.0020158}, molar_mass=0.0020158),\n",
       " Molecule(name='O2', solubility=<atmodeller.thermodynamics.NoSolubility object at 0x12670b090>, solid_melt_distribution_coefficient=0, elements={'O': 2}, element_masses={'O': 0.0319988}, molar_mass=0.0319988)]"
      ]
     },
     "execution_count": 3,
     "metadata": {},
     "output_type": "execute_result"
    }
   ],
   "source": [
    "molecules.append(Molecule(name='O2', solubility=NoSolubility(), solid_melt_distribution_coefficient=0))\n",
    "molecules"
   ]
  },
  {
   "attachments": {},
   "cell_type": "markdown",
   "metadata": {},
   "source": [
    "We can then create an interior-atmosphere system using the list of molecules and (optionally) specifying the thermodynamic data to use. Note that this creates a planet with 'default properties' (a reduced and molten Earth). Adjusting the planet properties will be covered in a later tutorial."
   ]
  },
  {
   "cell_type": "code",
   "execution_count": 4,
   "metadata": {},
   "outputs": [
    {
     "name": "stderr",
     "output_type": "stream",
     "text": [
      "22:17:36 - atmodeller.core                - INFO      - Creating a new planet\n",
      "22:17:36 - atmodeller.core                - INFO      - Mantle mass (kg) = 4.208261222595111e+24\n",
      "22:17:36 - atmodeller.core                - INFO      - Mantle melt fraction = 1.0\n",
      "22:17:36 - atmodeller.core                - INFO      - Core mass fraction = 0.295334691460966\n",
      "22:17:36 - atmodeller.core                - INFO      - Planetary radius (m) = 6371000.0\n",
      "22:17:36 - atmodeller.core                - INFO      - Planetary mass (kg) = 5.972e+24\n",
      "22:17:36 - atmodeller.core                - INFO      - Surface temperature (K) = 2000.000000\n",
      "22:17:36 - atmodeller.core                - INFO      - Surface gravity (m/s^2) = 9.819973426224687\n",
      "22:17:36 - atmodeller.core                - INFO      - Oxygen fugacity model (mantle) = IronWustiteBufferOneill\n",
      "22:17:36 - atmodeller.core                - INFO      - Oxygen fugacity log10 shift = 0.000000\n",
      "22:17:36 - atmodeller.core                - INFO      - Melt Composition = None\n",
      "22:17:36 - atmodeller.core                - INFO      - Creating a new interior-atmosphere system\n",
      "22:17:36 - atmodeller.core                - INFO      - Molecules = ['H2', 'O2', 'H2O']\n",
      "22:17:36 - atmodeller.core                - INFO      - Molecules = ['H2', 'O2', 'H2O']\n",
      "22:17:36 - atmodeller.core                - DEBUG     - number of unique elements = \n",
      "['O', 'H']\n",
      "22:17:36 - atmodeller.core                - DEBUG     - augmented_matrix = \n",
      "[[0. 2. 1. 0. 0.]\n",
      " [2. 0. 0. 1. 0.]\n",
      " [1. 2. 0. 0. 1.]]\n",
      "22:17:36 - atmodeller.core                - DEBUG     - ratio = \n",
      "0.0\n",
      "22:17:36 - atmodeller.core                - DEBUG     - ratio = \n",
      "0.5\n",
      "22:17:36 - atmodeller.core                - DEBUG     - ratio = \n",
      "1.0\n",
      "22:17:36 - atmodeller.core                - DEBUG     - augmented_matrix after forward elimination = \n",
      "[[ 2.   0.   0.   1.   0. ]\n",
      " [ 0.   2.   1.   0.   0. ]\n",
      " [ 0.   0.  -1.  -0.5  1. ]]\n",
      "22:17:36 - atmodeller.core                - DEBUG     - augmented_matrix after backward substitution = \n",
      "[[ 1.   0.   0.   0.5  0. ]\n",
      " [ 0.   1.   0.5  0.   0. ]\n",
      " [ 0.   0.  -1.  -0.5  1. ]]\n",
      "22:17:36 - atmodeller.core                - DEBUG     - reduced_matrix1 = \n",
      "[[1. 0.]\n",
      " [0. 1.]\n",
      " [0. 0.]]\n",
      "22:17:36 - atmodeller.core                - DEBUG     - reaction_matrix = \n",
      "[[-1.  -0.5  1. ]]\n",
      "22:17:36 - atmodeller.core                - INFO      - Reactions = \n",
      "{0: '1.0 H2 + 0.5 O2 = 1.0 H2O'}\n"
     ]
    }
   ],
   "source": [
    "interior_atmosphere: InteriorAtmosphereSystem = InteriorAtmosphereSystem(molecules=molecules, gibbs_data=StandardGibbsFreeEnergyOfFormationLinear())"
   ]
  },
  {
   "attachments": {},
   "cell_type": "markdown",
   "metadata": {},
   "source": [
    "Notice that for this simple system it has identified the single reaction that relates the 3 chosen molecules. To solve the system, we provide a constraint of the H2O pressure in bar:"
   ]
  },
  {
   "cell_type": "code",
   "execution_count": 5,
   "metadata": {},
   "outputs": [],
   "source": [
    "H2O_pressure: SystemConstraint = SystemConstraint(species='H2O', value=1, field='pressure')\n",
    "constraints: list[SystemConstraint] = [H2O_pressure]"
   ]
  },
  {
   "attachments": {},
   "cell_type": "markdown",
   "metadata": {},
   "source": [
    "A second constraint is required to close the system of equations, and this is conveniently specified using `fo2_constraint=True`, which (without specifying additional arguments) will impose the oxygen fugacity at the Iron-Wustite buffer. Hence we can solve the interior-atmosphere system at a given temperature to determine the partial pressures of our chosen molecules:"
   ]
  },
  {
   "cell_type": "code",
   "execution_count": 6,
   "metadata": {},
   "outputs": [
    {
     "name": "stderr",
     "output_type": "stream",
     "text": [
      "22:17:36 - atmodeller.core                - INFO      - Constraints: [SystemConstraint(species='H2O', value=1, field='pressure')]\n",
      "22:17:36 - atmodeller.core                - INFO      - Pressure constraints only so attempting to solve a linear reaction network\n",
      "22:17:36 - atmodeller.core                - INFO      - Solving the reaction network\n",
      "22:17:36 - atmodeller.core                - INFO      - Adding fO2 as an additional constraint using IronWustiteBufferOneill with fO2_shift = 0.00\n",
      "22:17:36 - atmodeller.core                - INFO      - The necessary number of constraints will be applied to the reaction network to solve the system\n",
      "22:17:36 - atmodeller.core                - INFO      - Row 00: Reaction 0: 1.0 H2 + 0.5 O2 = 1.0 H2O\n",
      "22:17:36 - atmodeller.thermodynamics      - DEBUG     - Molecule = H2, standard Gibbs energy of formation = 0.000000\n",
      "22:17:36 - atmodeller.thermodynamics      - DEBUG     - Molecule = O2, standard Gibbs energy of formation = 0.000000\n",
      "22:17:36 - atmodeller.thermodynamics      - DEBUG     - Molecule = H2O, standard Gibbs energy of formation = -135456.022059\n",
      "22:17:36 - atmodeller.core                - INFO      - Row 01: Setting H2O partial pressure\n",
      "22:17:36 - atmodeller.core                - INFO      - Row 02: Setting O2 partial pressure\n",
      "22:17:36 - atmodeller.core                - DEBUG     - Design matrix = \n",
      "[[-1.  -0.5  1. ]\n",
      " [ 0.   0.   1. ]\n",
      " [ 0.   1.   0. ]]\n",
      "22:17:36 - atmodeller.core                - DEBUG     - RHS vector = \n",
      "[ 3.5376792   0.         -7.40782384]\n",
      "22:17:36 - atmodeller.core                - INFO      - The solution converged.\n",
      "22:17:36 - atmodeller.core                - INFO      - {'H2': 1.4663333811991843, 'H2O': 1.0, 'O2': 3.9099946023954954e-08}\n"
     ]
    },
    {
     "data": {
      "text/plain": [
       "{'H2': 1.4663333811991843, 'O2': 3.9099946023954954e-08, 'H2O': 1.0}"
      ]
     },
     "execution_count": 6,
     "metadata": {},
     "output_type": "execute_result"
    }
   ],
   "source": [
    "interior_atmosphere.solve(constraints, fo2_constraint=True)"
   ]
  },
  {
   "attachments": {},
   "cell_type": "markdown",
   "metadata": {},
   "source": [
    "You can access the solution directly using:"
   ]
  },
  {
   "cell_type": "code",
   "execution_count": 7,
   "metadata": {},
   "outputs": [
    {
     "data": {
      "text/plain": [
       "{'H2': 1.4663333811991843, 'O2': 3.9099946023954954e-08, 'H2O': 1.0}"
      ]
     },
     "execution_count": 7,
     "metadata": {},
     "output_type": "execute_result"
    }
   ],
   "source": [
    "interior_atmosphere.pressures_dict"
   ]
  },
  {
   "attachments": {},
   "cell_type": "markdown",
   "metadata": {},
   "source": [
    "### 2. System with C and H and prescribed pressures\n",
    "\n",
    "We now extend the molecule list to additionally include C-species:"
   ]
  },
  {
   "cell_type": "code",
   "execution_count": 8,
   "metadata": {},
   "outputs": [
    {
     "name": "stderr",
     "output_type": "stream",
     "text": [
      "22:17:36 - atmodeller.core                - INFO      - Creating a molecule: H2O\n",
      "22:17:36 - atmodeller.core                - DEBUG     - element count = \n",
      "{'H': 2, 'O': 1}\n",
      "22:17:36 - atmodeller.core                - INFO      - Creating a molecule: H2\n",
      "22:17:36 - atmodeller.core                - DEBUG     - element count = \n",
      "{'H': 2}\n",
      "22:17:36 - atmodeller.core                - INFO      - Creating a molecule: O2\n",
      "22:17:36 - atmodeller.core                - DEBUG     - element count = \n",
      "{'O': 2}\n",
      "22:17:36 - atmodeller.core                - INFO      - Creating a molecule: CO\n",
      "22:17:36 - atmodeller.core                - DEBUG     - element count = \n",
      "{'C': 1, 'O': 1}\n",
      "22:17:36 - atmodeller.core                - INFO      - Creating a molecule: CO2\n",
      "22:17:36 - atmodeller.core                - DEBUG     - element count = \n",
      "{'C': 1, 'O': 2}\n"
     ]
    },
    {
     "data": {
      "text/plain": [
       "[Molecule(name='H2O', solubility=<atmodeller.thermodynamics.PeridotiteH2O object at 0x12673c790>, solid_melt_distribution_coefficient=0, elements={'H': 2, 'O': 1}, element_masses={'H': 0.0020158, 'O': 0.0159994}, molar_mass=0.018015200000000002),\n",
       " Molecule(name='H2', solubility=<atmodeller.thermodynamics.NoSolubility object at 0x12672d5d0>, solid_melt_distribution_coefficient=0, elements={'H': 2}, element_masses={'H': 0.0020158}, molar_mass=0.0020158),\n",
       " Molecule(name='O2', solubility=<atmodeller.thermodynamics.NoSolubility object at 0x12672d410>, solid_melt_distribution_coefficient=0, elements={'O': 2}, element_masses={'O': 0.0319988}, molar_mass=0.0319988),\n",
       " Molecule(name='CO', solubility=<atmodeller.thermodynamics.NoSolubility object at 0x12672eed0>, solid_melt_distribution_coefficient=0, elements={'C': 1, 'O': 1}, element_masses={'C': 0.0120107, 'O': 0.0159994}, molar_mass=0.0280101),\n",
       " Molecule(name='CO2', solubility=<atmodeller.thermodynamics.BasaltDixonCO2 object at 0x126735550>, solid_melt_distribution_coefficient=0, elements={'C': 1, 'O': 2}, element_masses={'C': 0.0120107, 'O': 0.0319988}, molar_mass=0.0440095)]"
      ]
     },
     "execution_count": 8,
     "metadata": {},
     "output_type": "execute_result"
    }
   ],
   "source": [
    "molecules: list[Molecule] = []\n",
    "molecules.append(Molecule(name='H2O', solubility=PeridotiteH2O(), solid_melt_distribution_coefficient=0))\n",
    "molecules.append(Molecule(name='H2', solubility=NoSolubility(), solid_melt_distribution_coefficient=0))\n",
    "molecules.append(Molecule(name='O2', solubility=NoSolubility(), solid_melt_distribution_coefficient=0))\n",
    "molecules.append(Molecule(name='CO', solubility=NoSolubility(), solid_melt_distribution_coefficient=0))\n",
    "molecules.append(Molecule(name='CO2', solubility=BasaltDixonCO2(), solid_melt_distribution_coefficient=0))\n",
    "molecules"
   ]
  },
  {
   "cell_type": "code",
   "execution_count": 9,
   "metadata": {},
   "outputs": [
    {
     "name": "stderr",
     "output_type": "stream",
     "text": [
      "22:17:36 - atmodeller.core                - INFO      - Creating a new planet\n",
      "22:17:36 - atmodeller.core                - INFO      - Mantle mass (kg) = 4.208261222595111e+24\n",
      "22:17:36 - atmodeller.core                - INFO      - Mantle melt fraction = 1.0\n",
      "22:17:36 - atmodeller.core                - INFO      - Core mass fraction = 0.295334691460966\n",
      "22:17:36 - atmodeller.core                - INFO      - Planetary radius (m) = 6371000.0\n",
      "22:17:36 - atmodeller.core                - INFO      - Planetary mass (kg) = 5.972e+24\n",
      "22:17:36 - atmodeller.core                - INFO      - Surface temperature (K) = 2000.000000\n",
      "22:17:36 - atmodeller.core                - INFO      - Surface gravity (m/s^2) = 9.819973426224687\n",
      "22:17:36 - atmodeller.core                - INFO      - Oxygen fugacity model (mantle) = IronWustiteBufferOneill\n",
      "22:17:36 - atmodeller.core                - INFO      - Oxygen fugacity log10 shift = 0.000000\n",
      "22:17:36 - atmodeller.core                - INFO      - Melt Composition = None\n",
      "22:17:36 - atmodeller.core                - INFO      - Creating a new interior-atmosphere system\n",
      "22:17:36 - atmodeller.core                - INFO      - Molecules = ['CO', 'H2', 'O2', 'CO2', 'H2O']\n",
      "22:17:36 - atmodeller.core                - INFO      - Molecules = ['CO', 'H2', 'O2', 'CO2', 'H2O']\n",
      "22:17:36 - atmodeller.core                - DEBUG     - number of unique elements = \n",
      "['H', 'O', 'C']\n",
      "22:17:36 - atmodeller.core                - DEBUG     - augmented_matrix = \n",
      "[[0. 1. 1. 1. 0. 0. 0. 0.]\n",
      " [2. 0. 0. 0. 1. 0. 0. 0.]\n",
      " [0. 2. 0. 0. 0. 1. 0. 0.]\n",
      " [0. 2. 1. 0. 0. 0. 1. 0.]\n",
      " [2. 1. 0. 0. 0. 0. 0. 1.]]\n",
      "22:17:36 - atmodeller.core                - DEBUG     - ratio = \n",
      "0.0\n",
      "22:17:36 - atmodeller.core                - DEBUG     - ratio = \n",
      "0.0\n",
      "22:17:36 - atmodeller.core                - DEBUG     - ratio = \n",
      "0.0\n",
      "22:17:36 - atmodeller.core                - DEBUG     - ratio = \n",
      "1.0\n",
      "22:17:36 - atmodeller.core                - DEBUG     - ratio = \n",
      "2.0\n",
      "22:17:36 - atmodeller.core                - DEBUG     - ratio = \n",
      "2.0\n",
      "22:17:36 - atmodeller.core                - DEBUG     - ratio = \n",
      "1.0\n",
      "22:17:36 - atmodeller.core                - DEBUG     - ratio = \n",
      "0.5\n",
      "22:17:36 - atmodeller.core                - DEBUG     - ratio = \n",
      "0.5\n",
      "22:17:36 - atmodeller.core                - DEBUG     - augmented_matrix after forward elimination = \n",
      "[[ 2.   0.   0.   0.   1.   0.   0.   0. ]\n",
      " [ 0.   1.   1.   1.   0.   0.   0.   0. ]\n",
      " [ 0.   0.  -2.  -2.   0.   1.   0.   0. ]\n",
      " [ 0.   0.   0.  -1.   0.  -0.5  1.   0. ]\n",
      " [ 0.   0.   0.   0.  -1.  -0.5  0.   1. ]]\n",
      "22:17:36 - atmodeller.core                - DEBUG     - augmented_matrix after backward substitution = \n",
      "[[ 1.   0.   0.   0.   0.5  0.   0.   0. ]\n",
      " [ 0.   1.   0.   0.   0.   0.5  0.   0. ]\n",
      " [-0.  -0.   1.   1.  -0.  -0.5 -0.  -0. ]\n",
      " [ 0.   0.   0.  -1.   0.  -0.5  1.   0. ]\n",
      " [ 0.   0.   0.   0.  -1.  -0.5  0.   1. ]]\n",
      "22:17:36 - atmodeller.core                - DEBUG     - reduced_matrix1 = \n",
      "[[ 1.  0.  0.]\n",
      " [ 0.  1.  0.]\n",
      " [-0. -0.  1.]\n",
      " [ 0.  0.  0.]\n",
      " [ 0.  0.  0.]]\n",
      "22:17:36 - atmodeller.core                - DEBUG     - reaction_matrix = \n",
      "[[-1.   0.  -0.5  1.   0. ]\n",
      " [ 0.  -1.  -0.5  0.   1. ]]\n",
      "22:17:36 - atmodeller.core                - INFO      - Reactions = \n",
      "{0: '1.0 CO + 0.5 O2 = 1.0 CO2', 1: '1.0 H2 + 0.5 O2 = 1.0 H2O'}\n"
     ]
    }
   ],
   "source": [
    "interior_atmosphere: InteriorAtmosphereSystem = InteriorAtmosphereSystem(molecules=molecules)"
   ]
  },
  {
   "attachments": {},
   "cell_type": "markdown",
   "metadata": {},
   "source": [
    "Note now the system has identified two reactions in the network. With C present in the system we must provide at least 2 constraints, in addition to the oxygen fugacity:"
   ]
  },
  {
   "cell_type": "code",
   "execution_count": 10,
   "metadata": {},
   "outputs": [],
   "source": [
    "H2O_pressure: SystemConstraint = SystemConstraint(species='H2O', value=1, field='pressure')\n",
    "CO2_pressure: SystemConstraint = SystemConstraint(species='CO2', value=1, field='pressure' )\n",
    "constraints: list[SystemConstraint] = [H2O_pressure, CO2_pressure]"
   ]
  },
  {
   "cell_type": "code",
   "execution_count": 11,
   "metadata": {},
   "outputs": [
    {
     "name": "stderr",
     "output_type": "stream",
     "text": [
      "22:17:36 - atmodeller.core                - INFO      - Constraints: [SystemConstraint(species='H2O', value=1, field='pressure'),\n",
      " SystemConstraint(species='CO2', value=1, field='pressure')]\n",
      "22:17:36 - atmodeller.core                - INFO      - Pressure constraints only so attempting to solve a linear reaction network\n",
      "22:17:36 - atmodeller.core                - INFO      - Solving the reaction network\n",
      "22:17:36 - atmodeller.core                - INFO      - Adding fO2 as an additional constraint using IronWustiteBufferOneill with fO2_shift = 0.00\n",
      "22:17:36 - atmodeller.core                - INFO      - The necessary number of constraints will be applied to the reaction network to solve the system\n",
      "22:17:36 - atmodeller.core                - INFO      - Row 00: Reaction 0: 1.0 CO + 0.5 O2 = 1.0 CO2\n",
      "22:17:36 - atmodeller.thermodynamics      - DEBUG     - Molecule = CO, standard Gibbs energy of formation = -285748.794118\n",
      "22:17:36 - atmodeller.thermodynamics      - DEBUG     - Molecule = H2, standard Gibbs energy of formation = 0.000000\n",
      "22:17:36 - atmodeller.thermodynamics      - DEBUG     - Molecule = O2, standard Gibbs energy of formation = 0.000000\n",
      "22:17:36 - atmodeller.thermodynamics      - DEBUG     - Molecule = CO2, standard Gibbs energy of formation = -396237.816176\n",
      "22:17:36 - atmodeller.thermodynamics      - DEBUG     - Molecule = H2O, standard Gibbs energy of formation = -135456.022059\n",
      "22:17:36 - atmodeller.core                - INFO      - Row 01: Reaction 1: 1.0 H2 + 0.5 O2 = 1.0 H2O\n",
      "22:17:36 - atmodeller.thermodynamics      - DEBUG     - Molecule = CO, standard Gibbs energy of formation = -285748.794118\n",
      "22:17:36 - atmodeller.thermodynamics      - DEBUG     - Molecule = H2, standard Gibbs energy of formation = 0.000000\n",
      "22:17:36 - atmodeller.thermodynamics      - DEBUG     - Molecule = O2, standard Gibbs energy of formation = 0.000000\n",
      "22:17:36 - atmodeller.thermodynamics      - DEBUG     - Molecule = CO2, standard Gibbs energy of formation = -396237.816176\n",
      "22:17:36 - atmodeller.thermodynamics      - DEBUG     - Molecule = H2O, standard Gibbs energy of formation = -135456.022059\n",
      "22:17:36 - atmodeller.core                - INFO      - Row 02: Setting H2O partial pressure\n",
      "22:17:36 - atmodeller.core                - INFO      - Row 03: Setting CO2 partial pressure\n",
      "22:17:36 - atmodeller.core                - INFO      - Row 04: Setting O2 partial pressure\n",
      "22:17:36 - atmodeller.core                - DEBUG     - Design matrix = \n",
      "[[-1.   0.  -0.5  1.   0. ]\n",
      " [ 0.  -1.  -0.5  0.   1. ]\n",
      " [ 0.   0.   0.   0.   1. ]\n",
      " [ 0.   0.   0.   1.   0. ]\n",
      " [ 0.   0.   1.   0.   0. ]]\n",
      "22:17:36 - atmodeller.core                - DEBUG     - RHS vector = \n",
      "[ 2.8856208   3.5376792   0.          0.         -7.40782384]\n",
      "22:17:36 - atmodeller.core                - INFO      - The solution converged.\n",
      "22:17:36 - atmodeller.core                - INFO      - {'CO': 6.580988292698277,\n",
      " 'CO2': 1.0,\n",
      " 'H2': 1.4663333811991843,\n",
      " 'H2O': 1.0,\n",
      " 'O2': 3.9099946023954954e-08}\n"
     ]
    },
    {
     "data": {
      "text/plain": [
       "{'CO': 6.580988292698277,\n",
       " 'H2': 1.4663333811991843,\n",
       " 'O2': 3.9099946023954954e-08,\n",
       " 'CO2': 1.0,\n",
       " 'H2O': 1.0}"
      ]
     },
     "execution_count": 11,
     "metadata": {},
     "output_type": "execute_result"
    }
   ],
   "source": [
    "interior_atmosphere.solve(constraints, fo2_constraint=True)\n",
    "interior_atmosphere.pressures_dict"
   ]
  },
  {
   "attachments": {},
   "cell_type": "markdown",
   "metadata": {},
   "source": [
    "There is not a requirement to necessarily impose the oxygen fugacity as a constraint. Instead, we can simply impose three pressure constraints (that span the reaction set) and allow for the oxygen fugacity to be solved. Note that if we do not specify an appropriate range of constraints we cannot solve the system of equations to give a unique solution and hence the code will raise an exception relating to a singular matrix."
   ]
  },
  {
   "cell_type": "code",
   "execution_count": 12,
   "metadata": {},
   "outputs": [],
   "source": [
    "H2O_pressure: SystemConstraint = SystemConstraint(species='H2O', value=1, field='pressure')\n",
    "H2_pressure: SystemConstraint = SystemConstraint(species='H2', value=1, field='pressure' )\n",
    "CO_pressure: SystemConstraint = SystemConstraint(species='CO', value=1, field='pressure' )\n",
    "constraints: list[SystemConstraint] = [H2O_pressure, H2_pressure, CO_pressure]"
   ]
  },
  {
   "cell_type": "code",
   "execution_count": 13,
   "metadata": {},
   "outputs": [
    {
     "name": "stderr",
     "output_type": "stream",
     "text": [
      "22:17:36 - atmodeller.core                - INFO      - Constraints: [SystemConstraint(species='H2O', value=1, field='pressure'),\n",
      " SystemConstraint(species='H2', value=1, field='pressure'),\n",
      " SystemConstraint(species='CO', value=1, field='pressure')]\n",
      "22:17:36 - atmodeller.core                - INFO      - Pressure constraints only so attempting to solve a linear reaction network\n",
      "22:17:36 - atmodeller.core                - INFO      - Solving the reaction network\n",
      "22:17:36 - atmodeller.core                - INFO      - The necessary number of constraints will be applied to the reaction network to solve the system\n",
      "22:17:36 - atmodeller.core                - INFO      - Row 00: Reaction 0: 1.0 CO + 0.5 O2 = 1.0 CO2\n",
      "22:17:36 - atmodeller.thermodynamics      - DEBUG     - Molecule = CO, standard Gibbs energy of formation = -285748.794118\n",
      "22:17:36 - atmodeller.thermodynamics      - DEBUG     - Molecule = H2, standard Gibbs energy of formation = 0.000000\n",
      "22:17:36 - atmodeller.thermodynamics      - DEBUG     - Molecule = O2, standard Gibbs energy of formation = 0.000000\n",
      "22:17:36 - atmodeller.thermodynamics      - DEBUG     - Molecule = CO2, standard Gibbs energy of formation = -396237.816176\n",
      "22:17:36 - atmodeller.thermodynamics      - DEBUG     - Molecule = H2O, standard Gibbs energy of formation = -135456.022059\n",
      "22:17:36 - atmodeller.core                - INFO      - Row 01: Reaction 1: 1.0 H2 + 0.5 O2 = 1.0 H2O\n",
      "22:17:36 - atmodeller.thermodynamics      - DEBUG     - Molecule = CO, standard Gibbs energy of formation = -285748.794118\n",
      "22:17:36 - atmodeller.thermodynamics      - DEBUG     - Molecule = H2, standard Gibbs energy of formation = 0.000000\n",
      "22:17:36 - atmodeller.thermodynamics      - DEBUG     - Molecule = O2, standard Gibbs energy of formation = 0.000000\n",
      "22:17:36 - atmodeller.thermodynamics      - DEBUG     - Molecule = CO2, standard Gibbs energy of formation = -396237.816176\n",
      "22:17:36 - atmodeller.thermodynamics      - DEBUG     - Molecule = H2O, standard Gibbs energy of formation = -135456.022059\n",
      "22:17:36 - atmodeller.core                - INFO      - Row 02: Setting H2O partial pressure\n",
      "22:17:36 - atmodeller.core                - INFO      - Row 03: Setting H2 partial pressure\n",
      "22:17:36 - atmodeller.core                - INFO      - Row 04: Setting CO partial pressure\n",
      "22:17:36 - atmodeller.core                - DEBUG     - Design matrix = \n",
      "[[-1.   0.  -0.5  1.   0. ]\n",
      " [ 0.  -1.  -0.5  0.   1. ]\n",
      " [ 0.   0.   0.   0.   1. ]\n",
      " [ 0.   1.   0.   0.   0. ]\n",
      " [ 1.   0.   0.   0.   0. ]]\n",
      "22:17:36 - atmodeller.core                - DEBUG     - RHS vector = \n",
      "[2.8856208 3.5376792 0.        0.        0.       ]\n",
      "22:17:36 - atmodeller.core                - INFO      - The solution converged.\n",
      "22:17:36 - atmodeller.core                - INFO      - {'CO': 1.0,\n",
      " 'CO2': 0.22281355261277508,\n",
      " 'H2': 1.0,\n",
      " 'H2O': 1.0,\n",
      " 'O2': 8.407010711071694e-08}\n"
     ]
    },
    {
     "data": {
      "text/plain": [
       "{'CO': 1.0,\n",
       " 'H2': 1.0,\n",
       " 'O2': 8.407010711071694e-08,\n",
       " 'CO2': 0.22281355261277508,\n",
       " 'H2O': 1.0}"
      ]
     },
     "execution_count": 13,
     "metadata": {},
     "output_type": "execute_result"
    }
   ],
   "source": [
    "interior_atmosphere.solve(constraints, fo2_constraint=False)\n",
    "interior_atmosphere.pressures_dict"
   ]
  },
  {
   "attachments": {},
   "cell_type": "markdown",
   "metadata": {},
   "source": [
    "### 3. System with C and H and mixed constraints"
   ]
  },
  {
   "attachments": {},
   "cell_type": "markdown",
   "metadata": {},
   "source": [
    "A typical use case is to define an interior-atmosphere system with a combination of pressure and mass constraints. We define the same molecule set as before:"
   ]
  },
  {
   "cell_type": "code",
   "execution_count": 14,
   "metadata": {},
   "outputs": [
    {
     "name": "stderr",
     "output_type": "stream",
     "text": [
      "22:17:36 - atmodeller.core                - INFO      - Creating a molecule: H2O\n",
      "22:17:36 - atmodeller.core                - DEBUG     - element count = \n",
      "{'H': 2, 'O': 1}\n",
      "22:17:36 - atmodeller.core                - INFO      - Creating a molecule: H2\n",
      "22:17:36 - atmodeller.core                - DEBUG     - element count = \n",
      "{'H': 2}\n",
      "22:17:36 - atmodeller.core                - INFO      - Creating a molecule: O2\n",
      "22:17:36 - atmodeller.core                - DEBUG     - element count = \n",
      "{'O': 2}\n",
      "22:17:36 - atmodeller.core                - INFO      - Creating a molecule: CO\n",
      "22:17:36 - atmodeller.core                - DEBUG     - element count = \n",
      "{'C': 1, 'O': 1}\n",
      "22:17:36 - atmodeller.core                - INFO      - Creating a molecule: CO2\n",
      "22:17:36 - atmodeller.core                - DEBUG     - element count = \n",
      "{'C': 1, 'O': 2}\n"
     ]
    },
    {
     "data": {
      "text/plain": [
       "[Molecule(name='H2O', solubility=<atmodeller.thermodynamics.PeridotiteH2O object at 0x1267492d0>, solid_melt_distribution_coefficient=0, elements={'H': 2, 'O': 1}, element_masses={'H': 0.0020158, 'O': 0.0159994}, molar_mass=0.018015200000000002),\n",
       " Molecule(name='H2', solubility=<atmodeller.thermodynamics.NoSolubility object at 0x1075f94d0>, solid_melt_distribution_coefficient=0, elements={'H': 2}, element_masses={'H': 0.0020158}, molar_mass=0.0020158),\n",
       " Molecule(name='O2', solubility=<atmodeller.thermodynamics.NoSolubility object at 0x12670b350>, solid_melt_distribution_coefficient=0, elements={'O': 2}, element_masses={'O': 0.0319988}, molar_mass=0.0319988),\n",
       " Molecule(name='CO', solubility=<atmodeller.thermodynamics.NoSolubility object at 0x11c9bb610>, solid_melt_distribution_coefficient=0, elements={'C': 1, 'O': 1}, element_masses={'C': 0.0120107, 'O': 0.0159994}, molar_mass=0.0280101),\n",
       " Molecule(name='CO2', solubility=<atmodeller.thermodynamics.BasaltDixonCO2 object at 0x1267357d0>, solid_melt_distribution_coefficient=0, elements={'C': 1, 'O': 2}, element_masses={'C': 0.0120107, 'O': 0.0319988}, molar_mass=0.0440095)]"
      ]
     },
     "execution_count": 14,
     "metadata": {},
     "output_type": "execute_result"
    }
   ],
   "source": [
    "molecules: list[Molecule] = []\n",
    "molecules.append(Molecule(name='H2O', solubility=PeridotiteH2O(), solid_melt_distribution_coefficient=0))\n",
    "molecules.append(Molecule(name='H2', solubility=NoSolubility(), solid_melt_distribution_coefficient=0))\n",
    "molecules.append(Molecule(name='O2', solubility=NoSolubility(), solid_melt_distribution_coefficient=0))\n",
    "molecules.append(Molecule(name='CO', solubility=NoSolubility(), solid_melt_distribution_coefficient=0))\n",
    "molecules.append(Molecule(name='CO2', solubility=BasaltDixonCO2(), solid_melt_distribution_coefficient=0))\n",
    "molecules"
   ]
  },
  {
   "attachments": {},
   "cell_type": "markdown",
   "metadata": {},
   "source": [
    "Now we define the constraints, and in this case we want to constrain the total mass of C and H in the system that can partition between the various reservoirs."
   ]
  },
  {
   "cell_type": "code",
   "execution_count": 15,
   "metadata": {},
   "outputs": [],
   "source": [
    "number_of_earth_oceans: float = 1\n",
    "# C/H ratio by mass.\n",
    "ch_ratio: float = 1\n",
    "\n",
    "mass_H: float = number_of_earth_oceans * OCEAN_MOLES * MolarMasses().H2\n",
    "mass_C: float = ch_ratio * mass_H\n",
    "\n",
    "constraints: list[SystemConstraint] = [\n",
    "    SystemConstraint(species=\"H\", value=mass_H, field=\"mass\"),\n",
    "    SystemConstraint(species=\"C\", value=mass_C, field=\"mass\"),\n",
    "]"
   ]
  },
  {
   "attachments": {},
   "cell_type": "markdown",
   "metadata": {},
   "source": [
    "We need to apply one more constraint, which is usually the oxygen fugacity and this can be done directly as before by specifying `fo2_constraint=True`:"
   ]
  },
  {
   "cell_type": "code",
   "execution_count": 16,
   "metadata": {},
   "outputs": [
    {
     "name": "stderr",
     "output_type": "stream",
     "text": [
      "22:17:36 - atmodeller.core                - INFO      - Creating a new planet\n",
      "22:17:36 - atmodeller.core                - INFO      - Mantle mass (kg) = 4.208261222595111e+24\n",
      "22:17:36 - atmodeller.core                - INFO      - Mantle melt fraction = 1.0\n",
      "22:17:36 - atmodeller.core                - INFO      - Core mass fraction = 0.295334691460966\n",
      "22:17:36 - atmodeller.core                - INFO      - Planetary radius (m) = 6371000.0\n",
      "22:17:36 - atmodeller.core                - INFO      - Planetary mass (kg) = 5.972e+24\n",
      "22:17:36 - atmodeller.core                - INFO      - Surface temperature (K) = 2000.000000\n",
      "22:17:36 - atmodeller.core                - INFO      - Surface gravity (m/s^2) = 9.819973426224687\n",
      "22:17:36 - atmodeller.core                - INFO      - Oxygen fugacity model (mantle) = IronWustiteBufferOneill\n",
      "22:17:36 - atmodeller.core                - INFO      - Oxygen fugacity log10 shift = 0.000000\n",
      "22:17:36 - atmodeller.core                - INFO      - Melt Composition = None\n",
      "22:17:36 - atmodeller.core                - INFO      - Creating a new interior-atmosphere system\n",
      "22:17:36 - atmodeller.core                - INFO      - Molecules = ['CO', 'H2', 'O2', 'CO2', 'H2O']\n",
      "22:17:36 - atmodeller.core                - INFO      - Molecules = ['CO', 'H2', 'O2', 'CO2', 'H2O']\n",
      "22:17:36 - atmodeller.core                - DEBUG     - number of unique elements = \n",
      "['H', 'O', 'C']\n",
      "22:17:36 - atmodeller.core                - DEBUG     - augmented_matrix = \n",
      "[[0. 1. 1. 1. 0. 0. 0. 0.]\n",
      " [2. 0. 0. 0. 1. 0. 0. 0.]\n",
      " [0. 2. 0. 0. 0. 1. 0. 0.]\n",
      " [0. 2. 1. 0. 0. 0. 1. 0.]\n",
      " [2. 1. 0. 0. 0. 0. 0. 1.]]\n",
      "22:17:36 - atmodeller.core                - DEBUG     - ratio = \n",
      "0.0\n",
      "22:17:36 - atmodeller.core                - DEBUG     - ratio = \n",
      "0.0\n",
      "22:17:36 - atmodeller.core                - DEBUG     - ratio = \n",
      "0.0\n",
      "22:17:36 - atmodeller.core                - DEBUG     - ratio = \n",
      "1.0\n",
      "22:17:36 - atmodeller.core                - DEBUG     - ratio = \n",
      "2.0\n",
      "22:17:36 - atmodeller.core                - DEBUG     - ratio = \n",
      "2.0\n",
      "22:17:36 - atmodeller.core                - DEBUG     - ratio = \n",
      "1.0\n",
      "22:17:36 - atmodeller.core                - DEBUG     - ratio = \n",
      "0.5\n",
      "22:17:36 - atmodeller.core                - DEBUG     - ratio = \n",
      "0.5\n",
      "22:17:36 - atmodeller.core                - DEBUG     - augmented_matrix after forward elimination = \n",
      "[[ 2.   0.   0.   0.   1.   0.   0.   0. ]\n",
      " [ 0.   1.   1.   1.   0.   0.   0.   0. ]\n",
      " [ 0.   0.  -2.  -2.   0.   1.   0.   0. ]\n",
      " [ 0.   0.   0.  -1.   0.  -0.5  1.   0. ]\n",
      " [ 0.   0.   0.   0.  -1.  -0.5  0.   1. ]]\n",
      "22:17:36 - atmodeller.core                - DEBUG     - augmented_matrix after backward substitution = \n",
      "[[ 1.   0.   0.   0.   0.5  0.   0.   0. ]\n",
      " [ 0.   1.   0.   0.   0.   0.5  0.   0. ]\n",
      " [-0.  -0.   1.   1.  -0.  -0.5 -0.  -0. ]\n",
      " [ 0.   0.   0.  -1.   0.  -0.5  1.   0. ]\n",
      " [ 0.   0.   0.   0.  -1.  -0.5  0.   1. ]]\n",
      "22:17:36 - atmodeller.core                - DEBUG     - reduced_matrix1 = \n",
      "[[ 1.  0.  0.]\n",
      " [ 0.  1.  0.]\n",
      " [-0. -0.  1.]\n",
      " [ 0.  0.  0.]\n",
      " [ 0.  0.  0.]]\n",
      "22:17:36 - atmodeller.core                - DEBUG     - reaction_matrix = \n",
      "[[-1.   0.  -0.5  1.   0. ]\n",
      " [ 0.  -1.  -0.5  0.   1. ]]\n",
      "22:17:36 - atmodeller.core                - INFO      - Reactions = \n",
      "{0: '1.0 CO + 0.5 O2 = 1.0 CO2', 1: '1.0 H2 + 0.5 O2 = 1.0 H2O'}\n",
      "22:17:36 - atmodeller.core                - INFO      - Constraints: [SystemConstraint(species='H', value=1.5499384884020874e+20, field='mass'),\n",
      " SystemConstraint(species='C', value=1.5499384884020874e+20, field='mass')]\n",
      "22:17:36 - atmodeller.core                - INFO      - Mixed pressure and mass constraints so attempting to solve a non-linear system of equations\n",
      "22:17:36 - atmodeller.core                - INFO      - Adding fO2 as an additional constraint using IronWustiteBufferOneill with fO2_shift = 0.00\n",
      "22:17:36 - atmodeller.core                - INFO      - 2 additional (not pressure) constraint(s) are necessary to solve the system\n",
      "22:17:36 - atmodeller.core                - INFO      - Row 00: Reaction 0: 1.0 CO + 0.5 O2 = 1.0 CO2\n",
      "22:17:36 - atmodeller.thermodynamics      - DEBUG     - Molecule = CO, standard Gibbs energy of formation = -285748.794118\n",
      "22:17:36 - atmodeller.thermodynamics      - DEBUG     - Molecule = H2, standard Gibbs energy of formation = 0.000000\n",
      "22:17:36 - atmodeller.thermodynamics      - DEBUG     - Molecule = O2, standard Gibbs energy of formation = 0.000000\n",
      "22:17:36 - atmodeller.thermodynamics      - DEBUG     - Molecule = CO2, standard Gibbs energy of formation = -396237.816176\n",
      "22:17:36 - atmodeller.thermodynamics      - DEBUG     - Molecule = H2O, standard Gibbs energy of formation = -135456.022059\n",
      "22:17:36 - atmodeller.core                - INFO      - Row 01: Reaction 1: 1.0 H2 + 0.5 O2 = 1.0 H2O\n",
      "22:17:36 - atmodeller.thermodynamics      - DEBUG     - Molecule = CO, standard Gibbs energy of formation = -285748.794118\n",
      "22:17:36 - atmodeller.thermodynamics      - DEBUG     - Molecule = H2, standard Gibbs energy of formation = 0.000000\n",
      "22:17:36 - atmodeller.thermodynamics      - DEBUG     - Molecule = O2, standard Gibbs energy of formation = 0.000000\n",
      "22:17:36 - atmodeller.thermodynamics      - DEBUG     - Molecule = CO2, standard Gibbs energy of formation = -396237.816176\n",
      "22:17:36 - atmodeller.thermodynamics      - DEBUG     - Molecule = H2O, standard Gibbs energy of formation = -135456.022059\n",
      "22:17:36 - atmodeller.core                - INFO      - Row 02: Setting O2 partial pressure\n",
      "22:17:36 - atmodeller.core                - DEBUG     - Design matrix = \n",
      "[[-1.   0.  -0.5  1.   0. ]\n",
      " [ 0.  -1.  -0.5  0.   1. ]\n",
      " [ 0.   0.   1.   0.   0. ]]\n",
      "22:17:36 - atmodeller.core                - DEBUG     - RHS vector = \n",
      "[ 2.8856208   3.5376792  -7.40782384]\n",
      "22:17:36 - atmodeller.core                - INFO      - Adding constraint from mass balance: H\n",
      "22:17:36 - atmodeller.core                - INFO      - Adding constraint from mass balance: C\n",
      "22:17:36 - atmodeller.core                - DEBUG     - initial_log10_pressures = [1. 1. 1. 1. 1.]\n",
      "22:17:36 - atmodeller.core                - DEBUG     - residual_reaction = [-3.3856208  -4.0376792   8.40782384]\n",
      "22:17:36 - atmodeller.core                - DEBUG     - residual_mass = [ 4.18469875 -0.64172189]\n",
      "22:17:36 - atmodeller.core                - DEBUG     - residual = [-3.3856208  -4.0376792   8.40782384  4.18469875 -0.64172189]\n",
      "22:17:36 - atmodeller.core                - DEBUG     - residual_reaction = [-3.3856208  -4.0376792   8.40782384]\n",
      "22:17:36 - atmodeller.core                - DEBUG     - residual_mass = [ 4.18469875 -0.64172189]\n",
      "22:17:36 - atmodeller.core                - DEBUG     - residual = [-3.3856208  -4.0376792   8.40782384  4.18469875 -0.64172189]\n",
      "22:17:36 - atmodeller.core                - DEBUG     - residual_reaction = [-3.3856208  -4.0376792   8.40782384]\n",
      "22:17:36 - atmodeller.core                - DEBUG     - residual_mass = [ 4.18469875 -0.64172189]\n",
      "22:17:36 - atmodeller.core                - DEBUG     - residual = [-3.3856208  -4.0376792   8.40782384  4.18469875 -0.64172189]\n",
      "22:17:36 - atmodeller.core                - DEBUG     - residual_reaction = [-3.38562082 -4.0376792   8.40782384]\n",
      "22:17:36 - atmodeller.core                - DEBUG     - residual_mass = [ 4.18469875 -0.64172188]\n",
      "22:17:36 - atmodeller.core                - DEBUG     - residual = [-3.38562082 -4.0376792   8.40782384  4.18469875 -0.64172188]\n",
      "22:17:36 - atmodeller.core                - DEBUG     - residual_reaction = [-3.3856208  -4.03767921  8.40782384]\n",
      "22:17:36 - atmodeller.core                - DEBUG     - residual_mass = [ 4.18469875 -0.64172188]\n",
      "22:17:36 - atmodeller.core                - DEBUG     - residual = [-3.3856208  -4.03767921  8.40782384  4.18469875 -0.64172188]\n",
      "22:17:36 - atmodeller.core                - DEBUG     - residual_reaction = [-3.38562081 -4.03767921  8.40782386]\n",
      "22:17:36 - atmodeller.core                - DEBUG     - residual_mass = [ 4.18469875 -0.64172189]\n",
      "22:17:36 - atmodeller.core                - DEBUG     - residual = [-3.38562081 -4.03767921  8.40782386  4.18469875 -0.64172189]\n",
      "22:17:36 - atmodeller.core                - DEBUG     - residual_reaction = [-3.38562079 -4.0376792   8.40782384]\n",
      "22:17:36 - atmodeller.core                - DEBUG     - residual_mass = [ 4.18469875 -0.64172188]\n",
      "22:17:36 - atmodeller.core                - DEBUG     - residual = [-3.38562079 -4.0376792   8.40782384  4.18469875 -0.64172188]\n",
      "22:17:36 - atmodeller.core                - DEBUG     - residual_reaction = [-3.3856208  -4.03767918  8.40782384]\n",
      "22:17:36 - atmodeller.core                - DEBUG     - residual_mass = [ 4.18469884 -0.64172188]\n",
      "22:17:36 - atmodeller.core                - DEBUG     - residual = [-3.3856208  -4.03767918  8.40782384  4.18469884 -0.64172188]\n",
      "22:17:36 - atmodeller.core                - DEBUG     - residual_reaction = [ 7.38431538e-12  8.80495676e-12 -1.83382198e-11]\n",
      "22:17:36 - atmodeller.core                - DEBUG     - residual_mass = [1.29806606 0.46012164]\n",
      "22:17:36 - atmodeller.core                - DEBUG     - residual = [ 7.38431538e-12  8.80495676e-12 -1.83382198e-11  1.29806606e+00\n",
      "  4.60121636e-01]\n",
      "22:17:36 - atmodeller.core                - DEBUG     - residual_reaction = [-3.02868841e-13 -3.61488617e-13  7.53175300e-13]\n",
      "22:17:36 - atmodeller.core                - DEBUG     - residual_mass = [ 0.77132325 -0.64614859]\n",
      "22:17:36 - atmodeller.core                - DEBUG     - residual = [-3.02868841e-13 -3.61488617e-13  7.53175300e-13  7.71323250e-01\n",
      " -6.46148594e-01]\n",
      "22:17:36 - atmodeller.core                - DEBUG     - residual_reaction = [-2.74003042e-13 -3.26849658e-13  6.79456491e-13]\n",
      "22:17:36 - atmodeller.core                - DEBUG     - residual_mass = [0.53850963 1.47287112]\n",
      "22:17:36 - atmodeller.core                - DEBUG     - residual = [-2.74003042e-13 -3.26849658e-13  6.79456491e-13  5.38509630e-01\n",
      "  1.47287112e+00]\n",
      "22:17:36 - atmodeller.core                - DEBUG     - residual_reaction = [-2.57571742e-14 -2.93098879e-14  6.12843110e-14]\n",
      "22:17:36 - atmodeller.core                - DEBUG     - residual_mass = [ 0.21191139 -0.52914544]\n",
      "22:17:36 - atmodeller.core                - DEBUG     - residual = [-2.57571742e-14 -2.93098879e-14  6.12843110e-14  2.11911390e-01\n",
      " -5.29145445e-01]\n",
      "22:17:36 - atmodeller.core                - DEBUG     - residual_reaction = [ 3.55271368e-15  3.55271368e-15 -7.10542736e-15]\n",
      "22:17:36 - atmodeller.core                - DEBUG     - residual_mass = [ 0.03743794 -0.12964628]\n",
      "22:17:36 - atmodeller.core                - DEBUG     - residual = [ 3.55271368e-15  3.55271368e-15 -7.10542736e-15  3.74379361e-02\n",
      " -1.29646281e-01]\n",
      "22:17:36 - atmodeller.core                - DEBUG     - residual_reaction = [ 4.4408921e-16  4.4408921e-16 -8.8817842e-16]\n",
      "22:17:36 - atmodeller.core                - DEBUG     - residual_mass = [0.00164659 0.04434319]\n",
      "22:17:36 - atmodeller.core                - DEBUG     - residual = [ 4.44089210e-16  4.44089210e-16 -8.88178420e-16  1.64658794e-03\n",
      "  4.43431944e-02]\n",
      "22:17:36 - atmodeller.core                - DEBUG     - residual_reaction = [-4.4408921e-16 -4.4408921e-16  8.8817842e-16]\n",
      "22:17:36 - atmodeller.core                - DEBUG     - residual_mass = [ 0.00207924 -0.00045666]\n",
      "22:17:36 - atmodeller.core                - DEBUG     - residual = [-4.44089210e-16 -4.44089210e-16  8.88178420e-16  2.07923888e-03\n",
      " -4.56663325e-04]\n",
      "22:17:36 - atmodeller.core                - DEBUG     - residual_reaction = [0. 0. 0.]\n",
      "22:17:36 - atmodeller.core                - DEBUG     - residual_mass = [0.00048981 0.00046929]\n",
      "22:17:36 - atmodeller.core                - DEBUG     - residual = [0.         0.         0.         0.00048981 0.00046929]\n",
      "22:17:36 - atmodeller.core                - DEBUG     - residual_reaction = [ 0.0000000e+00 -4.4408921e-16  0.0000000e+00]\n",
      "22:17:36 - atmodeller.core                - DEBUG     - residual_mass = [4.78044480e-06 2.01684767e-05]\n",
      "22:17:36 - atmodeller.core                - DEBUG     - residual = [ 0.00000000e+00 -4.44089210e-16  0.00000000e+00  4.78044480e-06\n",
      "  2.01684767e-05]\n",
      "22:17:36 - atmodeller.core                - DEBUG     - residual_reaction = [4.4408921e-16 4.4408921e-16 0.0000000e+00]\n",
      "22:17:36 - atmodeller.core                - DEBUG     - residual_mass = [8.90974237e-08 4.18447901e-07]\n",
      "22:17:36 - atmodeller.core                - DEBUG     - residual = [4.44089210e-16 4.44089210e-16 0.00000000e+00 8.90974237e-08\n",
      " 4.18447901e-07]\n",
      "22:17:36 - atmodeller.core                - DEBUG     - residual_reaction = [0. 0. 0.]\n",
      "22:17:36 - atmodeller.core                - DEBUG     - residual_mass = [2.05856957e-10 9.82318977e-10]\n",
      "22:17:36 - atmodeller.core                - DEBUG     - residual = [0.00000000e+00 0.00000000e+00 0.00000000e+00 2.05856957e-10\n",
      " 9.82318977e-10]\n",
      "22:17:36 - atmodeller.core                - DEBUG     - residual_reaction = [0. 0. 0.]\n",
      "22:17:36 - atmodeller.core                - DEBUG     - residual_mass = [7.20924610e-14 3.42703458e-13]\n",
      "22:17:36 - atmodeller.core                - DEBUG     - residual = [0.00000000e+00 0.00000000e+00 0.00000000e+00 7.20924610e-14\n",
      " 3.42703458e-13]\n",
      "22:17:36 - atmodeller.core                - INFO      - The solution converged.\n",
      "22:17:36 - atmodeller.core                - INFO      - Number of function calls = 18\n",
      "22:17:36 - atmodeller.core                - INFO      - Final objective function evaluation = [0.00000000e+00 0.00000000e+00 0.00000000e+00 7.20924610e-14\n",
      " 3.42703458e-13]\n",
      "22:17:36 - atmodeller.core                - INFO      - {'CO': 62.3034114575045,\n",
      " 'CO2': 9.467181627815878,\n",
      " 'H2': 0.5547795429001949,\n",
      " 'H2O': 0.378344754346716,\n",
      " 'O2': 3.9099946023954954e-08}\n"
     ]
    },
    {
     "data": {
      "text/plain": [
       "{'CO': 62.3034114575045,\n",
       " 'H2': 0.5547795429001949,\n",
       " 'O2': 3.9099946023954954e-08,\n",
       " 'CO2': 9.467181627815878,\n",
       " 'H2O': 0.378344754346716}"
      ]
     },
     "execution_count": 16,
     "metadata": {},
     "output_type": "execute_result"
    }
   ],
   "source": [
    "interior_atmosphere: InteriorAtmosphereSystem = InteriorAtmosphereSystem(molecules=molecules)\n",
    "interior_atmosphere.solve(constraints, fo2_constraint=True)\n",
    "interior_atmosphere.pressures_dict"
   ]
  },
  {
   "attachments": {},
   "cell_type": "markdown",
   "metadata": {},
   "source": [
    "### 4. Including more species such as CH4\n",
    "\n",
    "It is straightforward to add more species to the system, although they must have their formation energies and masses already specified in the code."
   ]
  },
  {
   "cell_type": "code",
   "execution_count": 17,
   "metadata": {},
   "outputs": [
    {
     "name": "stderr",
     "output_type": "stream",
     "text": [
      "22:17:36 - atmodeller.core                - INFO      - Creating a molecule: H2O\n",
      "22:17:36 - atmodeller.core                - DEBUG     - element count = \n",
      "{'H': 2, 'O': 1}\n",
      "22:17:36 - atmodeller.core                - INFO      - Creating a molecule: H2\n",
      "22:17:36 - atmodeller.core                - DEBUG     - element count = \n",
      "{'H': 2}\n",
      "22:17:36 - atmodeller.core                - INFO      - Creating a molecule: O2\n",
      "22:17:36 - atmodeller.core                - DEBUG     - element count = \n",
      "{'O': 2}\n",
      "22:17:36 - atmodeller.core                - INFO      - Creating a molecule: CO\n",
      "22:17:36 - atmodeller.core                - DEBUG     - element count = \n",
      "{'C': 1, 'O': 1}\n",
      "22:17:36 - atmodeller.core                - INFO      - Creating a molecule: CO2\n",
      "22:17:36 - atmodeller.core                - DEBUG     - element count = \n",
      "{'C': 1, 'O': 2}\n",
      "22:17:36 - atmodeller.core                - INFO      - Creating a molecule: CH4\n",
      "22:17:36 - atmodeller.core                - DEBUG     - element count = \n",
      "{'C': 1, 'H': 4}\n"
     ]
    },
    {
     "data": {
      "text/plain": [
       "[Molecule(name='H2O', solubility=<atmodeller.thermodynamics.PeridotiteH2O object at 0x126759ed0>, solid_melt_distribution_coefficient=0, elements={'H': 2, 'O': 1}, element_masses={'H': 0.0020158, 'O': 0.0159994}, molar_mass=0.018015200000000002),\n",
       " Molecule(name='H2', solubility=<atmodeller.thermodynamics.NoSolubility object at 0x126727510>, solid_melt_distribution_coefficient=0, elements={'H': 2}, element_masses={'H': 0.0020158}, molar_mass=0.0020158),\n",
       " Molecule(name='O2', solubility=<atmodeller.thermodynamics.NoSolubility object at 0x12672de10>, solid_melt_distribution_coefficient=0, elements={'O': 2}, element_masses={'O': 0.0319988}, molar_mass=0.0319988),\n",
       " Molecule(name='CO', solubility=<atmodeller.thermodynamics.NoSolubility object at 0x126752210>, solid_melt_distribution_coefficient=0, elements={'C': 1, 'O': 1}, element_masses={'C': 0.0120107, 'O': 0.0159994}, molar_mass=0.0280101),\n",
       " Molecule(name='CO2', solubility=<atmodeller.thermodynamics.BasaltDixonCO2 object at 0x1261739d0>, solid_melt_distribution_coefficient=0, elements={'C': 1, 'O': 2}, element_masses={'C': 0.0120107, 'O': 0.0319988}, molar_mass=0.0440095),\n",
       " Molecule(name='CH4', solubility=<atmodeller.thermodynamics.NoSolubility object at 0x12672c290>, solid_melt_distribution_coefficient=0, elements={'C': 1, 'H': 4}, element_masses={'C': 0.0120107, 'H': 0.0040316}, molar_mass=0.0160423)]"
      ]
     },
     "execution_count": 17,
     "metadata": {},
     "output_type": "execute_result"
    }
   ],
   "source": [
    "molecules: list[Molecule] = []\n",
    "molecules.append(Molecule(name='H2O', solubility=PeridotiteH2O(), solid_melt_distribution_coefficient=0))\n",
    "molecules.append(Molecule(name='H2', solubility=NoSolubility(), solid_melt_distribution_coefficient=0))\n",
    "molecules.append(Molecule(name='O2', solubility=NoSolubility(), solid_melt_distribution_coefficient=0))\n",
    "molecules.append(Molecule(name='CO', solubility=NoSolubility(), solid_melt_distribution_coefficient=0))\n",
    "molecules.append(Molecule(name='CO2', solubility=BasaltDixonCO2(), solid_melt_distribution_coefficient=0))\n",
    "molecules.append(Molecule(name='CH4', solubility=NoSolubility(), solid_melt_distribution_coefficient=0))\n",
    "molecules"
   ]
  },
  {
   "attachments": {},
   "cell_type": "markdown",
   "metadata": {},
   "source": [
    "We define a mixture of mass and oxygen fugacity constraints as before and solve the system. CH4 is not prevalent at 2000 K so the results are almost identical to those without CH4 presented above."
   ]
  },
  {
   "cell_type": "code",
   "execution_count": 18,
   "metadata": {},
   "outputs": [
    {
     "name": "stderr",
     "output_type": "stream",
     "text": [
      "22:17:36 - atmodeller.core                - INFO      - Creating a new planet\n",
      "22:17:36 - atmodeller.core                - INFO      - Mantle mass (kg) = 4.208261222595111e+24\n",
      "22:17:36 - atmodeller.core                - INFO      - Mantle melt fraction = 1.0\n",
      "22:17:36 - atmodeller.core                - INFO      - Core mass fraction = 0.295334691460966\n",
      "22:17:36 - atmodeller.core                - INFO      - Planetary radius (m) = 6371000.0\n",
      "22:17:36 - atmodeller.core                - INFO      - Planetary mass (kg) = 5.972e+24\n",
      "22:17:36 - atmodeller.core                - INFO      - Surface temperature (K) = 2000.000000\n",
      "22:17:36 - atmodeller.core                - INFO      - Surface gravity (m/s^2) = 9.819973426224687\n",
      "22:17:36 - atmodeller.core                - INFO      - Oxygen fugacity model (mantle) = IronWustiteBufferOneill\n",
      "22:17:36 - atmodeller.core                - INFO      - Oxygen fugacity log10 shift = 0.000000\n",
      "22:17:36 - atmodeller.core                - INFO      - Melt Composition = None\n",
      "22:17:36 - atmodeller.core                - INFO      - Creating a new interior-atmosphere system\n",
      "22:17:36 - atmodeller.core                - INFO      - Molecules = ['CO', 'H2', 'O2', 'CO2', 'H2O', 'CH4']\n",
      "22:17:36 - atmodeller.core                - INFO      - Molecules = ['CO', 'H2', 'O2', 'CO2', 'H2O', 'CH4']\n",
      "22:17:36 - atmodeller.core                - DEBUG     - number of unique elements = \n",
      "['H', 'O', 'C']\n",
      "22:17:36 - atmodeller.core                - DEBUG     - augmented_matrix = \n",
      "[[0. 1. 1. 1. 0. 0. 0. 0. 0.]\n",
      " [2. 0. 0. 0. 1. 0. 0. 0. 0.]\n",
      " [0. 2. 0. 0. 0. 1. 0. 0. 0.]\n",
      " [0. 2. 1. 0. 0. 0. 1. 0. 0.]\n",
      " [2. 1. 0. 0. 0. 0. 0. 1. 0.]\n",
      " [4. 0. 1. 0. 0. 0. 0. 0. 1.]]\n",
      "22:17:36 - atmodeller.core                - DEBUG     - ratio = \n",
      "0.0\n",
      "22:17:36 - atmodeller.core                - DEBUG     - ratio = \n",
      "0.0\n",
      "22:17:36 - atmodeller.core                - DEBUG     - ratio = \n",
      "0.0\n",
      "22:17:36 - atmodeller.core                - DEBUG     - ratio = \n",
      "1.0\n",
      "22:17:36 - atmodeller.core                - DEBUG     - ratio = \n",
      "2.0\n",
      "22:17:36 - atmodeller.core                - DEBUG     - ratio = \n",
      "2.0\n",
      "22:17:36 - atmodeller.core                - DEBUG     - ratio = \n",
      "2.0\n",
      "22:17:36 - atmodeller.core                - DEBUG     - ratio = \n",
      "1.0\n",
      "22:17:36 - atmodeller.core                - DEBUG     - ratio = \n",
      "0.0\n",
      "22:17:36 - atmodeller.core                - DEBUG     - ratio = \n",
      "0.5\n",
      "22:17:36 - atmodeller.core                - DEBUG     - ratio = \n",
      "0.5\n",
      "22:17:36 - atmodeller.core                - DEBUG     - ratio = \n",
      "-0.5\n",
      "22:17:36 - atmodeller.core                - DEBUG     - augmented_matrix after forward elimination = \n",
      "[[ 2.   0.   0.   0.   1.   0.   0.   0.   0. ]\n",
      " [ 0.   1.   1.   1.   0.   0.   0.   0.   0. ]\n",
      " [ 0.   0.  -2.  -2.   0.   1.   0.   0.   0. ]\n",
      " [ 0.   0.   0.  -1.   0.  -0.5  1.   0.   0. ]\n",
      " [ 0.   0.   0.   0.  -1.  -0.5  0.   1.   0. ]\n",
      " [ 0.   0.   0.  -1.  -2.   0.5  0.   0.   1. ]]\n",
      "22:17:36 - atmodeller.core                - DEBUG     - augmented_matrix after backward substitution = \n",
      "[[ 1.   0.   0.   0.   0.5  0.   0.   0.   0. ]\n",
      " [ 0.   1.   0.   0.   0.   0.5  0.   0.   0. ]\n",
      " [-0.  -0.   1.   1.  -0.  -0.5 -0.  -0.  -0. ]\n",
      " [ 0.   0.   0.  -1.   0.  -0.5  1.   0.   0. ]\n",
      " [ 0.   0.   0.   0.  -1.  -0.5  0.   1.   0. ]\n",
      " [ 0.   0.   0.  -1.  -2.   0.5  0.   0.   1. ]]\n",
      "22:17:36 - atmodeller.core                - DEBUG     - reduced_matrix1 = \n",
      "[[ 1.  0.  0.]\n",
      " [ 0.  1.  0.]\n",
      " [-0. -0.  1.]\n",
      " [ 0.  0.  0.]\n",
      " [ 0.  0.  0.]\n",
      " [ 0.  0.  0.]]\n",
      "22:17:36 - atmodeller.core                - DEBUG     - reaction_matrix = \n",
      "[[-1.   0.  -0.5  1.   0.   0. ]\n",
      " [ 0.  -1.  -0.5  0.   1.   0. ]\n",
      " [-1.  -2.   0.5  0.   0.   1. ]]\n",
      "22:17:36 - atmodeller.core                - INFO      - Reactions = \n",
      "{0: '1.0 CO + 0.5 O2 = 1.0 CO2',\n",
      " 1: '1.0 H2 + 0.5 O2 = 1.0 H2O',\n",
      " 2: '1.0 CO + 2.0 H2 = 0.5 O2 + 1.0 CH4'}\n",
      "22:17:36 - atmodeller.core                - INFO      - Constraints: [SystemConstraint(species='H', value=1.5499384884020874e+20, field='mass'),\n",
      " SystemConstraint(species='C', value=1.5499384884020874e+20, field='mass')]\n",
      "22:17:36 - atmodeller.core                - INFO      - Mixed pressure and mass constraints so attempting to solve a non-linear system of equations\n",
      "22:17:37 - atmodeller.core                - INFO      - Adding fO2 as an additional constraint using IronWustiteBufferOneill with fO2_shift = 0.00\n",
      "22:17:37 - atmodeller.core                - INFO      - 2 additional (not pressure) constraint(s) are necessary to solve the system\n",
      "22:17:37 - atmodeller.core                - INFO      - Row 00: Reaction 0: 1.0 CO + 0.5 O2 = 1.0 CO2\n",
      "22:17:37 - atmodeller.thermodynamics      - DEBUG     - Molecule = CO, standard Gibbs energy of formation = -285748.794118\n",
      "22:17:37 - atmodeller.thermodynamics      - DEBUG     - Molecule = H2, standard Gibbs energy of formation = 0.000000\n",
      "22:17:37 - atmodeller.thermodynamics      - DEBUG     - Molecule = O2, standard Gibbs energy of formation = 0.000000\n",
      "22:17:37 - atmodeller.thermodynamics      - DEBUG     - Molecule = CO2, standard Gibbs energy of formation = -396237.816176\n",
      "22:17:37 - atmodeller.thermodynamics      - DEBUG     - Molecule = H2O, standard Gibbs energy of formation = -135456.022059\n",
      "22:17:37 - atmodeller.thermodynamics      - DEBUG     - Molecule = CH4, standard Gibbs energy of formation = 130777.507353\n",
      "22:17:37 - atmodeller.core                - INFO      - Row 01: Reaction 1: 1.0 H2 + 0.5 O2 = 1.0 H2O\n",
      "22:17:37 - atmodeller.thermodynamics      - DEBUG     - Molecule = CO, standard Gibbs energy of formation = -285748.794118\n",
      "22:17:37 - atmodeller.thermodynamics      - DEBUG     - Molecule = H2, standard Gibbs energy of formation = 0.000000\n",
      "22:17:37 - atmodeller.thermodynamics      - DEBUG     - Molecule = O2, standard Gibbs energy of formation = 0.000000\n",
      "22:17:37 - atmodeller.thermodynamics      - DEBUG     - Molecule = CO2, standard Gibbs energy of formation = -396237.816176\n",
      "22:17:37 - atmodeller.thermodynamics      - DEBUG     - Molecule = H2O, standard Gibbs energy of formation = -135456.022059\n",
      "22:17:37 - atmodeller.thermodynamics      - DEBUG     - Molecule = CH4, standard Gibbs energy of formation = 130777.507353\n",
      "22:17:37 - atmodeller.core                - INFO      - Row 02: Reaction 2: 1.0 CO + 2.0 H2 = 0.5 O2 + 1.0 CH4\n",
      "22:17:37 - atmodeller.thermodynamics      - DEBUG     - Molecule = CO, standard Gibbs energy of formation = -285748.794118\n",
      "22:17:37 - atmodeller.thermodynamics      - DEBUG     - Molecule = H2, standard Gibbs energy of formation = 0.000000\n",
      "22:17:37 - atmodeller.thermodynamics      - DEBUG     - Molecule = O2, standard Gibbs energy of formation = 0.000000\n",
      "22:17:37 - atmodeller.thermodynamics      - DEBUG     - Molecule = CO2, standard Gibbs energy of formation = -396237.816176\n",
      "22:17:37 - atmodeller.thermodynamics      - DEBUG     - Molecule = H2O, standard Gibbs energy of formation = -135456.022059\n",
      "22:17:37 - atmodeller.thermodynamics      - DEBUG     - Molecule = CH4, standard Gibbs energy of formation = 130777.507353\n",
      "22:17:37 - atmodeller.core                - INFO      - Row 03: Setting O2 partial pressure\n",
      "22:17:37 - atmodeller.core                - DEBUG     - Design matrix = \n",
      "[[-1.   0.  -0.5  1.   0.   0. ]\n",
      " [ 0.  -1.  -0.5  0.   1.   0. ]\n",
      " [-1.  -2.   0.5  0.   0.   1. ]\n",
      " [ 0.   0.   1.   0.   0.   0. ]]\n",
      "22:17:37 - atmodeller.core                - DEBUG     - RHS vector = \n",
      "[  2.8856208    3.5376792  -10.8783383   -7.40782384]\n",
      "22:17:37 - atmodeller.core                - INFO      - Adding constraint from mass balance: H\n",
      "22:17:37 - atmodeller.core                - INFO      - Adding constraint from mass balance: C\n",
      "22:17:37 - atmodeller.core                - DEBUG     - initial_log10_pressures = [1. 1. 1. 1. 1. 1.]\n",
      "22:17:37 - atmodeller.core                - DEBUG     - residual_reaction = [-3.3856208  -4.0376792   9.3783383   8.40782384]\n",
      "22:17:37 - atmodeller.core                - DEBUG     - residual_mass = [ 4.245972   -0.44902692]\n",
      "22:17:37 - atmodeller.core                - DEBUG     - residual = [-3.3856208  -4.0376792   9.3783383   8.40782384  4.245972   -0.44902692]\n",
      "22:17:37 - atmodeller.core                - DEBUG     - residual_reaction = [-3.3856208  -4.0376792   9.3783383   8.40782384]\n",
      "22:17:37 - atmodeller.core                - DEBUG     - residual_mass = [ 4.245972   -0.44902692]\n",
      "22:17:37 - atmodeller.core                - DEBUG     - residual = [-3.3856208  -4.0376792   9.3783383   8.40782384  4.245972   -0.44902692]\n",
      "22:17:37 - atmodeller.core                - DEBUG     - residual_reaction = [-3.3856208  -4.0376792   9.3783383   8.40782384]\n",
      "22:17:37 - atmodeller.core                - DEBUG     - residual_mass = [ 4.245972   -0.44902692]\n",
      "22:17:37 - atmodeller.core                - DEBUG     - residual = [-3.3856208  -4.0376792   9.3783383   8.40782384  4.245972   -0.44902692]\n",
      "22:17:37 - atmodeller.core                - DEBUG     - residual_reaction = [-3.38562082 -4.0376792   9.37833829  8.40782384]\n",
      "22:17:37 - atmodeller.core                - DEBUG     - residual_mass = [ 4.245972   -0.44902692]\n",
      "22:17:37 - atmodeller.core                - DEBUG     - residual = [-3.38562082 -4.0376792   9.37833829  8.40782384  4.245972   -0.44902692]\n",
      "22:17:37 - atmodeller.core                - DEBUG     - residual_reaction = [-3.3856208  -4.03767921  9.37833827  8.40782384]\n",
      "22:17:37 - atmodeller.core                - DEBUG     - residual_mass = [ 4.245972   -0.44902692]\n",
      "22:17:37 - atmodeller.core                - DEBUG     - residual = [-3.3856208  -4.03767921  9.37833827  8.40782384  4.245972   -0.44902692]\n",
      "22:17:37 - atmodeller.core                - DEBUG     - residual_reaction = [-3.38562081 -4.03767921  9.37833831  8.40782386]\n",
      "22:17:37 - atmodeller.core                - DEBUG     - residual_mass = [ 4.245972   -0.44902692]\n",
      "22:17:37 - atmodeller.core                - DEBUG     - residual = [-3.38562081 -4.03767921  9.37833831  8.40782386  4.245972   -0.44902692]\n",
      "22:17:37 - atmodeller.core                - DEBUG     - residual_reaction = [-3.38562079 -4.0376792   9.3783383   8.40782384]\n",
      "22:17:37 - atmodeller.core                - DEBUG     - residual_mass = [ 4.24597199 -0.44902692]\n",
      "22:17:37 - atmodeller.core                - DEBUG     - residual = [-3.38562079 -4.0376792   9.3783383   8.40782384  4.24597199 -0.44902692]\n",
      "22:17:37 - atmodeller.core                - DEBUG     - residual_reaction = [-3.3856208  -4.03767918  9.3783383   8.40782384]\n",
      "22:17:37 - atmodeller.core                - DEBUG     - residual_mass = [ 4.24597208 -0.44902692]\n",
      "22:17:37 - atmodeller.core                - DEBUG     - residual = [-3.3856208  -4.03767918  9.3783383   8.40782384  4.24597208 -0.44902692]\n",
      "22:17:37 - atmodeller.core                - DEBUG     - residual_reaction = [-3.3856208  -4.0376792   9.37833832  8.40782384]\n",
      "22:17:37 - atmodeller.core                - DEBUG     - residual_mass = [ 4.245972   -0.44902692]\n",
      "22:17:37 - atmodeller.core                - DEBUG     - residual = [-3.3856208  -4.0376792   9.37833832  8.40782384  4.245972   -0.44902692]\n",
      "22:17:37 - atmodeller.core                - DEBUG     - residual_reaction = [ 7.38253902e-12  8.80406859e-12 -2.04547490e-11 -1.83364435e-11]\n",
      "22:17:37 - atmodeller.core                - DEBUG     - residual_mass = [ 1.51317159 73.9566177 ]\n",
      "22:17:37 - atmodeller.core                - DEBUG     - residual = [ 7.38253902e-12  8.80406859e-12 -2.04547490e-11 -1.83364435e-11\n",
      "  1.51317159e+00  7.39566177e+01]\n",
      "22:17:37 - atmodeller.core                - DEBUG     - residual_reaction = [-2.80392036 -3.50605134  7.54251812  7.07811905]\n",
      "22:17:37 - atmodeller.core                - DEBUG     - residual_mass = [ 3.95010788 -0.99813362]\n",
      "22:17:37 - atmodeller.core                - DEBUG     - residual = [-2.80392036 -3.50605134  7.54251812  7.07811905  3.95010788 -0.99813362]\n",
      "22:17:37 - atmodeller.core                - DEBUG     - residual_reaction = [-1.64145172 -2.15484167  4.30540209  4.22393363]\n",
      "22:17:37 - atmodeller.core                - DEBUG     - residual_mass = [ 2.59148465 -0.99999999]\n",
      "22:17:37 - atmodeller.core                - DEBUG     - residual = [-1.64145172 -2.15484167  4.30540209  4.22393363  2.59148465 -0.99999999]\n",
      "22:17:37 - atmodeller.core                - DEBUG     - residual_reaction = [-2.90434343e-13  1.90070182e-13  1.38378198e-12  3.05533376e-13]\n",
      "22:17:37 - atmodeller.core                - DEBUG     - residual_mass = [ 0.97527023 -1.        ]\n",
      "22:17:37 - atmodeller.core                - DEBUG     - residual = [-2.90434343e-13  1.90070182e-13  1.38378198e-12  3.05533376e-13\n",
      "  9.75270225e-01 -1.00000000e+00]\n",
      "22:17:37 - atmodeller.core                - DEBUG     - residual_reaction = [-2.40696352e-13 -3.12194715e-13  6.37712105e-13  6.18172180e-13]\n",
      "22:17:37 - atmodeller.core                - DEBUG     - residual_mass = [ 0.62091354 -1.        ]\n",
      "22:17:37 - atmodeller.core                - DEBUG     - residual = [-2.40696352e-13 -3.12194715e-13  6.37712105e-13  6.18172180e-13\n",
      "  6.20913540e-01 -1.00000000e+00]\n",
      "22:17:37 - atmodeller.core                - DEBUG     - residual_reaction = [-5.06261699e-14 -5.32907052e-14  1.42108547e-13  1.17239551e-13]\n",
      "22:17:37 - atmodeller.core                - DEBUG     - residual_mass = [ 0.22349569 -1.        ]\n",
      "22:17:37 - atmodeller.core                - DEBUG     - residual = [-5.06261699e-14 -5.32907052e-14  1.42108547e-13  1.17239551e-13\n",
      "  2.23495694e-01 -1.00000000e+00]\n",
      "22:17:37 - atmodeller.core                - DEBUG     - residual_reaction = [-4.70734562e-14 -5.32907052e-14  1.38555833e-13  1.16351373e-13]\n",
      "22:17:37 - atmodeller.core                - DEBUG     - residual_mass = [ 0.13988361 -1.        ]\n",
      "22:17:37 - atmodeller.core                - DEBUG     - residual = [-4.70734562e-14 -5.32907052e-14  1.38555833e-13  1.16351373e-13\n",
      "  1.39883612e-01 -1.00000000e+00]\n",
      "22:17:37 - atmodeller.core                - DEBUG     - residual_reaction = [-5.06261699e-14 -5.41788836e-14  1.36779477e-13  1.17239551e-13]\n",
      "22:17:37 - atmodeller.core                - DEBUG     - residual_mass = [ 0.11321409 -1.        ]\n",
      "22:17:37 - atmodeller.core                - DEBUG     - residual = [-5.06261699e-14 -5.41788836e-14  1.36779477e-13  1.17239551e-13\n",
      "  1.13214094e-01 -1.00000000e+00]\n",
      "22:17:37 - atmodeller.core                - DEBUG     - residual_reaction = [-2.13291309e-07 -5.41788836e-14 -2.13291123e-07  1.17239551e-13]\n",
      "22:17:37 - atmodeller.core                - DEBUG     - residual_mass = [ 0.11321409 -1.        ]\n",
      "22:17:37 - atmodeller.core                - DEBUG     - residual = [-2.13291309e-07 -5.41788836e-14 -2.13291123e-07  1.17239551e-13\n",
      "  1.13214094e-01 -1.00000000e+00]\n",
      "22:17:37 - atmodeller.core                - DEBUG     - residual_reaction = [-5.06261699e-14 -2.50339394e-09 -5.00654274e-09  1.17239551e-13]\n",
      "22:17:37 - atmodeller.core                - DEBUG     - residual_mass = [ 0.11321409 -1.        ]\n",
      "22:17:37 - atmodeller.core                - DEBUG     - residual = [-5.06261699e-14 -2.50339394e-09 -5.00654274e-09  1.17239551e-13\n",
      "  1.13214094e-01 -1.00000000e+00]\n",
      "22:17:37 - atmodeller.core                - DEBUG     - residual_reaction = [-5.51926371e-08 -5.51926429e-08  5.51927251e-08  1.10385295e-07]\n",
      "22:17:37 - atmodeller.core                - DEBUG     - residual_mass = [ 0.11321409 -1.        ]\n",
      "22:17:37 - atmodeller.core                - DEBUG     - residual = [-5.51926371e-08 -5.51926429e-08  5.51927251e-08  1.10385295e-07\n",
      "  1.13214094e-01 -1.00000000e+00]\n",
      "22:17:37 - atmodeller.core                - DEBUG     - residual_reaction = [ 2.25484697e-07 -5.41788836e-14  1.36779477e-13  1.17239551e-13]\n",
      "22:17:37 - atmodeller.core                - DEBUG     - residual_mass = [ 0.11321409 -1.        ]\n",
      "22:17:37 - atmodeller.core                - DEBUG     - residual = [ 2.25484697e-07 -5.41788836e-14  1.36779477e-13  1.17239551e-13\n",
      "  1.13214094e-01 -1.00000000e+00]\n",
      "22:17:37 - atmodeller.core                - DEBUG     - residual_reaction = [-5.06261699e-14  4.98034636e-09  1.36779477e-13  1.17239551e-13]\n",
      "22:17:37 - atmodeller.core                - DEBUG     - residual_mass = [ 0.1132141 -1.       ]\n",
      "22:17:37 - atmodeller.core                - DEBUG     - residual = [-5.06261699e-14  4.98034636e-09  1.36779477e-13  1.17239551e-13\n",
      "  1.13214101e-01 -1.00000000e+00]\n",
      "22:17:37 - atmodeller.core                - DEBUG     - residual_reaction = [-5.06261699e-14 -5.41788836e-14  3.25205361e-07  1.17239551e-13]\n",
      "22:17:37 - atmodeller.core                - DEBUG     - residual_mass = [ 0.11321409 -1.        ]\n",
      "22:17:37 - atmodeller.core                - DEBUG     - residual = [-5.06261699e-14 -5.41788836e-14  3.25205361e-07  1.17239551e-13\n",
      "  1.13214094e-01 -1.00000000e+00]\n",
      "22:17:37 - atmodeller.core                - DEBUG     - residual_reaction = [-2.25789565e-08 -5.14661523e-02  1.48135670e-02 -1.92557081e-12]\n",
      "22:17:37 - atmodeller.core                - DEBUG     - residual_mass = [ 0.04077546 -1.        ]\n",
      "22:17:37 - atmodeller.core                - DEBUG     - residual = [-2.25789565e-08 -5.14661523e-02  1.48135670e-02 -1.92557081e-12\n",
      "  4.07754579e-02 -1.00000000e+00]\n",
      "22:17:37 - atmodeller.core                - DEBUG     - residual_reaction = [ 0.00267719 -0.03639737 -0.00617213 -0.02041081]\n",
      "22:17:37 - atmodeller.core                - DEBUG     - residual_mass = [ 0.03184529 -0.98628802]\n",
      "22:17:37 - atmodeller.core                - DEBUG     - residual = [ 0.00267719 -0.03639737 -0.00617213 -0.02041081  0.03184529 -0.98628802]\n",
      "22:17:37 - atmodeller.core                - DEBUG     - residual_reaction = [ 0.00093967 -0.03058259  0.01132477 -0.01751651]\n",
      "22:17:37 - atmodeller.core                - DEBUG     - residual_mass = [2.39295454e+08 2.75593863e+16]\n",
      "22:17:37 - atmodeller.core                - DEBUG     - residual = [ 9.39674260e-04 -3.05825930e-02  1.13247684e-02 -1.75165076e-02\n",
      "  2.39295454e+08  2.75593863e+16]\n",
      "22:17:37 - atmodeller.core                - DEBUG     - residual_reaction = [-5.54215784e-10  3.71467035e-09  7.14992865e-09 -5.09690068e-11]\n",
      "22:17:37 - atmodeller.core                - DEBUG     - residual_mass = [ 0.00315842 -0.98615992]\n",
      "22:17:37 - atmodeller.core                - DEBUG     - residual = [-5.54215784e-10  3.71467035e-09  7.14992865e-09 -5.09690068e-11\n",
      "  3.15841612e-03 -9.86159919e-01]\n",
      "22:17:37 - atmodeller.core                - DEBUG     - residual_reaction = [-5.21648280e-09  3.71467035e-09  2.48766163e-09 -5.09690068e-11]\n",
      "22:17:37 - atmodeller.core                - DEBUG     - residual_mass = [ 0.00315842 -0.98615992]\n",
      "22:17:37 - atmodeller.core                - DEBUG     - residual = [-5.21648280e-09  3.71467035e-09  2.48766163e-09 -5.09690068e-11\n",
      "  3.15841611e-03 -9.86159919e-01]\n",
      "22:17:37 - atmodeller.core                - DEBUG     - residual_reaction = [-5.54215784e-10 -7.92805821e-11 -4.37973213e-10 -5.09690068e-11]\n",
      "22:17:37 - atmodeller.core                - DEBUG     - residual_mass = [ 0.00315842 -0.98615992]\n",
      "22:17:37 - atmodeller.core                - DEBUG     - residual = [-5.54215784e-10 -7.92805821e-11 -4.37973213e-10 -5.09690068e-11\n",
      "  3.15841615e-03 -9.86159919e-01]\n",
      "22:17:37 - atmodeller.core                - DEBUG     - residual_reaction = [-5.57468050e-08 -5.14779184e-08  6.23425169e-08  1.10334208e-07]\n",
      "22:17:37 - atmodeller.core                - DEBUG     - residual_mass = [ 0.00315842 -0.98615992]\n",
      "22:17:37 - atmodeller.core                - DEBUG     - residual = [-5.57468050e-08 -5.14779184e-08  6.23425169e-08  1.10334208e-07\n",
      "  3.15841612e-03 -9.86159919e-01]\n",
      "22:17:37 - atmodeller.core                - DEBUG     - residual_reaction = [ 1.63015388e-08  3.71467035e-09  7.14992865e-09 -5.09690068e-11]\n",
      "22:17:37 - atmodeller.core                - DEBUG     - residual_mass = [ 0.00315842 -0.98615992]\n",
      "22:17:37 - atmodeller.core                - DEBUG     - residual = [ 1.63015388e-08  3.71467035e-09  7.14992865e-09 -5.09690068e-11\n",
      "  3.15841611e-03 -9.86159919e-01]\n",
      "22:17:37 - atmodeller.core                - DEBUG     - residual_reaction = [-5.54215784e-10  9.98568206e-09  7.14992865e-09 -5.09690068e-11]\n",
      "22:17:37 - atmodeller.core                - DEBUG     - residual_mass = [ 0.00315842 -0.98615992]\n",
      "22:17:37 - atmodeller.core                - DEBUG     - residual = [-5.54215784e-10  9.98568206e-09  7.14992865e-09 -5.09690068e-11\n",
      "  3.15842336e-03 -9.86159919e-01]\n",
      "22:17:37 - atmodeller.core                - DEBUG     - residual_reaction = [-5.54215784e-10  3.71467035e-09  1.26307382e-07 -5.09690068e-11]\n",
      "22:17:37 - atmodeller.core                - DEBUG     - residual_mass = [ 0.00315842 -0.98615992]\n",
      "22:17:37 - atmodeller.core                - DEBUG     - residual = [-5.54215784e-10  3.71467035e-09  1.26307382e-07 -5.09690068e-11\n",
      "  3.15841612e-03 -9.86159919e-01]\n",
      "22:17:37 - atmodeller.core                - DEBUG     - residual_reaction = [-5.88554138e-03 -1.67762356e-03 -1.06018262e-02 -9.25613364e-10]\n",
      "22:17:37 - atmodeller.core                - DEBUG     - residual_mass = [1.34394437e-02 3.39967445e+02]\n",
      "22:17:37 - atmodeller.core                - DEBUG     - residual = [-5.88554138e-03 -1.67762356e-03 -1.06018262e-02 -9.25613364e-10\n",
      "  1.34394437e-02  3.39967445e+02]\n",
      "22:17:37 - atmodeller.core                - DEBUG     - residual_reaction = [7.75308706e-11 1.64661174e-10 3.59372976e-10 0.00000000e+00]\n",
      "22:17:37 - atmodeller.core                - DEBUG     - residual_mass = [-2.54382060e-05 -9.85846864e-01]\n",
      "22:17:37 - atmodeller.core                - DEBUG     - residual = [ 7.75308706e-11  1.64661174e-10  3.59372976e-10  0.00000000e+00\n",
      " -2.54382060e-05 -9.85846864e-01]\n",
      "22:17:37 - atmodeller.core                - DEBUG     - residual_reaction = [-1.84326332e-10 -3.87985644e-10 -8.48595860e-10  0.00000000e+00]\n",
      "22:17:37 - atmodeller.core                - DEBUG     - residual_mass = [-3.96144625e-05 -9.84771504e-01]\n",
      "22:17:37 - atmodeller.core                - DEBUG     - residual = [-1.84326332e-10 -3.87985644e-10 -8.48595860e-10  0.00000000e+00\n",
      " -3.96144625e-05 -9.84771504e-01]\n",
      "22:17:37 - atmodeller.core                - DEBUG     - residual_reaction = [-1.07173676e-04 -3.01726418e-05 -1.93062778e-04 -1.77140969e-10]\n",
      "22:17:37 - atmodeller.core                - DEBUG     - residual_mass = [ 0.01078632 -0.95836258]\n",
      "22:17:37 - atmodeller.core                - DEBUG     - residual = [-1.07173676e-04 -3.01726418e-05 -1.93062778e-04 -1.77140969e-10\n",
      "  1.07863208e-02 -9.58362577e-01]\n",
      "22:17:37 - atmodeller.core                - DEBUG     - residual_reaction = [-1.61094379e-04 -4.62835852e-05 -2.89944635e-04  4.72205244e-08]\n",
      "22:17:37 - atmodeller.core                - DEBUG     - residual_mass = [ 0.01590311 -0.9754098 ]\n",
      "22:17:37 - atmodeller.core                - DEBUG     - residual = [-1.61094379e-04 -4.62835852e-05 -2.89944635e-04  4.72205244e-08\n",
      "  1.59031111e-02 -9.75409798e-01]\n",
      "22:17:37 - atmodeller.core                - DEBUG     - residual_reaction = [-1.88242199e-04 -5.40831902e-05 -3.38806384e-04  5.51732269e-08]\n",
      "22:17:37 - atmodeller.core                - DEBUG     - residual_mass = [ 0.01880631 -0.9453081 ]\n",
      "22:17:37 - atmodeller.core                - DEBUG     - residual = [-1.88242199e-04 -5.40831902e-05 -3.38806384e-04  5.51732269e-08\n",
      "  1.88063106e-02 -9.45308102e-01]\n",
      "22:17:37 - atmodeller.core                - DEBUG     - residual_reaction = [-2.58068699e-04 -7.55414119e-05 -4.64105086e-04  1.46337613e-07]\n",
      "22:17:37 - atmodeller.core                - DEBUG     - residual_mass = [ 0.025757   -0.95249718]\n",
      "22:17:37 - atmodeller.core                - DEBUG     - residual = [-2.58068699e-04 -7.55414119e-05 -4.64105086e-04  1.46337613e-07\n",
      "  2.57569975e-02 -9.52497182e-01]\n",
      "22:17:37 - atmodeller.core                - DEBUG     - residual_reaction = [-2.83599440e-04 -8.30132552e-05 -5.10019346e-04  1.60742174e-07]\n",
      "22:17:37 - atmodeller.core                - DEBUG     - residual_mass = [ 0.02834169 -0.94282478]\n",
      "22:17:37 - atmodeller.core                - DEBUG     - residual = [-2.83599440e-04 -8.30132552e-05 -5.10019346e-04  1.60742174e-07\n",
      "  2.83416897e-02 -9.42824780e-01]\n",
      "22:17:37 - atmodeller.core                - DEBUG     - residual_reaction = [-3.30232373e-04 -9.85571765e-05 -5.93374435e-04  2.79989123e-07]\n",
      "22:17:37 - atmodeller.core                - DEBUG     - residual_mass = [ 0.03314356 -0.94442203]\n",
      "22:17:37 - atmodeller.core                - DEBUG     - residual = [-3.30232373e-04 -9.85571765e-05 -5.93374435e-04  2.79989123e-07\n",
      "  3.31435560e-02 -9.44422033e-01]\n",
      "22:17:37 - atmodeller.core                - DEBUG     - residual_reaction = [-2.60282974e-04 -7.52412945e-05 -4.68341801e-04  1.01118699e-07]\n",
      "22:17:37 - atmodeller.core                - DEBUG     - residual_mass = [ 0.02594945 -0.94200477]\n",
      "22:17:37 - atmodeller.core                - DEBUG     - residual = [-2.60282974e-04 -7.52412945e-05 -4.68341801e-04  1.01118699e-07\n",
      "  2.59494502e-02 -9.42004767e-01]\n",
      "22:17:37 - atmodeller.core                - DEBUG     - residual_reaction = [-2.56728376e-04 -1.21904577e-05 -4.78053405e-04 -2.61330731e-06]\n",
      "22:17:37 - atmodeller.core                - DEBUG     - residual_mass = [ 0.02122799 -0.94030612]\n",
      "22:17:37 - atmodeller.core                - DEBUG     - residual = [-2.56728376e-04 -1.21904577e-05 -4.78053405e-04 -2.61330731e-06\n",
      "  2.12279900e-02 -9.40306121e-01]\n",
      "22:17:37 - atmodeller.core                - DEBUG     - residual_reaction = [-2.66455378e-04  3.18850944e-04 -5.03850178e-04  3.23173096e-05]\n",
      "22:17:37 - atmodeller.core                - DEBUG     - residual_mass = [ 0.01202855 -0.9366741 ]\n",
      "22:17:37 - atmodeller.core                - DEBUG     - residual = [-2.66455378e-04  3.18850944e-04 -5.03850178e-04  3.23173096e-05\n",
      "  1.20285512e-02 -9.36674103e-01]\n",
      "22:17:37 - atmodeller.core                - DEBUG     - residual_reaction = [-0.00031773  0.00155886 -0.00072448  0.00036883]\n",
      "22:17:37 - atmodeller.core                - DEBUG     - residual_mass = [-0.00546335 -0.92837159]\n",
      "22:17:37 - atmodeller.core                - DEBUG     - residual = [-3.17733563e-04  1.55885771e-03 -7.24480067e-04  3.68830278e-04\n",
      " -5.46334953e-03 -9.28371591e-01]\n",
      "22:17:37 - atmodeller.core                - DEBUG     - residual_reaction = [ 6.46406423e-05  5.50069498e-03 -7.81862682e-04  2.37057261e-03]\n",
      "22:17:37 - atmodeller.core                - DEBUG     - residual_mass = [-0.03730045 -0.90676026]\n",
      "22:17:37 - atmodeller.core                - DEBUG     - residual = [ 6.46406423e-05  5.50069498e-03 -7.81862682e-04  2.37057261e-03\n",
      " -3.73004472e-02 -9.06760263e-01]\n",
      "22:17:37 - atmodeller.core                - DEBUG     - residual_reaction = [-0.00458475  0.01408498 -0.01738198  0.0077763 ]\n",
      "22:17:37 - atmodeller.core                - DEBUG     - residual_mass = [-0.09149744 -0.83213012]\n",
      "22:17:37 - atmodeller.core                - DEBUG     - residual = [-0.00458475  0.01408498 -0.01738198  0.0077763  -0.09149744 -0.83213012]\n",
      "22:17:37 - atmodeller.core                - DEBUG     - residual_reaction = [0.06994745 0.05116969 0.17818173 0.02962085]\n",
      "22:17:37 - atmodeller.core                - DEBUG     - residual_mass = [-0.12998319 -0.42641426]\n",
      "22:17:37 - atmodeller.core                - DEBUG     - residual = [ 0.06994745  0.05116969  0.17818173  0.02962085 -0.12998319 -0.42641426]\n",
      "22:17:37 - atmodeller.core                - DEBUG     - residual_reaction = [ 3.24860316e-09 -5.04560305e-09 -5.61048985e-09  1.27914568e-10]\n",
      "22:17:37 - atmodeller.core                - DEBUG     - residual_mass = [-0.01571304  2.32333334]\n",
      "22:17:37 - atmodeller.core                - DEBUG     - residual = [ 3.24860316e-09 -5.04560305e-09 -5.61048985e-09  1.27914568e-10\n",
      " -1.57130450e-02  2.32333334e+00]\n",
      "22:17:37 - atmodeller.core                - DEBUG     - residual_reaction = [ 3.09730908e-10 -1.18820154e-09 -1.92350313e-09  3.15782955e-11]\n",
      "22:17:37 - atmodeller.core                - DEBUG     - residual_mass = [-0.00573623 -0.4397955 ]\n",
      "22:17:37 - atmodeller.core                - DEBUG     - residual = [ 3.09730908e-10 -1.18820154e-09 -1.92350313e-09  3.15782955e-11\n",
      " -5.73622569e-03 -4.39795499e-01]\n",
      "22:17:37 - atmodeller.core                - DEBUG     - residual_reaction = [-1.21942012e-10  4.28644675e-10  6.79984069e-10 -1.13429266e-11]\n",
      "22:17:37 - atmodeller.core                - DEBUG     - residual_mass = [ 0.00177212 -0.21645184]\n",
      "22:17:37 - atmodeller.core                - DEBUG     - residual = [-1.21942012e-10  4.28644675e-10  6.79984069e-10 -1.13429266e-11\n",
      "  1.77211705e-03 -2.16451843e-01]\n",
      "22:17:37 - atmodeller.core                - DEBUG     - residual_reaction = [ 5.18545207e-11 -1.61896718e-10 -2.48919108e-10  4.25615099e-12]\n",
      "22:17:37 - atmodeller.core                - DEBUG     - residual_mass = [-0.00052523  0.07767082]\n",
      "22:17:37 - atmodeller.core                - DEBUG     - residual = [ 5.18545207e-11 -1.61896718e-10 -2.48919108e-10  4.25615099e-12\n",
      " -5.25231210e-04  7.76708156e-02]\n",
      "22:17:37 - atmodeller.core                - DEBUG     - residual_reaction = [ 4.88942220e-13 -1.52633461e-12 -2.34656738e-12  3.99680289e-14]\n",
      "22:17:37 - atmodeller.core                - DEBUG     - residual_mass = [-5.82240946e-06 -9.44857567e-03]\n",
      "22:17:37 - atmodeller.core                - DEBUG     - residual = [ 4.88942220e-13 -1.52633461e-12 -2.34656738e-12  3.99680289e-14\n",
      " -5.82240946e-06 -9.44857567e-03]\n",
      "22:17:37 - atmodeller.core                - DEBUG     - residual_reaction = [-3.72590847e-13  1.16173737e-12  1.78701498e-12 -3.01980663e-14]\n",
      "22:17:37 - atmodeller.core                - DEBUG     - residual_mass = [ 3.85376352e-06 -3.38370839e-04]\n",
      "22:17:37 - atmodeller.core                - DEBUG     - residual = [-3.72590847e-13  1.16173737e-12  1.78701498e-12 -3.01980663e-14\n",
      "  3.85376352e-06 -3.38370839e-04]\n",
      "22:17:37 - atmodeller.core                - DEBUG     - residual_reaction = [ 2.53130850e-14 -7.72715225e-14 -1.19015908e-13  1.77635684e-15]\n",
      "22:17:37 - atmodeller.core                - DEBUG     - residual_mass = [-2.59949415e-07  3.27294223e-07]\n",
      "22:17:37 - atmodeller.core                - DEBUG     - residual = [ 2.53130850e-14 -7.72715225e-14 -1.19015908e-13  1.77635684e-15\n",
      " -2.59949415e-07  3.27294223e-07]\n",
      "22:17:37 - atmodeller.core                - DEBUG     - residual_reaction = [-1.77635684e-15  4.44089210e-15  5.32907052e-15  0.00000000e+00]\n",
      "22:17:37 - atmodeller.core                - DEBUG     - residual_mass = [1.59904472e-08 7.85106775e-08]\n",
      "22:17:37 - atmodeller.core                - DEBUG     - residual = [-1.77635684e-15  4.44089210e-15  5.32907052e-15  0.00000000e+00\n",
      "  1.59904472e-08  7.85106775e-08]\n",
      "22:17:37 - atmodeller.core                - DEBUG     - residual_reaction = [0.00000000e+00 0.00000000e+00 1.77635684e-15 0.00000000e+00]\n",
      "22:17:37 - atmodeller.core                - DEBUG     - residual_mass = [-4.24199651e-11 -2.24333345e-10]\n",
      "22:17:37 - atmodeller.core                - DEBUG     - residual = [ 0.00000000e+00  0.00000000e+00  1.77635684e-15  0.00000000e+00\n",
      " -4.24199651e-11 -2.24333345e-10]\n",
      "22:17:37 - atmodeller.core                - DEBUG     - residual_reaction = [ 0.00000000e+00  0.00000000e+00 -1.77635684e-15  0.00000000e+00]\n",
      "22:17:37 - atmodeller.core                - DEBUG     - residual_mass = [4.22829683e-15 2.15643138e-14]\n",
      "22:17:37 - atmodeller.core                - DEBUG     - residual = [ 0.00000000e+00  0.00000000e+00 -1.77635684e-15  0.00000000e+00\n",
      "  4.22829683e-15  2.15643138e-14]\n",
      "22:17:37 - atmodeller.core                - INFO      - The solution converged.\n",
      "22:17:37 - atmodeller.core                - INFO      - Number of function calls = 57\n",
      "22:17:37 - atmodeller.core                - INFO      - Final objective function evaluation = [ 0.00000000e+00  0.00000000e+00 -1.77635684e-15  0.00000000e+00\n",
      "  4.22829683e-15  2.15643138e-14]\n",
      "22:17:37 - atmodeller.core                - INFO      - {'CH4': 1.2832944129156167e-06,\n",
      " 'CO': 62.30340987919592,\n",
      " 'CO2': 9.467181387987376,\n",
      " 'H2': 0.5547795364480245,\n",
      " 'H2O': 0.37834474994650913,\n",
      " 'O2': 3.9099946023954954e-08}\n"
     ]
    },
    {
     "data": {
      "text/plain": [
       "{'CO': 62.30340987919592,\n",
       " 'H2': 0.5547795364480245,\n",
       " 'O2': 3.9099946023954954e-08,\n",
       " 'CO2': 9.467181387987376,\n",
       " 'H2O': 0.37834474994650913,\n",
       " 'CH4': 1.2832944129156167e-06}"
      ]
     },
     "execution_count": 18,
     "metadata": {},
     "output_type": "execute_result"
    }
   ],
   "source": [
    "number_of_earth_oceans: float = 1\n",
    "# C/H ratio by mass.\n",
    "ch_ratio: float = 1\n",
    "\n",
    "mass_H: float = number_of_earth_oceans * OCEAN_MOLES * MolarMasses().H2\n",
    "mass_C: float = ch_ratio * mass_H\n",
    "\n",
    "constraints: list[SystemConstraint] = [\n",
    "    SystemConstraint(species=\"H\", value=mass_H, field=\"mass\"),\n",
    "    SystemConstraint(species=\"C\", value=mass_C, field=\"mass\"),\n",
    "]\n",
    "\n",
    "interior_atmosphere: InteriorAtmosphereSystem = InteriorAtmosphereSystem(molecules=molecules)\n",
    "interior_atmosphere.solve(constraints, fo2_constraint=True)\n",
    "interior_atmosphere.pressures_dict"
   ]
  }
 ],
 "metadata": {
  "kernelspec": {
   "display_name": ".venv",
   "language": "python",
   "name": "python3"
  },
  "language_info": {
   "codemirror_mode": {
    "name": "ipython",
    "version": 3
   },
   "file_extension": ".py",
   "mimetype": "text/x-python",
   "name": "python",
   "nbconvert_exporter": "python",
   "pygments_lexer": "ipython3",
   "version": "3.11.3"
  },
  "orig_nbformat": 4
 },
 "nbformat": 4,
 "nbformat_minor": 2
}
