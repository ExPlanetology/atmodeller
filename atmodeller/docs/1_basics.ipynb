{
 "cells": [
  {
   "attachments": {},
   "cell_type": "markdown",
   "metadata": {},
   "source": [
    "# atmodeller\n",
    "\n",
    "## Tutorial 1: basic operation\n",
    "\n",
    "Import the required functionality and activate the debug logger."
   ]
  },
  {
   "cell_type": "code",
   "execution_count": null,
   "metadata": {},
   "outputs": [],
   "source": [
    "from atmodeller import debug_logger #, debug_file_logger\n",
    "from atmodeller.constraints import MassConstraint, SystemConstraints, IronWustiteBufferConstraintHirschmann, FugacityConstraint\n",
    "from atmodeller.interior_atmosphere import InteriorAtmosphereSystem, Species\n",
    "from atmodeller.interfaces import ThermodynamicDataJANAF, GasSpecies\n",
    "from atmodeller.solubilities import BasaltDixonCO2, PeridotiteH2O\n",
    "from atmodeller.utilities import earth_oceans_to_kg\n",
    "import logging\n",
    "\n",
    "# debug_file_logger()\n",
    "logger = debug_logger()\n",
    "logger.setLevel(logging.INFO)"
   ]
  },
  {
   "attachments": {},
   "cell_type": "markdown",
   "metadata": {},
   "source": [
    "### 1. Simple H2O-H2-O2 system"
   ]
  },
  {
   "attachments": {},
   "cell_type": "markdown",
   "metadata": {},
   "source": [
    "We define a list of the species we wish to include in the interior-atmosphere system and how they partition between the melt and the atmosphere via a solubility law:"
   ]
  },
  {
   "cell_type": "code",
   "execution_count": null,
   "metadata": {},
   "outputs": [],
   "source": [
    "species: Species = Species()\n",
    "species.append(GasSpecies(chemical_formula='H2O', solubility=PeridotiteH2O()))\n",
    "species.append(GasSpecies(chemical_formula='H2'))\n",
    "species.append(GasSpecies(chemical_formula='O2'))\n"
   ]
  },
  {
   "attachments": {},
   "cell_type": "markdown",
   "metadata": {},
   "source": [
    "We can then create an interior-atmosphere system using the list of species and (optionally) specifying the thermodynamic data to use. Note that this creates a planet with 'default properties' (a molten Earth). Adjusting the planet properties will be covered in a later tutorial."
   ]
  },
  {
   "cell_type": "code",
   "execution_count": null,
   "metadata": {},
   "outputs": [],
   "source": [
    "interior_atmosphere = InteriorAtmosphereSystem(species=species)"
   ]
  },
  {
   "attachments": {},
   "cell_type": "markdown",
   "metadata": {},
   "source": [
    "To solve the system, we provide a constraint of the H2O and O2 fugacity in bar. By default, the O2 fugacity is constrained at the IW buffer:"
   ]
  },
  {
   "cell_type": "code",
   "execution_count": null,
   "metadata": {},
   "outputs": [],
   "source": [
    "H2O_fugacity  = FugacityConstraint(species='H2O', value=1)\n",
    "O2_fugacity = IronWustiteBufferConstraintHirschmann()\n",
    "constraints = SystemConstraints([H2O_fugacity, O2_fugacity])"
   ]
  },
  {
   "cell_type": "code",
   "execution_count": null,
   "metadata": {},
   "outputs": [],
   "source": [
    "interior_atmosphere.solve(constraints)"
   ]
  },
  {
   "attachments": {},
   "cell_type": "markdown",
   "metadata": {},
   "source": [
    "You can access the solution directly using:"
   ]
  },
  {
   "cell_type": "code",
   "execution_count": null,
   "metadata": {},
   "outputs": [],
   "source": [
    "interior_atmosphere.solution_dict"
   ]
  },
  {
   "attachments": {},
   "cell_type": "markdown",
   "metadata": {},
   "source": [
    "You can access more information about the solution using:"
   ]
  },
  {
   "cell_type": "code",
   "execution_count": null,
   "metadata": {},
   "outputs": [],
   "source": [
    "interior_atmosphere.output"
   ]
  },
  {
   "attachments": {},
   "cell_type": "markdown",
   "metadata": {},
   "source": [
    "### 2. System with C and H and prescribed pressures\n",
    "\n",
    "We now extend the species list to additionally include C-species:"
   ]
  },
  {
   "cell_type": "code",
   "execution_count": null,
   "metadata": {},
   "outputs": [],
   "source": [
    "species: Species = Species()\n",
    "species.append(GasSpecies(chemical_formula='H2O', solubility=PeridotiteH2O()))\n",
    "species.append(GasSpecies(chemical_formula='H2'))\n",
    "species.append(GasSpecies(chemical_formula='O2'))\n",
    "species.append(GasSpecies(chemical_formula='CO'))\n",
    "species.append(GasSpecies(chemical_formula='CO2', solubility=BasaltDixonCO2()))\n",
    "# species.append(GasSpecies(chemical_formula='O2S', solubility=BasaltS()))\n",
    "# species.append(GasSpecies(chemical_formula='OS', solubility=BasaltS()))\n",
    "# species.append(GasSpecies(chemical_formula='S2', solubility=BasaltS()))\n",
    "\n",
    "species"
   ]
  },
  {
   "cell_type": "code",
   "execution_count": null,
   "metadata": {},
   "outputs": [],
   "source": [
    "interior_atmosphere: InteriorAtmosphereSystem = InteriorAtmosphereSystem(species=species)"
   ]
  },
  {
   "attachments": {},
   "cell_type": "markdown",
   "metadata": {},
   "source": [
    "Note now the system has identified two reactions in the network. With C present in the system we must provide at least 2 constraints, in addition to the oxygen fugacity:"
   ]
  },
  {
   "cell_type": "code",
   "execution_count": null,
   "metadata": {},
   "outputs": [],
   "source": [
    "H2O_fugacity = FugacityConstraint(species='H2O', value=1)\n",
    "CO2_fugacity = FugacityConstraint(species='CO2', value=1)\n",
    "O2_fugacity = IronWustiteBufferConstraintHirschmann(log10_shift=3)\n",
    "constraints = SystemConstraints([H2O_fugacity, CO2_fugacity, O2_fugacity])"
   ]
  },
  {
   "cell_type": "code",
   "execution_count": null,
   "metadata": {},
   "outputs": [],
   "source": [
    "interior_atmosphere.solve(constraints)\n",
    "interior_atmosphere.solution_dict"
   ]
  },
  {
   "attachments": {},
   "cell_type": "markdown",
   "metadata": {},
   "source": [
    "There is not a requirement to necessarily impose the oxygen fugacity as a constraint. Instead, we can simply impose three fugacity constraints (that span the reaction set) and allow for the oxygen fugacity to be solved. Note that if we do not specify an appropriate range of constraints we cannot solve the system of equations to give a unique solution."
   ]
  },
  {
   "cell_type": "code",
   "execution_count": null,
   "metadata": {},
   "outputs": [],
   "source": [
    "H2O_fugacity = FugacityConstraint(species='H2O', value=1)\n",
    "H2_fugacity = FugacityConstraint(species='H2', value=1)\n",
    "CO_fugacity = FugacityConstraint(species='CO', value=1)\n",
    "constraints = SystemConstraints([H2O_fugacity, H2_fugacity, CO_fugacity])"
   ]
  },
  {
   "cell_type": "code",
   "execution_count": null,
   "metadata": {},
   "outputs": [],
   "source": [
    "interior_atmosphere.solve(constraints)\n",
    "interior_atmosphere.solution_dict"
   ]
  },
  {
   "attachments": {},
   "cell_type": "markdown",
   "metadata": {},
   "source": [
    "### 3. System with C and H and mixed constraints"
   ]
  },
  {
   "attachments": {},
   "cell_type": "markdown",
   "metadata": {},
   "source": [
    "A typical use case is to define an interior-atmosphere system with a combination of fugacity and mass constraints. We define the same species as before:"
   ]
  },
  {
   "cell_type": "code",
   "execution_count": null,
   "metadata": {},
   "outputs": [],
   "source": [
    "species: Species = Species()\n",
    "species.append(GasSpecies(chemical_formula='H2O', solubility=PeridotiteH2O()))\n",
    "species.append(GasSpecies(chemical_formula='H2'))\n",
    "species.append(GasSpecies(chemical_formula='O2'))\n",
    "species.append(GasSpecies(chemical_formula='CO'))\n",
    "species.append(GasSpecies(chemical_formula='CO2', solubility=BasaltDixonCO2()))\n",
    "species"
   ]
  },
  {
   "attachments": {},
   "cell_type": "markdown",
   "metadata": {},
   "source": [
    "Now we define the constraints, and in this case we want to constrain the total mass of C and H in the system that can partition between the various reservoirs."
   ]
  },
  {
   "cell_type": "code",
   "execution_count": null,
   "metadata": {},
   "outputs": [],
   "source": [
    "number_of_earth_oceans: float = 1\n",
    "# C/H ratio by mass.\n",
    "ch_ratio: float = 1\n",
    "\n",
    "mass_H: float = earth_oceans_to_kg(number_of_earth_oceans)\n",
    "mass_C: float = ch_ratio * mass_H\n",
    "\n",
    "constraints: SystemConstraints = SystemConstraints([\n",
    "    MassConstraint(species=\"H\", value=mass_H),\n",
    "    MassConstraint(species=\"C\", value=mass_C),\n",
    "    IronWustiteBufferConstraintHirschmann()\n",
    "])\n",
    "\n",
    "interior_atmosphere: InteriorAtmosphereSystem = InteriorAtmosphereSystem(species=species)\n",
    "interior_atmosphere.solve(constraints, factor=1)\n",
    "interior_atmosphere.solution_dict"
   ]
  },
  {
   "attachments": {},
   "cell_type": "markdown",
   "metadata": {},
   "source": [
    "### 4. Including more species such as CH4\n",
    "\n",
    "It is straightforward to add more species to the system:"
   ]
  },
  {
   "cell_type": "code",
   "execution_count": null,
   "metadata": {},
   "outputs": [],
   "source": [
    "species: Species = Species()\n",
    "species.append(GasSpecies(chemical_formula='H2O', solubility=PeridotiteH2O()))\n",
    "species.append(GasSpecies(chemical_formula='H2'))\n",
    "species.append(GasSpecies(chemical_formula='O2'))\n",
    "species.append(GasSpecies(chemical_formula='CO'))\n",
    "species.append(GasSpecies(chemical_formula='CO2', solubility=BasaltDixonCO2()))\n",
    "species.append(GasSpecies(chemical_formula='CH4'))\n",
    "species"
   ]
  },
  {
   "attachments": {},
   "cell_type": "markdown",
   "metadata": {},
   "source": [
    "We define a mixture of mass and oxygen fugacity constraints as before and solve the system. CH4 is not prevalent at 2000 K so the results are almost identical to those without CH4 presented above."
   ]
  },
  {
   "cell_type": "code",
   "execution_count": null,
   "metadata": {},
   "outputs": [],
   "source": [
    "number_of_earth_oceans: float = 1\n",
    "# C/H ratio by mass.\n",
    "ch_ratio: float = 1\n",
    "\n",
    "mass_H: float = earth_oceans_to_kg(number_of_earth_oceans)\n",
    "mass_C: float = ch_ratio * mass_H\n",
    "\n",
    "constraints: SystemConstraints = SystemConstraints([\n",
    "    MassConstraint(species=\"H\", value=mass_H),\n",
    "    MassConstraint(species=\"C\", value=mass_C),\n",
    "    IronWustiteBufferConstraintHirschmann()\n",
    "])\n",
    "\n",
    "interior_atmosphere: InteriorAtmosphereSystem = InteriorAtmosphereSystem(species=species)\n",
    "interior_atmosphere.solve(constraints)\n",
    "interior_atmosphere.solution_dict"
   ]
  }
 ],
 "metadata": {
  "kernelspec": {
   "display_name": ".venv",
   "language": "python",
   "name": "python3"
  },
  "language_info": {
   "codemirror_mode": {
    "name": "ipython",
    "version": 3
   },
   "file_extension": ".py",
   "mimetype": "text/x-python",
   "name": "python",
   "nbconvert_exporter": "python",
   "pygments_lexer": "ipython3",
   "version": "3.11.3"
  },
  "orig_nbformat": 4
 },
 "nbformat": 4,
 "nbformat_minor": 2
}
