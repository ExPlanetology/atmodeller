{
 "cells": [
  {
   "attachments": {},
   "cell_type": "markdown",
   "metadata": {},
   "source": [
    "# atmodeller\n",
    "\n",
    "## Tutorial 3: Monte Carlo experiment\n",
    "\n",
    "We can devise a simple Monte Carlo approach to sample the probable atmospheres that can arise for different planetary conditions.\n",
    "\n",
    "Import the required packages and set the package logger to the INFO level. For more output you could instead set it to DEBUG."
   ]
  },
  {
   "cell_type": "code",
   "execution_count": 1,
   "metadata": {},
   "outputs": [
    {
     "name": "stderr",
     "output_type": "stream",
     "text": [
      "15:38:27 - atmodeller                     - INFO      - atmodeller version 0.1.0\n"
     ]
    }
   ],
   "source": [
    "from atmodeller import InteriorAtmosphereSystem, Molecule, Planet, OCEAN_MOLES, SystemConstraint, logger, MassConstraint, BufferedFugacityConstraint\n",
    "from atmodeller.thermodynamics import PeridotiteH2O, NoSolubility, BasaltDixonCO2, BasaltLibourelN2, MolarMasses\n",
    "import numpy as np\n",
    "import csv\n",
    "import logging\n",
    "\n",
    "logger.setLevel(logging.INFO)"
   ]
  },
  {
   "cell_type": "code",
   "execution_count": 2,
   "metadata": {},
   "outputs": [
    {
     "name": "stderr",
     "output_type": "stream",
     "text": [
      "15:38:28 - atmodeller.core                - INFO      - Creating a molecule: H2O\n",
      "15:38:28 - atmodeller.core                - INFO      - Creating a molecule: H2\n",
      "15:38:28 - atmodeller.core                - INFO      - Creating a molecule: O2\n",
      "15:38:28 - atmodeller.core                - INFO      - Creating a molecule: CO\n",
      "15:38:28 - atmodeller.core                - INFO      - Creating a molecule: CO2\n",
      "15:38:28 - atmodeller.core                - INFO      - Creating a molecule: N2\n"
     ]
    },
    {
     "data": {
      "text/plain": [
       "[Molecule(name='H2O', solubility=<atmodeller.thermodynamics.PeridotiteH2O object at 0x12df4ca50>, solid_melt_distribution_coefficient=0, elements={'H': 2, 'O': 1}, element_masses={'H': 0.0020158, 'O': 0.0159994}, molar_mass=0.018015200000000002),\n",
       " Molecule(name='H2', solubility=<atmodeller.thermodynamics.NoSolubility object at 0x1240585d0>, solid_melt_distribution_coefficient=0, elements={'H': 2}, element_masses={'H': 0.0020158}, molar_mass=0.0020158),\n",
       " Molecule(name='O2', solubility=<atmodeller.thermodynamics.NoSolubility object at 0x12d8d3ed0>, solid_melt_distribution_coefficient=0, elements={'O': 2}, element_masses={'O': 0.0319988}, molar_mass=0.0319988),\n",
       " Molecule(name='CO', solubility=<atmodeller.thermodynamics.NoSolubility object at 0x12402fe10>, solid_melt_distribution_coefficient=0, elements={'C': 1, 'O': 1}, element_masses={'C': 0.0120107, 'O': 0.0159994}, molar_mass=0.0280101),\n",
       " Molecule(name='CO2', solubility=<atmodeller.thermodynamics.BasaltDixonCO2 object at 0x10e97ddd0>, solid_melt_distribution_coefficient=0, elements={'C': 1, 'O': 2}, element_masses={'C': 0.0120107, 'O': 0.0319988}, molar_mass=0.0440095),\n",
       " Molecule(name='N2', solubility=<atmodeller.thermodynamics.BasaltLibourelN2 object at 0x12df4d010>, solid_melt_distribution_coefficient=0, elements={'N': 2}, element_masses={'N': 0.0280134}, molar_mass=0.0280134)]"
      ]
     },
     "execution_count": 2,
     "metadata": {},
     "output_type": "execute_result"
    }
   ],
   "source": [
    "molecules: list[Molecule] = []\n",
    "molecules.append(Molecule(name='H2O', solubility=PeridotiteH2O(), solid_melt_distribution_coefficient=0))\n",
    "molecules.append(Molecule(name='H2', solubility=NoSolubility(), solid_melt_distribution_coefficient=0))\n",
    "molecules.append(Molecule(name='O2', solubility=NoSolubility(), solid_melt_distribution_coefficient=0))\n",
    "molecules.append(Molecule(name='CO', solubility=NoSolubility(), solid_melt_distribution_coefficient=0))\n",
    "molecules.append(Molecule(name='CO2', solubility=BasaltDixonCO2(), solid_melt_distribution_coefficient=0))\n",
    "molecules.append(Molecule(name='N2', solubility=BasaltLibourelN2(), solid_melt_distribution_coefficient=0))\n",
    "molecules"
   ]
  },
  {
   "cell_type": "code",
   "execution_count": 3,
   "metadata": {},
   "outputs": [
    {
     "name": "stderr",
     "output_type": "stream",
     "text": [
      "15:38:28 - atmodeller.core                - INFO      - Creating a new planet\n",
      "15:38:28 - atmodeller.core                - INFO      - Mantle mass (kg) = 4.208261222595111e+24\n",
      "15:38:28 - atmodeller.core                - INFO      - Mantle melt fraction = 1.0\n",
      "15:38:28 - atmodeller.core                - INFO      - Core mass fraction = 0.295334691460966\n",
      "15:38:28 - atmodeller.core                - INFO      - Planetary radius (m) = 6371000.0\n",
      "15:38:28 - atmodeller.core                - INFO      - Planetary mass (kg) = 5.972e+24\n",
      "15:38:28 - atmodeller.core                - INFO      - Surface temperature (K) = 2000.000000\n",
      "15:38:28 - atmodeller.core                - INFO      - Surface gravity (m/s^2) = 9.819973426224687\n",
      "15:38:28 - atmodeller.core                - INFO      - Melt Composition = None\n",
      "15:38:28 - atmodeller.core                - INFO      - Creating a new interior-atmosphere system\n",
      "15:38:28 - atmodeller.core                - INFO      - Molecules = ['CO', 'H2', 'N2', 'O2', 'CO2', 'H2O']\n",
      "15:38:28 - atmodeller.core                - INFO      - Molecules = ['CO', 'H2', 'N2', 'O2', 'CO2', 'H2O']\n",
      "15:38:28 - atmodeller.core                - INFO      - Reactions = \n",
      "{0: '1.0 CO + 0.5 O2 = 1.0 CO2', 1: '1.0 H2 + 0.5 O2 = 1.0 H2O'}\n"
     ]
    }
   ],
   "source": [
    "planet: Planet = Planet()\n",
    "interior_atmosphere: InteriorAtmosphereSystem = InteriorAtmosphereSystem(molecules=molecules, planet=planet)"
   ]
  },
  {
   "cell_type": "code",
   "execution_count": 4,
   "metadata": {},
   "outputs": [
    {
     "name": "stderr",
     "output_type": "stream",
     "text": [
      "15:38:28 - atmodeller.core                - INFO      - Constraints: [MassConstraint(species='H', value=8.115030859826718e+20, field='mass'),\n",
      " MassConstraint(species='C', value=7.702620191556505e+20, field='mass'),\n",
      " MassConstraint(species='N', value=1.178313142326631e+19, field='mass'),\n",
      " BufferedFugacityConstraint(species='O2',\n",
      "                            fugacity=<atmodeller.thermodynamics.IronWustiteBufferOneill object at 0x12df54cd0>,\n",
      "                            log10_shift=-2.5965478327146476,\n",
      "                            field='fugacity')]\n",
      "15:38:28 - atmodeller.core                - INFO      - Mixed pressure and mass constraints so attempting to solve a non-linear system of equations\n",
      "15:38:28 - atmodeller.core                - INFO      - 3 additional (not pressure) constraint(s) are necessary to solve the system\n",
      "15:38:28 - atmodeller.core                - INFO      - Row 00: Reaction 0: 1.0 CO + 0.5 O2 = 1.0 CO2\n",
      "15:38:28 - atmodeller.core                - INFO      - Row 01: Reaction 1: 1.0 H2 + 0.5 O2 = 1.0 H2O\n",
      "15:38:28 - atmodeller.core                - INFO      - Row 02: Setting O2 partial pressure\n",
      "15:38:28 - atmodeller.core                - INFO      - Adding constraint from mass balance: H\n",
      "15:38:28 - atmodeller.core                - INFO      - Adding constraint from mass balance: C\n",
      "15:38:28 - atmodeller.core                - INFO      - Adding constraint from mass balance: N\n",
      "15:38:28 - atmodeller.core                - INFO      - The solution converged.\n",
      "15:38:28 - atmodeller.core                - INFO      - Number of function calls = 53\n",
      "15:38:28 - atmodeller.core                - INFO      - Final objective function evaluation = [ 0.00000000e+00  0.00000000e+00  0.00000000e+00 -4.55901086e-11\n",
      "  1.29348289e-09 -6.28908705e-10]\n",
      "15:38:28 - atmodeller.core                - INFO      - {'CO': 172.9882522115495,\n",
      " 'CO2': 1.3227416128685507,\n",
      " 'H2': 204.97433770520016,\n",
      " 'H2O': 7.034225624124597,\n",
      " 'N2': 1.1084408434918627,\n",
      " 'O2': 9.900912117326348e-11}\n",
      "15:38:28 - atmodeller.core                - INFO      - Constraints: [MassConstraint(species='H', value=4.658936308575863e+20, field='mass'),\n",
      " MassConstraint(species='C', value=4.6143251680746675e+20, field='mass'),\n",
      " MassConstraint(species='N', value=1.178313142326631e+19, field='mass'),\n",
      " BufferedFugacityConstraint(species='O2',\n",
      "                            fugacity=<atmodeller.thermodynamics.IronWustiteBufferOneill object at 0x12df623d0>,\n",
      "                            log10_shift=-3.382032746825126,\n",
      "                            field='fugacity')]\n",
      "15:38:28 - atmodeller.core                - INFO      - Mixed pressure and mass constraints so attempting to solve a non-linear system of equations\n",
      "15:38:28 - atmodeller.core                - INFO      - 3 additional (not pressure) constraint(s) are necessary to solve the system\n",
      "15:38:28 - atmodeller.core                - INFO      - Row 00: Reaction 0: 1.0 CO + 0.5 O2 = 1.0 CO2\n",
      "15:38:28 - atmodeller.core                - INFO      - Row 01: Reaction 1: 1.0 H2 + 0.5 O2 = 1.0 H2O\n",
      "15:38:28 - atmodeller.core                - INFO      - Row 02: Setting O2 partial pressure\n",
      "15:38:28 - atmodeller.core                - INFO      - Adding constraint from mass balance: H\n",
      "15:38:28 - atmodeller.core                - INFO      - Adding constraint from mass balance: C\n",
      "15:38:28 - atmodeller.core                - INFO      - Adding constraint from mass balance: N\n",
      "15:38:28 - atmodeller.core                - INFO      - The solution converged.\n",
      "15:38:28 - atmodeller.core                - INFO      - Number of function calls = 43\n",
      "15:38:28 - atmodeller.core                - INFO      - Final objective function evaluation = [ 0.00000000e+00  0.00000000e+00  0.00000000e+00  3.68888746e-11\n",
      " -1.03963677e-10 -3.09772405e-11]\n",
      "15:38:28 - atmodeller.core                - INFO      - {'CO': 91.32858129283157,\n",
      " 'CO2': 0.28269795049209356,\n",
      " 'H2': 140.8789263380075,\n",
      " 'H2O': 1.9571331744932015,\n",
      " 'N2': 0.9565078571892244,\n",
      " 'O2': 1.6225208693152904e-11}\n"
     ]
    },
    {
     "name": "stdout",
     "output_type": "stream",
     "text": [
      "Writing output to: %s atmodeller_monte_carlo_tutorial3.csv\n",
      "Writing output to: %s atmodeller_monte_carlo_tutorial3.csv\n"
     ]
    }
   ],
   "source": [
    "number_of_realisations: int = 2\n",
    "\n",
    "# Parameters are normally distributed between bounds.\n",
    "number_ocean_moles: np.ndarray = np.random.uniform(1, 10, number_of_realisations)\n",
    "ch_ratios: np.ndarray = np.random.uniform(0.1, 1, number_of_realisations)\n",
    "fo2_shifts: np.ndarray = np.random.uniform(-4, 4, number_of_realisations)\n",
    "\n",
    "# Store the output in a list.\n",
    "out: list[dict[str, float]] = []\n",
    "\n",
    "# ppmw of Nitrogen in the mantle. 2.8 is the mantle value of N.\n",
    "N_ppmw: float = 2.8\n",
    "\n",
    "# The nitrogen mass is constant.\n",
    "mass_N: float = N_ppmw * 1.0e-6 * planet.mantle_mass\n",
    "\n",
    "for realisation in range(number_of_realisations):\n",
    "\n",
    "    mass_H: float = number_ocean_moles[realisation] * OCEAN_MOLES * MolarMasses().H2\n",
    "    mass_C: float = ch_ratios[realisation] * mass_H\n",
    "    constraints: list[SystemConstraint] = [\n",
    "        MassConstraint(species=\"H\", value=mass_H),\n",
    "        MassConstraint(species=\"C\", value=mass_C),\n",
    "        MassConstraint(species=\"N\", value=mass_N),\n",
    "        BufferedFugacityConstraint(log10_shift=fo2_shifts[realisation])\n",
    "    ]\n",
    "    # Recall that changing attributes on the planet 'object' will be 'seen' by interior_atmosphere.\n",
    "    out_realisation = interior_atmosphere.solve(constraints)\n",
    "\n",
    "    # Include the parameters in the output.\n",
    "    out_realisation['number_ocean_moles'] = number_ocean_moles[realisation]\n",
    "    out_realisation['ch_ratio'] = ch_ratios[realisation]\n",
    "    out_realisation['fo2_shift'] = fo2_shifts[realisation]\n",
    "\n",
    "    out.append(out_realisation)\n",
    "\n",
    "    filename: str = \"atmodeller_monte_carlo_tutorial3.csv\"\n",
    "    print(\"Writing output to: %s\", filename)\n",
    "    fieldnames: list[str] = list(out[0].keys())\n",
    "    with open(filename, \"w\", newline=\"\", encoding=\"utf-8\") as csvfile:\n",
    "        writer: csv.DictWriter = csv.DictWriter(csvfile, fieldnames=fieldnames)\n",
    "        writer.writeheader()\n",
    "        writer.writerows(out)"
   ]
  },
  {
   "attachments": {},
   "cell_type": "markdown",
   "metadata": {},
   "source": [
    "The simulation data is output as:"
   ]
  },
  {
   "cell_type": "code",
   "execution_count": 5,
   "metadata": {},
   "outputs": [
    {
     "data": {
      "text/plain": [
       "[{'CO': 172.9882522115495,\n",
       "  'H2': 204.97433770520016,\n",
       "  'N2': 1.1084408434918627,\n",
       "  'O2': 9.900912117326348e-11,\n",
       "  'CO2': 1.3227416128685507,\n",
       "  'H2O': 7.034225624124597,\n",
       "  'number_ocean_moles': 5.235711559232862,\n",
       "  'ch_ratio': 0.9491794085082482,\n",
       "  'fo2_shift': -2.5965478327146476},\n",
       " {'CO': 91.32858129283157,\n",
       "  'H2': 140.8789263380075,\n",
       "  'N2': 0.9565078571892244,\n",
       "  'O2': 1.6225208693152904e-11,\n",
       "  'CO2': 0.28269795049209356,\n",
       "  'H2O': 1.9571331744932015,\n",
       "  'number_ocean_moles': 3.0058846486088644,\n",
       "  'ch_ratio': 0.990424608205294,\n",
       "  'fo2_shift': -3.382032746825126}]"
      ]
     },
     "execution_count": 5,
     "metadata": {},
     "output_type": "execute_result"
    }
   ],
   "source": [
    "out"
   ]
  }
 ],
 "metadata": {
  "kernelspec": {
   "display_name": ".venv",
   "language": "python",
   "name": "python3"
  },
  "language_info": {
   "codemirror_mode": {
    "name": "ipython",
    "version": 3
   },
   "file_extension": ".py",
   "mimetype": "text/x-python",
   "name": "python",
   "nbconvert_exporter": "python",
   "pygments_lexer": "ipython3",
   "version": "3.11.3"
  },
  "orig_nbformat": 4
 },
 "nbformat": 4,
 "nbformat_minor": 2
}
