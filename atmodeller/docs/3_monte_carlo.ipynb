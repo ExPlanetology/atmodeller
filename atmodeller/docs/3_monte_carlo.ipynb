{
 "cells": [
  {
   "attachments": {},
   "cell_type": "markdown",
   "metadata": {},
   "source": [
    "# atmodeller\n",
    "\n",
    "## Tutorial 3: Monte Carlo experiment\n",
    "\n",
    "We can devise a simple Monte Carlo approach to sample the probable atmospheres that can arise for different planetary conditions.\n",
    "\n",
    "Import the required functionality and activate the debug logger."
   ]
  },
  {
   "cell_type": "code",
   "execution_count": null,
   "metadata": {},
   "outputs": [],
   "source": [
    "from atmodeller import debug_logger\n",
    "from atmodeller.core import InteriorAtmosphereSystem, Planet\n",
    "from atmodeller.constraints import SystemConstraint, MassConstraint, BufferedFugacityConstraint, SystemConstraints\n",
    "from atmodeller.thermodynamics import ChemicalComponent, GasSpecies, StandardGibbsFreeEnergyOfFormation\n",
    "from atmodeller.solubilities import PeridotiteH2O, BasaltDixonCO2, BasaltLibourelN2\n",
    "from atmodeller.utilities import earth_oceans_to_kg\n",
    "import numpy as np\n",
    "import csv\n",
    "\n",
    "debug_logger()"
   ]
  },
  {
   "cell_type": "code",
   "execution_count": null,
   "metadata": {},
   "outputs": [],
   "source": [
    "species: list[ChemicalComponent] = []\n",
    "species.append(GasSpecies(chemical_formula='H2O', solubility=PeridotiteH2O()))\n",
    "species.append(GasSpecies(chemical_formula='H2'))\n",
    "species.append(GasSpecies(chemical_formula='O2'))\n",
    "species.append(GasSpecies(chemical_formula='CO'))\n",
    "species.append(GasSpecies(chemical_formula='CO2', solubility=BasaltDixonCO2()))\n",
    "species.append(GasSpecies(chemical_formula='N2', solubility=BasaltLibourelN2()))\n",
    "species"
   ]
  },
  {
   "cell_type": "code",
   "execution_count": null,
   "metadata": {},
   "outputs": [],
   "source": [
    "planet: Planet = Planet()\n",
    "interior_atmosphere: InteriorAtmosphereSystem = InteriorAtmosphereSystem(species=species, planet=planet, gibbs_data=StandardGibbsFreeEnergyOfFormation())"
   ]
  },
  {
   "cell_type": "code",
   "execution_count": null,
   "metadata": {},
   "outputs": [],
   "source": [
    "number_of_realisations: int = 2\n",
    "\n",
    "# Parameters are normally distributed between bounds.\n",
    "number_ocean_moles: np.ndarray = np.random.uniform(1, 10, number_of_realisations)\n",
    "ch_ratios: np.ndarray = np.random.uniform(0.1, 1, number_of_realisations)\n",
    "fo2_shifts: np.ndarray = np.random.uniform(-4, 4, number_of_realisations)\n",
    "\n",
    "# Store the output in a list.\n",
    "out: list[dict[str, float]] = []\n",
    "\n",
    "# ppmw of Nitrogen in the mantle. 2.8 is the mantle value of N.\n",
    "N_ppmw: float = 2.8\n",
    "\n",
    "# The nitrogen mass is constant.\n",
    "mass_N: float = N_ppmw * 1.0e-6 * planet.mantle_mass\n",
    "\n",
    "for realisation in range(number_of_realisations):\n",
    "\n",
    "    mass_H: float = earth_oceans_to_kg(number_ocean_moles[realisation])\n",
    "    mass_C: float = ch_ratios[realisation] * mass_H\n",
    "    constraints: SystemConstraints = SystemConstraints([\n",
    "        MassConstraint(species=\"H\", value=mass_H),\n",
    "        MassConstraint(species=\"C\", value=mass_C),\n",
    "        MassConstraint(species=\"N\", value=mass_N),\n",
    "        BufferedFugacityConstraint(log10_shift=fo2_shifts[realisation])\n",
    "    ])\n",
    "    # Recall that changing attributes on the planet 'object' will be 'seen' by interior_atmosphere.\n",
    "    interior_atmosphere.solve(constraints)\n",
    "    out_realisation: dict[str,float] = interior_atmosphere.pressures_dict\n",
    "\n",
    "    # Include the parameters in the output.\n",
    "    out_realisation['number_ocean_moles'] = number_ocean_moles[realisation]\n",
    "    out_realisation['ch_ratio'] = ch_ratios[realisation]\n",
    "    out_realisation['fo2_shift'] = fo2_shifts[realisation]\n",
    "\n",
    "    out.append(out_realisation)\n",
    "\n",
    "    filename: str = \"atmodeller_monte_carlo_tutorial3.csv\"\n",
    "    print(\"Writing output to: %s\", filename)\n",
    "    fieldnames: list[str] = list(out[0].keys())\n",
    "    with open(filename, \"w\", newline=\"\", encoding=\"utf-8\") as csvfile:\n",
    "        writer: csv.DictWriter = csv.DictWriter(csvfile, fieldnames=fieldnames)\n",
    "        writer.writeheader()\n",
    "        writer.writerows(out)"
   ]
  },
  {
   "attachments": {},
   "cell_type": "markdown",
   "metadata": {},
   "source": [
    "The simulation data is output as:"
   ]
  },
  {
   "cell_type": "code",
   "execution_count": null,
   "metadata": {},
   "outputs": [],
   "source": [
    "out"
   ]
  }
 ],
 "metadata": {
  "kernelspec": {
   "display_name": ".venv",
   "language": "python",
   "name": "python3"
  },
  "language_info": {
   "codemirror_mode": {
    "name": "ipython",
    "version": 3
   },
   "file_extension": ".py",
   "mimetype": "text/x-python",
   "name": "python",
   "nbconvert_exporter": "python",
   "pygments_lexer": "ipython3",
   "version": "3.11.3"
  },
  "orig_nbformat": 4
 },
 "nbformat": 4,
 "nbformat_minor": 2
}
