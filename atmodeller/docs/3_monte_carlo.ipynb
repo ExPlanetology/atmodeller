{
 "cells": [
  {
   "attachments": {},
   "cell_type": "markdown",
   "metadata": {},
   "source": [
    "# atmodeller\n",
    "\n",
    "## Tutorial 3: Monte Carlo experiment\n",
    "\n",
    "We can devise a simple Monte Carlo approach to sample the probable atmospheres that can arise for different planetary conditions.\n",
    "\n",
    "Import the required functionality and activate the debug logger."
   ]
  },
  {
   "cell_type": "code",
   "execution_count": null,
   "metadata": {},
   "outputs": [],
   "source": [
    "from atmodeller import debug_logger\n",
    "from atmodeller.interior_atmosphere import InteriorAtmosphereSystem, Planet, Species\n",
    "from atmodeller.constraints import MassConstraint, IronWustiteBufferConstraintHirschmann, SystemConstraints\n",
    "from atmodeller.interfaces import GasSpecies\n",
    "from atmodeller.solubilities import PeridotiteH2O, BasaltDixonCO2, BasaltLibourelN2\n",
    "from atmodeller.utilities import earth_oceans_to_kg\n",
    "import numpy as np\n",
    "import logging\n",
    "import csv\n",
    "import pandas as pd\n",
    "\n",
    "logger = debug_logger()\n",
    "logger.setLevel(logging.WARNING)"
   ]
  },
  {
   "cell_type": "code",
   "execution_count": null,
   "metadata": {},
   "outputs": [],
   "source": [
    "species: Species = Species()\n",
    "species.append(GasSpecies(chemical_formula='H2O', solubility=PeridotiteH2O()))\n",
    "species.append(GasSpecies(chemical_formula='H2'))\n",
    "species.append(GasSpecies(chemical_formula='O2'))\n",
    "species.append(GasSpecies(chemical_formula='CO'))\n",
    "species.append(GasSpecies(chemical_formula='CO2', solubility=BasaltDixonCO2()))\n",
    "species.append(GasSpecies(chemical_formula='N2', solubility=BasaltLibourelN2()))\n",
    "species"
   ]
  },
  {
   "cell_type": "code",
   "execution_count": null,
   "metadata": {},
   "outputs": [],
   "source": [
    "planet: Planet = Planet()\n",
    "interior_atmosphere: InteriorAtmosphereSystem = InteriorAtmosphereSystem(species=species, planet=planet)"
   ]
  },
  {
   "cell_type": "code",
   "execution_count": null,
   "metadata": {},
   "outputs": [],
   "source": [
    "number_of_realisations = 1\n",
    "\n",
    "# Parameters are normally distributed between bounds.\n",
    "number_ocean_moles = np.random.uniform(1, 10, number_of_realisations)\n",
    "ch_ratios = np.random.uniform(0.1, 1, number_of_realisations)\n",
    "fo2_shifts = np.random.uniform(-4, 4, number_of_realisations)\n",
    "\n",
    "# Store the output in a list.\n",
    "out = []\n",
    "\n",
    "# ppmw of Nitrogen in the mantle. 2.8 is the mantle value of N.\n",
    "N_ppmw = 2.8\n",
    "\n",
    "# The nitrogen mass is constant.\n",
    "mass_N = N_ppmw * 1.0e-6 * planet.mantle_mass\n",
    "\n",
    "constraints_dataframe: pd.DataFrame = pd.read_pickle('constraints_in.pkl')\n",
    "solution_dataframe: pd.DataFrame = pd.read_pickle('solution_in.pkl')\n",
    "\n",
    "for realisation in range(number_of_realisations):\n",
    "\n",
    "    mass_H = earth_oceans_to_kg(number_ocean_moles[realisation])\n",
    "    mass_C = ch_ratios[realisation] * mass_H\n",
    "    constraints = SystemConstraints([\n",
    "        MassConstraint(species=\"H\", value=mass_H),\n",
    "        MassConstraint(species=\"C\", value=mass_C),\n",
    "        MassConstraint(species=\"N\", value=mass_N),\n",
    "        IronWustiteBufferConstraintHirschmann(log10_shift=fo2_shifts[realisation])\n",
    "    ])\n",
    "    # Recall that changing attributes on the planet 'object' will be 'seen' by interior_atmosphere.\n",
    "    # interior_atmosphere.solve(constraints, factor=0.1)\n",
    "    interior_atmosphere.solve(constraints, constraints_dataframe=constraints_dataframe, solution_dataframe=solution_dataframe, factor=0.1)\n",
    "    out_realisation = interior_atmosphere.solution_dict\n",
    "\n",
    "    # Include the parameters in the output.\n",
    "    out_realisation['number_ocean_moles'] = number_ocean_moles[realisation]\n",
    "    out_realisation['ch_ratio'] = ch_ratios[realisation]\n",
    "    out_realisation['fo2_shift'] = fo2_shifts[realisation]\n",
    "\n",
    "    out.append(out_realisation)\n",
    "\n",
    "    filename = \"atmodeller_monte_carlo_tutorial3.csv\"\n",
    "    print(\"Writing output to: %s\", filename)\n",
    "    fieldnames: list[str] = list(out[0].keys())\n",
    "    with open(filename, \"w\", newline=\"\", encoding=\"utf-8\") as csvfile:\n",
    "        writer: csv.DictWriter = csv.DictWriter(csvfile, fieldnames=fieldnames)\n",
    "        writer.writeheader()\n",
    "        writer.writerows(out)"
   ]
  },
  {
   "attachments": {},
   "cell_type": "markdown",
   "metadata": {},
   "source": [
    "The simulation data is output as:"
   ]
  },
  {
   "cell_type": "code",
   "execution_count": null,
   "metadata": {},
   "outputs": [],
   "source": [
    "interior_atmosphere.output()['solution'].to_pickle('solution.pkl')"
   ]
  },
  {
   "cell_type": "code",
   "execution_count": null,
   "metadata": {},
   "outputs": [],
   "source": []
  }
 ],
 "metadata": {
  "kernelspec": {
   "display_name": ".venv",
   "language": "python",
   "name": "python3"
  },
  "language_info": {
   "codemirror_mode": {
    "name": "ipython",
    "version": 3
   },
   "file_extension": ".py",
   "mimetype": "text/x-python",
   "name": "python",
   "nbconvert_exporter": "python",
   "pygments_lexer": "ipython3",
   "version": "3.11.3"
  },
  "orig_nbformat": 4
 },
 "nbformat": 4,
 "nbformat_minor": 2
}
