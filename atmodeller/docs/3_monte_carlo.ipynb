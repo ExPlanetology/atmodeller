{
 "cells": [
  {
   "attachments": {},
   "cell_type": "markdown",
   "metadata": {},
   "source": [
    "# atmodeller\n",
    "\n",
    "## Tutorial 3: Monte Carlo experiment\n",
    "\n",
    "We can devise a simple Monte Carlo approach to sample the probable atmospheres that can arise for different planetary conditions.\n",
    "\n",
    "Import the required packages and set the package logger to the INFO level. For more output you could instead set it to DEBUG."
   ]
  },
  {
   "cell_type": "code",
   "execution_count": 1,
   "metadata": {},
   "outputs": [
    {
     "name": "stderr",
     "output_type": "stream",
     "text": [
      "15:00:40 - atmodeller                     - INFO      - atmodeller version 0.1.0\n"
     ]
    }
   ],
   "source": [
    "from atmodeller import InteriorAtmosphereSystem, Molecule, Planet, OCEAN_MOLES, SystemConstraint, logger, MassConstraint, BufferedFugacityConstraint, MolarMasses\n",
    "from atmodeller.thermodynamics import PeridotiteH2O, NoSolubility, BasaltDixonCO2, BasaltLibourelN2\n",
    "import numpy as np\n",
    "import csv\n",
    "import logging\n",
    "\n",
    "logger.setLevel(logging.INFO)"
   ]
  },
  {
   "cell_type": "code",
   "execution_count": 2,
   "metadata": {},
   "outputs": [
    {
     "name": "stderr",
     "output_type": "stream",
     "text": [
      "15:00:41 - atmodeller.thermodynamics      - INFO      - Creating a molecule: H2O\n",
      "15:00:41 - atmodeller.thermodynamics      - INFO      - Creating a molecule: H2\n",
      "15:00:41 - atmodeller.thermodynamics      - INFO      - Creating a molecule: O2\n",
      "15:00:41 - atmodeller.thermodynamics      - INFO      - Creating a molecule: CO\n",
      "15:00:41 - atmodeller.thermodynamics      - INFO      - Creating a molecule: CO2\n",
      "15:00:41 - atmodeller.thermodynamics      - INFO      - Creating a molecule: N2\n"
     ]
    },
    {
     "data": {
      "text/plain": [
       "[Molecule(name='H2O', solubility=<atmodeller.thermodynamics.PeridotiteH2O object at 0x1292a37d0>, solid_melt_distribution_coefficient=0, elements={'H': 2, 'O': 1}, element_masses={'H': 0.0020158, 'O': 0.0159994}, molar_mass=0.018015200000000002, output=None),\n",
       " Molecule(name='H2', solubility=<atmodeller.thermodynamics.NoSolubility object at 0x11f32bd50>, solid_melt_distribution_coefficient=0, elements={'H': 2}, element_masses={'H': 0.0020158}, molar_mass=0.0020158, output=None),\n",
       " Molecule(name='O2', solubility=<atmodeller.thermodynamics.NoSolubility object at 0x1208594d0>, solid_melt_distribution_coefficient=0, elements={'O': 2}, element_masses={'O': 0.0319988}, molar_mass=0.0319988, output=None),\n",
       " Molecule(name='CO', solubility=<atmodeller.thermodynamics.NoSolubility object at 0x10ec0e090>, solid_melt_distribution_coefficient=0, elements={'C': 1, 'O': 1}, element_masses={'C': 0.0120107, 'O': 0.0159994}, molar_mass=0.0280101, output=None),\n",
       " Molecule(name='CO2', solubility=<atmodeller.thermodynamics.BasaltDixonCO2 object at 0x11f356a90>, solid_melt_distribution_coefficient=0, elements={'C': 1, 'O': 2}, element_masses={'C': 0.0120107, 'O': 0.0319988}, molar_mass=0.0440095, output=None),\n",
       " Molecule(name='N2', solubility=<atmodeller.thermodynamics.BasaltLibourelN2 object at 0x1124a0090>, solid_melt_distribution_coefficient=0, elements={'N': 2}, element_masses={'N': 0.0280134}, molar_mass=0.0280134, output=None)]"
      ]
     },
     "execution_count": 2,
     "metadata": {},
     "output_type": "execute_result"
    }
   ],
   "source": [
    "molecules: list[Molecule] = []\n",
    "molecules.append(Molecule(name='H2O', solubility=PeridotiteH2O(), solid_melt_distribution_coefficient=0))\n",
    "molecules.append(Molecule(name='H2', solubility=NoSolubility(), solid_melt_distribution_coefficient=0))\n",
    "molecules.append(Molecule(name='O2', solubility=NoSolubility(), solid_melt_distribution_coefficient=0))\n",
    "molecules.append(Molecule(name='CO', solubility=NoSolubility(), solid_melt_distribution_coefficient=0))\n",
    "molecules.append(Molecule(name='CO2', solubility=BasaltDixonCO2(), solid_melt_distribution_coefficient=0))\n",
    "molecules.append(Molecule(name='N2', solubility=BasaltLibourelN2(), solid_melt_distribution_coefficient=0))\n",
    "molecules"
   ]
  },
  {
   "cell_type": "code",
   "execution_count": 3,
   "metadata": {},
   "outputs": [
    {
     "name": "stderr",
     "output_type": "stream",
     "text": [
      "15:00:41 - atmodeller.thermodynamics      - INFO      - Creating a new planet\n",
      "15:00:41 - atmodeller.thermodynamics      - INFO      - Mantle mass (kg) = 4208261222595110885130240.000000\n",
      "15:00:41 - atmodeller.thermodynamics      - INFO      - Mantle melt fraction = 1.000000\n",
      "15:00:41 - atmodeller.thermodynamics      - INFO      - Core mass fraction = 0.295335\n",
      "15:00:41 - atmodeller.thermodynamics      - INFO      - Planetary radius (m) = 6371000.000000\n",
      "15:00:41 - atmodeller.thermodynamics      - INFO      - Planetary mass (kg) = 5972000000000000327155712.000000\n",
      "15:00:41 - atmodeller.thermodynamics      - INFO      - Surface temperature (K) = 2000.000000\n",
      "15:00:41 - atmodeller.thermodynamics      - INFO      - Surface gravity (m/s^2) = 9.819973\n",
      "15:00:41 - atmodeller.thermodynamics      - INFO      - Melt Composition = None\n",
      "15:00:41 - atmodeller.core                - INFO      - Creating a new interior-atmosphere system\n",
      "15:00:41 - atmodeller.core                - INFO      - Molecules = ['CO', 'H2', 'N2', 'O2', 'CO2', 'H2O']\n",
      "15:00:41 - atmodeller.core                - INFO      - Molecules = ['CO', 'H2', 'N2', 'O2', 'CO2', 'H2O']\n",
      "15:00:41 - atmodeller.core                - INFO      - Reactions = \n",
      "{0: '1.0 CO + 0.5 O2 = 1.0 CO2', 1: '1.0 H2 + 0.5 O2 = 1.0 H2O'}\n"
     ]
    }
   ],
   "source": [
    "planet: Planet = Planet()\n",
    "interior_atmosphere: InteriorAtmosphereSystem = InteriorAtmosphereSystem(molecules=molecules, planet=planet)"
   ]
  },
  {
   "cell_type": "code",
   "execution_count": 4,
   "metadata": {},
   "outputs": [
    {
     "name": "stderr",
     "output_type": "stream",
     "text": [
      "15:00:41 - atmodeller.core                - INFO      - Constraints: [MassConstraint(species='H', value=1.5340869325596278e+21, field='mass'),\n",
      " MassConstraint(species='C', value=7.421288326236803e+20, field='mass'),\n",
      " MassConstraint(species='N', value=1.178313142326631e+19, field='mass'),\n",
      " BufferedFugacityConstraint(species='O2',\n",
      "                            fugacity=<atmodeller.thermodynamics.IronWustiteBufferOneill object at 0x11f363290>,\n",
      "                            log10_shift=2.8296662948708375,\n",
      "                            field='fugacity')]\n",
      "15:00:41 - atmodeller.core                - INFO      - Mixed pressure and mass constraints so attempting to solve a non-linear system of equations\n",
      "15:00:41 - atmodeller.core                - INFO      - 3 additional (not fugacity) constraint(s) are necessary to solve the system\n",
      "15:00:41 - atmodeller.core                - INFO      - Row 00: Reaction 0: 1.0 CO + 0.5 O2 = 1.0 CO2\n",
      "15:00:41 - atmodeller.core                - INFO      - Row 01: Reaction 1: 1.0 H2 + 0.5 O2 = 1.0 H2O\n",
      "15:00:41 - atmodeller.core                - INFO      - Row 02: Setting O2 partial pressure\n",
      "15:00:41 - atmodeller.core                - INFO      - Adding constraint from mass balance: H\n",
      "15:00:41 - atmodeller.core                - INFO      - Adding constraint from mass balance: C\n",
      "15:00:41 - atmodeller.core                - INFO      - Adding constraint from mass balance: N\n",
      "15:00:41 - atmodeller.core                - INFO      - The solution converged.\n",
      "15:00:41 - atmodeller.core                - INFO      - Number of function calls = 38\n",
      "15:00:41 - atmodeller.core                - INFO      - Final objective function evaluation = [ 0.00000000e+00  0.00000000e+00  0.00000000e+00 -3.06404022e-12\n",
      "  9.54937488e-11  3.65257065e-12]\n",
      "15:00:41 - atmodeller.core                - INFO      - {'CO': 73.91632148711004,\n",
      " 'CO2': 291.9482088699299,\n",
      " 'H2': 2.1495545732610934,\n",
      " 'H2O': 38.104155583354995,\n",
      " 'N2': 2.9093566838232854,\n",
      " 'O2': 2.6417355053613478e-05}\n",
      "15:00:41 - atmodeller.core                - INFO      - Constraints: [MassConstraint(species='H', value=8.53616257134393e+20, field='mass'),\n",
      " MassConstraint(species='C', value=7.051077068040363e+20, field='mass'),\n",
      " MassConstraint(species='N', value=1.178313142326631e+19, field='mass'),\n",
      " BufferedFugacityConstraint(species='O2',\n",
      "                            fugacity=<atmodeller.thermodynamics.IronWustiteBufferOneill object at 0x1292d8a10>,\n",
      "                            log10_shift=2.486862684409301,\n",
      "                            field='fugacity')]\n",
      "15:00:41 - atmodeller.core                - INFO      - Mixed pressure and mass constraints so attempting to solve a non-linear system of equations\n",
      "15:00:41 - atmodeller.core                - INFO      - 3 additional (not fugacity) constraint(s) are necessary to solve the system\n",
      "15:00:41 - atmodeller.core                - INFO      - Row 00: Reaction 0: 1.0 CO + 0.5 O2 = 1.0 CO2\n",
      "15:00:41 - atmodeller.core                - INFO      - Row 01: Reaction 1: 1.0 H2 + 0.5 O2 = 1.0 H2O\n",
      "15:00:41 - atmodeller.core                - INFO      - Row 02: Setting O2 partial pressure\n",
      "15:00:41 - atmodeller.core                - INFO      - Adding constraint from mass balance: H\n",
      "15:00:41 - atmodeller.core                - INFO      - Adding constraint from mass balance: C\n",
      "15:00:41 - atmodeller.core                - INFO      - Adding constraint from mass balance: N\n",
      "15:00:41 - atmodeller.core                - INFO      - The solution converged.\n",
      "15:00:41 - atmodeller.core                - INFO      - Number of function calls = 31\n",
      "15:00:41 - atmodeller.core                - INFO      - Final objective function evaluation = [0.00000000e+00 4.44089210e-16 0.00000000e+00 3.57769381e-14\n",
      " 6.65203113e-11 7.45426838e-12]\n",
      "15:00:41 - atmodeller.core                - INFO      - {'CO': 97.3695376383669,\n",
      " 'CO2': 259.17121934375916,\n",
      " 'H2': 0.9937452226890828,\n",
      " 'H2O': 11.87126814607474,\n",
      " 'N2': 2.9374879574343886,\n",
      " 'O2': 1.1997360884252258e-05}\n"
     ]
    },
    {
     "name": "stdout",
     "output_type": "stream",
     "text": [
      "Writing output to: %s atmodeller_monte_carlo_tutorial3.csv\n",
      "Writing output to: %s atmodeller_monte_carlo_tutorial3.csv\n"
     ]
    }
   ],
   "source": [
    "number_of_realisations: int = 2\n",
    "\n",
    "# Parameters are normally distributed between bounds.\n",
    "number_ocean_moles: np.ndarray = np.random.uniform(1, 10, number_of_realisations)\n",
    "ch_ratios: np.ndarray = np.random.uniform(0.1, 1, number_of_realisations)\n",
    "fo2_shifts: np.ndarray = np.random.uniform(-4, 4, number_of_realisations)\n",
    "\n",
    "# Store the output in a list.\n",
    "out: list[dict[str, float]] = []\n",
    "\n",
    "# ppmw of Nitrogen in the mantle. 2.8 is the mantle value of N.\n",
    "N_ppmw: float = 2.8\n",
    "\n",
    "# The nitrogen mass is constant.\n",
    "mass_N: float = N_ppmw * 1.0e-6 * planet.mantle_mass\n",
    "\n",
    "for realisation in range(number_of_realisations):\n",
    "\n",
    "    mass_H: float = number_ocean_moles[realisation] * OCEAN_MOLES * MolarMasses().H2\n",
    "    mass_C: float = ch_ratios[realisation] * mass_H\n",
    "    constraints: list[SystemConstraint] = [\n",
    "        MassConstraint(species=\"H\", value=mass_H),\n",
    "        MassConstraint(species=\"C\", value=mass_C),\n",
    "        MassConstraint(species=\"N\", value=mass_N),\n",
    "        BufferedFugacityConstraint(log10_shift=fo2_shifts[realisation])\n",
    "    ]\n",
    "    # Recall that changing attributes on the planet 'object' will be 'seen' by interior_atmosphere.\n",
    "    out_realisation = interior_atmosphere.solve(constraints)\n",
    "\n",
    "    # Include the parameters in the output.\n",
    "    out_realisation['number_ocean_moles'] = number_ocean_moles[realisation]\n",
    "    out_realisation['ch_ratio'] = ch_ratios[realisation]\n",
    "    out_realisation['fo2_shift'] = fo2_shifts[realisation]\n",
    "\n",
    "    out.append(out_realisation)\n",
    "\n",
    "    filename: str = \"atmodeller_monte_carlo_tutorial3.csv\"\n",
    "    print(\"Writing output to: %s\", filename)\n",
    "    fieldnames: list[str] = list(out[0].keys())\n",
    "    with open(filename, \"w\", newline=\"\", encoding=\"utf-8\") as csvfile:\n",
    "        writer: csv.DictWriter = csv.DictWriter(csvfile, fieldnames=fieldnames)\n",
    "        writer.writeheader()\n",
    "        writer.writerows(out)"
   ]
  },
  {
   "attachments": {},
   "cell_type": "markdown",
   "metadata": {},
   "source": [
    "The simulation data is output as:"
   ]
  },
  {
   "cell_type": "code",
   "execution_count": 5,
   "metadata": {},
   "outputs": [
    {
     "data": {
      "text/plain": [
       "[{'CO': 73.91632148711004,\n",
       "  'H2': 2.1495545732610934,\n",
       "  'N2': 2.9093566838232854,\n",
       "  'O2': 2.6417355053613478e-05,\n",
       "  'CO2': 291.9482088699299,\n",
       "  'H2O': 38.104155583354995,\n",
       "  'number_ocean_moles': 9.897727839129914,\n",
       "  'ch_ratio': 0.4837593078153899,\n",
       "  'fo2_shift': 2.8296662948708375},\n",
       " {'CO': 97.3695376383669,\n",
       "  'H2': 0.9937452226890828,\n",
       "  'N2': 2.9374879574343886,\n",
       "  'O2': 1.1997360884252258e-05,\n",
       "  'CO2': 259.17121934375916,\n",
       "  'H2O': 11.87126814607474,\n",
       "  'number_ocean_moles': 5.50742022036262,\n",
       "  'ch_ratio': 0.8260242244812641,\n",
       "  'fo2_shift': 2.486862684409301}]"
      ]
     },
     "execution_count": 5,
     "metadata": {},
     "output_type": "execute_result"
    }
   ],
   "source": [
    "out"
   ]
  }
 ],
 "metadata": {
  "kernelspec": {
   "display_name": ".venv",
   "language": "python",
   "name": "python3"
  },
  "language_info": {
   "codemirror_mode": {
    "name": "ipython",
    "version": 3
   },
   "file_extension": ".py",
   "mimetype": "text/x-python",
   "name": "python",
   "nbconvert_exporter": "python",
   "pygments_lexer": "ipython3",
   "version": "3.11.3"
  },
  "orig_nbformat": 4
 },
 "nbformat": 4,
 "nbformat_minor": 2
}
