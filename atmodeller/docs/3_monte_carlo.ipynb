{
 "cells": [
  {
   "attachments": {},
   "cell_type": "markdown",
   "metadata": {},
   "source": [
    "# atmodeller\n",
    "\n",
    "## Tutorial 3: Monte Carlo experiment\n",
    "\n",
    "We can devise a simple Monte Carlo approach to sample the probable atmospheres that can arise for different planetary conditions.\n",
    "\n",
    "Import the required packages and set the package logger to the INFO level. For more output you could instead set it to DEBUG."
   ]
  },
  {
   "cell_type": "code",
   "execution_count": 2,
   "metadata": {},
   "outputs": [],
   "source": [
    "from atmodeller import InteriorAtmosphereSystem, Molecule, Planet, OCEAN_MOLES, SystemConstraint, logger\n",
    "from atmodeller.thermodynamics import PeridotiteH2O, NoSolubility, BasaltDixonCO2, BasaltLibourelN2, MolarMasses\n",
    "import numpy as np\n",
    "import csv\n",
    "import logging\n",
    "\n",
    "logger.setLevel(logging.INFO)"
   ]
  },
  {
   "cell_type": "code",
   "execution_count": 3,
   "metadata": {},
   "outputs": [
    {
     "name": "stderr",
     "output_type": "stream",
     "text": [
      "[2023-06-04 14:08:50 - atmodeller.core      - 144 - INFO      - __post_init__()] Creating a molecule: H2O\n",
      "[2023-06-04 14:08:50 - atmodeller.core      - 144 - INFO      - __post_init__()] Creating a molecule: H2\n",
      "[2023-06-04 14:08:50 - atmodeller.core      - 144 - INFO      - __post_init__()] Creating a molecule: O2\n",
      "[2023-06-04 14:08:50 - atmodeller.core      - 144 - INFO      - __post_init__()] Creating a molecule: CO\n",
      "[2023-06-04 14:08:50 - atmodeller.core      - 144 - INFO      - __post_init__()] Creating a molecule: CO2\n",
      "[2023-06-04 14:08:50 - atmodeller.core      - 144 - INFO      - __post_init__()] Creating a molecule: N2\n"
     ]
    },
    {
     "data": {
      "text/plain": [
       "[Molecule(name='H2O', solubility=<atmodeller.thermodynamics.PeridotiteH2O object at 0x1267302d0>, solid_melt_distribution_coefficient=0, elements={'H': 2, 'O': 1}, element_masses={'H': 0.0020158, 'O': 0.0159994}, formation_constants=(-3.0385132352941198, 13152.698529411768), molar_mass=0.018015200000000002),\n",
       " Molecule(name='H2', solubility=<atmodeller.thermodynamics.NoSolubility object at 0x111385a50>, solid_melt_distribution_coefficient=0, elements={'H': 2}, element_masses={'H': 0.0020158}, formation_constants=(0, 0), molar_mass=0.0020158),\n",
       " Molecule(name='O2', solubility=<atmodeller.thermodynamics.NoSolubility object at 0x119d76d10>, solid_melt_distribution_coefficient=0, elements={'O': 2}, element_masses={'O': 0.0319988}, formation_constants=(0, 0), molar_mass=0.0319988),\n",
       " Molecule(name='CO', solubility=<atmodeller.thermodynamics.NoSolubility object at 0x119da7190>, solid_melt_distribution_coefficient=0, elements={'C': 1, 'O': 1}, element_masses={'C': 0.0120107, 'O': 0.0159994}, formation_constants=(4.319860294117643, 6286.120588235306), molar_mass=0.0280101),\n",
       " Molecule(name='CO2', solubility=<atmodeller.thermodynamics.BasaltDixonCO2 object at 0x1193b9d50>, solid_melt_distribution_coefficient=0, elements={'C': 1, 'O': 2}, element_masses={'C': 0.0120107, 'O': 0.0319988}, formation_constants=(-0.028289705882357442, 20753.870588235302), molar_mass=0.0440095),\n",
       " Molecule(name='N2', solubility=<atmodeller.thermodynamics.LibourelN2 object at 0x126730690>, solid_melt_distribution_coefficient=0, elements={'N': 2}, element_masses={'N': 0.0280134}, formation_constants=(0, 0), molar_mass=0.0280134)]"
      ]
     },
     "execution_count": 3,
     "metadata": {},
     "output_type": "execute_result"
    }
   ],
   "source": [
    "molecules: list[Molecule] = []\n",
    "molecules.append(Molecule(name='H2O', solubility=PeridotiteH2O(), solid_melt_distribution_coefficient=0))\n",
    "molecules.append(Molecule(name='H2', solubility=NoSolubility(), solid_melt_distribution_coefficient=0))\n",
    "molecules.append(Molecule(name='O2', solubility=NoSolubility(), solid_melt_distribution_coefficient=0))\n",
    "molecules.append(Molecule(name='CO', solubility=NoSolubility(), solid_melt_distribution_coefficient=0))\n",
    "molecules.append(Molecule(name='CO2', solubility=BasaltDixonCO2(), solid_melt_distribution_coefficient=0))\n",
    "molecules.append(Molecule(name='N2', solubility=BasaltLibourelN2(), solid_melt_distribution_coefficient=0))\n",
    "molecules"
   ]
  },
  {
   "cell_type": "code",
   "execution_count": 4,
   "metadata": {},
   "outputs": [
    {
     "name": "stderr",
     "output_type": "stream",
     "text": [
      "[2023-06-04 14:08:50 - atmodeller.core      - 072 - INFO      - __post_init__()] Creating a new planet\n",
      "[2023-06-04 14:08:50 - atmodeller.core      - 077 - INFO      - __post_init__()] Mantle mass (kg) = 4.208261222595111e+24\n",
      "[2023-06-04 14:08:50 - atmodeller.core      - 078 - INFO      - __post_init__()] Mantle melt fraction = 1.0\n",
      "[2023-06-04 14:08:50 - atmodeller.core      - 079 - INFO      - __post_init__()] Core mass fraction = 0.295334691460966\n",
      "[2023-06-04 14:08:50 - atmodeller.core      - 080 - INFO      - __post_init__()] Planetary radius (m) = 6371000.0\n",
      "[2023-06-04 14:08:50 - atmodeller.core      - 081 - INFO      - __post_init__()] Planetary mass (kg) = 5.972e+24\n",
      "[2023-06-04 14:08:50 - atmodeller.core      - 082 - INFO      - __post_init__()] Surface temperature (K) = 2000.000000\n",
      "[2023-06-04 14:08:50 - atmodeller.core      - 083 - INFO      - __post_init__()] Surface gravity (m/s^2) = 9.819973426224687\n",
      "[2023-06-04 14:08:50 - atmodeller.core      - 084 - INFO      - __post_init__()] Oxygen fugacity model (mantle) = IronWustiteBufferOneill\n",
      "[2023-06-04 14:08:50 - atmodeller.core      - 087 - INFO      - __post_init__()] Oxygen fugacity log10 shift = 0.000000\n",
      "[2023-06-04 14:08:50 - atmodeller.core      - 669 - INFO      - __post_init__()] Creating a new interior-atmosphere system\n",
      "[2023-06-04 14:08:50 - atmodeller.core      - 673 - INFO      - __post_init__()] Molecules = ['CO', 'H2', 'N2', 'O2', 'CO2', 'H2O']\n",
      "[2023-06-04 14:08:50 - atmodeller.core      - 360 - INFO      - __init__()] Molecules = ['CO', 'H2', 'N2', 'O2', 'CO2', 'H2O']\n",
      "[2023-06-04 14:08:50 - atmodeller.core      - 366 - INFO      - __init__()] Reactions = \n",
      "{0: '1.0 CO + 0.5 O2 = 1.0 CO2', 1: '1.0 H2 + 0.5 O2 = 1.0 H2O'}\n"
     ]
    }
   ],
   "source": [
    "planet: Planet = Planet()\n",
    "interior_atmosphere: InteriorAtmosphereSystem = InteriorAtmosphereSystem(molecules=molecules, planet=planet)"
   ]
  },
  {
   "cell_type": "code",
   "execution_count": 5,
   "metadata": {},
   "outputs": [
    {
     "name": "stderr",
     "output_type": "stream",
     "text": [
      "[2023-06-04 14:08:50 - atmodeller.core      - 756 - INFO      - solve()] Constraints: [SystemConstraint(species='H', value=1.2363228293180007e+21, field='mass'),\n",
      " SystemConstraint(species='C', value=1.1795132190705819e+21, field='mass'),\n",
      " SystemConstraint(species='N', value=1.178313142326631e+19, field='mass')]\n",
      "[2023-06-04 14:08:50 - atmodeller.core      - 782 - INFO      - solve()] Mixed pressure and mass constraints so attempting to solve a non-linear system of equations\n",
      "[2023-06-04 14:08:50 - atmodeller.core      - 557 - INFO      - get_coefficient_matrix_and_rhs()] Adding fO2 as an additional constraint using IronWustiteBufferOneill with fO2_shift = 3.25\n",
      "[2023-06-04 14:08:50 - atmodeller.core      - 582 - INFO      - get_coefficient_matrix_and_rhs()] 3 additional (not pressure) constraint(s) are necessary to solve the system\n",
      "[2023-06-04 14:08:50 - atmodeller.core      - 591 - INFO      - get_coefficient_matrix_and_rhs()] Row 00: Reaction 0: 1.0 CO + 0.5 O2 = 1.0 CO2\n",
      "[2023-06-04 14:08:50 - atmodeller.core      - 591 - INFO      - get_coefficient_matrix_and_rhs()] Row 01: Reaction 1: 1.0 H2 + 0.5 O2 = 1.0 H2O\n",
      "[2023-06-04 14:08:50 - atmodeller.core      - 605 - INFO      - get_coefficient_matrix_and_rhs()] Row 02: Setting O2 partial pressure\n",
      "[2023-06-04 14:08:50 - atmodeller.core      - 814 - INFO      - _solve_fsolve()] Adding constraint from mass balance: H\n",
      "[2023-06-04 14:08:50 - atmodeller.core      - 814 - INFO      - _solve_fsolve()] Adding constraint from mass balance: C\n",
      "[2023-06-04 14:08:50 - atmodeller.core      - 814 - INFO      - _solve_fsolve()] Adding constraint from mass balance: N\n",
      "[2023-06-04 14:08:50 - atmodeller.core      - 835 - INFO      - _solve_fsolve()] The solution converged.\n",
      "[2023-06-04 14:08:50 - atmodeller.core      - 852 - INFO      - _solve_fsolve()] Number of function calls = 36\n",
      "[2023-06-04 14:08:50 - atmodeller.core      - 853 - INFO      - _solve_fsolve()] Final objective function evaluation = [ 0.00000000e+00 -4.44089210e-16  0.00000000e+00 -9.32955028e-15\n",
      " -6.97830842e-11 -3.34788560e-12]\n",
      "[2023-06-04 14:08:50 - atmodeller.core      - 789 - INFO      - solve()] {'CO': 81.91890192428191,\n",
      " 'CO2': 522.8458026601214,\n",
      " 'H2': 0.8351893960539017,\n",
      " 'H2O': 23.926848779582702,\n",
      " 'N2': 3.0832966409731357,\n",
      " 'O2': 6.8949164417799e-05}\n",
      "[2023-06-04 14:08:50 - atmodeller.core      - 756 - INFO      - solve()] Constraints: [SystemConstraint(species='H', value=4.357328522221353e+20, field='mass'),\n",
      " SystemConstraint(species='C', value=2.599982756847906e+20, field='mass'),\n",
      " SystemConstraint(species='N', value=1.178313142326631e+19, field='mass')]\n",
      "[2023-06-04 14:08:50 - atmodeller.core      - 782 - INFO      - solve()] Mixed pressure and mass constraints so attempting to solve a non-linear system of equations\n",
      "[2023-06-04 14:08:50 - atmodeller.core      - 557 - INFO      - get_coefficient_matrix_and_rhs()] Adding fO2 as an additional constraint using IronWustiteBufferOneill with fO2_shift = 2.12\n",
      "[2023-06-04 14:08:50 - atmodeller.core      - 582 - INFO      - get_coefficient_matrix_and_rhs()] 3 additional (not pressure) constraint(s) are necessary to solve the system\n",
      "[2023-06-04 14:08:50 - atmodeller.core      - 591 - INFO      - get_coefficient_matrix_and_rhs()] Row 00: Reaction 0: 1.0 CO + 0.5 O2 = 1.0 CO2\n",
      "[2023-06-04 14:08:50 - atmodeller.core      - 591 - INFO      - get_coefficient_matrix_and_rhs()] Row 01: Reaction 1: 1.0 H2 + 0.5 O2 = 1.0 H2O\n",
      "[2023-06-04 14:08:50 - atmodeller.core      - 605 - INFO      - get_coefficient_matrix_and_rhs()] Row 02: Setting O2 partial pressure\n",
      "[2023-06-04 14:08:50 - atmodeller.core      - 814 - INFO      - _solve_fsolve()] Adding constraint from mass balance: H\n",
      "[2023-06-04 14:08:50 - atmodeller.core      - 814 - INFO      - _solve_fsolve()] Adding constraint from mass balance: C\n",
      "[2023-06-04 14:08:50 - atmodeller.core      - 814 - INFO      - _solve_fsolve()] Adding constraint from mass balance: N\n",
      "[2023-06-04 14:08:50 - atmodeller.core      - 835 - INFO      - _solve_fsolve()] The solution converged.\n",
      "[2023-06-04 14:08:50 - atmodeller.core      - 852 - INFO      - _solve_fsolve()] Number of function calls = 38\n",
      "[2023-06-04 14:08:50 - atmodeller.core      - 853 - INFO      - _solve_fsolve()] Final objective function evaluation = [ 0.00000000e+00  0.00000000e+00  0.00000000e+00 -7.52020414e-16\n",
      " -6.43895470e-13 -9.19443195e-14]\n",
      "[2023-06-04 14:08:50 - atmodeller.core      - 789 - INFO      - solve()] {'CO': 47.39408715730857,\n",
      " 'CO2': 82.82453784828911,\n",
      " 'H2': 0.3811609464135545,\n",
      " 'H2O': 2.989883623345757,\n",
      " 'N2': 2.843142889824771,\n",
      " 'O2': 5.169156926031599e-06}\n"
     ]
    },
    {
     "name": "stdout",
     "output_type": "stream",
     "text": [
      "Writing output to: %s equilibrium_atmosphere_monte_carlo.csv\n",
      "Writing output to: %s equilibrium_atmosphere_monte_carlo.csv\n"
     ]
    }
   ],
   "source": [
    "number_of_realisations: int = 2\n",
    "\n",
    "# Parameters are normally distributed between bounds.\n",
    "number_ocean_moles: np.ndarray = np.random.uniform(1, 10, number_of_realisations)\n",
    "ch_ratios: np.ndarray = np.random.uniform(0.1, 1, number_of_realisations)\n",
    "fo2_shifts: np.ndarray = np.random.uniform(-4, 4, number_of_realisations)\n",
    "\n",
    "# Store the output in a list.\n",
    "out: list[dict[str, float]] = []\n",
    "\n",
    "# ppmw of Nitrogen in the mantle. 2.8 is the mantle value of N.\n",
    "N_ppmw: float = 2.8\n",
    "\n",
    "# The nitrogen mass is constant.\n",
    "mass_N: float = N_ppmw * 1.0e-6 * planet.mantle_mass\n",
    "\n",
    "for realisation in range(number_of_realisations):\n",
    "\n",
    "    mass_H: float = number_ocean_moles[realisation] * OCEAN_MOLES * MolarMasses().H2\n",
    "    mass_C: float = ch_ratios[realisation] * mass_H\n",
    "    constraints: list[SystemConstraint] = [\n",
    "        SystemConstraint(species=\"H\", value=mass_H, field=\"mass\"),\n",
    "        SystemConstraint(species=\"C\", value=mass_C, field=\"mass\"),\n",
    "        SystemConstraint(species=\"N\", value=mass_N, field=\"mass\")\n",
    "    ]\n",
    "    # Recall that changing attributes on the planet 'object' will be 'seen' by interior_atmosphere.\n",
    "    planet.fo2_shift = fo2_shifts[realisation]\n",
    "    out_realisation = interior_atmosphere.solve(constraints, fo2_constraint=True)\n",
    "\n",
    "    # Include the parameters in the output.\n",
    "    out_realisation['number_ocean_moles'] = number_ocean_moles[realisation]\n",
    "    out_realisation['ch_ratio'] = ch_ratios[realisation]\n",
    "    out_realisation['fo2_shift'] = planet.fo2_shift\n",
    "\n",
    "    out.append(out_realisation)\n",
    "\n",
    "    filename: str = \"atmodeller_monte_carlo_tutorial3.csv\"\n",
    "    print(\"Writing output to: %s\", filename)\n",
    "    fieldnames: list[str] = list(out[0].keys())\n",
    "    with open(filename, \"w\", newline=\"\", encoding=\"utf-8\") as csvfile:\n",
    "        writer: csv.DictWriter = csv.DictWriter(csvfile, fieldnames=fieldnames)\n",
    "        writer.writeheader()\n",
    "        writer.writerows(out)"
   ]
  },
  {
   "attachments": {},
   "cell_type": "markdown",
   "metadata": {},
   "source": [
    "The simulation data is output as:"
   ]
  },
  {
   "cell_type": "code",
   "execution_count": 6,
   "metadata": {},
   "outputs": [
    {
     "data": {
      "text/plain": [
       "[{'CO': 81.91890192428191,\n",
       "  'H2': 0.8351893960539017,\n",
       "  'N2': 3.0832966409731357,\n",
       "  'O2': 6.8949164417799e-05,\n",
       "  'CO2': 522.8458026601214,\n",
       "  'H2O': 23.926848779582702,\n",
       "  'number_ocean_moles': 7.976592868485964,\n",
       "  'ch_ratio': 0.9540495339079381,\n",
       "  'fo2_shift': 3.2463528495404335},\n",
       " {'CO': 47.39408715730857,\n",
       "  'H2': 0.3811609464135545,\n",
       "  'N2': 2.843142889824771,\n",
       "  'O2': 5.169156926031599e-06,\n",
       "  'CO2': 82.82453784828911,\n",
       "  'H2O': 2.989883623345757,\n",
       "  'number_ocean_moles': 2.811291257573422,\n",
       "  'ch_ratio': 0.5966919279986818,\n",
       "  'fo2_shift': 2.121243558875393}]"
      ]
     },
     "execution_count": 6,
     "metadata": {},
     "output_type": "execute_result"
    }
   ],
   "source": [
    "out"
   ]
  }
 ],
 "metadata": {
  "kernelspec": {
   "display_name": ".venv",
   "language": "python",
   "name": "python3"
  },
  "language_info": {
   "codemirror_mode": {
    "name": "ipython",
    "version": 3
   },
   "file_extension": ".py",
   "mimetype": "text/x-python",
   "name": "python",
   "nbconvert_exporter": "python",
   "pygments_lexer": "ipython3",
   "version": "3.11.3"
  },
  "orig_nbformat": 4
 },
 "nbformat": 4,
 "nbformat_minor": 2
}
