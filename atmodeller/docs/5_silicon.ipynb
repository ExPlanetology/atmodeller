{
 "cells": [
  {
   "attachments": {},
   "cell_type": "markdown",
   "metadata": {},
   "source": [
    "# atmodeller\n",
    "\n",
    "## Tutorial 5: Interior (include Si in the atmosphere)\n",
    "\n",
    "Import the required functionality and activate the debug logger."
   ]
  },
  {
   "cell_type": "code",
   "execution_count": null,
   "metadata": {},
   "outputs": [],
   "source": [
    "from atmodeller import debug_logger, debug_file_logger\n",
    "from atmodeller.constraints import  MassConstraint, SystemConstraints, IronWustiteBufferConstraintHirschmann, FugacityConstraint, TotalPressureConstraint\n",
    "from atmodeller.interior_atmosphere import InteriorAtmosphereSystem, Planet, Species\n",
    "from atmodeller.interfaces import GasSpecies, LiquidSpecies\n",
    "from atmodeller.solubilities import PeridotiteH2O, BasaltDixonCO2\n",
    "from atmodeller.utilities import earth_oceans_to_kg\n",
    "import numpy as np\n",
    "import pandas as pd\n",
    "import matplotlib.pyplot as plt\n",
    "\n",
    "# debug_file_logger()\n",
    "#debug_logger()"
   ]
  },
  {
   "attachments": {},
   "cell_type": "markdown",
   "metadata": {},
   "source": [
    "### 1a. H2O-H2-O2-SiO-SiH4-SiO2l system"
   ]
  },
  {
   "attachments": {},
   "cell_type": "markdown",
   "metadata": {},
   "source": [
    "We define a list of the species we wish to include in the interior-atmosphere system"
   ]
  },
  {
   "cell_type": "code",
   "execution_count": null,
   "metadata": {},
   "outputs": [],
   "source": [
    "species: Species = Species()\n",
    "species.append(GasSpecies(chemical_formula='H2O'))#, solubility=PeridotiteH2O()))\n",
    "species.append(GasSpecies(chemical_formula='H2'))\n",
    "species.append(GasSpecies(chemical_formula='O2'))\n",
    "species.append(GasSpecies(chemical_formula='OSi'))\n",
    "species.append(GasSpecies(chemical_formula='H4Si'))\n",
    "species.append(LiquidSpecies(chemical_formula=\"O2Si\",\n",
    "                             name_in_thermodynamic_data=\"O2Si(l)\",\n",
    "                             #thermodynamic_class=thermodynamic_data,\n",
    "                            ))\n"
   ]
  },
  {
   "attachments": {},
   "cell_type": "markdown",
   "metadata": {},
   "source": [
    "Create an interior-atmosphere system using H-O-Si for a sub-Neptune (Planet mass = 11 M_Earth, Interior radius = 1.7 R_Earth)"
   ]
  },
  {
   "cell_type": "code",
   "execution_count": null,
   "metadata": {},
   "outputs": [],
   "source": [
    "planet = Planet(surface_temperature=3000, mantle_mass=11*4.208261222595111e24, surface_radius=1.7*6371000)\n",
    "interior_atmosphere: InteriorAtmosphereSystem = InteriorAtmosphereSystem(species=species, planet=planet)"
   ]
  },
  {
   "attachments": {},
   "cell_type": "markdown",
   "metadata": {},
   "source": [
    "To solve the system, we provide a constraint of the H2O and O2 fugacity in bar and assume the actvity of SiO2(l)=1."
   ]
  },
  {
   "cell_type": "code",
   "execution_count": null,
   "metadata": {},
   "outputs": [],
   "source": [
    "fH2 = 10000 # bar\n",
    "ratio_H2_H2O = 1000\n",
    "\n",
    "constraints: SystemConstraints = SystemConstraints(\n",
    "    [\n",
    "        FugacityConstraint(species='H2', value=fH2), # This constraint sets surface pressure of approx 10 kbar (1 GPa)\n",
    "        FugacityConstraint(species='H2O', value=fH2/ratio_H2_H2O), # This constraint sets surface pressure of approx 10 kbar (1 GPa)\n",
    "        FugacityConstraint(species='O2Si', value=1),  # This constraints simulates activity of 1\n",
    "        # IronWustiteBufferConstraintHirschmann(log10_shift=-4), # This constraint sets a low fO2 simulating a sub-Neptune surface\n",
    "    ])\n"
   ]
  },
  {
   "cell_type": "code",
   "execution_count": null,
   "metadata": {},
   "outputs": [],
   "source": [
    "interior_atmosphere.solve(constraints)"
   ]
  },
  {
   "attachments": {},
   "cell_type": "markdown",
   "metadata": {},
   "source": [
    "You can access the solution directly using:"
   ]
  },
  {
   "cell_type": "code",
   "execution_count": null,
   "metadata": {},
   "outputs": [],
   "source": [
    "interior_atmosphere.solution_dict"
   ]
  },
  {
   "attachments": {},
   "cell_type": "markdown",
   "metadata": {},
   "source": [
    "You can access more information about the solution using:"
   ]
  },
  {
   "cell_type": "code",
   "execution_count": null,
   "metadata": {},
   "outputs": [],
   "source": [
    "interior_atmosphere.output"
   ]
  },
  {
   "cell_type": "markdown",
   "metadata": {},
   "source": [
    "### 1b. H2/H2O ratio variation: H2O-H2-O2-SiO-SiH4-SiO2l system "
   ]
  },
  {
   "cell_type": "code",
   "execution_count": null,
   "metadata": {},
   "outputs": [],
   "source": [
    "species: Species = Species()\n",
    "species.append(GasSpecies(chemical_formula='H2O'))#, solubility=PeridotiteH2O()))\n",
    "species.append(GasSpecies(chemical_formula='H2'))\n",
    "species.append(GasSpecies(chemical_formula='O2'))\n",
    "species.append(GasSpecies(chemical_formula='OSi'))\n",
    "species.append(GasSpecies(chemical_formula='H4Si'))\n",
    "species.append(LiquidSpecies(chemical_formula=\"O2Si\",\n",
    "                             name_in_thermodynamic_data=\"O2Si(l)\",\n",
    "                             #thermodynamic_class=thermodynamic_data,\n",
    "                            ))\n"
   ]
  },
  {
   "cell_type": "code",
   "execution_count": null,
   "metadata": {},
   "outputs": [],
   "source": [
    "planet = Planet(surface_temperature=3400, mantle_mass=11*4.208261222595111e24, surface_radius=1.7*6371000)\n",
    "interior_atmosphere: InteriorAtmosphereSystem = InteriorAtmosphereSystem(species=species, planet=planet)"
   ]
  },
  {
   "cell_type": "code",
   "execution_count": null,
   "metadata": {},
   "outputs": [],
   "source": [
    "fH2 = 100000 # bar\n",
    "ratio_H2_H2Os = np.logspace(-2, 4, num=100) \n",
    "aSiO2l = 1\n",
    "\n",
    "h_kg: float = earth_oceans_to_kg(1)\n",
    "\n",
    "out = []\n",
    "\n",
    "for ratio_H2_H2O in ratio_H2_H2Os:\n",
    "\n",
    "    constraints: SystemConstraints = SystemConstraints(\n",
    "        [\n",
    "            #MassConstraint(species=\"H\", value=h_kg),\n",
    "            FugacityConstraint(species='H2', value=fH2), # This constraint sets surface pressure of approx 10 kbar (1 GPa)\n",
    "            FugacityConstraint(species='H2O', value=fH2/ratio_H2_H2O), # This constraint sets surface pressure of approx 10 kbar (1 GPa)\n",
    "            FugacityConstraint(species='O2Si', value=aSiO2l),  # This constraints simulates activity of 1\n",
    "            #IronWustiteBufferConstraintHirschmann(log10_shift=-2* np.log10(ratio_H2_H2O)), # This constraint sets a low fO2 simulating a sub-Neptune surface\n",
    "            #TotalPressureConstraint(species='None', value=fH2),\n",
    "        ])\n",
    "\n",
    "    # Recall that changing attributes on the planet 'object' will be 'seen' by interior_atmosphere.\n",
    "    interior_atmosphere.solve(constraints, factor=1)\n",
    "    outi = interior_atmosphere.solution_dict\n",
    "\n",
    "    # Include the parameters in the output.\n",
    "    #outi['fH2'] = fH2\n",
    "    outi['ratio_H2_H2O'] = ratio_H2_H2O\n",
    "    outi['aSiO2l'] = aSiO2l\n",
    "\n",
    "    out.append(outi)\n",
    "\n",
    "filename = \"atmodeller_SiOH_tutorial5.csv\"\n",
    "df = pd.DataFrame(out)\n",
    "df.to_csv(filename, encoding='utf-8', index=False)"
   ]
  },
  {
   "cell_type": "code",
   "execution_count": null,
   "metadata": {},
   "outputs": [],
   "source": [
    "df = pd.read_csv(filename) \n",
    "ratio = df['ratio_H2_H2O']\n",
    "H2 = df['H2']\n",
    "H2O = df['H2O']\n",
    "SiH4 = df['H4Si']\n",
    "SiO = df['OSi']\n",
    "O2 = df['O2']\n",
    "tot = H2 + H2O + SiH4 + SiO + O2\n",
    "\n",
    "fig, ax1 = plt.subplots(1, figsize=(5,3))\n",
    "\n",
    "ax1.axvspan(1e-2, 1e0, alpha=0.2, color='blue')\n",
    "ax1.axvspan(1e0, 1e2, alpha=0.2, color='green')\n",
    "ax1.axvspan(1e2, 1e4, alpha=0.2, color='red')\n",
    "\n",
    "ax1.text(2e-2, 1e-3, 'Steam Worlds', fontsize=10)\n",
    "ax1.text(1, 1e-5, 'Hydrogen Worlds', fontsize=10)\n",
    "ax1.text(1.5e2, 1e-7, 'Silane Worlds', fontsize=10)\n",
    "\n",
    "ax1.plot(ratio, H2/tot, color='orange', lw=2, label=r'H$_2$')\n",
    "ax1.plot(ratio, H2O/tot, color='blue', lw=2, label=r'H$_2$O')\n",
    "ax1.plot(ratio, SiH4/tot, color='red', lw=2, label=r'SiH$_4$')\n",
    "ax1.plot(ratio, SiO/tot, color='brown', lw=2, label=r'SiO')\n",
    "\n",
    "ax1.set_title('Atmospheric Composition at the Surface')\n",
    "\n",
    "ax1.set_xscale('log')\n",
    "ax1.set_yscale('log')\n",
    "ax1.set_xlabel(r'$P_{\\rm H_2}/P_{\\rm H_2O}$', fontsize=16)\n",
    "ax1.set_ylabel(r'Mixing Ratios', fontsize=16)\n",
    "\n",
    "ax1.legend(ncol=2)\n",
    "plt.savefig('atmodeller_SiOH_fH2fH2O.pdf', bbox_inches='tight')\n",
    "plt.show()"
   ]
  },
  {
   "cell_type": "markdown",
   "metadata": {},
   "source": [
    "### 1c. H2/H2O ratio variation: H2O-H2-O2-SiO-SiH4-SiO2l system "
   ]
  },
  {
   "cell_type": "code",
   "execution_count": null,
   "metadata": {},
   "outputs": [],
   "source": [
    "species: Species = Species()\n",
    "species.append(GasSpecies(chemical_formula='H2O'))#, solubility=PeridotiteH2O()))\n",
    "species.append(GasSpecies(chemical_formula='H2'))\n",
    "species.append(GasSpecies(chemical_formula='O2'))\n",
    "species.append(GasSpecies(chemical_formula='O2Si'))\n",
    "species.append(GasSpecies(chemical_formula='OSi'))\n",
    "species.append(GasSpecies(chemical_formula='H4Si'))\n",
    "species.append(GasSpecies(chemical_formula='HSi'))\n",
    "species.append(LiquidSpecies(chemical_formula=\"O2Si\",\n",
    "                             name_in_thermodynamic_data=\"O2Si(l)\",\n",
    "                             #thermodynamic_class=thermodynamic_data,\n",
    "                            ))\n"
   ]
  },
  {
   "cell_type": "code",
   "execution_count": null,
   "metadata": {},
   "outputs": [],
   "source": [
    "planet = Planet(surface_temperature=3400, mantle_mass=11*4.208261222595111e24, surface_radius=1.7*6371000)\n",
    "interior_atmosphere: InteriorAtmosphereSystem = InteriorAtmosphereSystem(species=species, planet=planet)"
   ]
  },
  {
   "cell_type": "code",
   "execution_count": null,
   "metadata": {},
   "outputs": [],
   "source": [
    "fH2 = 100000 # bar\n",
    "ratio_H2_H2Os = np.logspace(-2, 4, num=100) \n",
    "aSiO2l = 1\n",
    "\n",
    "out = []\n",
    "\n",
    "for ratio_H2_H2O in ratio_H2_H2Os:\n",
    "\n",
    "    constraints: SystemConstraints = SystemConstraints(\n",
    "        [\n",
    "            FugacityConstraint(species='H2', value=fH2), # This constraint sets surface pressure of approx 10 kbar (1 GPa)\n",
    "            FugacityConstraint(species='H2O', value=fH2/ratio_H2_H2O), # This constraint sets surface pressure of approx 10 kbar (1 GPa)\n",
    "            FugacityConstraint(species='O2Si', value=aSiO2l),  # This constraints simulates activity of 1\n",
    "            # IronWustiteBufferConstraintHirschmann(log10_shift=-4), # This constraint sets a low fO2 simulating a sub-Neptune surface\n",
    "        ])\n",
    "\n",
    "    # Recall that changing attributes on the planet 'object' will be 'seen' by interior_atmosphere.\n",
    "    interior_atmosphere.solve(constraints, factor=0.1)\n",
    "    outi = interior_atmosphere.solution_dict\n",
    "\n",
    "    # Include the parameters in the output.\n",
    "    outi['fH2'] = fH2\n",
    "    outi['ratio_H2_H2O'] = ratio_H2_H2O\n",
    "    outi['aSiO2l'] = aSiO2l\n",
    "\n",
    "    out.append(outi)\n",
    "\n",
    "filename = \"atmodeller_SiOH_tutorial5.csv\"\n",
    "df = pd.DataFrame(out)\n",
    "df.to_csv(filename, encoding='utf-8', index=False)"
   ]
  },
  {
   "cell_type": "code",
   "execution_count": null,
   "metadata": {},
   "outputs": [],
   "source": [
    "df = pd.read_csv(filename) \n",
    "ratio = df['ratio_H2_H2O']\n",
    "H2 = df['H2']\n",
    "H2O = df['H2O']\n",
    "SiH4 = df['H4Si']\n",
    "SiO = df['OSi']\n",
    "SiO2 = df['O2Si']\n",
    "SiH = df['HSi']\n",
    "O2 = df['O2']\n",
    "tot = H2 + H2O + SiH4 + SiO + O2\n",
    "\n",
    "fig, ax1 = plt.subplots(1, figsize=(5,3))\n",
    "\n",
    "ax1.axvspan(1e-2, 1e0, alpha=0.2, color='blue')\n",
    "ax1.axvspan(1e0, 1e2, alpha=0.2, color='green')\n",
    "ax1.axvspan(1e2, 1e4, alpha=0.2, color='red')\n",
    "\n",
    "ax1.text(2e-2, 1e-3, 'Steam Worlds', fontsize=10)\n",
    "ax1.text(1, 1e-5, 'Hydrogen Worlds', fontsize=10)\n",
    "ax1.text(1.5e2, 1e-7, 'Silane Worlds', fontsize=10)\n",
    "\n",
    "ax1.plot(ratio, H2/tot, color='orange', lw=2, label=r'H$_2$')\n",
    "ax1.plot(ratio, H2O/tot, color='blue', lw=2, label=r'H$_2$O')\n",
    "ax1.plot(ratio, SiH4/tot, color='red', lw=2, label=r'SiH$_4$')\n",
    "ax1.plot(ratio, SiO2/tot, color='gray', lw=2, label=r'SiO2')\n",
    "ax1.plot(ratio, SiO/tot, color='brown', lw=2, label=r'SiO')\n",
    "ax1.plot(ratio, SiH/tot, color='green', lw=2, label=r'SiH')\n",
    "\n",
    "ax1.set_title('Atmospheric Composition at the Surface')\n",
    "\n",
    "ax1.set_xscale('log')\n",
    "ax1.set_yscale('log')\n",
    "ax1.set_xlabel(r'$P_{\\rm H_2}/P_{\\rm H_2O}$', fontsize=16)\n",
    "ax1.set_ylabel(r'Mixing Ratios', fontsize=16)\n",
    "\n",
    "ax1.legend(ncol=2)\n",
    "plt.savefig('atmodeller_SiOHfull_fH2fH2O.pdf', bbox_inches='tight')\n",
    "plt.show()"
   ]
  },
  {
   "attachments": {},
   "cell_type": "markdown",
   "metadata": {},
   "source": [
    "### 2. H2O-H2-O2-SiO-SiH4-SiO2l-CH4-CO-CO2 system\n",
    "\n",
    "We now extend the species list to additionally include C-species:"
   ]
  },
  {
   "cell_type": "code",
   "execution_count": null,
   "metadata": {},
   "outputs": [],
   "source": [
    "species: Species = Species()\n",
    "species.append(GasSpecies(chemical_formula='H2O'))\n",
    "species.append(GasSpecies(chemical_formula='H2'))\n",
    "species.append(GasSpecies(chemical_formula='O2'))\n",
    "species.append(GasSpecies(chemical_formula='CH4'))\n",
    "species.append(GasSpecies(chemical_formula='CO'))\n",
    "species.append(GasSpecies(chemical_formula='CO2'))\n",
    "species.append(GasSpecies(chemical_formula='OSi'))\n",
    "species.append(GasSpecies(chemical_formula='H4Si'))\n",
    "species.append(LiquidSpecies(chemical_formula=\"O2Si\",\n",
    "                             name_in_thermodynamic_data=\"O2Si(l)\",\n",
    "                             #thermodynamic_class=thermodynamic_data,\n",
    "                            ))\n",
    "\n",
    "species"
   ]
  },
  {
   "cell_type": "code",
   "execution_count": null,
   "metadata": {},
   "outputs": [],
   "source": [
    "planet = Planet(surface_temperature=3000, mantle_mass=11*4.208261222595111e24, surface_radius=1.7*6371000)\n",
    "interior_atmosphere: InteriorAtmosphereSystem = InteriorAtmosphereSystem(species=species, planet=planet)"
   ]
  },
  {
   "attachments": {},
   "cell_type": "markdown",
   "metadata": {},
   "source": [
    "An additional constraint is required to solve the system"
   ]
  },
  {
   "cell_type": "code",
   "execution_count": null,
   "metadata": {},
   "outputs": [],
   "source": [
    "constraints: SystemConstraints = SystemConstraints(\n",
    "    [\n",
    "        FugacityConstraint(species='H2', value=10000), # This constraint sets surface pressure of 10 kbar (1 GPa)\n",
    "        FugacityConstraint(species='O2Si', value=1),  # This constraints simulates activity of 1\n",
    "        FugacityConstraint(species='CO', value=1),  # This is an arbitrary constraint\n",
    "        IronWustiteBufferConstraintHirschmann(log10_shift=-4),  # This constraint sets a low fO2 simulating a sub-Neptune surface\n",
    "    ])\n"
   ]
  },
  {
   "cell_type": "code",
   "execution_count": null,
   "metadata": {},
   "outputs": [],
   "source": [
    "interior_atmosphere.solve(constraints)\n",
    "interior_atmosphere.solution_dict"
   ]
  },
  {
   "attachments": {},
   "cell_type": "markdown",
   "metadata": {},
   "source": [
    "### 3. System with mixed constraints"
   ]
  },
  {
   "attachments": {},
   "cell_type": "markdown",
   "metadata": {},
   "source": [
    "A typical use case is to define an interior-atmosphere system with a combination of fugacity and mass constraints. We define the same species as before:"
   ]
  },
  {
   "cell_type": "code",
   "execution_count": null,
   "metadata": {},
   "outputs": [],
   "source": [
    "species: Species = Species()\n",
    "species.append(GasSpecies(chemical_formula='H2O'))\n",
    "species.append(GasSpecies(chemical_formula='H2'))\n",
    "species.append(GasSpecies(chemical_formula='O2'))\n",
    "species.append(GasSpecies(chemical_formula='CH4'))\n",
    "species.append(GasSpecies(chemical_formula='CO'))\n",
    "species.append(GasSpecies(chemical_formula='CO2'))\n",
    "species.append(GasSpecies(chemical_formula='OSi'))\n",
    "species.append(GasSpecies(chemical_formula='H4Si'))\n",
    "species.append(LiquidSpecies(chemical_formula=\"O2Si\",\n",
    "                             name_in_thermodynamic_data=\"O2Si(l)\",\n",
    "                             #thermodynamic_class=thermodynamic_data,\n",
    "                            ))\n",
    "\n",
    "species"
   ]
  },
  {
   "attachments": {},
   "cell_type": "markdown",
   "metadata": {},
   "source": [
    "Now we define the constraints, and in this case we want to constrain the total mass of C and H in the system that can partition between the various reservoirs."
   ]
  },
  {
   "cell_type": "code",
   "execution_count": null,
   "metadata": {},
   "outputs": [],
   "source": [
    "number_of_earth_oceans: float = 11 # 11x to account for mass increase by 11x\n",
    "# C/H ratio by mass.\n",
    "ch_ratio: float = 1\n",
    "\n",
    "mass_H: float = earth_oceans_to_kg(number_of_earth_oceans) # note: this constraint is not used below\n",
    "mass_C: float = ch_ratio * mass_H\n",
    "\n",
    "constraints: SystemConstraints = SystemConstraints([\n",
    "    FugacityConstraint(species='H2', value=10000), # This constraint sets surface pressure of 10 kbar (1 GPa)\n",
    "    # MassConstraint(species=\"H\", value=mass_H), # Mass constraint of H\n",
    "    MassConstraint(species=\"C\", value=mass_C), # Mass constraint of C\n",
    "    FugacityConstraint(species='O2Si', value=1), # Simulates an activity of unity\n",
    "    IronWustiteBufferConstraintHirschmann(log10_shift=-4) # Sets a low fO2 for a sub-Neptune surface\n",
    "])"
   ]
  },
  {
   "cell_type": "code",
   "execution_count": null,
   "metadata": {},
   "outputs": [],
   "source": [
    "planet = Planet(surface_temperature=3000, mantle_mass=11*4.208261222595111e24, surface_radius=1.7*6371000)\n",
    "interior_atmosphere: InteriorAtmosphereSystem = InteriorAtmosphereSystem(species=species, planet=planet)"
   ]
  },
  {
   "cell_type": "markdown",
   "metadata": {},
   "source": [
    "Solution"
   ]
  },
  {
   "cell_type": "code",
   "execution_count": null,
   "metadata": {},
   "outputs": [],
   "source": [
    "interior_atmosphere.solve(constraints)\n",
    "interior_atmosphere.solution_dict"
   ]
  },
  {
   "cell_type": "markdown",
   "metadata": {},
   "source": [
    "### 4. System with mixed constraints and H2O-CO2 solubilities"
   ]
  },
  {
   "cell_type": "markdown",
   "metadata": {},
   "source": [
    "Include H2O and CO2 solubilities"
   ]
  },
  {
   "cell_type": "code",
   "execution_count": null,
   "metadata": {},
   "outputs": [],
   "source": [
    "species: Species = Species()\n",
    "species.append(GasSpecies(chemical_formula='H2O', solubility=PeridotiteH2O()))\n",
    "species.append(GasSpecies(chemical_formula='H2'))\n",
    "species.append(GasSpecies(chemical_formula='O2'))\n",
    "species.append(GasSpecies(chemical_formula='CH4'))\n",
    "species.append(GasSpecies(chemical_formula='CO'))\n",
    "species.append(GasSpecies(chemical_formula='CO2', solubility=BasaltDixonCO2()))\n",
    "species.append(GasSpecies(chemical_formula='OSi'))\n",
    "species.append(GasSpecies(chemical_formula='H4Si'))\n",
    "species.append(LiquidSpecies(chemical_formula=\"O2Si\",\n",
    "                             name_in_thermodynamic_data=\"O2Si(l)\",\n",
    "                             #thermodynamic_class=thermodynamic_data,\n",
    "                            ))\n",
    "\n",
    "species"
   ]
  },
  {
   "cell_type": "code",
   "execution_count": null,
   "metadata": {},
   "outputs": [],
   "source": [
    "number_of_earth_oceans: float = 11 # 11x to account for mass increase by 11x\n",
    "# C/H ratio by mass.\n",
    "ch_ratio: float = 1\n",
    "\n",
    "mass_H: float = earth_oceans_to_kg(number_of_earth_oceans) # note: this constraint is not used below\n",
    "mass_C: float = ch_ratio * mass_H\n",
    "\n",
    "constraints: SystemConstraints = SystemConstraints([\n",
    "    FugacityConstraint(species='H2', value=10000), # This constraint sets surface pressure of 10 kbar (1 GPa)\n",
    "    # MassConstraint(species=\"H\", value=mass_H), # Mass constraint of H\n",
    "    MassConstraint(species=\"C\", value=mass_C), # Mass constraint of C\n",
    "    FugacityConstraint(species='O2Si', value=1), # Simulates an activity of unity\n",
    "    IronWustiteBufferConstraintHirschmann(log10_shift=-4) # Sets a low fO2 for a sub-Neptune surface\n",
    "])"
   ]
  },
  {
   "cell_type": "code",
   "execution_count": null,
   "metadata": {},
   "outputs": [],
   "source": [
    "planet = Planet(surface_temperature=3000, mantle_mass=11*4.208261222595111e24, surface_radius=1.7*6371000)\n",
    "interior_atmosphere: InteriorAtmosphereSystem = InteriorAtmosphereSystem(species=species, planet=planet)"
   ]
  },
  {
   "cell_type": "code",
   "execution_count": null,
   "metadata": {},
   "outputs": [],
   "source": [
    "interior_atmosphere.solve(constraints)\n",
    "interior_atmosphere.solution_dict"
   ]
  }
 ],
 "metadata": {
  "kernelspec": {
   "display_name": ".venv",
   "language": "python",
   "name": "python3"
  },
  "language_info": {
   "codemirror_mode": {
    "name": "ipython",
    "version": 3
   },
   "file_extension": ".py",
   "mimetype": "text/x-python",
   "name": "python",
   "nbconvert_exporter": "python",
   "pygments_lexer": "ipython3",
   "version": "3.10.9"
  },
  "orig_nbformat": 4
 },
 "nbformat": 4,
 "nbformat_minor": 2
}
