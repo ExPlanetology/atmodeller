{
 "cells": [
  {
   "attachments": {},
   "cell_type": "markdown",
   "metadata": {},
   "source": [
    "# atmodeller\n",
    "\n",
    "## Tutorial 2: planet properties\n",
    "\n",
    "Import the required packages and set the package logger to the INFO level. For more output you could instead set it to DEBUG."
   ]
  },
  {
   "cell_type": "code",
   "execution_count": 1,
   "metadata": {},
   "outputs": [
    {
     "name": "stderr",
     "output_type": "stream",
     "text": [
      "[2023-06-04 14:07:02 - atmodeller           - 023 - INFO      - <module>()] atmodeller version 0.1.0\n"
     ]
    }
   ],
   "source": [
    "from atmodeller import Planet, logger\n",
    "from atmodeller import InteriorAtmosphereSystem, Molecule, SystemConstraint, OCEAN_MOLES, MolarMasses\n",
    "from atmodeller.thermodynamics import PeridotiteH2O, NoSolubility, BasaltDixonCO2, IronWustiteBufferFischer\n",
    "import logging\n",
    "\n",
    "logger.setLevel(logging.INFO)"
   ]
  },
  {
   "attachments": {},
   "cell_type": "markdown",
   "metadata": {},
   "source": [
    "### 1. Creating a planet"
   ]
  },
  {
   "cell_type": "code",
   "execution_count": 2,
   "metadata": {},
   "outputs": [
    {
     "name": "stderr",
     "output_type": "stream",
     "text": [
      "[2023-06-04 14:07:03 - atmodeller.core      - 072 - INFO      - __post_init__()] Creating a new planet\n",
      "[2023-06-04 14:07:03 - atmodeller.core      - 077 - INFO      - __post_init__()] Mantle mass (kg) = 4.208261222595111e+24\n",
      "[2023-06-04 14:07:03 - atmodeller.core      - 078 - INFO      - __post_init__()] Mantle melt fraction = 1.0\n",
      "[2023-06-04 14:07:03 - atmodeller.core      - 079 - INFO      - __post_init__()] Core mass fraction = 0.295334691460966\n",
      "[2023-06-04 14:07:03 - atmodeller.core      - 080 - INFO      - __post_init__()] Planetary radius (m) = 6371000.0\n",
      "[2023-06-04 14:07:03 - atmodeller.core      - 081 - INFO      - __post_init__()] Planetary mass (kg) = 5.972e+24\n",
      "[2023-06-04 14:07:03 - atmodeller.core      - 082 - INFO      - __post_init__()] Surface temperature (K) = 2000.000000\n",
      "[2023-06-04 14:07:03 - atmodeller.core      - 083 - INFO      - __post_init__()] Surface gravity (m/s^2) = 9.819973426224687\n",
      "[2023-06-04 14:07:03 - atmodeller.core      - 084 - INFO      - __post_init__()] Oxygen fugacity model (mantle) = IronWustiteBufferOneill\n",
      "[2023-06-04 14:07:03 - atmodeller.core      - 087 - INFO      - __post_init__()] Oxygen fugacity log10 shift = 0.000000\n"
     ]
    }
   ],
   "source": [
    "planet: Planet = Planet()"
   ]
  },
  {
   "attachments": {},
   "cell_type": "markdown",
   "metadata": {},
   "source": [
    "We can also query for the properties of the planet:"
   ]
  },
  {
   "cell_type": "code",
   "execution_count": 3,
   "metadata": {},
   "outputs": [
    {
     "data": {
      "text/plain": [
       "Planet(mantle_mass=4.208261222595111e+24, mantle_melt_fraction=1.0, core_mass_fraction=0.295334691460966, surface_radius=6371000.0, surface_temperature=2000.0, fo2_model=<atmodeller.thermodynamics.IronWustiteBufferOneill object at 0x10c5ed090>, fo2_shift=0, planet_mass=5.972e+24, surface_gravity=9.819973426224687)"
      ]
     },
     "execution_count": 3,
     "metadata": {},
     "output_type": "execute_result"
    }
   ],
   "source": [
    "planet"
   ]
  },
  {
   "attachments": {},
   "cell_type": "markdown",
   "metadata": {},
   "source": [
    "We will create a new planet with some different properties to the default:"
   ]
  },
  {
   "cell_type": "code",
   "execution_count": 4,
   "metadata": {},
   "outputs": [
    {
     "name": "stderr",
     "output_type": "stream",
     "text": [
      "[2023-06-04 14:07:03 - atmodeller.core      - 072 - INFO      - __post_init__()] Creating a new planet\n",
      "[2023-06-04 14:07:03 - atmodeller.core      - 077 - INFO      - __post_init__()] Mantle mass (kg) = 4.208261222595111e+24\n",
      "[2023-06-04 14:07:03 - atmodeller.core      - 078 - INFO      - __post_init__()] Mantle melt fraction = 0.7\n",
      "[2023-06-04 14:07:03 - atmodeller.core      - 079 - INFO      - __post_init__()] Core mass fraction = 0.295334691460966\n",
      "[2023-06-04 14:07:03 - atmodeller.core      - 080 - INFO      - __post_init__()] Planetary radius (m) = 6371000.0\n",
      "[2023-06-04 14:07:03 - atmodeller.core      - 081 - INFO      - __post_init__()] Planetary mass (kg) = 5.972e+24\n",
      "[2023-06-04 14:07:03 - atmodeller.core      - 082 - INFO      - __post_init__()] Surface temperature (K) = 2500.000000\n",
      "[2023-06-04 14:07:03 - atmodeller.core      - 083 - INFO      - __post_init__()] Surface gravity (m/s^2) = 9.819973426224687\n",
      "[2023-06-04 14:07:03 - atmodeller.core      - 084 - INFO      - __post_init__()] Oxygen fugacity model (mantle) = IronWustiteBufferOneill\n",
      "[2023-06-04 14:07:03 - atmodeller.core      - 087 - INFO      - __post_init__()] Oxygen fugacity log10 shift = 1.000000\n"
     ]
    },
    {
     "data": {
      "text/plain": [
       "Planet(mantle_mass=4.208261222595111e+24, mantle_melt_fraction=0.7, core_mass_fraction=0.295334691460966, surface_radius=6371000.0, surface_temperature=2500, fo2_model=<atmodeller.thermodynamics.IronWustiteBufferOneill object at 0x1073de150>, fo2_shift=1, planet_mass=5.972e+24, surface_gravity=9.819973426224687)"
      ]
     },
     "execution_count": 4,
     "metadata": {},
     "output_type": "execute_result"
    }
   ],
   "source": [
    "surface_temperature: float = 2500 # K\n",
    "mantle_melt_fraction: float = 0.7\n",
    "fo2_shift: float = 1\n",
    "\n",
    "planet = Planet(surface_temperature=surface_temperature, mantle_melt_fraction=mantle_melt_fraction, fo2_shift=fo2_shift)\n",
    "planet"
   ]
  },
  {
   "attachments": {},
   "cell_type": "markdown",
   "metadata": {},
   "source": [
    "Similar to tutorial 1, we can now construct an interior-atmosphere system for our new planet:"
   ]
  },
  {
   "cell_type": "code",
   "execution_count": 5,
   "metadata": {},
   "outputs": [
    {
     "name": "stderr",
     "output_type": "stream",
     "text": [
      "[2023-06-04 14:07:03 - atmodeller.core      - 144 - INFO      - __post_init__()] Creating a molecule: H2O\n",
      "[2023-06-04 14:07:03 - atmodeller.core      - 144 - INFO      - __post_init__()] Creating a molecule: H2\n",
      "[2023-06-04 14:07:03 - atmodeller.core      - 144 - INFO      - __post_init__()] Creating a molecule: O2\n",
      "[2023-06-04 14:07:03 - atmodeller.core      - 144 - INFO      - __post_init__()] Creating a molecule: CO\n",
      "[2023-06-04 14:07:03 - atmodeller.core      - 144 - INFO      - __post_init__()] Creating a molecule: CO2\n"
     ]
    },
    {
     "data": {
      "text/plain": [
       "[Molecule(name='H2O', solubility=<atmodeller.thermodynamics.PeridotiteH2O object at 0x11cc233d0>, solid_melt_distribution_coefficient=0, elements={'H': 2, 'O': 1}, element_masses={'H': 0.0020158, 'O': 0.0159994}, formation_constants=(-3.0385132352941198, 13152.698529411768), molar_mass=0.018015200000000002),\n",
       " Molecule(name='H2', solubility=<atmodeller.thermodynamics.NoSolubility object at 0x10c588290>, solid_melt_distribution_coefficient=0, elements={'H': 2}, element_masses={'H': 0.0020158}, formation_constants=(0, 0), molar_mass=0.0020158),\n",
       " Molecule(name='O2', solubility=<atmodeller.thermodynamics.NoSolubility object at 0x10f702f50>, solid_melt_distribution_coefficient=0, elements={'O': 2}, element_masses={'O': 0.0319988}, formation_constants=(0, 0), molar_mass=0.0319988),\n",
       " Molecule(name='CO', solubility=<atmodeller.thermodynamics.NoSolubility object at 0x10f5233d0>, solid_melt_distribution_coefficient=0, elements={'C': 1, 'O': 1}, element_masses={'C': 0.0120107, 'O': 0.0159994}, formation_constants=(4.319860294117643, 6286.120588235306), molar_mass=0.0280101),\n",
       " Molecule(name='CO2', solubility=<atmodeller.thermodynamics.BasaltDixonCO2 object at 0x1100fb410>, solid_melt_distribution_coefficient=0, elements={'C': 1, 'O': 2}, element_masses={'C': 0.0120107, 'O': 0.0319988}, formation_constants=(-0.028289705882357442, 20753.870588235302), molar_mass=0.0440095)]"
      ]
     },
     "execution_count": 5,
     "metadata": {},
     "output_type": "execute_result"
    }
   ],
   "source": [
    "molecules: list[Molecule] = []\n",
    "molecules.append(Molecule(name='H2O', solubility=PeridotiteH2O(), solid_melt_distribution_coefficient=0))\n",
    "molecules.append(Molecule(name='H2', solubility=NoSolubility(), solid_melt_distribution_coefficient=0))\n",
    "molecules.append(Molecule(name='O2', solubility=NoSolubility(), solid_melt_distribution_coefficient=0))\n",
    "molecules.append(Molecule(name='CO', solubility=NoSolubility(), solid_melt_distribution_coefficient=0))\n",
    "molecules.append(Molecule(name='CO2', solubility=BasaltDixonCO2(), solid_melt_distribution_coefficient=0))\n",
    "molecules"
   ]
  },
  {
   "attachments": {},
   "cell_type": "markdown",
   "metadata": {},
   "source": [
    "Only now we pass in our planet as an argument when we construct the interior-atmosphere system:"
   ]
  },
  {
   "cell_type": "code",
   "execution_count": 6,
   "metadata": {},
   "outputs": [
    {
     "name": "stderr",
     "output_type": "stream",
     "text": [
      "[2023-06-04 14:07:03 - atmodeller.core      - 669 - INFO      - __post_init__()] Creating a new interior-atmosphere system\n",
      "[2023-06-04 14:07:03 - atmodeller.core      - 673 - INFO      - __post_init__()] Molecules = ['CO', 'H2', 'O2', 'CO2', 'H2O']\n",
      "[2023-06-04 14:07:03 - atmodeller.core      - 360 - INFO      - __init__()] Molecules = ['CO', 'H2', 'O2', 'CO2', 'H2O']\n",
      "[2023-06-04 14:07:03 - atmodeller.core      - 366 - INFO      - __init__()] Reactions = \n",
      "{0: '1.0 CO + 0.5 O2 = 1.0 CO2', 1: '1.0 H2 + 0.5 O2 = 1.0 H2O'}\n"
     ]
    }
   ],
   "source": [
    "interior_atmosphere: InteriorAtmosphereSystem = InteriorAtmosphereSystem(molecules=molecules, planet=planet)"
   ]
  },
  {
   "attachments": {},
   "cell_type": "markdown",
   "metadata": {},
   "source": [
    "Solve the system with constraints:"
   ]
  },
  {
   "cell_type": "code",
   "execution_count": 7,
   "metadata": {},
   "outputs": [
    {
     "name": "stderr",
     "output_type": "stream",
     "text": [
      "[2023-06-04 14:07:03 - atmodeller.core      - 756 - INFO      - solve()] Constraints: [SystemConstraint(species='H', value=1.5499384884020874e+20, field='mass'),\n",
      " SystemConstraint(species='C', value=1.5499384884020874e+20, field='mass')]\n",
      "[2023-06-04 14:07:03 - atmodeller.core      - 782 - INFO      - solve()] Mixed pressure and mass constraints so attempting to solve a non-linear system of equations\n",
      "[2023-06-04 14:07:03 - atmodeller.core      - 557 - INFO      - get_coefficient_matrix_and_rhs()] Adding fO2 as an additional constraint using IronWustiteBufferOneill with fO2_shift = 1.00\n",
      "[2023-06-04 14:07:03 - atmodeller.core      - 582 - INFO      - get_coefficient_matrix_and_rhs()] 2 additional (not pressure) constraint(s) are necessary to solve the system\n",
      "[2023-06-04 14:07:03 - atmodeller.core      - 591 - INFO      - get_coefficient_matrix_and_rhs()] Row 00: Reaction 0: 1.0 CO + 0.5 O2 = 1.0 CO2\n",
      "[2023-06-04 14:07:03 - atmodeller.core      - 591 - INFO      - get_coefficient_matrix_and_rhs()] Row 01: Reaction 1: 1.0 H2 + 0.5 O2 = 1.0 H2O\n",
      "[2023-06-04 14:07:03 - atmodeller.core      - 605 - INFO      - get_coefficient_matrix_and_rhs()] Row 02: Setting O2 partial pressure\n",
      "[2023-06-04 14:07:03 - atmodeller.core      - 814 - INFO      - _solve_fsolve()] Adding constraint from mass balance: H\n",
      "[2023-06-04 14:07:03 - atmodeller.core      - 814 - INFO      - _solve_fsolve()] Adding constraint from mass balance: C\n",
      "[2023-06-04 14:07:03 - atmodeller.core      - 835 - INFO      - _solve_fsolve()] The solution converged.\n",
      "[2023-06-04 14:07:03 - atmodeller.core      - 852 - INFO      - _solve_fsolve()] Number of function calls = 26\n",
      "[2023-06-04 14:07:03 - atmodeller.core      - 853 - INFO      - _solve_fsolve()] Final objective function evaluation = [ 0.00000000e+00  0.00000000e+00  0.00000000e+00 -4.06529599e-12\n",
      " -3.10428023e-10]\n",
      "[2023-06-04 14:07:03 - atmodeller.core      - 789 - INFO      - solve()] {'CO': 58.95702815841046,\n",
      " 'CO2': 15.202964413600677,\n",
      " 'H2': 0.4921778390384353,\n",
      " 'H2O': 0.7711359080158694,\n",
      " 'O2': 8.808163953933268e-05}\n"
     ]
    },
    {
     "data": {
      "text/plain": [
       "{'CO': 58.95702815841046,\n",
       " 'H2': 0.4921778390384353,\n",
       " 'O2': 8.808163953933268e-05,\n",
       " 'CO2': 15.202964413600677,\n",
       " 'H2O': 0.7711359080158694}"
      ]
     },
     "execution_count": 7,
     "metadata": {},
     "output_type": "execute_result"
    }
   ],
   "source": [
    "number_of_earth_oceans: float = 1\n",
    "# C/H ratio by mass.\n",
    "ch_ratio: float = 1\n",
    "\n",
    "mass_H: float = number_of_earth_oceans * OCEAN_MOLES * MolarMasses().H2\n",
    "mass_C: float = ch_ratio * mass_H\n",
    "\n",
    "constraints: list[SystemConstraint] = [\n",
    "    SystemConstraint(species=\"H\", value=mass_H, field=\"mass\"),\n",
    "    SystemConstraint(species=\"C\", value=mass_C, field=\"mass\"),\n",
    "]\n",
    "\n",
    "interior_atmosphere.solve(constraints, fo2_constraint=True)\n",
    "interior_atmosphere.pressures_dict"
   ]
  },
  {
   "attachments": {},
   "cell_type": "markdown",
   "metadata": {},
   "source": [
    "### 2. Selecting an oxygen fugacity model\n",
    "\n",
    "Oxygen fugacity buffers are available in `atmodeller.thermodynamics` and can be selected during the creating of a planet:"
   ]
  },
  {
   "cell_type": "code",
   "execution_count": 8,
   "metadata": {},
   "outputs": [
    {
     "name": "stderr",
     "output_type": "stream",
     "text": [
      "[2023-06-04 14:07:03 - atmodeller.core      - 072 - INFO      - __post_init__()] Creating a new planet\n",
      "[2023-06-04 14:07:03 - atmodeller.core      - 077 - INFO      - __post_init__()] Mantle mass (kg) = 4.208261222595111e+24\n",
      "[2023-06-04 14:07:03 - atmodeller.core      - 078 - INFO      - __post_init__()] Mantle melt fraction = 1.0\n",
      "[2023-06-04 14:07:03 - atmodeller.core      - 079 - INFO      - __post_init__()] Core mass fraction = 0.295334691460966\n",
      "[2023-06-04 14:07:03 - atmodeller.core      - 080 - INFO      - __post_init__()] Planetary radius (m) = 6371000.0\n",
      "[2023-06-04 14:07:03 - atmodeller.core      - 081 - INFO      - __post_init__()] Planetary mass (kg) = 5.972e+24\n",
      "[2023-06-04 14:07:03 - atmodeller.core      - 082 - INFO      - __post_init__()] Surface temperature (K) = 2000.000000\n",
      "[2023-06-04 14:07:03 - atmodeller.core      - 083 - INFO      - __post_init__()] Surface gravity (m/s^2) = 9.819973426224687\n",
      "[2023-06-04 14:07:03 - atmodeller.core      - 084 - INFO      - __post_init__()] Oxygen fugacity model (mantle) = IronWustiteBufferFischer\n",
      "[2023-06-04 14:07:03 - atmodeller.core      - 087 - INFO      - __post_init__()] Oxygen fugacity log10 shift = 0.000000\n"
     ]
    }
   ],
   "source": [
    "planet = Planet(fo2_model=IronWustiteBufferFischer())"
   ]
  },
  {
   "attachments": {},
   "cell_type": "markdown",
   "metadata": {},
   "source": [
    "### 3. Changing planet properties\n",
    "\n",
    "We can also change the properties of a planet after it has been created by setting the appropriate attribute. With no arguments to the constructor, a planet with 'default' properties is created and these can be subequently modified by the user."
   ]
  },
  {
   "cell_type": "code",
   "execution_count": 9,
   "metadata": {},
   "outputs": [
    {
     "name": "stderr",
     "output_type": "stream",
     "text": [
      "[2023-06-04 14:07:04 - atmodeller.core      - 072 - INFO      - __post_init__()] Creating a new planet\n",
      "[2023-06-04 14:07:04 - atmodeller.core      - 077 - INFO      - __post_init__()] Mantle mass (kg) = 4.208261222595111e+24\n",
      "[2023-06-04 14:07:04 - atmodeller.core      - 078 - INFO      - __post_init__()] Mantle melt fraction = 1.0\n",
      "[2023-06-04 14:07:04 - atmodeller.core      - 079 - INFO      - __post_init__()] Core mass fraction = 0.295334691460966\n",
      "[2023-06-04 14:07:04 - atmodeller.core      - 080 - INFO      - __post_init__()] Planetary radius (m) = 6371000.0\n",
      "[2023-06-04 14:07:04 - atmodeller.core      - 081 - INFO      - __post_init__()] Planetary mass (kg) = 5.972e+24\n",
      "[2023-06-04 14:07:04 - atmodeller.core      - 082 - INFO      - __post_init__()] Surface temperature (K) = 2000.000000\n",
      "[2023-06-04 14:07:04 - atmodeller.core      - 083 - INFO      - __post_init__()] Surface gravity (m/s^2) = 9.819973426224687\n",
      "[2023-06-04 14:07:04 - atmodeller.core      - 084 - INFO      - __post_init__()] Oxygen fugacity model (mantle) = IronWustiteBufferOneill\n",
      "[2023-06-04 14:07:04 - atmodeller.core      - 087 - INFO      - __post_init__()] Oxygen fugacity log10 shift = 0.000000\n"
     ]
    },
    {
     "data": {
      "text/plain": [
       "Planet(mantle_mass=4.208261222595111e+24, mantle_melt_fraction=1.0, core_mass_fraction=0.295334691460966, surface_radius=6371000.0, surface_temperature=2000.0, fo2_model=<atmodeller.thermodynamics.IronWustiteBufferOneill object at 0x11cc24f10>, fo2_shift=0, planet_mass=5.972e+24, surface_gravity=9.819973426224687)"
      ]
     },
     "execution_count": 9,
     "metadata": {},
     "output_type": "execute_result"
    }
   ],
   "source": [
    "planet = Planet()\n",
    "planet"
   ]
  },
  {
   "cell_type": "code",
   "execution_count": 10,
   "metadata": {},
   "outputs": [
    {
     "data": {
      "text/plain": [
       "Planet(mantle_mass=4.208261222595111e+24, mantle_melt_fraction=1.0, core_mass_fraction=0.295334691460966, surface_radius=6371000.0, surface_temperature=2800, fo2_model=<atmodeller.thermodynamics.IronWustiteBufferOneill object at 0x11cc24f10>, fo2_shift=-1, planet_mass=5.972e+24, surface_gravity=9.819973426224687)"
      ]
     },
     "execution_count": 10,
     "metadata": {},
     "output_type": "execute_result"
    }
   ],
   "source": [
    "planet.surface_temperature = 2800\n",
    "planet.fo2_shift = -1\n",
    "\n",
    "planet"
   ]
  }
 ],
 "metadata": {
  "kernelspec": {
   "display_name": ".venv",
   "language": "python",
   "name": "python3"
  },
  "language_info": {
   "codemirror_mode": {
    "name": "ipython",
    "version": 3
   },
   "file_extension": ".py",
   "mimetype": "text/x-python",
   "name": "python",
   "nbconvert_exporter": "python",
   "pygments_lexer": "ipython3",
   "version": "3.11.3"
  },
  "orig_nbformat": 4
 },
 "nbformat": 4,
 "nbformat_minor": 2
}
