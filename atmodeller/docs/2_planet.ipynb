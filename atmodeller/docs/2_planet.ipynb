{
 "cells": [
  {
   "attachments": {},
   "cell_type": "markdown",
   "metadata": {},
   "source": [
    "# atmodeller\n",
    "\n",
    "## Tutorial 2: planet properties\n",
    "\n",
    "Import the required packages and set the package logger to the INFO level. For more output you could instead set it to DEBUG."
   ]
  },
  {
   "cell_type": "code",
   "execution_count": 1,
   "metadata": {},
   "outputs": [
    {
     "name": "stderr",
     "output_type": "stream",
     "text": [
      "15:20:14 - atmodeller           - INFO      - atmodeller version 0.1.0\n"
     ]
    }
   ],
   "source": [
    "from atmodeller import Planet, logger\n",
    "from atmodeller import InteriorAtmosphereSystem, Molecule, SystemConstraint, OCEAN_MOLES, MolarMasses\n",
    "from atmodeller.thermodynamics import PeridotiteH2O, NoSolubility, BasaltDixonCO2, IronWustiteBufferFischer\n",
    "import logging\n",
    "\n",
    "logger.setLevel(logging.DEBUG)"
   ]
  },
  {
   "attachments": {},
   "cell_type": "markdown",
   "metadata": {},
   "source": [
    "### 1. Creating a planet"
   ]
  },
  {
   "cell_type": "code",
   "execution_count": 2,
   "metadata": {},
   "outputs": [
    {
     "name": "stderr",
     "output_type": "stream",
     "text": [
      "15:20:16 - atmodeller.core      - INFO      - Creating a new planet\n",
      "15:20:16 - atmodeller.core      - INFO      - Mantle mass (kg) = 4.208261222595111e+24\n",
      "15:20:16 - atmodeller.core      - INFO      - Mantle melt fraction = 1.0\n",
      "15:20:16 - atmodeller.core      - INFO      - Core mass fraction = 0.295334691460966\n",
      "15:20:16 - atmodeller.core      - INFO      - Planetary radius (m) = 6371000.0\n",
      "15:20:16 - atmodeller.core      - INFO      - Planetary mass (kg) = 5.972e+24\n",
      "15:20:16 - atmodeller.core      - INFO      - Surface temperature (K) = 2000.000000\n",
      "15:20:16 - atmodeller.core      - INFO      - Surface gravity (m/s^2) = 9.819973426224687\n",
      "15:20:16 - atmodeller.core      - INFO      - Oxygen fugacity model (mantle) = IronWustiteBufferOneill\n",
      "15:20:16 - atmodeller.core      - INFO      - Oxygen fugacity log10 shift = 0.000000\n"
     ]
    }
   ],
   "source": [
    "planet: Planet = Planet()"
   ]
  },
  {
   "attachments": {},
   "cell_type": "markdown",
   "metadata": {},
   "source": [
    "We can also query for the properties of the planet:"
   ]
  },
  {
   "cell_type": "code",
   "execution_count": 3,
   "metadata": {},
   "outputs": [
    {
     "data": {
      "text/plain": [
       "Planet(mantle_mass=4.208261222595111e+24, mantle_melt_fraction=1.0, core_mass_fraction=0.295334691460966, surface_radius=6371000.0, surface_temperature=2000.0, fo2_model=<atmodeller.thermodynamics.IronWustiteBufferOneill object at 0x11d2d8510>, fo2_shift=0, planet_mass=5.972e+24, surface_gravity=9.819973426224687)"
      ]
     },
     "execution_count": 3,
     "metadata": {},
     "output_type": "execute_result"
    }
   ],
   "source": [
    "planet"
   ]
  },
  {
   "attachments": {},
   "cell_type": "markdown",
   "metadata": {},
   "source": [
    "We will create a new planet with some different properties to the default:"
   ]
  },
  {
   "cell_type": "code",
   "execution_count": 4,
   "metadata": {},
   "outputs": [
    {
     "name": "stderr",
     "output_type": "stream",
     "text": [
      "15:20:21 - atmodeller.core      - INFO      - Creating a new planet\n",
      "15:20:21 - atmodeller.core      - INFO      - Mantle mass (kg) = 4.208261222595111e+24\n",
      "15:20:21 - atmodeller.core      - INFO      - Mantle melt fraction = 0.7\n",
      "15:20:21 - atmodeller.core      - INFO      - Core mass fraction = 0.295334691460966\n",
      "15:20:21 - atmodeller.core      - INFO      - Planetary radius (m) = 6371000.0\n",
      "15:20:21 - atmodeller.core      - INFO      - Planetary mass (kg) = 5.972e+24\n",
      "15:20:21 - atmodeller.core      - INFO      - Surface temperature (K) = 2500.000000\n",
      "15:20:21 - atmodeller.core      - INFO      - Surface gravity (m/s^2) = 9.819973426224687\n",
      "15:20:21 - atmodeller.core      - INFO      - Oxygen fugacity model (mantle) = IronWustiteBufferOneill\n",
      "15:20:21 - atmodeller.core      - INFO      - Oxygen fugacity log10 shift = 1.000000\n"
     ]
    },
    {
     "data": {
      "text/plain": [
       "Planet(mantle_mass=4.208261222595111e+24, mantle_melt_fraction=0.7, core_mass_fraction=0.295334691460966, surface_radius=6371000.0, surface_temperature=2500, fo2_model=<atmodeller.thermodynamics.IronWustiteBufferOneill object at 0x11c769650>, fo2_shift=1, planet_mass=5.972e+24, surface_gravity=9.819973426224687)"
      ]
     },
     "execution_count": 4,
     "metadata": {},
     "output_type": "execute_result"
    }
   ],
   "source": [
    "surface_temperature: float = 2500 # K\n",
    "mantle_melt_fraction: float = 0.7\n",
    "fo2_shift: float = 1\n",
    "\n",
    "planet = Planet(surface_temperature=surface_temperature, mantle_melt_fraction=mantle_melt_fraction, fo2_shift=fo2_shift)\n",
    "planet"
   ]
  },
  {
   "attachments": {},
   "cell_type": "markdown",
   "metadata": {},
   "source": [
    "Similar to tutorial 1, we can now construct an interior-atmosphere system for our new planet:"
   ]
  },
  {
   "cell_type": "code",
   "execution_count": 5,
   "metadata": {},
   "outputs": [
    {
     "name": "stderr",
     "output_type": "stream",
     "text": [
      "15:20:25 - atmodeller.core      - INFO      - Creating a molecule: H2O\n",
      "15:20:25 - atmodeller.core      - DEBUG     - element count = \n",
      "{'H': 2, 'O': 1}\n",
      "15:20:25 - atmodeller.core      - INFO      - Creating a molecule: H2\n",
      "15:20:25 - atmodeller.core      - DEBUG     - element count = \n",
      "{'H': 2}\n",
      "15:20:25 - atmodeller.core      - INFO      - Creating a molecule: O2\n",
      "15:20:25 - atmodeller.core      - DEBUG     - element count = \n",
      "{'O': 2}\n",
      "15:20:25 - atmodeller.core      - INFO      - Creating a molecule: CO\n",
      "15:20:25 - atmodeller.core      - DEBUG     - element count = \n",
      "{'C': 1, 'O': 1}\n",
      "15:20:25 - atmodeller.core      - INFO      - Creating a molecule: CO2\n",
      "15:20:25 - atmodeller.core      - DEBUG     - element count = \n",
      "{'C': 1, 'O': 2}\n",
      "15:20:25 - atmodeller.core      - INFO      - Creating a molecule: H2S\n",
      "15:20:25 - atmodeller.core      - DEBUG     - element count = \n",
      "{'H': 2, 'S': 1}\n",
      "15:20:25 - atmodeller.core      - INFO      - Creating a molecule: S\n",
      "15:20:25 - atmodeller.core      - DEBUG     - element count = \n",
      "{'S': 1}\n"
     ]
    },
    {
     "data": {
      "text/plain": [
       "[Molecule(name='H2O', solubility=<atmodeller.thermodynamics.PeridotiteH2O object at 0x11d3bad10>, solid_melt_distribution_coefficient=0, elements={'H': 2, 'O': 1}, element_masses={'H': 0.0020158, 'O': 0.0159994}, formation_constants=(0.05817258823529415, -251.80119852941178), molar_mass=0.018015200000000002),\n",
       " Molecule(name='H2', solubility=<atmodeller.thermodynamics.NoSolubility object at 0x10c9e4710>, solid_melt_distribution_coefficient=0, elements={'H': 2}, element_masses={'H': 0.0020158}, formation_constants=(0, 0), molar_mass=0.0020158),\n",
       " Molecule(name='O2', solubility=<atmodeller.thermodynamics.NoSolubility object at 0x11c76bc10>, solid_melt_distribution_coefficient=0, elements={'O': 2}, element_masses={'O': 0.0319988}, formation_constants=(0, 0), molar_mass=0.0319988),\n",
       " Molecule(name='CO', solubility=<atmodeller.thermodynamics.NoSolubility object at 0x10c728050>, solid_melt_distribution_coefficient=0, elements={'C': 1, 'O': 1}, element_masses={'C': 0.0120107, 'O': 0.0159994}, formation_constants=(-0.08269582352941174, -120.3571470588237), molar_mass=0.0280101),\n",
       " Molecule(name='CO2', solubility=<atmodeller.thermodynamics.BasaltDixonCO2 object at 0x11d2d9a90>, solid_melt_distribution_coefficient=0, elements={'C': 1, 'O': 2}, element_masses={'C': 0.0120107, 'O': 0.0319988}, formation_constants=(0.0005482647058825124, -397.33434558823564), molar_mass=0.0440095),\n",
       " Molecule(name='H2S', solubility=<atmodeller.thermodynamics.NoSolubility object at 0x11d393690>, solid_melt_distribution_coefficient=0, elements={'H': 2, 'S': 1}, element_masses={'H': 0.0020158, 'S': 0.032065}, formation_constants=(0.04955845588235296, -90.57971323529412), molar_mass=0.0340808),\n",
       " Molecule(name='S', solubility=<atmodeller.thermodynamics.NoSolubility object at 0x11d3bb290>, solid_melt_distribution_coefficient=0, elements={'S': 1}, element_masses={'S': 0.032065}, formation_constants=(-0.06120597058823535, 217.87218382352947), molar_mass=0.032065)]"
      ]
     },
     "execution_count": 5,
     "metadata": {},
     "output_type": "execute_result"
    }
   ],
   "source": [
    "molecules: list[Molecule] = []\n",
    "molecules.append(Molecule(name='H2O', solubility=PeridotiteH2O(), solid_melt_distribution_coefficient=0))\n",
    "molecules.append(Molecule(name='H2', solubility=NoSolubility(), solid_melt_distribution_coefficient=0))\n",
    "molecules.append(Molecule(name='O2', solubility=NoSolubility(), solid_melt_distribution_coefficient=0))\n",
    "molecules.append(Molecule(name='CO', solubility=NoSolubility(), solid_melt_distribution_coefficient=0))\n",
    "molecules.append(Molecule(name='CO2', solubility=BasaltDixonCO2(), solid_melt_distribution_coefficient=0))\n",
    "molecules.append(Molecule(name='H2S', solubility=NoSolubility(), solid_melt_distribution_coefficient=0))\n",
    "molecules.append(Molecule(name='S', solubility=NoSolubility(), solid_melt_distribution_coefficient=0))\n",
    "#molecules.append(Molecule(name='C', solubility=NoSolubility(), solid_melt_distribution_coefficient=0))\n",
    "\n",
    "\n",
    "molecules"
   ]
  },
  {
   "attachments": {},
   "cell_type": "markdown",
   "metadata": {},
   "source": [
    "Only now we pass in our planet as an argument when we construct the interior-atmosphere system:"
   ]
  },
  {
   "cell_type": "code",
   "execution_count": 6,
   "metadata": {},
   "outputs": [
    {
     "name": "stderr",
     "output_type": "stream",
     "text": [
      "15:20:28 - atmodeller.core      - INFO      - Creating a new interior-atmosphere system\n",
      "15:20:28 - atmodeller.core      - INFO      - Molecules = ['S', 'CO', 'H2', 'O2', 'CO2', 'H2O', 'H2S']\n",
      "15:20:28 - atmodeller.core      - INFO      - Molecules = ['S', 'CO', 'H2', 'O2', 'CO2', 'H2O', 'H2S']\n",
      "15:20:28 - atmodeller.core      - DEBUG     - number of unique elements = \n",
      "['S', 'C', 'O', 'H']\n",
      "15:20:28 - atmodeller.core      - DEBUG     - augmented_matrix = \n",
      "[[1. 0. 0. 0. 1. 0. 0. 0. 0. 0. 0.]\n",
      " [0. 1. 1. 0. 0. 1. 0. 0. 0. 0. 0.]\n",
      " [0. 0. 0. 2. 0. 0. 1. 0. 0. 0. 0.]\n",
      " [0. 0. 2. 0. 0. 0. 0. 1. 0. 0. 0.]\n",
      " [0. 1. 2. 0. 0. 0. 0. 0. 1. 0. 0.]\n",
      " [0. 0. 1. 2. 0. 0. 0. 0. 0. 1. 0.]\n",
      " [1. 0. 0. 2. 0. 0. 0. 0. 0. 0. 1.]]\n",
      "15:20:28 - atmodeller.core      - DEBUG     - ratio = \n",
      "0.0\n",
      "15:20:28 - atmodeller.core      - DEBUG     - ratio = \n",
      "0.0\n",
      "15:20:28 - atmodeller.core      - DEBUG     - ratio = \n",
      "0.0\n",
      "15:20:28 - atmodeller.core      - DEBUG     - ratio = \n",
      "0.0\n",
      "15:20:28 - atmodeller.core      - DEBUG     - ratio = \n",
      "0.0\n",
      "15:20:28 - atmodeller.core      - DEBUG     - ratio = \n",
      "1.0\n",
      "15:20:28 - atmodeller.core      - DEBUG     - ratio = \n",
      "0.0\n",
      "15:20:28 - atmodeller.core      - DEBUG     - ratio = \n",
      "0.0\n",
      "15:20:28 - atmodeller.core      - DEBUG     - ratio = \n",
      "1.0\n",
      "15:20:28 - atmodeller.core      - DEBUG     - ratio = \n",
      "0.0\n",
      "15:20:28 - atmodeller.core      - DEBUG     - ratio = \n",
      "0.0\n",
      "15:20:28 - atmodeller.core      - DEBUG     - ratio = \n",
      "0.0\n",
      "15:20:28 - atmodeller.core      - DEBUG     - ratio = \n",
      "0.5\n",
      "15:20:28 - atmodeller.core      - DEBUG     - ratio = \n",
      "0.5\n",
      "15:20:28 - atmodeller.core      - DEBUG     - ratio = \n",
      "0.0\n",
      "15:20:28 - atmodeller.core      - DEBUG     - ratio = \n",
      "0.0\n",
      "15:20:28 - atmodeller.core      - DEBUG     - ratio = \n",
      "1.0\n",
      "15:20:28 - atmodeller.core      - DEBUG     - ratio = \n",
      "1.0\n",
      "15:20:28 - atmodeller.core      - DEBUG     - augmented_matrix after forward elimination = \n",
      "[[ 1.   0.   0.   0.   1.   0.   0.   0.   0.   0.   0. ]\n",
      " [ 0.   1.   1.   0.   0.   1.   0.   0.   0.   0.   0. ]\n",
      " [ 0.   0.   2.   0.   0.   0.   0.   1.   0.   0.   0. ]\n",
      " [ 0.   0.   0.   2.   0.   0.   1.   0.   0.   0.   0. ]\n",
      " [ 0.   0.   0.   0.   0.  -1.   0.  -0.5  1.   0.   0. ]\n",
      " [ 0.   0.   0.   0.   0.   0.  -1.  -0.5  0.   1.   0. ]\n",
      " [ 0.   0.   0.   0.  -1.   0.  -1.   0.   0.   0.   1. ]]\n",
      "15:20:28 - atmodeller.core      - DEBUG     - augmented_matrix after backward substitution = \n",
      "[[ 1.   0.   0.   0.   1.   0.   0.   0.   0.   0.   0. ]\n",
      " [ 0.   1.   0.   0.   0.   1.   0.  -0.5  0.   0.   0. ]\n",
      " [ 0.   0.   1.   0.   0.   0.   0.   0.5  0.   0.   0. ]\n",
      " [ 0.   0.   0.   1.   0.   0.   0.5  0.   0.   0.   0. ]\n",
      " [ 0.   0.   0.   0.   0.  -1.   0.  -0.5  1.   0.   0. ]\n",
      " [ 0.   0.   0.   0.   0.   0.  -1.  -0.5  0.   1.   0. ]\n",
      " [ 0.   0.   0.   0.  -1.   0.  -1.   0.   0.   0.   1. ]]\n",
      "15:20:28 - atmodeller.core      - DEBUG     - reduced_matrix1 = \n",
      "[[1. 0. 0. 0.]\n",
      " [0. 1. 0. 0.]\n",
      " [0. 0. 1. 0.]\n",
      " [0. 0. 0. 1.]\n",
      " [0. 0. 0. 0.]\n",
      " [0. 0. 0. 0.]\n",
      " [0. 0. 0. 0.]]\n",
      "15:20:28 - atmodeller.core      - DEBUG     - reaction_matrix = \n",
      "[[ 0.  -1.   0.  -0.5  1.   0.   0. ]\n",
      " [ 0.   0.  -1.  -0.5  0.   1.   0. ]\n",
      " [-1.   0.  -1.   0.   0.   0.   1. ]]\n",
      "15:20:28 - atmodeller.core      - INFO      - Reactions = \n",
      "{0: '1.0 CO + 0.5 O2 = 1.0 CO2',\n",
      " 1: '1.0 H2 + 0.5 O2 = 1.0 H2O',\n",
      " 2: '1.0 S + 1.0 H2 = 1.0 H2S'}\n"
     ]
    }
   ],
   "source": [
    "interior_atmosphere: InteriorAtmosphereSystem = InteriorAtmosphereSystem(molecules=molecules, planet=planet)"
   ]
  },
  {
   "attachments": {},
   "cell_type": "markdown",
   "metadata": {},
   "source": [
    "Solve the system with constraints:"
   ]
  },
  {
   "cell_type": "code",
   "execution_count": 7,
   "metadata": {},
   "outputs": [
    {
     "name": "stderr",
     "output_type": "stream",
     "text": [
      "15:20:32 - atmodeller.core      - INFO      - Constraints: [SystemConstraint(species='H', value=1.5499384884020874e+20, field='mass'),\n",
      " SystemConstraint(species='C', value=1.5499384884020874e+20, field='mass'),\n",
      " SystemConstraint(species='S', value=1.5499384884020874e+17, field='mass')]\n",
      "15:20:32 - atmodeller.core      - INFO      - Mixed pressure and mass constraints so attempting to solve a non-linear system of equations\n",
      "15:20:32 - atmodeller.core      - INFO      - Adding fO2 as an additional constraint using IronWustiteBufferOneill with fO2_shift = 1.00\n",
      "15:20:32 - atmodeller.core      - INFO      - 3 additional (not pressure) constraint(s) are necessary to solve the system\n",
      "15:20:32 - atmodeller.core      - INFO      - Row 00: Reaction 0: 1.0 CO + 0.5 O2 = 1.0 CO2\n",
      "15:20:32 - atmodeller.core      - INFO      - Row 01: Reaction 1: 1.0 H2 + 0.5 O2 = 1.0 H2O\n",
      "15:20:32 - atmodeller.core      - INFO      - Row 02: Reaction 2: 1.0 S + 1.0 H2 = 1.0 H2S\n",
      "15:20:32 - atmodeller.core      - INFO      - Row 03: Setting O2 partial pressure\n",
      "15:20:32 - atmodeller.core      - DEBUG     - Design matrix = \n",
      "[[ 0.  -1.   0.  -0.5  1.   0.   0. ]\n",
      " [ 0.   0.  -1.  -0.5  0.   1.   0. ]\n",
      " [-1.   0.  -1.   0.   0.   0.   1. ]\n",
      " [ 0.   0.   0.   1.   0.   0.   0. ]]\n",
      "15:20:32 - atmodeller.core      - DEBUG     - RHS vector = \n",
      "[ 1.43886863  2.22243038  0.65899671 -4.05511461]\n",
      "15:20:32 - atmodeller.core      - INFO      - Adding constraint from mass balance: H\n",
      "15:20:32 - atmodeller.core      - INFO      - Adding constraint from mass balance: C\n",
      "15:20:32 - atmodeller.core      - INFO      - Adding constraint from mass balance: S\n",
      "15:20:32 - atmodeller.core      - DEBUG     - initial_log10_pressures = [1. 1. 1. 1. 1. 1. 1.]\n",
      "15:20:32 - atmodeller.core      - DEBUG     - residual_reaction = [-1.93886863 -2.72243038 -1.65899671  5.05511461]\n",
      "15:20:32 - atmodeller.core      - DEBUG     - residual_mass = [ 2.66575703e+00 -6.80051685e-01  7.89970026e+02]\n",
      "15:20:32 - atmodeller.core      - DEBUG     - residual = [-1.93886863e+00 -2.72243038e+00 -1.65899671e+00  5.05511461e+00\n",
      "  2.66575703e+00 -6.80051685e-01  7.89970026e+02]\n",
      "15:20:32 - atmodeller.core      - DEBUG     - residual_reaction = [-1.93886863 -2.72243038 -1.65899671  5.05511461]\n",
      "15:20:32 - atmodeller.core      - DEBUG     - residual_mass = [ 2.66575703e+00 -6.80051685e-01  7.89970026e+02]\n",
      "15:20:32 - atmodeller.core      - DEBUG     - residual = [-1.93886863e+00 -2.72243038e+00 -1.65899671e+00  5.05511461e+00\n",
      "  2.66575703e+00 -6.80051685e-01  7.89970026e+02]\n",
      "15:20:32 - atmodeller.core      - DEBUG     - residual_reaction = [-1.93886863 -2.72243038 -1.65899671  5.05511461]\n",
      "15:20:32 - atmodeller.core      - DEBUG     - residual_mass = [ 2.66575703e+00 -6.80051685e-01  7.89970026e+02]\n",
      "15:20:32 - atmodeller.core      - DEBUG     - residual = [-1.93886863e+00 -2.72243038e+00 -1.65899671e+00  5.05511461e+00\n",
      "  2.66575703e+00 -6.80051685e-01  7.89970026e+02]\n",
      "15:20:32 - atmodeller.core      - DEBUG     - residual_reaction = [-1.93886863 -2.72243038 -1.65899673  5.05511461]\n",
      "15:20:32 - atmodeller.core      - DEBUG     - residual_mass = [ 2.66575703e+00 -6.80051686e-01  7.89970039e+02]\n",
      "15:20:32 - atmodeller.core      - DEBUG     - residual = [-1.93886863e+00 -2.72243038e+00 -1.65899673e+00  5.05511461e+00\n",
      "  2.66575703e+00 -6.80051686e-01  7.89970039e+02]\n",
      "15:20:32 - atmodeller.core      - DEBUG     - residual_reaction = [-1.93886864 -2.72243038 -1.65899671  5.05511461]\n",
      "15:20:32 - atmodeller.core      - DEBUG     - residual_mass = [ 2.66575703e+00 -6.80051680e-01  7.89970026e+02]\n",
      "15:20:32 - atmodeller.core      - DEBUG     - residual = [-1.93886864e+00 -2.72243038e+00 -1.65899671e+00  5.05511461e+00\n",
      "  2.66575703e+00 -6.80051680e-01  7.89970026e+02]\n",
      "15:20:32 - atmodeller.core      - DEBUG     - residual_reaction = [-1.93886863 -2.7224304  -1.65899673  5.05511461]\n",
      "15:20:32 - atmodeller.core      - DEBUG     - residual_mass = [ 2.66575703e+00 -6.80051684e-01  7.89970030e+02]\n",
      "15:20:32 - atmodeller.core      - DEBUG     - residual = [-1.93886863e+00 -2.72243040e+00 -1.65899673e+00  5.05511461e+00\n",
      "  2.66575703e+00 -6.80051684e-01  7.89970030e+02]\n",
      "15:20:32 - atmodeller.core      - DEBUG     - residual_reaction = [-1.93886863 -2.72243039 -1.65899671  5.05511462]\n",
      "15:20:32 - atmodeller.core      - DEBUG     - residual_mass = [ 2.66575703e+00 -6.80051686e-01  7.89970026e+02]\n",
      "15:20:32 - atmodeller.core      - DEBUG     - residual = [-1.93886863e+00 -2.72243039e+00 -1.65899671e+00  5.05511462e+00\n",
      "  2.66575703e+00 -6.80051686e-01  7.89970026e+02]\n",
      "15:20:32 - atmodeller.core      - DEBUG     - residual_reaction = [-1.93886861 -2.72243038 -1.65899671  5.05511461]\n",
      "15:20:32 - atmodeller.core      - DEBUG     - residual_mass = [ 2.66575703e+00 -6.80051680e-01  7.89970024e+02]\n",
      "15:20:32 - atmodeller.core      - DEBUG     - residual = [-1.93886861e+00 -2.72243038e+00 -1.65899671e+00  5.05511461e+00\n",
      "  2.66575703e+00 -6.80051680e-01  7.89970024e+02]\n",
      "15:20:32 - atmodeller.core      - DEBUG     - residual_reaction = [-1.93886863 -2.72243037 -1.65899671  5.05511461]\n",
      "15:20:32 - atmodeller.core      - DEBUG     - residual_mass = [ 2.66575709e+00 -6.80051685e-01  7.89970028e+02]\n",
      "15:20:32 - atmodeller.core      - DEBUG     - residual = [-1.93886863e+00 -2.72243037e+00 -1.65899671e+00  5.05511461e+00\n",
      "  2.66575709e+00 -6.80051685e-01  7.89970028e+02]\n",
      "15:20:32 - atmodeller.core      - DEBUG     - residual_reaction = [-1.93886863 -2.72243038 -1.6589967   5.05511461]\n",
      "15:20:32 - atmodeller.core      - DEBUG     - residual_mass = [ 2.66575703e+00 -6.80051686e-01  7.89970039e+02]\n",
      "15:20:32 - atmodeller.core      - DEBUG     - residual = [-1.93886863e+00 -2.72243038e+00 -1.65899670e+00  5.05511461e+00\n",
      "  2.66575703e+00 -6.80051686e-01  7.89970039e+02]\n",
      "15:20:32 - atmodeller.core      - DEBUG     - residual_reaction = [ 4.16200407e-12  5.93836091e-12  3.61899399e-12 -1.10267351e-11]\n",
      "15:20:32 - atmodeller.core      - DEBUG     - residual_mass = [  0.78544206   2.32146296 438.20516869]\n",
      "15:20:32 - atmodeller.core      - DEBUG     - residual = [ 4.16200407e-12  5.93836091e-12  3.61899399e-12 -1.10267351e-11\n",
      "  7.85442064e-01  2.32146296e+00  4.38205169e+02]\n",
      "15:20:32 - atmodeller.core      - DEBUG     - residual_reaction = [-2.33679742e-12 -3.16813242e-12 -1.92779126e-12  5.87441207e-12]\n",
      "15:20:32 - atmodeller.core      - DEBUG     - residual_mass = [ 0.2655309  -0.99997481 71.27486282]\n",
      "15:20:32 - atmodeller.core      - DEBUG     - residual = [-2.33679742e-12 -3.16813242e-12 -1.92779126e-12  5.87441207e-12\n",
      "  2.65530898e-01 -9.99974805e-01  7.12748628e+01]\n",
      "15:20:32 - atmodeller.core      - DEBUG     - residual_reaction = [-1.42108547e-14 -4.30766534e-14 -2.55351296e-14  7.81597009e-14]\n",
      "15:20:32 - atmodeller.core      - DEBUG     - residual_mass = [ 0.23118021 -0.99918684 90.64443159]\n",
      "15:20:32 - atmodeller.core      - DEBUG     - residual = [-1.42108547e-14 -4.30766534e-14 -2.55351296e-14  7.81597009e-14\n",
      "  2.31180207e-01 -9.99186841e-01  9.06444316e+01]\n",
      "15:20:32 - atmodeller.core      - DEBUG     - residual_reaction = [-1.02130542 -0.15969496  0.02287879  0.20209313]\n",
      "15:20:32 - atmodeller.core      - DEBUG     - residual_mass = [2.53611302e-02 1.39182493e+03 1.99757107e+02]\n",
      "15:20:32 - atmodeller.core      - DEBUG     - residual = [-1.02130542e+00 -1.59694956e-01  2.28787945e-02  2.02093128e-01\n",
      "  2.53611302e-02  1.39182493e+03  1.99757107e+02]\n",
      "15:20:32 - atmodeller.core      - DEBUG     - residual_reaction = [-2.33679742e-12 -3.16813242e-12 -7.65673702e-09  5.87441207e-12]\n",
      "15:20:32 - atmodeller.core      - DEBUG     - residual_mass = [ 0.2655309  -0.99997481 71.27486303]\n",
      "15:20:32 - atmodeller.core      - DEBUG     - residual = [-2.33679742e-12 -3.16813242e-12 -7.65673702e-09  5.87441207e-12\n",
      "  2.65530898e-01 -9.99974805e-01  7.12748630e+01]\n",
      "15:20:32 - atmodeller.core      - DEBUG     - residual_reaction = [-4.46531372e-08 -3.16813242e-12 -1.92779126e-12  5.87441207e-12]\n",
      "15:20:32 - atmodeller.core      - DEBUG     - residual_mass = [ 0.2655309  -0.99997481 71.27486282]\n",
      "15:20:32 - atmodeller.core      - DEBUG     - residual = [-4.46531372e-08 -3.16813242e-12 -1.92779126e-12  5.87441207e-12\n",
      "  2.65530898e-01 -9.99974805e-01  7.12748628e+01]\n",
      "15:20:32 - atmodeller.core      - DEBUG     - residual_reaction = [-2.33679742e-12 -1.60850444e-09 -1.60726432e-09  5.87441207e-12]\n",
      "15:20:32 - atmodeller.core      - DEBUG     - residual_mass = [ 0.2655309  -0.99997481 71.27486287]\n",
      "15:20:32 - atmodeller.core      - DEBUG     - residual = [-2.33679742e-12 -1.60850444e-09 -1.60726432e-09  5.87441207e-12\n",
      "  2.65530898e-01 -9.99974805e-01  7.12748629e+01]\n",
      "15:20:32 - atmodeller.core      - DEBUG     - residual_reaction = [-3.02152943e-08 -3.02161265e-08 -1.92779126e-12  6.04317911e-08]\n",
      "15:20:32 - atmodeller.core      - DEBUG     - residual_mass = [ 0.2655309  -0.99997481 71.27486282]\n",
      "15:20:32 - atmodeller.core      - DEBUG     - residual = [-3.02152943e-08 -3.02161265e-08 -1.92779126e-12  6.04317911e-08\n",
      "  2.65530898e-01 -9.99974805e-01  7.12748628e+01]\n",
      "15:20:32 - atmodeller.core      - DEBUG     - residual_reaction = [ 5.34206093e-08 -3.16813242e-12 -1.92779126e-12  5.87441207e-12]\n",
      "15:20:32 - atmodeller.core      - DEBUG     - residual_mass = [ 0.2655309  -0.99997481 71.27486282]\n",
      "15:20:32 - atmodeller.core      - DEBUG     - residual = [ 5.34206093e-08 -3.16813242e-12 -1.92779126e-12  5.87441207e-12\n",
      "  2.65530898e-01 -9.99974805e-01  7.12748628e+01]\n",
      "15:20:32 - atmodeller.core      - DEBUG     - residual_reaction = [-2.33679742e-12  1.29533095e-09 -1.92779126e-12  5.87441207e-12]\n",
      "15:20:32 - atmodeller.core      - DEBUG     - residual_mass = [ 0.2655309  -0.99997481 71.27486283]\n",
      "15:20:32 - atmodeller.core      - DEBUG     - residual = [-2.33679742e-12  1.29533095e-09 -1.92779126e-12  5.87441207e-12\n",
      "  2.65530900e-01 -9.99974805e-01  7.12748628e+01]\n",
      "15:20:32 - atmodeller.core      - DEBUG     - residual_reaction = [-2.33679742e-12 -3.16813242e-12  5.57742741e-10  5.87441207e-12]\n",
      "15:20:32 - atmodeller.core      - DEBUG     - residual_mass = [ 0.2655309  -0.99997481 71.27486287]\n",
      "15:20:32 - atmodeller.core      - DEBUG     - residual = [-2.33679742e-12 -3.16813242e-12  5.57742741e-10  5.87441207e-12\n",
      "  2.65530898e-01 -9.99974805e-01  7.12748629e+01]\n",
      "15:20:32 - atmodeller.core      - DEBUG     - residual_reaction = [-0.43779767 -0.72788176  0.83255246  0.00182185]\n",
      "15:20:32 - atmodeller.core      - DEBUG     - residual_mass = [-0.82504301 -0.82366298 32.41449524]\n",
      "15:20:32 - atmodeller.core      - DEBUG     - residual = [-4.37797674e-01 -7.27881763e-01  8.32552459e-01  1.82184975e-03\n",
      " -8.25043012e-01 -8.23662983e-01  3.24144952e+01]\n",
      "15:20:32 - atmodeller.core      - DEBUG     - residual_reaction = [-0.3374275  -0.79191665  0.91556687 -0.00377458]\n",
      "15:20:32 - atmodeller.core      - DEBUG     - residual_mass = [-9.73666379e-01  1.26087140e+04  1.34097882e+02]\n",
      "15:20:32 - atmodeller.core      - DEBUG     - residual = [-3.37427504e-01 -7.91916646e-01  9.15566871e-01 -3.77457656e-03\n",
      " -9.73666379e-01  1.26087140e+04  1.34097882e+02]\n",
      "15:20:32 - atmodeller.core      - DEBUG     - residual_reaction = [ 1.98788239e-08 -7.78460092e-08  3.13326853e-09  4.87077045e-12]\n",
      "15:20:32 - atmodeller.core      - DEBUG     - residual_mass = [-0.50237001 -0.99933471 26.76256242]\n",
      "15:20:32 - atmodeller.core      - DEBUG     - residual = [ 1.98788239e-08 -7.78460092e-08  3.13326853e-09  4.87077045e-12\n",
      " -5.02370010e-01 -9.99334713e-01  2.67625624e+01]\n",
      "15:20:32 - atmodeller.core      - DEBUG     - residual_reaction = [ 7.59127627e-09 -2.37397222e-07  5.77951498e-09  2.96029867e-12]\n",
      "15:20:32 - atmodeller.core      - DEBUG     - residual_mass = [-0.51582175 -0.99175429 13.31219611]\n",
      "15:20:32 - atmodeller.core      - DEBUG     - residual = [ 7.59127627e-09 -2.37397222e-07  5.77951498e-09  2.96029867e-12\n",
      " -5.15821748e-01 -9.91754294e-01  1.33121961e+01]\n",
      "15:20:32 - atmodeller.core      - DEBUG     - residual_reaction = [-2.54372453e-06 -5.42808370e-06  6.17052847e-06 -1.46057628e-08]\n",
      "15:20:32 - atmodeller.core      - DEBUG     - residual_mass = [-0.4378081   4.0048298   2.69258408]\n",
      "15:20:32 - atmodeller.core      - DEBUG     - residual = [-2.54372453e-06 -5.42808370e-06  6.17052847e-06 -1.46057628e-08\n",
      " -4.37808100e-01  4.00482980e+00  2.69258408e+00]\n",
      "15:20:32 - atmodeller.core      - DEBUG     - residual_reaction = [-8.73421335e-10 -1.02072914e-07  2.08391537e-09  1.33759670e-12]\n",
      "15:20:32 - atmodeller.core      - DEBUG     - residual_mass = [-2.24715585e-01  3.31421309e+04  6.62947725e-03]\n",
      "15:20:32 - atmodeller.core      - DEBUG     - residual = [-8.73421335e-10 -1.02072914e-07  2.08391537e-09  1.33759670e-12\n",
      " -2.24715585e-01  3.31421309e+04  6.62947725e-03]\n",
      "15:20:32 - atmodeller.core      - DEBUG     - residual_reaction = [-6.38552100e-10 -1.21715399e-07  2.47818244e-09  5.15143483e-12]\n",
      "15:20:32 - atmodeller.core      - DEBUG     - residual_mass = [-0.11774558  3.06142505  2.69577752]\n",
      "15:20:32 - atmodeller.core      - DEBUG     - residual = [-6.38552100e-10 -1.21715399e-07  2.47818244e-09  5.15143483e-12\n",
      " -1.17745578e-01  3.06142505e+00  2.69577752e+00]\n",
      "15:20:32 - atmodeller.core      - DEBUG     - residual_reaction = [ 1.70584435e-10  1.68343162e-08 -3.44133944e-10  1.33226763e-14]\n",
      "15:20:32 - atmodeller.core      - DEBUG     - residual_mass = [0.12032043 1.96043703 2.86257383]\n",
      "15:20:32 - atmodeller.core      - DEBUG     - residual = [ 1.70584435e-10  1.68343162e-08 -3.44133944e-10  1.33226763e-14\n",
      "  1.20320427e-01  1.96043703e+00  2.86257383e+00]\n",
      "15:20:32 - atmodeller.core      - DEBUG     - residual_reaction = [ 1.78433934e-10  1.76096266e-08 -3.59981711e-10  1.42108547e-14]\n",
      "15:20:32 - atmodeller.core      - DEBUG     - residual_mass = [0.04499752 1.59031572 2.65397354]\n",
      "15:20:32 - atmodeller.core      - DEBUG     - residual = [ 1.78433934e-10  1.76096266e-08 -3.59981711e-10  1.42108547e-14\n",
      "  4.49975156e-02  1.59031572e+00  2.65397354e+00]\n",
      "15:20:32 - atmodeller.core      - DEBUG     - residual_reaction = [ 1.66389125e-10  1.64218967e-08 -3.35701356e-10  1.33226763e-14]\n",
      "15:20:32 - atmodeller.core      - DEBUG     - residual_mass = [0.04894971 0.99557808 2.50545132]\n",
      "15:20:32 - atmodeller.core      - DEBUG     - residual = [ 1.66389125e-10  1.64218967e-08 -3.35701356e-10  1.33226763e-14\n",
      "  4.89497112e-02  9.95578075e-01  2.50545132e+00]\n",
      "15:20:32 - atmodeller.core      - DEBUG     - residual_reaction = [-3.34143559e-07 -1.77777318e-07  1.72566712e-07  1.01492148e-08]\n",
      "15:20:32 - atmodeller.core      - DEBUG     - residual_mass = [-0.02103539 -0.99531135  1.28684607]\n",
      "15:20:32 - atmodeller.core      - DEBUG     - residual = [-3.34143559e-07 -1.77777318e-07  1.72566712e-07  1.01492148e-08\n",
      " -2.10353934e-02 -9.95311347e-01  1.28684607e+00]\n",
      "15:20:32 - atmodeller.core      - DEBUG     - residual_reaction = [ 5.93973759e-11  5.86442139e-09 -1.19881993e-10  4.44089210e-15]\n",
      "15:20:32 - atmodeller.core      - DEBUG     - residual_mass = [ 0.01262571 -0.99965959  0.7143718 ]\n",
      "15:20:32 - atmodeller.core      - DEBUG     - residual = [ 5.93973759e-11  5.86442139e-09 -1.19881993e-10  4.44089210e-15\n",
      "  1.26257127e-02 -9.99659591e-01  7.14371796e-01]\n",
      "15:20:32 - atmodeller.core      - DEBUG     - residual_reaction = [ 2.76602895e-07 -4.50301340e-07  5.34807645e-07 -2.12252260e-08]\n",
      "15:20:32 - atmodeller.core      - DEBUG     - residual_mass = [-0.03623176 -1.         -0.8273519 ]\n",
      "15:20:32 - atmodeller.core      - DEBUG     - residual = [ 2.76602895e-07 -4.50301340e-07  5.34807645e-07 -2.12252260e-08\n",
      " -3.62317643e-02 -1.00000000e+00 -8.27351900e-01]\n",
      "15:20:32 - atmodeller.core      - DEBUG     - residual_reaction = [ 7.89146526e-12  7.80571607e-10 -1.59562363e-11  0.00000000e+00]\n",
      "15:20:32 - atmodeller.core      - DEBUG     - residual_mass = [ 0.00145052 -0.99999839 -0.29705684]\n",
      "15:20:32 - atmodeller.core      - DEBUG     - residual = [ 7.89146526e-12  7.80571607e-10 -1.59562363e-11  0.00000000e+00\n",
      "  1.45052077e-03 -9.99998387e-01 -2.97056844e-01]\n",
      "15:20:32 - atmodeller.core      - DEBUG     - residual_reaction = [-4.78195261e-12 -4.70694150e-10  9.62241398e-12 -8.88178420e-16]\n",
      "15:20:32 - atmodeller.core      - DEBUG     - residual_mass = [-0.00102048 -0.99999443 -0.13506039]\n",
      "15:20:32 - atmodeller.core      - DEBUG     - residual = [-4.78195261e-12 -4.70694150e-10  9.62241398e-12 -8.88178420e-16\n",
      " -1.02048067e-03 -9.99994431e-01 -1.35060394e-01]\n",
      "15:20:32 - atmodeller.core      - DEBUG     - residual_reaction = [ 4.74109640e-12  4.69319250e-10 -9.59377022e-12  8.88178420e-16]\n",
      "15:20:32 - atmodeller.core      - DEBUG     - residual_mass = [ 0.00100471 -0.99997477  0.11470716]\n",
      "15:20:32 - atmodeller.core      - DEBUG     - residual = [ 4.74109640e-12  4.69319250e-10 -9.59377022e-12  8.88178420e-16\n",
      "  1.00470836e-03 -9.99974770e-01  1.14707159e-01]\n",
      "15:20:32 - atmodeller.core      - DEBUG     - residual_reaction = [ 4.74109640e-12  4.69319250e-10 -3.59791851e-08  8.88178420e-16]\n",
      "15:20:32 - atmodeller.core      - DEBUG     - residual_mass = [ 0.00100471 -0.99997477  0.11470719]\n",
      "15:20:32 - atmodeller.core      - DEBUG     - residual = [ 4.74109640e-12  4.69319250e-10 -3.59791851e-08  8.88178420e-16\n",
      "  1.00470836e-03 -9.99974770e-01  1.14707188e-01]\n",
      "15:20:32 - atmodeller.core      - DEBUG     - residual_reaction = [-4.81156741e-08  4.69319250e-10 -9.59377022e-12  8.88178420e-16]\n",
      "15:20:32 - atmodeller.core      - DEBUG     - residual_mass = [ 0.00100471 -0.99997477  0.11470716]\n",
      "15:20:32 - atmodeller.core      - DEBUG     - residual = [-4.81156741e-08  4.69319250e-10 -9.59377022e-12  8.88178420e-16\n",
      "  1.00470836e-03 -9.99974770e-01  1.14707159e-01]\n",
      "15:20:32 - atmodeller.core      - DEBUG     - residual_reaction = [ 4.74109640e-12 -4.15993018e-09 -4.63884320e-09  8.88178420e-16]\n",
      "15:20:32 - atmodeller.core      - DEBUG     - residual_mass = [ 0.00100471 -0.99997477  0.11470716]\n",
      "15:20:32 - atmodeller.core      - DEBUG     - residual = [ 4.74109640e-12 -4.15993018e-09 -4.63884320e-09  8.88178420e-16\n",
      "  1.00470841e-03 -9.99974770e-01  1.14707163e-01]\n",
      "15:20:32 - atmodeller.core      - DEBUG     - residual_reaction = [-3.02082173e-08 -2.97436391e-08 -9.59377022e-12  6.04259176e-08]\n",
      "15:20:32 - atmodeller.core      - DEBUG     - residual_mass = [ 0.00100471 -0.99997477  0.11470716]\n",
      "15:20:32 - atmodeller.core      - DEBUG     - residual = [-3.02082173e-08 -2.97436391e-08 -9.59377022e-12  6.04259176e-08\n",
      "  1.00470836e-03 -9.99974770e-01  1.14707159e-01]\n",
      "15:20:32 - atmodeller.core      - DEBUG     - residual_reaction = [ 5.68973015e-08  4.69319250e-10 -9.59377022e-12  8.88178420e-16]\n",
      "15:20:32 - atmodeller.core      - DEBUG     - residual_mass = [ 0.00100471 -0.99997477  0.11470716]\n",
      "15:20:32 - atmodeller.core      - DEBUG     - residual = [ 5.68973015e-08  4.69319250e-10 -9.59377022e-12  8.88178420e-16\n",
      "  1.00470836e-03 -9.99974770e-01  1.14707159e-01]\n",
      "15:20:32 - atmodeller.core      - DEBUG     - residual_reaction = [ 4.74109640e-12  2.19473328e-09 -9.59377022e-12  8.88178420e-16]\n",
      "15:20:32 - atmodeller.core      - DEBUG     - residual_mass = [ 0.00100471 -0.99997477  0.11470716]\n",
      "15:20:32 - atmodeller.core      - DEBUG     - residual = [ 4.74109640e-12  2.19473328e-09 -9.59377022e-12  8.88178420e-16\n",
      "  1.00471034e-03 -9.99974770e-01  1.14707158e-01]\n",
      "15:20:32 - atmodeller.core      - DEBUG     - residual_reaction = [4.74109640e-12 4.69319250e-10 3.07694309e-08 8.88178420e-16]\n",
      "15:20:32 - atmodeller.core      - DEBUG     - residual_mass = [ 0.00100471 -0.99997477  0.11470721]\n",
      "15:20:32 - atmodeller.core      - DEBUG     - residual = [ 4.74109640e-12  4.69319250e-10  3.07694309e-08  8.88178420e-16\n",
      "  1.00470836e-03 -9.99974770e-01  1.14707213e-01]\n",
      "15:20:32 - atmodeller.core      - DEBUG     - residual_reaction = [-9.01686799e-03  3.37933531e-02  3.81136989e-03  4.13213837e-05]\n",
      "15:20:32 - atmodeller.core      - DEBUG     - residual_mass = [ 0.03547951 -0.99961247  0.07662131]\n",
      "15:20:32 - atmodeller.core      - DEBUG     - residual = [-9.01686799e-03  3.37933531e-02  3.81136989e-03  4.13213837e-05\n",
      "  3.54795123e-02 -9.99612474e-01  7.66213125e-02]\n",
      "15:20:32 - atmodeller.core      - DEBUG     - residual_reaction = [0.00107746 0.03343213 0.00383374 0.00048287]\n",
      "15:20:32 - atmodeller.core      - DEBUG     - residual_mass = [ 0.03063095 -0.95347375 -0.45710323]\n",
      "15:20:32 - atmodeller.core      - DEBUG     - residual = [ 1.07746216e-03  3.34321251e-02  3.83373594e-03  4.82866908e-04\n",
      "  3.06309540e-02 -9.53473749e-01 -4.57103225e-01]\n",
      "15:20:32 - atmodeller.core      - DEBUG     - residual_reaction = [0.00143588 0.03279775 0.00376338 0.00049045]\n",
      "15:20:32 - atmodeller.core      - DEBUG     - residual_mass = [ 0.0355078  -0.99672869  0.20203325]\n",
      "15:20:32 - atmodeller.core      - DEBUG     - residual = [ 1.43588255e-03  3.27977479e-02  3.76338050e-03  4.90453119e-04\n",
      "  3.55077959e-02 -9.96728691e-01  2.02033254e-01]\n",
      "15:20:32 - atmodeller.core      - DEBUG     - residual_reaction = [-9.01686799e-03  3.37933531e-02  3.81133393e-03  4.13213837e-05]\n",
      "15:20:32 - atmodeller.core      - DEBUG     - residual_mass = [ 0.03547951 -0.99961247  0.07662134]\n",
      "15:20:32 - atmodeller.core      - DEBUG     - residual = [-9.01686799e-03  3.37933531e-02  3.81133393e-03  4.13213837e-05\n",
      "  3.54795123e-02 -9.99612474e-01  7.66213397e-02]\n",
      "15:20:32 - atmodeller.core      - DEBUG     - residual_reaction = [-9.01689817e-03  3.37933531e-02  3.81136989e-03  4.13213837e-05]\n",
      "15:20:32 - atmodeller.core      - DEBUG     - residual_mass = [ 0.03547951 -0.99961247  0.07662131]\n",
      "15:20:32 - atmodeller.core      - DEBUG     - residual = [-9.01689817e-03  3.37933531e-02  3.81136989e-03  4.13213837e-05\n",
      "  3.54795123e-02 -9.99612474e-01  7.66213118e-02]\n",
      "15:20:32 - atmodeller.core      - DEBUG     - residual_reaction = [-9.01686799e-03  3.37933484e-02  3.81136520e-03  4.13213837e-05]\n",
      "15:20:32 - atmodeller.core      - DEBUG     - residual_mass = [ 0.03547951 -0.99961247  0.07662132]\n",
      "15:20:32 - atmodeller.core      - DEBUG     - residual = [-9.01686799e-03  3.37933484e-02  3.81136520e-03  4.13213837e-05\n",
      "  3.54795123e-02 -9.99612474e-01  7.66213160e-02]\n",
      "15:20:32 - atmodeller.core      - DEBUG     - residual_reaction = [-9.01689820e-03  3.37933229e-02  3.81136989e-03  4.13818090e-05]\n",
      "15:20:32 - atmodeller.core      - DEBUG     - residual_mass = [ 0.03547951 -0.99961247  0.07662131]\n",
      "15:20:32 - atmodeller.core      - DEBUG     - residual = [-9.01689820e-03  3.37933229e-02  3.81136989e-03  4.13818090e-05\n",
      "  3.54795123e-02 -9.99612474e-01  7.66213124e-02]\n",
      "15:20:32 - atmodeller.core      - DEBUG     - residual_reaction = [-9.01682890e-03  3.37933531e-02  3.81136989e-03  4.13213837e-05]\n",
      "15:20:32 - atmodeller.core      - DEBUG     - residual_mass = [ 0.03547951 -0.99961247  0.07662131]\n",
      "15:20:32 - atmodeller.core      - DEBUG     - residual = [-9.01682890e-03  3.37933531e-02  3.81136989e-03  4.13213837e-05\n",
      "  3.54795123e-02 -9.99612474e-01  7.66213120e-02]\n",
      "15:20:32 - atmodeller.core      - DEBUG     - residual_reaction = [-9.01686799e-03  3.37933544e-02  3.81136989e-03  4.13213837e-05]\n",
      "15:20:32 - atmodeller.core      - DEBUG     - residual_mass = [ 0.03547951 -0.99961247  0.07662131]\n",
      "15:20:32 - atmodeller.core      - DEBUG     - residual = [-9.01686799e-03  3.37933544e-02  3.81136989e-03  4.13213837e-05\n",
      "  3.54795138e-02 -9.99612474e-01  7.66213116e-02]\n",
      "15:20:32 - atmodeller.core      - DEBUG     - residual_reaction = [-9.01686799e-03  3.37933531e-02  3.81140066e-03  4.13213837e-05]\n",
      "15:20:32 - atmodeller.core      - DEBUG     - residual_mass = [ 0.03547951 -0.99961247  0.07662136]\n",
      "15:20:32 - atmodeller.core      - DEBUG     - residual = [-9.01686799e-03  3.37933531e-02  3.81140066e-03  4.13213837e-05\n",
      "  3.54795123e-02 -9.99612474e-01  7.66213643e-02]\n",
      "15:20:32 - atmodeller.core      - DEBUG     - residual_reaction = [-0.00041933  0.03328452  0.00383037  0.00054607]\n",
      "15:20:32 - atmodeller.core      - DEBUG     - residual_mass = [ 0.03501218 -0.99855482  0.05687503]\n",
      "15:20:32 - atmodeller.core      - DEBUG     - residual = [-4.19329984e-04  3.32845179e-02  3.83036531e-03  5.46074434e-04\n",
      "  3.50121783e-02 -9.98554825e-01  5.68750341e-02]\n",
      "15:20:32 - atmodeller.core      - DEBUG     - residual_reaction = [-0.01076617  0.0300208   0.00382905  0.00339942]\n",
      "15:20:32 - atmodeller.core      - DEBUG     - residual_mass = [ 0.03116275 -0.9849432  -0.21742565]\n",
      "15:20:32 - atmodeller.core      - DEBUG     - residual = [-0.01076617  0.0300208   0.00382905  0.00339942  0.03116275 -0.9849432\n",
      " -0.21742565]\n",
      "15:20:32 - atmodeller.core      - DEBUG     - residual_reaction = [-0.011437    0.02970039  0.00381649  0.00358302]\n",
      "15:20:32 - atmodeller.core      - DEBUG     - residual_mass = [ 0.03291985 -0.99645782  0.12421212]\n",
      "15:20:32 - atmodeller.core      - DEBUG     - residual = [-0.011437    0.02970039  0.00381649  0.00358302  0.03291985 -0.99645782\n",
      "  0.12421212]\n",
      "15:20:32 - atmodeller.core      - DEBUG     - residual_reaction = [-0.00041933  0.03328452  0.00383033  0.00054607]\n",
      "15:20:32 - atmodeller.core      - DEBUG     - residual_mass = [ 0.03501218 -0.99855482  0.05687506]\n",
      "15:20:32 - atmodeller.core      - DEBUG     - residual = [-4.19329984e-04  3.32845179e-02  3.83032947e-03  5.46074434e-04\n",
      "  3.50121783e-02 -9.98554825e-01  5.68750608e-02]\n",
      "15:20:32 - atmodeller.core      - DEBUG     - residual_reaction = [-0.00041935  0.03328452  0.00383037  0.00054607]\n",
      "15:20:32 - atmodeller.core      - DEBUG     - residual_mass = [ 0.03501218 -0.99855482  0.05687503]\n",
      "15:20:32 - atmodeller.core      - DEBUG     - residual = [-4.19351442e-04  3.32845179e-02  3.83036531e-03  5.46074434e-04\n",
      "  3.50121783e-02 -9.98554825e-01  5.68750325e-02]\n",
      "15:20:32 - atmodeller.core      - DEBUG     - residual_reaction = [-0.00041933  0.03328451  0.00383036  0.00054607]\n",
      "15:20:32 - atmodeller.core      - DEBUG     - residual_mass = [ 0.03501218 -0.99855482  0.05687504]\n",
      "15:20:32 - atmodeller.core      - DEBUG     - residual = [-4.19329984e-04  3.32845132e-02  3.83036062e-03  5.46074434e-04\n",
      "  3.50121783e-02 -9.98554825e-01  5.68750375e-02]\n",
      "15:20:32 - atmodeller.core      - DEBUG     - residual_reaction = [-0.00041936  0.03328449  0.00383037  0.00054613]\n",
      "15:20:32 - atmodeller.core      - DEBUG     - residual_mass = [ 0.03501218 -0.99855482  0.05687503]\n",
      "15:20:32 - atmodeller.core      - DEBUG     - residual = [-4.19360193e-04  3.32844877e-02  3.83036531e-03  5.46134852e-04\n",
      "  3.50121783e-02 -9.98554825e-01  5.68750341e-02]\n",
      "15:20:32 - atmodeller.core      - DEBUG     - residual_reaction = [-0.0004193   0.03328452  0.00383037  0.00054607]\n",
      "15:20:32 - atmodeller.core      - DEBUG     - residual_mass = [ 0.03501218 -0.99855482  0.05687503]\n",
      "15:20:32 - atmodeller.core      - DEBUG     - residual = [-4.19299752e-04  3.32845179e-02  3.83036531e-03  5.46074434e-04\n",
      "  3.50121783e-02 -9.98554825e-01  5.68750329e-02]\n",
      "15:20:32 - atmodeller.core      - DEBUG     - residual_reaction = [-0.00041933  0.03328452  0.00383037  0.00054607]\n",
      "15:20:32 - atmodeller.core      - DEBUG     - residual_mass = [ 0.03501218 -0.99855482  0.05687503]\n",
      "15:20:32 - atmodeller.core      - DEBUG     - residual = [-4.19329984e-04  3.32845192e-02  3.83036531e-03  5.46074434e-04\n",
      "  3.50121798e-02 -9.98554825e-01  5.68750334e-02]\n",
      "15:20:32 - atmodeller.core      - DEBUG     - residual_reaction = [-0.00041933  0.03328452  0.0038304   0.00054607]\n",
      "15:20:32 - atmodeller.core      - DEBUG     - residual_mass = [ 0.03501218 -0.99855482  0.05687508]\n",
      "15:20:32 - atmodeller.core      - DEBUG     - residual = [-4.19329984e-04  3.32845179e-02  3.83039596e-03  5.46074434e-04\n",
      "  3.50121783e-02 -9.98554825e-01  5.68750848e-02]\n",
      "15:20:32 - atmodeller.core      - DEBUG     - residual_reaction = [-0.01008297  0.032374    0.00382501  0.00125625]\n",
      "15:20:32 - atmodeller.core      - DEBUG     - residual_mass = [ 0.03427522 -0.99730782  0.04496648]\n",
      "15:20:32 - atmodeller.core      - DEBUG     - residual = [-0.01008297  0.032374    0.00382501  0.00125625  0.03427522 -0.99730782\n",
      "  0.04496648]\n",
      "15:20:32 - atmodeller.core      - DEBUG     - residual_reaction = [-0.00047334  0.03095611  0.00379434  0.00197464]\n",
      "15:20:32 - atmodeller.core      - DEBUG     - residual_mass = [ 0.03261419 -0.99223047 -0.03372615]\n",
      "15:20:32 - atmodeller.core      - DEBUG     - residual = [-4.73339684e-04  3.09561112e-02  3.79434282e-03  1.97464108e-03\n",
      "  3.26141901e-02 -9.92230473e-01 -3.37261501e-02]\n",
      "15:20:32 - atmodeller.core      - DEBUG     - residual_reaction = [ 0.00980793 -0.00218837  0.00168257  0.01483831]\n",
      "15:20:32 - atmodeller.core      - DEBUG     - residual_mass = [ 0.00367824 -0.96721691 -0.148343  ]\n",
      "15:20:32 - atmodeller.core      - DEBUG     - residual = [ 0.00980793 -0.00218837  0.00168257  0.01483831  0.00367824 -0.96721691\n",
      " -0.148343  ]\n",
      "15:20:32 - atmodeller.core      - DEBUG     - residual_reaction = [-0.02187538 -0.02787063 -0.00241423  0.0017865 ]\n",
      "15:20:32 - atmodeller.core      - DEBUG     - residual_mass = [-0.02649972 -0.71012274  0.2972465 ]\n",
      "15:20:32 - atmodeller.core      - DEBUG     - residual = [-0.02187538 -0.02787063 -0.00241423  0.0017865  -0.02649972 -0.71012274\n",
      "  0.2972465 ]\n",
      "15:20:32 - atmodeller.core      - DEBUG     - residual_reaction = [-0.02707967  0.01772329  0.00177857 -0.00775958]\n",
      "15:20:32 - atmodeller.core      - DEBUG     - residual_mass = [1.53675894e-02 2.41118400e+03 1.88302755e+00]\n",
      "15:20:32 - atmodeller.core      - DEBUG     - residual = [-2.70796671e-02  1.77232925e-02  1.77856539e-03 -7.75958278e-03\n",
      "  1.53675894e-02  2.41118400e+03  1.88302755e+00]\n",
      "15:20:32 - atmodeller.core      - DEBUG     - residual_reaction = [ 2.16952234e-10 -1.07447384e-11 -6.43888276e-11 -9.37561140e-12]\n",
      "15:20:32 - atmodeller.core      - DEBUG     - residual_mass = [-0.00049438 -0.34613029  0.06913232]\n",
      "15:20:32 - atmodeller.core      - DEBUG     - residual = [ 2.16952234e-10 -1.07447384e-11 -6.43888276e-11 -9.37561140e-12\n",
      " -4.94379229e-04 -3.46130290e-01  6.91323158e-02]\n",
      "15:20:32 - atmodeller.core      - DEBUG     - residual_reaction = [ 2.59232635e-11 -1.29172228e-11 -3.35068640e-11  9.40580946e-13]\n",
      "15:20:32 - atmodeller.core      - DEBUG     - residual_mass = [ 0.00037163 -0.13191132  0.00788078]\n",
      "15:20:32 - atmodeller.core      - DEBUG     - residual = [ 2.59232635e-11 -1.29172228e-11 -3.35068640e-11  9.40580946e-13\n",
      "  3.71629695e-04 -1.31911321e-01  7.88077770e-03]\n",
      "15:20:32 - atmodeller.core      - DEBUG     - residual_reaction = [-1.33226763e-15  8.65085781e-12  5.98643357e-12  8.88178420e-16]\n",
      "15:20:32 - atmodeller.core      - DEBUG     - residual_mass = [ 1.86108175e-05 -1.00031665e-01  3.41156164e-04]\n",
      "15:20:32 - atmodeller.core      - DEBUG     - residual = [-1.33226763e-15  8.65085781e-12  5.98643357e-12  8.88178420e-16\n",
      "  1.86108175e-05 -1.00031665e-01  3.41156164e-04]\n",
      "15:20:32 - atmodeller.core      - DEBUG     - residual_reaction = [-2.44249065e-15 -7.99360578e-15 -9.88098492e-15  8.88178420e-16]\n",
      "15:20:32 - atmodeller.core      - DEBUG     - residual_mass = [ 3.78474260e-08 -9.79466605e-02 -3.40848777e-05]\n",
      "15:20:32 - atmodeller.core      - DEBUG     - residual = [-2.44249065e-15 -7.99360578e-15 -9.88098492e-15  8.88178420e-16\n",
      "  3.78474260e-08 -9.79466605e-02 -3.40848777e-05]\n",
      "15:20:32 - atmodeller.core      - DEBUG     - residual_reaction = [-2.22044605e-15 -2.79776202e-14 -2.34257058e-14  8.88178420e-16]\n",
      "15:20:33 - atmodeller.core      - DEBUG     - residual_mass = [-1.01776105e-08 -9.74300504e-02 -3.60902901e-05]\n",
      "15:20:33 - atmodeller.core      - DEBUG     - residual = [-2.22044605e-15 -2.79776202e-14 -2.34257058e-14  8.88178420e-16\n",
      " -1.01776105e-08 -9.74300504e-02 -3.60902901e-05]\n",
      "15:20:33 - atmodeller.core      - DEBUG     - residual_reaction = [-2.22044605e-15 -2.79776202e-14 -3.05786502e-08  8.88178420e-16]\n",
      "15:20:33 - atmodeller.core      - DEBUG     - residual_mass = [-1.01776115e-08 -9.74300504e-02 -3.60685932e-05]\n",
      "15:20:33 - atmodeller.core      - DEBUG     - residual = [-2.22044605e-15 -2.79776202e-14 -3.05786502e-08  8.88178420e-16\n",
      " -1.01776115e-08 -9.74300504e-02 -3.60685932e-05]\n",
      "15:20:33 - atmodeller.core      - DEBUG     - residual_reaction = [-2.57129529e-08 -2.79776202e-14 -2.34257058e-14  8.88178420e-16]\n",
      "15:20:33 - atmodeller.core      - DEBUG     - residual_mass = [-1.01653962e-08 -9.74300057e-02 -3.60859325e-05]\n",
      "15:20:33 - atmodeller.core      - DEBUG     - residual = [-2.57129529e-08 -2.79776202e-14 -2.34257058e-14  8.88178420e-16\n",
      " -1.01653962e-08 -9.74300057e-02 -3.60859325e-05]\n",
      "15:20:33 - atmodeller.core      - DEBUG     - residual_reaction = [-2.22044605e-15 -4.58634908e-09 -4.58634453e-09  8.88178420e-16]\n",
      "15:20:33 - atmodeller.core      - DEBUG     - residual_mass = [-1.01660556e-08 -9.74300504e-02 -3.60902188e-05]\n",
      "15:20:33 - atmodeller.core      - DEBUG     - residual = [-2.22044605e-15 -4.58634908e-09 -4.58634453e-09  8.88178420e-16\n",
      " -1.01660556e-08 -9.74300504e-02 -3.60902188e-05]\n",
      "15:20:33 - atmodeller.core      - DEBUG     - residual_reaction = [-3.02129606e-08 -3.02129863e-08 -2.34257058e-14  6.04259176e-08]\n",
      "15:20:33 - atmodeller.core      - DEBUG     - residual_mass = [-1.01776105e-08 -9.74300504e-02 -3.60902901e-05]\n",
      "15:20:33 - atmodeller.core      - DEBUG     - residual = [-3.02129606e-08 -3.02129863e-08 -2.34257058e-14  6.04259176e-08\n",
      " -1.01776105e-08 -9.74300504e-02 -3.60902901e-05]\n",
      "15:20:33 - atmodeller.core      - DEBUG     - residual_reaction = [ 1.69408034e-08 -2.79776202e-14 -2.34257058e-14  8.88178420e-16]\n",
      "15:20:33 - atmodeller.core      - DEBUG     - residual_mass = [-1.01869085e-08 -9.74300451e-02 -3.60936074e-05]\n",
      "15:20:33 - atmodeller.core      - DEBUG     - residual = [ 1.69408034e-08 -2.79776202e-14 -2.34257058e-14  8.88178420e-16\n",
      " -1.01869085e-08 -9.74300451e-02 -3.60936074e-05]\n",
      "15:20:33 - atmodeller.core      - DEBUG     - residual_reaction = [-2.22044605e-15  1.68245773e-09 -2.34257058e-14  8.88178420e-16]\n",
      "15:20:33 - atmodeller.core      - DEBUG     - residual_mass = [-8.23943088e-09 -9.74300504e-02 -3.60902718e-05]\n",
      "15:20:33 - atmodeller.core      - DEBUG     - residual = [-2.22044605e-15  1.68245773e-09 -2.34257058e-14  8.88178420e-16\n",
      " -8.23943088e-09 -9.74300504e-02 -3.60902718e-05]\n",
      "15:20:33 - atmodeller.core      - DEBUG     - residual_reaction = [-2.22044605e-15 -2.79776202e-14  2.53451081e-08  8.88178420e-16]\n",
      "15:20:33 - atmodeller.core      - DEBUG     - residual_mass = [-1.01750773e-08 -9.74300504e-02 -3.60499184e-05]\n",
      "15:20:33 - atmodeller.core      - DEBUG     - residual = [-2.22044605e-15 -2.79776202e-14  2.53451081e-08  8.88178420e-16\n",
      " -1.01750773e-08 -9.74300504e-02 -3.60499184e-05]\n",
      "15:20:33 - atmodeller.core      - DEBUG     - residual_reaction = [ 2.33296937e-10  1.52766688e-13 -2.74191780e-12  0.00000000e+00]\n",
      "15:20:33 - atmodeller.core      - DEBUG     - residual_mass = [1.81149341e-07 5.51493474e-03 6.41273041e-05]\n",
      "15:20:33 - atmodeller.core      - DEBUG     - residual = [ 2.33296937e-10  1.52766688e-13 -2.74191780e-12  0.00000000e+00\n",
      "  1.81149341e-07  5.51493474e-03  6.41273041e-05]\n",
      "15:20:33 - atmodeller.core      - DEBUG     - residual_reaction = [ 8.19344592e-14 -7.54951657e-15  1.23567823e-13  0.00000000e+00]\n",
      "15:20:33 - atmodeller.core      - DEBUG     - residual_mass = [-8.83990442e-09 -2.87375118e-04 -3.12698418e-06]\n",
      "15:20:33 - atmodeller.core      - DEBUG     - residual = [ 8.19344592e-14 -7.54951657e-15  1.23567823e-13  0.00000000e+00\n",
      " -8.83990442e-09 -2.87375118e-04 -3.12698418e-06]\n",
      "15:20:33 - atmodeller.core      - DEBUG     - residual_reaction = [2.22044605e-16 0.00000000e+00 5.55111512e-16 0.00000000e+00]\n",
      "15:20:33 - atmodeller.core      - DEBUG     - residual_mass = [-2.23429547e-11 -7.78862220e-07 -8.01139922e-09]\n",
      "15:20:33 - atmodeller.core      - DEBUG     - residual = [ 2.22044605e-16  0.00000000e+00  5.55111512e-16  0.00000000e+00\n",
      " -2.23429547e-11 -7.78862220e-07 -8.01139922e-09]\n",
      "15:20:33 - atmodeller.core      - DEBUG     - residual_reaction = [0.00000000e+00 4.44089210e-16 5.55111512e-16 0.00000000e+00]\n",
      "15:20:33 - atmodeller.core      - DEBUG     - residual_mass = [4.65112651e-15 1.54043830e-10 1.60976711e-12]\n",
      "15:20:33 - atmodeller.core      - DEBUG     - residual = [0.00000000e+00 4.44089210e-16 5.55111512e-16 0.00000000e+00\n",
      " 4.65112651e-15 1.54043830e-10 1.60976711e-12]\n",
      "15:20:33 - atmodeller.core      - DEBUG     - residual_reaction = [ 0.00000000e+00 -4.44089210e-16 -1.11022302e-16  0.00000000e+00]\n",
      "15:20:33 - atmodeller.core      - DEBUG     - residual_mass = [-2.11414842e-16  2.11414842e-15 -2.06459806e-16]\n",
      "15:20:33 - atmodeller.core      - DEBUG     - residual = [ 0.00000000e+00 -4.44089210e-16 -1.11022302e-16  0.00000000e+00\n",
      " -2.11414842e-16  2.11414842e-15 -2.06459806e-16]\n",
      "15:20:33 - atmodeller.core      - INFO      - The solution converged.\n",
      "15:20:33 - atmodeller.core      - INFO      - Number of function calls = 84\n",
      "15:20:33 - atmodeller.core      - INFO      - Final objective function evaluation = [ 0.00000000e+00 -4.44089210e-16 -1.11022302e-16  0.00000000e+00\n",
      " -2.11414842e-16  2.11414842e-15 -2.06459806e-16]\n",
      "15:20:33 - atmodeller.core      - INFO      - {'CO': 58.96043113837813,\n",
      " 'CO2': 15.200993432961038,\n",
      " 'H2': 0.49228875574747366,\n",
      " 'H2O': 0.7710685610102456,\n",
      " 'H2S': 0.019935318029854793,\n",
      " 'O2': 8.808163953933268e-05,\n",
      " 'S': 0.008879868627381469}\n"
     ]
    },
    {
     "data": {
      "text/plain": [
       "{'S': 0.008879868627381469,\n",
       " 'CO': 58.96043113837813,\n",
       " 'H2': 0.49228875574747366,\n",
       " 'O2': 8.808163953933268e-05,\n",
       " 'CO2': 15.200993432961038,\n",
       " 'H2O': 0.7710685610102456,\n",
       " 'H2S': 0.019935318029854793}"
      ]
     },
     "execution_count": 7,
     "metadata": {},
     "output_type": "execute_result"
    }
   ],
   "source": [
    "number_of_earth_oceans: float = 1\n",
    "# C/H ratio by mass.\n",
    "ch_ratio: float = 1\n",
    "\n",
    "mass_H: float = number_of_earth_oceans * OCEAN_MOLES * MolarMasses().H2\n",
    "mass_C: float = ch_ratio * mass_H\n",
    "mass_S: float = 0.001*mass_H\n",
    "\n",
    "constraints: list[SystemConstraint] = [\n",
    "    SystemConstraint(species=\"H\", value=mass_H, field=\"mass\"),\n",
    "    SystemConstraint(species=\"C\", value=mass_C, field=\"mass\"),\n",
    "    SystemConstraint(species=\"S\", value=mass_S, field=\"mass\")\n",
    "]\n",
    "\n",
    "interior_atmosphere.solve(constraints, fo2_constraint=True)\n",
    "interior_atmosphere.pressures_dict"
   ]
  },
  {
   "attachments": {},
   "cell_type": "markdown",
   "metadata": {},
   "source": [
    "### 2. Selecting an oxygen fugacity model\n",
    "\n",
    "Oxygen fugacity buffers are available in `atmodeller.thermodynamics` and can be selected during the creating of a planet:"
   ]
  },
  {
   "cell_type": "code",
   "execution_count": 8,
   "metadata": {},
   "outputs": [
    {
     "name": "stderr",
     "output_type": "stream",
     "text": [
      "14:54:24 - atmodeller.core      - INFO      - Creating a new planet\n",
      "14:54:24 - atmodeller.core      - INFO      - Mantle mass (kg) = 4.208261222595111e+24\n",
      "14:54:24 - atmodeller.core      - INFO      - Mantle melt fraction = 1.0\n",
      "14:54:24 - atmodeller.core      - INFO      - Core mass fraction = 0.295334691460966\n",
      "14:54:24 - atmodeller.core      - INFO      - Planetary radius (m) = 6371000.0\n",
      "14:54:24 - atmodeller.core      - INFO      - Planetary mass (kg) = 5.972e+24\n",
      "14:54:24 - atmodeller.core      - INFO      - Surface temperature (K) = 2000.000000\n",
      "14:54:24 - atmodeller.core      - INFO      - Surface gravity (m/s^2) = 9.819973426224687\n",
      "14:54:24 - atmodeller.core      - INFO      - Oxygen fugacity model (mantle) = IronWustiteBufferFischer\n",
      "14:54:24 - atmodeller.core      - INFO      - Oxygen fugacity log10 shift = 0.000000\n"
     ]
    }
   ],
   "source": [
    "planet = Planet(fo2_model=IronWustiteBufferFischer())"
   ]
  },
  {
   "attachments": {},
   "cell_type": "markdown",
   "metadata": {},
   "source": [
    "### 3. Changing planet properties\n",
    "\n",
    "We can also change the properties of a planet after it has been created by setting the appropriate attribute. With no arguments to the constructor, a planet with 'default' properties is created and these can be subequently modified by the user."
   ]
  },
  {
   "cell_type": "code",
   "execution_count": 9,
   "metadata": {},
   "outputs": [
    {
     "name": "stderr",
     "output_type": "stream",
     "text": [
      "14:54:27 - atmodeller.core      - INFO      - Creating a new planet\n",
      "14:54:27 - atmodeller.core      - INFO      - Mantle mass (kg) = 4.208261222595111e+24\n",
      "14:54:27 - atmodeller.core      - INFO      - Mantle melt fraction = 1.0\n",
      "14:54:27 - atmodeller.core      - INFO      - Core mass fraction = 0.295334691460966\n",
      "14:54:27 - atmodeller.core      - INFO      - Planetary radius (m) = 6371000.0\n",
      "14:54:27 - atmodeller.core      - INFO      - Planetary mass (kg) = 5.972e+24\n",
      "14:54:27 - atmodeller.core      - INFO      - Surface temperature (K) = 2000.000000\n",
      "14:54:27 - atmodeller.core      - INFO      - Surface gravity (m/s^2) = 9.819973426224687\n",
      "14:54:27 - atmodeller.core      - INFO      - Oxygen fugacity model (mantle) = IronWustiteBufferOneill\n",
      "14:54:27 - atmodeller.core      - INFO      - Oxygen fugacity log10 shift = 0.000000\n"
     ]
    },
    {
     "data": {
      "text/plain": [
       "Planet(mantle_mass=4.208261222595111e+24, mantle_melt_fraction=1.0, core_mass_fraction=0.295334691460966, surface_radius=6371000.0, surface_temperature=2000.0, fo2_model=<atmodeller.thermodynamics.IronWustiteBufferOneill object at 0x10e858b90>, fo2_shift=0, planet_mass=5.972e+24, surface_gravity=9.819973426224687)"
      ]
     },
     "execution_count": 9,
     "metadata": {},
     "output_type": "execute_result"
    }
   ],
   "source": [
    "planet = Planet()\n",
    "planet"
   ]
  },
  {
   "cell_type": "code",
   "execution_count": 10,
   "metadata": {},
   "outputs": [
    {
     "data": {
      "text/plain": [
       "Planet(mantle_mass=4.208261222595111e+24, mantle_melt_fraction=1.0, core_mass_fraction=0.295334691460966, surface_radius=6371000.0, surface_temperature=2800, fo2_model=<atmodeller.thermodynamics.IronWustiteBufferOneill object at 0x10e858b90>, fo2_shift=-1, planet_mass=5.972e+24, surface_gravity=9.819973426224687)"
      ]
     },
     "execution_count": 10,
     "metadata": {},
     "output_type": "execute_result"
    }
   ],
   "source": [
    "planet.surface_temperature = 2800\n",
    "planet.fo2_shift = -1\n",
    "\n",
    "planet"
   ]
  }
 ],
 "metadata": {
  "kernelspec": {
   "display_name": ".venv",
   "language": "python",
   "name": "python3"
  },
  "language_info": {
   "codemirror_mode": {
    "name": "ipython",
    "version": 3
   },
   "file_extension": ".py",
   "mimetype": "text/x-python",
   "name": "python",
   "nbconvert_exporter": "python",
   "pygments_lexer": "ipython3",
   "version": "3.11.3"
  },
  "orig_nbformat": 4
 },
 "nbformat": 4,
 "nbformat_minor": 2
}
