{
 "cells": [
  {
   "cell_type": "code",
   "execution_count": null,
   "metadata": {},
   "outputs": [],
   "source": [
    "import logging\n",
    "\n",
    "import numpy as np\n",
    "import optimistix as optx\n",
    "\n",
    "from atmodeller import (\n",
    "    InteriorAtmosphere,\n",
    "    Planet,\n",
    "    SolverParameters,\n",
    "    Species,\n",
    "    SpeciesCollection,\n",
    "    debug_logger,\n",
    "    earth_oceans_to_hydrogen_mass,\n",
    ")\n",
    "from atmodeller.eos import get_eos_models\n",
    "from atmodeller.solubility import get_solubility_models\n",
    "from atmodeller.thermodata import IronWustiteBuffer\n",
    "\n",
    "logger = debug_logger()\n",
    "logger.setLevel(logging.INFO)\n",
    "# For more output use DEBUG\n",
    "# logger.setLevel(logging.DEBUG)"
   ]
  },
  {
   "cell_type": "markdown",
   "metadata": {},
   "source": [
    "# K2-18b gas dwarf models from Bower et al. (2025)"
   ]
  },
  {
   "cell_type": "markdown",
   "metadata": {},
   "source": [
    "The code blocks below must always be run, but then you can preferentially run only the models for ideal or real gases with or without solubility."
   ]
  },
  {
   "cell_type": "markdown",
   "metadata": {},
   "source": [
    "Parameters for the simulations"
   ]
  },
  {
   "cell_type": "code",
   "execution_count": null,
   "metadata": {},
   "outputs": [],
   "source": [
    "number_of_realisations = 10000\n",
    "surface_temperature = 2000.0  # Must be float\n",
    "planet_mass = 5.15211e25\n",
    "surface_radius = 1.6647e7\n",
    "mantle_melt_fraction = 1.0  # 0.1\n",
    "log10_max_oceans = 3\n",
    "\n",
    "np.random.seed(0)\n",
    "log10_number_oceans = np.random.uniform(0, log10_max_oceans, number_of_realisations)\n",
    "log10_ch_ratios = np.random.uniform(-2, 1, number_of_realisations)\n",
    "log10_nh_ratios = np.random.uniform(-4, -1, number_of_realisations)\n",
    "fO2_log10_shifts = np.random.uniform(-5, 5, number_of_realisations)\n",
    "\n",
    "h_kg = earth_oceans_to_hydrogen_mass(10**log10_number_oceans)\n",
    "c_kg = h_kg * 10**log10_ch_ratios\n",
    "n_kg = h_kg * 10**log10_nh_ratios\n",
    "\n",
    "mass_constraints = {\n",
    "    \"H\": h_kg,\n",
    "    \"C\": c_kg,\n",
    "    \"N\": n_kg,\n",
    "}"
   ]
  },
  {
   "cell_type": "code",
   "execution_count": null,
   "metadata": {},
   "outputs": [],
   "source": [
    "k218b = Planet(\n",
    "    surface_temperature=surface_temperature,\n",
    "    planet_mass=planet_mass,\n",
    "    surface_radius=surface_radius,\n",
    "    mantle_melt_fraction=mantle_melt_fraction,\n",
    ")"
   ]
  },
  {
   "cell_type": "markdown",
   "metadata": {},
   "source": [
    "## Ideal gas no solubility"
   ]
  },
  {
   "cell_type": "code",
   "execution_count": null,
   "metadata": {},
   "outputs": [],
   "source": [
    "H2O_g = Species.create_gas(\"H2O_g\")\n",
    "H2_g = Species.create_gas(\"H2_g\")\n",
    "O2_g = Species.create_gas(\"O2_g\")\n",
    "CO_g = Species.create_gas(\"CO_g\")\n",
    "CO2_g = Species.create_gas(\"CO2_g\")\n",
    "CH4_g = Species.create_gas(\"CH4_g\")\n",
    "N2_g = Species.create_gas(\"N2_g\")\n",
    "NH3_g = Species.create_gas(\"NH3_g\")\n",
    "\n",
    "species = SpeciesCollection((H2O_g, H2_g, O2_g, CO_g, CO2_g, CH4_g, N2_g, NH3_g))"
   ]
  },
  {
   "cell_type": "code",
   "execution_count": null,
   "metadata": {},
   "outputs": [],
   "source": [
    "model_ideal_nosol = InteriorAtmosphere(species)\n",
    "\n",
    "fugacity_constraints = {O2_g.name: IronWustiteBuffer(fO2_log10_shifts)}\n",
    "\n",
    "# Models all solve first time so we reduce multistart for speed\n",
    "solver_parameters = SolverParameters(multistart=1)\n",
    "model_ideal_nosol.solve(\n",
    "    planet=k218b,\n",
    "    mass_constraints=mass_constraints,\n",
    "    fugacity_constraints=fugacity_constraints,\n",
    "    solver_parameters=solver_parameters,\n",
    ")\n",
    "output_ideal_nosol = model_ideal_nosol.output\n",
    "\n",
    "# Quick look at the solution\n",
    "# solution_ideal_nosol = output_ideal_nosol.quick_look()\n",
    "\n",
    "# Get complete solution as a dictionary\n",
    "# solution_ideal_nosol_asdict = output_ideal_nosol.asdict()\n",
    "# logger.info(solution_ideal_nosol_asdict)\n",
    "\n",
    "# Write the complete solution to Excel\n",
    "output_ideal_nosol.to_excel(\"k218b_ideal_nosol\")\n",
    "\n",
    "# Write the data to a pickle file with dataframes\n",
    "output_ideal_nosol.to_pickle(\"k218b_ideal_nosol\")"
   ]
  },
  {
   "cell_type": "markdown",
   "metadata": {},
   "source": [
    "## Ideal gas with solubility"
   ]
  },
  {
   "cell_type": "code",
   "execution_count": null,
   "metadata": {},
   "outputs": [],
   "source": [
    "solubility_models = get_solubility_models()"
   ]
  },
  {
   "cell_type": "code",
   "execution_count": null,
   "metadata": {},
   "outputs": [],
   "source": [
    "H2O_g = Species.create_gas(\"H2O_g\", solubility=solubility_models[\"H2O_basalt_dixon95\"])\n",
    "H2_g = Species.create_gas(\"H2_g\", solubility=solubility_models[\"H2_basalt_hirschmann12\"])\n",
    "O2_g = Species.create_gas(\"O2_g\")\n",
    "CO_g = Species.create_gas(\"CO_g\", solubility=solubility_models[\"CO_basalt_yoshioka19\"])\n",
    "CO2_g = Species.create_gas(\"CO2_g\", solubility=solubility_models[\"CO2_basalt_dixon95\"])\n",
    "CH4_g = Species.create_gas(\"CH4_g\", solubility=solubility_models[\"CH4_basalt_ardia13\"])\n",
    "# N2_g = Species.create_gas(\"N2_g\", solubility=solubility_models[\"N2_basalt_libourel03\"])\n",
    "# Dasgupta law might be preferred for higher pressure regime\n",
    "N2_g = Species.create_gas(\"N2_g\", solubility=solubility_models[\"N2_basalt_dasgupta22\"])\n",
    "NH3_g = Species.create_gas(\"NH3_g\")\n",
    "\n",
    "species = SpeciesCollection((H2O_g, H2_g, O2_g, CO_g, CO2_g, CH4_g, N2_g, NH3_g))"
   ]
  },
  {
   "cell_type": "code",
   "execution_count": null,
   "metadata": {},
   "outputs": [],
   "source": [
    "model_ideal_withsol = InteriorAtmosphere(species)\n",
    "\n",
    "fugacity_constraints = {O2_g.name: IronWustiteBuffer(fO2_log10_shifts)}\n",
    "\n",
    "solver_parameters = SolverParameters(multistart=1)\n",
    "model_ideal_withsol.solve(\n",
    "    planet=k218b,\n",
    "    mass_constraints=mass_constraints,\n",
    "    fugacity_constraints=fugacity_constraints,\n",
    "    solver_parameters=solver_parameters,\n",
    ")\n",
    "output_ideal_withsol = model_ideal_withsol.output\n",
    "\n",
    "# Quick look at the solution\n",
    "# solution_ideal_withsol = output_ideal_withsol.quick_look()\n",
    "\n",
    "# Get complete solution as a dictionary\n",
    "# solution_ideal_withsol_asdict = output_ideal_withsol.asdict()\n",
    "# logger.info(solution_ideal_withsol_asdict)\n",
    "\n",
    "# Write the complete solution to Excel\n",
    "output_ideal_withsol.to_excel(\"k218b_ideal_withsol\")\n",
    "\n",
    "# Write the data to a pickle file with dataframes\n",
    "output_ideal_withsol.to_pickle(\"k218b_ideal_withsol\")"
   ]
  },
  {
   "cell_type": "markdown",
   "metadata": {},
   "source": [
    "## Real gas no solubility"
   ]
  },
  {
   "cell_type": "code",
   "execution_count": null,
   "metadata": {},
   "outputs": [],
   "source": [
    "eos_models = get_eos_models()"
   ]
  },
  {
   "cell_type": "code",
   "execution_count": null,
   "metadata": {},
   "outputs": [],
   "source": [
    "H2O_g = Species.create_gas(\n",
    "    \"H2O_g\",\n",
    "    activity=eos_models[\"H2O_cork_holland98\"],\n",
    ")\n",
    "H2_g = Species.create_gas(\"H2_g\", activity=eos_models[\"H2_shi92\"])\n",
    "O2_g = Species.create_gas(\"O2_g\")\n",
    "CO_g = Species.create_gas(\n",
    "    \"CO_g\",\n",
    "    activity=eos_models[\"CO_cork_cs_holland91\"],\n",
    ")\n",
    "CO2_g = Species.create_gas(\n",
    "    \"CO2_g\",\n",
    "    activity=eos_models[\"CO2_cork_holland98\"],\n",
    ")\n",
    "CH4_g = Species.create_gas(\n",
    "    \"CH4_g\",\n",
    "    activity=eos_models[\"CH4_cork_cs_holland91\"],\n",
    ")\n",
    "N2_g = Species.create_gas(\n",
    "    \"N2_g\",\n",
    "    activity=eos_models[\"N2_cork_cs_holland91\"],\n",
    ")\n",
    "NH3_g = Species.create_gas(\"NH3_g\")\n",
    "\n",
    "species = SpeciesCollection((H2O_g, H2_g, O2_g, CO_g, CO2_g, CH4_g, N2_g, NH3_g))"
   ]
  },
  {
   "cell_type": "code",
   "execution_count": null,
   "metadata": {},
   "outputs": [],
   "source": [
    "solver = optx.LevenbergMarquardt\n",
    "solver_parameters = SolverParameters(solver=solver, multistart=1)\n",
    "\n",
    "model_real_nosol = InteriorAtmosphere(species)\n",
    "\n",
    "fugacity_constraints = {O2_g.name: IronWustiteBuffer(fO2_log10_shifts)}\n",
    "\n",
    "# For the initial solution we can use the estimate for ideal without solubilty\n",
    "initial_log_number_density = output_ideal_nosol.log_number_density\n",
    "initial_log_stability = output_ideal_nosol.log_stability\n",
    "\n",
    "model_real_nosol.solve(\n",
    "    planet=k218b,\n",
    "    mass_constraints=mass_constraints,\n",
    "    fugacity_constraints=fugacity_constraints,\n",
    "    initial_log_number_density=initial_log_number_density,\n",
    "    initial_log_stability=initial_log_stability,\n",
    "    solver_parameters=solver_parameters,\n",
    ")\n",
    "output_real_nosol = model_real_nosol.output\n",
    "\n",
    "# Quick look at the solution\n",
    "# solution_real_nosol = output_real_nosol.quick_look()\n",
    "\n",
    "# Get complete solution as a dictionary\n",
    "# solution_real_nosol_asdict = output_real_nosol.asdict()\n",
    "# logger.info(solution_real_nosol_asdict)\n",
    "\n",
    "# Write the complete solution to Excel\n",
    "output_real_nosol.to_excel(\"k218b_real_nosol\")\n",
    "\n",
    "# Write the data to a pickle file with dataframes\n",
    "output_real_nosol.to_pickle(\"k218b_real_nosol\")"
   ]
  },
  {
   "cell_type": "markdown",
   "metadata": {},
   "source": [
    "## Real gas with solubility"
   ]
  },
  {
   "cell_type": "code",
   "execution_count": null,
   "metadata": {},
   "outputs": [],
   "source": [
    "eos_models = get_eos_models()\n",
    "solubility_models = get_solubility_models()"
   ]
  },
  {
   "cell_type": "code",
   "execution_count": null,
   "metadata": {},
   "outputs": [],
   "source": [
    "H2O_g = Species.create_gas(\n",
    "    \"H2O_g\",\n",
    "    activity=eos_models[\"H2O_cork_holland98\"],\n",
    "    solubility=solubility_models[\"H2O_basalt_dixon95\"],\n",
    ")\n",
    "H2_g = Species.create_gas(\n",
    "    \"H2_g\", activity=eos_models[\"H2_shi92\"], solubility=solubility_models[\"H2_basalt_hirschmann12\"]\n",
    ")\n",
    "O2_g = Species.create_gas(\"O2_g\")\n",
    "CO_g = Species.create_gas(\n",
    "    \"CO_g\",\n",
    "    activity=eos_models[\"CO_cork_cs_holland91\"],\n",
    "    solubility=solubility_models[\"CO_basalt_yoshioka19\"],\n",
    ")\n",
    "CO2_g = Species.create_gas(\n",
    "    \"CO2_g\",\n",
    "    activity=eos_models[\"CO2_cork_holland98\"],\n",
    "    solubility=solubility_models[\"CO2_basalt_dixon95\"],\n",
    ")\n",
    "CH4_g = Species.create_gas(\n",
    "    \"CH4_g\",\n",
    "    activity=eos_models[\"CH4_cork_cs_holland91\"],\n",
    "    solubility=solubility_models[\"CH4_basalt_ardia13\"],\n",
    ")\n",
    "# N2_g = Species.create_gas(\n",
    "#     \"N2_g\",\n",
    "#     activity=eos_models[\"N2_cork_cs_holland91\"],\n",
    "#     solubility=solubility_models[\"N2_basalt_libourel03\"],\n",
    "# )\n",
    "# Dasgupta law might be preferred for higher pressure regime\n",
    "N2_g = Species.create_gas(\n",
    "    \"N2_g\",\n",
    "    activity=eos_models[\"N2_cork_cs_holland91\"],\n",
    "    solubility=solubility_models[\"N2_basalt_dasgupta22\"],\n",
    ")\n",
    "NH3_g = Species.create_gas(\"NH3_g\")\n",
    "\n",
    "species = SpeciesCollection((H2O_g, H2_g, O2_g, CO_g, CO2_g, CH4_g, N2_g, NH3_g))"
   ]
  },
  {
   "cell_type": "code",
   "execution_count": null,
   "metadata": {},
   "outputs": [],
   "source": [
    "solver = optx.LevenbergMarquardt\n",
    "solver_parameters = SolverParameters(solver=solver, multistart=1)\n",
    "\n",
    "model_real_withsol = InteriorAtmosphere(species)\n",
    "\n",
    "fugacity_constraints = {O2_g.name: IronWustiteBuffer(fO2_log10_shifts)}\n",
    "\n",
    "# Could use to inform the initial solution, but it is not required\n",
    "# initial_log_number_density = output_ideal_withsol.log_number_density\n",
    "# initial_log_stability = output_ideal_withsol.log_stability\n",
    "\n",
    "model_real_withsol.solve(\n",
    "    planet=k218b,\n",
    "    mass_constraints=mass_constraints,\n",
    "    fugacity_constraints=fugacity_constraints,\n",
    "    # initial_log_number_density=initial_log_number_density,\n",
    "    # initial_log_stability=initial_log_stability,\n",
    "    solver_parameters=solver_parameters,\n",
    ")\n",
    "output_real_withsol = model_real_withsol.output\n",
    "\n",
    "# Quick look at the solution\n",
    "# solution_real_withsol = output_real_withsol.quick_look()\n",
    "\n",
    "# Get complete solution as a dictionary\n",
    "# solution_real_withsol_asdict = output_real_withsol.asdict()\n",
    "# logger.info(solution_real_withsol_asdict)\n",
    "\n",
    "# Write the complete solution to Excel\n",
    "output_real_withsol.to_excel(\"k218b_real_withsol\")\n",
    "\n",
    "# Write the data to a pickle file with dataframes\n",
    "output_real_withsol.to_pickle(\"k218b_real_withsol\")"
   ]
  }
 ],
 "metadata": {
  "kernelspec": {
   "display_name": ".venv",
   "language": "python",
   "name": "python3"
  },
  "language_info": {
   "codemirror_mode": {
    "name": "ipython",
    "version": 3
   },
   "file_extension": ".py",
   "mimetype": "text/x-python",
   "name": "python",
   "nbconvert_exporter": "python",
   "pygments_lexer": "ipython3",
   "version": "3.10.13"
  }
 },
 "nbformat": 4,
 "nbformat_minor": 2
}
