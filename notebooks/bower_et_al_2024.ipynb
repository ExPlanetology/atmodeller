{
 "cells": [
  {
   "cell_type": "markdown",
   "metadata": {},
   "source": [
    "# Models from Bower et al. (2024)"
   ]
  },
  {
   "cell_type": "markdown",
   "metadata": {},
   "source": [
    "## Data generation"
   ]
  },
  {
   "cell_type": "markdown",
   "metadata": {},
   "source": [
    "This section generates and exports the output."
   ]
  },
  {
   "cell_type": "code",
   "execution_count": null,
   "metadata": {},
   "outputs": [],
   "source": [
    "import copy\n",
    "import logging\n",
    "\n",
    "import numpy as np\n",
    "from pathlib import Path\n",
    "\n",
    "from atmodeller import debug_logger, debug_file_logger\n",
    "from atmodeller.constraints import IronWustiteBufferConstraintHirschmann, MassConstraint, SystemConstraints\n",
    "from atmodeller.core import GasSpecies, Species\n",
    "from atmodeller.interior_atmosphere import Planet, InteriorAtmosphereSystem\n",
    "from atmodeller.initial_condition import InitialConditionRegressor, InitialConditionSwitchRegressor, InitialConditionDict\n",
    "from atmodeller.plot import Plotter\n",
    "from atmodeller.utilities import earth_oceans_to_kg\n",
    "\n",
    "logger = debug_file_logger()\n",
    "# logger.setLevel(logging.INFO)"
   ]
  },
  {
   "cell_type": "markdown",
   "metadata": {},
   "source": [
    "Fixed parameters"
   ]
  },
  {
   "cell_type": "code",
   "execution_count": null,
   "metadata": {},
   "outputs": [],
   "source": [
    "surface_temperature = 1800\n",
    "number_of_realisations = 250"
   ]
  },
  {
   "cell_type": "markdown",
   "metadata": {},
   "source": [
    "File paths for output"
   ]
  },
  {
   "cell_type": "code",
   "execution_count": null,
   "metadata": {},
   "outputs": [],
   "source": [
    "trappist1e_no_sols_path = Path(f\"trappist1e_{surface_temperature}K_no_sols_{number_of_realisations}its\")\n",
    "trappist1e_with_sols_path = Path(f\"trappist1e_{surface_temperature}K_with_sols_{number_of_realisations}its\")"
   ]
  },
  {
   "cell_type": "markdown",
   "metadata": {},
   "source": [
    "Species to consider. These are initially excluding solubility."
   ]
  },
  {
   "cell_type": "code",
   "execution_count": null,
   "metadata": {},
   "outputs": [],
   "source": [
    "species = Species()\n",
    "species.append(GasSpecies(formula='H2O'))\n",
    "species.append(GasSpecies(formula='H2'))\n",
    "species.append(GasSpecies(formula='O2'))\n",
    "species.append(GasSpecies(formula='CO'))\n",
    "species.append(GasSpecies(formula='CO2'))\n",
    "species.append(GasSpecies(formula='CH4'))\n",
    "species.append(GasSpecies(formula='N2'))\n",
    "species.append(GasSpecies(formula='NH3'))\n",
    "species.append(GasSpecies(formula='S2'))\n",
    "species.append(GasSpecies(formula='H2S'))\n",
    "species.append(GasSpecies(formula='SO2'))\n",
    "species.append(GasSpecies(formula='SO'))\n",
    "species.append(GasSpecies(formula='Cl2'))\n",
    "species"
   ]
  },
  {
   "cell_type": "markdown",
   "metadata": {},
   "source": [
    "TRAPPIST-1e planet properties"
   ]
  },
  {
   "cell_type": "code",
   "execution_count": null,
   "metadata": {},
   "outputs": [],
   "source": [
    "trappist1e = Planet(surface_temperature=surface_temperature, mantle_mass = 3.249E24, surface_radius = 5.804E6)"
   ]
  },
  {
   "cell_type": "markdown",
   "metadata": {},
   "source": [
    "Earth planet properties, which are required to scale the bulk volatile inventories for Trappist-1e. Default parameters are Earth so we only need to specify the temperature."
   ]
  },
  {
   "cell_type": "code",
   "execution_count": null,
   "metadata": {},
   "outputs": [],
   "source": [
    "earth = Planet(surface_temperature=surface_temperature)"
   ]
  },
  {
   "cell_type": "markdown",
   "metadata": {},
   "source": [
    "Bulk silicate Earth (BSE) masses of elements in kg"
   ]
  },
  {
   "cell_type": "code",
   "execution_count": null,
   "metadata": {},
   "outputs": [],
   "source": [
    "earth_bse = {\"H\":{'min': 2.627E20,'max': 2.687E21},\n",
    "             \"C\":{'min': 2.507E20, 'max': 4.358E21},\n",
    "             'S':{'min': 1.194E21, 'max': 1.791E21},\n",
    "             'N':{'min': 4.955E18, 'max': 1.4925E19},\n",
    "             'Cl': {'min': 0.4e18, 'max': 10.4E19}}\n",
    "\n",
    "earth_bse"
   ]
  },
  {
   "cell_type": "markdown",
   "metadata": {},
   "source": [
    "Compute the reservoir sizes for TRAPPIST 1-e, assuming the same ppmw as Earth:"
   ]
  },
  {
   "cell_type": "code",
   "execution_count": null,
   "metadata": {},
   "outputs": [],
   "source": [
    "trappist1e_bse = copy.deepcopy(earth_bse)\n",
    "mass_scale_factor = trappist1e.mantle_mass / earth.mantle_mass\n",
    "\n",
    "for element, values in trappist1e_bse.items():\n",
    "    trappist1e_bse[element] = {key: value*mass_scale_factor for key, value in values.items()}\n",
    "\n",
    "trappist1e_bse"
   ]
  },
  {
   "cell_type": "markdown",
   "metadata": {},
   "source": [
    "Now set up the main driver of the Monte Carlo (MC) approach. This establishes the ranges over which we sample certain properties."
   ]
  },
  {
   "cell_type": "code",
   "execution_count": null,
   "metadata": {},
   "outputs": [],
   "source": [
    "def monte_carlo(interior_atmosphere: InteriorAtmosphereSystem, bse: dict, number_of_realisations:int=100):\n",
    "    \"\"\"Monte Carlo driver\n",
    "    \n",
    "    Args:\n",
    "        interior_atmosphere: An interior-atmosphere system\n",
    "        bse: Dictionary of element masses, fixed to the ppmw of the bulk silicate Earth\n",
    "        number_of_realisation: Number of simulations to perform\n",
    "    \"\"\"\n",
    "\n",
    "    # Parameters are normally distributed between bounds.\n",
    "    number_ocean_moles = np.random.uniform(0.1, 10, number_of_realisations)\n",
    "    ch_ratios = np.random.uniform(0.1, 10, number_of_realisations)\n",
    "    fo2_shifts = np.random.uniform(-5, 5, number_of_realisations)\n",
    "\n",
    "    for realisation in range(number_of_realisations):\n",
    "\n",
    "        mass_H = earth_oceans_to_kg(number_ocean_moles[realisation])\n",
    "        mass_C = ch_ratios[realisation] * mass_H\n",
    "        constraints = SystemConstraints([\n",
    "            MassConstraint(species=\"H\", value=mass_H),\n",
    "            MassConstraint(species=\"C\", value=mass_C),\n",
    "            MassConstraint(species=\"N\", value=bse['N']['min']),\n",
    "            MassConstraint(species=\"S\", value=bse['S']['min']),\n",
    "            MassConstraint(species=\"Cl\", value=bse['Cl']['max']),\n",
    "            IronWustiteBufferConstraintHirschmann(log10_shift=fo2_shifts[realisation])\n",
    "        ])\n",
    "\n",
    "        # Extra quantities to write to the output\n",
    "        # For example, it's often helpful to have the constraints expressed in a more convenient\n",
    "        # form for analysis and plotting.\n",
    "        extra = {'fO2_shift': fo2_shifts[realisation], 'C/H ratio': ch_ratios[realisation],\n",
    "            'Number of ocean moles': number_ocean_moles[realisation]}\n",
    "\n",
    "        interior_atmosphere.solve(constraints, extra_output=extra, factor=0.1, tol=1e-4)"
   ]
  },
  {
   "cell_type": "markdown",
   "metadata": {},
   "source": [
    "### Trappist 1-e"
   ]
  },
  {
   "cell_type": "markdown",
   "metadata": {},
   "source": [
    "### CHONSCl with no solubilities"
   ]
  },
  {
   "cell_type": "markdown",
   "metadata": {},
   "source": [
    "If we have no initial data to begin from, start with a dictionary of initial guesses and then switch to a regressor."
   ]
  },
  {
   "cell_type": "code",
   "execution_count": null,
   "metadata": {},
   "outputs": [],
   "source": [
    "values = {'O2': 1E-8, 'H2': 100, 'H2O': 100, 'CO2': 100, 'CO': 500, 'S2': 1}\n",
    "initial_condition_start = InitialConditionDict(values, species=species)\n",
    "initial_condition = InitialConditionSwitchRegressor(initial_condition_start, fit=True, fit_batch_size=50, partial_fit=True, partial_fit_batch_size=50)"
   ]
  },
  {
   "cell_type": "markdown",
   "metadata": {},
   "source": [
    "Otherwise, if data is available then train a network and use this from the start."
   ]
  },
  {
   "cell_type": "code",
   "execution_count": null,
   "metadata": {},
   "outputs": [],
   "source": [
    "trappist1e_with_sols_200_its_path = Path(f\"trappist1e_{surface_temperature}K_no_sols_200its\")\n",
    "initial_condition = InitialConditionRegressor.from_pickle(trappist1e_with_sols_200_its_path.with_suffix(\".pkl\"), fit=False, fit_batch_size=100, partial_fit=True, partial_fit_batch_size=100)"
   ]
  },
  {
   "cell_type": "code",
   "execution_count": null,
   "metadata": {},
   "outputs": [],
   "source": [
    "trappist1e_no_sols = InteriorAtmosphereSystem(species=species, initial_condition=initial_condition, planet=trappist1e)\n",
    "monte_carlo(trappist1e_no_sols, trappist1e_bse, number_of_realisations=number_of_realisations)"
   ]
  },
  {
   "cell_type": "code",
   "execution_count": null,
   "metadata": {},
   "outputs": [],
   "source": [
    "trappist1e_no_sols.output(file_prefix=trappist1e_no_sols_path, to_pickle=True, to_excel=True)"
   ]
  },
  {
   "cell_type": "markdown",
   "metadata": {},
   "source": [
    "### CHONSCl with solubilities"
   ]
  },
  {
   "cell_type": "markdown",
   "metadata": {},
   "source": [
    "This will set all the solubilities (where possible) to conform to a basaltic composition."
   ]
  },
  {
   "cell_type": "code",
   "execution_count": null,
   "metadata": {},
   "outputs": [],
   "source": [
    "trappist1e.melt_composition = 'basalt'"
   ]
  },
  {
   "cell_type": "markdown",
   "metadata": {},
   "source": [
    "The pickle file output for the model without solubilities (above) is used to inform the initial condition. But because solubilities can strongly affect the solution, we use the `species_fill` dictionary to modify some initial guesses."
   ]
  },
  {
   "cell_type": "code",
   "execution_count": null,
   "metadata": {},
   "outputs": [],
   "source": [
    "species_fill = {'Cl2': 1E-6, 'H2': 1, 'H2O': 1, 'S2': 1E-6, 'SO2': 1E-6, 'SO': 1E-6}\n",
    "initial_condition = InitialConditionRegressor.from_pickle(trappist1e_no_sols_path.with_suffix(\".pkl\"), species_fill=species_fill, fit=True, fit_batch_size=100, partial_fit=True, partial_fit_batch_size=50)"
   ]
  },
  {
   "cell_type": "markdown",
   "metadata": {},
   "source": [
    "Alternatively, here we can instead use previous output to train the network and either run with a tighter tolerance and/or for more iterations"
   ]
  },
  {
   "cell_type": "code",
   "execution_count": null,
   "metadata": {},
   "outputs": [],
   "source": [
    "trappist1e_with_sols_200_its_path = Path(f\"trappist1e_{surface_temperature}K_with_sols_200its\")\n",
    "initial_condition = InitialConditionRegressor.from_pickle(trappist1e_with_sols_200_its_path.with_suffix(\".pkl\"), fit=False, fit_batch_size=100, partial_fit=True, partial_fit_batch_size=50)"
   ]
  },
  {
   "cell_type": "code",
   "execution_count": null,
   "metadata": {},
   "outputs": [],
   "source": [
    "trappist1e_with_sols = InteriorAtmosphereSystem(species=species, initial_condition=initial_condition, planet=trappist1e)\n",
    "monte_carlo(trappist1e_with_sols, trappist1e_bse, number_of_realisations=number_of_realisations)"
   ]
  },
  {
   "cell_type": "code",
   "execution_count": null,
   "metadata": {},
   "outputs": [],
   "source": [
    "trappist1e_with_sols.output(file_prefix=trappist1e_with_sols_path, to_pickle=True, to_excel=True)"
   ]
  },
  {
   "cell_type": "markdown",
   "metadata": {},
   "source": [
    "## Data plotting"
   ]
  },
  {
   "cell_type": "markdown",
   "metadata": {},
   "source": [
    "You can just run this import rather than having to return to the top of the notebook to do the required imports"
   ]
  },
  {
   "cell_type": "code",
   "execution_count": null,
   "metadata": {},
   "outputs": [],
   "source": [
    "from atmodeller.plot import Plotter\n",
    "import matplotlib.pyplot as plt\n",
    "from pathlib import Path\n",
    "\n",
    "import numpy as np"
   ]
  },
  {
   "cell_type": "markdown",
   "metadata": {},
   "source": [
    "This section plots the output. This reads the data exported by the data generation section above."
   ]
  },
  {
   "cell_type": "markdown",
   "metadata": {},
   "source": [
    "### TRAPPIST 1-e with no solubilities"
   ]
  },
  {
   "cell_type": "code",
   "execution_count": null,
   "metadata": {},
   "outputs": [],
   "source": [
    "# Below are used to set the filename of the data to plot\n",
    "plot_iterations = 250\n",
    "surface_temperature = 1800\n",
    "trappist1e_no_sols_1000_its_path = Path(f\"trappist1e_{surface_temperature}K_no_sols_{plot_iterations}its\")\n",
    "\n",
    "plotter_no_sols = Plotter.read_pickle(trappist1e_no_sols_1000_its_path.with_suffix('.pkl'))\n",
    "\n",
    "major_species = (\"CO\", \"CO2\", \"H2\", \"H2O\")\n",
    "major_species_str = \"_\".join(major_species)\n",
    "\n",
    "elements = (\"C\", \"H\", \"O\", \"N\")\n",
    "elements_str = \"_\".join(elements)\n",
    "\n",
    "categories: tuple[str,...] = (\"fO2\", \"CH\", \"H\")"
   ]
  },
  {
   "cell_type": "markdown",
   "metadata": {},
   "source": [
    "Major species"
   ]
  },
  {
   "cell_type": "code",
   "execution_count": null,
   "metadata": {},
   "outputs": [],
   "source": [
    "for category in categories:\n",
    "    plotter_no_sols.species_pairplot(major_species, mass_or_moles='moles', category=category)\n",
    "    plt.savefig(f\"trappist1e_no_sols_{major_species_str}_by_moles_{category}.pdf\", format='pdf')\n",
    "    plotter_no_sols.species_pairplot(major_species, mass_or_moles='mass', category=category)\n",
    "    plt.savefig(f\"trappist1e_no_sols_{major_species_str}_by_mass_{category}.pdf\", format='pdf')"
   ]
  },
  {
   "cell_type": "code",
   "execution_count": null,
   "metadata": {},
   "outputs": [],
   "source": [
    "# The axes adjustments are for N, which has a very low abundance.\n",
    "N_min = 0\n",
    "N_max = 0.5\n",
    "N_step = 0.25\n",
    "N_ticks = np.arange(N_min, N_max+0.1, N_step)\n",
    "\n",
    "for category in categories:\n",
    "    ax = plotter_no_sols.species_pairplot(elements, mass_or_moles='moles', category=category)\n",
    "    ax.axes[-1][-1].set_xlim(N_min, N_max)\n",
    "    ax.axes[-1][0].set_ylim(N_min, N_max)\n",
    "    ax.axes[-1][-1].set_xticks(N_ticks)\n",
    "    ax.axes[-1][0].set_yticks(N_ticks)\n",
    "    plt.savefig(f\"trappist1e_no_sols_{elements_str}_by_moles_{category}.pdf\", format='pdf')\n",
    "    ax = plotter_no_sols.species_pairplot(elements, mass_or_moles='mass', category=category)\n",
    "    ax.axes[-1][-1].set_xlim(N_min, N_max)\n",
    "    ax.axes[-1][0].set_ylim(N_min, N_max)\n",
    "    ax.axes[-1][-1].set_xticks(N_ticks)\n",
    "    ax.axes[-1][0].set_yticks(N_ticks)\n",
    "    plt.savefig(f\"trappist1e_no_sols_{elements_str}_by_mass_{category}.pdf\", format='pdf')"
   ]
  },
  {
   "cell_type": "markdown",
   "metadata": {},
   "source": [
    "Ratio plots. These are just to sanity check that without considering solubilities the ratios in the atmosphere must correspond exactly to the ratios in the interior (melt)."
   ]
  },
  {
   "cell_type": "code",
   "execution_count": null,
   "metadata": {},
   "outputs": [],
   "source": [
    "plotter_no_sols.ratios_pairplot(['atmosphere','total'], mass_or_moles='moles')\n",
    "plt.savefig(f\"trappist1e_no_sols_ratios_by_moles.pdf\", format='pdf')"
   ]
  },
  {
   "cell_type": "code",
   "execution_count": null,
   "metadata": {},
   "outputs": [],
   "source": [
    "plotter_no_sols.ratios_pairplot(['atmosphere','total'], mass_or_moles='mass')\n",
    "plt.savefig(f\"trappist1e_no_sols_ratios_by_mass.pdf\", format='pdf')"
   ]
  },
  {
   "cell_type": "markdown",
   "metadata": {},
   "source": [
    "### Trappist 1-e with solubilities"
   ]
  },
  {
   "cell_type": "code",
   "execution_count": null,
   "metadata": {},
   "outputs": [],
   "source": [
    "trappist1e_with_sols_1000_its_path = Path(f\"trappist1e_{surface_temperature}K_with_sols_1000its\")\n",
    "plotter_with_sols = Plotter.read_pickle(trappist1e_with_sols_1000_its_path.with_suffix('.pkl'))"
   ]
  },
  {
   "cell_type": "code",
   "execution_count": null,
   "metadata": {},
   "outputs": [],
   "source": [
    "plotter_with_sols.species_pairplot()"
   ]
  },
  {
   "cell_type": "code",
   "execution_count": null,
   "metadata": {},
   "outputs": [],
   "source": [
    "plotter_with_sols.species_pairplot((\"H2O\", \"H2\", \"CO2\", \"CO\"))"
   ]
  },
  {
   "cell_type": "code",
   "execution_count": null,
   "metadata": {},
   "outputs": [],
   "source": [
    "plotter_with_sols.ratios_pairplot(['atmosphere','total'])"
   ]
  }
 ],
 "metadata": {
  "kernelspec": {
   "display_name": ".venv",
   "language": "python",
   "name": "python3"
  },
  "language_info": {
   "codemirror_mode": {
    "name": "ipython",
    "version": 3
   },
   "file_extension": ".py",
   "mimetype": "text/x-python",
   "name": "python",
   "nbconvert_exporter": "python",
   "pygments_lexer": "ipython3",
   "version": "3.10.13"
  }
 },
 "nbformat": 4,
 "nbformat_minor": 2
}
