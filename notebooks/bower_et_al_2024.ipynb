{
 "cells": [
  {
   "cell_type": "markdown",
   "metadata": {},
   "source": [
    "# Models from Bower et al. (2024)"
   ]
  },
  {
   "cell_type": "markdown",
   "metadata": {},
   "source": [
    "## Data generation"
   ]
  },
  {
   "cell_type": "markdown",
   "metadata": {},
   "source": [
    "This section generates and exports the output."
   ]
  },
  {
   "cell_type": "code",
   "execution_count": null,
   "metadata": {},
   "outputs": [],
   "source": [
    "import copy\n",
    "import logging\n",
    "\n",
    "import numpy as np\n",
    "from pathlib import Path\n",
    "\n",
    "from atmodeller import debug_logger, debug_file_logger\n",
    "from atmodeller.constraints import IronWustiteBufferConstraintHirschmann, MassConstraint, SystemConstraints\n",
    "from atmodeller.core import GasSpecies, Species\n",
    "from atmodeller.interior_atmosphere import Planet, InteriorAtmosphereSystem\n",
    "from atmodeller.initial_solution import InitialSolutionRegressor, InitialSolutionSwitchRegressor, InitialSolutionDict, InitialSolutionConstant\n",
    "from atmodeller.plot import Plotter\n",
    "from atmodeller.utilities import earth_oceans_to_kg\n",
    "\n",
    "logger = debug_file_logger()\n",
    "# logger.setLevel(logging.INFO)"
   ]
  },
  {
   "cell_type": "markdown",
   "metadata": {},
   "source": [
    "Fixed parameters"
   ]
  },
  {
   "cell_type": "code",
   "execution_count": null,
   "metadata": {},
   "outputs": [],
   "source": [
    "surface_temperature = 1800\n",
    "number_of_realisations = 100"
   ]
  },
  {
   "cell_type": "markdown",
   "metadata": {},
   "source": [
    "File paths for output"
   ]
  },
  {
   "cell_type": "code",
   "execution_count": null,
   "metadata": {},
   "outputs": [],
   "source": [
    "trappist1e_no_sols_path = Path(f\"trappist1e_{surface_temperature}K_no_sols_{number_of_realisations}its\")\n",
    "trappist1e_with_sols_path = Path(f\"trappist1e_{surface_temperature}K_with_sols_{number_of_realisations}its\")"
   ]
  },
  {
   "cell_type": "markdown",
   "metadata": {},
   "source": [
    "Species to consider. These are initially excluding solubility."
   ]
  },
  {
   "cell_type": "code",
   "execution_count": null,
   "metadata": {},
   "outputs": [],
   "source": [
    "species = Species()\n",
    "species.append(GasSpecies(formula='H2O'))\n",
    "species.append(GasSpecies(formula='H2'))\n",
    "species.append(GasSpecies(formula='O2'))\n",
    "species.append(GasSpecies(formula='CO'))\n",
    "species.append(GasSpecies(formula='CO2'))\n",
    "species.append(GasSpecies(formula='CH4'))\n",
    "species.append(GasSpecies(formula='N2'))\n",
    "species.append(GasSpecies(formula='NH3'))\n",
    "species.append(GasSpecies(formula='S2'))\n",
    "species.append(GasSpecies(formula='H2S'))\n",
    "species.append(GasSpecies(formula='SO2'))\n",
    "species.append(GasSpecies(formula='SO'))\n",
    "species.append(GasSpecies(formula='Cl2'))\n",
    "species"
   ]
  },
  {
   "cell_type": "markdown",
   "metadata": {},
   "source": [
    "TRAPPIST-1e planet properties\n",
    "\n",
    "Mass and radius measurements from Agol et al. 2021; Mantle mass determined assuming same proportion as Earth"
   ]
  },
  {
   "cell_type": "code",
   "execution_count": null,
   "metadata": {},
   "outputs": [],
   "source": [
    "trappist1e = Planet(surface_temperature=surface_temperature, mantle_mass = 2.912E24, surface_radius = 5.861E6)"
   ]
  },
  {
   "cell_type": "markdown",
   "metadata": {},
   "source": [
    "Earth planet properties, which are required to scale the bulk volatile inventories for Trappist-1e. Default parameters are Earth so we only need to specify the temperature."
   ]
  },
  {
   "cell_type": "code",
   "execution_count": null,
   "metadata": {},
   "outputs": [],
   "source": [
    "earth = Planet(surface_temperature=surface_temperature)"
   ]
  },
  {
   "cell_type": "markdown",
   "metadata": {},
   "source": [
    "Bulk silicate Earth (BSE) masses of elements in kg \n",
    "\n",
    "References:\n",
    "\n",
    "Hydrogen, Carbon, Nitrogen: Sakuraba et al. 2021\n",
    "\n",
    "Sulfur: Hirschmann et al. 2016\n",
    "\n",
    "Chlorine: Kendrick et al. 2017\n"
   ]
  },
  {
   "cell_type": "code",
   "execution_count": null,
   "metadata": {},
   "outputs": [],
   "source": [
    "earth_bse = {\"H\":{'min': 1.852E20,'max': 1.894E21},\n",
    "             \"C\":{'min': 1.767E20, 'max': 3.072E21},\n",
    "             'S':{'min': 8.416E20, 'max': 1.052E21},\n",
    "             'N':{'min': 3.493E18, 'max': 1.052E19},\n",
    "             'Cl': {'min': 7.574E19, 'max': 1.431E20}}\n",
    "\n",
    "for element, values in earth_bse.items():\n",
    "    values['mean'] = np.mean((values['min'], values['max'])) # type: ignore\n",
    "\n",
    "earth_bse"
   ]
  },
  {
   "cell_type": "markdown",
   "metadata": {},
   "source": [
    "Compute the reservoir sizes for TRAPPIST 1-e, assuming the same ppmw as Earth:"
   ]
  },
  {
   "cell_type": "code",
   "execution_count": null,
   "metadata": {},
   "outputs": [],
   "source": [
    "trappist1e_bse = copy.deepcopy(earth_bse)\n",
    "mass_scale_factor = trappist1e.mantle_mass / earth.mantle_mass\n",
    "\n",
    "for element, values in trappist1e_bse.items():\n",
    "    trappist1e_bse[element] = {key: value*mass_scale_factor for key, value in values.items()}\n",
    "\n",
    "trappist1e_bse"
   ]
  },
  {
   "cell_type": "markdown",
   "metadata": {},
   "source": [
    "Now set up the main driver of the Monte Carlo (MC) approach. This establishes the ranges over which we sample certain properties."
   ]
  },
  {
   "cell_type": "code",
   "execution_count": null,
   "metadata": {},
   "outputs": [],
   "source": [
    "def monte_carlo(interior_atmosphere: InteriorAtmosphereSystem, bse: dict, number_of_realisations:int=100):\n",
    "    \"\"\"Monte Carlo driver\n",
    "    \n",
    "    Args:\n",
    "        interior_atmosphere: An interior-atmosphere system\n",
    "        bse: Dictionary of element masses, fixed to the ppmw of the bulk silicate Earth\n",
    "        number_of_realisation: Number of simulations to perform\n",
    "    \"\"\"\n",
    "\n",
    "    # Parameters are normally distributed between bounds.\n",
    "    number_ocean_moles = np.random.uniform(0.1, 10, number_of_realisations)\n",
    "    ch_ratios = np.random.uniform(0.1, 10, number_of_realisations)\n",
    "    fo2_shifts = np.random.uniform(-5, 5, number_of_realisations)\n",
    "\n",
    "    for realisation in range(number_of_realisations):\n",
    "\n",
    "        mass_H = earth_oceans_to_kg(number_ocean_moles[realisation])\n",
    "        mass_C = ch_ratios[realisation] * mass_H\n",
    "        constraints = SystemConstraints([\n",
    "            MassConstraint(species=\"H\", value=mass_H),\n",
    "            MassConstraint(species=\"C\", value=mass_C),\n",
    "            MassConstraint(species=\"N\", value=bse['N']['mean']),\n",
    "            MassConstraint(species=\"S\", value=bse['S']['mean']),\n",
    "            MassConstraint(species=\"Cl\", value=bse['Cl']['mean']),\n",
    "            IronWustiteBufferConstraintHirschmann(log10_shift=fo2_shifts[realisation])\n",
    "        ])\n",
    "\n",
    "        # Extra quantities to write to the output\n",
    "        # For example, it's often helpful to have the constraints expressed in a more convenient\n",
    "        # form for analysis and plotting.\n",
    "        extra = {'fO2_shift': fo2_shifts[realisation], 'C/H ratio': ch_ratios[realisation],\n",
    "            'Number of ocean moles': number_ocean_moles[realisation]}\n",
    "\n",
    "        interior_atmosphere.solve(constraints, extra_output=extra, tol=1e-5)"
   ]
  },
  {
   "cell_type": "markdown",
   "metadata": {},
   "source": [
    "### Trappist 1-e"
   ]
  },
  {
   "cell_type": "markdown",
   "metadata": {},
   "source": [
    "### CHONSCl with no solubilities"
   ]
  },
  {
   "cell_type": "markdown",
   "metadata": {},
   "source": [
    "If we have no initial data to begin from, start with a dictionary of initial guesses and then switch to a regressor."
   ]
  },
  {
   "cell_type": "code",
   "execution_count": null,
   "metadata": {},
   "outputs": [],
   "source": [
    "values = {'H2': 100.0, 'H2O': 100, 'CO2': 100, 'CO': 500, 'S2': 1}\n",
    "initial_condition_start = InitialSolutionDict(values, species=species)\n",
    "initial_condition = InitialSolutionSwitchRegressor(initial_condition_start, species=species, fit=True, fit_batch_size=50, partial_fit=True, partial_fit_batch_size=25)"
   ]
  },
  {
   "cell_type": "markdown",
   "metadata": {},
   "source": [
    "Otherwise, if data is available then train a network and use this from the start."
   ]
  },
  {
   "cell_type": "code",
   "execution_count": null,
   "metadata": {},
   "outputs": [],
   "source": [
    "trappist1e_with_sols_250_its_path = Path(f\"trappist1e_{surface_temperature}K_no_sols_250its\")\n",
    "initial_solution = InitialSolutionRegressor.from_pickle(trappist1e_with_sols_250_its_path.with_suffix(\".pkl\"), species=species, fit=True, fit_batch_size=200, partial_fit=False, partial_fit_batch_size=1000)"
   ]
  },
  {
   "cell_type": "code",
   "execution_count": null,
   "metadata": {},
   "outputs": [],
   "source": [
    "trappist1e_no_sols = InteriorAtmosphereSystem(species=species, initial_solution=initial_solution, planet=trappist1e)\n",
    "monte_carlo(trappist1e_no_sols, trappist1e_bse, number_of_realisations=number_of_realisations)"
   ]
  },
  {
   "cell_type": "code",
   "execution_count": null,
   "metadata": {},
   "outputs": [],
   "source": [
    "trappist1e_no_sols.output(file_prefix=trappist1e_no_sols_path, to_pickle=True, to_excel=True)"
   ]
  },
  {
   "cell_type": "markdown",
   "metadata": {},
   "source": [
    "### CHONSCl with solubilities"
   ]
  },
  {
   "cell_type": "markdown",
   "metadata": {},
   "source": [
    "This will set all the solubilities (where possible) to conform to a basaltic composition."
   ]
  },
  {
   "cell_type": "code",
   "execution_count": null,
   "metadata": {},
   "outputs": [],
   "source": [
    "trappist1e.melt_composition = 'basalt'"
   ]
  },
  {
   "cell_type": "markdown",
   "metadata": {},
   "source": [
    "The pickle file output for the model without solubilities (above) is used to inform the initial condition. But because solubilities can strongly affect the solution, we use the `species_fill` dictionary to modify some initial guesses."
   ]
  },
  {
   "cell_type": "code",
   "execution_count": null,
   "metadata": {},
   "outputs": [],
   "source": [
    "species_fill = {'Cl2': 1E-6, 'H2': 1, 'H2O': 1, 'S2': 1E-6, 'SO2': 1E-6, 'SO': 1E-6}\n",
    "initial_solution = InitialSolutionRegressor.from_pickle(trappist1e_no_sols_path.with_suffix(\".pkl\"), species=species, species_fill=species_fill, fit=True, fit_batch_size=100, partial_fit=True, partial_fit_batch_size=50)"
   ]
  },
  {
   "cell_type": "markdown",
   "metadata": {},
   "source": [
    "Alternatively, here we can instead use previous output to train the network and either run with a tighter tolerance and/or for more iterations"
   ]
  },
  {
   "cell_type": "code",
   "execution_count": null,
   "metadata": {},
   "outputs": [],
   "source": [
    "trappist1e_with_sols_200_its_path = Path(f\"trappist1e_{surface_temperature}K_with_sols_200its\")\n",
    "initial_solution = InitialSolutionRegressor.from_pickle(trappist1e_with_sols_200_its_path.with_suffix(\".pkl\"), species=species, fit=False, fit_batch_size=100, partial_fit=True, partial_fit_batch_size=50)"
   ]
  },
  {
   "cell_type": "code",
   "execution_count": null,
   "metadata": {},
   "outputs": [],
   "source": [
    "trappist1e_with_sols = InteriorAtmosphereSystem(species=species, initial_solution=initial_solution, planet=trappist1e)\n",
    "monte_carlo(trappist1e_with_sols, trappist1e_bse, number_of_realisations=number_of_realisations)"
   ]
  },
  {
   "cell_type": "code",
   "execution_count": null,
   "metadata": {},
   "outputs": [],
   "source": [
    "trappist1e_with_sols.output(file_prefix=trappist1e_with_sols_path, to_pickle=True, to_excel=True)"
   ]
  },
  {
   "cell_type": "markdown",
   "metadata": {},
   "source": [
    "## Data plotting"
   ]
  },
  {
   "cell_type": "markdown",
   "metadata": {},
   "source": [
    "You can just run this import rather than having to return to the top of the notebook to do the required imports"
   ]
  },
  {
   "cell_type": "code",
   "execution_count": null,
   "metadata": {},
   "outputs": [],
   "source": [
    "import matplotlib.pyplot as plt\n",
    "import numpy as np\n",
    "from pathlib import Path\n",
    "\n",
    "from atmodeller import debug_logger, debug_file_logger\n",
    "from atmodeller.plot import Plotter, AxesSpec\n",
    "\n",
    "logger = debug_logger()\n",
    "# logger.setLevel(logging.INFO)"
   ]
  },
  {
   "cell_type": "markdown",
   "metadata": {},
   "source": [
    "This section plots the output. This reads the data exported by the data generation section above."
   ]
  },
  {
   "cell_type": "markdown",
   "metadata": {},
   "source": [
    "### TRAPPIST 1-e with no solubilities"
   ]
  },
  {
   "cell_type": "code",
   "execution_count": null,
   "metadata": {},
   "outputs": [],
   "source": [
    "# Below are used to set the filename of the data to plot\n",
    "plot_iterations = 250 # 10000 # 250\n",
    "surface_temperature = 1800\n",
    "trappist1e_no_sols_path = Path(f\"trappist1e_{surface_temperature}K_no_sols_{plot_iterations}its\")\n",
    "\n",
    "plotter_no_sols = Plotter.read_pickle(trappist1e_no_sols_path.with_suffix('.pkl'))\n",
    "\n",
    "categories: tuple[str,...] = (\"Oxygen fugacity\", \"C/H ratio\", \"H budget\")"
   ]
  },
  {
   "cell_type": "markdown",
   "metadata": {},
   "source": [
    "Major species. These are chosen based on the fact they can contribute more than 25% of the moles of the atmosphere."
   ]
  },
  {
   "cell_type": "code",
   "execution_count": null,
   "metadata": {},
   "outputs": [],
   "source": [
    "axes_spec_major = AxesSpec(xylim=(0, 100), ticks=[0, 25, 50, 75, 100])\n",
    "\n",
    "major_species = {}\n",
    "major_species[\"CO\"] = axes_spec_major\n",
    "major_species[\"CO2\"] = axes_spec_major\n",
    "major_species[\"H2\"] = axes_spec_major\n",
    "major_species[\"H2O\"] = axes_spec_major\n",
    "major_species[\"CH4\"] = axes_spec_major\n",
    "major_species[\"H2S\"] = axes_spec_major\n",
    "\n",
    "major_species_str = \"_\".join(major_species.keys())\n",
    "\n",
    "for category in categories:\n",
    "    category_id: str = category[0]\n",
    "    # By moles\n",
    "    plotter_no_sols.species_pairplot(species=major_species, mass_or_moles='moles', category=category)\n",
    "    plt.savefig(f\"T1e_no_sols_{major_species_str}_by_moles_{category_id}.pdf\", format='pdf')\n",
    "    # By mass\n",
    "    plotter_no_sols.species_pairplot(species=major_species, mass_or_moles='mass', category=category)\n",
    "    plt.savefig(f\"T1e_no_sols_{major_species_str}_by_mass_{category_id}.pdf\", format='pdf')"
   ]
  },
  {
   "cell_type": "markdown",
   "metadata": {},
   "source": [
    "Elements"
   ]
  },
  {
   "cell_type": "code",
   "execution_count": null,
   "metadata": {},
   "outputs": [],
   "source": [
    "axes_spec_major = AxesSpec(xylim=(0, 100), ticks=[0, 25, 50, 75, 100])\n",
    "axes_spec_nitrogen = AxesSpec(xylim=(0, 0.3), ticks=[0, 0.1, 0.2, 0.3])\n",
    "axes_spec_sulfur = AxesSpec(xylim=(0,50), ticks=[0, 10, 20, 30, 40, 50])\n",
    "axes_spec_chlorine = AxesSpec(xylim=(0,6), ticks=[0,2,4,6])\n",
    "\n",
    "elements = {}\n",
    "elements[\"C\"] = axes_spec_major\n",
    "elements[\"H\"] = axes_spec_major\n",
    "elements[\"O\"] = axes_spec_major\n",
    "elements[\"N\"] = axes_spec_nitrogen\n",
    "elements[\"S\"] = axes_spec_sulfur\n",
    "elements[\"Cl\"] = axes_spec_chlorine\n",
    "\n",
    "elements_str = \"_\".join(elements)\n",
    "\n",
    "for category in categories:\n",
    "    category_id: str = category[0]\n",
    "    # By moles\n",
    "    ax = plotter_no_sols.species_pairplot(species=elements, mass_or_moles='moles', category=category)\n",
    "    plt.savefig(f\"T1e_no_sols_{elements_str}_by_moles_{category_id}.pdf\", format='pdf')\n",
    "    # By mass\n",
    "    ax = plotter_no_sols.species_pairplot(species=elements, mass_or_moles='mass', category=category)\n",
    "    plt.savefig(f\"T1e_no_sols_{elements_str}_by_mass_{category_id}.pdf\", format='pdf')"
   ]
  },
  {
   "cell_type": "markdown",
   "metadata": {},
   "source": [
    "Minor species. These all contribute less than 25% of the atmosphere by moles."
   ]
  },
  {
   "cell_type": "code",
   "execution_count": null,
   "metadata": {},
   "outputs": [],
   "source": [
    "minor_species = {}\n",
    "minor_species[\"N2\"] = None\n",
    "minor_species[\"NH3\"] = None\n",
    "minor_species[\"S2\"] = None\n",
    "minor_species[\"SO2\"] = None\n",
    "minor_species[\"SO\"] = None\n",
    "minor_species[\"Cl2\"] = None\n",
    "\n",
    "minor_species_str = \"_\".join(minor_species)\n",
    "\n",
    "for category in categories:\n",
    "    category_id: str = category[0]\n",
    "    # By moles\n",
    "    plotter_no_sols.species_pairplot(species=minor_species, mass_or_moles='moles', category=category, plot_atmosphere=False)\n",
    "    plt.savefig(f\"T1e_no_sols_{minor_species_str}_by_moles_{category_id}.pdf\", format='pdf')\n",
    "    # By mass\n",
    "    plotter_no_sols.species_pairplot(species=minor_species, mass_or_moles='mass', category=category, plot_atmosphere=False)\n",
    "    plt.savefig(f\"T1e_no_sols_{minor_species_str}_by_mass_{category_id}.pdf\", format='pdf')"
   ]
  },
  {
   "cell_type": "markdown",
   "metadata": {},
   "source": [
    "Ratio plots. These are just to sanity check that without considering solubilities the ratios in the atmosphere must correspond exactly to the ratios in the interior (melt)."
   ]
  },
  {
   "cell_type": "code",
   "execution_count": null,
   "metadata": {},
   "outputs": [],
   "source": [
    "plotter_no_sols.ratios_pairplot(['atmosphere','total'], mass_or_moles='moles')\n",
    "plt.savefig(f\"trappist1e_no_sols_element_ratios_by_moles.pdf\", format='pdf')"
   ]
  },
  {
   "cell_type": "code",
   "execution_count": null,
   "metadata": {},
   "outputs": [],
   "source": [
    "plotter_no_sols.ratios_pairplot(['atmosphere','total'], mass_or_moles='mass')\n",
    "plt.savefig(f\"trappist1e_no_sols_element_ratios_by_mass.pdf\", format='pdf')"
   ]
  },
  {
   "cell_type": "markdown",
   "metadata": {},
   "source": [
    "### Trappist 1-e with solubilities"
   ]
  },
  {
   "cell_type": "code",
   "execution_count": null,
   "metadata": {},
   "outputs": [],
   "source": [
    "trappist1e_with_sols_1000_its_path = Path(f\"trappist1e_{surface_temperature}K_with_sols_1000its\")\n",
    "plotter_with_sols = Plotter.read_pickle(trappist1e_with_sols_1000_its_path.with_suffix('.pkl'))"
   ]
  },
  {
   "cell_type": "code",
   "execution_count": null,
   "metadata": {},
   "outputs": [],
   "source": [
    "plotter_with_sols.species_pairplot()"
   ]
  },
  {
   "cell_type": "code",
   "execution_count": null,
   "metadata": {},
   "outputs": [],
   "source": [
    "plotter_with_sols.species_pairplot((\"H2O\", \"H2\", \"CO2\", \"CO\"))"
   ]
  },
  {
   "cell_type": "code",
   "execution_count": null,
   "metadata": {},
   "outputs": [],
   "source": [
    "plotter_with_sols.ratios_pairplot(['atmosphere','total'])"
   ]
  }
 ],
 "metadata": {
  "kernelspec": {
   "display_name": ".venv",
   "language": "python",
   "name": "python3"
  },
  "language_info": {
   "codemirror_mode": {
    "name": "ipython",
    "version": 3
   },
   "file_extension": ".py",
   "mimetype": "text/x-python",
   "name": "python",
   "nbconvert_exporter": "python",
   "pygments_lexer": "ipython3",
   "version": "3.10.13"
  }
 },
 "nbformat": 4,
 "nbformat_minor": 2
}
