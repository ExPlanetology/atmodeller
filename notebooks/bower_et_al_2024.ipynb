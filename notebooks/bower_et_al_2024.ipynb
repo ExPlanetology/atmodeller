{
 "cells": [
  {
   "cell_type": "markdown",
   "metadata": {},
   "source": [
    "# Models from Bower et al. (2024)"
   ]
  },
  {
   "cell_type": "markdown",
   "metadata": {},
   "source": [
    "## Data generation"
   ]
  },
  {
   "cell_type": "markdown",
   "metadata": {},
   "source": [
    "This section generates and exports the output."
   ]
  },
  {
   "cell_type": "code",
   "execution_count": 1,
   "metadata": {},
   "outputs": [],
   "source": [
    "import copy\n",
    "import logging\n",
    "\n",
    "import numpy as np\n",
    "from pathlib import Path\n",
    "\n",
    "from atmodeller import debug_logger, debug_file_logger\n",
    "from atmodeller.constraints import IronWustiteBufferConstraintHirschmann, MassConstraint, SystemConstraints\n",
    "from atmodeller.core import GasSpecies, Species\n",
    "from atmodeller.interior_atmosphere import Planet, InteriorAtmosphereSystem\n",
    "from atmodeller.initial_condition import InitialConditionRegressor, InitialConditionSwitchRegressor, InitialConditionDict, InitialConditionConstant\n",
    "from atmodeller.plot import Plotter\n",
    "from atmodeller.utilities import earth_oceans_to_kg\n",
    "\n",
    "logger = debug_file_logger()\n",
    "# logger.setLevel(logging.INFO)"
   ]
  },
  {
   "cell_type": "markdown",
   "metadata": {},
   "source": [
    "Fixed parameters"
   ]
  },
  {
   "cell_type": "code",
   "execution_count": 2,
   "metadata": {},
   "outputs": [],
   "source": [
    "surface_temperature = 1800\n",
    "number_of_realisations = 4999"
   ]
  },
  {
   "cell_type": "markdown",
   "metadata": {},
   "source": [
    "File paths for output"
   ]
  },
  {
   "cell_type": "code",
   "execution_count": 3,
   "metadata": {},
   "outputs": [],
   "source": [
    "trappist1e_no_sols_path = Path(f\"trappist1e_{surface_temperature}K_no_sols_{number_of_realisations}its\")\n",
    "trappist1e_with_sols_path = Path(f\"trappist1e_{surface_temperature}K_with_sols_{number_of_realisations}its\")"
   ]
  },
  {
   "cell_type": "markdown",
   "metadata": {},
   "source": [
    "Species to consider. These are initially excluding solubility."
   ]
  },
  {
   "cell_type": "code",
   "execution_count": 4,
   "metadata": {},
   "outputs": [
    {
     "name": "stderr",
     "output_type": "stream",
     "text": [
      "[17:37:17 - atmodeller.core                - INFO     ] - Creating GasSpecies H2O using thermodynamic data in JANAF (JANAF name = H2O)\n",
      "[17:37:17 - atmodeller.core                - INFO     ] - Creating GasSpecies H2 using thermodynamic data in JANAF (JANAF name = H2)\n",
      "[17:37:17 - atmodeller.core                - INFO     ] - Creating GasSpecies O2 using thermodynamic data in JANAF (JANAF name = O2)\n",
      "[17:37:17 - atmodeller.core                - INFO     ] - Creating GasSpecies CO using thermodynamic data in JANAF (JANAF name = CO)\n",
      "[17:37:17 - atmodeller.core                - INFO     ] - Creating GasSpecies CO2 using thermodynamic data in JANAF (JANAF name = CO2)\n",
      "[17:37:18 - atmodeller.core                - INFO     ] - Creating GasSpecies CH4 using thermodynamic data in JANAF (JANAF name = CH4)\n",
      "[17:37:18 - atmodeller.core                - INFO     ] - Creating GasSpecies N2 using thermodynamic data in JANAF (JANAF name = N2)\n",
      "[17:37:18 - atmodeller.core                - INFO     ] - Creating GasSpecies NH3 using thermodynamic data in JANAF (JANAF name = H3N)\n",
      "[17:37:18 - atmodeller.core                - INFO     ] - Creating GasSpecies S2 using thermodynamic data in JANAF (JANAF name = S2)\n",
      "[17:37:18 - atmodeller.core                - INFO     ] - Creating GasSpecies H2S using thermodynamic data in JANAF (JANAF name = H2S)\n",
      "[17:37:18 - atmodeller.core                - INFO     ] - Creating GasSpecies SO2 using thermodynamic data in JANAF (JANAF name = O2S)\n",
      "[17:37:18 - atmodeller.core                - INFO     ] - Creating GasSpecies SO using thermodynamic data in JANAF (JANAF name = OS)\n",
      "[17:37:18 - atmodeller.core                - INFO     ] - Creating GasSpecies Cl2 using thermodynamic data in JANAF (JANAF name = Cl2)\n"
     ]
    },
    {
     "data": {
      "text/plain": [
       "Species([GasSpecies(formula='H2O', thermodynamic_dataset=<atmodeller.core.ThermodynamicDatasetJANAF object at 0x11fec3550>, name_in_dataset='H2O', _formula=Formula('H2O'), _thermodynamic_data=ThermodynamicDatasetJANAF.ThermodynamicDataForSpecies(species=..., data_source='JANAF', data=<thermochem.janaf.JanafPhase object at 0x11ff08750>), solubility=<atmodeller.core.NoSolubility object at 0x11fabf310>, solid_melt_distribution_coefficient=0, eos=IdealGas(critical_temperature=1, critical_pressure=1, standard_state_pressure=1)),\n",
       "         GasSpecies(formula='H2', thermodynamic_dataset=<atmodeller.core.ThermodynamicDatasetJANAF object at 0x11f92e5d0>, name_in_dataset='H2', _formula=Formula('H2'), _thermodynamic_data=ThermodynamicDatasetJANAF.ThermodynamicDataForSpecies(species=..., data_source='JANAF', data=<thermochem.janaf.JanafPhase object at 0x11ff748d0>), solubility=<atmodeller.core.NoSolubility object at 0x11faaf6d0>, solid_melt_distribution_coefficient=0, eos=IdealGas(critical_temperature=1, critical_pressure=1, standard_state_pressure=1)),\n",
       "         GasSpecies(formula='O2', thermodynamic_dataset=<atmodeller.core.ThermodynamicDatasetJANAF object at 0x11fb77950>, name_in_dataset='O2', _formula=Formula('O2'), _thermodynamic_data=ThermodynamicDatasetJANAF.ThermodynamicDataForSpecies(species=..., data_source='JANAF', data=<thermochem.janaf.JanafPhase object at 0x11ffdcd90>), solubility=<atmodeller.core.NoSolubility object at 0x11fb77b50>, solid_melt_distribution_coefficient=0, eos=IdealGas(critical_temperature=1, critical_pressure=1, standard_state_pressure=1)),\n",
       "         GasSpecies(formula='CO', thermodynamic_dataset=<atmodeller.core.ThermodynamicDatasetJANAF object at 0x11f851550>, name_in_dataset='CO', _formula=Formula('CO'), _thermodynamic_data=ThermodynamicDatasetJANAF.ThermodynamicDataForSpecies(species=..., data_source='JANAF', data=<thermochem.janaf.JanafPhase object at 0x11ff85210>), solubility=<atmodeller.core.NoSolubility object at 0x12002b050>, solid_melt_distribution_coefficient=0, eos=IdealGas(critical_temperature=1, critical_pressure=1, standard_state_pressure=1)),\n",
       "         GasSpecies(formula='CO2', thermodynamic_dataset=<atmodeller.core.ThermodynamicDatasetJANAF object at 0x11fb2fe50>, name_in_dataset='CO2', _formula=Formula('CO2'), _thermodynamic_data=ThermodynamicDatasetJANAF.ThermodynamicDataForSpecies(species=..., data_source='JANAF', data=<thermochem.janaf.JanafPhase object at 0x120056f50>), solubility=<atmodeller.core.NoSolubility object at 0x11ff9e590>, solid_melt_distribution_coefficient=0, eos=IdealGas(critical_temperature=1, critical_pressure=1, standard_state_pressure=1)),\n",
       "         GasSpecies(formula='CH4', thermodynamic_dataset=<atmodeller.core.ThermodynamicDatasetJANAF object at 0x120092990>, name_in_dataset='CH4', _formula=Formula('CH4'), _thermodynamic_data=ThermodynamicDatasetJANAF.ThermodynamicDataForSpecies(species=..., data_source='JANAF', data=<thermochem.janaf.JanafPhase object at 0x1200a0e10>), solubility=<atmodeller.core.NoSolubility object at 0x1200582d0>, solid_melt_distribution_coefficient=0, eos=IdealGas(critical_temperature=1, critical_pressure=1, standard_state_pressure=1)),\n",
       "         GasSpecies(formula='N2', thermodynamic_dataset=<atmodeller.core.ThermodynamicDatasetJANAF object at 0x11faa1790>, name_in_dataset='N2', _formula=Formula('N2'), _thermodynamic_data=ThermodynamicDatasetJANAF.ThermodynamicDataForSpecies(species=..., data_source='JANAF', data=<thermochem.janaf.JanafPhase object at 0x11feedf10>), solubility=<atmodeller.core.NoSolubility object at 0x1200c4410>, solid_melt_distribution_coefficient=0, eos=IdealGas(critical_temperature=1, critical_pressure=1, standard_state_pressure=1)),\n",
       "         GasSpecies(formula='NH3', thermodynamic_dataset=<atmodeller.core.ThermodynamicDatasetJANAF object at 0x11ffcafd0>, name_in_dataset='H3N', _formula=Formula('NH3'), _thermodynamic_data=ThermodynamicDatasetJANAF.ThermodynamicDataForSpecies(species=..., data_source='JANAF', data=<thermochem.janaf.JanafPhase object at 0x11ffafa50>), solubility=<atmodeller.core.NoSolubility object at 0x1200c4390>, solid_melt_distribution_coefficient=0, eos=IdealGas(critical_temperature=1, critical_pressure=1, standard_state_pressure=1)),\n",
       "         GasSpecies(formula='S2', thermodynamic_dataset=<atmodeller.core.ThermodynamicDatasetJANAF object at 0x1200a4b90>, name_in_dataset='S2', _formula=Formula('S2'), _thermodynamic_data=ThermodynamicDatasetJANAF.ThermodynamicDataForSpecies(species=..., data_source='JANAF', data=<thermochem.janaf.JanafPhase object at 0x11ffad490>), solubility=<atmodeller.core.NoSolubility object at 0x11fc87390>, solid_melt_distribution_coefficient=0, eos=IdealGas(critical_temperature=1, critical_pressure=1, standard_state_pressure=1)),\n",
       "         GasSpecies(formula='H2S', thermodynamic_dataset=<atmodeller.core.ThermodynamicDatasetJANAF object at 0x11fe3ccd0>, name_in_dataset='H2S', _formula=Formula('H2S'), _thermodynamic_data=ThermodynamicDatasetJANAF.ThermodynamicDataForSpecies(species=..., data_source='JANAF', data=<thermochem.janaf.JanafPhase object at 0x1201421d0>), solubility=<atmodeller.core.NoSolubility object at 0x11fc87290>, solid_melt_distribution_coefficient=0, eos=IdealGas(critical_temperature=1, critical_pressure=1, standard_state_pressure=1)),\n",
       "         GasSpecies(formula='SO2', thermodynamic_dataset=<atmodeller.core.ThermodynamicDatasetJANAF object at 0x120142250>, name_in_dataset='O2S', _formula=Formula('SO2'), _thermodynamic_data=ThermodynamicDatasetJANAF.ThermodynamicDataForSpecies(species=..., data_source='JANAF', data=<thermochem.janaf.JanafPhase object at 0x12018bf90>), solubility=<atmodeller.core.NoSolubility object at 0x120142210>, solid_melt_distribution_coefficient=0, eos=IdealGas(critical_temperature=1, critical_pressure=1, standard_state_pressure=1)),\n",
       "         GasSpecies(formula='SO', thermodynamic_dataset=<atmodeller.core.ThermodynamicDatasetJANAF object at 0x11fb31390>, name_in_dataset='OS', _formula=Formula('SO'), _thermodynamic_data=ThermodynamicDatasetJANAF.ThermodynamicDataForSpecies(species=..., data_source='JANAF', data=<thermochem.janaf.JanafPhase object at 0x11ffa7d10>), solubility=<atmodeller.core.NoSolubility object at 0x1201f5d90>, solid_melt_distribution_coefficient=0, eos=IdealGas(critical_temperature=1, critical_pressure=1, standard_state_pressure=1)),\n",
       "         GasSpecies(formula='Cl2', thermodynamic_dataset=<atmodeller.core.ThermodynamicDatasetJANAF object at 0x11feec490>, name_in_dataset='Cl2', _formula=Formula('Cl2'), _thermodynamic_data=ThermodynamicDatasetJANAF.ThermodynamicDataForSpecies(species=..., data_source='JANAF', data=<thermochem.janaf.JanafPhase object at 0x11fef6750>), solubility=<atmodeller.core.NoSolubility object at 0x11feeef50>, solid_melt_distribution_coefficient=0, eos=IdealGas(critical_temperature=1, critical_pressure=1, standard_state_pressure=1))])"
      ]
     },
     "execution_count": 4,
     "metadata": {},
     "output_type": "execute_result"
    }
   ],
   "source": [
    "species = Species()\n",
    "species.append(GasSpecies(formula='H2O'))\n",
    "species.append(GasSpecies(formula='H2'))\n",
    "species.append(GasSpecies(formula='O2'))\n",
    "species.append(GasSpecies(formula='CO'))\n",
    "species.append(GasSpecies(formula='CO2'))\n",
    "species.append(GasSpecies(formula='CH4'))\n",
    "species.append(GasSpecies(formula='N2'))\n",
    "species.append(GasSpecies(formula='NH3'))\n",
    "species.append(GasSpecies(formula='S2'))\n",
    "species.append(GasSpecies(formula='H2S'))\n",
    "species.append(GasSpecies(formula='SO2'))\n",
    "species.append(GasSpecies(formula='SO'))\n",
    "species.append(GasSpecies(formula='Cl2'))\n",
    "species"
   ]
  },
  {
   "cell_type": "markdown",
   "metadata": {},
   "source": [
    "TRAPPIST-1e planet properties\n",
    "\n",
    "Mass and radius measurements from Agol et al. 2021; Mantle mass determined assuming same proportion as Earth"
   ]
  },
  {
   "cell_type": "code",
   "execution_count": 11,
   "metadata": {},
   "outputs": [
    {
     "name": "stderr",
     "output_type": "stream",
     "text": [
      "[17:38:54 - atmodeller.interior_atmosphere - INFO     ] - Creating a new planet\n",
      "[17:38:54 - atmodeller.interior_atmosphere - INFO     ] - mantle_mass = 2.912e+24\n",
      "[17:38:54 - atmodeller.interior_atmosphere - INFO     ] - mantle_melt_fraction = 1.0\n",
      "[17:38:54 - atmodeller.interior_atmosphere - INFO     ] - core_mass_fraction = 0.295334691460966\n",
      "[17:38:54 - atmodeller.interior_atmosphere - INFO     ] - surface_radius = 5861000.0\n",
      "[17:38:54 - atmodeller.interior_atmosphere - INFO     ] - surface_temperature = 1800\n",
      "[17:38:54 - atmodeller.interior_atmosphere - INFO     ] - melt_composition = None\n",
      "[17:38:54 - atmodeller.interior_atmosphere - INFO     ] - planet_mass = 4.1324582957509024e+24\n",
      "[17:38:54 - atmodeller.interior_atmosphere - INFO     ] - mantle_melt_mass = 2.912e+24\n",
      "[17:38:54 - atmodeller.interior_atmosphere - INFO     ] - mantle_solid_mass = 0.0\n",
      "[17:38:54 - atmodeller.interior_atmosphere - INFO     ] - surface_area = 431671430778819.1\n",
      "[17:38:54 - atmodeller.interior_atmosphere - INFO     ] - surface_gravity = 8.029171979537628\n"
     ]
    }
   ],
   "source": [
    "trappist1e = Planet(surface_temperature=surface_temperature, mantle_mass = 2.912E24, surface_radius = 5.861E6)"
   ]
  },
  {
   "cell_type": "markdown",
   "metadata": {},
   "source": [
    "Earth planet properties, which are required to scale the bulk volatile inventories for Trappist-1e. Default parameters are Earth so we only need to specify the temperature."
   ]
  },
  {
   "cell_type": "code",
   "execution_count": 14,
   "metadata": {},
   "outputs": [
    {
     "name": "stderr",
     "output_type": "stream",
     "text": [
      "[18:36:18 - atmodeller.interior_atmosphere - INFO     ] - Creating a new planet\n",
      "[18:36:18 - atmodeller.interior_atmosphere - INFO     ] - mantle_mass = 4.208261222595111e+24\n",
      "[18:36:18 - atmodeller.interior_atmosphere - INFO     ] - mantle_melt_fraction = 1.0\n",
      "[18:36:18 - atmodeller.interior_atmosphere - INFO     ] - core_mass_fraction = 0.295334691460966\n",
      "[18:36:18 - atmodeller.interior_atmosphere - INFO     ] - surface_radius = 6371000.0\n",
      "[18:36:18 - atmodeller.interior_atmosphere - INFO     ] - surface_temperature = 1800\n",
      "[18:36:18 - atmodeller.interior_atmosphere - INFO     ] - melt_composition = None\n",
      "[18:36:18 - atmodeller.interior_atmosphere - INFO     ] - planet_mass = 5.972e+24\n",
      "[18:36:18 - atmodeller.interior_atmosphere - INFO     ] - mantle_melt_mass = 4.208261222595111e+24\n",
      "[18:36:18 - atmodeller.interior_atmosphere - INFO     ] - mantle_solid_mass = 0.0\n",
      "[18:36:18 - atmodeller.interior_atmosphere - INFO     ] - surface_area = 510064471909788.25\n",
      "[18:36:18 - atmodeller.interior_atmosphere - INFO     ] - surface_gravity = 9.819973426224687\n"
     ]
    }
   ],
   "source": [
    "earth = Planet(surface_temperature=surface_temperature)"
   ]
  },
  {
   "cell_type": "markdown",
   "metadata": {},
   "source": [
    "Bulk silicate Earth (BSE) masses of elements in kg \n",
    "\n",
    "References:\n",
    "\n",
    "Hydrogen, Carbon, Nitrogen: Sakuraba et al. 2021\n",
    "\n",
    "Sulfur: Hirschmann et al. 2016\n",
    "\n",
    "Chlorine: Kendrick et al. 2017\n"
   ]
  },
  {
   "cell_type": "code",
   "execution_count": 15,
   "metadata": {},
   "outputs": [
    {
     "data": {
      "text/plain": [
       "{'H': {'min': 1.852e+20, 'max': 1.894e+21},\n",
       " 'C': {'min': 1.767e+20, 'max': 3.072e+21},\n",
       " 'S': {'min': 8.416e+20, 'max': 1.052e+21},\n",
       " 'N': {'min': 3.493e+18, 'max': 1.052e+19},\n",
       " 'Cl': {'min': 7.574e+19, 'max': 1.431e+20}}"
      ]
     },
     "execution_count": 15,
     "metadata": {},
     "output_type": "execute_result"
    }
   ],
   "source": [
    "earth_bse = {\"H\":{'min': 1.852E20,'max': 1.894E21},\n",
    "             \"C\":{'min': 1.767E20, 'max': 3.072E21},\n",
    "             'S':{'min': 8.416E20, 'max': 1.052E21},\n",
    "             'N':{'min': 3.493E18, 'max': 1.052E19},\n",
    "             'Cl': {'min': 7.574E19, 'max': 1.431E20}}\n",
    "\n",
    "earth_bse"
   ]
  },
  {
   "cell_type": "markdown",
   "metadata": {},
   "source": [
    "Compute the reservoir sizes for TRAPPIST 1-e, assuming the same ppmw as Earth:"
   ]
  },
  {
   "cell_type": "code",
   "execution_count": 16,
   "metadata": {},
   "outputs": [
    {
     "data": {
      "text/plain": [
       "{'H': {'min': 1.2815326128149148e+20, 'max': 1.3105954474467865e+21},\n",
       " 'C': {'min': 1.2227149712980315e+20, 'max': 2.1257387616454742e+21},\n",
       " 'S': {'min': 5.8236384824245807e+20, 'max': 7.279548103030726e+20},\n",
       " 'N': {'min': 2.417059080217331e+18, 'max': 7.279548103030726e+18},\n",
       " 'Cl': {'min': 5.240997845280866e+19, 'max': 9.902122942430578e+19}}"
      ]
     },
     "execution_count": 16,
     "metadata": {},
     "output_type": "execute_result"
    }
   ],
   "source": [
    "trappist1e_bse = copy.deepcopy(earth_bse)\n",
    "mass_scale_factor = trappist1e.mantle_mass / earth.mantle_mass\n",
    "\n",
    "for element, values in trappist1e_bse.items():\n",
    "    trappist1e_bse[element] = {key: value*mass_scale_factor for key, value in values.items()}\n",
    "\n",
    "trappist1e_bse"
   ]
  },
  {
   "cell_type": "code",
   "execution_count": 28,
   "metadata": {},
   "outputs": [
    {
     "name": "stdout",
     "output_type": "stream",
     "text": [
      "N: 4.848303591624028e+18\n",
      "S: 6.551593292727653e+20\n",
      "Cl: 7.571560393855723e+19\n"
     ]
    }
   ],
   "source": [
    "\n",
    "trappist1e_bse['H']['avg']=np.mean((trappist1e_bse['H']['min'], trappist1e_bse['H']['max']))\n",
    "trappist1e_bse['C']['avg']=np.mean((trappist1e_bse['C']['min'], trappist1e_bse['C']['max']))\n",
    "trappist1e_bse['N']['avg']=np.mean((trappist1e_bse['N']['min'], trappist1e_bse['N']['max']))\n",
    "trappist1e_bse['S']['avg']=np.mean((trappist1e_bse['S']['min'], trappist1e_bse['S']['max']))\n",
    "trappist1e_bse['Cl']['avg']=np.mean((trappist1e_bse['Cl']['min'], trappist1e_bse['Cl']['max']))\n",
    "\n",
    "print('N:', trappist1e_bse['N']['avg'])\n",
    "print('S:', trappist1e_bse['S']['avg'])\n",
    "print('Cl:', trappist1e_bse['Cl']['avg'])"
   ]
  },
  {
   "cell_type": "markdown",
   "metadata": {},
   "source": [
    "Now set up the main driver of the Monte Carlo (MC) approach. This establishes the ranges over which we sample certain properties."
   ]
  },
  {
   "cell_type": "code",
   "execution_count": 27,
   "metadata": {},
   "outputs": [],
   "source": [
    "def monte_carlo(interior_atmosphere: InteriorAtmosphereSystem, bse: dict, number_of_realisations:int=100):\n",
    "    \"\"\"Monte Carlo driver\n",
    "    \n",
    "    Args:\n",
    "        interior_atmosphere: An interior-atmosphere system\n",
    "        bse: Dictionary of element masses, fixed to the ppmw of the bulk silicate Earth\n",
    "        number_of_realisation: Number of simulations to perform\n",
    "    \"\"\"\n",
    "\n",
    "    # Parameters are normally distributed between bounds.\n",
    "    number_ocean_moles = np.random.uniform(0.1, 10, number_of_realisations)\n",
    "    ch_ratios = np.random.uniform(0.1, 10, number_of_realisations)\n",
    "    fo2_shifts = np.random.uniform(-5, 5, number_of_realisations)\n",
    "\n",
    "    for realisation in range(number_of_realisations):\n",
    "\n",
    "        mass_H = earth_oceans_to_kg(number_ocean_moles[realisation])\n",
    "        mass_C = ch_ratios[realisation] * mass_H\n",
    "        constraints = SystemConstraints([\n",
    "            MassConstraint(species=\"H\", value=mass_H),\n",
    "            MassConstraint(species=\"C\", value=mass_C),\n",
    "            MassConstraint(species=\"N\", value=trappist1e_bse['N']['avg']),\n",
    "            MassConstraint(species=\"S\", value=trappist1e_bse['S']['avg']),\n",
    "            MassConstraint(species=\"Cl\", value=trappist1e_bse['Cl']['avg']),\n",
    "            IronWustiteBufferConstraintHirschmann(log10_shift=fo2_shifts[realisation])\n",
    "        ])\n",
    "\n",
    "        # Extra quantities to write to the output\n",
    "        # For example, it's often helpful to have the constraints expressed in a more convenient\n",
    "        # form for analysis and plotting.\n",
    "        extra = {'fO2_shift': fo2_shifts[realisation], 'C/H ratio': ch_ratios[realisation],\n",
    "            'Number of ocean moles': number_ocean_moles[realisation]}\n",
    "\n",
    "        interior_atmosphere.solve(constraints, extra_output=extra, tol=1e-5)"
   ]
  },
  {
   "cell_type": "markdown",
   "metadata": {},
   "source": [
    "### Trappist 1-e"
   ]
  },
  {
   "cell_type": "markdown",
   "metadata": {},
   "source": [
    "### CHONSCl with no solubilities"
   ]
  },
  {
   "cell_type": "markdown",
   "metadata": {},
   "source": [
    "If we have no initial data to begin from, start with a dictionary of initial guesses and then switch to a regressor."
   ]
  },
  {
   "cell_type": "code",
   "execution_count": null,
   "metadata": {},
   "outputs": [],
   "source": [
    "# values = {'O2': 1E-8, 'H2': 100, 'H2O': 100, 'CO2': 100, 'CO': 500, 'S2': 1}\n",
    "# values = {'O2': 1E9, 'H2': 1.0, 'H2O': 1, 'CO2': 1, 'CO': 5, 'S2': 1}\n",
    "initial_condition_start = InitialConditionConstant()\n",
    "# initial_condition = InitialConditionSwitchRegressor(initial_condition_start, fit=True, fit_batch_size=50, partial_fit=True, partial_fit_batch_size=50)"
   ]
  },
  {
   "cell_type": "markdown",
   "metadata": {},
   "source": [
    "Otherwise, if data is available then train a network and use this from the start."
   ]
  },
  {
   "cell_type": "code",
   "execution_count": null,
   "metadata": {},
   "outputs": [],
   "source": [
    "trappist1e_with_sols_200_its_path = Path(f\"trappist1e_{surface_temperature}K_no_sols_1095its\")\n",
    "initial_condition = InitialConditionRegressor.from_pickle(trappist1e_with_sols_200_its_path.with_suffix(\".pkl\"), fit=False, fit_batch_size=100, partial_fit=True, partial_fit_batch_size=100)"
   ]
  },
  {
   "cell_type": "code",
   "execution_count": null,
   "metadata": {},
   "outputs": [],
   "source": [
    "trappist1e_no_sols = InteriorAtmosphereSystem(species=species, initial_condition=initial_condition_start, planet=trappist1e)\n",
    "monte_carlo(trappist1e_no_sols, trappist1e_bse, number_of_realisations=number_of_realisations)"
   ]
  },
  {
   "cell_type": "code",
   "execution_count": null,
   "metadata": {},
   "outputs": [],
   "source": [
    "trappist1e_no_sols.output(file_prefix=trappist1e_no_sols_path, to_pickle=True, to_excel=True)"
   ]
  },
  {
   "cell_type": "markdown",
   "metadata": {},
   "source": [
    "### CHONSCl with solubilities"
   ]
  },
  {
   "cell_type": "markdown",
   "metadata": {},
   "source": [
    "This will set all the solubilities (where possible) to conform to a basaltic composition."
   ]
  },
  {
   "cell_type": "code",
   "execution_count": null,
   "metadata": {},
   "outputs": [],
   "source": [
    "trappist1e.melt_composition = 'basalt'"
   ]
  },
  {
   "cell_type": "markdown",
   "metadata": {},
   "source": [
    "The pickle file output for the model without solubilities (above) is used to inform the initial condition. But because solubilities can strongly affect the solution, we use the `species_fill` dictionary to modify some initial guesses."
   ]
  },
  {
   "cell_type": "code",
   "execution_count": null,
   "metadata": {},
   "outputs": [],
   "source": [
    "species_fill = {'Cl2': 1E-6, 'H2': 1, 'H2O': 1, 'S2': 1E-6, 'SO2': 1E-6, 'SO': 1E-6}\n",
    "initial_condition = InitialConditionRegressor.from_pickle(trappist1e_no_sols_path.with_suffix(\".pkl\"), species_fill=species_fill, fit=True, fit_batch_size=100, partial_fit=True, partial_fit_batch_size=50)"
   ]
  },
  {
   "cell_type": "markdown",
   "metadata": {},
   "source": [
    "Alternatively, here we can instead use previous output to train the network and either run with a tighter tolerance and/or for more iterations"
   ]
  },
  {
   "cell_type": "code",
   "execution_count": null,
   "metadata": {},
   "outputs": [],
   "source": [
    "trappist1e_with_sols_200_its_path = Path(f\"trappist1e_{surface_temperature}K_with_sols_200its\")\n",
    "initial_condition = InitialConditionRegressor.from_pickle(trappist1e_with_sols_200_its_path.with_suffix(\".pkl\"), fit=False, fit_batch_size=100, partial_fit=True, partial_fit_batch_size=50)"
   ]
  },
  {
   "cell_type": "code",
   "execution_count": null,
   "metadata": {},
   "outputs": [],
   "source": [
    "trappist1e_with_sols = InteriorAtmosphereSystem(species=species, initial_condition=initial_condition, planet=trappist1e)\n",
    "monte_carlo(trappist1e_with_sols, trappist1e_bse, number_of_realisations=number_of_realisations)"
   ]
  },
  {
   "cell_type": "code",
   "execution_count": null,
   "metadata": {},
   "outputs": [],
   "source": [
    "trappist1e_with_sols.output(file_prefix=trappist1e_with_sols_path, to_pickle=True, to_excel=True)"
   ]
  },
  {
   "cell_type": "markdown",
   "metadata": {},
   "source": [
    "## Data plotting"
   ]
  },
  {
   "cell_type": "markdown",
   "metadata": {},
   "source": [
    "You can just run this import rather than having to return to the top of the notebook to do the required imports"
   ]
  },
  {
   "cell_type": "code",
   "execution_count": null,
   "metadata": {},
   "outputs": [],
   "source": [
    "from atmodeller.plot import Plotter\n",
    "import matplotlib.pyplot as plt\n",
    "from pathlib import Path\n",
    "\n",
    "import numpy as np"
   ]
  },
  {
   "cell_type": "markdown",
   "metadata": {},
   "source": [
    "This section plots the output. This reads the data exported by the data generation section above."
   ]
  },
  {
   "cell_type": "markdown",
   "metadata": {},
   "source": [
    "### TRAPPIST 1-e with no solubilities"
   ]
  },
  {
   "cell_type": "code",
   "execution_count": null,
   "metadata": {},
   "outputs": [],
   "source": [
    "# Below are used to set the filename of the data to plot\n",
    "plot_iterations = 5000\n",
    "surface_temperature = 1800\n",
    "trappist1e_no_sols_1000_its_path = Path(f\"trappist1e_{surface_temperature}K_no_sols_{plot_iterations}its\")\n",
    "\n",
    "plotter_no_sols = Plotter.read_pickle(trappist1e_no_sols_1000_its_path.with_suffix('.pkl'))\n",
    "\n",
    "major_species = (\"CO\", \"CO2\", \"H2\", \"H2O\")\n",
    "major_species_str = \"_\".join(major_species)\n",
    "\n",
    "elements = (\"C\", \"H\", \"O\", \"N\")\n",
    "elements_str = \"_\".join(elements)\n",
    "\n",
    "categories: tuple[str,...] = (\"fO2\", \"CH\", \"H\")"
   ]
  },
  {
   "cell_type": "markdown",
   "metadata": {},
   "source": [
    "Major species"
   ]
  },
  {
   "cell_type": "code",
   "execution_count": null,
   "metadata": {},
   "outputs": [],
   "source": [
    "for category in categories:\n",
    "    plotter_no_sols.species_pairplot(major_species, mass_or_moles='moles', category=category)\n",
    "    plt.savefig(f\"trappist1e_no_sols_{major_species_str}_by_moles_{category}.pdf\", format='pdf')\n",
    "    plotter_no_sols.species_pairplot(major_species, mass_or_moles='mass', category=category)\n",
    "    plt.savefig(f\"trappist1e_no_sols_{major_species_str}_by_mass_{category}.pdf\", format='pdf')"
   ]
  },
  {
   "cell_type": "code",
   "execution_count": null,
   "metadata": {},
   "outputs": [],
   "source": [
    "# The axes adjustments are for N, which has a very low abundance.\n",
    "N_min = 0\n",
    "N_max = 0.25\n",
    "N_step = 0.05\n",
    "N_ticks = np.arange(N_min, N_max+0.001, N_step)\n",
    "N_ticksx = np.arange(N_min, N_max+0.001, 0.1)\n",
    "\n",
    "for category in categories:\n",
    "    ax = plotter_no_sols.species_pairplot(elements, mass_or_moles='moles', category=category)\n",
    "    ax.axes[-1][-1].set_xlim(N_min, N_max)\n",
    "    ax.axes[-1][0].set_ylim(N_min, N_max)\n",
    "    ax.axes[-1][-1].set_xticks(N_ticksx)\n",
    "    ax.axes[-1][0].set_yticks(N_ticks)\n",
    "    plt.savefig(f\"trappist1e_no_sols_{elements_str}_by_moles_{category}.pdf\", format='pdf')\n",
    "    ax = plotter_no_sols.species_pairplot(elements, mass_or_moles='mass', category=category)\n",
    "    ax.axes[-1][-1].set_xlim(N_min, N_max)\n",
    "    ax.axes[-1][0].set_ylim(N_min, N_max)\n",
    "    ax.axes[-1][-1].set_xticks(N_ticksx)\n",
    "    ax.axes[-1][0].set_yticks(N_ticks)\n",
    "    plt.savefig(f\"trappist1e_no_sols_{elements_str}_by_mass_{category}.pdf\", format='pdf')"
   ]
  },
  {
   "cell_type": "markdown",
   "metadata": {},
   "source": [
    "Ratio plots. These are just to sanity check that without considering solubilities the ratios in the atmosphere must correspond exactly to the ratios in the interior (melt)."
   ]
  },
  {
   "cell_type": "code",
   "execution_count": null,
   "metadata": {},
   "outputs": [],
   "source": [
    "plotter_no_sols.ratios_pairplot(['atmosphere','total'], mass_or_moles='moles')\n",
    "plt.savefig(f\"trappist1e_no_sols_ratios_by_moles.pdf\", format='pdf')"
   ]
  },
  {
   "cell_type": "code",
   "execution_count": null,
   "metadata": {},
   "outputs": [],
   "source": [
    "plotter_no_sols.ratios_pairplot(['atmosphere','total'], mass_or_moles='mass')\n",
    "plt.savefig(f\"trappist1e_no_sols_ratios_by_mass.pdf\", format='pdf')"
   ]
  },
  {
   "cell_type": "markdown",
   "metadata": {},
   "source": [
    "### Trappist 1-e with solubilities"
   ]
  },
  {
   "cell_type": "code",
   "execution_count": null,
   "metadata": {},
   "outputs": [],
   "source": [
    "trappist1e_with_sols_1000_its_path = Path(f\"trappist1e_{surface_temperature}K_with_sols_1000its\")\n",
    "plotter_with_sols = Plotter.read_pickle(trappist1e_with_sols_1000_its_path.with_suffix('.pkl'))"
   ]
  },
  {
   "cell_type": "code",
   "execution_count": null,
   "metadata": {},
   "outputs": [],
   "source": [
    "plotter_with_sols.species_pairplot()"
   ]
  },
  {
   "cell_type": "code",
   "execution_count": null,
   "metadata": {},
   "outputs": [],
   "source": [
    "plotter_with_sols.species_pairplot((\"H2O\", \"H2\", \"CO2\", \"CO\"))"
   ]
  },
  {
   "cell_type": "code",
   "execution_count": null,
   "metadata": {},
   "outputs": [],
   "source": [
    "plotter_with_sols.ratios_pairplot(['atmosphere','total'])"
   ]
  }
 ],
 "metadata": {
  "kernelspec": {
   "display_name": ".venv",
   "language": "python",
   "name": "python3"
  },
  "language_info": {
   "codemirror_mode": {
    "name": "ipython",
    "version": 3
   },
   "file_extension": ".py",
   "mimetype": "text/x-python",
   "name": "python",
   "nbconvert_exporter": "python",
   "pygments_lexer": "ipython3",
   "version": "3.11.3"
  }
 },
 "nbformat": 4,
 "nbformat_minor": 2
}
