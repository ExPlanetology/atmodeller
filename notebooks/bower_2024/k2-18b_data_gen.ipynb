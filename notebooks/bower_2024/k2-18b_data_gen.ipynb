{
    "cells": [
        {
            "cell_type": "markdown",
            "metadata": {},
            "source": [
                "# Data generation for K2-18b models from Bower et al. (2024)"
            ]
        },
        {
            "cell_type": "code",
            "execution_count": null,
            "metadata": {},
            "outputs": [],
            "source": [
                "import logging\n",
                "\n",
                "import numpy as np\n",
                "from pathlib import Path\n",
                "\n",
                "from atmodeller import debug_logger\n",
                "from atmodeller.constraints import ElementMassConstraint, SystemConstraints, BufferedFugacityConstraint\n",
                "from atmodeller.thermodata.redox_buffers import IronWustiteBuffer\n",
                "from atmodeller.core import GasSpecies, Species\n",
                "from atmodeller.interior_atmosphere import Planet, InteriorAtmosphereSystem\n",
                "from atmodeller.initial_solution import InitialSolutionRegressor, InitialSolutionSwitchRegressor, InitialSolutionDict\n",
                "from atmodeller.utilities import earth_oceans_to_kg\n",
                "from atmodeller.eos.saxena import get_saxena_eos_models\n",
                "from atmodeller.eos.holland import get_holland_eos_models\n",
                "\n",
                "from atmodeller.eos.holley import get_holley_eos_models\n",
                "from atmodeller.solubility.hydrogen_species import H2_basalt_hirschmann, H2O_basalt_mitchell\n",
                "from atmodeller.solubility.carbon_species import CO2_basalt_dixon, CO_basalt_yoshioka, CH4_basalt_ardia\n",
                "from atmodeller.solubility.other_species import N2_basalt_libourel\n",
                "\n",
                "logger = debug_logger()\n",
                "logger.setLevel(logging.INFO)"
            ]
        },
        {
            "cell_type": "markdown",
            "metadata": {},
            "source": [
                "Parameters for the simulations"
            ]
        },
        {
            "cell_type": "code",
            "execution_count": null,
            "metadata": {},
            "outputs": [],
            "source": [
                "surface_temperature = 2000\n",
                "number_of_realisations = 5000\n",
                "training_steps = 250\n",
                "k218b_planet_mass = 5.15211E25\n",
                "k218b_surface_radius = 1.6647E7"
            ]
        },
        {
            "cell_type": "code",
            "execution_count": null,
            "metadata": {},
            "outputs": [],
            "source": [
                "def monte_carlo(interior_atmosphere: InteriorAtmosphereSystem, O2_g: GasSpecies,\n",
                "                number_of_realisations:int=100, reduced: bool|None = None):\n",
                "    \"\"\"Monte Carlo driver\n",
                "    \n",
                "    Args:\n",
                "        interior_atmosphere: An interior-atmosphere system\n",
                "        O2_g: The O2 gas species\n",
                "        number_of_realisation: Number of simulations to perform\n",
                "        reduced: If True, only solve for reduced cases. If False, only solve for oxidised cases.\n",
                "            Otherwise, solve for all. Defaults to None, meaning solve for all.\n",
                "    \"\"\"\n",
                "\n",
                "    # Parameters are normally distributed between bounds.\n",
                "    # C/H and N/H ratios explore a range up to 2X BSE values.\n",
                "    # The total H mass explores a range similar to Shorttle et al. (2024).\n",
                "    number_ocean_moles = np.random.uniform(1, 3500, number_of_realisations)\n",
                "    ch_ratios = np.random.uniform(0.05, 3.25, number_of_realisations)\n",
                "    nh_ratios = np.random.uniform(0.001, 0.015, number_of_realisations)\n",
                "\n",
                "    fo2_min: float = -5\n",
                "    fo2_max: float = 5\n",
                "    if reduced is True:\n",
                "        fo2_max = 0\n",
                "    elif reduced is False:\n",
                "        fo2_min = 0\n",
                "    fo2_shifts = np.random.uniform(fo2_min, fo2_max, number_of_realisations)\n",
                "\n",
                "    for realisation in range(number_of_realisations):\n",
                "\n",
                "        mass_H = earth_oceans_to_kg(number_ocean_moles[realisation])\n",
                "        mass_C = ch_ratios[realisation] * mass_H\n",
                "        mass_N = nh_ratios[realisation] * mass_H\n",
                "        constraints = SystemConstraints([\n",
                "            ElementMassConstraint(\"H\", mass_H),\n",
                "            ElementMassConstraint(\"C\", mass_C),\n",
                "            ElementMassConstraint(\"N\", mass_N),\n",
                "            BufferedFugacityConstraint(O2_g, IronWustiteBuffer(log10_shift=fo2_shifts[realisation], \n",
                "                evaluation_pressure=1))\n",
                "        ])\n",
                "\n",
                "        # Extra quantities to write to the output\n",
                "        # For example, it's often helpful to have the constraints expressed in a more convenient\n",
                "        # form for analysis and plotting.\n",
                "        extra = {'fO2_shift': fo2_shifts[realisation], 'C/H ratio': ch_ratios[realisation], \n",
                "                 'N/H ratio': nh_ratios[realisation], \n",
                "                 'Number of ocean moles': number_ocean_moles[realisation]}\n",
                "\n",
                "        interior_atmosphere.solve(constraints, extra_output=extra, factor=0.1, tol=1e-5, errors=\"ignore\")"
            ]
        },
        {
            "cell_type": "markdown",
            "metadata": {},
            "source": [
                "Planet properties"
            ]
        },
        {
            "cell_type": "code",
            "execution_count": null,
            "metadata": {},
            "outputs": [],
            "source": [
                "k218b = Planet(surface_temperature=surface_temperature, planet_mass=k218b_planet_mass, surface_radius=k218b_surface_radius)"
            ]
        },
        {
            "cell_type": "markdown",
            "metadata": {},
            "source": [
                "Set paths"
            ]
        },
        {
            "cell_type": "code",
            "execution_count": null,
            "metadata": {},
            "outputs": [],
            "source": [
                "k218b_ideal_no_sols_training_path = Path(f\"k218b_{surface_temperature}K_ideal_no_sols_{training_steps}its\")\n",
                "k218b_ideal_no_sols_path = Path(f\"k218b_{surface_temperature}K_ideal_no_sols_{number_of_realisations}its\")\n",
                "k218b_ideal_with_sols_training_path = Path(f\"k218b_{surface_temperature}K_ideal_with_sols_{training_steps}its\")\n",
                "k218b_ideal_with_sols_path = Path(f\"k218b_{surface_temperature}K_ideal_with_sols_{number_of_realisations}its\")\n",
                "k218b_real_red_with_sols_training_path = Path(f\"k218b_{surface_temperature}K_real_red_with_sols_{training_steps}its\")\n",
                "k218b_real_red_with_sols_path = Path(f\"k218b_{surface_temperature}K_real_red_with_sols_{number_of_realisations}its\")\n",
                "k218b_real_oxi_with_sols_training_path = Path(f\"k218b_{surface_temperature}K_real_oxi_with_sols_{training_steps}its\")\n",
                "k218b_real_oxi_with_sols_path = Path(f\"k218b_{surface_temperature}K_real_oxi_with_sols_{number_of_realisations}its\")"
            ]
        },
        {
            "cell_type": "markdown",
            "metadata": {},
            "source": [
                "## Ideal gas"
            ]
        },
        {
            "cell_type": "code",
            "execution_count": null,
            "metadata": {},
            "outputs": [],
            "source": [
                "H2O_g = GasSpecies(\"H2O\")\n",
                "H2_g = GasSpecies(\"H2\")\n",
                "O2_g = GasSpecies(\"O2\")\n",
                "CO_g = GasSpecies(\"CO\")\n",
                "CO2_g = GasSpecies(\"CO2\")\n",
                "CH4_g = GasSpecies(\"CH4\")\n",
                "N2_g = GasSpecies(\"N2\")\n",
                "NH3_g = GasSpecies(\"NH3\")\n",
                "\n",
                "species = Species([H2O_g, H2_g, O2_g, CO_g, CO2_g, CH4_g, N2_g, NH3_g])"
            ]
        },
        {
            "cell_type": "markdown",
            "metadata": {},
            "source": [
                "### No solubilities"
            ]
        },
        {
            "cell_type": "markdown",
            "metadata": {},
            "source": [
                "Start with a dictionary of initial guesses and then switch to a regressor to provide a training dataset."
            ]
        },
        {
            "cell_type": "code",
            "execution_count": null,
            "metadata": {},
            "outputs": [],
            "source": [
                "values = {H2_g: 1000.0, H2O_g: 1000.0}\n",
                "initial_solution_start = InitialSolutionDict(values, species=species)\n",
                "initial_solution_training = InitialSolutionSwitchRegressor(initial_solution_start, species=species, fit=True, fit_batch_size=50, partial_fit=True, partial_fit_batch_size=100)"
            ]
        },
        {
            "cell_type": "markdown",
            "metadata": {},
            "source": [
                "Now run this training model and save the output to a pickle file."
            ]
        },
        {
            "cell_type": "code",
            "execution_count": null,
            "metadata": {},
            "outputs": [],
            "source": [
                "k218b_ideal_no_sols_training = InteriorAtmosphereSystem(species=species, initial_solution=initial_solution_training, planet=k218b)\n",
                "monte_carlo(k218b_ideal_no_sols_training, O2_g=O2_g, number_of_realisations=training_steps)\n",
                "k218b_ideal_no_sols_training.output(file_prefix=k218b_ideal_no_sols_training_path, to_pickle=True, to_excel=True);"
            ]
        },
        {
            "cell_type": "markdown",
            "metadata": {},
            "source": [
                "Now, we can use the training output generated above to train a network and use this to improve convergence and speed up the computation of the final run."
            ]
        },
        {
            "cell_type": "code",
            "execution_count": null,
            "metadata": {},
            "outputs": [],
            "source": [
                "initial_solution_full = InitialSolutionRegressor.from_pickle(k218b_ideal_no_sols_training_path.with_suffix(\".pkl\"), species=species, fit=False, partial_fit=True, partial_fit_batch_size=1000)"
            ]
        },
        {
            "cell_type": "markdown",
            "metadata": {},
            "source": [
                "Run the full model and export the data."
            ]
        },
        {
            "cell_type": "code",
            "execution_count": null,
            "metadata": {},
            "outputs": [],
            "source": [
                "k218b_ideal_no_sols = InteriorAtmosphereSystem(species=species, initial_solution=initial_solution_full, planet=k218b)\n",
                "monte_carlo(k218b_ideal_no_sols, O2_g=O2_g, number_of_realisations=number_of_realisations)\n",
                "k218b_ideal_no_sols.output(file_prefix=k218b_ideal_no_sols_path, to_pickle=True, to_excel=True)"
            ]
        },
        {
            "cell_type": "markdown",
            "metadata": {},
            "source": [
                "### With solubilities"
            ]
        },
        {
            "cell_type": "markdown",
            "metadata": {},
            "source": [
                "This will set all the solubilities (where possible) to conform to a basaltic composition. Note that once this is set the solubilities are always applied to the planet."
            ]
        },
        {
            "cell_type": "code",
            "execution_count": null,
            "metadata": {},
            "outputs": [],
            "source": [
                "k218b.melt_composition = 'basalt'"
            ]
        },
        {
            "cell_type": "markdown",
            "metadata": {},
            "source": [
                "The pickle file output for the training model without solubilities (above) is used to inform the initial condition for the training set with solubilities, but because solubilities can strongly affect the solution, we use the `species_fill` dictionary to modify some initial guesses."
            ]
        },
        {
            "cell_type": "code",
            "execution_count": null,
            "metadata": {},
            "outputs": [],
            "source": [
                "species_fill = {H2O_g: 50}\n",
                "initial_solution_training = InitialSolutionRegressor.from_pickle(k218b_ideal_no_sols_training_path.with_suffix(\".pkl\"), species=species, species_fill=species_fill, fit=True, fit_batch_size=50, partial_fit=True, partial_fit_batch_size=25)"
            ]
        },
        {
            "cell_type": "markdown",
            "metadata": {},
            "source": [
                "Run the training model and save the output to a pickle file."
            ]
        },
        {
            "cell_type": "code",
            "execution_count": null,
            "metadata": {},
            "outputs": [],
            "source": [
                "k218b_ideal_with_sols_training = InteriorAtmosphereSystem(species=species, initial_solution=initial_solution_training, planet=k218b)\n",
                "monte_carlo(k218b_ideal_with_sols_training, O2_g=O2_g, number_of_realisations=training_steps)\n",
                "k218b_ideal_with_sols_training.output(file_prefix=k218b_ideal_with_sols_training_path, to_pickle=True, to_excel=True);"
            ]
        },
        {
            "cell_type": "markdown",
            "metadata": {},
            "source": [
                "Now, we can use the training output generated above to train a network and use this to improve convergence and speed up the computation of the final run."
            ]
        },
        {
            "cell_type": "code",
            "execution_count": null,
            "metadata": {},
            "outputs": [],
            "source": [
                "initial_solution_full = InitialSolutionRegressor.from_pickle(k218b_ideal_with_sols_training_path.with_suffix(\".pkl\"), species=species, fit=False, partial_fit=True, partial_fit_batch_size=1000)"
            ]
        },
        {
            "cell_type": "markdown",
            "metadata": {},
            "source": [
                "Run the full model and export the data."
            ]
        },
        {
            "cell_type": "code",
            "execution_count": null,
            "metadata": {},
            "outputs": [],
            "source": [
                "k218b_ideal_with_sols = InteriorAtmosphereSystem(species=species, initial_solution=initial_solution_full, planet=k218b)\n",
                "monte_carlo(k218b_ideal_with_sols, O2_g=O2_g, number_of_realisations=number_of_realisations)\n",
                "k218b_ideal_with_sols.output(file_prefix=k218b_ideal_with_sols_path, to_pickle=True, to_excel=True)"
            ]
        },
        {
            "cell_type": "markdown",
            "metadata": {},
            "source": [
                "## Real gas"
            ]
        },
        {
            "cell_type": "markdown",
            "metadata": {},
            "source": [
                "We redefine the planet to reset the solubility laws applied for the ideal gas case with solubilities."
            ]
        },
        {
            "cell_type": "code",
            "execution_count": null,
            "metadata": {},
            "outputs": [],
            "source": [
                "k218b = Planet(surface_temperature=surface_temperature, planet_mass=k218b_planet_mass, surface_radius=k218b_surface_radius)"
            ]
        },
        {
            "cell_type": "markdown",
            "metadata": {},
            "source": [
                "The solubilities are set below manually to use the Mitchell H2O law, which is not the default law for basaltic compositions in the composition dictionary applied for ideal cases."
            ]
        },
        {
            "cell_type": "code",
            "execution_count": null,
            "metadata": {},
            "outputs": [],
            "source": [
                "eos_holland = get_holland_eos_models() \n",
                "eos_saxena = get_saxena_eos_models()\n",
                "eos_holley = get_holley_eos_models()\n",
                "\n",
                "H2O_g = GasSpecies(\"H2O\", solubility=H2O_basalt_mitchell(), eos=eos_holland[\"H2O\"])\n",
                "H2_g = GasSpecies(\"H2\", solubility=H2_basalt_hirschmann(), eos=eos_saxena[\"H2\"])\n",
                "O2_g = GasSpecies(\"O2\")\n",
                "CO_g = GasSpecies(\"CO\", solubility=CO_basalt_yoshioka(), eos=eos_holland[\"CO\"])\n",
                "CO2_g = GasSpecies(\"CO2\", solubility=CO2_basalt_dixon(), eos=eos_holland[\"CO2\"])\n",
                "CH4_g = GasSpecies(\"CH4\", solubility=CH4_basalt_ardia(), eos=eos_holland[\"CH4\"])\n",
                "N2_g = GasSpecies(\"N2\", solubility=N2_basalt_libourel())\n",
                "NH3_g = GasSpecies(\"NH3\")\n",
                "\n",
                "species: Species = Species([H2O_g, H2_g, O2_g, CO_g, CO2_g, CH4_g, N2_g, NH3_g])"
            ]
        },
        {
            "cell_type": "markdown",
            "metadata": {},
            "source": [
                "### With solubilities"
            ]
        },
        {
            "cell_type": "markdown",
            "metadata": {},
            "source": [
                "#### Reduced cases"
            ]
        },
        {
            "cell_type": "code",
            "execution_count": null,
            "metadata": {},
            "outputs": [],
            "source": [
                "values = {H2_g: 1000, H2O_g: 10, CO2_g:10, CO_g:100, CH4_g:100, N2_g:1, NH3_g:10}\n",
                "initial_solution_start = InitialSolutionDict(value=values, species=species)"
            ]
        },
        {
            "cell_type": "markdown",
            "metadata": {},
            "source": [
                "Run the training model and save the output to a pickle file."
            ]
        },
        {
            "cell_type": "code",
            "execution_count": null,
            "metadata": {},
            "outputs": [],
            "source": [
                "k218b_real_red_with_sols_training = InteriorAtmosphereSystem(species=species, initial_solution=initial_solution_start, planet=k218b)\n",
                "monte_carlo(k218b_real_red_with_sols_training, O2_g=O2_g, number_of_realisations=training_steps, reduced=True)\n",
                "k218b_real_red_with_sols_training.output(file_prefix=k218b_real_red_with_sols_training_path, to_pickle=True, to_excel=True);"
            ]
        },
        {
            "cell_type": "markdown",
            "metadata": {},
            "source": [
                "See how many solves failed (but these are ignored by default)."
            ]
        },
        {
            "cell_type": "code",
            "execution_count": null,
            "metadata": {},
            "outputs": [],
            "source": [
                "k218b_real_red_with_sols_training.failed_solves;"
            ]
        },
        {
            "cell_type": "markdown",
            "metadata": {},
            "source": [
                "Now, we can use the training output generated above to train a network and use this to improve convergence and speed up the computation of the final run."
            ]
        },
        {
            "cell_type": "code",
            "execution_count": null,
            "metadata": {},
            "outputs": [],
            "source": [
                "initial_solution_full = InitialSolutionRegressor.from_pickle(k218b_real_red_with_sols_training_path.with_suffix(\".pkl\"), species=species, fit=False, partial_fit=True, partial_fit_batch_size=1000)"
            ]
        },
        {
            "cell_type": "markdown",
            "metadata": {},
            "source": [
                "Run the full model and export the data."
            ]
        },
        {
            "cell_type": "code",
            "execution_count": null,
            "metadata": {},
            "outputs": [],
            "source": [
                "k218b_real_red_with_sols = InteriorAtmosphereSystem(species=species, initial_solution=initial_solution_full, planet=k218b)\n",
                "monte_carlo(k218b_real_red_with_sols, O2_g=O2_g, number_of_realisations=number_of_realisations, reduced=True)\n",
                "k218b_real_red_with_sols.output(file_prefix=k218b_real_red_with_sols_path, to_pickle=True, to_excel=True)"
            ]
        },
        {
            "cell_type": "markdown",
            "metadata": {},
            "source": [
                "Report the number of failed solves."
            ]
        },
        {
            "cell_type": "code",
            "execution_count": null,
            "metadata": {},
            "outputs": [],
            "source": [
                "k218b_real_red_with_sols.failed_solves;"
            ]
        },
        {
            "cell_type": "markdown",
            "metadata": {},
            "source": [
                "#### Oxidised cases"
            ]
        },
        {
            "cell_type": "code",
            "execution_count": null,
            "metadata": {},
            "outputs": [],
            "source": [
                "values = {H2_g: 10, H2O_g: 100, CO2_g:1000, CO_g:100, CH4_g:10, N2_g:1, NH3_g:1}\n",
                "initial_solution_start = InitialSolutionDict(value=values, species=species)"
            ]
        },
        {
            "cell_type": "markdown",
            "metadata": {},
            "source": [
                "Run the training model and save the output to a pickle file."
            ]
        },
        {
            "cell_type": "code",
            "execution_count": null,
            "metadata": {},
            "outputs": [],
            "source": [
                "k218b_real_oxi_with_sols_training = InteriorAtmosphereSystem(species=species, initial_solution=initial_solution_start, planet=k218b)\n",
                "monte_carlo(k218b_real_oxi_with_sols_training, O2_g=O2_g, number_of_realisations=training_steps, reduced=False)\n",
                "k218b_real_oxi_with_sols_training.output(file_prefix=k218b_real_oxi_with_sols_training_path, to_pickle=True, to_excel=True);"
            ]
        },
        {
            "cell_type": "markdown",
            "metadata": {},
            "source": [
                "See how many solves failed (but these are ignored by default)."
            ]
        },
        {
            "cell_type": "code",
            "execution_count": null,
            "metadata": {},
            "outputs": [],
            "source": [
                "k218b_real_oxi_with_sols_training.failed_solves;"
            ]
        },
        {
            "cell_type": "markdown",
            "metadata": {},
            "source": [
                "Now, we can use the training output generated above to train a network and use this to improve convergence and speed up the computation of the final run."
            ]
        },
        {
            "cell_type": "code",
            "execution_count": null,
            "metadata": {},
            "outputs": [],
            "source": [
                "initial_solution_full = InitialSolutionRegressor.from_pickle(k218b_real_oxi_with_sols_training_path.with_suffix(\".pkl\"), species=species, fit=False, partial_fit=True, partial_fit_batch_size=1000)"
            ]
        },
        {
            "cell_type": "markdown",
            "metadata": {},
            "source": [
                "Run the full model and export the data."
            ]
        },
        {
            "cell_type": "code",
            "execution_count": null,
            "metadata": {},
            "outputs": [],
            "source": [
                "k218b_real_oxi_with_sols = InteriorAtmosphereSystem(species=species, initial_solution=initial_solution_full, planet=k218b)\n",
                "monte_carlo(k218b_real_oxi_with_sols, O2_g=O2_g, number_of_realisations=number_of_realisations, reduced=False)\n",
                "k218b_real_oxi_with_sols.output(file_prefix=k218b_real_oxi_with_sols_path, to_pickle=True, to_excel=True)"
            ]
        },
        {
            "cell_type": "markdown",
            "metadata": {},
            "source": [
                "Report the number of failed solves."
            ]
        },
        {
            "cell_type": "code",
            "execution_count": null,
            "metadata": {},
            "outputs": [],
            "source": [
                "k218b_real_oxi_with_sols.failed_solves;"
            ]
        }
    ],
    "metadata": {
        "kernelspec": {
            "display_name": ".venv",
            "language": "python",
            "name": "python3"
        },
        "language_info": {
            "codemirror_mode": {
                "name": "ipython",
                "version": 3
            },
            "file_extension": ".py",
            "mimetype": "text/x-python",
            "name": "python",
            "nbconvert_exporter": "python",
            "pygments_lexer": "ipython3",
            "version": "3.10.13"
        }
    },
    "nbformat": 4,
    "nbformat_minor": 2
}
