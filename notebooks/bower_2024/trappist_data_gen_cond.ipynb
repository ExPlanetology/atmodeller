{
    "cells": [
        {
            "cell_type": "markdown",
            "metadata": {},
            "source": [
                "# Condensates for Trappist 1-e models from Bower et al. (2024)"
            ]
        },
        {
            "cell_type": "code",
            "execution_count": null,
            "metadata": {},
            "outputs": [],
            "source": [
                "import logging\n",
                "\n",
                "import numpy as np\n",
                "import pandas as pd\n",
                "from scipy.spatial.distance import cdist\n",
                "from pathlib import Path\n",
                "import sys\n",
                "\n",
                "from atmodeller import debug_logger\n",
                "from atmodeller.constraints import ElementMassConstraint, SystemConstraints\n",
                "from atmodeller.core import GasSpecies, Species, LiquidSpecies, SolidSpecies\n",
                "from atmodeller.interior_atmosphere import Planet, InteriorAtmosphereSystem\n",
                "from atmodeller.initial_solution import InitialSolutionDict, InitialSolutionLast, InitialSolutionSwitchRegressor, InitialSolutionRegressor\n",
                "from atmodeller.output import Output\n",
                "\n",
                "logger = debug_logger()\n",
                "logger.setLevel(logging.INFO)"
            ]
        },
        {
            "cell_type": "markdown",
            "metadata": {},
            "source": [
                "Parameters for the simulations."
            ]
        },
        {
            "cell_type": "code",
            "execution_count": null,
            "metadata": {},
            "outputs": [],
            "source": [
                "number_of_realisations = 5000\n",
                "training_steps = 200"
            ]
        },
        {
            "cell_type": "code",
            "execution_count": null,
            "metadata": {},
            "outputs": [],
            "source": [
                "surface_temperature = 1800"
            ]
        },
        {
            "cell_type": "markdown",
            "metadata": {},
            "source": [
                "Set the equilibrium temperature of the planet, which is the temperature we will cool the atmosphere to."
            ]
        },
        {
            "cell_type": "code",
            "execution_count": null,
            "metadata": {},
            "outputs": [],
            "source": [
                "equilibrium_temperature = 280"
            ]
        },
        {
            "cell_type": "markdown",
            "metadata": {},
            "source": [
                "TRAPPIST-1e planet properties\n",
                "\n",
                "Mass and radius measurements from Agol et al. 2021; Mantle mass determined assuming same proportion as Earth"
            ]
        },
        {
            "cell_type": "code",
            "execution_count": null,
            "metadata": {},
            "outputs": [],
            "source": [
                "mantle_mass = 2.912E24\n",
                "planet_mass = mantle_mass / (1-0.295334691460966)\n",
                "trappist1e = Planet(surface_temperature=equilibrium_temperature, planet_mass=planet_mass, surface_radius=5.861E6, mantle_melt_fraction=0)"
            ]
        },
        {
            "cell_type": "markdown",
            "metadata": {},
            "source": [
                "Species to consider, including condensed C and H2O"
            ]
        },
        {
            "cell_type": "code",
            "execution_count": null,
            "metadata": {},
            "outputs": [],
            "source": [
                "# Only CHON are uncommented for initial testing\n",
                "\n",
                "H2O_g = GasSpecies(\"H2O\")\n",
                "H2_g = GasSpecies(\"H2\")\n",
                "O2_g = GasSpecies(\"O2\")\n",
                "CO_g = GasSpecies(\"CO\")\n",
                "CO2_g = GasSpecies(\"CO2\")\n",
                "CH4_g = GasSpecies(\"CH4\")\n",
                "N2_g = GasSpecies(\"N2\")\n",
                "NH3_g = GasSpecies(\"NH3\")\n",
                "S2_g = GasSpecies(\"S2\")\n",
                "H2S_g = GasSpecies(\"H2S\")\n",
                "SO2_g = GasSpecies(\"SO2\")\n",
                "SO_g = GasSpecies(\"SO\")\n",
                "Cl2_g = GasSpecies(\"Cl2\")\n",
                "H2O_l = LiquidSpecies(\"H2O\")\n",
                "C_cr = SolidSpecies(\"C\")\n",
                "\n",
                "# Select species\n",
                "#species = Species([H2O_g, H2_g, O2_g, CO_g, CO2_g, CH4_g, SO2_g, SO_g, H2O_l, C_cr])\n",
                "\n",
                "# All species\n",
                "species = Species([H2O_g, H2_g, O2_g, CO_g, CO2_g, CH4_g, N2_g, NH3_g, S2_g, SO2_g, SO_g, H2O_l, C_cr, Cl2_g, H2S_g])\n",
                "\n",
                "# CHON only\n",
                "# species = Species([H2O_g, H2_g, O2_g, CO_g, CO2_g, CH4_g, N2_g, NH3_g, C_cr, H2O_l])\n",
                "\n",
                "system = InteriorAtmosphereSystem(species=species, planet=trappist1e)"
            ]
        },
        {
            "cell_type": "markdown",
            "metadata": {},
            "source": [
                "Get element abundances for constraints"
            ]
        },
        {
            "cell_type": "code",
            "execution_count": null,
            "metadata": {},
            "outputs": [],
            "source": [
                "# Below allows us to use the training output for testing purposes\n",
                "# trappist1e_with_sols_path = trappist1e_with_sols_training_path  \n",
                "trappist1e_with_sols_path = Path(f\"trappist1e_{surface_temperature}K_with_sols_{number_of_realisations}its\")"
            ]
        },
        {
            "cell_type": "code",
            "execution_count": null,
            "metadata": {},
            "outputs": [],
            "source": [
                "output = Output.read_pickle(trappist1e_with_sols_path.with_suffix('.pkl'))\n",
                "with_solubility_data = output(to_dataframes=True)"
            ]
        },
        {
            "cell_type": "code",
            "execution_count": null,
            "metadata": {},
            "outputs": [],
            "source": [
                "# Create a dictionary with the series. Only the CHON constraints are uncommented\n",
                "data = {\n",
                "    'H_total': with_solubility_data[\"H_total\"][\"atmosphere_mass\"],\n",
                "    'S_total': with_solubility_data[\"S_total\"][\"atmosphere_mass\"],\n",
                "    'N_total': with_solubility_data[\"N_total\"][\"atmosphere_mass\"],\n",
                "    'O_total': with_solubility_data[\"O_total\"][\"atmosphere_mass\"],\n",
                "    'C_total': with_solubility_data[\"C_total\"][\"atmosphere_mass\"],\n",
                "    \"H_moles\": with_solubility_data[\"H_total\"][\"atmosphere_moles\"],\n",
                "    \"C_moles\": with_solubility_data[\"C_total\"][\"atmosphere_moles\"],\n",
                "    \"O_moles\": with_solubility_data[\"O_total\"][\"atmosphere_moles\"],\n",
                "    \"S_moles\": with_solubility_data[\"S_total\"][\"atmosphere_moles\"],\n",
                "    \"O2_g\": with_solubility_data[\"O2_g\"][\"fugacity\"],\n",
                "    'Cl_total': with_solubility_data[\"Cl_total\"][\"atmosphere_mass\"]\n",
                "}\n",
                "\n",
                "# Convert the dictionary into a DataFrame\n",
                "df = pd.DataFrame(data)\n",
                "\n",
                "# Data for reordering\n",
                "toreorder = pd.DataFrame()\n",
                "toreorder[\"C/O\"] = df[\"C_moles\"] / df[\"O_moles\"]\n",
                "toreorder[\"H/O\"] = df[\"H_moles\"] / df[\"O_moles\"]\n",
                "toreorder[\"S/O\"] = df[\"S_moles\"] / df[\"O_moles\"]\n",
                "toreorder[\"log10_O_moles\"] = np.log10(df[\"O_moles\"])/2\n",
                "\n",
                "# Compute the pairwise distance matrix\n",
                "distance_matrix = cdist(toreorder.values, toreorder.values, metric='euclidean')\n",
                "\n",
                "# Compute the average distance for each row\n",
                "average_distances = distance_matrix.mean(axis=1)\n",
                "\n",
                "# Get the sorted order of the rows based on average distances\n",
                "sorted_indices = np.argsort(average_distances)\n",
                "\n",
                "sorted_indices = pd.Index(sorted_indices)\n",
                "\n",
                "# Reorder the array based on the sorted indices\n",
                "ordered_df = df.iloc[sorted_indices]\n",
                "\n",
                "ordered_df\n",
                "\n",
                "# This was to test reordering the data to facilitate using InitialSolutionLast\n",
                "# df[\"C/O\"] = df['C_moles']/df[\"O_moles\"]\n",
                "# df[\"O/C\"] = 1/df[\"C/O\"]\n",
                "# df[\"H/O\"] = df[\"H_moles\"]/df[\"O_moles\"]\n",
                "\n",
                "# Testing seems to show that ordering by total O is most helpful for InitialSolutionLast to find\n",
                "# a solution\n",
                "#df= df.sort_values(by=[\"O_total\", \"S_total\"]) #, \"C/O\"])\n",
                "#df"
            ]
        },
        {
            "cell_type": "code",
            "execution_count": null,
            "metadata": {},
            "outputs": [],
            "source": [
                "initial_solution_first = InitialSolutionDict({CH4_g: 1.174399967822982e-06,\n",
                " CO2_g: 1,\n",
                " CO_g: 2.127780173007922e-12,\n",
                " C_cr: 1.0,\n",
                " Cl2_g: 1.659689502949848e-09,\n",
                " H2O_g: 0.009803396976251115,\n",
                " H2O_l: 1.0,\n",
                " H2S_g: 1.5282277343499102e-05,\n",
                " H2_g: 1.4691844912784184e-08,\n",
                " NH3_g: 1.8572454053935887e-09,\n",
                " N2_g: 0.3,\n",
                " SO2_g: 9.477943552644081e-22,\n",
                " O2_g: 1.192909736847084e-74,\n",
                " SO_g: 4.173209042103722e-37,\n",
                " S2_g: 3.0929435465787616e-22,\n",
                " 'mass_C_cr': 9.280830401497024e+17,\n",
                " 'mass_H2O_l': 2.846668250233889e+17}, species=species)"
            ]
        },
        {
            "cell_type": "code",
            "execution_count": null,
            "metadata": {},
            "outputs": [],
            "source": [
                "# Note that we must update the minimum log10 pressure\n",
                "initial_solution = InitialSolutionLast(initial_solution_first, species=species, min_log10_pressure=-75)\n",
                "# initial_solution = InitialSolutionRegressor.from_pickle(\"trappist1e_lm_training.pkl\", species=species, fit=True, fit_batch_size=20, partial_fit_batch_size=100, partial_fit=True )"
            ]
        },
        {
            "cell_type": "code",
            "execution_count": null,
            "metadata": {},
            "outputs": [],
            "source": [
                "#initial_solution = InitialSolutionSwitchRegressor(initial_solution, species=species, fit=True, partial_fit_batch_size=100, fit_batch_size=300, partial_fit=True)"
            ]
        },
        {
            "cell_type": "code",
            "execution_count": null,
            "metadata": {},
            "outputs": [],
            "source": [
                "trappist1e_cooled_path = Path(f\"trappist1e_{equilibrium_temperature}K_{number_of_realisations}its\")"
            ]
        },
        {
            "cell_type": "code",
            "execution_count": null,
            "metadata": {},
            "outputs": [],
            "source": [
                "# Regressor performance is seemingly worse than using ordered data and the previous solution\n",
                "# trappist1e_initial_solution = Path(f\"trappist1e_280K_200its_fulltoll.pkl\")\n",
                "# initial_solution = InitialSolutionRegressor.from_pickle(trappist1e_initial_solution.with_suffix(\".pkl\"), species=species, fit=False, partial_fit=False, partial_fit_batch_size=50, min_log10_pressure=-75)"
            ]
        },
        {
            "cell_type": "code",
            "execution_count": null,
            "metadata": {},
            "outputs": [],
            "source": [
                "for nn, row in enumerate(ordered_df.itertuples(index=True)):\n",
                "    # Save the index to allow us to correlate the condensed atmospheres with the high temperature\n",
                "    # origin.\n",
                "    index = row.Index\n",
                "    extra = {'index': index}\n",
                "    constraints = SystemConstraints([\n",
                "        ElementMassConstraint(\"H\", row.H_total),\n",
                "        ElementMassConstraint(\"S\", row.S_total),\n",
                "        ElementMassConstraint(\"N\", row.N_total),\n",
                "        ElementMassConstraint(\"O\", row.O_total),\n",
                "        ElementMassConstraint(\"C\", row.C_total),\n",
                "        ElementMassConstraint(\"Cl\", row.Cl_total),\n",
                "        ]\n",
                "    )\n",
                "    # lm solver \"always\" finds a solution, although sometimes the residual is high. By contrast\n",
                "    # \"hybr\" with default parameters seems to always find the right solution, or fails.\n",
                "    system.solve(constraints, factor=10, initial_solution=initial_solution, max_attempts=30, extra_output=extra, errors=\"ignore\") # , method='lm')"
            ]
        },
        {
            "cell_type": "code",
            "execution_count": null,
            "metadata": {},
            "outputs": [],
            "source": [
                "system.failed_solves"
            ]
        },
        {
            "cell_type": "code",
            "execution_count": null,
            "metadata": {},
            "outputs": [],
            "source": [
                "system.output(file_prefix=trappist1e_cooled_path, to_excel=True, to_pickle=True)"
            ]
        },
        {
            "cell_type": "code",
            "execution_count": null,
            "metadata": {},
            "outputs": [],
            "source": [
                "sys.exit(0)"
            ]
        },
        {
            "cell_type": "markdown",
            "metadata": {},
            "source": [
                "# Post-processing\n",
                "\n",
                "Finally, we can correlate the high temperature atmospheres to the condensed atmospheres. We only include combinations which we know solved to within the tolerance."
            ]
        },
        {
            "cell_type": "code",
            "execution_count": null,
            "metadata": {},
            "outputs": [],
            "source": [
                "output_high_temperature = Output.read_pickle(f\"{trappist1e_with_sols_path}.pkl\")\n",
                "output_cooled_path = \"trappist1e_280K_5000its_hybr_CHON\"\n",
                "output_condensed = Output.read_pickle(f\"{output_cooled_path}.pkl\")\n",
                "\n",
                "output_reordered = output_high_temperature.reorder(output_condensed, \"extra\", \"index\")"
            ]
        },
        {
            "cell_type": "code",
            "execution_count": null,
            "metadata": {},
            "outputs": [],
            "source": [
                "output_reordered(to_pickle=True, to_excel=True)"
            ]
        },
        {
            "cell_type": "markdown",
            "metadata": {},
            "source": [
                "Find models that could not solve."
            ]
        },
        {
            "cell_type": "code",
            "execution_count": null,
            "metadata": {},
            "outputs": [],
            "source": [
                "output_reordered = output_high_temperature.filter_by_index_notin(output_condensed, \"extra\", \"index\")"
            ]
        },
        {
            "cell_type": "code",
            "execution_count": null,
            "metadata": {},
            "outputs": [],
            "source": [
                "output_reordered(to_pickle=True, to_excel=True)"
            ]
        }
    ],
    "metadata": {
        "kernelspec": {
            "display_name": ".venv",
            "language": "python",
            "name": "python3"
        },
        "language_info": {
            "codemirror_mode": {
                "name": "ipython",
                "version": 3
            },
            "file_extension": ".py",
            "mimetype": "text/x-python",
            "name": "python",
            "nbconvert_exporter": "python",
            "pygments_lexer": "ipython3",
            "version": "3.10.13"
        }
    },
    "nbformat": 4,
    "nbformat_minor": 2
}
