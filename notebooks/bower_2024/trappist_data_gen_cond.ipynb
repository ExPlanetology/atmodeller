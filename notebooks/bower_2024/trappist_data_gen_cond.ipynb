{
    "cells": [
        {
            "cell_type": "markdown",
            "metadata": {},
            "source": [
                "# Condensates for Trappist 1-e models from Bower et al. (2024)"
            ]
        },
        {
            "cell_type": "code",
            "execution_count": 1,
            "metadata": {},
            "outputs": [
                {
                    "name": "stdout",
                    "output_type": "stream",
                    "text": [
                        "Package initialized with double precision (float64)\n"
                    ]
                }
            ],
            "source": [
                "import logging\n",
                "\n",
                "import numpy as np\n",
                "import pandas as pd\n",
                "from scipy.spatial.distance import cdist\n",
                "from pathlib import Path\n",
                "import sys\n",
                "\n",
                "from atmodeller import debug_logger\n",
                "from atmodeller.constraints import ElementMassConstraint, SystemConstraints, ActivityConstraint\n",
                "from atmodeller.core import GasSpecies, Species, LiquidSpecies, SolidSpecies\n",
                "from atmodeller.interior_atmosphere import Planet, InteriorAtmosphereSystem\n",
                "from atmodeller.initial_solution import InitialSolutionSwitchRegressor, InitialSolutionLast\n",
                "from atmodeller.output import Output\n",
                "from atmodeller.solver import SolverScipy\n",
                "from atmodeller.solution import ELEMENT_PREFIX\n",
                "\n",
                "logger = debug_logger()\n",
                "logger.setLevel(logging.INFO)"
            ]
        },
        {
            "cell_type": "markdown",
            "metadata": {},
            "source": [
                "Parameters for the simulations"
            ]
        },
        {
            "cell_type": "code",
            "execution_count": 2,
            "metadata": {},
            "outputs": [],
            "source": [
                "# Some thermo data not available at 280 K\n",
                "equilibrium_temperature = 300 \n",
                "# training_steps = 200"
            ]
        },
        {
            "cell_type": "markdown",
            "metadata": {},
            "source": [
                "TRAPPIST-1e planet properties\n",
                "\n",
                "Mass and radius measurements from Agol et al. (2021). Mantle mass is determined assuming the same mass proportion as Earth."
            ]
        },
        {
            "cell_type": "code",
            "execution_count": 3,
            "metadata": {},
            "outputs": [],
            "source": [
                "planet_mass = 4.133E24\n",
                "trappist1e = Planet(surface_temperature=equilibrium_temperature, planet_mass=planet_mass, \n",
                "                    surface_radius=5.861E6, mantle_melt_fraction=0)"
            ]
        },
        {
            "cell_type": "markdown",
            "metadata": {},
            "source": [
                "Species to consider, including condensed C and H2O"
            ]
        },
        {
            "cell_type": "code",
            "execution_count": 4,
            "metadata": {},
            "outputs": [
                {
                    "name": "stderr",
                    "output_type": "stream",
                    "text": [
                        "[20:56:12 - atmodeller.interfaces          - INFO     ] - Creating GasSpecies for H2O using thermodynamic data in JANAF\n",
                        "[20:56:12 - atmodeller.interfaces          - INFO     ] - Creating GasSpecies for H2 using thermodynamic data in JANAF\n",
                        "[20:56:12 - atmodeller.interfaces          - INFO     ] - Creating GasSpecies for O2 using thermodynamic data in JANAF\n",
                        "[20:56:12 - atmodeller.interfaces          - INFO     ] - Creating GasSpecies for CO using thermodynamic data in JANAF\n",
                        "[20:56:12 - atmodeller.interfaces          - INFO     ] - Creating GasSpecies for CO2 using thermodynamic data in JANAF\n",
                        "[20:56:12 - atmodeller.interfaces          - INFO     ] - Creating GasSpecies for CH4 using thermodynamic data in JANAF\n",
                        "[20:56:12 - atmodeller.interfaces          - INFO     ] - Creating GasSpecies for N2 using thermodynamic data in JANAF\n",
                        "[20:56:12 - atmodeller.interfaces          - INFO     ] - Creating GasSpecies for H3N using thermodynamic data in JANAF\n",
                        "/Users/dan/Documents/academic/explanetology/atmodeller/.venv/lib/python3.10/site-packages/thermochem/janaf.py:80: ParserWarning: Skipping line 16: Expected 8 fields in line 16, saw 9. Error could possibly be due to quotes being ignored when a multi-char delimiter is used.\n",
                        "\n",
                        "  data = pd.read_csv(\n",
                        "[20:56:12 - atmodeller.interfaces          - INFO     ] - Creating GasSpecies for S2 using thermodynamic data in JANAF\n",
                        "[20:56:12 - atmodeller.interfaces          - INFO     ] - Creating GasSpecies for H2S using thermodynamic data in JANAF\n",
                        "[20:56:12 - atmodeller.interfaces          - INFO     ] - Creating GasSpecies for O2S using thermodynamic data in JANAF\n",
                        "[20:56:12 - atmodeller.interfaces          - INFO     ] - Creating GasSpecies for OS using thermodynamic data in JANAF\n",
                        "[20:56:12 - atmodeller.interfaces          - INFO     ] - Creating GasSpecies for Cl2 using thermodynamic data in JANAF\n",
                        "/Users/dan/Documents/academic/explanetology/atmodeller/.venv/lib/python3.10/site-packages/thermochem/janaf.py:80: ParserWarning: Skipping line 12: Expected 8 fields in line 12, saw 9. Error could possibly be due to quotes being ignored when a multi-char delimiter is used.\n",
                        "\n",
                        "  data = pd.read_csv(\n",
                        "[20:56:12 - atmodeller.interfaces          - INFO     ] - Creating LiquidSpecies for H2O using thermodynamic data in JANAF\n",
                        "[20:56:12 - atmodeller.interfaces          - INFO     ] - Creating SolidSpecies for C using thermodynamic data in JANAF\n",
                        "/Users/dan/Documents/academic/explanetology/atmodeller/.venv/lib/python3.10/site-packages/thermochem/janaf.py:80: ParserWarning: Skipping line 19: Expected 8 fields in line 19, saw 9. Error could possibly be due to quotes being ignored when a multi-char delimiter is used.\n",
                        "\n",
                        "  data = pd.read_csv(\n",
                        "[20:56:12 - atmodeller.interfaces          - INFO     ] - Creating LiquidSpecies for S using thermodynamic data in JANAF\n",
                        "[20:56:12 - atmodeller.interfaces          - INFO     ] - Creating SolidSpecies for S using thermodynamic data in JANAF\n"
                    ]
                }
            ],
            "source": [
                "# Gas species in the high temperature atmosphere\n",
                "H2O_g = GasSpecies(\"H2O\")\n",
                "H2_g = GasSpecies(\"H2\")\n",
                "O2_g = GasSpecies(\"O2\")\n",
                "CO_g = GasSpecies(\"CO\")\n",
                "CO2_g = GasSpecies(\"CO2\")\n",
                "CH4_g = GasSpecies(\"CH4\")\n",
                "N2_g = GasSpecies(\"N2\")\n",
                "NH3_g = GasSpecies(\"NH3\")\n",
                "S2_g = GasSpecies(\"S2\")\n",
                "H2S_g = GasSpecies(\"H2S\")\n",
                "SO2_g = GasSpecies(\"SO2\")\n",
                "SO_g = GasSpecies(\"SO\")\n",
                "Cl2_g = GasSpecies(\"Cl2\")\n",
                "\n",
                "# Also consider these condensates, which may or may not be stable, but the code will decide.\n",
                "H2O_l = LiquidSpecies(\"H2O\")\n",
                "C_cr = SolidSpecies(\"C\")\n",
                "S_l = LiquidSpecies(\"S\")\n",
                "S_cr = SolidSpecies(\"S\", thermodata_filename=\"S-002\")\n",
                "\n",
                "species = Species([H2O_g, H2_g, O2_g, CO_g, CO2_g, CH4_g, N2_g, NH3_g, S2_g, SO2_g, SO_g, Cl2_g, \n",
                "                   H2S_g, H2O_l, C_cr, S_l, S_cr])"
            ]
        },
        {
            "cell_type": "markdown",
            "metadata": {},
            "source": [
                "The high temperature atmosphere simulations provide the constraints for the condensed atmosphere simulations."
            ]
        },
        {
            "cell_type": "code",
            "execution_count": 5,
            "metadata": {},
            "outputs": [
                {
                    "name": "stderr",
                    "output_type": "stream",
                    "text": [
                        "[20:56:24 - atmodeller.output              - INFO     ] - Output: Reading data from t1e_1800K_1000melt_500its.pkl\n"
                    ]
                }
            ],
            "source": [
                "elements = [\"C\", \"H\", \"O\", \"N\", \"S\", \"Cl\"]\n",
                "\n",
                "high_temp_surface_temperature = 1800\n",
                "high_temp_mantle_melt_fraction = 10\n",
                "high_temp_number_of_realisations = 500\n",
                "\n",
                "trappist1e_high_temp_full_path = Path(f\"t1e_{high_temp_surface_temperature}K_{high_temp_mantle_melt_fraction*100:0.0f}melt_{high_temp_number_of_realisations}its\")\n",
                "high_temp_output = Output.read_pickle(trappist1e_high_temp_full_path.with_suffix('.pkl'))\n",
                "high_temp_data = high_temp_output(to_dataframes=True)\n",
                "\n",
                "# Consolidate the mass constraints of the elements in the atmosphere into a dataframe\n",
                "atmosphere_mass = 'atmosphere_mass'\n",
                "mass_constraints = {}\n",
                "for element in elements:\n",
                "    mass_constraints[element] = high_temp_data[f\"{ELEMENT_PREFIX}{element}\"][atmosphere_mass]\n",
                "mass_constraints_df = pd.DataFrame(mass_constraints)\n",
                "\n",
                "# The approach here is to order the data so we can exploit the fact that the previous solution is\n",
                "# (probably) a reasonable initial guess for the next solution\n",
                "# Compute the pairwise distance matrix\n",
                "distance_matrix = cdist(mass_constraints_df.values, mass_constraints_df.values, metric='euclidean')\n",
                "\n",
                "# Compute the average distance for each row\n",
                "average_distances = distance_matrix.mean(axis=1)\n",
                "\n",
                "# Get the sorted order of the rows based on average distances\n",
                "sorted_indices = np.argsort(average_distances)\n",
                "sorted_indices = pd.Index(sorted_indices)\n",
                "\n",
                "# Reorder the array based on the sorted indices\n",
                "mass_constraints_df = mass_constraints_df.iloc[sorted_indices]\n",
                "\n",
                "# Assemble the system constraints for each entry in the dataframe\n",
                "constraints: list[SystemConstraints] = []\n",
                "for nn, row in enumerate(mass_constraints_df.itertuples(index=True)):\n",
                "    constraints_list: list = []\n",
                "    for element in elements:\n",
                "        constraints_list.append(ElementMassConstraint(element, getattr(row, element)))\n",
                "    constraints_list.append(ActivityConstraint(H2O_l, 1.0))\n",
                "    constraints_list.append(ActivityConstraint(C_cr, 1.0))\n",
                "    constraints_list.append(ActivityConstraint(S_l, 1.0))\n",
                "    constraints_list.append(ActivityConstraint(S_cr, 1.0))\n",
                "    constraints.append(SystemConstraints(constraints_list))"
            ]
        },
        {
            "cell_type": "markdown",
            "metadata": {},
            "source": [
                "Start with the default dictionary of initial guesses and then switch to a regressor to provide a training dataset."
            ]
        },
        {
            "cell_type": "code",
            "execution_count": null,
            "metadata": {},
            "outputs": [],
            "source": [
                "initial_solution = InitialSolutionLast(species=species, planet=trappist1e)\n",
                "initial_solution_training = InitialSolutionSwitchRegressor(initial_solution, species=species, planet=trappist1e, \n",
                "    fit=True, switch_iteration=50, fit_batch_size=50, partial_fit=True, \n",
                "    partial_fit_batch_size=50)"
            ]
        },
        {
            "cell_type": "code",
            "execution_count": null,
            "metadata": {},
            "outputs": [],
            "source": [
                "trappist1e_full_path = Path(\n",
                "    f\"t1e_{equilibrium_temperature}K_was{high_temp_mantle_melt_fraction*100:0.0f}melt_{high_temp_number_of_realisations}its\")"
            ]
        },
        {
            "cell_type": "code",
            "execution_count": null,
            "metadata": {},
            "outputs": [],
            "source": [
                "trappist1e_full = InteriorAtmosphereSystem(species=species, planet=trappist1e)\n",
                "solver = SolverScipy(jac=True)\n",
                "\n",
                "for nn, row in enumerate(mass_constraints_df.itertuples(index=True)):\n",
                "    # Need the index to correlate the condensed atmospheres with their high temperature origin.\n",
                "    index = row.Index\n",
                "    extra = {'index': index}\n",
                "    constraints2 = constraints[nn]\n",
                "    trappist1e_full.solve(constraints2, initial_solution=initial_solution_training,\n",
                "        extra_output=extra)"
            ]
        },
        {
            "cell_type": "code",
            "execution_count": null,
            "metadata": {},
            "outputs": [],
            "source": [
                "trappist1e_full.output(file_prefix=trappist1e_full_path, to_pickle=True, to_excel=True)"
            ]
        },
        {
            "cell_type": "code",
            "execution_count": null,
            "metadata": {},
            "outputs": [],
            "source": [
                "trappist1e_full.number_of_failed_solves"
            ]
        },
        {
            "cell_type": "code",
            "execution_count": null,
            "metadata": {},
            "outputs": [],
            "source": [
                "sys.exit(0)"
            ]
        },
        {
            "cell_type": "markdown",
            "metadata": {},
            "source": [
                "# Post-processing\n",
                "\n",
                "Finally, we can correlate the high temperature atmospheres to the condensed atmospheres. We only include combinations which we know solved to within the tolerance."
            ]
        },
        {
            "cell_type": "code",
            "execution_count": null,
            "metadata": {},
            "outputs": [],
            "source": [
                "output_high_temperature = Output.read_pickle(f\"{trappist1e_with_sols_path}.pkl\")\n",
                "output_cooled_path = \"trappist1e_280K_5000its\"\n",
                "output_condensed = Output.read_pickle(f\"{output_cooled_path}.pkl\")\n",
                "\n",
                "output_reordered = output_high_temperature.reorder(output_condensed, \"extra\", \"index\")"
            ]
        },
        {
            "cell_type": "code",
            "execution_count": null,
            "metadata": {},
            "outputs": [],
            "source": [
                "output_reordered(to_pickle=True, to_excel=True)"
            ]
        },
        {
            "cell_type": "markdown",
            "metadata": {},
            "source": [
                "Find models that could not solve."
            ]
        },
        {
            "cell_type": "code",
            "execution_count": null,
            "metadata": {},
            "outputs": [],
            "source": [
                "output_reordered = output_high_temperature.filter_by_index_notin(output_condensed, \"extra\", \"index\")"
            ]
        },
        {
            "cell_type": "code",
            "execution_count": null,
            "metadata": {},
            "outputs": [],
            "source": [
                "output_reordered(to_pickle=True, to_excel=True)"
            ]
        }
    ],
    "metadata": {
        "kernelspec": {
            "display_name": ".venv",
            "language": "python",
            "name": "python3"
        },
        "language_info": {
            "codemirror_mode": {
                "name": "ipython",
                "version": 3
            },
            "file_extension": ".py",
            "mimetype": "text/x-python",
            "name": "python",
            "nbconvert_exporter": "python",
            "pygments_lexer": "ipython3",
            "version": "3.10.13"
        }
    },
    "nbformat": 4,
    "nbformat_minor": 2
}
