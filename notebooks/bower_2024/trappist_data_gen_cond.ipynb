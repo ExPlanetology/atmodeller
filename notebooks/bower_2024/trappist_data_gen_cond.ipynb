{
    "cells": [
        {
            "cell_type": "markdown",
            "metadata": {},
            "source": [
                "# Condensates for Trappist 1-e models from Bower et al. (2024)"
            ]
        },
        {
            "cell_type": "code",
            "execution_count": null,
            "metadata": {},
            "outputs": [],
            "source": [
                "import copy\n",
                "import logging\n",
                "\n",
                "import numpy as np\n",
                "import pandas as pd\n",
                "from pathlib import Path\n",
                "\n",
                "from atmodeller import debug_logger\n",
                "from atmodeller.constraints import ElementMassConstraint, SystemConstraints, BufferedFugacityConstraint, TotalPressureConstraint\n",
                "from atmodeller.thermodata.redox_buffers import IronWustiteBuffer\n",
                "from atmodeller.core import GasSpecies, Species, LiquidSpecies, SolidSpecies\n",
                "from atmodeller.interior_atmosphere import Planet, InteriorAtmosphereSystem\n",
                "from atmodeller.initial_solution import InitialSolutionRegressor, InitialSolutionSwitchRegressor, InitialSolutionDict, InitialSolutionLast\n",
                "from atmodeller.utilities import earth_oceans_to_kg, bulk_silicate_earth_abundances\n",
                "from atmodeller.output import Output\n",
                "\n",
                "logger = debug_logger()\n",
                "logger.setLevel(logging.INFO)"
            ]
        },
        {
            "cell_type": "markdown",
            "metadata": {},
            "source": [
                "Parameters for the simulations."
            ]
        },
        {
            "cell_type": "code",
            "execution_count": null,
            "metadata": {},
            "outputs": [],
            "source": [
                "number_of_realisations = 5000\n",
                "training_steps = 200"
            ]
        },
        {
            "cell_type": "code",
            "execution_count": null,
            "metadata": {},
            "outputs": [],
            "source": [
                "surface_temperature = 1800"
            ]
        },
        {
            "cell_type": "markdown",
            "metadata": {},
            "source": [
                "Set the equilibrium temperature of the planet, which is the temperature we will cool the atmosphere to."
            ]
        },
        {
            "cell_type": "code",
            "execution_count": null,
            "metadata": {},
            "outputs": [],
            "source": [
                "equilibrium_temperature = 280"
            ]
        },
        {
            "cell_type": "markdown",
            "metadata": {},
            "source": [
                "TRAPPIST-1e planet properties\n",
                "\n",
                "Mass and radius measurements from Agol et al. 2021; Mantle mass determined assuming same proportion as Earth"
            ]
        },
        {
            "cell_type": "code",
            "execution_count": null,
            "metadata": {},
            "outputs": [],
            "source": [
                "mantle_mass = 2.912E24\n",
                "planet_mass = mantle_mass / (1-0.295334691460966)\n",
                "trappist1e = Planet(surface_temperature=equilibrium_temperature, planet_mass=planet_mass, surface_radius=5.861E6)"
            ]
        },
        {
            "cell_type": "markdown",
            "metadata": {},
            "source": [
                "Species to consider, including condensed C and H2O"
            ]
        },
        {
            "cell_type": "code",
            "execution_count": null,
            "metadata": {},
            "outputs": [],
            "source": [
                "# Only CHON are uncommented for initial testing\n",
                "\n",
                "H2O_g = GasSpecies(\"H2O\")\n",
                "H2_g = GasSpecies(\"H2\")\n",
                "O2_g = GasSpecies(\"O2\")\n",
                "CO_g = GasSpecies(\"CO\")\n",
                "CO2_g = GasSpecies(\"CO2\")\n",
                "CH4_g = GasSpecies(\"CH4\")\n",
                "N2_g = GasSpecies(\"N2\")\n",
                "NH3_g = GasSpecies(\"NH3\")\n",
                "#S2_g = GasSpecies(\"S2\")\n",
                "#H2S_g = GasSpecies(\"H2S\")\n",
                "#SO2_g = GasSpecies(\"SO2\")\n",
                "#SO_g = GasSpecies(\"SO\")\n",
                "#Cl2_g = GasSpecies(\"Cl2\")\n",
                "H2O_l = LiquidSpecies(\"H2O\")\n",
                "C_cr = SolidSpecies(\"C\")\n",
                "\n",
                "# All species\n",
                "#species = Species([H2O_g, H2_g, O2_g, CO_g, CO2_g, CH4_g, N2_g, NH3_g, S2_g, H2S_g, SO2_g, SO_g, Cl2_g, H2O_l, C_cr])\n",
                "\n",
                "# CHON only\n",
                "species = Species([H2O_g, H2_g, O2_g, CO_g, CO2_g, CH4_g, N2_g, NH3_g, C_cr, H2O_l])\n",
                "\n",
                "system = InteriorAtmosphereSystem(species=species, planet=trappist1e)"
            ]
        },
        {
            "cell_type": "markdown",
            "metadata": {},
            "source": [
                "Get element abundances for constraints"
            ]
        },
        {
            "cell_type": "code",
            "execution_count": null,
            "metadata": {},
            "outputs": [],
            "source": [
                "# Below allows us to use the training output for testing purposes\n",
                "# trappist1e_with_sols_path = trappist1e_with_sols_training_path  \n",
                "trappist1e_with_sols_path = Path(f\"trappist1e_{surface_temperature}K_with_sols_{number_of_realisations}its\")\n",
                "output = Output.read_pickle(trappist1e_with_sols_path.with_suffix('.pkl'))\n",
                "with_solubility_data = output(to_dataframes=True)"
            ]
        },
        {
            "cell_type": "code",
            "execution_count": null,
            "metadata": {},
            "outputs": [],
            "source": [
                "# Create a dictionary with the series. Only the CHON constraints are uncommented\n",
                "data = {\n",
                "    'H_total': with_solubility_data[\"H_total\"][\"atmosphere_mass\"],\n",
                "    # 'S_total': with_solubility_data[\"S_total\"][\"atmosphere_mass\"],\n",
                "    'N_total': with_solubility_data[\"N_total\"][\"atmosphere_mass\"],\n",
                "    'O_total': with_solubility_data[\"O_total\"][\"atmosphere_mass\"],\n",
                "    'C_total': with_solubility_data[\"C_total\"][\"atmosphere_mass\"],\n",
                "    \"H_moles\": with_solubility_data[\"H_total\"][\"atmosphere_moles\"],\n",
                "    \"C_moles\": with_solubility_data[\"C_total\"][\"atmosphere_moles\"],\n",
                "    \"O_moles\": with_solubility_data[\"O_total\"][\"atmosphere_moles\"],\n",
                "    # \"O2_g\": with_solubility_data[\"O2_g\"][\"fugacity\"],\n",
                "    # 'Cl_total': with_solubility_data[\"Cl_total\"][\"atmosphere_mass\"]\n",
                "}\n",
                "\n",
                "# Convert the dictionary into a DataFrame\n",
                "df = pd.DataFrame(data)\n",
                "\n",
                "# This was to test reordering the data to facilitate using InitialSolutionLast\n",
                "# df[\"C/O\"] = df['C_moles']/df[\"O_moles\"]\n",
                "# df[\"O/C\"] = 1/df[\"C/O\"]\n",
                "# df[\"H/O\"] = df[\"H_moles\"]/df[\"O_moles\"]\n",
                "\n",
                "# Testing seems to show that ordering by total O is most helpful for InitialSolutionLast to find\n",
                "# a solution\n",
                "df= df.sort_values(by=[\"O_total\", \"C/O\"])\n",
                "df"
            ]
        },
        {
            "cell_type": "code",
            "execution_count": null,
            "metadata": {},
            "outputs": [],
            "source": [
                "# Note that we must update the minimum log10 pressure\n",
                "initial_solution = InitialSolutionLast(species=species, min_log10_pressure=-75)"
            ]
        },
        {
            "cell_type": "code",
            "execution_count": null,
            "metadata": {},
            "outputs": [],
            "source": [
                "trappist1e_cooled_path = Path(f\"trappist1e_{equilibrium_temperature}K_{number_of_realisations}its\")"
            ]
        },
        {
            "cell_type": "code",
            "execution_count": null,
            "metadata": {},
            "outputs": [],
            "source": [
                "# Regressor performance is seemingly worse than using ordered data and the previous solution\n",
                "# trappist1e_initial_solution = Path(f\"trappist1e_280K_200its_fulltoll.pkl\")\n",
                "# initial_solution = InitialSolutionRegressor.from_pickle(trappist1e_initial_solution.with_suffix(\".pkl\"), species=species, fit=False, partial_fit=False, partial_fit_batch_size=50, min_log10_pressure=-75)"
            ]
        },
        {
            "cell_type": "code",
            "execution_count": null,
            "metadata": {},
            "outputs": [],
            "source": [
                "for row in df.itertuples(index=True):\n",
                "    # Save the index to allow us to correlate the condensed atmospheres with the high temperature\n",
                "    # origin.\n",
                "    index = row.Index\n",
                "    extra = {'index': index}\n",
                "    constraints = SystemConstraints([\n",
                "        ElementMassConstraint(\"H\", row.H_total),\n",
                "        # ElementMassConstraint(\"S\", row.S_total),\n",
                "        ElementMassConstraint(\"N\", row.N_total),\n",
                "        ElementMassConstraint(\"O\", row.O_total),\n",
                "        # TotalPressureConstraint(1),\n",
                "        ElementMassConstraint(\"C\", row.C_total),\n",
                "        # ElementMassConstraint(\"Cl\", row.Cl_total),\n",
                "        ]\n",
                "    )\n",
                "    # lm solver \"always\" finds a solution, although sometimes the residual is high. By contrast\n",
                "    # \"hybr\" with default parameters seems to always find the right solution, or fails.\n",
                "    system.solve(constraints, factor=10, initial_solution=initial_solution, max_attempts=20, extra_output=extra, errors=\"ignore\") # , method='lm')"
            ]
        },
        {
            "cell_type": "code",
            "execution_count": null,
            "metadata": {},
            "outputs": [],
            "source": [
                "system.failed_solves"
            ]
        },
        {
            "cell_type": "code",
            "execution_count": null,
            "metadata": {},
            "outputs": [],
            "source": [
                "system.output(file_prefix=trappist1e_cooled_path, to_excel=True, to_pickle=True)"
            ]
        }
    ],
    "metadata": {
        "kernelspec": {
            "display_name": ".venv",
            "language": "python",
            "name": "python3"
        },
        "language_info": {
            "codemirror_mode": {
                "name": "ipython",
                "version": 3
            },
            "file_extension": ".py",
            "mimetype": "text/x-python",
            "name": "python",
            "nbconvert_exporter": "python",
            "pygments_lexer": "ipython3",
            "version": "3.10.13"
        }
    },
    "nbformat": 4,
    "nbformat_minor": 2
}
