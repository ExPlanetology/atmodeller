{
    "cells": [
        {
            "cell_type": "markdown",
            "metadata": {},
            "source": [
                "# Condensates for Trappist 1-e models from Bower et al. (2024)"
            ]
        },
        {
            "cell_type": "code",
            "execution_count": null,
            "metadata": {},
            "outputs": [],
            "source": [
                "import logging\n",
                "\n",
                "import numpy as np\n",
                "import pandas as pd\n",
                "from scipy.spatial.distance import cdist\n",
                "from pathlib import Path\n",
                "import sys\n",
                "\n",
                "from atmodeller import debug_logger\n",
                "from atmodeller.constraints import ElementMassConstraint, SystemConstraints\n",
                "from atmodeller.core import GasSpecies, Species, LiquidSpecies, SolidSpecies\n",
                "from atmodeller.interior_atmosphere import Planet, InteriorAtmosphereSystem\n",
                "from atmodeller.initial_solution import InitialSolutionSwitchRegressor, InitialSolutionLast\n",
                "from atmodeller.output import Output\n",
                "from atmodeller.solution import ELEMENT_PREFIX\n",
                "\n",
                "logger = debug_logger()\n",
                "logger.setLevel(logging.INFO)"
            ]
        },
        {
            "cell_type": "markdown",
            "metadata": {},
            "source": [
                "The high temperature atmosphere simulations provide the constraints for the condensed atmosphere simulations."
            ]
        },
        {
            "cell_type": "code",
            "execution_count": null,
            "metadata": {},
            "outputs": [],
            "source": [
                "elements = [\"C\", \"H\", \"O\", \"N\", \"S\", \"Cl\"]\n",
                "\n",
                "high_temp_surface_temperature = 1800\n",
                "high_temp_mantle_melt_fraction = 1\n",
                "high_temp_number_of_realisations = 5000\n",
                "\n",
                "trappist1e_high_temp_full_path = Path(f\"t1e_{high_temp_surface_temperature}K_{high_temp_mantle_melt_fraction*100:0.0f}melt_{high_temp_number_of_realisations}its\")\n",
                "high_temp_output = Output.read_pickle(trappist1e_high_temp_full_path.with_suffix('.pkl'))\n",
                "high_temp_data = high_temp_output(to_dataframes=True)\n",
                "\n",
                "# Consolidate the mass constraints of the elements in the atmosphere into a dataframe\n",
                "atmosphere_mass = 'atmosphere_mass'\n",
                "mass_constraints = {}\n",
                "for element in elements:\n",
                "    mass_constraints[element] = high_temp_data[f\"{ELEMENT_PREFIX}{element}\"][atmosphere_mass]\n",
                "mass_constraints_df = pd.DataFrame(mass_constraints)\n",
                "\n",
                "# The approach here is to order the data so we can exploit the fact that the previous solution is\n",
                "# (probably) a reasonable initial guess for the next solution\n",
                "# Compute the pairwise distance matrix\n",
                "distance_matrix = cdist(mass_constraints_df.values, mass_constraints_df.values, metric='euclidean')\n",
                "\n",
                "# Compute the average distance for each row\n",
                "average_distances = distance_matrix.mean(axis=1)\n",
                "\n",
                "# Get the sorted order of the rows based on average distances\n",
                "sorted_indices = np.argsort(average_distances)\n",
                "sorted_indices = pd.Index(sorted_indices)\n",
                "\n",
                "# Reorder the array based on the sorted indices\n",
                "mass_constraints_df = mass_constraints_df.iloc[sorted_indices]\n",
                "\n",
                "# Assemble the system constraints for each entry in the dataframe\n",
                "constraints_list = []\n",
                "for nn, row in enumerate(mass_constraints_df.itertuples(index=True)):\n",
                "    constraints = SystemConstraints([])\n",
                "    for element in elements:\n",
                "        constraints.append(ElementMassConstraint(element, getattr(row, element)))\n",
                "    constraints_list.append(constraints)"
            ]
        },
        {
            "cell_type": "markdown",
            "metadata": {},
            "source": [
                "Parameters for the simulations"
            ]
        },
        {
            "cell_type": "code",
            "execution_count": null,
            "metadata": {},
            "outputs": [],
            "source": [
                "equilibrium_temperature = 280\n",
                "training_steps = 200"
            ]
        },
        {
            "cell_type": "markdown",
            "metadata": {},
            "source": [
                "TRAPPIST-1e planet properties\n",
                "\n",
                "Mass and radius measurements from Agol et al. (2021). Mantle mass is determined assuming the same mass proportion as Earth."
            ]
        },
        {
            "cell_type": "code",
            "execution_count": null,
            "metadata": {},
            "outputs": [],
            "source": [
                "planet_mass = 4.133E24\n",
                "trappist1e = Planet(surface_temperature=equilibrium_temperature, planet_mass=planet_mass, \n",
                "                    surface_radius=5.861E6, mantle_melt_fraction=0)"
            ]
        },
        {
            "cell_type": "markdown",
            "metadata": {},
            "source": [
                "Species to consider, including condensed C and H2O"
            ]
        },
        {
            "cell_type": "code",
            "execution_count": null,
            "metadata": {},
            "outputs": [],
            "source": [
                "# Gas species in the high temperature atmosphere\n",
                "H2O_g = GasSpecies(\"H2O\")\n",
                "H2_g = GasSpecies(\"H2\")\n",
                "O2_g = GasSpecies(\"O2\")\n",
                "CO_g = GasSpecies(\"CO\")\n",
                "CO2_g = GasSpecies(\"CO2\")\n",
                "CH4_g = GasSpecies(\"CH4\")\n",
                "N2_g = GasSpecies(\"N2\")\n",
                "NH3_g = GasSpecies(\"NH3\")\n",
                "S2_g = GasSpecies(\"S2\")\n",
                "H2S_g = GasSpecies(\"H2S\")\n",
                "SO2_g = GasSpecies(\"SO2\")\n",
                "SO_g = GasSpecies(\"SO\")\n",
                "Cl2_g = GasSpecies(\"Cl2\")\n",
                "\n",
                "# Also consider these condensates, which may or may not be stable, but the code will decide.\n",
                "H2O_l = LiquidSpecies(\"H2O\")\n",
                "C_cr = SolidSpecies(\"C\")\n",
                "\n",
                "species = Species([H2O_g, H2_g, O2_g, CO_g, CO2_g, CH4_g, N2_g, NH3_g, S2_g, SO2_g, SO_g, Cl2_g, \n",
                "                   H2S_g, H2O_l, C_cr])"
            ]
        },
        {
            "cell_type": "markdown",
            "metadata": {},
            "source": [
                "Start with the default dictionary of initial guesses and then switch to a regressor to provide a training dataset."
            ]
        },
        {
            "cell_type": "code",
            "execution_count": null,
            "metadata": {},
            "outputs": [],
            "source": [
                "initial_solution = InitialSolutionLast(species=species, min_log10_number_density=-80)\n",
                "# initial_solution_training = InitialSolutionSwitchRegressor(initial_solution_start,\n",
                "#     species=species, fit=True, switch_iteration=50, fit_batch_size=50, partial_fit=True, \n",
                "#     partial_fit_batch_size=50, min_log10_number_density=-80)"
            ]
        },
        {
            "cell_type": "code",
            "execution_count": null,
            "metadata": {},
            "outputs": [],
            "source": [
                "trappist1e_full_path = Path(\n",
                "    f\"t1e_{equilibrium_temperature}K_was{high_temp_mantle_melt_fraction*100:0.0f}melt_{high_temp_number_of_realisations}its\")"
            ]
        },
        {
            "cell_type": "code",
            "execution_count": null,
            "metadata": {},
            "outputs": [],
            "source": [
                "trappist1e_full = InteriorAtmosphereSystem(species=species, initial_solution=initial_solution,\n",
                "    planet=trappist1e)\n",
                "\n",
                "for nn, row in enumerate(mass_constraints_df.itertuples(index=True)):\n",
                "    # Need the index to correlate the condensed atmospheres with their high temperature origin.\n",
                "    index = row.Index\n",
                "    extra = {'index': index}\n",
                "    constraints = constraints_list[nn]\n",
                "    trappist1e_full.solve(constraints, initial_solution=initial_solution, method=\"lm\",\n",
                "        extra_output=extra, errors=\"raise\")"
            ]
        },
        {
            "cell_type": "code",
            "execution_count": null,
            "metadata": {},
            "outputs": [],
            "source": [
                "trappist1e_full.output(file_prefix=trappist1e_full_path, to_pickle=True, to_excel=True)"
            ]
        },
        {
            "cell_type": "code",
            "execution_count": null,
            "metadata": {},
            "outputs": [],
            "source": [
                "trappist1e_full.failed_solves"
            ]
        },
        {
            "cell_type": "code",
            "execution_count": null,
            "metadata": {},
            "outputs": [],
            "source": [
                "sys.exit(0)"
            ]
        },
        {
            "cell_type": "markdown",
            "metadata": {},
            "source": [
                "# Post-processing\n",
                "\n",
                "Finally, we can correlate the high temperature atmospheres to the condensed atmospheres. We only include combinations which we know solved to within the tolerance."
            ]
        },
        {
            "cell_type": "code",
            "execution_count": null,
            "metadata": {},
            "outputs": [],
            "source": [
                "output_high_temperature = Output.read_pickle(f\"{trappist1e_with_sols_path}.pkl\")\n",
                "output_cooled_path = \"trappist1e_280K_5000its\"\n",
                "output_condensed = Output.read_pickle(f\"{output_cooled_path}.pkl\")\n",
                "\n",
                "output_reordered = output_high_temperature.reorder(output_condensed, \"extra\", \"index\")"
            ]
        },
        {
            "cell_type": "code",
            "execution_count": null,
            "metadata": {},
            "outputs": [],
            "source": [
                "output_reordered(to_pickle=True, to_excel=True)"
            ]
        },
        {
            "cell_type": "markdown",
            "metadata": {},
            "source": [
                "Find models that could not solve."
            ]
        },
        {
            "cell_type": "code",
            "execution_count": null,
            "metadata": {},
            "outputs": [],
            "source": [
                "output_reordered = output_high_temperature.filter_by_index_notin(output_condensed, \"extra\", \"index\")"
            ]
        },
        {
            "cell_type": "code",
            "execution_count": null,
            "metadata": {},
            "outputs": [],
            "source": [
                "output_reordered(to_pickle=True, to_excel=True)"
            ]
        }
    ],
    "metadata": {
        "kernelspec": {
            "display_name": ".venv",
            "language": "python",
            "name": "python3"
        },
        "language_info": {
            "codemirror_mode": {
                "name": "ipython",
                "version": 3
            },
            "file_extension": ".py",
            "mimetype": "text/x-python",
            "name": "python",
            "nbconvert_exporter": "python",
            "pygments_lexer": "ipython3",
            "version": "3.10.13"
        }
    },
    "nbformat": 4,
    "nbformat_minor": 2
}
