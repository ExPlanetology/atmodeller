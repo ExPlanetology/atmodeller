{
    "cells": [
        {
            "cell_type": "markdown",
            "metadata": {},
            "source": [
                "# Data generation for Trappist 1-e models from Bower et al. (2024)"
            ]
        },
        {
            "cell_type": "code",
            "execution_count": null,
            "metadata": {},
            "outputs": [],
            "source": [
                "import copy\n",
                "import logging\n",
                "\n",
                "import numpy as np\n",
                "from pathlib import Path\n",
                "\n",
                "from atmodeller import debug_logger\n",
                "from atmodeller.constraints import ElementMassConstraint, SystemConstraints, BufferedFugacityConstraint\n",
                "from atmodeller.thermodata.redox_buffers import IronWustiteBuffer\n",
                "from atmodeller.core import GasSpecies, Species\n",
                "from atmodeller.interior_atmosphere import Planet, InteriorAtmosphereSystem\n",
                "from atmodeller.initial_solution import InitialSolutionRegressor, InitialSolutionSwitchRegressor, InitialSolutionDict\n",
                "from atmodeller.utilities import earth_oceans_to_kg, bulk_silicate_earth_abundances\n",
                "\n",
                "logger = debug_logger()\n",
                "logger.setLevel(logging.INFO)"
            ]
        },
        {
            "cell_type": "markdown",
            "metadata": {},
            "source": [
                "Parameters for the simulations."
            ]
        },
        {
            "cell_type": "code",
            "execution_count": null,
            "metadata": {},
            "outputs": [],
            "source": [
                "surface_temperature = 1800\n",
                "number_of_realisations = 5000\n",
                "training_steps = 250"
            ]
        },
        {
            "cell_type": "markdown",
            "metadata": {},
            "source": [
                "Species to consider. These are initially excluding solubility."
            ]
        },
        {
            "cell_type": "code",
            "execution_count": null,
            "metadata": {},
            "outputs": [],
            "source": [
                "H2O_g = GasSpecies(\"H2O\")\n",
                "H2_g = GasSpecies(\"H2\")\n",
                "O2_g = GasSpecies(\"O2\")\n",
                "CO_g = GasSpecies(\"CO\")\n",
                "CO2_g = GasSpecies(\"CO2\")\n",
                "CH4_g = GasSpecies(\"CH4\")\n",
                "N2_g = GasSpecies(\"N2\")\n",
                "NH3_g = GasSpecies(\"NH3\")\n",
                "S2_g = GasSpecies(\"S2\")\n",
                "H2S_g = GasSpecies(\"H2S\")\n",
                "SO2_g = GasSpecies(\"SO2\")\n",
                "SO_g = GasSpecies(\"SO\")\n",
                "Cl2_g = GasSpecies(\"Cl2\")\n",
                "\n",
                "species = Species([H2O_g, H2_g, O2_g, CO_g, CO2_g, CH4_g, N2_g, NH3_g, S2_g, H2S_g, SO2_g, SO_g, Cl2_g])"
            ]
        },
        {
            "cell_type": "markdown",
            "metadata": {},
            "source": [
                "TRAPPIST-1e planet properties\n",
                "\n",
                "Mass and radius measurements from Agol et al. 2021; Mantle mass determined assuming same proportion as Earth"
            ]
        },
        {
            "cell_type": "code",
            "execution_count": null,
            "metadata": {},
            "outputs": [],
            "source": [
                "mantle_mass = 2.912E24\n",
                "planet_mass = mantle_mass / (1-0.295334691460966)\n",
                "trappist1e = Planet(surface_temperature=surface_temperature, planet_mass = 2.912E24, surface_radius = 5.861E6)"
            ]
        },
        {
            "cell_type": "markdown",
            "metadata": {},
            "source": [
                "Earth planet properties, which are required to scale the bulk volatile inventories for Trappist-1e. Default parameters are Earth so we only need to specify the temperature."
            ]
        },
        {
            "cell_type": "code",
            "execution_count": null,
            "metadata": {},
            "outputs": [],
            "source": [
                "earth = Planet(surface_temperature=surface_temperature)"
            ]
        },
        {
            "cell_type": "code",
            "execution_count": null,
            "metadata": {},
            "outputs": [],
            "source": [
                "earth_bse = bulk_silicate_earth_abundances()"
            ]
        },
        {
            "cell_type": "markdown",
            "metadata": {},
            "source": [
                "Compute the reservoir sizes for TRAPPIST 1-e, assuming the same ppmw as Earth:"
            ]
        },
        {
            "cell_type": "code",
            "execution_count": null,
            "metadata": {},
            "outputs": [],
            "source": [
                "trappist1e_bse = copy.deepcopy(earth_bse)\n",
                "mass_scale_factor = trappist1e.mantle_mass / earth.mantle_mass\n",
                "\n",
                "for element, values in trappist1e_bse.items():\n",
                "    trappist1e_bse[element] = {key: value*mass_scale_factor for key, value in values.items()}\n",
                "\n",
                "trappist1e_bse"
            ]
        },
        {
            "cell_type": "markdown",
            "metadata": {},
            "source": [
                "Now set up the main driver of the Monte Carlo (MC) approach. This establishes the ranges over which we sample certain properties."
            ]
        },
        {
            "cell_type": "code",
            "execution_count": null,
            "metadata": {},
            "outputs": [],
            "source": [
                "def monte_carlo(interior_atmosphere: InteriorAtmosphereSystem, bse: dict, number_of_realisations:int=100):\n",
                "    \"\"\"Monte Carlo driver\n",
                "    \n",
                "    Args:\n",
                "        interior_atmosphere: An interior-atmosphere system\n",
                "        bse: Dictionary of element masses, fixed to the ppmw of the bulk silicate Earth\n",
                "        number_of_realisation: Number of simulations to perform\n",
                "    \"\"\"\n",
                "\n",
                "    # Parameters are normally distributed between bounds.\n",
                "    number_ocean_moles = np.random.uniform(0.1, 10, number_of_realisations)\n",
                "    ch_ratios = np.random.uniform(0.1, 10, number_of_realisations)\n",
                "    fo2_shifts = np.random.uniform(-5, 5, number_of_realisations)\n",
                "\n",
                "    for realisation in range(number_of_realisations):\n",
                "\n",
                "        mass_H = earth_oceans_to_kg(number_ocean_moles[realisation])\n",
                "        mass_C = ch_ratios[realisation] * mass_H\n",
                "        constraints = SystemConstraints([\n",
                "            ElementMassConstraint(\"H\", mass_H),\n",
                "            ElementMassConstraint(\"C\", mass_C),\n",
                "            ElementMassConstraint(\"N\", bse['N']['mean']),\n",
                "            ElementMassConstraint(\"S\", bse['S']['mean']),\n",
                "            ElementMassConstraint(\"Cl\", bse['Cl']['mean']),\n",
                "            BufferedFugacityConstraint(O2_g, IronWustiteBuffer(log10_shift=fo2_shifts[realisation]))\n",
                "        ])\n",
                "\n",
                "        # Extra quantities to write to the output\n",
                "        # For example, it's often helpful to have the constraints expressed in a more convenient\n",
                "        # form for analysis and plotting.\n",
                "        extra = {'fO2_shift': fo2_shifts[realisation], 'C/H ratio': ch_ratios[realisation],\n",
                "            'Number of ocean moles': number_ocean_moles[realisation]}\n",
                "\n",
                "        interior_atmosphere.solve(constraints, extra_output=extra, tol=1e-5)"
            ]
        },
        {
            "cell_type": "markdown",
            "metadata": {},
            "source": [
                "### CHONSCl with no solubilities"
            ]
        },
        {
            "cell_type": "markdown",
            "metadata": {},
            "source": [
                "Start with a dictionary of initial guesses and then switch to a regressor to provide a training dataset."
            ]
        },
        {
            "cell_type": "code",
            "execution_count": null,
            "metadata": {},
            "outputs": [],
            "source": [
                "values = {'H2_g': 100.0, 'H2O_g': 100, 'CO2_g': 100, 'CO_g': 500, 'S2_g': 1}\n",
                "initial_solution_start = InitialSolutionDict(values, species=species)\n",
                "initial_solution_training = InitialSolutionSwitchRegressor(initial_solution_start, species=species, fit=True, fit_batch_size=50, partial_fit=True, partial_fit_batch_size=25)"
            ]
        },
        {
            "cell_type": "markdown",
            "metadata": {},
            "source": [
                "Now run this training model and save the output to a pickle file."
            ]
        },
        {
            "cell_type": "code",
            "execution_count": null,
            "metadata": {},
            "outputs": [],
            "source": [
                "trappist1e_no_sols_training = InteriorAtmosphereSystem(species=species, initial_solution=initial_solution_training, planet=trappist1e)\n",
                "monte_carlo(trappist1e_no_sols_training, trappist1e_bse, number_of_realisations=training_steps)\n",
                "trappist1e_no_sols_training_path = Path(f\"trappist1e_{surface_temperature}K_no_sols_{training_steps}its\")\n",
                "trappist1e_no_sols_training.output(file_prefix=trappist1e_no_sols_training_path, to_pickle=True, to_excel=True)"
            ]
        },
        {
            "cell_type": "markdown",
            "metadata": {},
            "source": [
                "Now, we can use the training output generated above to train a network and use this to improve convergence and speed up the computation of the final run."
            ]
        },
        {
            "cell_type": "code",
            "execution_count": null,
            "metadata": {},
            "outputs": [],
            "source": [
                "initial_solution_full = InitialSolutionRegressor.from_pickle(trappist1e_no_sols_training_path.with_suffix(\".pkl\"), species=species, fit=False, partial_fit=True, partial_fit_batch_size=1000)"
            ]
        },
        {
            "cell_type": "markdown",
            "metadata": {},
            "source": [
                "Run the full model and export the data."
            ]
        },
        {
            "cell_type": "code",
            "execution_count": null,
            "metadata": {},
            "outputs": [],
            "source": [
                "trappist1e_no_sols = InteriorAtmosphereSystem(species=species, initial_solution=initial_solution_full, planet=trappist1e)\n",
                "monte_carlo(trappist1e_no_sols, trappist1e_bse, number_of_realisations=number_of_realisations)\n",
                "trappist1e_no_sols_path = Path(f\"trappist1e_{surface_temperature}K_no_sols_{number_of_realisations}its\")\n",
                "trappist1e_no_sols.output(file_prefix=trappist1e_no_sols_path, to_pickle=True, to_excel=True)"
            ]
        },
        {
            "cell_type": "markdown",
            "metadata": {},
            "source": [
                "### CHONSCl with solubilities"
            ]
        },
        {
            "cell_type": "markdown",
            "metadata": {},
            "source": [
                "This will set all the solubilities (where possible) to conform to a basaltic composition."
            ]
        },
        {
            "cell_type": "code",
            "execution_count": null,
            "metadata": {},
            "outputs": [],
            "source": [
                "trappist1e.melt_composition = 'basalt'"
            ]
        },
        {
            "cell_type": "markdown",
            "metadata": {},
            "source": [
                "The pickle file output for the training model without solubilities (above) is used to inform the initial condition for the training set with solubilities, but because solubilities can strongly affect the solution, we use the `species_fill` dictionary to modify some initial guesses."
            ]
        },
        {
            "cell_type": "code",
            "execution_count": null,
            "metadata": {},
            "outputs": [],
            "source": [
                "species_fill = {'Cl2_g': 1E-6, 'H2_g': 1, 'H2O_g': 1, 'S2_g': 1E-6, 'SO2_g': 1E-6, 'SO_g': 1E-6}\n",
                "initial_solution_training = InitialSolutionRegressor.from_pickle(trappist1e_no_sols_training_path.with_suffix(\".pkl\"), species=species, species_fill=species_fill, fit=True, fit_batch_size=50, partial_fit=True, partial_fit_batch_size=25)"
            ]
        },
        {
            "cell_type": "markdown",
            "metadata": {},
            "source": [
                "Run the training model and save the output to a pickle file."
            ]
        },
        {
            "cell_type": "code",
            "execution_count": null,
            "metadata": {},
            "outputs": [],
            "source": [
                "trappist1e_with_sols_training = InteriorAtmosphereSystem(species=species, initial_solution=initial_solution_training, planet=trappist1e)\n",
                "monte_carlo(trappist1e_with_sols_training, trappist1e_bse, number_of_realisations=training_steps)\n",
                "trappist1e_with_sols_training_path = Path(f\"trappist1e_{surface_temperature}K_with_sols_{training_steps}its\")\n",
                "trappist1e_with_sols_training.output(file_prefix=trappist1e_with_sols_training_path, to_pickle=True, to_excel=True)"
            ]
        },
        {
            "cell_type": "markdown",
            "metadata": {},
            "source": [
                "Now, we can use the training output generated above to train a network and use this to improve convergence and speed up the computation of the final run."
            ]
        },
        {
            "cell_type": "code",
            "execution_count": null,
            "metadata": {},
            "outputs": [],
            "source": [
                "initial_solution_full = InitialSolutionRegressor.from_pickle(trappist1e_with_sols_training_path.with_suffix(\".pkl\"), species=species, fit=False, partial_fit=True, partial_fit_batch_size=1000)"
            ]
        },
        {
            "cell_type": "markdown",
            "metadata": {},
            "source": [
                "Run the full model and export the data."
            ]
        },
        {
            "cell_type": "code",
            "execution_count": null,
            "metadata": {},
            "outputs": [],
            "source": [
                "trappist1e_with_sols = InteriorAtmosphereSystem(species=species, initial_solution=initial_solution_full, planet=trappist1e)\n",
                "monte_carlo(trappist1e_with_sols, trappist1e_bse, number_of_realisations=number_of_realisations)\n",
                "trappist1e_with_sols_path = Path(f\"trappist1e_{surface_temperature}K_with_sols_{number_of_realisations}its\")\n",
                "trappist1e_with_sols.output(file_prefix=trappist1e_with_sols_path, to_pickle=True, to_excel=True)"
            ]
        }
    ],
    "metadata": {
        "kernelspec": {
            "display_name": ".venv",
            "language": "python",
            "name": "python3"
        },
        "language_info": {
            "codemirror_mode": {
                "name": "ipython",
                "version": 3
            },
            "file_extension": ".py",
            "mimetype": "text/x-python",
            "name": "python",
            "nbconvert_exporter": "python",
            "pygments_lexer": "ipython3",
            "version": "3.10.13"
        }
    },
    "nbformat": 4,
    "nbformat_minor": 2
}
