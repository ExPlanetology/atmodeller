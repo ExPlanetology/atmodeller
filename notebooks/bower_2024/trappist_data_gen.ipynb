{
    "cells": [
        {
            "cell_type": "markdown",
            "metadata": {},
            "source": [
                "# Data generation for Trappist 1-e models from Bower et al. (2024)"
            ]
        },
        {
            "cell_type": "code",
            "execution_count": null,
            "metadata": {},
            "outputs": [],
            "source": [
                "import copy\n",
                "import logging\n",
                "\n",
                "import numpy as np\n",
                "import pandas as pd\n",
                "from pathlib import Path\n",
                "\n",
                "from atmodeller import debug_logger\n",
                "from atmodeller.constraints import ElementMassConstraint, SystemConstraints, BufferedFugacityConstraint\n",
                "from atmodeller.thermodata.redox_buffers import IronWustiteBuffer\n",
                "from atmodeller.core import GasSpecies, Species, LiquidSpecies, SolidSpecies\n",
                "from atmodeller.interior_atmosphere import Planet, InteriorAtmosphereSystem\n",
                "from atmodeller.initial_solution import InitialSolutionRegressor, InitialSolutionSwitchRegressor, InitialSolutionDict, InitialSolutionLast\n",
                "from atmodeller.utilities import earth_oceans_to_kg, bulk_silicate_earth_abundances\n",
                "from atmodeller.output import Output\n",
                "\n",
                "logger = debug_logger()\n",
                "# logger.setLevel(logging.INFO)"
            ]
        },
        {
            "cell_type": "markdown",
            "metadata": {},
            "source": [
                "Parameters for the simulations."
            ]
        },
        {
            "cell_type": "code",
            "execution_count": null,
            "metadata": {},
            "outputs": [],
            "source": [
                "number_of_realisations = 10000\n",
                "training_steps = 250"
            ]
        },
        {
            "cell_type": "code",
            "execution_count": null,
            "metadata": {},
            "outputs": [],
            "source": [
                "surface_temperature = 1800"
            ]
        },
        {
            "cell_type": "markdown",
            "metadata": {},
            "source": [
                "Species to consider. These are initially excluding solubility."
            ]
        },
        {
            "cell_type": "code",
            "execution_count": null,
            "metadata": {},
            "outputs": [],
            "source": [
                "H2O_g = GasSpecies(\"H2O\")\n",
                "H2_g = GasSpecies(\"H2\")\n",
                "O2_g = GasSpecies(\"O2\")\n",
                "CO_g = GasSpecies(\"CO\")\n",
                "CO2_g = GasSpecies(\"CO2\")\n",
                "CH4_g = GasSpecies(\"CH4\")\n",
                "N2_g = GasSpecies(\"N2\")\n",
                "NH3_g = GasSpecies(\"NH3\")\n",
                "S2_g = GasSpecies(\"S2\")\n",
                "H2S_g = GasSpecies(\"H2S\")\n",
                "SO2_g = GasSpecies(\"SO2\")\n",
                "SO_g = GasSpecies(\"SO\")\n",
                "Cl2_g = GasSpecies(\"Cl2\")\n",
                "\n",
                "species = Species([H2O_g, H2_g, O2_g, CO_g, CO2_g, CH4_g, N2_g, NH3_g, S2_g, H2S_g, SO2_g, SO_g, Cl2_g])"
            ]
        },
        {
            "cell_type": "markdown",
            "metadata": {},
            "source": [
                "TRAPPIST-1e planet properties\n",
                "\n",
                "Mass and radius measurements from Agol et al. 2021; Mantle mass determined assuming same proportion as Earth"
            ]
        },
        {
            "cell_type": "code",
            "execution_count": null,
            "metadata": {},
            "outputs": [],
            "source": [
                "mantle_mass = 2.912E24\n",
                "planet_mass = mantle_mass / (1-0.295334691460966)\n",
                "trappist1e = Planet(surface_temperature=surface_temperature, planet_mass=2.912E24, surface_radius=5.861E6)"
            ]
        },
        {
            "cell_type": "markdown",
            "metadata": {},
            "source": [
                "Earth planet properties, which are required to scale the bulk volatile inventories for Trappist-1e. Default parameters are Earth so we only need to specify the temperature."
            ]
        },
        {
            "cell_type": "code",
            "execution_count": null,
            "metadata": {},
            "outputs": [],
            "source": [
                "earth = Planet(surface_temperature=surface_temperature)"
            ]
        },
        {
            "cell_type": "code",
            "execution_count": null,
            "metadata": {},
            "outputs": [],
            "source": [
                "earth_bse = bulk_silicate_earth_abundances()"
            ]
        },
        {
            "cell_type": "markdown",
            "metadata": {},
            "source": [
                "Compute the reservoir sizes for TRAPPIST 1-e, assuming the same ppmw as Earth:"
            ]
        },
        {
            "cell_type": "code",
            "execution_count": null,
            "metadata": {},
            "outputs": [],
            "source": [
                "trappist1e_bse = copy.deepcopy(earth_bse)\n",
                "mass_scale_factor = trappist1e.mantle_mass / earth.mantle_mass\n",
                "\n",
                "for element, values in trappist1e_bse.items():\n",
                "    trappist1e_bse[element] = {key: value*mass_scale_factor for key, value in values.items()}\n",
                "\n",
                "trappist1e_bse"
            ]
        },
        {
            "cell_type": "markdown",
            "metadata": {},
            "source": [
                "Now set up the main driver of the Monte Carlo (MC) approach. This establishes the ranges over which we sample certain properties."
            ]
        },
        {
            "cell_type": "code",
            "execution_count": null,
            "metadata": {},
            "outputs": [],
            "source": [
                "def monte_carlo(interior_atmosphere: InteriorAtmosphereSystem, bse: dict, \n",
                "    number_of_realisations:int=100):\n",
                "    \"\"\"Monte Carlo driver\n",
                "    \n",
                "    Args:\n",
                "        interior_atmosphere: An interior-atmosphere system\n",
                "        bse: Dictionary of element masses, fixed to the ppmw of the bulk silicate Earth\n",
                "        number_of_realisation: Number of simulations to perform\n",
                "    \"\"\"\n",
                "    # Parameters are normally distributed between bounds.\n",
                "    log10_number_ocean_moles = np.random.uniform(-1, 1, number_of_realisations) # log10 units\n",
                "    log10_ch_ratios = np.random.uniform(-1, 1, number_of_realisations) # log10 units\n",
                "    fo2_shifts = np.random.uniform(-5, 5, number_of_realisations) # log10 units\n",
                "\n",
                "    for realisation in range(number_of_realisations):\n",
                "        number_ocean_moles = 10**log10_number_ocean_moles[realisation]\n",
                "        mass_H = earth_oceans_to_kg(number_ocean_moles)\n",
                "        CH_ratio = 10**log10_ch_ratios[realisation]\n",
                "        mass_C = mass_H * CH_ratio\n",
                "        constraints = SystemConstraints([\n",
                "            ElementMassConstraint(\"H\", mass_H),\n",
                "            ElementMassConstraint(\"C\", mass_C),\n",
                "            ElementMassConstraint(\"N\", bse['N']['mean']),\n",
                "            ElementMassConstraint(\"S\", bse['S']['mean']),\n",
                "            ElementMassConstraint(\"Cl\", bse['Cl']['mean']),\n",
                "            BufferedFugacityConstraint(O2_g, IronWustiteBuffer(log10_shift=fo2_shifts[realisation]))\n",
                "        ])\n",
                "\n",
                "        # Extra quantities to write to the output\n",
                "        # For example, it's often helpful to have the constraints expressed in a more convenient\n",
                "        # form for analysis and plotting.\n",
                "        extra = {'fO2 (delta IW)': fo2_shifts[realisation], 'C/H ratio': CH_ratio,\n",
                "            'Number of ocean moles': number_ocean_moles}\n",
                "\n",
                "        interior_atmosphere.solve(constraints, extra_output=extra, tol=1e-5)"
            ]
        },
        {
            "cell_type": "markdown",
            "metadata": {},
            "source": [
                "### CHONSCl with no solubilities"
            ]
        },
        {
            "cell_type": "markdown",
            "metadata": {},
            "source": [
                "Start with a dictionary of initial guesses and then switch to a regressor to provide a training dataset."
            ]
        },
        {
            "cell_type": "code",
            "execution_count": null,
            "metadata": {},
            "outputs": [],
            "source": [
                "values = {H2_g: 100.0, H2O_g: 100.0, CO2_g: 100.0, CO_g: 500.0, S2_g: 1}\n",
                "initial_solution_start = InitialSolutionDict(values, species=species)\n",
                "initial_solution_training = InitialSolutionSwitchRegressor(initial_solution_start, species=species, fit=True, fit_batch_size=100, partial_fit=False)"
            ]
        },
        {
            "cell_type": "markdown",
            "metadata": {},
            "source": [
                "Now run this training model and save the output to a pickle file."
            ]
        },
        {
            "cell_type": "code",
            "execution_count": null,
            "metadata": {},
            "outputs": [],
            "source": [
                "trappist1e_no_sols_training_path = Path(f\"trappist1e_{surface_temperature}K_no_sols_{training_steps}its\")"
            ]
        },
        {
            "cell_type": "code",
            "execution_count": null,
            "metadata": {},
            "outputs": [],
            "source": [
                "trappist1e_no_sols_training = InteriorAtmosphereSystem(species=species, initial_solution=initial_solution_training, planet=trappist1e)\n",
                "monte_carlo(trappist1e_no_sols_training, trappist1e_bse, number_of_realisations=training_steps)\n",
                "trappist1e_no_sols_training.output(file_prefix=trappist1e_no_sols_training_path, to_pickle=True, to_excel=True)"
            ]
        },
        {
            "cell_type": "markdown",
            "metadata": {},
            "source": [
                "Now, we can use the training output generated above to train a network and use this to improve convergence and speed up the computation of the final run."
            ]
        },
        {
            "cell_type": "code",
            "execution_count": null,
            "metadata": {},
            "outputs": [],
            "source": [
                "initial_solution_full = InitialSolutionRegressor.from_pickle(trappist1e_no_sols_training_path.with_suffix(\".pkl\"), species=species, fit=False, partial_fit=True, partial_fit_batch_size=500)"
            ]
        },
        {
            "cell_type": "markdown",
            "metadata": {},
            "source": [
                "Run the full model and export the data."
            ]
        },
        {
            "cell_type": "code",
            "execution_count": null,
            "metadata": {},
            "outputs": [],
            "source": [
                "trappist1e_no_sols_path = Path(f\"trappist1e_{surface_temperature}K_no_sols_{number_of_realisations}its\")"
            ]
        },
        {
            "cell_type": "code",
            "execution_count": null,
            "metadata": {},
            "outputs": [],
            "source": [
                "trappist1e_no_sols = InteriorAtmosphereSystem(species=species, initial_solution=initial_solution_full, planet=trappist1e)\n",
                "monte_carlo(trappist1e_no_sols, trappist1e_bse, number_of_realisations=number_of_realisations)\n",
                "trappist1e_no_sols.output(file_prefix=trappist1e_no_sols_path, to_pickle=True, to_excel=True)"
            ]
        },
        {
            "cell_type": "markdown",
            "metadata": {},
            "source": [
                "### CHONSCl with solubilities"
            ]
        },
        {
            "cell_type": "markdown",
            "metadata": {},
            "source": [
                "This will set all the solubilities (where possible) to conform to a basaltic composition."
            ]
        },
        {
            "cell_type": "code",
            "execution_count": null,
            "metadata": {},
            "outputs": [],
            "source": [
                "trappist1e.melt_composition = 'basalt'"
            ]
        },
        {
            "cell_type": "markdown",
            "metadata": {},
            "source": [
                "The pickle file output for the training model without solubilities (above) is used to inform the initial condition for the training set with solubilities, but because solubilities can strongly affect the solution, we use the `species_fill` dictionary to modify some initial guesses."
            ]
        },
        {
            "cell_type": "code",
            "execution_count": null,
            "metadata": {},
            "outputs": [],
            "source": [
                "species_fill = {Cl2_g: 1E-6, H2_g: 1, H2O_g: 1, S2_g: 1E-6, SO2_g: 1E-6, SO_g: 1E-6}\n",
                "initial_solution_training = InitialSolutionRegressor.from_pickle(trappist1e_no_sols_training_path.with_suffix(\".pkl\"), species=species, species_fill=species_fill, fit=True, fit_batch_size=100, partial_fit=False)"
            ]
        },
        {
            "cell_type": "markdown",
            "metadata": {},
            "source": [
                "Run the training model and save the output to a pickle file."
            ]
        },
        {
            "cell_type": "code",
            "execution_count": null,
            "metadata": {},
            "outputs": [],
            "source": [
                "trappist1e_with_sols_training_path = Path(f\"trappist1e_{surface_temperature}K_with_sols_{training_steps}its\")"
            ]
        },
        {
            "cell_type": "code",
            "execution_count": null,
            "metadata": {},
            "outputs": [],
            "source": [
                "trappist1e_with_sols_training = InteriorAtmosphereSystem(species=species, initial_solution=initial_solution_training, planet=trappist1e)\n",
                "monte_carlo(trappist1e_with_sols_training, trappist1e_bse, number_of_realisations=training_steps)\n",
                "trappist1e_with_sols_training.output(file_prefix=trappist1e_with_sols_training_path, to_pickle=True, to_excel=True)"
            ]
        },
        {
            "cell_type": "markdown",
            "metadata": {},
            "source": [
                "Now, we can use the training output generated above to train a network and use this to improve convergence and speed up the computation of the final run."
            ]
        },
        {
            "cell_type": "code",
            "execution_count": null,
            "metadata": {},
            "outputs": [],
            "source": [
                "initial_solution_full = InitialSolutionRegressor.from_pickle(trappist1e_with_sols_training_path.with_suffix(\".pkl\"), species=species, fit=False, partial_fit=True, partial_fit_batch_size=500)"
            ]
        },
        {
            "cell_type": "markdown",
            "metadata": {},
            "source": [
                "Run the full model and export the data."
            ]
        },
        {
            "cell_type": "code",
            "execution_count": null,
            "metadata": {},
            "outputs": [],
            "source": [
                "trappist1e_with_sols_path = Path(f\"trappist1e_{surface_temperature}K_with_sols_{number_of_realisations}its\")"
            ]
        },
        {
            "cell_type": "code",
            "execution_count": null,
            "metadata": {},
            "outputs": [],
            "source": [
                "trappist1e_with_sols = InteriorAtmosphereSystem(species=species, initial_solution=initial_solution_full, planet=trappist1e)\n",
                "monte_carlo(trappist1e_with_sols, trappist1e_bse, number_of_realisations=number_of_realisations)\n",
                "trappist1e_with_sols.output(file_prefix=trappist1e_with_sols_path, to_pickle=True, to_excel=True)"
            ]
        },
        {
            "cell_type": "markdown",
            "metadata": {},
            "source": [
                "### CHONSCl cooled/condensed atmospheres\n",
                "\n",
                "Finally, read back in the high temperature atmospheres and cool them to the equilibrium temperature of Trappist-1e"
            ]
        },
        {
            "cell_type": "code",
            "execution_count": null,
            "metadata": {},
            "outputs": [],
            "source": [
                "equilibrium_temperature = 280"
            ]
        },
        {
            "cell_type": "markdown",
            "metadata": {},
            "source": [
                "This duplicates the planetary properties set above, but sets a new surface temperature."
            ]
        },
        {
            "cell_type": "code",
            "execution_count": null,
            "metadata": {},
            "outputs": [],
            "source": [
                "mantle_mass = 2.912E24\n",
                "planet_mass = mantle_mass / (1-0.295334691460966)\n",
                "trappist1e = Planet(surface_temperature=equilibrium_temperature, planet_mass=2.912E24, surface_radius=5.861E6, mantle_melt_fraction=0)"
            ]
        },
        {
            "cell_type": "markdown",
            "metadata": {},
            "source": [
                "Species to consider, including condensed C and H2O"
            ]
        },
        {
            "cell_type": "code",
            "execution_count": null,
            "metadata": {},
            "outputs": [],
            "source": [
                "H2O_g = GasSpecies(\"H2O\")\n",
                "H2_g = GasSpecies(\"H2\")\n",
                "O2_g = GasSpecies(\"O2\")\n",
                "CO_g = GasSpecies(\"CO\")\n",
                "CO2_g = GasSpecies(\"CO2\")\n",
                "CH4_g = GasSpecies(\"CH4\")\n",
                "#N2_g = GasSpecies(\"N2\")\n",
                "#NH3_g = GasSpecies(\"NH3\")\n",
                "#S2_g = GasSpecies(\"S2\")\n",
                "#H2S_g = GasSpecies(\"H2S\")\n",
                "#SO2_g = GasSpecies(\"SO2\")\n",
                "#SO_g = GasSpecies(\"SO\")\n",
                "#Cl2_g = GasSpecies(\"Cl2\")\n",
                "H2O_l = LiquidSpecies(\"H2O\")\n",
                "C_cr = SolidSpecies(\"C\")\n",
                "\n",
                "#species = Species([H2O_g, H2_g, O2_g, CO_g, CO2_g, CH4_g, N2_g, NH3_g, S2_g, H2S_g, SO2_g, SO_g, Cl2_g, H2O_l, C_cr])\n",
                "species = Species([H2O_g, H2_g, O2_g, CO_g, CO2_g, CH4_g, H2O_l, C_cr])\n",
                "\n",
                "system = InteriorAtmosphereSystem(species=species, planet=trappist1e)"
            ]
        },
        {
            "cell_type": "markdown",
            "metadata": {},
            "source": [
                "Get element abundances for constraints"
            ]
        },
        {
            "cell_type": "code",
            "execution_count": null,
            "metadata": {},
            "outputs": [],
            "source": [
                "trappist1e_with_sols_path = Path(f\"trappist1e_{surface_temperature}K_with_sols_{number_of_realisations}its\")\n",
                "output = Output.read_pickle(trappist1e_with_sols_path.with_suffix('.pkl'))\n",
                "with_solubility_data = output(to_dataframes=True)"
            ]
        },
        {
            "cell_type": "code",
            "execution_count": null,
            "metadata": {},
            "outputs": [],
            "source": [
                "# Create a dictionary with the series\n",
                "data = {\n",
                "    'H_total': with_solubility_data[\"H_total\"][\"atmosphere_mass\"],\n",
                "    #'S_total': with_solubility_data[\"S_total\"][\"atmosphere_mass\"],\n",
                "    #'N_total': with_solubility_data[\"N_total\"][\"atmosphere_mass\"],\n",
                "    'O_total': with_solubility_data[\"O_total\"][\"atmosphere_mass\"],\n",
                "    'C_total': with_solubility_data[\"C_total\"][\"atmosphere_mass\"],\n",
                "    #'Cl_total': with_solubility_data[\"Cl_total\"][\"atmosphere_mass\"]\n",
                "}\n",
                "\n",
                "# Convert the dictionary into a DataFrame\n",
                "df = pd.DataFrame(data)"
            ]
        },
        {
            "cell_type": "code",
            "execution_count": null,
            "metadata": {},
            "outputs": [],
            "source": [
                "ic_first = InitialSolutionDict({CH4_g: 0.9185445957233848,\n",
                "    CO2_g: 5.56633357640032e-07,\n",
                "    CO_g: 2.4059392096609617e-15,\n",
                "    C_cr: 1.0,\n",
                "    H2O_g: 0.009803396976251115,\n",
                "    H2O_l: 1.0,\n",
                "    H2_g: 1.2993269399660158e-05,\n",
                "    O2_g: 1.5251879583110059e-80},\n",
                "    species=species)\n",
                "\n",
                "initial_solution = InitialSolutionLast(ic_first, species=species)"
            ]
        },
        {
            "cell_type": "code",
            "execution_count": null,
            "metadata": {},
            "outputs": [],
            "source": [
                "trappist1e_cooled_path = Path(f\"trappist1e_{equilibrium_temperature}K_{number_of_realisations}its\")\n",
                "initial_solution = InitialSolutionRegressor.from_pickle(trappist1e_cooled_path.with_suffix(\".pkl\"), species=species, fit=False, partial_fit=True, partial_fit_batch_size=50)"
            ]
        },
        {
            "cell_type": "code",
            "execution_count": null,
            "metadata": {},
            "outputs": [],
            "source": [
                "for row in df.itertuples(index=True):\n",
                "    constraints = SystemConstraints([\n",
                "        ElementMassConstraint(\"H\", row.H_total),\n",
                "        #ElementMassConstraint(\"S\", row.S_total),\n",
                "        #ElementMassConstraint(\"N\", row.N_total),\n",
                "        ElementMassConstraint(\"O\", row.O_total),\n",
                "        ElementMassConstraint(\"C\", row.C_total),\n",
                "        #ElementMassConstraint(\"Cl\", row.Cl_total),\n",
                "        ]\n",
                "    )\n",
                "    system.solve(constraints, initial_solution=initial_solution)\n",
                "    if row.Index == 101:\n",
                "        break"
            ]
        },
        {
            "cell_type": "code",
            "execution_count": null,
            "metadata": {},
            "outputs": [],
            "source": [
                "system.failed_solves"
            ]
        },
        {
            "cell_type": "code",
            "execution_count": null,
            "metadata": {},
            "outputs": [],
            "source": [
                "trappist1e_cooled_path = Path(f\"trappist1e_{equilibrium_temperature}K_{number_of_realisations}its\")\n",
                "system.output(file_prefix=trappist1e_cooled_path, to_excel=True, to_pickle=True)"
            ]
        }
    ],
    "metadata": {
        "kernelspec": {
            "display_name": ".venv",
            "language": "python",
            "name": "python3"
        },
        "language_info": {
            "codemirror_mode": {
                "name": "ipython",
                "version": 3
            },
            "file_extension": ".py",
            "mimetype": "text/x-python",
            "name": "python",
            "nbconvert_exporter": "python",
            "pygments_lexer": "ipython3",
            "version": "3.10.13"
        }
    },
    "nbformat": 4,
    "nbformat_minor": 2
}
