{
 "cells": [
  {
   "attachments": {},
   "cell_type": "markdown",
   "metadata": {},
   "source": [
    "# atmodeller\n",
    "\n",
    "## Tutorial 2: planet properties\n",
    "\n",
    "Import the required functionality and activate the debug logger."
   ]
  },
  {
   "cell_type": "code",
   "execution_count": null,
   "metadata": {},
   "outputs": [],
   "source": [
    "from atmodeller import debug_logger\n",
    "from atmodeller.interior_atmosphere import InteriorAtmosphereSystem, Planet\n",
    "from atmodeller.core import GasSpecies, Species\n",
    "from atmodeller.constraints import FugacityConstraint, MassConstraint, SystemConstraints, IronWustiteBufferConstraintHirschmann\n",
    "from atmodeller.solubilities import PeridotiteH2O, BasaltCO2\n",
    "from atmodeller.utilities import earth_oceans_to_kg\n",
    "\n",
    "debug_logger()"
   ]
  },
  {
   "attachments": {},
   "cell_type": "markdown",
   "metadata": {},
   "source": [
    "### 1. Creating a planet"
   ]
  },
  {
   "cell_type": "code",
   "execution_count": null,
   "metadata": {},
   "outputs": [],
   "source": [
    "planet: Planet = Planet()"
   ]
  },
  {
   "attachments": {},
   "cell_type": "markdown",
   "metadata": {},
   "source": [
    "We can also query for the properties of the planet:"
   ]
  },
  {
   "cell_type": "code",
   "execution_count": null,
   "metadata": {},
   "outputs": [],
   "source": [
    "planet"
   ]
  },
  {
   "attachments": {},
   "cell_type": "markdown",
   "metadata": {},
   "source": [
    "We will create a new planet with some different properties to the default:"
   ]
  },
  {
   "cell_type": "code",
   "execution_count": null,
   "metadata": {},
   "outputs": [],
   "source": [
    "surface_temperature: float = 2500 # K\n",
    "mantle_melt_fraction: float = 0.9\n",
    "\n",
    "planet = Planet(surface_temperature=surface_temperature, mantle_melt_fraction=mantle_melt_fraction, melt_composition='Basalt')\n",
    "planet"
   ]
  },
  {
   "attachments": {},
   "cell_type": "markdown",
   "metadata": {},
   "source": [
    "Similar to tutorial 1, we can now construct an interior-atmosphere system for our new planet:"
   ]
  },
  {
   "cell_type": "code",
   "execution_count": null,
   "metadata": {},
   "outputs": [],
   "source": [
    "species: Species = Species()\n",
    "species.append(GasSpecies(formula='H2O'))\n",
    "species.append(GasSpecies(formula='H2'))\n",
    "species.append(GasSpecies(formula='O2'))\n",
    "\n",
    "species"
   ]
  },
  {
   "attachments": {},
   "cell_type": "markdown",
   "metadata": {},
   "source": [
    "Only now we pass in our planet as an argument when we construct the interior-atmosphere system:"
   ]
  },
  {
   "cell_type": "code",
   "execution_count": null,
   "metadata": {},
   "outputs": [],
   "source": [
    "interior_atmosphere: InteriorAtmosphereSystem = InteriorAtmosphereSystem(species=species, planet=planet)"
   ]
  },
  {
   "attachments": {},
   "cell_type": "markdown",
   "metadata": {},
   "source": [
    "Solve the system with constraints:"
   ]
  },
  {
   "cell_type": "code",
   "execution_count": null,
   "metadata": {},
   "outputs": [],
   "source": [
    "number_of_earth_oceans: float = 1\n",
    "# C/H ratio by mass.\n",
    "ch_ratio: float = 1\n",
    "\n",
    "mass_H: float = earth_oceans_to_kg(number_of_earth_oceans)\n",
    "constraints: SystemConstraints = SystemConstraints([\n",
    "    IronWustiteBufferConstraintHirschmann(),\n",
    "    FugacityConstraint(species='H2O', value=0.5)\n",
    "])\n",
    "\n",
    "interior_atmosphere.solve(constraints)\n",
    "interior_atmosphere.solution_dict()"
   ]
  },
  {
   "attachments": {},
   "cell_type": "markdown",
   "metadata": {},
   "source": [
    "### 2. Changing planet properties\n",
    "\n",
    "We can also change the properties of a planet after it has been created by setting the appropriate attribute. With no arguments to the constructor, a planet with 'default' properties is created and these can be subequently modified by the user."
   ]
  },
  {
   "cell_type": "code",
   "execution_count": null,
   "metadata": {},
   "outputs": [],
   "source": [
    "planet = Planet()\n",
    "planet"
   ]
  },
  {
   "cell_type": "code",
   "execution_count": null,
   "metadata": {},
   "outputs": [],
   "source": [
    "planet.surface_temperature = 2800\n",
    "\n",
    "planet"
   ]
  }
 ],
 "metadata": {
  "kernelspec": {
   "display_name": ".venv",
   "language": "python",
   "name": "python3"
  },
  "language_info": {
   "codemirror_mode": {
    "name": "ipython",
    "version": 3
   },
   "file_extension": ".py",
   "mimetype": "text/x-python",
   "name": "python",
   "nbconvert_exporter": "python",
   "pygments_lexer": "ipython3",
   "version": "3.10.13"
  },
  "orig_nbformat": 4
 },
 "nbformat": 4,
 "nbformat_minor": 2
}
