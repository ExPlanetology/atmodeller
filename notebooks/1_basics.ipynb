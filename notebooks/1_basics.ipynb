{
    "cells": [
        {
            "attachments": {},
            "cell_type": "markdown",
            "metadata": {},
            "source": [
                "# atmodeller\n",
                "\n",
                "## Tutorial 1: basic operation\n",
                "\n",
                "Import the required functionality."
            ]
        },
        {
            "cell_type": "code",
            "execution_count": null,
            "metadata": {},
            "outputs": [],
            "source": [
                "from atmodeller import debug_logger, debug_file_logger\n",
                "from atmodeller.constraints import SystemConstraints, FugacityConstraint, BufferedFugacityConstraint, ElementMassConstraint\n",
                "from atmodeller.thermodata.redox_buffers import IronWustiteBuffer\n",
                "from atmodeller.interior_atmosphere import InteriorAtmosphereSystem\n",
                "from atmodeller.core import GasSpecies, Species\n",
                "from atmodeller.solubility.carbon_species import CO2_basalt_dixon\n",
                "from atmodeller.solubility.hydrogen_species import H2O_peridotite_sossi\n",
                "from atmodeller.utilities import earth_oceans_to_hydrogen_mass\n",
                "import logging"
            ]
        },
        {
            "cell_type": "markdown",
            "metadata": {},
            "source": [
                "There are two loggers available: by default, `debug_logger()` will send DEBUG output to the terminal, whereas `debug_file_logger()` will send INFO output to the terminal and DEBUG output to a file."
            ]
        },
        {
            "cell_type": "code",
            "execution_count": null,
            "metadata": {},
            "outputs": [],
            "source": [
                "# logger = debug_file_logger()\n",
                "logger = debug_logger()"
            ]
        },
        {
            "cell_type": "markdown",
            "metadata": {},
            "source": [
                "You can change the logging level to reduce the logging output:"
            ]
        },
        {
            "cell_type": "code",
            "execution_count": null,
            "metadata": {},
            "outputs": [],
            "source": [
                "logger.setLevel(logging.INFO)"
            ]
        },
        {
            "attachments": {},
            "cell_type": "markdown",
            "metadata": {},
            "source": [
                "### 1. Simple H2O-H2-O2 system"
            ]
        },
        {
            "attachments": {},
            "cell_type": "markdown",
            "metadata": {},
            "source": [
                "We define a list of the species we wish to include in the interior-atmosphere system and how they partition between the melt and the atmosphere via a solubility law:"
            ]
        },
        {
            "cell_type": "code",
            "execution_count": null,
            "metadata": {},
            "outputs": [],
            "source": [
                "H2O_g = GasSpecies(\"H2O\", solubility=H2O_peridotite_sossi())\n",
                "H2_g = GasSpecies(\"H2\")\n",
                "O2_g = GasSpecies(\"O2\")\n",
                "\n",
                "species = Species([H2O_g, H2_g, O2_g])"
            ]
        },
        {
            "attachments": {},
            "cell_type": "markdown",
            "metadata": {},
            "source": [
                "We can then create an interior-atmosphere system using the list of species and (optionally) specifying the thermodynamic data to use. Note that this creates a planet with 'default properties' (a molten Earth). Adjusting the planet properties will be covered in another notebook."
            ]
        },
        {
            "cell_type": "code",
            "execution_count": null,
            "metadata": {},
            "outputs": [],
            "source": [
                "interior_atmosphere = InteriorAtmosphereSystem(species=species)"
            ]
        },
        {
            "attachments": {},
            "cell_type": "markdown",
            "metadata": {},
            "source": [
                "To solve the system, we provide a constraint of the H2O and O2 fugacity in bar. Here, the O2 fugacity is constrained at the IW buffer:"
            ]
        },
        {
            "cell_type": "code",
            "execution_count": null,
            "metadata": {},
            "outputs": [],
            "source": [
                "H2O_fugacity  = FugacityConstraint(H2O_g, 1)\n",
                "O2_fugacity = BufferedFugacityConstraint(O2_g, IronWustiteBuffer())\n",
                "\n",
                "constraints = SystemConstraints([H2O_fugacity, O2_fugacity])"
            ]
        },
        {
            "cell_type": "code",
            "execution_count": null,
            "metadata": {},
            "outputs": [],
            "source": [
                "interior_atmosphere.solve(constraints)"
            ]
        },
        {
            "attachments": {},
            "cell_type": "markdown",
            "metadata": {},
            "source": [
                "You can perform a quick check on the solution directly using:"
            ]
        },
        {
            "cell_type": "code",
            "execution_count": null,
            "metadata": {},
            "outputs": [],
            "source": [
                "interior_atmosphere.output_solution()"
            ]
        },
        {
            "attachments": {},
            "cell_type": "markdown",
            "metadata": {},
            "source": [
                "You can access all the output quantities in a dictionary, although this is usually not the most convenient way of working with the output:"
            ]
        },
        {
            "cell_type": "code",
            "execution_count": null,
            "metadata": {},
            "outputs": [],
            "source": [
                "interior_atmosphere.output()"
            ]
        },
        {
            "cell_type": "markdown",
            "metadata": {},
            "source": [
                "It's often convenient to look at the output in Excel. The following exports an Excel file:"
            ]
        },
        {
            "cell_type": "code",
            "execution_count": null,
            "metadata": {},
            "outputs": [],
            "source": [
                "interior_atmosphere.output(file_prefix='tutorial1_basics', to_excel=True)"
            ]
        },
        {
            "cell_type": "markdown",
            "metadata": {},
            "source": [
                "Or alternatively you can access a dictionary of dataframes for analysis:"
            ]
        },
        {
            "cell_type": "code",
            "execution_count": null,
            "metadata": {},
            "outputs": [],
            "source": [
                "dataframe_dict = interior_atmosphere.output(to_dataframes=True)\n",
                "dataframe_dict"
            ]
        },
        {
            "attachments": {},
            "cell_type": "markdown",
            "metadata": {},
            "source": [
                "### 2. System with C and H and prescribed pressures\n",
                "\n",
                "We now extend the species list to additionally include C-species:"
            ]
        },
        {
            "cell_type": "code",
            "execution_count": null,
            "metadata": {},
            "outputs": [],
            "source": [
                "H2O_g = GasSpecies(\"H2O\", solubility=H2O_peridotite_sossi())\n",
                "H2_g = GasSpecies(\"H2\")\n",
                "O2_g = GasSpecies(\"O2\")\n",
                "CO_g = GasSpecies(\"CO\")\n",
                "CO2_g = GasSpecies(\"CO2\", solubility=CO2_basalt_dixon())\n",
                "\n",
                "species = Species([H2O_g, H2_g, O2_g, CO_g, CO2_g])"
            ]
        },
        {
            "cell_type": "code",
            "execution_count": null,
            "metadata": {},
            "outputs": [],
            "source": [
                "interior_atmosphere: InteriorAtmosphereSystem = InteriorAtmosphereSystem(species=species)"
            ]
        },
        {
            "attachments": {},
            "cell_type": "markdown",
            "metadata": {},
            "source": [
                "Note now the system has identified two reactions in the network. With C present in the system we must provide at least 2 constraints, in addition to the oxygen fugacity, which below is shifted by three log10 units relative to the iron-wustite buffer:"
            ]
        },
        {
            "cell_type": "code",
            "execution_count": null,
            "metadata": {},
            "outputs": [],
            "source": [
                "H2O_fugacity = FugacityConstraint(H2O_g, 1)\n",
                "CO2_fugacity = FugacityConstraint(CO2_g, 1)\n",
                "O2_fugacity = BufferedFugacityConstraint(O2_g, IronWustiteBuffer(log10_shift=3))\n",
                "\n",
                "constraints = SystemConstraints([H2O_fugacity, CO2_fugacity, O2_fugacity])"
            ]
        },
        {
            "cell_type": "code",
            "execution_count": null,
            "metadata": {},
            "outputs": [],
            "source": [
                "interior_atmosphere.solve(constraints)\n",
                "interior_atmosphere.output_solution()"
            ]
        },
        {
            "attachments": {},
            "cell_type": "markdown",
            "metadata": {},
            "source": [
                "There is not a requirement to necessarily impose the oxygen fugacity as a constraint. Instead, we can simply impose three fugacity constraints (that span the reaction set) and allow for the oxygen fugacity to be solved. Note that if we do not specify an appropriate range of constraints we cannot solve the system of equations to give a unique solution."
            ]
        },
        {
            "cell_type": "code",
            "execution_count": null,
            "metadata": {},
            "outputs": [],
            "source": [
                "H2O_fugacity = FugacityConstraint(H2O_g, 1)\n",
                "H2_fugacity = FugacityConstraint(H2_g, 1)\n",
                "CO_fugacity = FugacityConstraint(CO_g, 1)\n",
                "\n",
                "constraints = SystemConstraints([H2O_fugacity, H2_fugacity, CO_fugacity])"
            ]
        },
        {
            "cell_type": "code",
            "execution_count": null,
            "metadata": {},
            "outputs": [],
            "source": [
                "interior_atmosphere.solve(constraints)\n",
                "interior_atmosphere.output_solution()"
            ]
        },
        {
            "attachments": {},
            "cell_type": "markdown",
            "metadata": {},
            "source": [
                "### 3. System with C and H and mixed constraints"
            ]
        },
        {
            "attachments": {},
            "cell_type": "markdown",
            "metadata": {},
            "source": [
                "A typical use case is to define an interior-atmosphere system with a combination of fugacity and mass constraints. We define the same species as before:"
            ]
        },
        {
            "cell_type": "code",
            "execution_count": null,
            "metadata": {},
            "outputs": [],
            "source": [
                "H2O_g = GasSpecies(\"H2O\", solubility=H2O_peridotite_sossi())\n",
                "H2_g = GasSpecies(\"H2\")\n",
                "O2_g = GasSpecies(\"O2\")\n",
                "CO_g = GasSpecies(\"CO\")\n",
                "CO2_g = GasSpecies(\"CO2\", solubility=CO2_basalt_dixon())\n",
                "\n",
                "species = Species([H2O_g, H2_g, O2_g, CO_g, CO2_g])"
            ]
        },
        {
            "attachments": {},
            "cell_type": "markdown",
            "metadata": {},
            "source": [
                "Now we define the constraints, and in this case we want to constrain the total mass of C and H in the system that can partition between the various reservoirs."
            ]
        },
        {
            "cell_type": "code",
            "execution_count": null,
            "metadata": {},
            "outputs": [],
            "source": [
                "number_of_earth_oceans: float = 1\n",
                "# C/H ratio by mass.\n",
                "ch_ratio: float = 1\n",
                "\n",
                "mass_H: float = earth_oceans_to_hydrogen_mass(number_of_earth_oceans)\n",
                "mass_C: float = ch_ratio * mass_H\n",
                "\n",
                "constraints: SystemConstraints = SystemConstraints([\n",
                "    ElementMassConstraint(\"H\", mass_H),\n",
                "    ElementMassConstraint(\"C\", mass_C),\n",
                "    BufferedFugacityConstraint(O2_g, IronWustiteBuffer())\n",
                "])\n",
                "\n",
                "interior_atmosphere: InteriorAtmosphereSystem = InteriorAtmosphereSystem(species=species)\n",
                "interior_atmosphere.solve(constraints, factor=1)\n",
                "interior_atmosphere.output_solution()"
            ]
        },
        {
            "attachments": {},
            "cell_type": "markdown",
            "metadata": {},
            "source": [
                "### 4. Including more species such as CH4\n",
                "\n",
                "It is straightforward to add more species to the system:"
            ]
        },
        {
            "cell_type": "code",
            "execution_count": null,
            "metadata": {},
            "outputs": [],
            "source": [
                "H2O_g = GasSpecies(\"H2O\", solubility=H2O_peridotite_sossi())\n",
                "H2_g = GasSpecies(\"H2\")\n",
                "O2_g = GasSpecies(\"O2\")\n",
                "CO_g = GasSpecies(\"CO\")\n",
                "CO2_g = GasSpecies(\"CO2\", solubility=CO2_basalt_dixon())\n",
                "CH4_g = GasSpecies(\"CH4\")\n",
                "\n",
                "species = Species([H2O_g, H2_g, O2_g, CO_g, CO2_g, CH4_g])"
            ]
        },
        {
            "attachments": {},
            "cell_type": "markdown",
            "metadata": {},
            "source": [
                "We define a mixture of mass and oxygen fugacity constraints as before and solve the system. CH4 is not prevalent at 2000 K so the results are almost identical to those without CH4 presented above."
            ]
        },
        {
            "cell_type": "code",
            "execution_count": null,
            "metadata": {},
            "outputs": [],
            "source": [
                "number_of_earth_oceans: float = 1\n",
                "# C/H ratio by mass.\n",
                "ch_ratio: float = 1\n",
                "\n",
                "mass_H: float = earth_oceans_to_hydrogen_mass(number_of_earth_oceans)\n",
                "mass_C: float = ch_ratio * mass_H\n",
                "\n",
                "constraints: SystemConstraints = SystemConstraints([\n",
                "    ElementMassConstraint(\"H\", mass_H),\n",
                "    ElementMassConstraint(\"C\", mass_C),\n",
                "    BufferedFugacityConstraint(O2_g, IronWustiteBuffer())\n",
                "])\n",
                "\n",
                "interior_atmosphere: InteriorAtmosphereSystem = InteriorAtmosphereSystem(species=species)\n",
                "interior_atmosphere.solve(constraints)\n",
                "interior_atmosphere.output_solution()"
            ]
        }
    ],
    "metadata": {
        "kernelspec": {
            "display_name": ".venv",
            "language": "python",
            "name": "python3"
        },
        "language_info": {
            "codemirror_mode": {
                "name": "ipython",
                "version": 3
            },
            "file_extension": ".py",
            "mimetype": "text/x-python",
            "name": "python",
            "nbconvert_exporter": "python",
            "pygments_lexer": "ipython3",
            "version": "3.10.13"
        },
        "orig_nbformat": 4
    },
    "nbformat": 4,
    "nbformat_minor": 2
}
