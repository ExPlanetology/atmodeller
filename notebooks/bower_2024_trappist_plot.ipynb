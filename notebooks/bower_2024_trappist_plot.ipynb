{
 "cells": [
  {
   "cell_type": "markdown",
   "metadata": {},
   "source": [
    "# Data plotting for Trappist 1-e models from Bower et al. (2024)"
   ]
  },
  {
   "cell_type": "markdown",
   "metadata": {},
   "source": [
    "First, you must generate the data using the data generation notebook."
   ]
  },
  {
   "cell_type": "code",
   "execution_count": null,
   "metadata": {},
   "outputs": [],
   "source": [
    "import logging\n",
    "\n",
    "import matplotlib.pyplot as plt\n",
    "import numpy as np\n",
    "import pandas as pd\n",
    "from pathlib import Path\n",
    "\n",
    "from atmodeller import debug_logger\n",
    "from atmodeller.plot import Plotter, AxesSpec\n",
    "\n",
    "logger = debug_logger()\n",
    "logger.setLevel(logging.INFO)"
   ]
  },
  {
   "cell_type": "markdown",
   "metadata": {},
   "source": [
    "Parameters for the simulations. These must match those used to generate the data."
   ]
  },
  {
   "cell_type": "code",
   "execution_count": null,
   "metadata": {},
   "outputs": [],
   "source": [
    "surface_temperature = 1800\n",
    "number_of_realisations = 10000\n",
    "\n",
    "# If you move the output to another directory you can specify it here\n",
    "data_directory = 'data'\n"
   ]
  },
  {
   "cell_type": "markdown",
   "metadata": {},
   "source": [
    "## Corner plots for no solubilities"
   ]
  },
  {
   "cell_type": "code",
   "execution_count": null,
   "metadata": {},
   "outputs": [],
   "source": [
    "trappist1e_no_sols_path = Path(data_directory, f\"trappist1e_{surface_temperature}K_no_sols_{number_of_realisations}its\")\n",
    "plotter_no_sols = Plotter.read_pickle(trappist1e_no_sols_path.with_suffix('.pkl'))\n",
    "\n",
    "categories = (\"Oxygen fugacity\", \"C/H ratio\", \"H budget\")"
   ]
  },
  {
   "cell_type": "markdown",
   "metadata": {},
   "source": [
    "Major species. These are chosen based on the fact they can contribute more than 25% of the moles of the atmosphere."
   ]
  },
  {
   "cell_type": "code",
   "execution_count": null,
   "metadata": {},
   "outputs": [],
   "source": [
    "axes_spec_major = AxesSpec(xylim=(0, 100), ticks=[0, 25, 50, 75, 100])\n",
    "\n",
    "major_species = {}\n",
    "major_species[\"CO_g\"] = axes_spec_major\n",
    "major_species[\"CO2_g\"] = axes_spec_major\n",
    "major_species[\"H2_g\"] = axes_spec_major\n",
    "major_species[\"H2O_g\"] = axes_spec_major\n",
    "major_species[\"CH4_g\"] = axes_spec_major\n",
    "\n",
    "major_species_str = \"_\".join(major_species.keys())\n",
    "\n",
    "for category in categories:\n",
    "    category_id: str = category[0]\n",
    "    # By moles\n",
    "    plotter_no_sols.species_pairplot(species=major_species, mass_or_moles='moles', category=category)\n",
    "    plt.savefig(f\"T1e_no_sols_{major_species_str}_by_moles_{category_id}.pdf\", format='pdf')\n",
    "    # By mass\n",
    "    plotter_no_sols.species_pairplot(species=major_species, mass_or_moles='mass', category=category)\n",
    "    plt.savefig(f\"T1e_no_sols_{major_species_str}_by_mass_{category_id}.pdf\", format='pdf')"
   ]
  },
  {
   "cell_type": "markdown",
   "metadata": {},
   "source": [
    "Elements"
   ]
  },
  {
   "cell_type": "code",
   "execution_count": null,
   "metadata": {},
   "outputs": [],
   "source": [
    "axes_spec_major = AxesSpec(xylim=(0, 100), ticks=[0, 25, 50, 75, 100])\n",
    "axes_spec_nitrogen = AxesSpec(xylim=(0, 0.3), ticks=[0, 0.1, 0.2, 0.3])\n",
    "axes_spec_sulfur = AxesSpec(xylim=(0,50), ticks=[0, 10, 20, 30, 40, 50])\n",
    "axes_spec_chlorine = AxesSpec(xylim=(0,6), ticks=[0,2,4,6])\n",
    "\n",
    "elements = {}\n",
    "elements[\"C\"] = axes_spec_major\n",
    "elements[\"H\"] = axes_spec_major\n",
    "\n",
    "elements_str = \"_\".join(elements)\n",
    "\n",
    "for category in categories:\n",
    "    category_id: str = category[0]\n",
    "    # By moles\n",
    "    ax = plotter_no_sols.species_pairplot(species=elements, mass_or_moles='moles', category=category)\n",
    "    plt.savefig(f\"T1e_no_sols_{elements_str}_by_moles_{category_id}.pdf\", format='pdf')\n",
    "    # By mass\n",
    "    ax = plotter_no_sols.species_pairplot(species=elements, mass_or_moles='mass', category=category)\n",
    "    plt.savefig(f\"T1e_no_sols_{elements_str}_by_mass_{category_id}.pdf\", format='pdf')"
   ]
  },
  {
   "cell_type": "markdown",
   "metadata": {},
   "source": [
    "Minor species. These all contribute less than 25% of the atmosphere by moles."
   ]
  },
  {
   "cell_type": "code",
   "execution_count": null,
   "metadata": {},
   "outputs": [],
   "source": [
    "minor_species = {}\n",
    "minor_species[\"N2_g\"] = None\n",
    "minor_species[\"NH3_g\"] = None\n",
    "minor_species[\"S2_g\"] = None\n",
    "minor_species[\"SO2_g\"] = None\n",
    "minor_species[\"SO_g\"] = None\n",
    "minor_species[\"Cl2_g\"] = None\n",
    "\n",
    "minor_species_str = \"_\".join(minor_species)\n",
    "\n",
    "for category in categories:\n",
    "    category_id: str = category[0]\n",
    "    # By moles\n",
    "    plotter_no_sols.species_pairplot(species=minor_species, mass_or_moles='moles', category=category, plot_atmosphere=False)\n",
    "    plt.savefig(f\"T1e_no_sols_{minor_species_str}_by_moles_{category_id}.pdf\", format='pdf')\n",
    "    # By mass\n",
    "    plotter_no_sols.species_pairplot(species=minor_species, mass_or_moles='mass', category=category, plot_atmosphere=False)\n",
    "    plt.savefig(f\"T1e_no_sols_{minor_species_str}_by_mass_{category_id}.pdf\", format='pdf')"
   ]
  },
  {
   "cell_type": "markdown",
   "metadata": {},
   "source": [
    "Ratio plots. These are just to sanity check that without considering solubilities the ratios in the atmosphere must correspond exactly to the ratios in the interior (melt)."
   ]
  },
  {
   "cell_type": "code",
   "execution_count": null,
   "metadata": {},
   "outputs": [],
   "source": [
    "for category in categories:\n",
    "    category_id: str = category[0]\n",
    "    # By moles\n",
    "    plotter_no_sols.ratios_pairplot(['atmosphere','total'], mass_or_moles='moles', category=category)\n",
    "    plt.savefig(f\"T1e_no_sols_element_ratios_by_moles_{category_id}.pdf\", format='pdf')\n",
    "    # By mass\n",
    "    plotter_no_sols.ratios_pairplot(['atmosphere','total'], mass_or_moles='mass', category=category)\n",
    "    plt.savefig(f\"T1e_no_sols_element_ratios_by_mass_{category_id}.pdf\", format='pdf')"
   ]
  },
  {
   "cell_type": "markdown",
   "metadata": {},
   "source": [
    "## Corner plots with solubilities"
   ]
  },
  {
   "cell_type": "code",
   "execution_count": null,
   "metadata": {},
   "outputs": [],
   "source": [
    "trappist1e_with_sols_path = Path(data_directory, f\"trappist1e_{surface_temperature}K_with_sols_{number_of_realisations}its\")\n",
    "plotter_with_sols = Plotter.read_pickle(trappist1e_with_sols_path.with_suffix('.pkl'))\n",
    "\n",
    "categories: tuple[str,...] = (\"Oxygen fugacity\",) # \"C/H ratio\", \"H budget\")"
   ]
  },
  {
   "cell_type": "code",
   "execution_count": null,
   "metadata": {},
   "outputs": [],
   "source": [
    "axes_spec_major = AxesSpec(xylim=(0, 100), ticks=[0, 25, 50, 75, 100])\n",
    "\n",
    "major_species = {}\n",
    "major_species[\"CO_g\"] = axes_spec_major\n",
    "major_species[\"CO2_g\"] = axes_spec_major\n",
    "major_species[\"H2_g\"] = AxesSpec(xylim=(0, 50), ticks=[0, 25, 50])\n",
    "major_species[\"H2O_g\"] = AxesSpec(xylim=(0, 5), ticks=[0, 2.5, 5.0])\n",
    "major_species[\"CH4_g\"] = AxesSpec(xylim=(0, 50), ticks=[0, 25, 50])\n",
    "\n",
    "major_species_str = \"_\".join(major_species.keys())\n",
    "\n",
    "for category in categories:\n",
    "    category_id: str = category[0]\n",
    "    # By moles\n",
    "    plotter_with_sols.species_pairplot(species=major_species, mass_or_moles='moles', category=category)\n",
    "    plt.savefig(f\"T1e_with_sols_{major_species_str}_by_moles_{category_id}.pdf\", format='pdf')\n",
    "    # By mass\n",
    "    # plotter_with_sols.species_pairplot(species=major_species, mass_or_moles='mass', category=category)\n",
    "    # plt.savefig(f\"T1e_with_sols_{major_species_str}_by_mass_{category_id}.pdf\", format='pdf')"
   ]
  },
  {
   "cell_type": "markdown",
   "metadata": {},
   "source": [
    "Ratio plots of C/H in the atmosphere and in total."
   ]
  },
  {
   "cell_type": "code",
   "execution_count": null,
   "metadata": {},
   "outputs": [],
   "source": [
    "plotter_with_sols.ratios_pairplot(['atmosphere','total'])\n",
    "plt.savefig(f\"T1e_with_sols_element_ratios_by_moles_O.pdf\", format='pdf')"
   ]
  },
  {
   "cell_type": "markdown",
   "metadata": {},
   "source": [
    "## Mean and standard deviation"
   ]
  },
  {
   "cell_type": "markdown",
   "metadata": {},
   "source": [
    "Generate the data"
   ]
  },
  {
   "cell_type": "code",
   "execution_count": null,
   "metadata": {},
   "outputs": [],
   "source": [
    "T1e_with_sols_sort_avg = plotter_with_sols.bin_data('extra', 'fO2_shift', 10)\n",
    "T1e_no_sols_sort_avg = plotter_no_sols.bin_data('extra', 'fO2_shift', 10)"
   ]
  },
  {
   "cell_type": "markdown",
   "metadata": {},
   "source": [
    "Plotting functions"
   ]
  },
  {
   "cell_type": "code",
   "execution_count": null,
   "metadata": {},
   "outputs": [],
   "source": [
    "species = ['H2_g', 'H2O_g', 'CO_g', 'CO2_g', 'CH4_g', 'N2_g', 'NH3_g', 'H2S_g', 'SO2_g', 'S2_g', 'SO_g', 'atmosphere']\n",
    "colors = ['navy', 'dodgerblue', 'orange', 'orangered', 'deeppink', 'violet', 'purple', 'lawngreen', 'forestgreen', 'turquoise', 'teal', 'gray']"
   ]
  },
  {
   "cell_type": "code",
   "execution_count": null,
   "metadata": {},
   "outputs": [],
   "source": [
    "def Plot_AvgData_VMR(file, x_axis, y_axis, species_set, colors_set, y_min, y_max, yscale):\n",
    "    fig, ax = plt.subplots()\n",
    "    for i,j in zip(species_set, colors_set):\n",
    "        plt.plot(file[i][x_axis], file[i][y_axis]/file['atmosphere']['pressure'], color=j)\n",
    "        plt.fill_between(file[i][x_axis], (file[i][y_axis]/file['atmosphere']['pressure']) - (file[i][str(y_axis)+'_std']/file['atmosphere']['pressure_std']), (file[i][y_axis]/file['atmosphere']['pressure']) + (file[i][str(y_axis)+'_std']/file['atmosphere']['pressure_std']), \n",
    "                         color=j, alpha=0.2, label=str(i))\n",
    "        \n",
    "    plt.xlabel(str(x_axis))\n",
    "    plt.ylabel(str(y_axis))\n",
    "    plt.yscale(yscale)\n",
    "    plt.ylim(y_min, y_max)\n",
    "    plt.legend(fontsize=10)\n",
    "    plt.show()"
   ]
  },
  {
   "cell_type": "markdown",
   "metadata": {},
   "source": [
    "Generate the plots"
   ]
  },
  {
   "cell_type": "code",
   "execution_count": null,
   "metadata": {},
   "outputs": [],
   "source": [
    "xlabel = 'Oxygen Fugacity (log10 rel. IW)'\n",
    "ylabel = 'Atmospheric pressure (bar)'\n",
    "\n",
    "plotter_with_sols.plot_binned_data_by_fO2(200, \"atmosphere_pressure\", species[0:2], colors[0:2], xlabel=xlabel, ylabel=ylabel, smooth=True, ymin=0, ymax=100, yscale='linear')\n",
    "plotter_with_sols.plot_binned_data_by_fO2(200, 'atmosphere_pressure', species[2:5], colors[2:5], xlabel=xlabel, ylabel=ylabel, smooth=True, ymin=0, ymax=3500, yscale='linear')\n",
    "plotter_with_sols.plot_binned_data_by_fO2(100, 'atmosphere_pressure', species[5:10], colors[5:10], xlabel=xlabel, ylabel=ylabel, smooth=True, ymin=1e-6, ymax=100, yscale='log', fill_between=False);"
   ]
  },
  {
   "cell_type": "code",
   "execution_count": null,
   "metadata": {},
   "outputs": [],
   "source": [
    "Plot_AvgData(T1e_with_sols_sort_avg, 'fO2_shift', 'atmosphere_pressure', species[0:2], colors[0:2], 1e-2, 100, 'linear')\n",
    "Plot_AvgData(T1e_with_sols_sort_avg, 'fO2_shift', 'atmosphere_pressure', species[2:5], colors[2:5], 1e-2, 4000, 'linear')\n",
    "Plot_AvgData(T1e_with_sols_sort_avg, 'fO2_shift', 'atmosphere_pressure', species[5:10], colors[5:10], 1e-6, 100, 'log')"
   ]
  },
  {
   "cell_type": "code",
   "execution_count": null,
   "metadata": {},
   "outputs": [],
   "source": [
    "Plot_AvgData(T1e_no_sols_sort_avg, 'fO2_shift', 'atmosphere_pressure', species[0:2], colors[0:2], 1e-2, 4000, 'linear')\n",
    "Plot_AvgData(T1e_no_sols_sort_avg, 'fO2_shift', 'atmosphere_pressure', species[2:5], colors[2:5], 1e-2, 4000, 'linear')\n",
    "Plot_AvgData(T1e_no_sols_sort_avg, 'fO2_shift', 'atmosphere_pressure', species[5:11], colors[5:11], 1e-6, 100, 'log')"
   ]
  },
  {
   "cell_type": "code",
   "execution_count": null,
   "metadata": {},
   "outputs": [],
   "source": [
    "Plot_AvgData(T1e_with_sols_sort_avg, 'fO2_shift', 'mass', species[11:], colors[11:], 1e21, 1e23, 'log')\n",
    "Plot_AvgData(T1e_no_sols_sort_avg, 'fO2_shift', 'mass', species[11:], colors[11:], 1e21, 1e23, 'log')"
   ]
  },
  {
   "cell_type": "code",
   "execution_count": null,
   "metadata": {},
   "outputs": [],
   "source": [
    "Plot_AvgData_VMR(T1e_with_sols_sort_avg, 'fO2_shift', 'atmosphere_pressure', species[0:2], colors[0:2], 0, 1, 'linear')\n",
    "Plot_AvgData_VMR(T1e_with_sols_sort_avg, 'fO2_shift', 'atmosphere_pressure', species[2:5], colors[2:5], 0, 1, 'linear')\n",
    "Plot_AvgData_VMR(T1e_with_sols_sort_avg, 'fO2_shift', 'atmosphere_pressure', species[5:11], colors[5:11], 0, 1, 'log')"
   ]
  },
  {
   "cell_type": "code",
   "execution_count": null,
   "metadata": {},
   "outputs": [],
   "source": [
    "Plot_AvgData_VMR(T1e_no_sols_sort_avg, 'fO2_shift', 'atmosphere_pressure', species[0:2], colors[0:2], 0, 1, 'linear')\n",
    "Plot_AvgData_VMR(T1e_no_sols_sort_avg, 'fO2_shift', 'atmosphere_pressure', species[2:5], colors[2:5], 0, 1, 'linear')\n",
    "Plot_AvgData_VMR(T1e_no_sols_sort_avg, 'fO2_shift', 'atmosphere_pressure', species[5:10], colors[5:10], 0, 1, 'log')"
   ]
  }
 ],
 "metadata": {
  "kernelspec": {
   "display_name": ".venv",
   "language": "python",
   "name": "python3"
  },
  "language_info": {
   "codemirror_mode": {
    "name": "ipython",
    "version": 3
   },
   "file_extension": ".py",
   "mimetype": "text/x-python",
   "name": "python",
   "nbconvert_exporter": "python",
   "pygments_lexer": "ipython3",
   "version": "3.10.13"
  }
 },
 "nbformat": 4,
 "nbformat_minor": 2
}
