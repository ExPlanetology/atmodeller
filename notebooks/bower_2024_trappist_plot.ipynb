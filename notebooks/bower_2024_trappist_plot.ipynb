{
 "cells": [
  {
   "cell_type": "markdown",
   "metadata": {},
   "source": [
    "# Data plotting for Trappist 1-e models from Bower et al. (2024)"
   ]
  },
  {
   "cell_type": "markdown",
   "metadata": {},
   "source": [
    "First, you must generate the data using the data generation notebook."
   ]
  },
  {
   "cell_type": "code",
   "execution_count": null,
   "metadata": {},
   "outputs": [],
   "source": [
    "import logging\n",
    "\n",
    "import matplotlib.pyplot as plt\n",
    "import numpy as np\n",
    "from pathlib import Path\n",
    "\n",
    "from atmodeller import debug_logger\n",
    "from atmodeller.plot import Plotter, AxesSpec\n",
    "\n",
    "logger = debug_logger()\n",
    "logger.setLevel(logging.INFO)"
   ]
  },
  {
   "cell_type": "markdown",
   "metadata": {},
   "source": [
    "Parameters for the simulations. These must match those used to generate the data."
   ]
  },
  {
   "cell_type": "code",
   "execution_count": null,
   "metadata": {},
   "outputs": [],
   "source": [
    "surface_temperature = 1800\n",
    "number_of_realisations = 100\n",
    "\n",
    "# If you move the output to another directory you can specify it here\n",
    "data_directory = '.'\n"
   ]
  },
  {
   "cell_type": "markdown",
   "metadata": {},
   "source": [
    "## No solubilities"
   ]
  },
  {
   "cell_type": "code",
   "execution_count": null,
   "metadata": {},
   "outputs": [],
   "source": [
    "trappist1e_no_sols_path = Path(data_directory, f\"trappist1e_{surface_temperature}K_no_sols_{number_of_realisations}its\")\n",
    "plotter_no_sols = Plotter.read_pickle(trappist1e_no_sols_path.with_suffix('.pkl'))\n",
    "\n",
    "categories = (\"Oxygen fugacity\", \"C/H ratio\", \"H budget\")"
   ]
  },
  {
   "cell_type": "markdown",
   "metadata": {},
   "source": [
    "Major species. These are chosen based on the fact they can contribute more than 25% of the moles of the atmosphere."
   ]
  },
  {
   "cell_type": "code",
   "execution_count": null,
   "metadata": {},
   "outputs": [],
   "source": [
    "axes_spec_major = AxesSpec(xylim=(0, 100), ticks=[0, 25, 50, 75, 100])\n",
    "\n",
    "major_species = {}\n",
    "major_species[\"CO_g\"] = axes_spec_major\n",
    "major_species[\"CO2_g\"] = axes_spec_major\n",
    "major_species[\"H2_g\"] = axes_spec_major\n",
    "major_species[\"H2O_g\"] = axes_spec_major\n",
    "major_species[\"CH4_g\"] = axes_spec_major\n",
    "\n",
    "major_species_str = \"_\".join(major_species.keys())\n",
    "\n",
    "for category in categories:\n",
    "    category_id: str = category[0]\n",
    "    # By moles\n",
    "    plotter_no_sols.species_pairplot(species=major_species, mass_or_moles='moles', category=category)\n",
    "    plt.savefig(f\"T1e_no_sols_{major_species_str}_by_moles_{category_id}.pdf\", format='pdf')\n",
    "    # By mass\n",
    "    plotter_no_sols.species_pairplot(species=major_species, mass_or_moles='mass', category=category)\n",
    "    plt.savefig(f\"T1e_no_sols_{major_species_str}_by_mass_{category_id}.pdf\", format='pdf')"
   ]
  },
  {
   "cell_type": "markdown",
   "metadata": {},
   "source": [
    "Elements"
   ]
  },
  {
   "cell_type": "code",
   "execution_count": null,
   "metadata": {},
   "outputs": [],
   "source": [
    "axes_spec_major = AxesSpec(xylim=(0, 100), ticks=[0, 25, 50, 75, 100])\n",
    "axes_spec_nitrogen = AxesSpec(xylim=(0, 0.3), ticks=[0, 0.1, 0.2, 0.3])\n",
    "axes_spec_sulfur = AxesSpec(xylim=(0,50), ticks=[0, 10, 20, 30, 40, 50])\n",
    "axes_spec_chlorine = AxesSpec(xylim=(0,6), ticks=[0,2,4,6])\n",
    "\n",
    "elements = {}\n",
    "elements[\"C\"] = axes_spec_major\n",
    "elements[\"H\"] = axes_spec_major\n",
    "\n",
    "elements_str = \"_\".join(elements)\n",
    "\n",
    "for category in categories:\n",
    "    category_id: str = category[0]\n",
    "    # By moles\n",
    "    ax = plotter_no_sols.species_pairplot(species=elements, mass_or_moles='moles', category=category)\n",
    "    plt.savefig(f\"T1e_no_sols_{elements_str}_by_moles_{category_id}.pdf\", format='pdf')\n",
    "    # By mass\n",
    "    ax = plotter_no_sols.species_pairplot(species=elements, mass_or_moles='mass', category=category)\n",
    "    plt.savefig(f\"T1e_no_sols_{elements_str}_by_mass_{category_id}.pdf\", format='pdf')"
   ]
  },
  {
   "cell_type": "markdown",
   "metadata": {},
   "source": [
    "Minor species. These all contribute less than 25% of the atmosphere by moles."
   ]
  },
  {
   "cell_type": "code",
   "execution_count": null,
   "metadata": {},
   "outputs": [],
   "source": [
    "minor_species = {}\n",
    "minor_species[\"N2_g\"] = None\n",
    "minor_species[\"NH3_g\"] = None\n",
    "minor_species[\"S2_g\"] = None\n",
    "minor_species[\"SO2_g\"] = None\n",
    "minor_species[\"SO_g\"] = None\n",
    "minor_species[\"Cl2_g\"] = None\n",
    "\n",
    "minor_species_str = \"_\".join(minor_species)\n",
    "\n",
    "for category in categories:\n",
    "    category_id: str = category[0]\n",
    "    # By moles\n",
    "    plotter_no_sols.species_pairplot(species=minor_species, mass_or_moles='moles', category=category, plot_atmosphere=False)\n",
    "    plt.savefig(f\"T1e_no_sols_{minor_species_str}_by_moles_{category_id}.pdf\", format='pdf')\n",
    "    # By mass\n",
    "    plotter_no_sols.species_pairplot(species=minor_species, mass_or_moles='mass', category=category, plot_atmosphere=False)\n",
    "    plt.savefig(f\"T1e_no_sols_{minor_species_str}_by_mass_{category_id}.pdf\", format='pdf')"
   ]
  },
  {
   "cell_type": "markdown",
   "metadata": {},
   "source": [
    "Ratio plots. These are just to sanity check that without considering solubilities the ratios in the atmosphere must correspond exactly to the ratios in the interior (melt)."
   ]
  },
  {
   "cell_type": "code",
   "execution_count": null,
   "metadata": {},
   "outputs": [],
   "source": [
    "for category in categories:\n",
    "    category_id: str = category[0]\n",
    "    # By moles\n",
    "    plotter_no_sols.ratios_pairplot(['atmosphere','total'], mass_or_moles='moles', category=category)\n",
    "    plt.savefig(f\"T1e_no_sols_element_ratios_by_moles_{category_id}.pdf\", format='pdf')\n",
    "    # By mass\n",
    "    plotter_no_sols.ratios_pairplot(['atmosphere','total'], mass_or_moles='mass', category=category)\n",
    "    plt.savefig(f\"T1e_no_sols_element_ratios_by_mass_{category_id}.pdf\", format='pdf')"
   ]
  },
  {
   "cell_type": "markdown",
   "metadata": {},
   "source": [
    "## With solubilities"
   ]
  },
  {
   "cell_type": "code",
   "execution_count": null,
   "metadata": {},
   "outputs": [],
   "source": [
    "trappist1e_with_sols_path = Path(data_directory, f\"trappist1e_{surface_temperature}K_with_sols_{number_of_realisations}its\")\n",
    "plotter_with_sols = Plotter.read_pickle(trappist1e_with_sols_path.with_suffix('.pkl'))\n",
    "\n",
    "categories: tuple[str,...] = (\"Oxygen fugacity\",) # \"C/H ratio\", \"H budget\")"
   ]
  },
  {
   "cell_type": "code",
   "execution_count": null,
   "metadata": {},
   "outputs": [],
   "source": [
    "axes_spec_major = AxesSpec(xylim=(0, 100), ticks=[0, 25, 50, 75, 100])\n",
    "\n",
    "major_species = {}\n",
    "major_species[\"CO_g\"] = axes_spec_major\n",
    "major_species[\"CO2_g\"] = axes_spec_major\n",
    "major_species[\"H2_g\"] = AxesSpec(xylim=(0, 50), ticks=[0, 25, 50])\n",
    "major_species[\"H2O_g\"] = AxesSpec(xylim=(0, 5), ticks=[0, 2.5, 5.0])\n",
    "major_species[\"CH4_g\"] = AxesSpec(xylim=(0, 50), ticks=[0, 25, 50])\n",
    "\n",
    "major_species_str = \"_\".join(major_species.keys())\n",
    "\n",
    "for category in categories:\n",
    "    category_id: str = category[0]\n",
    "    # By moles\n",
    "    plotter_with_sols.species_pairplot(species=major_species, mass_or_moles='moles', category=category)\n",
    "    plt.savefig(f\"T1e_with_sols_{major_species_str}_by_moles_{category_id}.pdf\", format='pdf')\n",
    "    # By mass\n",
    "    # plotter_with_sols.species_pairplot(species=major_species, mass_or_moles='mass', category=category)\n",
    "    # plt.savefig(f\"T1e_with_sols_{major_species_str}_by_mass_{category_id}.pdf\", format='pdf')"
   ]
  },
  {
   "cell_type": "markdown",
   "metadata": {},
   "source": [
    "Ratio plots of C/H in the atmosphere and in total."
   ]
  },
  {
   "cell_type": "code",
   "execution_count": null,
   "metadata": {},
   "outputs": [],
   "source": [
    "plotter_with_sols.ratios_pairplot(['atmosphere','total'])\n",
    "plt.savefig(f\"T1e_with_sols_element_ratios_by_moles_O.pdf\", format='pdf')"
   ]
  }
 ],
 "metadata": {
  "kernelspec": {
   "display_name": ".venv",
   "language": "python",
   "name": "python3"
  },
  "language_info": {
   "codemirror_mode": {
    "name": "ipython",
    "version": 3
   },
   "file_extension": ".py",
   "mimetype": "text/x-python",
   "name": "python",
   "nbconvert_exporter": "python",
   "pygments_lexer": "ipython3",
   "version": "3.10.13"
  }
 },
 "nbformat": 4,
 "nbformat_minor": 2
}
