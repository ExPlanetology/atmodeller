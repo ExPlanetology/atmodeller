{
 "cells": [
  {
   "cell_type": "markdown",
   "metadata": {},
   "source": [
    "# Examples\n",
    "\n",
    "These examples are available in `notebooks/examples.ipynb` and more examples are available in the `tests/` directory. In both cases it is easiest to obtain these by downloading the source code.\n",
    "\n",
    "## Initial setup"
   ]
  },
  {
   "cell_type": "code",
   "execution_count": 37,
   "metadata": {},
   "outputs": [],
   "source": [
    "from atmodeller import (\n",
    "    Species,\n",
    "    InteriorAtmosphere,\n",
    "    Planet,\n",
    "    earth_oceans_to_hydrogen_mass,\n",
    "    debug_logger,\n",
    ")\n",
    "from atmodeller.solubility import get_solubility_models\n",
    "from atmodeller.thermodata import get_thermodata\n",
    "from atmodeller.eos import get_eos_models\n",
    "from atmodeller.thermodata import IronWustiteBuffer\n",
    "from atmodeller.containers import ConstantFugacityConstraint\n",
    "import logging\n",
    "import numpy as np\n",
    "import jax.numpy as jnp\n",
    "\n",
    "logger = debug_logger()\n",
    "logger.setLevel(logging.INFO)\n",
    "\n",
    "# For more output use DEBUG\n",
    "# logger.setLevel(logging.DEBUG)"
   ]
  },
  {
   "cell_type": "markdown",
   "metadata": {},
   "source": [
    "## Species and thermodynamic data\n",
    "\n",
    "The species available in *Atmodeller* can be found in the `thermodata` subpackage, where the suffix of the dictionary key describes the *states of aggregation* in accordance with the JANAF convention."
   ]
  },
  {
   "cell_type": "code",
   "execution_count": 38,
   "metadata": {},
   "outputs": [
    {
     "name": "stderr",
     "output_type": "stream",
     "text": [
      "[11:28:45 - atmodeller                     - INFO     ] - Available species = dict_keys(['C_g', 'CH4_g', 'Cl2_g', 'CO_g', 'CO2_g', 'C_cr', 'C2H2_g', 'COS_g', 'FeO_g', 'Fe_g', 'H2_g', 'H2O_cr', 'H2O_g', 'H2O_l', 'H2S_g', 'HCl_g', 'HCN_g', 'He_g', 'Mg_g', 'MgO_g', 'N2_g', 'NH3_g', 'NO_g', 'O2_g', 'OH_g', 'S_alpha', 'S_beta', 'S_l', 'S2_g', 'SH_g', 'Si_cr', 'Si_l', 'Si_g', 'SiO2_g', 'SiO_g', 'SiH4_g', 'SiO2_l', 'SO_g', 'SO2_g', 'SO3_g', 'Ar_g'])\n",
      "[11:28:45 - atmodeller                     - INFO     ] - Gibbs/RT = -55.36417507969985\n",
      "[11:28:45 - atmodeller                     - INFO     ] - Composition = ImmutableMap({'C': (1, 12.01074, 0.27291212929920894), 'O': (2, 31.99881, 0.7270878707007911)})\n"
     ]
    }
   ],
   "source": [
    "# Get all available species\n",
    "thermodata = get_thermodata()\n",
    "logger.info(\"Available species = %s\", thermodata.keys())\n",
    "\n",
    "# For example, get CO2 gas\n",
    "CO2_g = thermodata[\"CO2_g\"]\n",
    "# Compute the Gibbs energy relative to RT at 2000 K\n",
    "temperature = 2000.0\n",
    "gibbs = CO2_g.get_gibbs_over_RT(temperature)\n",
    "logger.info(\"Gibbs/RT = %s\", gibbs)\n",
    "# Compute the composition\n",
    "composition = CO2_g.composition\n",
    "logger.info(\"Composition = %s\", composition)\n",
    "# Etc., other methods are available to compute other quantities"
   ]
  },
  {
   "cell_type": "markdown",
   "metadata": {},
   "source": [
    "## Solubility\n",
    "\n",
    "Solubility laws are available in the `solubility` subpackage."
   ]
  },
  {
   "cell_type": "code",
   "execution_count": 39,
   "metadata": {},
   "outputs": [
    {
     "name": "stderr",
     "output_type": "stream",
     "text": [
      "[11:28:50 - atmodeller                     - INFO     ] - Solubility models = dict_keys(['CH4_basalt_ardia13', 'CO2_basalt_dixon95', 'CO_basalt_armstrong15', 'CO_basalt_yoshioka19', 'CO_rhyolite_yoshioka19', 'Cl2_ano_dio_for_thomas21', 'Cl2_basalt_thomas21', 'H2O_ano_dio_newcombe17', 'H2O_basalt_dixon95', 'H2O_basalt_mitchell17', 'H2O_lunar_glass_newcombe17', 'H2O_peridotite_sossi23', 'H2_andesite_hirschmann12', 'H2_basalt_hirschmann12', 'H2_silicic_melts_gaillard03', 'He_basalt_jambon86', 'N2_basalt_bernadou21', 'N2_basalt_dasgupta22', 'N2_basalt_libourel03', 'S2_andesite_boulliung23', 'S2_basalt_boulliung23', 'S2_sulfate_andesite_boulliung23', 'S2_sulfate_basalt_boulliung23', 'S2_sulfate_trachybasalt_boulliung23', 'S2_sulfide_andesite_boulliung23', 'S2_sulfide_basalt_boulliung23', 'S2_sulfide_trachybasalt_boulliung23', 'S2_trachybasalt_boulliung23', 'NO_SOLUBILITY'])\n",
      "[11:28:50 - atmodeller                     - INFO     ] - Concentration (ppmw) = 0.22841535272000957\n"
     ]
    }
   ],
   "source": [
    "solubility_models = get_solubility_models()\n",
    "logger.info(\"Solubility models = %s\", solubility_models.keys())\n",
    "\n",
    "CO2_basalt = solubility_models[\"CO2_basalt_dixon95\"]\n",
    "# Compute the concentration at fCO2=0.5 bar, 1300 K, and 1 bar\n",
    "# Note that fugacity is the first argument and others are keyword only\n",
    "concentration = CO2_basalt.concentration(0.5, temperature=1300, pressure=1)\n",
    "logger.info(\"Concentration (ppmw) = %s\", concentration)"
   ]
  },
  {
   "cell_type": "code",
   "execution_count": 64,
   "metadata": {},
   "outputs": [
    {
     "name": "stderr",
     "output_type": "stream",
     "text": [
      "[15:00:43 - atmodeller                     - INFO     ] - Concentration (ppmw) = 377.1406984833235\n"
     ]
    }
   ],
   "source": [
    "N2_basalt = solubility_models[\"N2_basalt_libourel03\"]\n",
    "# Compute the concentration at fCO2=0.5 bar, 1300 K, and 1 bar\n",
    "# Note that fugacity is the first argument and others are keyword only\n",
    "concentration = N2_basalt.concentration(0.20, temperature=1698.15, pressure=1, fO2=10**-16.2)\n",
    "logger.info(\"Concentration (ppmw) = %s\", concentration)"
   ]
  },
  {
   "cell_type": "code",
   "execution_count": 62,
   "metadata": {},
   "outputs": [
    {
     "name": "stderr",
     "output_type": "stream",
     "text": [
      "[12:06:06 - atmodeller                     - INFO     ] - Concentration (ppmw) = 1006.8742354192402\n"
     ]
    }
   ],
   "source": [
    "N2_basalt_dasgupta = solubility_models[\"N2_basalt_dasgupta22\"]\n",
    "# Compute the concentration at fCO2=0.5 bar, 1300 K, and 1 bar\n",
    "# Note that fugacity is the first argument and others are keyword only\n",
    "concentration = N2_basalt_dasgupta.concentration(\n",
    "    1550, temperature=1773.15, pressure=1708.7, fO2=1.8e-13\n",
    ")\n",
    "logger.info(\"Concentration (ppmw) = %s\", concentration)"
   ]
  },
  {
   "cell_type": "code",
   "execution_count": 45,
   "metadata": {},
   "outputs": [],
   "source": [
    "def IWBuffer_H21(T, P_bar):\n",
    "    # T in Kelvin, P_bar in bar\n",
    "    P_GPa = P_bar / 1e4\n",
    "    a = 6.844864 + (1.175691e-1 * P_GPa) + (1.143873e-3 * (P_GPa**2))\n",
    "    b = 5.791364e-4 - (2.891434e-4 * P_GPa) - (2.737171e-7 * (P_GPa**2))\n",
    "    c = (\n",
    "        -7.971469e-5\n",
    "        + (3.198005e-5 * P_GPa)\n",
    "        + (1.059554e-10 * (P_GPa**3))\n",
    "        + (2.014461e-7 * (P_GPa**0.5))\n",
    "    )\n",
    "    d = -2.769002e4 + (5.285977e2 * P_GPa) - (2.919275 * (P_GPa**2))\n",
    "    logfO2 = a + (b * T) + (c * T * np.log(T)) + d / T\n",
    "    return logfO2"
   ]
  },
  {
   "cell_type": "code",
   "execution_count": 59,
   "metadata": {},
   "outputs": [
    {
     "name": "stdout",
     "output_type": "stream",
     "text": [
      "1.799329010613709e-13\n"
     ]
    }
   ],
   "source": [
    "IWBuffer_test = IWBuffer_H21(1773.15, 1708.7)\n",
    "print(10 ** (IWBuffer_test - 4))"
   ]
  },
  {
   "cell_type": "markdown",
   "metadata": {},
   "source": [
    "## Real gas EOS\n",
    "\n",
    "Real gas equations of state are available in the `eos` subpackage."
   ]
  },
  {
   "cell_type": "code",
   "execution_count": 4,
   "metadata": {},
   "outputs": [
    {
     "name": "stderr",
     "output_type": "stream",
     "text": [
      "[11:24:46 - atmodeller                     - INFO     ] - EOS models = dict_keys(['H2_chabrier21', 'H2_He_Y0275_chabrier21', 'H2_He_Y0292_chabrier21', 'H2_He_Y0297_chabrier21', 'He_chabrier21', 'CH4_beattie_holley58', 'CO2_beattie_holley58', 'H2_beattie_holley58', 'He_beattie_holley58', 'N2_beattie_holley58', 'NH3_beattie_holley58', 'O2_beattie_holley58', 'CH4_cork_cs_holland91', 'CO_cork_cs_holland91', 'CO2_cork_holland91', 'CO2_cork_holland98', 'CO2_cork_cs_holland91', 'H2_cork_cs_holland91', 'H2O_cork_holland91', 'H2O_cork_holland98', 'H2S_cork_cs_holland11', 'N2_cork_cs_holland91', 'S2_cork_cs_holland11', 'Ar_cs_saxena87', 'CH4_cs_shi92', 'CO_cs_shi92', 'CO2_cs_shi92', 'COS_cs_shi92', 'H2_shi92', 'H2S_shi92', 'N2_cs_saxena87', 'O2_cs_shi92', 'S2_cs_shi92', 'SO2_shi92'])\n",
      "[11:24:47 - atmodeller                     - INFO     ] - Fugacity = 103.31104964171287 bar\n",
      "[11:24:47 - atmodeller                     - INFO     ] - Compressibility factor = 1.0336552056370774\n"
     ]
    }
   ],
   "source": [
    "# Get all available EOS models\n",
    "eos_models = get_eos_models()\n",
    "logger.info(\"EOS models = %s\", eos_models.keys())\n",
    "\n",
    "# Get a CH4 model\n",
    "CH4_eos_model = eos_models[\"CH4_beattie_holley58\"]\n",
    "# Compute the fugacity at 800 K and 100 bar\n",
    "fugacity = CH4_eos_model.fugacity(800, 100)\n",
    "logger.info(\"Fugacity = %s bar\", fugacity)\n",
    "# Compute the compressibility factor at the same conditions\n",
    "compressibility = CH4_eos_model.compressibility_factor(800, 100)\n",
    "logger.info(\"Compressibility factor = %s\", compressibility)\n",
    "# Etc., other methods are available to compute other quantities"
   ]
  },
  {
   "cell_type": "markdown",
   "metadata": {},
   "source": [
    "## Model with mass constraints\n",
    "\n",
    "A common scenario is to calculate how volatiles partition between a magma ocean and an atmosphere when the total elemental abundances are constrained. `Planet()` defaults to a molten Earth, but the planetary parameters can be changed using input arguments."
   ]
  },
  {
   "cell_type": "code",
   "execution_count": 34,
   "metadata": {},
   "outputs": [
    {
     "name": "stderr",
     "output_type": "stream",
     "text": [
      "[13:53:22 - atmodeller.classes             - INFO     ] - species = ['H2_g', 'H2O_g', 'O2_g']\n",
      "[13:53:22 - atmodeller.classes             - INFO     ] - reactions = {0: '2.0 H2O_g = 2.0 H2_g + 1.0 O2_g'}\n",
      "[13:53:23 - atmodeller.classes             - INFO     ] - Compile time: 0.554042 seconds\n",
      "[13:53:23 - atmodeller.classes             - INFO     ] - Execution time: 0.000542 seconds\n",
      "[13:53:23 - atmodeller.output              - INFO     ] - Creating Output\n",
      "[13:53:23 - atmodeller                     - INFO     ] - solution = {'H2_g': 1.0, 'H2_g_activity': 1.0, 'H2O_g': 2.0000000000000036, 'H2O_g_activity': 2.0000000000000036, 'O2_g': 3.3206881972108655e-07, 'O2_g_activity': 3.3206881972108655e-07}\n"
     ]
    }
   ],
   "source": [
    "solubility_models = get_solubility_models()\n",
    "\n",
    "H2_g = Species.create_gas(\"H2_g\")\n",
    "H2O_g = Species.create_gas(\"H2O_g\", solubility=solubility_models[\"H2O_peridotite_sossi23\"])\n",
    "O2_g = Species.create_gas(\"O2_g\")\n",
    "\n",
    "species = (H2_g, H2O_g, O2_g)\n",
    "\n",
    "# Planet has input arguments that you can change. See the class documentation.\n",
    "planet = Planet()\n",
    "interior_atmosphere = InteriorAtmosphere(species)\n",
    "\n",
    "oceans = 1\n",
    "h_kg = earth_oceans_to_hydrogen_mass(oceans)\n",
    "o_kg = 6.25774e20\n",
    "mass_constraints = {\n",
    "    \"H\": h_kg,\n",
    "    \"O\": o_kg,\n",
    "}\n",
    "fugacity_constraints = {\n",
    "    H2_g.name: ConstantFugacityConstraint(jnp.array([1.0])),\n",
    "    H2O_g.name: ConstantFugacityConstraint(jnp.array([2.0])),\n",
    "}\n",
    "# If you do not specify an initial solution guess then a default will be used\n",
    "# Initial solution guess number density (molecules/m^3)\n",
    "# initial_log_number_density = 50 * np.ones(len(species), dtype=np.float_)\n",
    "\n",
    "interior_atmosphere.initialise_solve(\n",
    "    planet=planet,\n",
    "    # initial_log_number_density=initial_log_number_density,\n",
    "    # mass_constraints=mass_constraints,\n",
    "    fugacity_constraints=fugacity_constraints,\n",
    ")\n",
    "output = interior_atmosphere.solve()\n",
    "\n",
    "# Quick look at the solution\n",
    "solution = output.quick_look()\n",
    "logger.info(\"solution = %s\", solution)\n",
    "\n",
    "# Get complete solution as a dictionary\n",
    "# solution_asdict = output.asdict()\n",
    "# logger.info(solution_asdict)\n",
    "\n",
    "# Get the complete solution as dataframes\n",
    "# solution_dataframes = output.to_dataframes()\n",
    "\n",
    "# Write the complete solution to Excel\n",
    "# output.to_excel(\"example_single\")"
   ]
  },
  {
   "cell_type": "code",
   "execution_count": 36,
   "metadata": {},
   "outputs": [
    {
     "name": "stderr",
     "output_type": "stream",
     "text": [
      "[14:06:57 - atmodeller.classes             - INFO     ] - species = ['Ar_g', 'O2S_g', 'O2_g', 'S2_g', 'OS_g']\n",
      "[14:06:57 - atmodeller.classes             - INFO     ] - reactions = {0: '2.0 O2S_g = 2.0 O2_g + 1.0 S2_g', 1: '1.0 O2S_g = 0.5 O2_g + 1.0 OS_g'}\n",
      "[14:06:58 - atmodeller.classes             - INFO     ] - Compile time: 0.865703 seconds\n",
      "[14:06:58 - atmodeller.classes             - INFO     ] - Execution time: 0.000560 seconds\n",
      "[14:06:58 - atmodeller.output              - INFO     ] - Creating Output\n",
      "[14:06:58 - atmodeller                     - INFO     ] - solution = {'Ar_g': 0.9599999999999977, 'Ar_g_activity': 0.9599999999999977, 'O2S_g': 0.04000000000000006, 'O2S_g_activity': 0.04000000000000006, 'O2_g': 9.149832047767465e-06, 'O2_g_activity': 9.149832047767465e-06, 'S2_g': 0.00010497907047397462, 'S2_g_activity': 0.00010497907047397462, 'OS_g': 0.002022681363670241, 'OS_g_activity': 0.002022681363670241}\n"
     ]
    }
   ],
   "source": [
    "Ar_g = Species.create_gas(\"Ar_g\")\n",
    "SO2_g = Species.create_gas(\"SO2_g\")\n",
    "O2_g = Species.create_gas(\"O2_g\")\n",
    "S2_g = Species.create_gas(\"S2_g\")\n",
    "SO_g = Species.create_gas(\"SO_g\")\n",
    "\n",
    "species = (Ar_g, SO2_g, O2_g, S2_g, SO_g)\n",
    "\n",
    "# Planet has input arguments that you can change. See the class documentation.\n",
    "planet = Planet()\n",
    "interior_atmosphere = InteriorAtmosphere(species)\n",
    "\n",
    "oceans = 1\n",
    "s_kg = earth_oceans_to_hydrogen_mass(oceans)\n",
    "o_kg = 6.25774e20\n",
    "ar_kg = 6.25774e20\n",
    "\n",
    "so2_f = 0.04\n",
    "ar_f = 0.959\n",
    "o2_f = 1e-18\n",
    "fugacity_constraints = {\n",
    "    SO2_g.name: ConstantFugacityConstraint(jnp.array([0.04])),\n",
    "    Ar_g.name: ConstantFugacityConstraint(jnp.array([0.96])),\n",
    "}\n",
    "\n",
    "mass_constraints = {\"Ar\": ar_kg, \"O\": o_kg, \"S\": s_kg}\n",
    "\n",
    "# If you do not specify an initial solution guess then a default will be used\n",
    "# Initial solution guess number density (molecules/m^3)\n",
    "# initial_log_number_density = 50 * np.ones(len(species), dtype=np.float_)\n",
    "\n",
    "interior_atmosphere.initialise_solve(\n",
    "    planet=planet,\n",
    "    # initial_log_number_density=initial_log_number_density,\n",
    "    fugacity_constraints=fugacity_constraints,\n",
    "    # mass_constraints = mass_constraints,\n",
    ")\n",
    "output = interior_atmosphere.solve()\n",
    "\n",
    "# Quick look at the solution\n",
    "solution = output.quick_look()\n",
    "logger.info(\"solution = %s\", solution)\n",
    "\n",
    "# Get complete solution as a dictionary\n",
    "# solution_asdict = output.asdict()\n",
    "# logger.info(solution_asdict)\n",
    "\n",
    "# Get the complete solution as dataframes\n",
    "# solution_dataframes = output.to_dataframes()\n",
    "\n",
    "# Write the complete solution to Excel\n",
    "# output.to_excel(\"example_single\")"
   ]
  },
  {
   "cell_type": "markdown",
   "metadata": {},
   "source": [
    "## Batch calculation\n",
    "\n",
    "For a batch calculation you can provide arrays to the planet or constraints. All arrays must have the same size because for a batch calculation the array values are aligned by position. Single values will automatically be broadcasted to the maximum array size."
   ]
  },
  {
   "cell_type": "code",
   "execution_count": null,
   "metadata": {},
   "outputs": [],
   "source": [
    "solubility_models = get_solubility_models()\n",
    "\n",
    "H2_g = Species.create_gas(\"H2_g\")\n",
    "H2O_g = Species.create_gas(\"H2O_g\", solubility=solubility_models[\"H2O_peridotite_sossi23\"])\n",
    "O2_g = Species.create_gas(\"O2_g\")\n",
    "\n",
    "species = (H2_g, H2O_g, O2_g)\n",
    "\n",
    "# Batch temperature and radius, where the entries correspond by position. You could also choose\n",
    "# to leave one or both as scalars.\n",
    "# You must specify dtype=np.float_ for surface temperature\n",
    "surface_temperature = np.array([2000, 2000, 1500, 1500], dtype=np.float_)\n",
    "surface_radius = 6371000.0 * np.array([1.5, 3, 1.5, 3], dtype=np.float_)\n",
    "\n",
    "planet = Planet(surface_temperature=surface_temperature, surface_radius=surface_radius)\n",
    "interior_atmosphere = InteriorAtmosphere(species)\n",
    "\n",
    "oceans = 1\n",
    "h_kg = earth_oceans_to_hydrogen_mass(oceans)\n",
    "o_kg = 6.25774e20\n",
    "scale_factor = 5\n",
    "mass_constraints = {\n",
    "    # We can also batch constraints, as long as we also have a total of 4 entries\n",
    "    \"H\": np.array([h_kg, h_kg, h_kg * scale_factor, h_kg * scale_factor], dtype=np.float_),\n",
    "    \"O\": np.array([o_kg, o_kg * scale_factor, o_kg, o_kg * scale_factor], dtype=np.float_),\n",
    "}\n",
    "\n",
    "# Initial solution guess number density (molecules/m^3)\n",
    "initial_log_number_density = 50 * np.ones(len(species), dtype=np.float_)\n",
    "\n",
    "interior_atmosphere.initialise_solve(\n",
    "    planet=planet,\n",
    "    initial_log_number_density=initial_log_number_density,\n",
    "    mass_constraints=mass_constraints,\n",
    ")\n",
    "output = interior_atmosphere.solve()\n",
    "\n",
    "# Quick look at the solution\n",
    "# solution = output.quick_look()\n",
    "# logger.info(\"Quick look = %s\", solution)\n",
    "\n",
    "# Get complete solution as a dictionary\n",
    "# solution_asdict = output.asdict()\n",
    "# logger.info(solution_asdict)\n",
    "\n",
    "# Write the complete solution to Excel\n",
    "# output.to_excel(\"example_batch\")"
   ]
  },
  {
   "cell_type": "markdown",
   "metadata": {},
   "source": [
    "## Time integration\n",
    "\n",
    "For models where you need to dynamically update constraints during the course of a time-integration, atmodeller can be utilised as follows. The model is pre-compiled using `initialise_solve` and then the compiled function is subsequently called with different arguments. Note that the order of the arguments and the size of the arrays must be the same as those used to initialise the model, but of course the values can be different."
   ]
  },
  {
   "cell_type": "code",
   "execution_count": null,
   "metadata": {},
   "outputs": [],
   "source": [
    "# This first part is the initialisation stage and should appear outside of your main time loop\n",
    "\n",
    "solubility_models = get_solubility_models()\n",
    "\n",
    "H2_g = Species.create_gas(\"H2_g\")\n",
    "H2O_g = Species.create_gas(\"H2O_g\", solubility=solubility_models[\"H2O_peridotite_sossi23\"])\n",
    "O2_g = Species.create_gas(\"O2_g\")\n",
    "\n",
    "species = (H2_g, H2O_g, O2_g)\n",
    "planet = Planet()\n",
    "interior_atmosphere = InteriorAtmosphere(species)\n",
    "\n",
    "oceans = 1\n",
    "h_kg = earth_oceans_to_hydrogen_mass(oceans)\n",
    "o_kg = 6.25774e20\n",
    "mass_constraints = {\n",
    "    \"H\": h_kg,\n",
    "    \"O\": o_kg,\n",
    "}\n",
    "\n",
    "# Initial solution guess number density (molecules/m^3)\n",
    "initial_log_number_density = 50 * np.ones(len(species), dtype=np.float_)\n",
    "\n",
    "# Precompile\n",
    "interior_atmosphere.initialise_solve(\n",
    "    planet=planet,\n",
    "    initial_log_number_density=initial_log_number_density,\n",
    "    mass_constraints=mass_constraints,\n",
    ")\n",
    "\n",
    "# This is the time loop, where something changes and you want to re-solve using Atmodeller\n",
    "for ii in range(1, 4):\n",
    "    # Let's say we update the mass constraints. The number of constraints and the value size must\n",
    "    # remain the same as the initialised model, but you are free to update their values. Here,\n",
    "    # scale by number of earth oceans for the hydrogen mass.\n",
    "    logger.info(\"Iteration %d\", ii)\n",
    "    logger.info(\"Your code does something here to compute new masses\")\n",
    "    mass_constraints = {\"H\": h_kg * ii, \"O\": o_kg}\n",
    "    # These solves are fast because they use the JAX-compiled code\n",
    "    logger.info(\"Atmodeller solve using JIT compiled code\")\n",
    "    output = interior_atmosphere.solve(mass_constraints=mass_constraints)\n",
    "\n",
    "    # Quick look at the solution\n",
    "    solution = output.quick_look()\n",
    "    logger.info(\"solution = %s\", solution)\n",
    "\n",
    "    # Get complete solution as a dictionary\n",
    "    # If required, get complete output to feedback into other calculations during the time loop\n",
    "    # solution_asdict = output.asdict()"
   ]
  },
  {
   "cell_type": "markdown",
   "metadata": {},
   "source": [
    "## Monte Carlo\n",
    "\n",
    "Exploring atmospheric compositions in a Monte Carlo model can be achieved with a batch \n",
    "calculation over a range of parameters. Note that in this case the same initial solution is used \n",
    "for all cases. For a large parameter range you may need to run several batches with different \n",
    "initial solutions to prevent the solver from failing, and then stitch the output together."
   ]
  },
  {
   "cell_type": "code",
   "execution_count": null,
   "metadata": {},
   "outputs": [],
   "source": [
    "solubility_models = get_solubility_models()\n",
    "\n",
    "H2_g = Species.create_gas(\"H2_g\")\n",
    "H2O_g = Species.create_gas(\"H2O_g\", solubility=solubility_models[\"H2O_peridotite_sossi23\"])\n",
    "O2_g = Species.create_gas(\"O2_g\")\n",
    "\n",
    "species = (H2_g, H2O_g, O2_g)\n",
    "planet = Planet()\n",
    "interior_atmosphere = InteriorAtmosphere(species)\n",
    "\n",
    "number_of_realisations = 1000\n",
    "log10_number_oceans = np.random.uniform(0, 3, number_of_realisations)\n",
    "number_oceans = 10**log10_number_oceans\n",
    "fO2_min = -3\n",
    "fO2_max = 3\n",
    "fO2_log10_shifts = np.random.uniform(fO2_min, fO2_max, number_of_realisations)\n",
    "\n",
    "oceans = 1\n",
    "h_kg = earth_oceans_to_hydrogen_mass(number_oceans)\n",
    "mass_constraints = {\n",
    "    \"H\": h_kg,\n",
    "}\n",
    "fugacity_constraints = {O2_g.name: IronWustiteBuffer(fO2_log10_shifts)}\n",
    "\n",
    "# Initial solution guess number density (molecules/m^3)\n",
    "initial_log_number_density = 50 * np.ones(len(species), dtype=np.float_)\n",
    "\n",
    "# Precompile\n",
    "interior_atmosphere.initialise_solve(\n",
    "    planet=planet,\n",
    "    initial_log_number_density=initial_log_number_density,\n",
    "    mass_constraints=mass_constraints,\n",
    "    fugacity_constraints=fugacity_constraints,\n",
    ")\n",
    "output = interior_atmosphere.solve()\n",
    "\n",
    "# Quick look at the solution\n",
    "# solution = output.quick_look()\n",
    "\n",
    "# Get complete solution as a dictionary\n",
    "# solution_asdict = output.asdict()\n",
    "# logger.info(solution_asdict)\n",
    "\n",
    "# Write the complete solution to Excel\n",
    "# output.to_excel(\"example_monte_carlo\")"
   ]
  }
 ],
 "metadata": {
  "kernelspec": {
   "display_name": ".venv",
   "language": "python",
   "name": "python3"
  },
  "language_info": {
   "codemirror_mode": {
    "name": "ipython",
    "version": 3
   },
   "file_extension": ".py",
   "mimetype": "text/x-python",
   "name": "python",
   "nbconvert_exporter": "python",
   "pygments_lexer": "ipython3",
   "version": "3.10.13"
  }
 },
 "nbformat": 4,
 "nbformat_minor": 2
}
