{
 "cells": [
  {
   "cell_type": "markdown",
   "metadata": {},
   "source": [
    "# Atmodeller examples\n",
    "\n",
    "There are more examples in the tests/ directory which you can obtain from Atmodeller source code. Also see the Atmodeller documentation.\n",
    "\n",
    "All code blocks require the following imports, so you must run this first."
   ]
  },
  {
   "cell_type": "code",
   "execution_count": null,
   "metadata": {},
   "outputs": [],
   "source": [
    "from atmodeller import Species, InteriorAtmosphere, Planet, earth_oceans_to_hydrogen_mass, debug_logger\n",
    "from atmodeller.solubility import get_solubility_models\n",
    "from atmodeller.thermodata import get_thermodata\n",
    "from atmodeller.eos import get_eos_models\n",
    "from atmodeller.thermodata.redox_buffers import IronWustiteBuffer\n",
    "import logging\n",
    "import numpy as np\n",
    "import pprint\n",
    "\n",
    "logger = debug_logger()\n",
    "logger.setLevel(logging.INFO)\n",
    "# For more output use DEBUG\n",
    "#logger.setLevel(logging.DEBUG)"
   ]
  },
  {
   "cell_type": "markdown",
   "metadata": {},
   "source": [
    "You can find the available species in Atmodeller, where the first part of the name indicates the chemical formula and the second part after the underscore indicates the phase, using `get_thermodata()`. Common phases are g for gas, l for liquid, and cr for crystalline solid."
   ]
  },
  {
   "cell_type": "code",
   "execution_count": null,
   "metadata": {},
   "outputs": [],
   "source": [
    "# Get thermodynamic data for species\n",
    "thermodata = get_thermodata()\n",
    "logger.info(thermodata.keys())"
   ]
  },
  {
   "cell_type": "markdown",
   "metadata": {},
   "source": [
    "Similarly, you can find the available solubility laws:"
   ]
  },
  {
   "cell_type": "code",
   "execution_count": null,
   "metadata": {},
   "outputs": [],
   "source": [
    "solubility_models = get_solubility_models()\n",
    "logger.info(solubility_models.keys())"
   ]
  },
  {
   "cell_type": "markdown",
   "metadata": {},
   "source": [
    "And the available real gas equations of state:"
   ]
  },
  {
   "cell_type": "code",
   "execution_count": null,
   "metadata": {},
   "outputs": [],
   "source": [
    "eos_models = get_eos_models()\n",
    "logger.info(eos_models.keys())"
   ]
  },
  {
   "cell_type": "markdown",
   "metadata": {},
   "source": [
    "## Basic operation\n",
    "\n",
    "Run a single model"
   ]
  },
  {
   "cell_type": "code",
   "execution_count": null,
   "metadata": {},
   "outputs": [],
   "source": [
    "solubility_models = get_solubility_models()\n",
    "# Get the available solubility models\n",
    "logger.info(\"solubility models = %s\", solubility_models.keys())\n",
    "\n",
    "H2_g = Species.create_gas(\"H2_g\")\n",
    "H2O_g = Species.create_gas(\"H2O_g\", solubility=solubility_models[\"H2O_peridotite_sossi23\"])\n",
    "O2_g = Species.create_gas(\"O2_g\")\n",
    "\n",
    "species = (H2_g, H2O_g, O2_g)\n",
    "planet = Planet()\n",
    "interior_atmosphere = InteriorAtmosphere(species)\n",
    "\n",
    "oceans = 1\n",
    "h_kg = earth_oceans_to_hydrogen_mass(oceans)\n",
    "o_kg = 6.25774e20\n",
    "mass_constraints = {\n",
    "    \"H\": h_kg,\n",
    "    \"O\": o_kg,\n",
    "}\n",
    "\n",
    "# If you do not specify an initial solution guess then a default will be used\n",
    "# Initial solution guess number density (molecules/m^3)\n",
    "initial_log_number_density = 50 * np.ones(len(species), dtype=np.float_)\n",
    "# Initial solution guess species stability\n",
    "initial_log_stability = -100 * np.ones_like(initial_log_number_density)\n",
    "\n",
    "interior_atmosphere.initialise_solve(\n",
    "    planet=planet,\n",
    "    initial_log_number_density=initial_log_number_density,\n",
    "    initial_log_stability=initial_log_stability,\n",
    "    mass_constraints=mass_constraints,\n",
    ")\n",
    "output = interior_atmosphere.solve()\n",
    "\n",
    "# Quick look at the solution\n",
    "solution = output.quick_look()\n",
    "\n",
    "# Get complete solution as a dictionary\n",
    "solution_asdict = output.asdict()\n",
    "logger.info(solution_asdict)\n",
    "\n",
    "# Write the complete solution to Excel\n",
    "output.to_excel(\"example_single\")"
   ]
  },
  {
   "cell_type": "markdown",
   "metadata": {},
   "source": [
    "## Batch calculation\n",
    "\n",
    "For a batch calculation you can provide arrays to the planet or constraints. All arrays must have the same size because for a batch calculation the array values are aligned by position."
   ]
  },
  {
   "cell_type": "code",
   "execution_count": null,
   "metadata": {},
   "outputs": [],
   "source": [
    "solubility_models = get_solubility_models()\n",
    "# Get the available solubility models\n",
    "logger.info(\"solubility models = %s\", pprint.pformat(solubility_models.keys()))\n",
    "\n",
    "H2_g = Species.create_gas(\"H2_g\")\n",
    "H2O_g = Species.create_gas(\"H2O_g\", solubility=solubility_models[\"H2O_peridotite_sossi23\"])\n",
    "O2_g = Species.create_gas(\"O2_g\")\n",
    "\n",
    "species = (H2_g, H2O_g, O2_g)\n",
    "\n",
    "# Batch temperature and radius, where the entries correspond by position. You could also choose\n",
    "# to leave one or both as scalars.\n",
    "# You must specify dtype=np.float_ for surface temperature\n",
    "surface_temperature = np.array([2000, 2000, 1500, 1500] , dtype=np.float_)\n",
    "surface_radius = 6371000.0 * np.array([1.5, 3, 1.5, 3], dtype=np.float_)\n",
    "\n",
    "planet = Planet(surface_temperature=surface_temperature, surface_radius=surface_radius)\n",
    "interior_atmosphere = InteriorAtmosphere(species)\n",
    "\n",
    "oceans = 1\n",
    "h_kg = earth_oceans_to_hydrogen_mass(oceans)\n",
    "o_kg = 6.25774e20\n",
    "scale_factor = 5\n",
    "mass_constraints = {\n",
    "    # We can also batch constraints, as long as we also have a total of 4 entries\n",
    "    \"H\": np.array([h_kg, h_kg, h_kg*scale_factor, h_kg*scale_factor], dtype=np.float_),\n",
    "    \"O\": np.array([o_kg, o_kg*scale_factor, o_kg, o_kg*scale_factor], dtype=np.float_)\n",
    "}\n",
    "\n",
    "# Initial solution guess number density (molecules/m^3)\n",
    "initial_log_number_density = 50 * np.ones(len(species), dtype=np.float_)\n",
    "# Initial solution guess species stability\n",
    "initial_log_stability = -100 * np.ones_like(initial_log_number_density)\n",
    "\n",
    "interior_atmosphere.initialise_solve(\n",
    "    planet=planet,\n",
    "    initial_log_number_density=initial_log_number_density,\n",
    "    initial_log_stability=initial_log_stability,\n",
    "    mass_constraints=mass_constraints,\n",
    ")\n",
    "output = interior_atmosphere.solve()\n",
    "\n",
    "# Quick look at the solution\n",
    "solution = output.quick_look()\n",
    "\n",
    "# Get complete solution as a dictionary\n",
    "solution_asdict = output.asdict()\n",
    "logger.info(solution_asdict)\n",
    "\n",
    "# Write the complete solution to Excel\n",
    "output.to_excel(\"example_batch\")"
   ]
  },
  {
   "cell_type": "markdown",
   "metadata": {},
   "source": [
    "## Atmodeller within a time loop (JIT compilation)\n",
    "\n",
    "For models where you need to dynamically update constraints during the course of a time-integration, atmodeller can be utilised as follows. In essence, the model is pre-compiled using `initialise_solve` and then the compiled function is subsequently called with different arguments, which is fast. Note that the order of the arguments and the size of the arrays must be the same as those used to initialise the model, but of course the values can be different."
   ]
  },
  {
   "cell_type": "code",
   "execution_count": null,
   "metadata": {},
   "outputs": [],
   "source": [
    "# This first part is the initialisation stage and should appear outside of your main time loop\n",
    "\n",
    "solubility_models = get_solubility_models()\n",
    "# Get the available solubility models\n",
    "logger.info(\"solubility models = %s\", pprint.pformat(solubility_models.keys()))\n",
    "\n",
    "H2_g = Species.create_gas(\"H2_g\")\n",
    "H2O_g = Species.create_gas(\"H2O_g\", solubility=solubility_models[\"H2O_peridotite_sossi23\"])\n",
    "O2_g = Species.create_gas(\"O2_g\")\n",
    "\n",
    "species = (H2_g, H2O_g, O2_g)\n",
    "planet = Planet()\n",
    "interior_atmosphere = InteriorAtmosphere(species)\n",
    "\n",
    "oceans = 1\n",
    "h_kg = earth_oceans_to_hydrogen_mass(oceans)\n",
    "o_kg = 6.25774e20\n",
    "mass_constraints = {\n",
    "    \"H\": h_kg,\n",
    "    \"O\": o_kg,\n",
    "}\n",
    "\n",
    "# Initial solution guess number density (molecules/m^3)\n",
    "initial_log_number_density = 50 * np.ones(len(species), dtype=np.float_)\n",
    "# Initial solution guess species stability\n",
    "initial_log_stability = -100 * np.ones_like(initial_log_number_density)\n",
    "\n",
    "# Precompile\n",
    "interior_atmosphere.initialise_solve(\n",
    "    planet=planet,\n",
    "    initial_log_number_density=initial_log_number_density,\n",
    "    initial_log_stability=initial_log_stability,\n",
    "    mass_constraints=mass_constraints,\n",
    ")\n",
    "\n",
    "# This is the time loop, where something changes and you want to resolve using atmodeller\n",
    "for ii in range(1, 10):\n",
    "    # Let's say we update the mass constraints. The number of constraints and the value size must\n",
    "    # remain the same as the initialised model, but you are free to update their values. Here,\n",
    "    # scale by number of earth oceans for the hydrogen mass.\n",
    "    mass_constraints = {\"H\": h_kg*ii, \"O\":o_kg}\n",
    "    # These solves are fast because they use the JAX-compiled code\n",
    "    output = interior_atmosphere.solve(mass_constraints=mass_constraints)\n",
    "\n",
    "    # Quick look at the solution\n",
    "    solution = output.quick_look()\n",
    "\n",
    "    # Get complete solution as a dictionary\n",
    "    # This might be required to get output to feed back into other quantities during the time loop\n",
    "    #solution_asdict = output.asdict()"
   ]
  },
  {
   "cell_type": "markdown",
   "metadata": {},
   "source": [
    "# Monte Carlo\n",
    "\n",
    "Exploring atmospheric compositions in a Monte Carlo model can easily be achieved with a batch \n",
    "calculation over a range of parameters. Note that in this case the same initial solution is used \n",
    "for all cases, which means the range of parameters should not be too large. If you want a larger \n",
    "range it's advisable to run several batches with different initial solutions and then stitch the \n",
    "output together."
   ]
  },
  {
   "cell_type": "code",
   "execution_count": null,
   "metadata": {},
   "outputs": [],
   "source": [
    "solubility_models = get_solubility_models()\n",
    "# Get the available solubility models\n",
    "logger.info(\"solubility models = %s\", pprint.pformat(solubility_models.keys()))\n",
    "\n",
    "H2_g = Species.create_gas(\"H2_g\")\n",
    "H2O_g = Species.create_gas(\"H2O_g\", solubility=solubility_models[\"H2O_peridotite_sossi23\"])\n",
    "O2_g = Species.create_gas(\"O2_g\")\n",
    "\n",
    "species = (H2_g, H2O_g, O2_g)\n",
    "planet = Planet()\n",
    "interior_atmosphere = InteriorAtmosphere(species)\n",
    "\n",
    "number_of_realisations = 1000\n",
    "log10_number_oceans = np.random.uniform(0, 3, number_of_realisations)\n",
    "number_oceans = 10**log10_number_oceans\n",
    "fO2_min = -3\n",
    "fO2_max = 3\n",
    "fO2_log10_shifts = np.random.uniform(fO2_min, fO2_max, number_of_realisations)\n",
    "\n",
    "oceans = 1\n",
    "h_kg = earth_oceans_to_hydrogen_mass(number_oceans)\n",
    "mass_constraints = {\n",
    "    \"H\": h_kg,\n",
    "}\n",
    "fugacity_constraints = {O2_g.name: IronWustiteBuffer(fO2_log10_shifts, 1.0)}\n",
    "\n",
    "# Initial solution guess number density (molecules/m^3)\n",
    "initial_log_number_density = 50 * np.ones(len(species), dtype=np.float_)\n",
    "# Initial solution guess species stability\n",
    "initial_log_stability = -100 * np.ones_like(initial_log_number_density)\n",
    "\n",
    "# Precompile\n",
    "interior_atmosphere.initialise_solve(\n",
    "    planet=planet,\n",
    "    initial_log_number_density=initial_log_number_density,\n",
    "    initial_log_stability=initial_log_stability,\n",
    "    mass_constraints=mass_constraints,\n",
    "    fugacity_constraints=fugacity_constraints\n",
    ")\n",
    "output = interior_atmosphere.solve()\n",
    "\n",
    "# Quick look at the solution\n",
    "solution = output.quick_look()\n",
    "\n",
    "# Get complete solution as a dictionary\n",
    "solution_asdict = output.asdict()\n",
    "logger.info(solution_asdict)\n",
    "\n",
    "# Write the complete solution to Excel\n",
    "output.to_excel(\"example_monte_carlo\")"
   ]
  }
 ],
 "metadata": {
  "kernelspec": {
   "display_name": ".venv",
   "language": "python",
   "name": "python3"
  },
  "language_info": {
   "codemirror_mode": {
    "name": "ipython",
    "version": 3
   },
   "file_extension": ".py",
   "mimetype": "text/x-python",
   "name": "python",
   "nbconvert_exporter": "python",
   "pygments_lexer": "ipython3",
   "version": "3.10.13"
  }
 },
 "nbformat": 4,
 "nbformat_minor": 2
}
