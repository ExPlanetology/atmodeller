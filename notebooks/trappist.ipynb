{
 "cells": [
  {
   "cell_type": "code",
   "execution_count": null,
   "metadata": {},
   "outputs": [],
   "source": [
    "import copy\n",
    "import logging\n",
    "\n",
    "import numpy as np\n",
    "\n",
    "from atmodeller import (\n",
    "    InteriorAtmosphere,\n",
    "    Planet,\n",
    "    Species,\n",
    "    SpeciesCollection,\n",
    "    bulk_silicate_earth_abundances,\n",
    "    debug_logger,\n",
    "    earth_oceans_to_hydrogen_mass,\n",
    ")\n",
    "from atmodeller.solubility import get_solubility_models\n",
    "from atmodeller.thermodata import IronWustiteBuffer\n",
    "\n",
    "logger = debug_logger()\n",
    "logger.setLevel(logging.INFO)\n",
    "# For more output use DEBUG\n",
    "# logger.setLevel(logging.DEBUG)"
   ]
  },
  {
   "cell_type": "markdown",
   "metadata": {},
   "source": [
    "# Trappist 1-e models from Bower et al. (2025)"
   ]
  },
  {
   "cell_type": "markdown",
   "metadata": {},
   "source": [
    "## High temperature atmospheric diversity (gas + C_cr)"
   ]
  },
  {
   "cell_type": "markdown",
   "metadata": {},
   "source": [
    "Parameters for the simulations"
   ]
  },
  {
   "cell_type": "code",
   "execution_count": null,
   "metadata": {},
   "outputs": [],
   "source": [
    "number_of_realisations = 10000\n",
    "surface_temperature = 1800.0  # Must be float\n",
    "mantle_melt_fraction = 0.1  # 0.1\n",
    "\n",
    "# For no particular reason, use 24 as the random seed\n",
    "RANDOM_SEED = 24\n",
    "\n",
    "WRITE_OUTPUT = True"
   ]
  },
  {
   "cell_type": "markdown",
   "metadata": {},
   "source": [
    "Parameter space to probe. Generate once to ensure the same values are used across the high temperature models allowing direct comparison."
   ]
  },
  {
   "cell_type": "code",
   "execution_count": null,
   "metadata": {},
   "outputs": [],
   "source": [
    "np.random.seed(RANDOM_SEED)\n",
    "log10_number_oceans = np.random.uniform(-1, 1, number_of_realisations)\n",
    "log10_ch_ratios = np.random.uniform(-1, 1, number_of_realisations)\n",
    "fO2_log10_shifts = np.random.uniform(-5, 5, number_of_realisations)\n",
    "\n",
    "h_kg = earth_oceans_to_hydrogen_mass(10**log10_number_oceans)\n",
    "c_kg = h_kg * 10**log10_ch_ratios\n",
    "\n",
    "trappist1e_mantle_mass = 2.912e24\n",
    "trappist1e_planet_mass = trappist1e_mantle_mass / (1 - 0.295334691460966)\n",
    "trappist1e_surface_radius = 5.861e6\n",
    "\n",
    "fugacity_constraints = {\"O2_g\": IronWustiteBuffer(fO2_log10_shifts)}"
   ]
  },
  {
   "cell_type": "markdown",
   "metadata": {},
   "source": [
    "Species that we need"
   ]
  },
  {
   "cell_type": "code",
   "execution_count": null,
   "metadata": {},
   "outputs": [],
   "source": [
    "H2O_g = Species.create_gas(\"H2O_g\")\n",
    "H2_g = Species.create_gas(\"H2_g\")\n",
    "O2_g = Species.create_gas(\"O2_g\")\n",
    "CO_g = Species.create_gas(\"CO_g\")\n",
    "CO2_g = Species.create_gas(\"CO2_g\")\n",
    "CH4_g = Species.create_gas(\"CH4_g\")\n",
    "N2_g = Species.create_gas(\"N2_g\")\n",
    "NH3_g = Species.create_gas(\"NH3_g\")\n",
    "S2_g = Species.create_gas(\"S2_g\")\n",
    "H2S_g = Species.create_gas(\"H2S_g\")\n",
    "SO2_g = Species.create_gas(\"SO2_g\")\n",
    "SO_g = Species.create_gas(\"SO_g\")\n",
    "Cl2_g = Species.create_gas(\"Cl2_g\")\n",
    "# Graphite can also be present in high temperature atmospheres\n",
    "C_cr = Species.create_condensed(\"C_cr\")\n",
    "# Condensates below are used for cool atmosphere cases\n",
    "H2O_l = Species.create_condensed(\"H2O_l\")\n",
    "S_cr = Species.create_condensed(\"S_cr\")"
   ]
  },
  {
   "cell_type": "markdown",
   "metadata": {},
   "source": [
    "Species to consider, where solubility is not included"
   ]
  },
  {
   "cell_type": "code",
   "execution_count": null,
   "metadata": {},
   "outputs": [],
   "source": [
    "species = SpeciesCollection(\n",
    "    (\n",
    "        H2_g,\n",
    "        H2O_g,\n",
    "        O2_g,\n",
    "        CO_g,\n",
    "        CO2_g,\n",
    "        CH4_g,\n",
    "        N2_g,\n",
    "        NH3_g,\n",
    "        S2_g,\n",
    "        H2S_g,\n",
    "        SO2_g,\n",
    "        SO_g,\n",
    "        Cl2_g,\n",
    "        C_cr,\n",
    "    )\n",
    ")"
   ]
  },
  {
   "cell_type": "markdown",
   "metadata": {},
   "source": [
    "TRAPPIST-1e planet properties\n",
    "\n",
    "Mass and radius measurements from Agol et al. 2021; Mantle mass determined assuming same proportion as Earth"
   ]
  },
  {
   "cell_type": "code",
   "execution_count": null,
   "metadata": {},
   "outputs": [],
   "source": [
    "trappist1e_1800K = Planet(\n",
    "    surface_temperature=surface_temperature,\n",
    "    planet_mass=trappist1e_planet_mass,\n",
    "    surface_radius=trappist1e_surface_radius,\n",
    "    mantle_melt_fraction=mantle_melt_fraction,\n",
    ")"
   ]
  },
  {
   "cell_type": "markdown",
   "metadata": {},
   "source": [
    "Earth planet properties, which are required to scale the bulk volatile inventories for Trappist-1e. Default parameters are Earth so we only need to specify the temperature."
   ]
  },
  {
   "cell_type": "code",
   "execution_count": null,
   "metadata": {},
   "outputs": [],
   "source": [
    "earth = Planet(surface_temperature=surface_temperature)"
   ]
  },
  {
   "cell_type": "code",
   "execution_count": null,
   "metadata": {},
   "outputs": [],
   "source": [
    "earth_bse = bulk_silicate_earth_abundances()"
   ]
  },
  {
   "cell_type": "markdown",
   "metadata": {},
   "source": [
    "Compute the reservoir sizes for TRAPPIST 1-e, assuming the same ppmw as Earth:"
   ]
  },
  {
   "cell_type": "code",
   "execution_count": null,
   "metadata": {},
   "outputs": [],
   "source": [
    "trappist1e_bse = copy.deepcopy(earth_bse)\n",
    "mass_scale_factor = trappist1e_1800K.mantle_mass / earth.mantle_mass\n",
    "\n",
    "for element, values in trappist1e_bse.items():\n",
    "    trappist1e_bse[element] = {key: value * mass_scale_factor for key, value in values.items()}  # type:ignore\n",
    "\n",
    "trappist1e_bse"
   ]
  },
  {
   "cell_type": "code",
   "execution_count": null,
   "metadata": {},
   "outputs": [],
   "source": [
    "interior_atmosphere_nosol = InteriorAtmosphere(species, mass_logarithmic_error=False)\n",
    "\n",
    "mass_constraints = {\n",
    "    \"H\": h_kg,\n",
    "    \"C\": c_kg,\n",
    "    \"N\": trappist1e_bse[\"N\"][\"mean\"],\n",
    "    \"S\": trappist1e_bse[\"S\"][\"mean\"],\n",
    "    \"Cl\": trappist1e_bse[\"Cl\"][\"mean\"],\n",
    "}\n",
    "\n",
    "interior_atmosphere_nosol.solve(\n",
    "    planet=trappist1e_1800K,\n",
    "    mass_constraints=mass_constraints,\n",
    "    fugacity_constraints=fugacity_constraints,\n",
    ")\n",
    "output_nosol = interior_atmosphere_nosol.output\n",
    "\n",
    "# Quick look at the solution\n",
    "# solution = output_nosol.quick_look()\n",
    "\n",
    "# Get complete solution as a dictionary\n",
    "# solution_asdict = output.asdict()\n",
    "# logger.info(solution_asdict)\n",
    "\n",
    "if WRITE_OUTPUT:\n",
    "    # Write the complete solution to Excel\n",
    "    output_nosol.to_excel(\"t1e_1800K_nosol_C\")\n",
    "\n",
    "    # Write the data to a pickle file with dataframes\n",
    "    output_nosol.to_pickle(\"t1e_1800K_nosol_C\")"
   ]
  },
  {
   "cell_type": "markdown",
   "metadata": {},
   "source": [
    "Cases with solubility"
   ]
  },
  {
   "cell_type": "code",
   "execution_count": null,
   "metadata": {},
   "outputs": [],
   "source": [
    "solubility_models = get_solubility_models()"
   ]
  },
  {
   "cell_type": "code",
   "execution_count": null,
   "metadata": {},
   "outputs": [],
   "source": [
    "H2O_g = Species.create_gas(\"H2O_g\", solubility=solubility_models[\"H2O_basalt_dixon95\"])\n",
    "H2_g = Species.create_gas(\"H2_g\", solubility=solubility_models[\"H2_basalt_hirschmann12\"])\n",
    "O2_g = Species.create_gas(\"O2_g\")\n",
    "CO_g = Species.create_gas(\"CO_g\", solubility=solubility_models[\"CO_basalt_yoshioka19\"])\n",
    "CO2_g = Species.create_gas(\"CO2_g\", solubility=solubility_models[\"CO2_basalt_dixon95\"])\n",
    "CH4_g = Species.create_gas(\"CH4_g\", solubility=solubility_models[\"CH4_basalt_ardia13\"])\n",
    "N2_g = Species.create_gas(\"N2_g\", solubility=solubility_models[\"N2_basalt_libourel03\"])\n",
    "NH3_g = Species.create_gas(\"NH3_g\")\n",
    "S2_g = Species.create_gas(\"S2_g\", solubility=solubility_models[\"S2_basalt_boulliung23\"])\n",
    "H2S_g = Species.create_gas(\"H2S_g\")\n",
    "SO2_g = Species.create_gas(\"SO2_g\")\n",
    "SO_g = Species.create_gas(\"SO_g\")\n",
    "Cl2_g = Species.create_gas(\"Cl2_g\", solubility=solubility_models[\"Cl2_basalt_thomas21\"])\n",
    "C_cr = Species.create_condensed(\"C_cr\")\n",
    "\n",
    "species = SpeciesCollection(\n",
    "    (\n",
    "        H2_g,\n",
    "        H2O_g,\n",
    "        O2_g,\n",
    "        CO_g,\n",
    "        CO2_g,\n",
    "        CH4_g,\n",
    "        N2_g,\n",
    "        NH3_g,\n",
    "        S2_g,\n",
    "        H2S_g,\n",
    "        SO2_g,\n",
    "        SO_g,\n",
    "        Cl2_g,\n",
    "        C_cr,\n",
    "    )\n",
    ")"
   ]
  },
  {
   "cell_type": "code",
   "execution_count": null,
   "metadata": {},
   "outputs": [],
   "source": [
    "interior_atmosphere_withsol = InteriorAtmosphere(species)\n",
    "\n",
    "mass_constraints = {\n",
    "    \"H\": h_kg,\n",
    "    \"C\": c_kg,\n",
    "    \"N\": trappist1e_bse[\"N\"][\"mean\"],\n",
    "    \"S\": trappist1e_bse[\"S\"][\"mean\"],\n",
    "    \"Cl\": trappist1e_bse[\"Cl\"][\"mean\"],\n",
    "}\n",
    "\n",
    "interior_atmosphere_withsol.solve(\n",
    "    planet=trappist1e_1800K,\n",
    "    mass_constraints=mass_constraints,\n",
    "    fugacity_constraints=fugacity_constraints,\n",
    ")\n",
    "output_withsol = interior_atmosphere_withsol.output\n",
    "\n",
    "# Quick look at the solution\n",
    "# solution = output.quick_look()\n",
    "\n",
    "# Get complete solution as a dictionary\n",
    "# solution_asdict = output.asdict()\n",
    "# logger.info(solution_asdict)\n",
    "\n",
    "if WRITE_OUTPUT:\n",
    "    # Write the complete solution to Excel\n",
    "    output_withsol.to_excel(\"t1e_1800K_withsol_C\")\n",
    "\n",
    "    # Write the data to a pickle file with dataframes\n",
    "    output_withsol.to_pickle(\"t1e_1800K_withsol_C\")"
   ]
  },
  {
   "cell_type": "markdown",
   "metadata": {},
   "source": [
    "# Cool high temperature atmospheres (gas + C_cr)"
   ]
  },
  {
   "cell_type": "code",
   "execution_count": null,
   "metadata": {},
   "outputs": [],
   "source": [
    "final_surface_temperature = 280.0  # Must be a float\n",
    "water_condensation = 600.0  # First thermo data for H2O(l)\n",
    "sulfur_freezing = 380.0  # 388.36  # First thermo data for S(cr)"
   ]
  },
  {
   "cell_type": "code",
   "execution_count": null,
   "metadata": {},
   "outputs": [],
   "source": [
    "interior_atmosphere_280K = InteriorAtmosphere(species)\n",
    "\n",
    "trappist1e_280K = Planet(\n",
    "    surface_temperature=final_surface_temperature,\n",
    "    planet_mass=trappist1e_planet_mass,\n",
    "    surface_radius=trappist1e_surface_radius,\n",
    "    mantle_melt_fraction=0.0,  # Always zero because the planet is solidified\n",
    ")\n",
    "\n",
    "withsol_dict = output_withsol.asdict()\n",
    "\n",
    "# Create a dictionary with the series\n",
    "mass_constraints = {\n",
    "    \"H\": withsol_dict[\"element_H\"][\"atmosphere_mass\"],\n",
    "    \"S\": withsol_dict[\"element_S\"][\"atmosphere_mass\"],\n",
    "    \"N\": withsol_dict[\"element_N\"][\"atmosphere_mass\"],\n",
    "    \"O\": withsol_dict[\"element_O\"][\"atmosphere_mass\"],\n",
    "    # For C, we need to add the condensed mass to the atmosphere mass since the assumption is that\n",
    "    # they remain in equilibrium\n",
    "    \"C\": withsol_dict[\"element_C\"][\"atmosphere_mass\"]\n",
    "    + withsol_dict[\"element_C\"][\"condensed_mass\"],\n",
    "    \"Cl\": withsol_dict[\"element_Cl\"][\"atmosphere_mass\"],\n",
    "}\n",
    "\n",
    "interior_atmosphere_280K.solve(\n",
    "    planet=trappist1e_280K,\n",
    "    mass_constraints=mass_constraints,\n",
    ")\n",
    "output_280K = interior_atmosphere_280K.output\n",
    "\n",
    "if WRITE_OUTPUT:\n",
    "    # Write the complete solution to Excel\n",
    "    output_280K.to_excel(\"t1e_280K_gas_C\")\n",
    "\n",
    "    # Write the data to a pickle file with dataframes\n",
    "    output_280K.to_pickle(\"t1e_280K_gas_C\")"
   ]
  },
  {
   "cell_type": "markdown",
   "metadata": {},
   "source": [
    "## Cool atmospheres with condensates (gas + C_cr + H2O_l + S_cr)"
   ]
  },
  {
   "cell_type": "code",
   "execution_count": null,
   "metadata": {},
   "outputs": [],
   "source": [
    "species = SpeciesCollection(\n",
    "    (\n",
    "        H2_g,\n",
    "        H2O_g,\n",
    "        O2_g,\n",
    "        CO_g,\n",
    "        CO2_g,\n",
    "        CH4_g,\n",
    "        N2_g,\n",
    "        NH3_g,\n",
    "        S2_g,\n",
    "        H2S_g,\n",
    "        SO2_g,\n",
    "        SO_g,\n",
    "        Cl2_g,\n",
    "        C_cr,\n",
    "        H2O_l,\n",
    "        S_cr,\n",
    "    )\n",
    ")\n",
    "\n",
    "interior_atmosphere_280K_with_condensates = InteriorAtmosphere(species)\n",
    "\n",
    "trappist1e_280K_with_condensates = Planet(\n",
    "    surface_temperature=final_surface_temperature,\n",
    "    planet_mass=trappist1e_planet_mass,\n",
    "    surface_radius=trappist1e_surface_radius,\n",
    "    mantle_melt_fraction=0.0,  # Always zero because the planet is solidified\n",
    ")\n",
    "\n",
    "output_280K_dict = output_280K.asdict()\n",
    "\n",
    "# Create a dictionary with the series\n",
    "mass_constraints = {\n",
    "    \"H\": output_280K_dict[\"element_H\"][\"total_mass\"],\n",
    "    \"S\": output_280K_dict[\"element_S\"][\"total_mass\"],\n",
    "    \"N\": output_280K_dict[\"element_N\"][\"total_mass\"],\n",
    "    \"O\": output_280K_dict[\"element_O\"][\"total_mass\"],\n",
    "    \"C\": output_280K_dict[\"element_C\"][\"total_mass\"],\n",
    "    \"Cl\": output_280K_dict[\"element_Cl\"][\"total_mass\"],\n",
    "}\n",
    "\n",
    "interior_atmosphere_280K_with_condensates.solve(\n",
    "    planet=trappist1e_280K,\n",
    "    mass_constraints=mass_constraints,\n",
    ")\n",
    "output_280K_with_condensates = interior_atmosphere_280K_with_condensates.output\n",
    "\n",
    "if WRITE_OUTPUT:\n",
    "    # Write the complete solution to Excel\n",
    "    output_280K_with_condensates.to_excel(\"t1e_280K_with_condensates\")\n",
    "\n",
    "    # Write the data to a pickle file with dataframes\n",
    "    output_280K_with_condensates.to_pickle(\"t1e_280K_with_condensates\")"
   ]
  }
 ],
 "metadata": {
  "kernelspec": {
   "display_name": ".venv",
   "language": "python",
   "name": "python3"
  },
  "language_info": {
   "codemirror_mode": {
    "name": "ipython",
    "version": 3
   },
   "file_extension": ".py",
   "mimetype": "text/x-python",
   "name": "python",
   "nbconvert_exporter": "python",
   "pygments_lexer": "ipython3",
   "version": "3.10.13"
  }
 },
 "nbformat": 4,
 "nbformat_minor": 2
}
