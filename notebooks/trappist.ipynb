{
 "cells": [
  {
   "cell_type": "markdown",
   "metadata": {},
   "source": [
    "# Trappist 1-e models from Bower et al. (2025)"
   ]
  },
  {
   "cell_type": "code",
   "execution_count": null,
   "metadata": {},
   "outputs": [],
   "source": [
    "from atmodeller import Species, InteriorAtmosphere, Planet, earth_oceans_to_hydrogen_mass\n",
    "from atmodeller import debug_logger, bulk_silicate_earth_abundances, SolverParameters\n",
    "from atmodeller.solubility import get_solubility_models\n",
    "from atmodeller.thermodata import IronWustiteBuffer\n",
    "import optimistix as optx\n",
    "import logging\n",
    "import numpy as np\n",
    "import copy\n",
    "\n",
    "np.random.seed(0)\n",
    "\n",
    "logger = debug_logger()\n",
    "logger.setLevel(logging.INFO)\n",
    "# For more output use DEBUG\n",
    "# logger.setLevel(logging.DEBUG)"
   ]
  },
  {
   "cell_type": "markdown",
   "metadata": {},
   "source": [
    "## High temperature atmospheric diversity"
   ]
  },
  {
   "cell_type": "markdown",
   "metadata": {},
   "source": [
    "Parameters for the simulations"
   ]
  },
  {
   "cell_type": "code",
   "execution_count": 2,
   "metadata": {},
   "outputs": [],
   "source": [
    "number_of_realisations = 10000\n",
    "surface_temperature = 1800.0  # Must be float\n",
    "mantle_melt_fraction = 1.0"
   ]
  },
  {
   "cell_type": "markdown",
   "metadata": {},
   "source": [
    "Species to consider, where solubility is not included"
   ]
  },
  {
   "cell_type": "code",
   "execution_count": 3,
   "metadata": {},
   "outputs": [],
   "source": [
    "H2O_g = Species.create_gas(\"H2O_g\")\n",
    "H2_g = Species.create_gas(\"H2_g\")\n",
    "O2_g = Species.create_gas(\"O2_g\")\n",
    "CO_g = Species.create_gas(\"CO_g\")\n",
    "CO2_g = Species.create_gas(\"CO2_g\")\n",
    "CH4_g = Species.create_gas(\"CH4_g\")\n",
    "N2_g = Species.create_gas(\"N2_g\")\n",
    "NH3_g = Species.create_gas(\"NH3_g\")\n",
    "S2_g = Species.create_gas(\"S2_g\")\n",
    "H2S_g = Species.create_gas(\"H2S_g\")\n",
    "SO2_g = Species.create_gas(\"SO2_g\")\n",
    "SO_g = Species.create_gas(\"SO_g\")\n",
    "Cl2_g = Species.create_gas(\"Cl2_g\")\n",
    "\n",
    "species = (H2_g, H2O_g, O2_g, CO_g, CO2_g, CH4_g, N2_g, NH3_g, S2_g, H2S_g, SO2_g, SO_g, Cl2_g)"
   ]
  },
  {
   "cell_type": "markdown",
   "metadata": {},
   "source": [
    "TRAPPIST-1e planet properties\n",
    "\n",
    "Mass and radius measurements from Agol et al. 2021; Mantle mass determined assuming same proportion as Earth"
   ]
  },
  {
   "cell_type": "code",
   "execution_count": 4,
   "metadata": {},
   "outputs": [],
   "source": [
    "mantle_mass = 2.912e24\n",
    "planet_mass = mantle_mass / (1 - 0.295334691460966)\n",
    "trappist1e = Planet(\n",
    "    surface_temperature=surface_temperature,\n",
    "    planet_mass=planet_mass,\n",
    "    surface_radius=5.861e6,\n",
    "    mantle_melt_fraction=mantle_melt_fraction,\n",
    ")"
   ]
  },
  {
   "cell_type": "markdown",
   "metadata": {},
   "source": [
    "Earth planet properties, which are required to scale the bulk volatile inventories for Trappist-1e. Default parameters are Earth so we only need to specify the temperature."
   ]
  },
  {
   "cell_type": "code",
   "execution_count": 5,
   "metadata": {},
   "outputs": [],
   "source": [
    "earth = Planet(surface_temperature=surface_temperature)"
   ]
  },
  {
   "cell_type": "code",
   "execution_count": 6,
   "metadata": {},
   "outputs": [],
   "source": [
    "earth_bse = bulk_silicate_earth_abundances()"
   ]
  },
  {
   "cell_type": "markdown",
   "metadata": {},
   "source": [
    "Compute the reservoir sizes for TRAPPIST 1-e, assuming the same ppmw as Earth:"
   ]
  },
  {
   "cell_type": "code",
   "execution_count": null,
   "metadata": {},
   "outputs": [],
   "source": [
    "trappist1e_bse = copy.deepcopy(earth_bse)\n",
    "mass_scale_factor = trappist1e.mantle_mass / earth.mantle_mass\n",
    "\n",
    "for element, values in trappist1e_bse.items():\n",
    "    trappist1e_bse[element] = {key: value * mass_scale_factor for key, value in values.items()}\n",
    "\n",
    "trappist1e_bse"
   ]
  },
  {
   "cell_type": "code",
   "execution_count": null,
   "metadata": {},
   "outputs": [],
   "source": [
    "interior_atmosphere_nosol = InteriorAtmosphere(species)\n",
    "\n",
    "# Log uniform sampling\n",
    "log10_number_oceans = np.random.uniform(-1, 1, number_of_realisations)\n",
    "log10_ch_ratios = np.random.uniform(-1, 1, number_of_realisations)\n",
    "fO2_log10_shifts = np.random.uniform(-5, 5, number_of_realisations)\n",
    "\n",
    "h_kg = earth_oceans_to_hydrogen_mass(10**log10_number_oceans)\n",
    "mass_constraints = {\n",
    "    \"H\": h_kg,\n",
    "    \"C\": h_kg * 10**log10_ch_ratios,\n",
    "    \"N\": trappist1e_bse[\"N\"][\"mean\"],\n",
    "    \"S\": trappist1e_bse[\"S\"][\"mean\"],\n",
    "    \"Cl\": trappist1e_bse[\"Cl\"][\"mean\"],\n",
    "}\n",
    "fugacity_constraints = {O2_g.name: IronWustiteBuffer(fO2_log10_shifts)}\n",
    "\n",
    "# Initial solution guess number density (molecules/m^3)\n",
    "# In practice, I run a smaller model to get a sense of the average number densities, and then tweak\n",
    "# these estimates accordingly.\n",
    "initial_log_number_density = 55 * np.ones(len(species), dtype=np.float_)\n",
    "# fO2 will benefit from a smaller initial estimate\n",
    "initial_log_number_density[2] = 35.0\n",
    "# Initial solution guess species stability\n",
    "initial_log_stability = -135 * np.ones_like(initial_log_number_density)\n",
    "\n",
    "# Precompile\n",
    "interior_atmosphere_nosol.initialise_solve(\n",
    "    planet=trappist1e,\n",
    "    initial_log_number_density=initial_log_number_density,\n",
    "    initial_log_stability=initial_log_stability,\n",
    "    mass_constraints=mass_constraints,\n",
    "    fugacity_constraints=fugacity_constraints,\n",
    ")\n",
    "\n",
    "output_nosol = interior_atmosphere_nosol.solve()\n",
    "\n",
    "# Quick look at the solution\n",
    "# solution = output.quick_look()\n",
    "\n",
    "# Get complete solution as a dictionary\n",
    "# solution_asdict = output.asdict()\n",
    "# logger.info(solution_asdict)\n",
    "\n",
    "# Write the complete solution to Excel\n",
    "output_nosol.to_excel(\"t1e_highT_nosol\")\n",
    "\n",
    "# Write the data to a pickle file with dataframes\n",
    "output_nosol.to_pickle(\"t1e_highT_nosol\")"
   ]
  },
  {
   "cell_type": "markdown",
   "metadata": {},
   "source": [
    "Cases with solubility"
   ]
  },
  {
   "cell_type": "code",
   "execution_count": 9,
   "metadata": {},
   "outputs": [],
   "source": [
    "solubility_models = get_solubility_models()"
   ]
  },
  {
   "cell_type": "code",
   "execution_count": 10,
   "metadata": {},
   "outputs": [],
   "source": [
    "H2O_g = Species.create_gas(\"H2O_g\", solubility=solubility_models[\"H2O_basalt_dixon95\"])\n",
    "H2_g = Species.create_gas(\"H2_g\", solubility=solubility_models[\"H2_basalt_hirschmann12\"])\n",
    "O2_g = Species.create_gas(\"O2_g\")\n",
    "CO_g = Species.create_gas(\"CO_g\", solubility=solubility_models[\"CO_basalt_yoshioka19\"])\n",
    "CO2_g = Species.create_gas(\"CO2_g\", solubility=solubility_models[\"CO2_basalt_dixon95\"])\n",
    "CH4_g = Species.create_gas(\"CH4_g\", solubility=solubility_models[\"CH4_basalt_ardia13\"])\n",
    "N2_g = Species.create_gas(\"N2_g\", solubility=solubility_models[\"N2_basalt_libourel03\"])\n",
    "NH3_g = Species.create_gas(\"NH3_g\")\n",
    "S2_g = Species.create_gas(\"S2_g\", solubility=solubility_models[\"S2_basalt_boulliung23\"])\n",
    "H2S_g = Species.create_gas(\"H2S_g\")\n",
    "SO2_g = Species.create_gas(\"SO2_g\")\n",
    "SO_g = Species.create_gas(\"SO_g\")\n",
    "Cl2_g = Species.create_gas(\"Cl2_g\", solubility=solubility_models[\"Cl2_basalt_thomas21\"])\n",
    "\n",
    "species = (H2_g, H2O_g, O2_g, CO_g, CO2_g, CH4_g, N2_g, NH3_g, S2_g, H2S_g, SO2_g, SO_g, Cl2_g)"
   ]
  },
  {
   "cell_type": "code",
   "execution_count": null,
   "metadata": {},
   "outputs": [],
   "source": [
    "interior_atmosphere_withsol = InteriorAtmosphere(species)\n",
    "\n",
    "# Log uniform sampling\n",
    "log10_number_oceans = np.random.uniform(-1, 1, number_of_realisations)\n",
    "log10_ch_ratios = np.random.uniform(-1, 1, number_of_realisations)\n",
    "fO2_log10_shifts = np.random.uniform(-5, 5, number_of_realisations)\n",
    "\n",
    "h_kg = earth_oceans_to_hydrogen_mass(10**log10_number_oceans)\n",
    "mass_constraints = {\n",
    "    \"H\": h_kg,\n",
    "    \"C\": h_kg * 10**log10_ch_ratios,\n",
    "    \"N\": trappist1e_bse[\"N\"][\"mean\"],\n",
    "    \"S\": trappist1e_bse[\"S\"][\"mean\"],\n",
    "    \"Cl\": trappist1e_bse[\"Cl\"][\"mean\"],\n",
    "}\n",
    "fugacity_constraints = {O2_g.name: IronWustiteBuffer(fO2_log10_shifts)}\n",
    "\n",
    "# Initial solution guess number density (molecules/m^3)\n",
    "# In practice, I run a smaller model to get a sense of the average number densities, and then tweak\n",
    "# these estimates accordingly.\n",
    "initial_log_number_density = 55 * np.ones(len(species), dtype=np.float_)\n",
    "# fO2 will benefit from a smaller initial estimate\n",
    "initial_log_number_density[2] = 35.0\n",
    "# Initial solution guess species stability\n",
    "initial_log_stability = -135 * np.ones_like(initial_log_number_density)\n",
    "\n",
    "# Precompile\n",
    "interior_atmosphere_withsol.initialise_solve(\n",
    "    planet=trappist1e,\n",
    "    initial_log_number_density=initial_log_number_density,\n",
    "    initial_log_stability=initial_log_stability,\n",
    "    mass_constraints=mass_constraints,\n",
    "    fugacity_constraints=fugacity_constraints,\n",
    ")\n",
    "\n",
    "output_withsol = interior_atmosphere_withsol.solve()\n",
    "\n",
    "# Quick look at the solution\n",
    "# solution = output.quick_look()\n",
    "\n",
    "# Get complete solution as a dictionary\n",
    "# solution_asdict = output.asdict()\n",
    "# logger.info(solution_asdict)\n",
    "\n",
    "# Write the complete solution to Excel\n",
    "output_withsol.to_excel(\"t1e_highT_withsol\")\n",
    "\n",
    "# Write the data to a pickle file with dataframes\n",
    "output_withsol.to_pickle(\"t1e_highT_withsol\")"
   ]
  },
  {
   "cell_type": "markdown",
   "metadata": {},
   "source": [
    "# Cool high temperature atmospheres"
   ]
  },
  {
   "cell_type": "markdown",
   "metadata": {},
   "source": [
    "Parameters for the simulations"
   ]
  },
  {
   "cell_type": "code",
   "execution_count": 12,
   "metadata": {},
   "outputs": [],
   "source": [
    "cool_surface_temperature = 280.0  # Must be a float"
   ]
  },
  {
   "cell_type": "code",
   "execution_count": 13,
   "metadata": {},
   "outputs": [],
   "source": [
    "H2O_g = Species.create_gas(\"H2O_g\")\n",
    "H2_g = Species.create_gas(\"H2_g\")\n",
    "O2_g = Species.create_gas(\"O2_g\")\n",
    "CO_g = Species.create_gas(\"CO_g\")\n",
    "CO2_g = Species.create_gas(\"CO2_g\")\n",
    "CH4_g = Species.create_gas(\"CH4_g\")\n",
    "N2_g = Species.create_gas(\"N2_g\")\n",
    "NH3_g = Species.create_gas(\"NH3_g\")\n",
    "S2_g = Species.create_gas(\"S2_g\")\n",
    "H2S_g = Species.create_gas(\"H2S_g\")\n",
    "SO2_g = Species.create_gas(\"SO2_g\")\n",
    "SO_g = Species.create_gas(\"SO_g\")\n",
    "# Cl is very low abundance in the atmosphere so exclude\n",
    "# Cl2_g = Species.create_gas(\"Cl2_g\")\n",
    "H2O_l = Species.create_condensed(\"H2O_l\")\n",
    "C_cr = Species.create_condensed(\"C_cr\")\n",
    "S_alpha = Species.create_condensed(\"S_alpha\")\n",
    "# No thermodata below 368.3 K\n",
    "# S_beta = Species.create_condensed(\"S_beta\")\n",
    "# No thermodata below 388.36 K\n",
    "# S_l = Species.create_condensed(\"S_l\")\n",
    "\n",
    "species = (\n",
    "    H2_g,\n",
    "    H2O_g,\n",
    "    O2_g,\n",
    "    CO_g,\n",
    "    CO2_g,\n",
    "    CH4_g,\n",
    "    N2_g,\n",
    "    NH3_g,\n",
    "    S2_g,\n",
    "    H2S_g,\n",
    "    SO2_g,\n",
    "    SO_g,  # Cl2_g,\n",
    "    H2O_l,\n",
    "    C_cr,\n",
    "    S_alpha,\n",
    ")  # , S_beta, S_l)"
   ]
  },
  {
   "cell_type": "code",
   "execution_count": 14,
   "metadata": {},
   "outputs": [],
   "source": [
    "solver_parameters = SolverParameters.create(species, optx.Newton, atol=1.0e-8, rtol=1.0e-8)"
   ]
  },
  {
   "cell_type": "markdown",
   "metadata": {},
   "source": [
    "Get the atmospheric element abundances from the model with solubilities"
   ]
  },
  {
   "cell_type": "code",
   "execution_count": null,
   "metadata": {},
   "outputs": [],
   "source": [
    "interior_atmosphere_cool = InteriorAtmosphere(species)\n",
    "\n",
    "trappist1e = Planet(\n",
    "    surface_temperature=cool_surface_temperature,\n",
    "    planet_mass=planet_mass,\n",
    "    surface_radius=5.861e6,\n",
    "    mantle_melt_fraction=0.0,  # Always zero because the planet is solidified\n",
    ")\n",
    "\n",
    "withsol_dict = output_withsol.asdict()\n",
    "\n",
    "# Create a dictionary with the series. Only the CHON constraints are uncommented\n",
    "mass_constraints = {\n",
    "    \"H\": withsol_dict[\"element_H\"][\"atmosphere_mass\"],\n",
    "    \"S\": withsol_dict[\"element_S\"][\"atmosphere_mass\"],\n",
    "    \"N\": withsol_dict[\"element_N\"][\"atmosphere_mass\"],\n",
    "    # \"O\": withsol_dict[\"element_O\"][\"atmosphere_mass\"],\n",
    "    \"C\": withsol_dict[\"element_C\"][\"atmosphere_mass\"],\n",
    "    # \"Cl\": withsol_dict[\"element_Cl\"][\"atmosphere_mass\"]\n",
    "}\n",
    "\n",
    "# Initial solution guess number density (molecules/m^3)\n",
    "# In practice, I run a smaller model to get a sense of the average number densities, and then tweak\n",
    "# these estimates accordingly.\n",
    "initial_log_number_density = 50 * np.ones(len(species), dtype=np.float_)\n",
    "# initial_log_number_density[7] = 20\n",
    "# initial_log_number_density[9] = 20\n",
    "# initial_log_number_density[10] = 20\n",
    "# Initial solution guess species stability\n",
    "# A large negative initial guess appears to help the solver.\n",
    "initial_log_stability = -140 * np.ones_like(initial_log_number_density)\n",
    "\n",
    "# Precompile\n",
    "interior_atmosphere_cool.initialise_solve(\n",
    "    planet=trappist1e,\n",
    "    initial_log_number_density=initial_log_number_density,\n",
    "    initial_log_stability=initial_log_stability,\n",
    "    mass_constraints=mass_constraints,\n",
    "    solver_parameters=solver_parameters,\n",
    ")\n",
    "\n",
    "output_cool = interior_atmosphere_cool.solve()\n",
    "\n",
    "# Write the complete solution to Excel\n",
    "output_cool.to_excel(\"t1e_coolT\")\n",
    "\n",
    "# Write the data to a pickle file with dataframes\n",
    "output_cool.to_pickle(\"t1e_coolT\")"
   ]
  }
 ],
 "metadata": {
  "kernelspec": {
   "display_name": ".venv",
   "language": "python",
   "name": "python3"
  },
  "language_info": {
   "codemirror_mode": {
    "name": "ipython",
    "version": 3
   },
   "file_extension": ".py",
   "mimetype": "text/x-python",
   "name": "python",
   "nbconvert_exporter": "python",
   "pygments_lexer": "ipython3",
   "version": "3.10.13"
  }
 },
 "nbformat": 4,
 "nbformat_minor": 2
}
